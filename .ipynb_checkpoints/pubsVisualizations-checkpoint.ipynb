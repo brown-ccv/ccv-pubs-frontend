{
 "cells": [
  {
   "cell_type": "code",
   "execution_count": 1,
   "metadata": {},
   "outputs": [
    {
     "data": {
      "text/html": [
       "<script>\n",
       "// Immediately-invoked-function-expression to avoid global variables.\n",
       "(function() {\n",
       "    var warning_div = document.getElementById(\"webio-warning-1174089205638473775\");\n",
       "    var hide = function () {\n",
       "        var script = document.getElementById(\"webio-setup-10909338116274042034\");\n",
       "        var parent = script && script.parentElement;\n",
       "        var grandparent = parent && parent.parentElement;\n",
       "        if (grandparent) {\n",
       "            grandparent.style.display = \"none\";\n",
       "        }\n",
       "        warning_div.style.display = \"none\";\n",
       "    };\n",
       "    if (typeof Jupyter !== \"undefined\") {\n",
       "        console.log(\"WebIO detected Jupyter notebook environment.\");\n",
       "        // Jupyter notebook.\n",
       "        var extensions = (\n",
       "            Jupyter\n",
       "            && Jupyter.notebook.config.data\n",
       "            && Jupyter.notebook.config.data.load_extensions\n",
       "        );\n",
       "        if (extensions && extensions[\"webio/main\"]) {\n",
       "            // Extension already loaded.\n",
       "            console.log(\"Jupyter WebIO nbextension detected; not loading ad-hoc.\");\n",
       "            hide();\n",
       "            return;\n",
       "        }\n",
       "        console.warn(\"Loading WebIO Jupyter extension on an ad-hoc basis. Consider enabling the WebIO nbextension for a stabler experience (this should happen automatically when building WebIO).\");\n",
       "        warning_div.innerHTML = \"<strong>Loading WebIO Jupyter extension on an ad-hoc basis. Consider enabling the WebIO nbextension for a stabler experience (this should happen automatically when building WebIO).</strong>\";\n",
       "    } else if (window.location.pathname.includes(\"/lab\")) {\n",
       "        // Guessing JupyterLa\n",
       "        console.log(\"Jupyter Lab detected; make sure the @webio/jupyter-lab-provider labextension is installed.\");\n",
       "        hide();\n",
       "        return;\n",
       "    }\n",
       "})();\n",
       "\n",
       "</script>\n",
       "<p\n",
       "    id=\"webio-warning-1174089205638473775\"\n",
       "    class=\"output_text output_stderr\"\n",
       "    style=\"padding: 1em; font-weight: bold;\"\n",
       ">\n",
       "    Unable to load WebIO. Please make sure WebIO works for your Jupyter client.\n",
       "    For troubleshooting, please see <a href=\"https://juliagizmos.github.io/WebIO.jl/latest/providers/ijulia/\">\n",
       "    the WebIO/IJulia documentation</a>.\n",
       "    <!-- TODO: link to installation docs. -->\n",
       "</p>\n"
      ],
      "text/plain": [
       "HTML{String}(\"<script>\\n// Immediately-invoked-function-expression to avoid global variables.\\n(function() {\\n    var warning_div = document.getElementById(\\\"webio-warning-1174089205638473775\\\");\\n    var hide = function () {\\n        var script = document.getElementById(\\\"webio-setup-10909338116274042034\\\");\\n        var parent = script && script.parentElement;\\n        var grandparent = parent && parent.parentElement;\\n        if (grandparent) {\\n            grandparent.style.display = \\\"none\\\";\\n        }\\n        warning_div.style.display = \\\"none\\\";\\n    };\\n    if (typeof Jupyter !== \\\"undefined\\\") {\\n        console.log(\\\"WebIO detected Jupyter notebook environment.\\\");\\n        // Jupyter notebook.\\n        var extensions = (\\n            Jupyter\\n            && Jupyter.notebook.config.data\\n            && Jupyter.notebook.config.data.load_extensions\\n        );\\n        if (extensions && extensions[\\\"webio/main\\\"]) {\\n            // Extension already loaded.\\n            console.log(\\\"Jupyter WebIO nbextension detected; not loading ad-hoc.\\\");\\n            hide();\\n            return;\\n        }\\n        console.warn(\\\"Loading WebIO Jupyter extension on an ad-hoc basis. Consider enabling the WebIO nbextension for a stabler experience (this should happen automatically when building WebIO).\\\");\\n        warning_div.innerHTML = \\\"<strong>Loading WebIO Jupyter extension on an ad-hoc basis. Consider enabling the WebIO nbextension for a stabler experience (this should happen automatically when building WebIO).</strong>\\\";\\n    } else if (window.location.pathname.includes(\\\"/lab\\\")) {\\n        // Guessing JupyterLa\\n        console.log(\\\"Jupyter Lab detected; make sure the @webio/jupyter-lab-provider labextension is installed.\\\");\\n        hide();\\n        return;\\n    }\\n})();\\n\\n</script>\\n<p\\n    id=\\\"webio-warning-1174089205638473775\\\"\\n    class=\\\"output_text output_stderr\\\"\\n    style=\\\"padding: 1em; font-weight: bold;\\\"\\n>\\n    Unable to load WebIO. Please make sure WebIO works for your Jupyter client.\\n    For troubleshooting, please see <a href=\\\"https://juliagizmos.github.io/WebIO.jl/latest/providers/ijulia/\\\">\\n    the WebIO/IJulia documentation</a>.\\n    <!-- TODO: link to installation docs. -->\\n</p>\\n\")"
      ]
     },
     "metadata": {},
     "output_type": "display_data"
    }
   ],
   "source": [
    "import Pkg\n",
    "Pkg.activate(pwd())\n",
    "\n",
    "using HTTP\n",
    "using Gumbo\n",
    "using AbstractTrees\n",
    "using Dates\n",
    "using DataFrames\n",
    "using MySQL\n",
    "\n",
    "using VegaLite\n",
    "using DataVoyager\n",
    "using Interact\n",
    "\n",
    "using TextAnalysis\n",
    "using JSON\n",
    "\n",
    "using DotEnv"
   ]
  },
  {
   "cell_type": "code",
   "execution_count": 2,
   "metadata": {},
   "outputs": [
    {
     "data": {
      "text/plain": [
       "MySQL Connection\n",
       "------------\n",
       "Host: pdspracticemydbcit.services.brown.edu\n",
       "Port: 3306\n",
       "User: ccvpubs_api\n",
       "DB:   ccvpubs\n"
      ]
     },
     "execution_count": 2,
     "metadata": {},
     "output_type": "execute_result"
    }
   ],
   "source": [
    "DotEnv.config()\n",
    "opts = Dict(MySQL.API.MYSQL_ENABLE_CLEARTEXT_PLUGIN => 1)\n",
    "user = ENV[\"mysql_user\"]\n",
    "pass = ENV[\"mysql_password\"]\n",
    "conn = MySQL.connect(\"pdspracticemydbcit.services.brown.edu\", user,pass, db = \"ccvpubs\", opts=opts)"
   ]
  },
  {
   "cell_type": "code",
   "execution_count": 3,
   "metadata": {},
   "outputs": [
    {
     "name": "stderr",
     "output_type": "stream",
     "text": [
      "┌ Warning: `MySQL.query(conn, sql, DataFrame)` is deprecated; use `MySQL.query(conn, sql) |> DataFrame(args...)` instead\n",
      "│   caller = ip:0x0\n",
      "└ @ Core :-1\n"
     ]
    },
    {
     "data": {
      "text/html": [
       "<table class=\"data-frame\"><thead><tr><th></th><th>year</th></tr><tr><th></th><th>Int64</th></tr></thead><tbody><p>179 rows × 1 columns</p><tr><th>1</th><td>2017</td></tr><tr><th>2</th><td>2017</td></tr><tr><th>3</th><td>2017</td></tr><tr><th>4</th><td>2017</td></tr><tr><th>5</th><td>2018</td></tr><tr><th>6</th><td>2018</td></tr><tr><th>7</th><td>2017</td></tr><tr><th>8</th><td>2017</td></tr><tr><th>9</th><td>2017</td></tr><tr><th>10</th><td>2017</td></tr><tr><th>11</th><td>2017</td></tr><tr><th>12</th><td>2017</td></tr><tr><th>13</th><td>2017</td></tr><tr><th>14</th><td>2017</td></tr><tr><th>15</th><td>2016</td></tr><tr><th>16</th><td>2016</td></tr><tr><th>17</th><td>2016</td></tr><tr><th>18</th><td>2016</td></tr><tr><th>19</th><td>2016</td></tr><tr><th>20</th><td>2016</td></tr><tr><th>21</th><td>2016</td></tr><tr><th>22</th><td>2016</td></tr><tr><th>23</th><td>2015</td></tr><tr><th>24</th><td>2016</td></tr><tr><th>25</th><td>2016</td></tr><tr><th>26</th><td>2016</td></tr><tr><th>27</th><td>2017</td></tr><tr><th>28</th><td>2016</td></tr><tr><th>29</th><td>2017</td></tr><tr><th>30</th><td>2016</td></tr><tr><th>&vellip;</th><td>&vellip;</td></tr></tbody></table>"
      ],
      "text/latex": [
       "\\begin{tabular}{r|c}\n",
       "\t& year\\\\\n",
       "\t\\hline\n",
       "\t& Int64\\\\\n",
       "\t\\hline\n",
       "\t1 & 2017 \\\\\n",
       "\t2 & 2017 \\\\\n",
       "\t3 & 2017 \\\\\n",
       "\t4 & 2017 \\\\\n",
       "\t5 & 2018 \\\\\n",
       "\t6 & 2018 \\\\\n",
       "\t7 & 2017 \\\\\n",
       "\t8 & 2017 \\\\\n",
       "\t9 & 2017 \\\\\n",
       "\t10 & 2017 \\\\\n",
       "\t11 & 2017 \\\\\n",
       "\t12 & 2017 \\\\\n",
       "\t13 & 2017 \\\\\n",
       "\t14 & 2017 \\\\\n",
       "\t15 & 2016 \\\\\n",
       "\t16 & 2016 \\\\\n",
       "\t17 & 2016 \\\\\n",
       "\t18 & 2016 \\\\\n",
       "\t19 & 2016 \\\\\n",
       "\t20 & 2016 \\\\\n",
       "\t21 & 2016 \\\\\n",
       "\t22 & 2016 \\\\\n",
       "\t23 & 2015 \\\\\n",
       "\t24 & 2016 \\\\\n",
       "\t25 & 2016 \\\\\n",
       "\t26 & 2016 \\\\\n",
       "\t27 & 2017 \\\\\n",
       "\t28 & 2016 \\\\\n",
       "\t29 & 2017 \\\\\n",
       "\t30 & 2016 \\\\\n",
       "\t$\\dots$ & $\\dots$ \\\\\n",
       "\\end{tabular}\n"
      ],
      "text/plain": [
       "179×1 DataFrame\n",
       "│ Row │ year  │\n",
       "│     │ \u001b[90mInt64\u001b[39m │\n",
       "├─────┼───────┤\n",
       "│ 1   │ 2017  │\n",
       "│ 2   │ 2017  │\n",
       "│ 3   │ 2017  │\n",
       "│ 4   │ 2017  │\n",
       "│ 5   │ 2018  │\n",
       "│ 6   │ 2018  │\n",
       "│ 7   │ 2017  │\n",
       "│ 8   │ 2017  │\n",
       "│ 9   │ 2017  │\n",
       "│ 10  │ 2017  │\n",
       "⋮\n",
       "│ 169 │ 2015  │\n",
       "│ 170 │ 2018  │\n",
       "│ 171 │ 2018  │\n",
       "│ 172 │ 2017  │\n",
       "│ 173 │ 2017  │\n",
       "│ 174 │ 2017  │\n",
       "│ 175 │ 2016  │\n",
       "│ 176 │ 2016  │\n",
       "│ 177 │ 2017  │\n",
       "│ 178 │ 2014  │\n",
       "│ 179 │ 2014  │"
      ]
     },
     "execution_count": 3,
     "metadata": {},
     "output_type": "execute_result"
    }
   ],
   "source": [
    "data = MySQL.query(conn, \"\"\"SELECT * FROM pubsNew;\"\"\", DataFrame)\n",
    "small_data = DataFrame( year = parse.(Int, data[!, :year]))"
   ]
  },
  {
   "cell_type": "code",
   "execution_count": 4,
   "metadata": {},
   "outputs": [],
   "source": [
    "small_data |> Voyager();"
   ]
  },
  {
   "cell_type": "code",
   "execution_count": 6,
   "metadata": {},
   "outputs": [
    {
     "data": {
      "application/vnd.vegalite.v3+json": {
       "config": {
        "overlay": {
         "line": true
        },
        "scale": {
         "useUnaggregatedDomain": true
        }
       },
       "data": {
        "values": [
         {
          "year": 2017
         },
         {
          "year": 2017
         },
         {
          "year": 2017
         },
         {
          "year": 2017
         },
         {
          "year": 2018
         },
         {
          "year": 2018
         },
         {
          "year": 2017
         },
         {
          "year": 2017
         },
         {
          "year": 2017
         },
         {
          "year": 2017
         },
         {
          "year": 2017
         },
         {
          "year": 2017
         },
         {
          "year": 2017
         },
         {
          "year": 2017
         },
         {
          "year": 2016
         },
         {
          "year": 2016
         },
         {
          "year": 2016
         },
         {
          "year": 2016
         },
         {
          "year": 2016
         },
         {
          "year": 2016
         },
         {
          "year": 2016
         },
         {
          "year": 2016
         },
         {
          "year": 2015
         },
         {
          "year": 2016
         },
         {
          "year": 2016
         },
         {
          "year": 2016
         },
         {
          "year": 2017
         },
         {
          "year": 2016
         },
         {
          "year": 2017
         },
         {
          "year": 2016
         },
         {
          "year": 2016
         },
         {
          "year": 2016
         },
         {
          "year": 2016
         },
         {
          "year": 2016
         },
         {
          "year": 2016
         },
         {
          "year": 2016
         },
         {
          "year": 2016
         },
         {
          "year": 2014
         },
         {
          "year": 2017
         },
         {
          "year": 2015
         },
         {
          "year": 2015
         },
         {
          "year": 2015
         },
         {
          "year": 2015
         },
         {
          "year": 2015
         },
         {
          "year": 2014
         },
         {
          "year": 2015
         },
         {
          "year": 2014
         },
         {
          "year": 2014
         },
         {
          "year": 2014
         },
         {
          "year": 2014
         },
         {
          "year": 2014
         },
         {
          "year": 2014
         },
         {
          "year": 2014
         },
         {
          "year": 2014
         },
         {
          "year": 2014
         },
         {
          "year": 2014
         },
         {
          "year": 2014
         },
         {
          "year": 2014
         },
         {
          "year": 2014
         },
         {
          "year": 2014
         },
         {
          "year": 2014
         },
         {
          "year": 2014
         },
         {
          "year": 2014
         },
         {
          "year": 2013
         },
         {
          "year": 2014
         },
         {
          "year": 2014
         },
         {
          "year": 2013
         },
         {
          "year": 2014
         },
         {
          "year": 2014
         },
         {
          "year": 2014
         },
         {
          "year": 2014
         },
         {
          "year": 2013
         },
         {
          "year": 2014
         },
         {
          "year": 2014
         },
         {
          "year": 2014
         },
         {
          "year": 2014
         },
         {
          "year": 2013
         },
         {
          "year": 2018
         },
         {
          "year": 2018
         },
         {
          "year": 2018
         },
         {
          "year": 2018
         },
         {
          "year": 2018
         },
         {
          "year": 2018
         },
         {
          "year": 2016
         },
         {
          "year": 2016
         },
         {
          "year": 2015
         },
         {
          "year": 2015
         },
         {
          "year": 2015
         },
         {
          "year": 2015
         },
         {
          "year": 2018
         },
         {
          "year": 2017
         },
         {
          "year": 2017
         },
         {
          "year": 2017
         },
         {
          "year": 2019
         },
         {
          "year": 2016
         },
         {
          "year": 2016
         },
         {
          "year": 2016
         },
         {
          "year": 2014
         },
         {
          "year": 2014
         },
         {
          "year": 2015
         },
         {
          "year": 2015
         },
         {
          "year": 2015
         },
         {
          "year": 2015
         },
         {
          "year": 2015
         },
         {
          "year": 2015
         },
         {
          "year": 2015
         },
         {
          "year": 2015
         },
         {
          "year": 2015
         },
         {
          "year": 2014
         },
         {
          "year": 2014
         },
         {
          "year": 2004
         },
         {
          "year": 2013
         },
         {
          "year": 2014
         },
         {
          "year": 2014
         },
         {
          "year": 2018
         },
         {
          "year": 2018
         },
         {
          "year": 2018
         },
         {
          "year": 2018
         },
         {
          "year": 2017
         },
         {
          "year": 2018
         },
         {
          "year": 2018
         },
         {
          "year": 2018
         },
         {
          "year": 2018
         },
         {
          "year": 2018
         },
         {
          "year": 2018
         },
         {
          "year": 2018
         },
         {
          "year": 2016
         },
         {
          "year": 2018
         },
         {
          "year": 2018
         },
         {
          "year": 2018
         },
         {
          "year": 2018
         },
         {
          "year": 2019
         },
         {
          "year": 2017
         },
         {
          "year": 2017
         },
         {
          "year": 2017
         },
         {
          "year": 2017
         },
         {
          "year": 2017
         },
         {
          "year": 2016
         },
         {
          "year": 2016
         },
         {
          "year": 2016
         },
         {
          "year": 2016
         },
         {
          "year": 2015
         },
         {
          "year": 2016
         },
         {
          "year": 2015
         },
         {
          "year": 2016
         },
         {
          "year": 2016
         },
         {
          "year": 2016
         },
         {
          "year": 2016
         },
         {
          "year": 2015
         },
         {
          "year": 2015
         },
         {
          "year": 2015
         },
         {
          "year": 2015
         },
         {
          "year": 2015
         },
         {
          "year": 2015
         },
         {
          "year": 2015
         },
         {
          "year": 2015
         },
         {
          "year": 2015
         },
         {
          "year": 2015
         },
         {
          "year": 2015
         },
         {
          "year": 2015
         },
         {
          "year": 2015
         },
         {
          "year": 2014
         },
         {
          "year": 2014
         },
         {
          "year": 2014
         },
         {
          "year": 2014
         },
         {
          "year": 2014
         },
         {
          "year": 2014
         },
         {
          "year": 2017
         },
         {
          "year": 2015
         },
         {
          "year": 2018
         },
         {
          "year": 2018
         },
         {
          "year": 2017
         },
         {
          "year": 2017
         },
         {
          "year": 2017
         },
         {
          "year": 2016
         },
         {
          "year": 2016
         },
         {
          "year": 2017
         },
         {
          "year": 2014
         },
         {
          "year": 2014
         }
        ]
       },
       "encoding": {
        "fillOpacity": {
         "condition": {
          "selection": "select",
          "value": 1
         },
         "value": 0.3
        },
        "x": {
         "field": "year",
         "title": "Year",
         "type": "nominal"
        },
        "y": {
         "aggregate": "count",
         "field": "*",
         "title": "Number of Publications",
         "type": "quantitative"
        }
       },
       "mark": {
        "cursor": "pointer",
        "fill": "#00FF00",
        "stroke": "black",
        "type": "bar"
       },
       "selection": {
        "highlight": {
         "empty": "none",
         "on": "mouseover",
         "type": "single"
        },
        "select": {
         "type": "multi"
        }
       },
       "title": "Year vs Number of Publications"
      },
      "image/png": "[encoded data removed]",
      "image/svg+xml": [
       "<svg class=\"marks\" width=\"222\" height=\"272\" viewBox=\"0 0 222 272\" version=\"1.1\" xmlns=\"http://www.w3.org/2000/svg\" xmlns:xlink=\"http://www.w3.org/1999/xlink\"><g transform=\"translate(39,22)\"><g class=\"mark-group role-frame root\"><g transform=\"translate(0,0)\"><path class=\"background\" d=\"M0.5,0.5h160v200h-160Z\" style=\"fill: none; stroke: #ddd;\"></path><g><g class=\"mark-group role-axis\"><g transform=\"translate(0.5,0.5)\"><path class=\"background\" d=\"M0,0h0v0h0Z\" style=\"pointer-events: none; fill: none;\"></path><g><g class=\"mark-rule role-axis-grid\" style=\"pointer-events: none;\"><line transform=\"translate(0,200)\" x2=\"160\" y2=\"0\" style=\"fill: none; stroke: #ddd; stroke-width: 1; opacity: 1;\"></line><line transform=\"translate(0,156)\" x2=\"160\" y2=\"0\" style=\"fill: none; stroke: #ddd; stroke-width: 1; opacity: 1;\"></line><line transform=\"translate(0,111)\" x2=\"160\" y2=\"0\" style=\"fill: none; stroke: #ddd; stroke-width: 1; opacity: 1;\"></line><line transform=\"translate(0,67)\" x2=\"160\" y2=\"0\" style=\"fill: none; stroke: #ddd; stroke-width: 1; opacity: 1;\"></line><line transform=\"translate(0,22)\" x2=\"160\" y2=\"0\" style=\"fill: none; stroke: #ddd; stroke-width: 1; opacity: 1;\"></line></g></g></g></g><g class=\"mark-rect role-mark marks\"><path d=\"M101,71.11111111111111h18v128.88888888888889h-18Z\" style=\"fill: #00FF00; fill-opacity: 1; stroke: black;\"></path><path d=\"M121,84.44444444444446h18v115.55555555555554h-18Z\" style=\"fill: #00FF00; fill-opacity: 1; stroke: black;\"></path><path d=\"M81,35.55555555555557h18v164.44444444444443h-18Z\" style=\"fill: #00FF00; fill-opacity: 1; stroke: black;\"></path><path d=\"M61,40h18v160h-18Z\" style=\"fill: #00FF00; fill-opacity: 1; stroke: black;\"></path><path d=\"M41,8.888888888888886h18v191.11111111111111h-18Z\" style=\"fill: #00FF00; fill-opacity: 1; stroke: black;\"></path><path d=\"M21,177.77777777777777h18v22.22222222222223h-18Z\" style=\"fill: #00FF00; fill-opacity: 1; stroke: black;\"></path><path d=\"M141,191.11111111111111h18v8.888888888888886h-18Z\" style=\"fill: #00FF00; fill-opacity: 1; stroke: black;\"></path><path d=\"M1,195.55555555555554h18v4.444444444444457h-18Z\" style=\"fill: #00FF00; fill-opacity: 1; stroke: black;\"></path></g><g class=\"mark-text role-title\" style=\"pointer-events: none;\"><text text-anchor=\"middle\" transform=\"translate(80,-7)\" style=\"font-family: sans-serif; font-size: 13px; font-weight: bold; fill: #000; opacity: 1;\">Year vs Number of Publications</text></g><g class=\"mark-group role-axis\"><g transform=\"translate(0.5,200.5)\"><path class=\"background\" d=\"M0,0h0v0h0Z\" style=\"pointer-events: none; fill: none;\"></path><g><g class=\"mark-rule role-axis-tick\" style=\"pointer-events: none;\"><line transform=\"translate(9,0)\" x2=\"0\" y2=\"5\" style=\"fill: none; stroke: #888; stroke-width: 1; opacity: 1;\"></line><line transform=\"translate(29,0)\" x2=\"0\" y2=\"5\" style=\"fill: none; stroke: #888; stroke-width: 1; opacity: 1;\"></line><line transform=\"translate(49,0)\" x2=\"0\" y2=\"5\" style=\"fill: none; stroke: #888; stroke-width: 1; opacity: 1;\"></line><line transform=\"translate(69,0)\" x2=\"0\" y2=\"5\" style=\"fill: none; stroke: #888; stroke-width: 1; opacity: 1;\"></line><line transform=\"translate(89,0)\" x2=\"0\" y2=\"5\" style=\"fill: none; stroke: #888; stroke-width: 1; opacity: 1;\"></line><line transform=\"translate(109,0)\" x2=\"0\" y2=\"5\" style=\"fill: none; stroke: #888; stroke-width: 1; opacity: 1;\"></line><line transform=\"translate(129,0)\" x2=\"0\" y2=\"5\" style=\"fill: none; stroke: #888; stroke-width: 1; opacity: 1;\"></line><line transform=\"translate(149,0)\" x2=\"0\" y2=\"5\" style=\"fill: none; stroke: #888; stroke-width: 1; opacity: 1;\"></line></g><g class=\"mark-text role-axis-label\" style=\"pointer-events: none;\"><text text-anchor=\"end\" transform=\"translate(9,7) rotate(270) translate(0,3)\" style=\"font-family: sans-serif; font-size: 10px; fill: #000; opacity: 1;\">2004</text><text text-anchor=\"end\" transform=\"translate(29,7) rotate(270) translate(0,3)\" style=\"font-family: sans-serif; font-size: 10px; fill: #000; opacity: 1;\">2013</text><text text-anchor=\"end\" transform=\"translate(49,7) rotate(270) translate(0,3)\" style=\"font-family: sans-serif; font-size: 10px; fill: #000; opacity: 1;\">2014</text><text text-anchor=\"end\" transform=\"translate(69,7) rotate(270) translate(0,3)\" style=\"font-family: sans-serif; font-size: 10px; fill: #000; opacity: 1;\">2015</text><text text-anchor=\"end\" transform=\"translate(89,7) rotate(270) translate(0,3)\" style=\"font-family: sans-serif; font-size: 10px; fill: #000; opacity: 1;\">2016</text><text text-anchor=\"end\" transform=\"translate(109,7) rotate(270) translate(0,3)\" style=\"font-family: sans-serif; font-size: 10px; fill: #000; opacity: 1;\">2017</text><text text-anchor=\"end\" transform=\"translate(129,7) rotate(270) translate(0,3)\" style=\"font-family: sans-serif; font-size: 10px; fill: #000; opacity: 1;\">2018</text><text text-anchor=\"end\" transform=\"translate(149,7) rotate(270) translate(0,3)\" style=\"font-family: sans-serif; font-size: 10px; fill: #000; opacity: 1;\">2019</text></g><g class=\"mark-rule role-axis-domain\" style=\"pointer-events: none;\"><line transform=\"translate(0,0)\" x2=\"160\" y2=\"0\" style=\"fill: none; stroke: #888; stroke-width: 1; opacity: 1;\"></line></g><g class=\"mark-text role-axis-title\" style=\"pointer-events: none;\"><text text-anchor=\"middle\" transform=\"translate(80,42.24609375)\" style=\"font-family: sans-serif; font-size: 11px; font-weight: bold; fill: #000; opacity: 1;\">Year</text></g></g></g></g><g class=\"mark-group role-axis\"><g transform=\"translate(0.5,0.5)\"><path class=\"background\" d=\"M0,0h0v0h0Z\" style=\"pointer-events: none; fill: none;\"></path><g><g class=\"mark-rule role-axis-tick\" style=\"pointer-events: none;\"><line transform=\"translate(0,200)\" x2=\"-5\" y2=\"0\" style=\"fill: none; stroke: #888; stroke-width: 1; opacity: 1;\"></line><line transform=\"translate(0,156)\" x2=\"-5\" y2=\"0\" style=\"fill: none; stroke: #888; stroke-width: 1; opacity: 1;\"></line><line transform=\"translate(0,111)\" x2=\"-5\" y2=\"0\" style=\"fill: none; stroke: #888; stroke-width: 1; opacity: 1;\"></line><line transform=\"translate(0,67)\" x2=\"-5\" y2=\"0\" style=\"fill: none; stroke: #888; stroke-width: 1; opacity: 1;\"></line><line transform=\"translate(0,22)\" x2=\"-5\" y2=\"0\" style=\"fill: none; stroke: #888; stroke-width: 1; opacity: 1;\"></line></g><g class=\"mark-text role-axis-label\" style=\"pointer-events: none;\"><text text-anchor=\"end\" transform=\"translate(-7,203)\" style=\"font-family: sans-serif; font-size: 10px; fill: #000; opacity: 1;\">0</text><text text-anchor=\"end\" transform=\"translate(-7,158.55555555555554)\" style=\"font-family: sans-serif; font-size: 10px; fill: #000; opacity: 1;\">10</text><text text-anchor=\"end\" transform=\"translate(-7,114.11111111111111)\" style=\"font-family: sans-serif; font-size: 10px; fill: #000; opacity: 1;\">20</text><text text-anchor=\"end\" transform=\"translate(-7,69.66666666666669)\" style=\"font-family: sans-serif; font-size: 10px; fill: #000; opacity: 1;\">30</text><text text-anchor=\"end\" transform=\"translate(-7,25.22222222222223)\" style=\"font-family: sans-serif; font-size: 10px; fill: #000; opacity: 1;\">40</text></g><g class=\"mark-rule role-axis-domain\" style=\"pointer-events: none;\"><line transform=\"translate(0,200)\" x2=\"0\" y2=\"-200\" style=\"fill: none; stroke: #888; stroke-width: 1; opacity: 1;\"></line></g><g class=\"mark-text role-axis-title\" style=\"pointer-events: none;\"><text text-anchor=\"middle\" transform=\"translate(-22.123046875,100) rotate(-90) translate(0,-2)\" style=\"font-family: sans-serif; font-size: 11px; font-weight: bold; fill: #000; opacity: 1;\">Number of Publications</text></g></g></g></g></g></g></g></g></svg>"
      ],
      "text/plain": [
       "VegaLite.VLSpec{:plot}"
      ]
     },
     "execution_count": 6,
     "metadata": {},
     "output_type": "execute_result"
    }
   ],
   "source": [
    "\n",
    "spec = vl\"\"\"{\n",
    "  \"title\": \"Year vs Number of Publications\",\n",
    "  \"data\": {\n",
    "    \"name\": \"source\"\n",
    "  },\n",
    "    \"selection\": {\n",
    "    \"highlight\": {\"type\": \"single\", \"empty\": \"none\", \"on\": \"mouseover\"},\n",
    "    \"select\": {\"type\": \"multi\"}\n",
    "  },\n",
    "  \"mark\": {\n",
    "    \"type\": \"bar\",\n",
    "    \"fill\": \"#00FF00\",\n",
    "    \"stroke\": \"black\",\n",
    "    \"cursor\": \"pointer\"\n",
    "  },\n",
    "  \"encoding\": {\n",
    "    \"x\": {\n",
    "        \"title\": \"Year\",\n",
    "      \"field\": \"year\",\n",
    "      \"type\": \"nominal\"\n",
    "    },\n",
    "    \"y\": {\n",
    "      \"aggregate\": \"count\",\n",
    "      \"field\": \"*\",\n",
    "      \"type\": \"quantitative\",\n",
    "        \"title\": \"Number of Publications\"\n",
    "    },\n",
    "     \"fillOpacity\": {\n",
    "      \"condition\": {\"selection\": \"select\", \"value\": 1},\n",
    "      \"value\": 0.3\n",
    "    }\n",
    " \n",
    "  },\n",
    "  \"config\": {\n",
    "    \"overlay\": {\n",
    "      \"line\": true\n",
    "    },\n",
    "    \"scale\": {\n",
    "      \"useUnaggregatedDomain\": true\n",
    "    }\n",
    "  }\n",
    "}\"\"\"(small_data)"
   ]
  },
  {
   "cell_type": "code",
   "execution_count": null,
   "metadata": {
    "slideshow": {
     "slide_type": "-"
    }
   },
   "outputs": [],
   "source": []
  },
  {
   "cell_type": "code",
   "execution_count": null,
   "metadata": {},
   "outputs": [],
   "source": []
  }
 ],
 "metadata": {
  "@webio": {
   "lastCommId": null,
   "lastKernelId": null
  },
  "kernelspec": {
   "display_name": "Julia 1.1.1",
   "language": "julia",
   "name": "julia-1.1"
  },
  "language_info": {
   "file_extension": ".jl",
   "mimetype": "application/julia",
   "name": "julia",
   "version": "1.1.1"
  }
 },
 "nbformat": 4,
 "nbformat_minor": 4
}
