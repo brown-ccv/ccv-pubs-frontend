{
 "cells": [
  {
   "cell_type": "code",
   "execution_count": 22,
   "metadata": {},
   "outputs": [],
   "source": [
    "import Pkg\n",
    "Pkg.activate(pwd())\n",
    "# Pkg.add(\"HTTP\")\n",
    "# Pkg.add(\"Gumbo\")\n",
    "# Pkg.add(\"AbstractTrees\")\n",
    "# Pkg.add(\"Dates\")\n",
    "# Pkg.add(\"DataFrames\")\n",
    "# Pkg.add(\"VegaLite\")\n",
    "# Pkg.add(\"DataVoyager\")\n",
    "# Pkg.add(\"JSON\")\n",
    "# Pkg.add(\"TextAnalysis\")\n",
    "# Pkg.add(\"MySQL\")\n",
    "# Pkg.add(\"Interact\")\n",
    "Pkg.add(\"DotEnv\")\n",
    "\n",
    "using HTTP\n",
    "using Gumbo\n",
    "using AbstractTrees\n",
    "using Dates\n",
    "using DataFrames\n",
    "using MySQL\n",
    "\n",
    "using VegaLite\n",
    "using DataVoyager\n",
    "using Interact\n",
    "\n",
    "using TextAnalysis\n",
    "using JSON\n",
    "\n",
    "using DotEnv"
   ]
  },
  {
   "cell_type": "code",
   "execution_count": 3,
   "metadata": {},
   "outputs": [
    {
     "data": {
      "text/plain": [
       "MySQL Connection\n",
       "------------\n",
       "Host: pdspracticemydbcit.services.brown.edu\n",
       "Port: 3306\n",
       "User: ccvpubs_api\n",
       "DB:   ccvpubs\n"
      ]
     },
     "execution_count": 3,
     "metadata": {},
     "output_type": "execute_result"
    }
   ],
   "source": [
    "conn = MySQL.connect(\"pdspracticemydbcit.services.brown.edu\", \"user\",\"password\", db = \"ccvpubs\")"
   ]
  },
  {
   "cell_type": "code",
   "execution_count": 4,
   "metadata": {},
   "outputs": [
    {
     "name": "stderr",
     "output_type": "stream",
     "text": [
      "┌ Warning: `MySQL.query(conn, sql, DataFrame)` is deprecated; use `MySQL.query(conn, sql) |> DataFrame(args...)` instead\n",
      "│   caller = ip:0x0\n",
      "└ @ Core :-1\n"
     ]
    },
    {
     "data": {
      "text/html": [
       "<table class=\"data-frame\"><thead><tr><th></th><th>id</th><th>url</th><th>publisher</th></tr><tr><th></th><th>Int32</th><th>String⍰</th><th>String⍰</th></tr></thead><tbody><p>179 rows × 13 columns (omitted printing of 10 columns)</p><tr><th>1</th><td>1</td><td>http://osf.io/9a3xq</td><td>OSF</td></tr><tr><th>2</th><td>2</td><td>http://osf.io/vzsr4</td><td>OSF</td></tr><tr><th>3</th><td>3</td><td>http://osf.io/enc32</td><td>OSF</td></tr><tr><th>4</th><td>4</td><td>http://osf.io/da6uf</td><td>OSF</td></tr><tr><th>5</th><td>5</td><td>http://dx.doi.org/10.3354/meps12568</td><td>Inter-Research Science Center</td></tr><tr><th>6</th><td>6</td><td>http://dx.doi.org/10.1098/rsos.171532</td><td>The Royal Society</td></tr><tr><th>7</th><td>7</td><td>http://dx.doi.org/10.4172/2161-0703.1000265</td><td>OMICS Publishing Group</td></tr><tr><th>8</th><td>8</td><td>http://dx.doi.org/10.1038/ng.3837</td><td>Springer Science and Business Media LLC</td></tr><tr><th>9</th><td>9</td><td>http://dx.doi.org/10.1016/j.bpj.2017.02.042</td><td>Elsevier BV</td></tr><tr><th>10</th><td>10</td><td>http://dx.doi.org/10.1186/s12913-017-2169-4</td><td>Springer Nature</td></tr><tr><th>11</th><td>11</td><td>http://dx.doi.org/10.1103/physrevlett.118.048002</td><td>American Physical Society (APS)</td></tr><tr><th>12</th><td>12</td><td>http://dx.doi.org/10.1002/2016gl071307</td><td>American Geophysical Union (AGU)</td></tr><tr><th>13</th><td>13</td><td>http://dx.doi.org/10.1016/j.actamat.2016.11.003</td><td>Elsevier BV</td></tr><tr><th>14</th><td>14</td><td>http://dx.doi.org/10.1103/physrevb.95.064101</td><td>American Physical Society (APS)</td></tr><tr><th>15</th><td>15</td><td>http://dx.doi.org/10.1103/physrevd.93.072009</td><td>American Physical Society (APS)</td></tr><tr><th>16</th><td>16</td><td>http://dx.doi.org/10.1103/physrevlett.116.161301</td><td>American Physical Society (APS)</td></tr><tr><th>17</th><td>17</td><td>http://dx.doi.org/10.1103/physrevd.93.023510</td><td>American Physical Society (APS)</td></tr><tr><th>18</th><td>18</td><td>http://dx.doi.org/10.4172/2161-0703.1000247</td><td>OMICS Publishing Group</td></tr><tr><th>19</th><td>19</td><td>http://dx.doi.org/10.1063/1.4967825</td><td>AIP Publishing</td></tr><tr><th>20</th><td>20</td><td>http://dx.doi.org/10.5244/c.30.66</td><td>British Machine Vision Association</td></tr><tr><th>21</th><td>21</td><td>http://dx.doi.org/10.1007/s10827-016-0615-7</td><td>Springer Nature</td></tr><tr><th>22</th><td>22</td><td>http://dx.doi.org/10.1371/journal.pcbi.1005173</td><td>Public Library of Science (PLoS)</td></tr><tr><th>23</th><td>23</td><td>http://dx.doi.org/10.1098/rsfs.2015.0065</td><td>The Royal Society</td></tr><tr><th>24</th><td>24</td><td>http://dx.doi.org/10.1016/j.visres.2015.11.007</td><td>Elsevier BV</td></tr><tr><th>25</th><td>25</td><td>http://dx.doi.org/10.1016/j.neuroimage.2015.10.012</td><td>Elsevier BV</td></tr><tr><th>26</th><td>26</td><td>http://dx.doi.org/10.1103/physrevlett.116.161302</td><td>American Physical Society (APS)</td></tr><tr><th>27</th><td>27</td><td>http://dx.doi.org/10.1103/physrevd.95.012008</td><td>American Physical Society (APS)</td></tr><tr><th>28</th><td>28</td><td>http://dx.doi.org/10.1103/physreve.93.033312</td><td>American Physical Society (APS)</td></tr><tr><th>29</th><td>29</td><td>http://dx.doi.org/10.1103/physrevlett.118.021303</td><td>American Physical Society (APS)</td></tr><tr><th>30</th><td>30</td><td>http://dx.doi.org/10.1016/j.calphad.2016.02.005</td><td>Elsevier BV</td></tr><tr><th>&vellip;</th><td>&vellip;</td><td>&vellip;</td><td>&vellip;</td></tr></tbody></table>"
      ],
      "text/latex": [
       "\\begin{tabular}{r|cccc}\n",
       "\t& id & url & publisher & \\\\\n",
       "\t\\hline\n",
       "\t& Int32 & String⍰ & String⍰ & \\\\\n",
       "\t\\hline\n",
       "\t1 & 1 & http://osf.io/9a3xq & OSF & $\\dots$ \\\\\n",
       "\t2 & 2 & http://osf.io/vzsr4 & OSF & $\\dots$ \\\\\n",
       "\t3 & 3 & http://osf.io/enc32 & OSF & $\\dots$ \\\\\n",
       "\t4 & 4 & http://osf.io/da6uf & OSF & $\\dots$ \\\\\n",
       "\t5 & 5 & http://dx.doi.org/10.3354/meps12568 & Inter-Research Science Center & $\\dots$ \\\\\n",
       "\t6 & 6 & http://dx.doi.org/10.1098/rsos.171532 & The Royal Society & $\\dots$ \\\\\n",
       "\t7 & 7 & http://dx.doi.org/10.4172/2161-0703.1000265 & OMICS Publishing Group & $\\dots$ \\\\\n",
       "\t8 & 8 & http://dx.doi.org/10.1038/ng.3837 & Springer Science and Business Media LLC & $\\dots$ \\\\\n",
       "\t9 & 9 & http://dx.doi.org/10.1016/j.bpj.2017.02.042 & Elsevier BV & $\\dots$ \\\\\n",
       "\t10 & 10 & http://dx.doi.org/10.1186/s12913-017-2169-4 & Springer Nature & $\\dots$ \\\\\n",
       "\t11 & 11 & http://dx.doi.org/10.1103/physrevlett.118.048002 & American Physical Society (APS) & $\\dots$ \\\\\n",
       "\t12 & 12 & http://dx.doi.org/10.1002/2016gl071307 & American Geophysical Union (AGU) & $\\dots$ \\\\\n",
       "\t13 & 13 & http://dx.doi.org/10.1016/j.actamat.2016.11.003 & Elsevier BV & $\\dots$ \\\\\n",
       "\t14 & 14 & http://dx.doi.org/10.1103/physrevb.95.064101 & American Physical Society (APS) & $\\dots$ \\\\\n",
       "\t15 & 15 & http://dx.doi.org/10.1103/physrevd.93.072009 & American Physical Society (APS) & $\\dots$ \\\\\n",
       "\t16 & 16 & http://dx.doi.org/10.1103/physrevlett.116.161301 & American Physical Society (APS) & $\\dots$ \\\\\n",
       "\t17 & 17 & http://dx.doi.org/10.1103/physrevd.93.023510 & American Physical Society (APS) & $\\dots$ \\\\\n",
       "\t18 & 18 & http://dx.doi.org/10.4172/2161-0703.1000247 & OMICS Publishing Group & $\\dots$ \\\\\n",
       "\t19 & 19 & http://dx.doi.org/10.1063/1.4967825 & AIP Publishing & $\\dots$ \\\\\n",
       "\t20 & 20 & http://dx.doi.org/10.5244/c.30.66 & British Machine Vision Association & $\\dots$ \\\\\n",
       "\t21 & 21 & http://dx.doi.org/10.1007/s10827-016-0615-7 & Springer Nature & $\\dots$ \\\\\n",
       "\t22 & 22 & http://dx.doi.org/10.1371/journal.pcbi.1005173 & Public Library of Science (PLoS) & $\\dots$ \\\\\n",
       "\t23 & 23 & http://dx.doi.org/10.1098/rsfs.2015.0065 & The Royal Society & $\\dots$ \\\\\n",
       "\t24 & 24 & http://dx.doi.org/10.1016/j.visres.2015.11.007 & Elsevier BV & $\\dots$ \\\\\n",
       "\t25 & 25 & http://dx.doi.org/10.1016/j.neuroimage.2015.10.012 & Elsevier BV & $\\dots$ \\\\\n",
       "\t26 & 26 & http://dx.doi.org/10.1103/physrevlett.116.161302 & American Physical Society (APS) & $\\dots$ \\\\\n",
       "\t27 & 27 & http://dx.doi.org/10.1103/physrevd.95.012008 & American Physical Society (APS) & $\\dots$ \\\\\n",
       "\t28 & 28 & http://dx.doi.org/10.1103/physreve.93.033312 & American Physical Society (APS) & $\\dots$ \\\\\n",
       "\t29 & 29 & http://dx.doi.org/10.1103/physrevlett.118.021303 & American Physical Society (APS) & $\\dots$ \\\\\n",
       "\t30 & 30 & http://dx.doi.org/10.1016/j.calphad.2016.02.005 & Elsevier BV & $\\dots$ \\\\\n",
       "\t$\\dots$ & $\\dots$ & $\\dots$ & $\\dots$ &  \\\\\n",
       "\\end{tabular}\n"
      ],
      "text/plain": [
       "179×13 DataFrame. Omitted printing of 11 columns\n",
       "│ Row │ id    │ url                                            │\n",
       "│     │ \u001b[90mInt32\u001b[39m │ \u001b[90mUnion{Missing, String}\u001b[39m                         │\n",
       "├─────┼───────┼────────────────────────────────────────────────┤\n",
       "│ 1   │ 1     │ http://osf.io/9a3xq                            │\n",
       "│ 2   │ 2     │ http://osf.io/vzsr4                            │\n",
       "│ 3   │ 3     │ http://osf.io/enc32                            │\n",
       "│ 4   │ 4     │ http://osf.io/da6uf                            │\n",
       "│ 5   │ 5     │ http://dx.doi.org/10.3354/meps12568            │\n",
       "│ 6   │ 6     │ http://dx.doi.org/10.1098/rsos.171532          │\n",
       "│ 7   │ 7     │ http://dx.doi.org/10.4172/2161-0703.1000265    │\n",
       "│ 8   │ 8     │ http://dx.doi.org/10.1038/ng.3837              │\n",
       "│ 9   │ 9     │ http://dx.doi.org/10.1016/j.bpj.2017.02.042    │\n",
       "│ 10  │ 10    │ http://dx.doi.org/10.1186/s12913-017-2169-4    │\n",
       "⋮\n",
       "│ 169 │ 169   │ http://dx.doi.org/10.1371/journal.pone.0139068 │\n",
       "│ 170 │ 170   │ http://dx.doi.org/10.1242/jeb.178160           │\n",
       "│ 171 │ 171   │ http://dx.doi.org/10.1152/jn.00493.2017        │\n",
       "│ 172 │ 172   │ http://dx.doi.org/10.1093/icb/icx060           │\n",
       "│ 173 │ 173   │ http://dx.doi.org/10.3415/vcot-16-06-0095      │\n",
       "│ 174 │ 174   │ https://arxiv.org/abs/1709.09089               │\n",
       "│ 175 │ 175   │ https://arxiv.org/abs/1709.00095               │\n",
       "│ 176 │ 176   │ https://arxiv.org/abs/1608.05381               │\n",
       "│ 177 │ 177   │ https://arxiv.org/abs/1608.05309               │\n",
       "│ 178 │ 178   │ http://arxiv.org/pdf/1310.8214v2               │\n",
       "│ 179 │ 179   │ https://arxiv.org/abs/1312.6115                │"
      ]
     },
     "execution_count": 4,
     "metadata": {},
     "output_type": "execute_result"
    }
   ],
   "source": [
    "data = MySQL.query(conn, \"\"\"SELECT * FROM pubsNew;\"\"\", DataFrame)"
   ]
  },
  {
   "cell_type": "code",
   "execution_count": 8,
   "metadata": {},
   "outputs": [],
   "source": [
    "data |> Voyager();"
   ]
  },
  {
   "cell_type": "code",
   "execution_count": 21,
   "metadata": {},
   "outputs": [],
   "source": [
    "spec = vl\n",
    "\"\"\"{\n",
    "  \"data\": {\n",
    "    \"name\": \"source\"\n",
    "  },\n",
    "  \"mark\": \"bar\",\n",
    "  \"encoding\": {\n",
    "    \"x\": {\n",
    "      \"field\": \"year\",\n",
    "      \"type\": \"nominal\"\n",
    "    },\n",
    "    \"y\": {\n",
    "      \"aggregate\": \"count\",\n",
    "      \"field\": \"*\",\n",
    "      \"type\": \"quantitative\"\n",
    "    }\n",
    "  },\n",
    "  \"config\": {\n",
    "    \"overlay\": {\n",
    "      \"line\": true\n",
    "    },\n",
    "    \"scale\": {\n",
    "      \"useUnaggregatedDomain\": true\n",
    "    }\n",
    "  }\n",
    "}\"\"\"(data)\n"
   ]
  },
  {
   "cell_type": "code",
   "execution_count": 19,
   "metadata": {},
   "outputs": [],
   "source": []
  },
  {
   "cell_type": "code",
   "execution_count": null,
   "metadata": {},
   "outputs": [],
   "source": []
  }
 ],
 "metadata": {
  "@webio": {
   "lastCommId": null,
   "lastKernelId": null
  },
  "kernelspec": {
   "display_name": "Julia 1.1.1",
   "language": "julia",
   "name": "julia-1.1"
  },
  "language_info": {
   "file_extension": ".jl",
   "mimetype": "application/julia",
   "name": "julia",
   "version": "1.1.1"
  }
 },
 "nbformat": 4,
 "nbformat_minor": 2
}
