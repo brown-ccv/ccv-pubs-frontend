{
 "cells": [
  {
   "cell_type": "code",
   "execution_count": 4,
   "metadata": {},
   "outputs": [],
   "source": [
    "import Pkg\n",
    "Pkg.activate(pwd())\n",
    "\n",
    "using HTTP\n",
    "using Gumbo\n",
    "using AbstractTrees\n",
    "using Dates\n",
    "using DataFrames\n",
    "using MySQL\n",
    "\n",
    "using VegaLite\n",
    "using DataVoyager\n",
    "using Interact\n",
    "\n",
    "using TextAnalysis\n",
    "using JSON\n",
    "\n",
    "using DotEnv"
   ]
  },
  {
   "cell_type": "code",
   "execution_count": 5,
   "metadata": {},
   "outputs": [
    {
     "data": {
      "text/plain": [
       "MySQL Connection\n",
       "------------\n",
       "Host: pdspracticemydbcit.services.brown.edu\n",
       "Port: 3306\n",
       "User: ccvpubs_api\n",
       "DB:   ccvpubs\n"
      ]
     },
     "execution_count": 5,
     "metadata": {},
     "output_type": "execute_result"
    }
   ],
   "source": [
    "DotEnv.config()\n",
    "opts = Dict(MySQL.API.MYSQL_ENABLE_CLEARTEXT_PLUGIN => 1)\n",
    "user = ENV[\"mysql_user\"]\n",
    "pass = ENV[\"mysql_password\"]\n",
    "conn = MySQL.connect(\"pdspracticemydbcit.services.brown.edu\", user,pass, db = \"ccvpubs\", opts=opts)"
   ]
  },
  {
   "cell_type": "code",
   "execution_count": 6,
   "metadata": {},
   "outputs": [
    {
     "name": "stderr",
     "output_type": "stream",
     "text": [
      "┌ Warning: `MySQL.query(conn, sql, DataFrame)` is deprecated; use `MySQL.query(conn, sql) |> DataFrame(args...)` instead\n",
      "│   caller = ip:0x0\n",
      "└ @ Core :-1\n"
     ]
    },
    {
     "data": {
      "text/html": [
       "<table class=\"data-frame\"><thead><tr><th></th><th>year</th><th>month</th></tr><tr><th></th><th>Int64</th><th>String⍰</th></tr></thead><tbody><p>175 rows × 2 columns</p><tr><th>1</th><td>2017</td><td>9</td></tr><tr><th>2</th><td>2017</td><td>9</td></tr><tr><th>3</th><td>2017</td><td>9</td></tr><tr><th>4</th><td>2017</td><td>9</td></tr><tr><th>5</th><td>2018</td><td>5</td></tr><tr><th>6</th><td>2018</td><td>5</td></tr><tr><th>7</th><td>2017</td><td>Missing</td></tr><tr><th>8</th><td>2017</td><td>4</td></tr><tr><th>9</th><td>2017</td><td>4</td></tr><tr><th>10</th><td>2017</td><td>3</td></tr><tr><th>11</th><td>2017</td><td>1</td></tr><tr><th>12</th><td>2017</td><td>1</td></tr><tr><th>13</th><td>2017</td><td>2</td></tr><tr><th>14</th><td>2017</td><td>2</td></tr><tr><th>15</th><td>2016</td><td>4</td></tr><tr><th>16</th><td>2016</td><td>4</td></tr><tr><th>17</th><td>2016</td><td>1</td></tr><tr><th>18</th><td>2016</td><td>Missing</td></tr><tr><th>19</th><td>2016</td><td>11</td></tr><tr><th>20</th><td>2016</td><td>Missing</td></tr><tr><th>21</th><td>2016</td><td>8</td></tr><tr><th>22</th><td>2016</td><td>10</td></tr><tr><th>23</th><td>2016</td><td>2</td></tr><tr><th>24</th><td>2016</td><td>3</td></tr><tr><th>25</th><td>2016</td><td>1</td></tr><tr><th>26</th><td>2016</td><td>4</td></tr><tr><th>27</th><td>2017</td><td>1</td></tr><tr><th>28</th><td>2016</td><td>3</td></tr><tr><th>29</th><td>2017</td><td>1</td></tr><tr><th>30</th><td>2016</td><td>6</td></tr><tr><th>&vellip;</th><td>&vellip;</td><td>&vellip;</td></tr></tbody></table>"
      ],
      "text/latex": [
       "\\begin{tabular}{r|cc}\n",
       "\t& year & month\\\\\n",
       "\t\\hline\n",
       "\t& Int64 & String⍰\\\\\n",
       "\t\\hline\n",
       "\t1 & 2017 & 9 \\\\\n",
       "\t2 & 2017 & 9 \\\\\n",
       "\t3 & 2017 & 9 \\\\\n",
       "\t4 & 2017 & 9 \\\\\n",
       "\t5 & 2018 & 5 \\\\\n",
       "\t6 & 2018 & 5 \\\\\n",
       "\t7 & 2017 & Missing \\\\\n",
       "\t8 & 2017 & 4 \\\\\n",
       "\t9 & 2017 & 4 \\\\\n",
       "\t10 & 2017 & 3 \\\\\n",
       "\t11 & 2017 & 1 \\\\\n",
       "\t12 & 2017 & 1 \\\\\n",
       "\t13 & 2017 & 2 \\\\\n",
       "\t14 & 2017 & 2 \\\\\n",
       "\t15 & 2016 & 4 \\\\\n",
       "\t16 & 2016 & 4 \\\\\n",
       "\t17 & 2016 & 1 \\\\\n",
       "\t18 & 2016 & Missing \\\\\n",
       "\t19 & 2016 & 11 \\\\\n",
       "\t20 & 2016 & Missing \\\\\n",
       "\t21 & 2016 & 8 \\\\\n",
       "\t22 & 2016 & 10 \\\\\n",
       "\t23 & 2016 & 2 \\\\\n",
       "\t24 & 2016 & 3 \\\\\n",
       "\t25 & 2016 & 1 \\\\\n",
       "\t26 & 2016 & 4 \\\\\n",
       "\t27 & 2017 & 1 \\\\\n",
       "\t28 & 2016 & 3 \\\\\n",
       "\t29 & 2017 & 1 \\\\\n",
       "\t30 & 2016 & 6 \\\\\n",
       "\t$\\dots$ & $\\dots$ & $\\dots$ \\\\\n",
       "\\end{tabular}\n"
      ],
      "text/plain": [
       "175×2 DataFrame\n",
       "│ Row │ year  │ month   │\n",
       "│     │ \u001b[90mInt64\u001b[39m │ \u001b[90mString⍰\u001b[39m │\n",
       "├─────┼───────┼─────────┤\n",
       "│ 1   │ 2017  │ 9       │\n",
       "│ 2   │ 2017  │ 9       │\n",
       "│ 3   │ 2017  │ 9       │\n",
       "│ 4   │ 2017  │ 9       │\n",
       "│ 5   │ 2018  │ 5       │\n",
       "│ 6   │ 2018  │ 5       │\n",
       "│ 7   │ 2017  │ Missing │\n",
       "│ 8   │ 2017  │ 4       │\n",
       "│ 9   │ 2017  │ 4       │\n",
       "│ 10  │ 2017  │ 3       │\n",
       "⋮\n",
       "│ 165 │ 2015  │ 10      │\n",
       "│ 166 │ 2018  │ 6       │\n",
       "│ 167 │ 2018  │ 7       │\n",
       "│ 168 │ 2017  │ 7       │\n",
       "│ 169 │ 2017  │ Missing │\n",
       "│ 170 │ 2017  │ 9       │\n",
       "│ 171 │ 2017  │ 8       │\n",
       "│ 172 │ 2016  │ 8       │\n",
       "│ 173 │ 2017  │ 8       │\n",
       "│ 174 │ 2014  │ 2       │\n",
       "│ 175 │ 2013  │ 12      │"
      ]
     },
     "execution_count": 6,
     "metadata": {},
     "output_type": "execute_result"
    }
   ],
   "source": [
    "data = MySQL.query(conn, \"\"\"SELECT * FROM pubsNew;\"\"\", DataFrame)\n",
    "small_data = DataFrame( year = parse.(Int, data[!, :year]), month = data[!, :month])\n",
    "\n",
    "rows = eachrow(small_data)\n",
    "\n",
    "for row in rows\n",
    "    if row.month[1] == '0'\n",
    "        row.month = string(row.month[2])\n",
    "    end\n",
    "end\n",
    "\n",
    "small_data"
   ]
  },
  {
   "cell_type": "code",
   "execution_count": 6,
   "metadata": {},
   "outputs": [],
   "source": [
    "small_data |> Voyager();"
   ]
  },
  {
   "cell_type": "code",
   "execution_count": 18,
   "metadata": {},
   "outputs": [
    {
     "ename": "ErrorException",
     "evalue": "Expected ',' here\nLine: 42\nAround: ...nal\": \"{\"year\": ''+datum[\"year...\n                    ^\n",
     "output_type": "error",
     "traceback": [
      "Expected ',' here\nLine: 42\nAround: ...nal\": \"{\"year\": ''+datum[\"year...\n                    ^\n",
      "",
      "Stacktrace:",
      " [1] error(::String) at ./error.jl:33",
      " [2] _error(::String, ::JSON.Parser.MemoryParserState) at /Users/mauradriscoll/.julia/packages/JSON/d89fA/src/Parser.jl:142",
      " [3] _error_expected_char(::UInt8, ::JSON.Parser.MemoryParserState) at /Users/mauradriscoll/.julia/packages/JSON/d89fA/src/Parser.jl:85",
      " [4] skip! at /Users/mauradriscoll/.julia/packages/JSON/d89fA/src/Parser.jl:82 [inlined]",
      " [5] parse_object(::JSON.Parser.ParserContext{Dict{String,Any},Int64,true,nothing}, ::JSON.Parser.MemoryParserState) at /Users/mauradriscoll/.julia/packages/JSON/d89fA/src/Parser.jl:236",
      " [6] parse_value(::JSON.Parser.ParserContext{Dict{String,Any},Int64,true,nothing}, ::JSON.Parser.MemoryParserState) at /Users/mauradriscoll/.julia/packages/JSON/d89fA/src/Parser.jl:168",
      " [7] parse_object(::JSON.Parser.ParserContext{Dict{String,Any},Int64,true,nothing}, ::JSON.Parser.MemoryParserState) at /Users/mauradriscoll/.julia/packages/JSON/d89fA/src/Parser.jl:232",
      " [8] parse_value(::JSON.Parser.ParserContext{Dict{String,Any},Int64,true,nothing}, ::JSON.Parser.MemoryParserState) at /Users/mauradriscoll/.julia/packages/JSON/d89fA/src/Parser.jl:168",
      " [9] parse_object(::JSON.Parser.ParserContext{Dict{String,Any},Int64,true,nothing}, ::JSON.Parser.MemoryParserState) at /Users/mauradriscoll/.julia/packages/JSON/d89fA/src/Parser.jl:232",
      " [10] parse_value(::JSON.Parser.ParserContext{Dict{String,Any},Int64,true,nothing}, ::JSON.Parser.MemoryParserState) at /Users/mauradriscoll/.julia/packages/JSON/d89fA/src/Parser.jl:168",
      " [11] parse_object(::JSON.Parser.ParserContext{Dict{String,Any},Int64,true,nothing}, ::JSON.Parser.MemoryParserState) at /Users/mauradriscoll/.julia/packages/JSON/d89fA/src/Parser.jl:232",
      " [12] parse_value(::JSON.Parser.ParserContext{Dict{String,Any},Int64,true,nothing}, ::JSON.Parser.MemoryParserState) at /Users/mauradriscoll/.julia/packages/JSON/d89fA/src/Parser.jl:168",
      " [13] parse_array(::JSON.Parser.ParserContext{Dict{String,Any},Int64,true,nothing}, ::JSON.Parser.MemoryParserState) at /Users/mauradriscoll/.julia/packages/JSON/d89fA/src/Parser.jl:205",
      " [14] parse_value(::JSON.Parser.ParserContext{Dict{String,Any},Int64,true,nothing}, ::JSON.Parser.MemoryParserState) at /Users/mauradriscoll/.julia/packages/JSON/d89fA/src/Parser.jl:170",
      " [15] parse_object(::JSON.Parser.ParserContext{Dict{String,Any},Int64,true,nothing}, ::JSON.Parser.MemoryParserState) at /Users/mauradriscoll/.julia/packages/JSON/d89fA/src/Parser.jl:232",
      " [16] parse_value(::JSON.Parser.ParserContext{Dict{String,Any},Int64,true,nothing}, ::JSON.Parser.MemoryParserState) at /Users/mauradriscoll/.julia/packages/JSON/d89fA/src/Parser.jl:168",
      " [17] #parse#1(::Type, ::Type{Int64}, ::Bool, ::Nothing, ::Function, ::String) at /Users/mauradriscoll/.julia/packages/JSON/d89fA/src/Parser.jl:463",
      " [18] parse(::String) at /Users/mauradriscoll/.julia/packages/JSON/d89fA/src/Parser.jl:461",
      " [19] top-level scope at In[18]:106"
     ]
    }
   ],
   "source": [
    "small_data_json = JSON.json(small_data)\n",
    "spec = \"\"\"{\n",
    "  \"autosize\": \"pad\",\n",
    "  \"padding\": 5,\n",
    "  \"height\": 200,\n",
    "  \"title\": {\"text\": \"Number of Publications vs Year\", \"frame\": \"group\"},\n",
    "  \"style\": \"cell\",\n",
    "  \"data\": {\n",
    "    \"name\": \"source\",\n",
    "    \"values\": $(small_data_json)\n",
    "  },\n",
    "    \"selection\": {\n",
    "    \"highlight\": {\"type\": \"single\", \"empty\": \"none\", \"on\": \"mouseover\"},\n",
    "    \"select\": {\"type\": \"multi\"}\n",
    "  },\n",
    "\n",
    "    \"signals\": [\n",
    "        {\"name\": \"x_step\", \"value\": 20},\n",
    "        {\n",
    "          \"name\": \"width\",\n",
    "          \"update\": \"bandspace(domain('x').length, 0.1, 0.05) * x_step\"\n",
    "        },\n",
    "        {\n",
    "          \"name\": \"select\",\n",
    "          \"value\": false,\n",
    "          \"on\": [\n",
    "            {\"events\": \"click\", \"update\": \"datum\"},\n",
    "            {\"events\": \"dblclick\", \"update\": \"null\"}\n",
    "          ]\n",
    "        }\n",
    "      ],\n",
    "    \"marks\": [\n",
    "    {\n",
    "      \"name\": \"marks\",\n",
    "      \"type\": \"rect\",\n",
    "      \"style\": [\"bar\"],\n",
    "      \"from\": {\"data\": \"data_0\"},\n",
    "      \"encode\": {\n",
    "        \"update\": {\n",
    "          \"fill\": {\"value\": \"#00FFFF\"},\n",
    "          \"stroke\": {\"value\": \"black\"},\n",
    "          \"cursor\": {\"value\": \"pointer\"},\n",
    "          \"tooltip\": {\n",
    "            \"signal\": \"{\\\"year\\\": ''+datum[\\\"year\\\"], \\\"Count of Records\\\": format(datum[\\\"__count\\\"], \\\"\\\")}\"\n",
    "          },\n",
    "          \"x\": {\"scale\": \"x\", \"field\": \"year\"},\n",
    "          \"width\": {\"scale\": \"x\", \"band\": true},\n",
    "          \"y\": {\"scale\": \"y\", \"field\": \"__count\"},\n",
    "          \"y2\": {\"scale\": \"y\", \"value\": 0}\n",
    "        }\n",
    "      }\n",
    "    }\n",
    "  ],\n",
    "  \"scales\": [\n",
    "    {\n",
    "      \"name\": \"x\",\n",
    "      \"type\": \"band\",\n",
    "      \"domain\": {\"data\": \"data_0\", \"field\": \"year\", \"sort\": true},\n",
    "      \"range\": {\"step\": {\"signal\": \"x_step\"}},\n",
    "      \"paddingInner\": 0.1,\n",
    "      \"paddingOuter\": 0.05\n",
    "    },\n",
    "    {\n",
    "      \"name\": \"y\",\n",
    "      \"type\": \"linear\",\n",
    "      \"domain\": {\"data\": \"data_0\", \"field\": \"__count\"},\n",
    "      \"range\": [{\"signal\": \"height\"}, 0],\n",
    "      \"nice\": true,\n",
    "      \"zero\": true\n",
    "    }\n",
    "  ],\n",
    "  \"axes\": [\n",
    "    {\n",
    "      \"scale\": \"x\",\n",
    "      \"orient\": \"bottom\",\n",
    "      \"grid\": false,\n",
    "      \"title\": \"Year\",\n",
    "      \"labelAlign\": \"right\",\n",
    "      \"labelAngle\": 270,\n",
    "      \"labelBaseline\": \"middle\",\n",
    "      \"zindex\": 1\n",
    "    },\n",
    "    {\n",
    "      \"scale\": \"y\",\n",
    "      \"orient\": \"left\",\n",
    "      \"grid\": false,\n",
    "      \"title\": \"Count of Records\",\n",
    "      \"labelOverlap\": true,\n",
    "      \"tickCount\": {\"signal\": \"ceil(height/40)\"},\n",
    "      \"zindex\": 1\n",
    "    },\n",
    "    {\n",
    "      \"scale\": \"y\",\n",
    "      \"orient\": \"left\",\n",
    "      \"gridScale\": \"x\",\n",
    "      \"grid\": true,\n",
    "      \"tickCount\": {\"signal\": \"ceil(height/40)\"},\n",
    "      \"domain\": false,\n",
    "      \"labels\": false,\n",
    "      \"maxExtent\": 0,\n",
    "      \"minExtent\": 0,\n",
    "      \"ticks\": false,\n",
    "      \"zindex\": 0\n",
    "    }\n",
    "  ]\"\"\"\n",
    "VegaLite.VGSpec(JSON.parse(spec))"
   ]
  },
  {
   "cell_type": "code",
   "execution_count": null,
   "metadata": {
    "slideshow": {
     "slide_type": "-"
    }
   },
   "outputs": [],
   "source": [
    "# create the corpus\n",
    "sds = []\n",
    "rows = eachrow(data)\n",
    "for x in rows\n",
    "    if x.abstract != \"Missing\"\n",
    "        push!(sds, StringDocument(x.abstract))\n",
    "    else\n",
    "        push!(sds, StringDocument(x.title))\n",
    "    end\n",
    "end\n",
    "\n",
    "# sds = map(x -> StringDocument(x.abstract), eachrow(data))\n",
    "corpus = Corpus(sds)\n",
    "\n",
    "# clean up the data\n",
    "sds = map(x->remove_corrupt_utf8!(x), sds)\n",
    "prepare!(corpus, strip_articles| strip_non_letters| strip_stopwords| strip_pronouns|strip_html_tags)\n",
    "remove_case!(corpus)\n",
    "remove_words!(corpus, [\"\\n\", \"a\"])\n",
    "\n",
    "# set up the lexicon\n",
    "lexicon(corpus)\n",
    "update_lexicon!(corpus)\n",
    "\n",
    "\n",
    "# light stemming - combine simple 's' plurals with their singular (e.g. models == model)\n",
    "pairs = Pair{String, String}[]\n",
    "for (k, v) in lexicon(corpus)\n",
    "    if k[end] == 's' && haskey(lexicon(corpus), k[1:end-1])\n",
    "        push!(pairs, k => k[1:end-1])\n",
    "    end\n",
    "end\n",
    "\n",
    "#remove words that were not stripped with one letter\n",
    "for (w, f) in lexicon(corpus)\n",
    "    if length(w) == 1\n",
    "        delete!(lexicon(corpus),w)\n",
    "    end\n",
    "end\n",
    "update_lexicon!(corpus)\n",
    "\n",
    "# replace plurals and update the lexicon\n",
    "for doc in corpus\n",
    "    for pair in pairs\n",
    "        doc.text = replace(doc.text, pair)\n",
    "    end\n",
    "end\n",
    "update_lexicon!(corpus)\n",
    "\n",
    "# set up inverse index\n",
    "inverse_index(corpus)\n",
    "update_inverse_index!(corpus)\n",
    "\n",
    "\n",
    "corpus"
   ]
  },
  {
   "cell_type": "code",
   "execution_count": 18,
   "metadata": {},
   "outputs": [
    {
     "data": {
      "text/plain": [
       "175×2178 SparseArrays.SparseMatrixCSC{Float64,Int64} with 4153 stored entries:\n",
       "  [30  ,    1]  =  0.406513\n",
       "  [48  ,    1]  =  0.0271008\n",
       "  [169 ,    2]  =  0.0326885\n",
       "  [88  ,    3]  =  1.2912\n",
       "  [22  ,    4]  =  0.0202297\n",
       "  [83  ,    4]  =  0.0262334\n",
       "  [123 ,    4]  =  0.0347536\n",
       "  [19  ,    5]  =  0.508272\n",
       "  [138 ,    5]  =  0.451797\n",
       "  [145 ,    5]  =  0.451797\n",
       "  [169 ,    6]  =  0.065377\n",
       "  [39  ,    7]  =  0.040285\n",
       "  ⋮\n",
       "  [15  , 2172]  =  0.0487034\n",
       "  [27  , 2172]  =  0.0395039\n",
       "  [39  , 2172]  =  0.0320302\n",
       "  [103 , 2172]  =  0.296279\n",
       "  [172 , 2172]  =  0.0587661\n",
       "  [13  , 2173]  =  0.322799\n",
       "  [7   , 2174]  =  0.638806\n",
       "  [18  , 2174]  =  0.558955\n",
       "  [83  , 2175]  =  0.0999636\n",
       "  [83  , 2176]  =  0.0333212\n",
       "  [138 , 2177]  =  0.573865\n",
       "  [46  , 2178]  =  0.573865"
      ]
     },
     "execution_count": 18,
     "metadata": {},
     "output_type": "execute_result"
    }
   ],
   "source": [
    "m =  DocumentTermMatrix(corpus)\n",
    "tfidf = tf_idf(m)"
   ]
  },
  {
   "cell_type": "code",
   "execution_count": 10,
   "metadata": {},
   "outputs": [],
   "source": [
    "# bi-grams - find common two word phrases\n",
    "\n",
    "bg = NGramDocument[]\n",
    "\n",
    "for d in corpus\n",
    "    push!(bg, NGramDocument(ngrams(d, 2), 1, d.metadata))\n",
    "end\n",
    "\n",
    "bg_corpus = Corpus(bg)\n",
    "\n",
    "# set up inverse index\n",
    "inverse_index(bg_corpus)\n",
    "update_inverse_index!(bg_corpus)\n",
    "\n",
    "# set up the lexicon\n",
    "lexicon(bg_corpus)\n",
    "update_lexicon!(bg_corpus)"
   ]
  },
  {
   "cell_type": "code",
   "execution_count": 11,
   "metadata": {},
   "outputs": [],
   "source": [
    "# tri-grams - find common three word phrases\n",
    "\n",
    "tg = NGramDocument[]\n",
    "\n",
    "for d in corpus\n",
    "    push!(tg, NGramDocument(ngrams(d, 3), 1, d.metadata))\n",
    "end\n",
    "\n",
    "tg_corpus = Corpus(tg)\n",
    "\n",
    "# set up inverse index\n",
    "inverse_index(tg_corpus)\n",
    "update_inverse_index!(tg_corpus)\n",
    "\n",
    "# set up the lexicon\n",
    "lexicon(tg_corpus)\n",
    "update_lexicon!(tg_corpus)"
   ]
  },
  {
   "cell_type": "code",
   "execution_count": 12,
   "metadata": {},
   "outputs": [
    {
     "data": {
      "text/plain": [
       "subgram_count (generic function with 1 method)"
      ]
     },
     "execution_count": 12,
     "metadata": {},
     "output_type": "execute_result"
    }
   ],
   "source": [
    "# get overall count of a term in the n+1 gram's dictionary\n",
    "function subgram_count(term, np1grams)\n",
    "    count = 0\n",
    "    for (k, v) in np1grams\n",
    "        if occursin(term, k)\n",
    "            count += v\n",
    "        end\n",
    "    end\n",
    "    \n",
    "    return count\n",
    "end"
   ]
  },
  {
   "cell_type": "code",
   "execution_count": 13,
   "metadata": {},
   "outputs": [
    {
     "data": {
      "text/plain": [
       "remove_ngrams (generic function with 1 method)"
      ]
     },
     "execution_count": 13,
     "metadata": {},
     "output_type": "execute_result"
    }
   ],
   "source": [
    "\n",
    "# prune and combine an n gram with it's n+1 gram given a cut off count\n",
    "function remove_ngrams(ngrams, np1grams, cut_off)\n",
    "    new_ngrams = Dict{String, Int}()\n",
    "    for (k, v) in ngrams\n",
    "        new_count = v - subgram_count(k, np1grams)\n",
    "        if new_count > cut_off\n",
    "            new_ngrams[k] = new_count\n",
    "        end\n",
    "    end\n",
    "    \n",
    "    return merge(new_ngrams, np1grams)\n",
    "end"
   ]
  },
  {
   "cell_type": "code",
   "execution_count": 14,
   "metadata": {},
   "outputs": [
    {
     "data": {
      "text/plain": [
       "remove_ngrams (generic function with 2 methods)"
      ]
     },
     "execution_count": 14,
     "metadata": {},
     "output_type": "execute_result"
    }
   ],
   "source": [
    "function remove_ngrams(ngrams, cut_off)\n",
    "    new_ngrams = Dict{String, Int}()\n",
    "    for (k, v) in ngrams\n",
    "        if v > cut_off\n",
    "            new_ngrams[k] = v\n",
    "        end\n",
    "    end\n",
    "    \n",
    "    return new_ngrams\n",
    "end"
   ]
  },
  {
   "cell_type": "code",
   "execution_count": 15,
   "metadata": {},
   "outputs": [
    {
     "name": "stdout",
     "output_type": "stream",
     "text": [
      "Dict(\"action\"=>4,\"step\"=>5,\"photosynthesis\"=>3,\"measurement\"=>8,\"walk\"=>4,\"scene\"=>5,\"star\"=>6,\"monte\"=>4,\"behavioral\"=>4,\"support\"=>4,\"protein\"=>6,\"computational\"=>11,\"demontrate\"=>5,\"n kg\"=>3,\"underground\"=>9,\"entropic\"=>3,\"electronic recoil\"=>5,\"these\"=>4,\"stress\"=>3,\"zinc\"=>3,\"methods\"=>3,\"self\"=>3,\"we conider\"=>3,\"molecule\"=>3,\"potential\"=>13,\"single\"=>10,\"muscular\"=>3,\"simulation\"=>11,\"large\"=>6,\"precision\"=>9,\"available\"=>6,\"period\"=>3,\"mass\"=>4,\"investment\"=>3,\"leaf\"=>5,\"particular\"=>6,\"dimenional\"=>5,\"results\"=>15,\"variability\"=>4,\"background\"=>4,\"user\"=>9,\"massive particle\"=>5,\"x ray\"=>4,\"mechanically untable\"=>3,\"structure\"=>13,\"mortality\"=>3,\"interplay\"=>4,\"catalyst\"=>10,\"al\"=>7,\"catalysis\"=>3,\"interacting massive\"=>4,\"free\"=>8,\"motion\"=>18,\"thermal\"=>4,\"implication\"=>6,\"lux detector\"=>4,\"classical\"=>5,\"motion in\"=>3,\"machine learning\"=>6,\"task\"=>6,\"local minima\"=>3,\"computer vision\"=>3,\"trot\"=>4,\"n\"=>19,\"bacterial\"=>3,\"lfp\"=>4,\"carbide\"=>3,\"reducible metal\"=>3,\"employ\"=>4,\"cognitive\"=>6,\"urchin\"=>5,\"skeletal muscular\"=>3,\"shifted\"=>3,\"marker\"=>17,\"conducted\"=>4,\"rate\"=>7,\"untable\"=>3,\"material\"=>5,\"tracking marker\"=>4,\"sequence\"=>4,\"n n\"=>6,\"example\"=>4,\"matlab\"=>4,\"species\"=>6,\"set\"=>8,\"based xromm\"=>6,\"associated\"=>9,\"involved\"=>4,\"atom\"=>3,\"internal\"=>4,\"tools\"=>4,\"helicosporidium\"=>5,\"recontruction\"=>3,\"vacancies\"=>4,\"term\"=>4,\"highly\"=>5,\"mathrm\"=>8,\"model\"=>45,\"x\"=>4,\"kev\"=>11,\"development sea\"=>3,\"subject\"=>3,\"shell\"=>3,\"tan pauses\"=>3,\"most\"=>4,\"reveal\"=>6,\"six\"=>3,\"version\"=>3,\"phys\"=>3,\"marker based xromm\"=>6,\"parasite\"=>4,\"management\"=>3,\"energies\"=>5,\"classify\"=>3,\"infection\"=>3,\"relation\"=>4,\"evidence\"=>6,\"tan\"=>5,\"challenge\"=>6,\"perceptual\"=>3,\"flow\"=>4,\"image\"=>9,\"analyses\"=>9,\"infected\"=>3,\"sites\"=>3,\"domain\"=>6,\"double\"=>3,\"active\"=>6,\"predict\"=>4,\"charge tranfer\"=>3,\"carlo\"=>4,\"yields\"=>6,\"mean\"=>9,\"weakly\"=>4,\"defective\"=>3,\"calibration nuclear recoil\"=>3,\"hybrid simulation\"=>4,\"detection\"=>6,\"close\"=>3,\"including\"=>8,\"study\"=>16,\"predicted\"=>4,\"imaging\"=>4,\"et al\"=>4,\"strain\"=>6,\"feeding\"=>6,\"change\"=>3,\"alcohol\"=>6,\"analyze\"=>3,\"mechanically\"=>3,\"information\"=>6,\"via\"=>5,\"principles\"=>5,\"energy\"=>29,\"algae\"=>4,\"monoenergetic\"=>3,\"phenomena\"=>4,\"biomechanics\"=>3,\"cognition\"=>3,\"reduction\"=>8,\"process\"=>8,\"complex\"=>7,\"et\"=>4,\"novel\"=>8,\"force\"=>5,\"neuronal\"=>7,\"value\"=>5,\"sparse\"=>3,\"an\"=>4,\"effective\"=>4,\"focal seizure\"=>4,\"relaxation\"=>4,\"reduce\"=>4,\"particle\"=>17,\"multiscale\"=>3,\"shift\"=>3,\"evolutionary\"=>5,\"senitive\"=>3,\"decision\"=>4,\"contextual\"=>3,\"echinoderm\"=>8,\"oxide\"=>4,\"flexible\"=>3,\"linkage\"=>3,\"generate\"=>3,\"math\"=>4,\"c\"=>11,\"interface\"=>4,\"location\"=>3,\"processing\"=>10,\"resolution\"=>3,\"function\"=>16,\"stage\"=>5,\"mars\"=>3,\"ion\"=>6,\"with\"=>4,\"measured\"=>7,\"matter\"=>14,\"recently\"=>3,\"calibration nuclear\"=>3,\"driven\"=>7,\"facilitate\"=>4,\"it\"=>5,\"underground xenon lux\"=>3,\"remain\"=>4,\"surface\"=>13,\"sea urchin\"=>5,\"scattering\"=>6,\"strike\"=>5,\"sea star\"=>4,\"matter experiment\"=>3,\"large underground\"=>5,\"comparison\"=>4,\"capture\"=>3,\"based\"=>18,\"crassostreae\"=>6,\"artificial\"=>4,\"contant\"=>4,\"cortex\"=>6,\"appear\"=>3,\"deep\"=>7,\"oxygen\"=>5,\"fold\"=>4,\"preliminary\"=>3,\"online\"=>3,\"how\"=>3,\"electrocatalyst\"=>3,\"o\"=>3,\"light\"=>6,\"multiple\"=>12,\"equation\"=>4,\"observed\"=>4,\"learning\"=>26,\"stimuli\"=>3,\"reinforcement\"=>6,\"decay\"=>4,\"activity\"=>7,\"degree\"=>6,\"illusion\"=>3,\"reaction\"=>8,\"healthy\"=>4,\"h\"=>5,\"circuit\"=>3,\"tranfer\"=>5,\"this\"=>8,\"neural\"=>18,\"pathway\"=>4,\"electron\"=>6,\"organism\"=>4,\"adaptation\"=>3,\"matter particle\"=>3,\"eeg\"=>5,\"vision\"=>3,\"intermediate\"=>3,\"suggesting\"=>5,\"resistant\"=>3,\"indicating\"=>3,\"chamber\"=>3,\"as\"=>3,\"vivo\"=>6,\"using\"=>17,\"ray\"=>6,\"denity functional\"=>5,\"single neuron\"=>3,\"fs\"=>4,\"form\"=>6,\"peak\"=>4,\"reducible\"=>4,\"math processing\"=>4,\"electric\"=>3,\"wave\"=>3,\"real\"=>5,\"experimental\"=>6,\"increase\"=>9,\"extra classical\"=>3,\"ionization\"=>3,\"reduce alcohol\"=>3,\"underground xenon\"=>5,\"limit\"=>6,\"barriers\"=>3,\"measure\"=>4,\"health\"=>3,\"charge\"=>12,\"parasitic\"=>3,\"included\"=>3,\"nuclear recoil\"=>10,\"algorithm\"=>5,\"sampling\"=>4,\"application\"=>5,\"host\"=>4,\"biology\"=>4,\"p\"=>3,\"extended\"=>3,\"co reduction\"=>3,\"timing\"=>4,\"shear\"=>3,\"deoxygenation\"=>3,\"component\"=>3,\"effect\"=>8,\"return investment\"=>3,\"handle\"=>3,\"quality\"=>3,\"bar\"=>7,\"software\"=>5,\"beyond\"=>3,\"gene\"=>10,\"contrained\"=>3,\"delocalization\"=>3,\"computational model\"=>4,\"treatment\"=>7,\"role\"=>3,\"mechanism\"=>19,\"kinematics\"=>4,\"investigate\"=>4,\"hydrogen\"=>4,\"human\"=>16,\"leading\"=>3,\"develop\"=>3,\"white\"=>4,\"neutron\"=>8,\"neural network\"=>4,\"animal\"=>4,\"bar linkage\"=>3,\"average\"=>3,\"object\"=>5,\"bone\"=>5,\"machine\"=>6,\"cost\"=>9,\"behavior\"=>7,\"nuclear\"=>11,\"seizure\"=>7,\"essential\"=>3,\"immune\"=>3,\"cbt\"=>4,\"r\"=>6,\"stable\"=>3,\"variable\"=>3,\"calibration\"=>12,\"individual\"=>3,\"conider\"=>4,\"accuracy\"=>7,\"processes\"=>3,\"math processing error\"=>4,\"search\"=>7,\"monte carlo\"=>4,\"categorization\"=>4,\"dual phase\"=>4,\"contribution\"=>3,\"core\"=>4,\"dynamic\"=>25,\"age\"=>4,\"systematic\"=>3,\"natural scene\"=>5,\"obligate\"=>3,\"minimum\"=>4,\"properties\"=>5,\"economic\"=>5,\"volume\"=>3,\"deep learning\"=>3,\"specific\"=>3,\"cognitive behavioral\"=>3,\"biomechanical\"=>3,\"level\"=>11,\"paper\"=>3,\"deep network\"=>3,\"low\"=>15,\"hiv\"=>9,\"event\"=>9,\"tracking\"=>10,\"ablation\"=>3,\"helicosporidium genome\"=>3,\"spiking\"=>4,\"excellent\"=>4,\"opercular mechanism\"=>5,\"stochastic\"=>4,\"shape\"=>9,\"time projection\"=>3,\"structural\"=>9,\"dependence\"=>3,\"the\"=>53,\"these results\"=>3,\"matrix\"=>3,\"leaves\"=>3,\"population\"=>4,\"hypothesis\"=>3,\"interaction\"=>10,\"resulting\"=>3,\"requires\"=>5,\"lifetime\"=>3,\"low energy\"=>5,\"metal carbide\"=>3,\"lead\"=>4,\"traditional\"=>3,\"kg\"=>4,\"ratio\"=>4,\"space\"=>4,\"expectation\"=>4,\"binding\"=>3,\"scaling\"=>3,\"processing error\"=>4,\"combined\"=>4,\"m\"=>6,\"denity\"=>6,\"rl\"=>3,\"trial\"=>5,\"due\"=>7,\"science\"=>3,\"movement\"=>6,\"hamiltonian\"=>3,\"dual\"=>5,\"defective rbc\"=>3,\"symmetry\"=>3,\"previous\"=>4,\"nine user\"=>4,\"r crassostreae\"=>5,\"thus\"=>3,\"large underground xenon\"=>5,\"we employ\"=>4,\"field\"=>8,\"ct\"=>3,\"sea\"=>13,\"dark matter\"=>12,\"kenya\"=>3,\"projection chamber\"=>3,\"integration\"=>3,\"cortical\"=>4,\"provide\"=>12,\"time projection chamber\"=>3,\"acid\"=>3,\"produce\"=>3,\"signature\"=>3,\"analysis\"=>14,\"system\"=>29,\"suggest\"=>5,\"skeletal\"=>8,\"disease\"=>4,\"in\"=>20,\"derived\"=>3,\"oyster\"=>15,\"minima\"=>3,\"liquid\"=>13,\"exhibit\"=>3,\"benefit\"=>7,\"weakly interacting\"=>4,\"visual\"=>8,\"studying\"=>3,\"quantify\"=>3,\"grfv n kg\"=>3,\"accurate\"=>3,\"rapid\"=>4,\"body\"=>8,\"error\"=>13,\"produced\"=>4,\"spike\"=>3,\"source\"=>7,\"trait\"=>3,\"intervention\"=>6,\"hybrid\"=>6,\"yielded\"=>3,\"offers\"=>3,\"aspects\"=>3,\"early\"=>3,\"families\"=>7,\"rib\"=>10,\"pressure\"=>4,\"region\"=>3,\"differential\"=>4,\"xenon lux\"=>3,\"environment\"=>5,\"dynamically\"=>3,\"dft\"=>3,\"real time\"=>4,\"signal\"=>5,\"performed\"=>6,\"genome\"=>9,\"cascade\"=>3,\"link\"=>4,\"however\"=>4,\"extra\"=>4,\"outcome\"=>5,\"grfv\"=>4,\"mm\"=>9,\"abstract\"=>7,\"directly\"=>3,\"venation\"=>3,\"senitivity\"=>4,\"patient\"=>3,\"equilibrium\"=>4,\"n n n\"=>4,\"er\"=>3,\"developmental\"=>3,\"return\"=>3,\"xenon\"=>20,\"massive\"=>5,\"v\"=>5,\"inight\"=>5,\"projection\"=>3,\"electronic\"=>6,\"lux\"=>13,\"xmalab\"=>16,\"artificial boundary\"=>4,\"ev\"=>3,\"functional\"=>13,\"numerous\"=>4,\"fractional\"=>8,\"ribcage\"=>3,\"dpd\"=>5,\"fast\"=>4,\"diffusion\"=>5,\"loss\"=>4,\"freedom\"=>5,\"rydberg\"=>6,\"expression\"=>4,\"interpretation\"=>3,\"marker based\"=>6,\"grfv n\"=>3,\"time\"=>22,\"calculation\"=>11,\"xrayproject\"=>8,\"fluctuation\"=>12,\"decoding\"=>6,\"network\"=>11,\"text\"=>5,\"boundary\"=>8,\"computer\"=>4,\"increased\"=>3,\"independent\"=>3,\"enemble\"=>4,\"first\"=>3,\"contraint dynamic\"=>4,\"data management\"=>3,\"degree freedom\"=>5,\"variety\"=>7,\"complexity\"=>4,\"functional theory\"=>4,\"feature\"=>8,\"ability\"=>3,\"increasing\"=>3,\"s\"=>3,\"american\"=>5,\"j\"=>3,\"presence\"=>8,\"data\"=>23,\"target\"=>3,\"standard\"=>5,\"d\"=>10,\"extenion\"=>4,\"theory\"=>5,\"tranient\"=>3,\"walk trot\"=>3,\"co\"=>5,\"normal\"=>3,\"tranition\"=>9,\"focal\"=>5,\"distortion\"=>3,\"detector\"=>7,\"scaling relation\"=>3,\"xromm\"=>14,\"deviation\"=>3,\"related\"=>5,\"atomistic\"=>3,\"strong\"=>3,\"run\"=>3,\"we report\"=>5,\"report\"=>6,\"denity functional theory\"=>4,\"mcpj\"=>5,\"pattern\"=>4,\"character\"=>4,\"american oyster\"=>4,\"dark matter experiment\"=>3,\"motor\"=>5,\"relationhip\"=>6,\"illustrate\"=>3,\"evolution\"=>11,\"finding\"=>5,\"nitrogen\"=>3,\"our\"=>4,\"accuracy precision\"=>4,\"framework\"=>6,\"bone motion\"=>3,\"technique\"=>8,\"nine\"=>4,\"we\"=>42,\"rbc\"=>16,\"identification\"=>4,\"reduced\"=>5,\"angle\"=>3,\"electric field\"=>3,\"neuron\"=>7,\"describe\"=>3,\"rod\"=>4,\"phase\"=>16,\"trancripts\"=>3,\"human focal seizure\"=>3,\"natural\"=>5,\"recombination\"=>5,\"recoil energies\"=>3,\"differences\"=>3,\"dark\"=>12,\"development\"=>7,\"vacancy\"=>4,\"mediation\"=>4,\"respone\"=>14,\"temperature\"=>3,\"liquid xenon\"=>11,\"research\"=>7,\"suitable\"=>3,\"spatial\"=>3,\"direct\"=>5,\"enable\"=>6,\"memory\"=>5,\"overall\"=>3,\"virus\"=>3,\"test\"=>5,\"wimp\"=>6,\"free energy\"=>3,\"revealed\"=>3,\"generalized\"=>3,\"fit\"=>3,\"dark matter particle\"=>3,\"interacting\"=>5,\"include\"=>4,\"deposit\"=>4,\"reinforcement learning\"=>5,\"compare\"=>3,\"input\"=>5,\"clustering\"=>4,\"approach\"=>6,\"human focal\"=>4,\"respectively\"=>4,\"cell\"=>6,\"dof\"=>5,\"rotation\"=>6,\"susceptible\"=>3,\"video\"=>4,\"lipid\"=>4,\"here\"=>6,\"interacting massive particle\"=>4,\"senitivity analyses\"=>3,\"planar\"=>4,\"crocodylian\"=>3,\"recoil\"=>19,\"studies\"=>8,\"selectivity\"=>3,\"on\"=>3,\"opercular\"=>5,\"cm\"=>4,\"local\"=>8,\"lipid bilayer\"=>4,\"contraint\"=>5,\"task shifted\"=>3,\"legwear\"=>3,\"weakly interacting massive\"=>4,\"recombination fluctuation\"=>3,\"latent\"=>4,\"tranport\"=>3,\"pauses\"=>3,\"phylogenetic\"=>9,\"piwi\"=>3,\"motor cortex\"=>4,\"understanding\"=>11,\"disorder\"=>4,\"metal\"=>9,\"control\"=>4,\"synchrony\"=>3,\"identify\"=>3,\"bilayer\"=>5,\"spatiotemporal\"=>4,\"experiment\"=>9,\"power\"=>4,\"hydrogen evolution\"=>4,\"joint\"=>6,\"recognition\"=>5)"
     ]
    },
    {
     "data": {
      "text/html": [
       "<table class=\"data-frame\"><thead><tr><th></th><th>variable</th><th>mean</th><th>min</th><th>median</th><th>max</th><th>nunique</th><th>nmissing</th><th>eltype</th></tr><tr><th></th><th>Symbol</th><th>Union…</th><th>Any</th><th>Union…</th><th>Any</th><th>Union…</th><th>Nothing</th><th>Type</th></tr></thead><tbody><p>3 rows × 8 columns</p><tr><th>1</th><td>abstract</td><td></td><td>ability</td><td></td><td>yields</td><td>464</td><td></td><td>String</td></tr><tr><th>2</th><td>count</td><td>8.08405</td><td>3</td><td>5.0</td><td>53</td><td></td><td></td><td>Int64</td></tr><tr><th>3</th><td>pubs</td><td></td><td>[1, 2, 4, 128]</td><td></td><td>[172, 173, 174]</td><td>419</td><td></td><td>Array</td></tr></tbody></table>"
      ],
      "text/latex": [
       "\\begin{tabular}{r|cccccccc}\n",
       "\t& variable & mean & min & median & max & nunique & nmissing & eltype\\\\\n",
       "\t\\hline\n",
       "\t& Symbol & Union… & Any & Union… & Any & Union… & Nothing & Type\\\\\n",
       "\t\\hline\n",
       "\t1 & abstract &  & ability &  & yields & 464 &  & String \\\\\n",
       "\t2 & count & 8.08405 & 3 & 5.0 & 53 &  &  & Int64 \\\\\n",
       "\t3 & pubs &  & [1, 2, 4, 128] &  & [172, 173, 174] & 419 &  & Array \\\\\n",
       "\\end{tabular}\n"
      ],
      "text/plain": [
       "3×8 DataFrame. Omitted printing of 3 columns\n",
       "│ Row │ variable │ mean    │ min            │ median │ max             │\n",
       "│     │ \u001b[90mSymbol\u001b[39m   │ \u001b[90mUnion…\u001b[39m  │ \u001b[90mAny\u001b[39m            │ \u001b[90mUnion…\u001b[39m │ \u001b[90mAny\u001b[39m             │\n",
       "├─────┼──────────┼─────────┼────────────────┼────────┼─────────────────┤\n",
       "│ 1   │ abstract │         │ ability        │        │ yields          │\n",
       "│ 2   │ count    │ 8.08405 │ 3              │ 5.0    │ 53              │\n",
       "│ 3   │ pubs     │         │ [1, 2, 4, 128] │        │ [172, 173, 174] │"
      ]
     },
     "execution_count": 15,
     "metadata": {},
     "output_type": "execute_result"
    }
   ],
   "source": [
    "# combine ngrams and find most common words and phrases\n",
    "tg_cut_off = 2\n",
    "bg_cut_off = 4\n",
    "ug_cut_off = 15\n",
    "\n",
    "pubs_cut_off = 3\n",
    "\n",
    "new_tg = remove_ngrams(lexicon(tg_corpus), tg_cut_off)\n",
    "new_bg = remove_ngrams(lexicon(bg_corpus), new_tg, bg_cut_off)\n",
    "new_ug = remove_ngrams(lexicon(corpus), new_bg, ug_cut_off)\n",
    "\n",
    "print(new_ug)\n",
    "\n",
    "# turn the n-grams into tabular data for plotting\n",
    "word_data = NamedTuple{(:abstract, :count, :pubs), Tuple{String, Int, Array}}[]\n",
    "for (word, count) in new_ug\n",
    "    inds = []\n",
    "    word_len = length(split(word))\n",
    "    if word_len == 3\n",
    "        inds = inverse_index(tg_corpus)[word]\n",
    "    elseif word_len == 2\n",
    "        inds = inverse_index(bg_corpus)[word]\n",
    "    else\n",
    "        inds = inverse_index(corpus)[word]\n",
    "    end\n",
    "\n",
    "    freq = 0\n",
    "    total = 0\n",
    "    for doc in inds\n",
    "        allWords = tokens(doc)\n",
    "        total = size(allWords)[1] + total\n",
    "        ngrams = ngrams(doc)\n",
    "        count = ngrams[word] + count\n",
    "    end\n",
    "    freq = count/total\n",
    "        \n",
    "        \n",
    "    \n",
    "    push!(word_data, NamedTuple{(:abstract, :count, :pubs), Tuple{String, Int, Array}}((word, count * word_len^2, inds)))\n",
    "    end\n",
    "end\n",
    "\n",
    "word_data |> DataFrame |> describe"
   ]
  },
  {
   "cell_type": "code",
   "execution_count": 16,
   "metadata": {},
   "outputs": [
    {
     "data": {
      "application/vnd.vega.v5+json": {
       "data": [
        {
         "name": "table",
         "values": [
          {
           "abstract": "action",
           "count": 4,
           "pubs": [
            110,
            122,
            148
           ]
          },
          {
           "abstract": "step",
           "count": 5,
           "pubs": [
            22,
            83,
            84,
            171
           ]
          },
          {
           "abstract": "measurement",
           "count": 8,
           "pubs": [
            15,
            27,
            39,
            83,
            173
           ]
          },
          {
           "abstract": "scene",
           "count": 5,
           "pubs": [
            76,
            104,
            154
           ]
          },
          {
           "abstract": "star",
           "count": 6,
           "pubs": [
            40,
            63,
            64
           ]
          },
          {
           "abstract": "monte",
           "count": 4,
           "pubs": [
            14,
            30,
            58,
            170
           ]
          },
          {
           "abstract": "support",
           "count": 4,
           "pubs": [
            40,
            80,
            148,
            165
           ]
          },
          {
           "abstract": "protein",
           "count": 6,
           "pubs": [
            8,
            22,
            35,
            38,
            54,
            77
           ]
          },
          {
           "abstract": "computational",
           "count": 11,
           "pubs": [
            14,
            46,
            57,
            80,
            104,
            123,
            141,
            144,
            148,
            154,
            157
           ]
          },
          {
           "abstract": "demontrate",
           "count": 5,
           "pubs": [
            22,
            28,
            170,
            172,
            175
           ]
          },
          {
           "abstract": "underground",
           "count": 9,
           "pubs": [
            16,
            26,
            27,
            172,
            174
           ]
          },
          {
           "abstract": "these",
           "count": 4,
           "pubs": [
            15,
            40,
            90,
            91
           ]
          },
          {
           "abstract": "methods",
           "count": 3,
           "pubs": [
            28,
            40,
            117
           ]
          },
          {
           "abstract": "self",
           "count": 3,
           "pubs": [
            48,
            95,
            148
           ]
          },
          {
           "abstract": "we conider",
           "count": 12,
           "pubs": [
            14,
            17,
            148
           ]
          },
          {
           "abstract": "molecule",
           "count": 3,
           "pubs": [
            38,
            48,
            83
           ]
          },
          {
           "abstract": "potential",
           "count": 13,
           "pubs": [
            14,
            50,
            75,
            76,
            78,
            79,
            122,
            135,
            170,
            175
           ]
          },
          {
           "abstract": "single",
           "count": 10,
           "pubs": [
            39,
            56,
            62,
            75,
            91,
            117,
            133,
            140,
            152
           ]
          },
          {
           "abstract": "simulation",
           "count": 11,
           "pubs": [
            11,
            22,
            28,
            32,
            72,
            79
           ]
          },
          {
           "abstract": "large",
           "count": 6,
           "pubs": [
            16,
            26,
            27,
            69,
            172,
            174
           ]
          },
          {
           "abstract": "precision",
           "count": 9,
           "pubs": [
            84,
            150,
            151,
            169,
            171
           ]
          },
          {
           "abstract": "available",
           "count": 6,
           "pubs": [
            76,
            84,
            90,
            169,
            171,
            175
           ]
          },
          {
           "abstract": "period",
           "count": 3,
           "pubs": [
            76,
            117,
            174
           ]
          },
          {
           "abstract": "mass",
           "count": 4,
           "pubs": [
            88,
            173,
            174
           ]
          },
          {
           "abstract": "particular",
           "count": 6,
           "pubs": [
            22,
            48,
            62,
            91,
            173
           ]
          },
          {
           "abstract": "dimenional",
           "count": 5,
           "pubs": [
            2,
            91,
            134,
            143,
            169
           ]
          },
          {
           "abstract": "results",
           "count": 15,
           "pubs": [
            10,
            15,
            40,
            48,
            84,
            91,
            92,
            117,
            171,
            173,
            174
           ]
          },
          {
           "abstract": "variability",
           "count": 4,
           "pubs": [
            76,
            138,
            152
           ]
          },
          {
           "abstract": "background",
           "count": 4,
           "pubs": [
            17,
            76,
            123,
            174
           ]
          },
          {
           "abstract": "user",
           "count": 9,
           "pubs": [
            37,
            84,
            171
           ]
          },
          {
           "abstract": "massive particle",
           "count": 20,
           "pubs": [
            15,
            16,
            17,
            26,
            39
           ]
          },
          {
           "abstract": "x ray",
           "count": 16,
           "pubs": [
            84,
            92,
            169,
            171
           ]
          },
          {
           "abstract": "mechanically untable",
           "count": 12,
           "pubs": [
            106,
            114,
            129
           ]
          },
          {
           "abstract": "structure",
           "count": 13,
           "pubs": [
            6,
            14,
            48,
            71,
            80,
            118,
            160
           ]
          },
          {
           "abstract": "interplay",
           "count": 4,
           "pubs": [
            48,
            90,
            117
           ]
          },
          {
           "abstract": "catalyst",
           "count": 10,
           "pubs": [
            34,
            60,
            68,
            81,
            83,
            100,
            101,
            102
           ]
          },
          {
           "abstract": "al",
           "count": 7,
           "pubs": [
            28,
            115,
            127,
            167,
            175
           ]
          },
          {
           "abstract": "catalysis",
           "count": 3,
           "pubs": [
            72,
            82,
            111
           ]
          },
          {
           "abstract": "interacting massive",
           "count": 16,
           "pubs": [
            15,
            16,
            26,
            39
           ]
          },
          {
           "abstract": "free",
           "count": 8,
           "pubs": [
            14,
            62,
            83,
            106,
            129,
            170
           ]
          },
          {
           "abstract": "motion",
           "count": 18,
           "pubs": [
            48,
            84,
            92,
            169,
            171
           ]
          },
          {
           "abstract": "thermal",
           "count": 4,
           "pubs": [
            28,
            80,
            114,
            138
           ]
          },
          {
           "abstract": "implication",
           "count": 6,
           "pubs": [
            10,
            17,
            59,
            92,
            113
           ]
          },
          {
           "abstract": "lux detector",
           "count": 16,
           "pubs": [
            27,
            39,
            172
           ]
          },
          {
           "abstract": "motion in",
           "count": 12,
           "pubs": [
            84,
            169,
            171
           ]
          },
          {
           "abstract": "machine learning",
           "count": 24,
           "pubs": [
            31,
            32,
            36,
            78,
            131
           ]
          },
          {
           "abstract": "task",
           "count": 6,
           "pubs": [
            10,
            76,
            118,
            175
           ]
          },
          {
           "abstract": "n",
           "count": 19,
           "pubs": [
            28,
            39,
            41,
            48,
            76,
            102,
            169
           ]
          },
          {
           "abstract": "lfp",
           "count": 4,
           "pubs": [
            126,
            133,
            152,
            167
           ]
          },
          {
           "abstract": "carbide",
           "count": 3,
           "pubs": [
            60,
            68,
            81
           ]
          },
          {
           "abstract": "employ",
           "count": 4,
           "pubs": [
            22,
            169,
            170
           ]
          },
          {
           "abstract": "cognitive",
           "count": 6,
           "pubs": [
            10,
            117,
            144,
            157
           ]
          },
          {
           "abstract": "urchin",
           "count": 5,
           "pubs": [
            40,
            54,
            64,
            67
           ]
          },
          {
           "abstract": "marker",
           "count": 17,
           "pubs": [
            70,
            84,
            153,
            169,
            171
           ]
          },
          {
           "abstract": "rate",
           "count": 7,
           "pubs": [
            10,
            36,
            83,
            148,
            175
           ]
          },
          {
           "abstract": "untable",
           "count": 3,
           "pubs": [
            106,
            114,
            129
           ]
          },
          {
           "abstract": "material",
           "count": 5,
           "pubs": [
            14,
            107,
            124,
            169
           ]
          },
          {
           "abstract": "sequence",
           "count": 4,
           "pubs": [
            39,
            50,
            51,
            103
           ]
          },
          {
           "abstract": "example",
           "count": 4,
           "pubs": [
            14,
            62,
            83
           ]
          },
          {
           "abstract": "species",
           "count": 6,
           "pubs": [
            35,
            36,
            40,
            100
           ]
          },
          {
           "abstract": "set",
           "count": 8,
           "pubs": [
            12,
            16,
            18,
            26,
            136,
            170,
            174
           ]
          },
          {
           "abstract": "associated",
           "count": 9,
           "pubs": [
            10,
            39,
            62,
            64,
            76,
            131
           ]
          },
          {
           "abstract": "internal",
           "count": 4,
           "pubs": [
            40,
            48,
            169
           ]
          },
          {
           "abstract": "tools",
           "count": 4,
           "pubs": [
            84,
            90,
            171
           ]
          },
          {
           "abstract": "highly",
           "count": 5,
           "pubs": [
            10,
            15,
            48,
            76,
            169
           ]
          },
          {
           "abstract": "mathrm",
           "count": 8,
           "pubs": [
            15,
            27,
            39,
            80
           ]
          },
          {
           "abstract": "model",
           "count": 45,
           "pubs": [
            3,
            15,
            21,
            22,
            27,
            29,
            40,
            48,
            65,
            69,
            90,
            91,
            92,
            103,
            104,
            117,
            119,
            123,
            127,
            130,
            134,
            140,
            141,
            148,
            154,
            157,
            158,
            169,
            170,
            172,
            175
           ]
          },
          {
           "abstract": "x",
           "count": 4,
           "pubs": [
            84,
            92,
            169,
            171
           ]
          },
          {
           "abstract": "kev",
           "count": 11,
           "pubs": [
            27,
            39,
            172,
            173
           ]
          },
          {
           "abstract": "subject",
           "count": 3,
           "pubs": [
            22,
            76,
            90
           ]
          },
          {
           "abstract": "most",
           "count": 4,
           "pubs": [
            56,
            76,
            84,
            171
           ]
          },
          {
           "abstract": "reveal",
           "count": 6,
           "pubs": [
            22,
            35,
            36,
            96,
            117,
            123
           ]
          },
          {
           "abstract": "six",
           "count": 3,
           "pubs": [
            10,
            84,
            171
           ]
          },
          {
           "abstract": "version",
           "count": 3,
           "pubs": [
            84,
            170,
            171
           ]
          },
          {
           "abstract": "management",
           "count": 3,
           "pubs": [
            84,
            168,
            171
           ]
          },
          {
           "abstract": "energies",
           "count": 5,
           "pubs": [
            27,
            39,
            172
           ]
          },
          {
           "abstract": "relation",
           "count": 4,
           "pubs": [
            60,
            82,
            111,
            121
           ]
          },
          {
           "abstract": "evidence",
           "count": 6,
           "pubs": [
            48,
            62,
            83,
            123,
            145,
            148
           ]
          },
          {
           "abstract": "challenge",
           "count": 6,
           "pubs": [
            10,
            50,
            72,
            83,
            175
           ]
          },
          {
           "abstract": "perceptual",
           "count": 3,
           "pubs": [
            104,
            123,
            154
           ]
          },
          {
           "abstract": "image",
           "count": 9,
           "pubs": [
            20,
            36,
            57,
            76,
            175
           ]
          },
          {
           "abstract": "analyses",
           "count": 9,
           "pubs": [
            10,
            40,
            49,
            70,
            76,
            165
           ]
          },
          {
           "abstract": "infected",
           "count": 3,
           "pubs": [
            10,
            22,
            47
           ]
          },
          {
           "abstract": "domain",
           "count": 6,
           "pubs": [
            14,
            28,
            44
           ]
          },
          {
           "abstract": "double",
           "count": 3,
           "pubs": [
            14,
            92,
            172
           ]
          },
          {
           "abstract": "active",
           "count": 6,
           "pubs": [
            9,
            83,
            91,
            148,
            172
           ]
          },
          {
           "abstract": "predict",
           "count": 4,
           "pubs": [
            22,
            122,
            136
           ]
          },
          {
           "abstract": "charge tranfer",
           "count": 12,
           "pubs": [
            41,
            48,
            96
           ]
          },
          {
           "abstract": "carlo",
           "count": 4,
           "pubs": [
            14,
            30,
            58,
            170
           ]
          },
          {
           "abstract": "yields",
           "count": 6,
           "pubs": [
            15,
            27,
            39,
            103,
            172
           ]
          },
          {
           "abstract": "mean",
           "count": 9,
           "pubs": [
            14,
            15,
            28,
            57,
            84,
            112,
            171
           ]
          },
          {
           "abstract": "weakly",
           "count": 4,
           "pubs": [
            15,
            16,
            26,
            39
           ]
          },
          {
           "abstract": "detection",
           "count": 6,
           "pubs": [
            24,
            29,
            76,
            131,
            162,
            174
           ]
          },
          {
           "abstract": "including",
           "count": 8,
           "pubs": [
            22,
            40,
            62,
            100,
            173,
            175
           ]
          },
          {
           "abstract": "study",
           "count": 16,
           "pubs": [
            13,
            17,
            19,
            21,
            40,
            48,
            76,
            83,
            92,
            94,
            99,
            112,
            115,
            153,
            169,
            170
           ]
          },
          {
           "abstract": "predicted",
           "count": 4,
           "pubs": [
            62,
            92,
            100
           ]
          },
          {
           "abstract": "imaging",
           "count": 4,
           "pubs": [
            90,
            116,
            122,
            128
           ]
          },
          {
           "abstract": "strain",
           "count": 6,
           "pubs": [
            33,
            74,
            82,
            90,
            111,
            121
           ]
          },
          {
           "abstract": "feeding",
           "count": 6,
           "pubs": [
            5,
            84,
            91,
            93,
            166,
            171
           ]
          },
          {
           "abstract": "change",
           "count": 3,
           "pubs": [
            45,
            148,
            169
           ]
          },
          {
           "abstract": "analyze",
           "count": 3,
           "pubs": [
            28,
            36,
            138
           ]
          },
          {
           "abstract": "mechanically",
           "count": 3,
           "pubs": [
            106,
            114,
            129
           ]
          },
          {
           "abstract": "information",
           "count": 6,
           "pubs": [
            22,
            76,
            90,
            175
           ]
          },
          {
           "abstract": "via",
           "count": 5,
           "pubs": [
            3,
            45,
            109,
            134,
            135
           ]
          },
          {
           "abstract": "principles",
           "count": 5,
           "pubs": [
            13,
            22,
            102,
            114,
            115
           ]
          },
          {
           "abstract": "energy",
           "count": 29,
           "pubs": [
            11,
            14,
            15,
            17,
            27,
            30,
            39,
            48,
            60,
            72,
            80,
            95,
            106,
            129,
            172,
            173
           ]
          },
          {
           "abstract": "biomechanics",
           "count": 3,
           "pubs": [
            22,
            84,
            171
           ]
          },
          {
           "abstract": "cognition",
           "count": 3,
           "pubs": [
            99,
            141,
            142
           ]
          },
          {
           "abstract": "reduction",
           "count": 8,
           "pubs": [
            10,
            62,
            89,
            100,
            102,
            108
           ]
          },
          {
           "abstract": "process",
           "count": 8,
           "pubs": [
            84,
            92,
            130,
            140,
            143,
            171
           ]
          },
          {
           "abstract": "complex",
           "count": 7,
           "pubs": [
            36,
            56,
            76,
            92,
            96,
            170,
            175
           ]
          },
          {
           "abstract": "novel",
           "count": 8,
           "pubs": [
            35,
            36,
            87,
            101,
            123
           ]
          },
          {
           "abstract": "force",
           "count": 5,
           "pubs": [
            10,
            62,
            90,
            91,
            169
           ]
          },
          {
           "abstract": "neuronal",
           "count": 7,
           "pubs": [
            21,
            163,
            175
           ]
          },
          {
           "abstract": "value",
           "count": 5,
           "pubs": [
            10,
            11,
            28,
            148
           ]
          },
          {
           "abstract": "sparse",
           "count": 3,
           "pubs": [
            2,
            109,
            151
           ]
          },
          {
           "abstract": "an",
           "count": 4,
           "pubs": [
            53,
            87,
            132,
            139
           ]
          },
          {
           "abstract": "effective",
           "count": 4,
           "pubs": [
            10,
            11,
            148
           ]
          },
          {
           "abstract": "focal seizure",
           "count": 16,
           "pubs": [
            21,
            155,
            162,
            163
           ]
          },
          {
           "abstract": "relaxation",
           "count": 4,
           "pubs": [
            22,
            28,
            80
           ]
          },
          {
           "abstract": "particle",
           "count": 17,
           "pubs": [
            15,
            16,
            17,
            22,
            26,
            28,
            29,
            39,
            80,
            170
           ]
          },
          {
           "abstract": "evolutionary",
           "count": 5,
           "pubs": [
            36,
            40,
            80
           ]
          },
          {
           "abstract": "senitive",
           "count": 3,
           "pubs": [
            6,
            11,
            29
           ]
          },
          {
           "abstract": "decision",
           "count": 4,
           "pubs": [
            117,
            147,
            159
           ]
          },
          {
           "abstract": "flexible",
           "count": 3,
           "pubs": [
            48,
            117,
            175
           ]
          },
          {
           "abstract": "generate",
           "count": 3,
           "pubs": [
            10,
            48,
            166
           ]
          },
          {
           "abstract": "c",
           "count": 11,
           "pubs": [
            13,
            28,
            34,
            45,
            55,
            83,
            84,
            100,
            171,
            174
           ]
          },
          {
           "abstract": "interface",
           "count": 4,
           "pubs": [
            28,
            37,
            84,
            171
           ]
          },
          {
           "abstract": "location",
           "count": 3,
           "pubs": [
            15,
            84,
            171
           ]
          },
          {
           "abstract": "processing",
           "count": 10,
           "pubs": [
            76,
            123,
            172,
            175
           ]
          },
          {
           "abstract": "resolution",
           "count": 3,
           "pubs": [
            27,
            66,
            113
           ]
          },
          {
           "abstract": "function",
           "count": 16,
           "pubs": [
            14,
            28,
            51,
            62,
            77,
            90,
            91,
            93,
            127
           ]
          },
          {
           "abstract": "stage",
           "count": 5,
           "pubs": [
            10,
            22,
            62,
            144,
            161
           ]
          },
          {
           "abstract": "mars",
           "count": 3,
           "pubs": [
            42,
            43,
            83
           ]
          },
          {
           "abstract": "ion",
           "count": 6,
           "pubs": [
            27,
            48,
            94
           ]
          },
          {
           "abstract": "with",
           "count": 4,
           "pubs": [
            11,
            36,
            48,
            112
           ]
          },
          {
           "abstract": "measured",
           "count": 7,
           "pubs": [
            27,
            92,
            172,
            173
           ]
          },
          {
           "abstract": "matter",
           "count": 14,
           "pubs": [
            15,
            16,
            17,
            26,
            27,
            29,
            142,
            153,
            172,
            173
           ]
          },
          {
           "abstract": "recently",
           "count": 3,
           "pubs": [
            90,
            170,
            175
           ]
          },
          {
           "abstract": "driven",
           "count": 7,
           "pubs": [
            11,
            14,
            76,
            83,
            102
           ]
          },
          {
           "abstract": "facilitate",
           "count": 4,
           "pubs": [
            80,
            83,
            117
           ]
          },
          {
           "abstract": "it",
           "count": 5,
           "pubs": [
            10,
            36,
            85,
            117,
            123
           ]
          },
          {
           "abstract": "underground xenon lux",
           "count": 27,
           "pubs": [
            27,
            172,
            174
           ]
          },
          {
           "abstract": "remain",
           "count": 4,
           "pubs": [
            10,
            21,
            36,
            123
           ]
          },
          {
           "abstract": "surface",
           "count": 13,
           "pubs": [
            14,
            72,
            74,
            79,
            83,
            94,
            100,
            164
           ]
          },
          {
           "abstract": "sea urchin",
           "count": 20,
           "pubs": [
            40,
            54,
            64,
            67
           ]
          },
          {
           "abstract": "scattering",
           "count": 6,
           "pubs": [
            16,
            26,
            98,
            172,
            173,
            174
           ]
          },
          {
           "abstract": "sea star",
           "count": 16,
           "pubs": [
            40,
            63,
            64
           ]
          },
          {
           "abstract": "matter experiment",
           "count": 12,
           "pubs": [
            16,
            26,
            173
           ]
          },
          {
           "abstract": "large underground",
           "count": 20,
           "pubs": [
            16,
            26,
            27,
            172,
            174
           ]
          },
          {
           "abstract": "comparison",
           "count": 4,
           "pubs": [
            24,
            27,
            53,
            62
           ]
          },
          {
           "abstract": "capture",
           "count": 3,
           "pubs": [
            39,
            169,
            175
           ]
          },
          {
           "abstract": "based",
           "count": 18,
           "pubs": [
            15,
            20,
            22,
            28,
            84,
            92,
            99,
            145,
            157,
            162,
            171,
            173,
            175
           ]
          },
          {
           "abstract": "contant",
           "count": 4,
           "pubs": [
            14,
            48,
            50
           ]
          },
          {
           "abstract": "cortex",
           "count": 6,
           "pubs": [
            123,
            126,
            133,
            134,
            146,
            152
           ]
          },
          {
           "abstract": "appear",
           "count": 3,
           "pubs": [
            62,
            76,
            170
           ]
          },
          {
           "abstract": "deep",
           "count": 7,
           "pubs": [
            49,
            120,
            175
           ]
          },
          {
           "abstract": "preliminary",
           "count": 3,
           "pubs": [
            10,
            116,
            153
           ]
          },
          {
           "abstract": "online",
           "count": 3,
           "pubs": [
            84,
            169,
            171
           ]
          },
          {
           "abstract": "how",
           "count": 3,
           "pubs": [
            21,
            82,
            111
           ]
          },
          {
           "abstract": "electrocatalyst",
           "count": 3,
           "pubs": [
            89,
            100,
            108
           ]
          },
          {
           "abstract": "o",
           "count": 3,
           "pubs": [
            28,
            46,
            83
           ]
          },
          {
           "abstract": "light",
           "count": 6,
           "pubs": [
            15,
            27,
            62,
            84,
            171,
            172
           ]
          },
          {
           "abstract": "multiple",
           "count": 12,
           "pubs": [
            1,
            40,
            90,
            91,
            117,
            128,
            173,
            175
           ]
          },
          {
           "abstract": "equation",
           "count": 4,
           "pubs": [
            17,
            28,
            170
           ]
          },
          {
           "abstract": "observed",
           "count": 4,
           "pubs": [
            29,
            39,
            91,
            169
           ]
          },
          {
           "abstract": "learning",
           "count": 26,
           "pubs": [
            31,
            32,
            36,
            78,
            103,
            109,
            117,
            118,
            120,
            121,
            122,
            131,
            136,
            147,
            148,
            160,
            175
           ]
          },
          {
           "abstract": "reinforcement",
           "count": 6,
           "pubs": [
            117,
            136,
            147,
            148
           ]
          },
          {
           "abstract": "decay",
           "count": 4,
           "pubs": [
            15,
            17,
            39,
            48
           ]
          },
          {
           "abstract": "activity",
           "count": 7,
           "pubs": [
            25,
            33,
            61,
            68,
            76,
            83,
            162
           ]
          },
          {
           "abstract": "degree",
           "count": 6,
           "pubs": [
            84,
            91,
            92,
            171
           ]
          },
          {
           "abstract": "reaction",
           "count": 8,
           "pubs": [
            33,
            76,
            79,
            81,
            83,
            169
           ]
          },
          {
           "abstract": "healthy",
           "count": 4,
           "pubs": [
            22,
            142,
            169
           ]
          },
          {
           "abstract": "h",
           "count": 5,
           "pubs": [
            27,
            83,
            89,
            108
           ]
          },
          {
           "abstract": "circuit",
           "count": 3,
           "pubs": [
            123,
            140,
            175
           ]
          },
          {
           "abstract": "tranfer",
           "count": 5,
           "pubs": [
            41,
            48,
            96,
            136
           ]
          },
          {
           "abstract": "this",
           "count": 8,
           "pubs": [
            10,
            11,
            17,
            27,
            62,
            83,
            172,
            173
           ]
          },
          {
           "abstract": "neural",
           "count": 18,
           "pubs": [
            25,
            80,
            112,
            117,
            120,
            121,
            123,
            136,
            140,
            143,
            148,
            150,
            158,
            175
           ]
          },
          {
           "abstract": "pathway",
           "count": 4,
           "pubs": [
            2,
            41,
            80
           ]
          },
          {
           "abstract": "electron",
           "count": 6,
           "pubs": [
            15,
            27,
            39,
            48
           ]
          },
          {
           "abstract": "organism",
           "count": 4,
           "pubs": [
            40,
            50,
            86,
            87
           ]
          },
          {
           "abstract": "adaptation",
           "count": 3,
           "pubs": [
            56,
            70,
            90
           ]
          },
          {
           "abstract": "eeg",
           "count": 5,
           "pubs": [
            76,
            147,
            160
           ]
          },
          {
           "abstract": "suggesting",
           "count": 5,
           "pubs": [
            50,
            76,
            83,
            170
           ]
          },
          {
           "abstract": "indicating",
           "count": 3,
           "pubs": [
            10,
            169,
            175
           ]
          },
          {
           "abstract": "chamber",
           "count": 3,
           "pubs": [
            172,
            173,
            174
           ]
          },
          {
           "abstract": "as",
           "count": 3,
           "pubs": [
            72,
            83,
            92
           ]
          },
          {
           "abstract": "vivo",
           "count": 6,
           "pubs": [
            90,
            91,
            92,
            169
           ]
          },
          {
           "abstract": "using",
           "count": 17,
           "pubs": [
            13,
            14,
            15,
            22,
            39,
            40,
            55,
            57,
            76,
            91,
            98,
            101,
            167,
            169,
            172,
            173
           ]
          },
          {
           "abstract": "ray",
           "count": 6,
           "pubs": [
            39,
            84,
            92,
            169,
            171
           ]
          },
          {
           "abstract": "denity functional",
           "count": 20,
           "pubs": [
            48,
            80,
            83,
            94,
            100
           ]
          },
          {
           "abstract": "single neuron",
           "count": 12,
           "pubs": [
            133,
            140,
            152
           ]
          },
          {
           "abstract": "form",
           "count": 6,
           "pubs": [
            90,
            91,
            170
           ]
          },
          {
           "abstract": "peak",
           "count": 4,
           "pubs": [
            11,
            27,
            173
           ]
          },
          {
           "abstract": "electric",
           "count": 3,
           "pubs": [
            39,
            94,
            172
           ]
          },
          {
           "abstract": "wave",
           "count": 3,
           "pubs": [
            19,
            61,
            126
           ]
          },
          {
           "abstract": "real",
           "count": 5,
           "pubs": [
            84,
            96,
            120,
            170,
            171
           ]
          },
          {
           "abstract": "experimental",
           "count": 6,
           "pubs": [
            13,
            22,
            46,
            48,
            83
           ]
          },
          {
           "abstract": "increase",
           "count": 9,
           "pubs": [
            22,
            72,
            76,
            84,
            105,
            117,
            171
           ]
          },
          {
           "abstract": "ionization",
           "count": 3,
           "pubs": [
            39,
            48,
            172
           ]
          },
          {
           "abstract": "underground xenon",
           "count": 20,
           "pubs": [
            16,
            26,
            27,
            172,
            174
           ]
          },
          {
           "abstract": "limit",
           "count": 6,
           "pubs": [
            16,
            26,
            80,
            90,
            174
           ]
          },
          {
           "abstract": "charge",
           "count": 12,
           "pubs": [
            15,
            27,
            41,
            48,
            95,
            96,
            172
           ]
          },
          {
           "abstract": "nuclear recoil",
           "count": 40,
           "pubs": [
            27,
            98,
            172,
            173
           ]
          },
          {
           "abstract": "algorithm",
           "count": 5,
           "pubs": [
            36,
            80,
            131,
            170
           ]
          },
          {
           "abstract": "sampling",
           "count": 4,
           "pubs": [
            14,
            40,
            58
           ]
          },
          {
           "abstract": "application",
           "count": 5,
           "pubs": [
            1,
            128,
            169
           ]
          },
          {
           "abstract": "biology",
           "count": 4,
           "pubs": [
            40,
            87,
            168
           ]
          },
          {
           "abstract": "co reduction",
           "count": 12,
           "pubs": [
            89,
            100,
            108
           ]
          },
          {
           "abstract": "timing",
           "count": 4,
           "pubs": [
            104,
            154,
            175
           ]
          },
          {
           "abstract": "component",
           "count": 3,
           "pubs": [
            22,
            76,
            85
           ]
          },
          {
           "abstract": "effect",
           "count": 8,
           "pubs": [
            4,
            10,
            61,
            74,
            116,
            123,
            164
           ]
          },
          {
           "abstract": "quality",
           "count": 3,
           "pubs": [
            84,
            86,
            171
           ]
          },
          {
           "abstract": "software",
           "count": 5,
           "pubs": [
            84,
            91,
            171
           ]
          },
          {
           "abstract": "beyond",
           "count": 3,
           "pubs": [
            28,
            91,
            117
           ]
          },
          {
           "abstract": "gene",
           "count": 10,
           "pubs": [
            35,
            50,
            55,
            62,
            64
           ]
          },
          {
           "abstract": "contrained",
           "count": 3,
           "pubs": [
            17,
            92,
            123
           ]
          },
          {
           "abstract": "computational model",
           "count": 16,
           "pubs": [
            104,
            141,
            148,
            154
           ]
          },
          {
           "abstract": "treatment",
           "count": 7,
           "pubs": [
            10,
            14,
            69,
            138,
            145
           ]
          },
          {
           "abstract": "mechanism",
           "count": 19,
           "pubs": [
            40,
            50,
            62,
            83,
            91,
            109,
            148,
            175
           ]
          },
          {
           "abstract": "investigate",
           "count": 4,
           "pubs": [
            11,
            15,
            22,
            28
           ]
          },
          {
           "abstract": "hydrogen",
           "count": 4,
           "pubs": [
            33,
            68,
            74,
            81
           ]
          },
          {
           "abstract": "human",
           "count": 16,
           "pubs": [
            7,
            21,
            76,
            90,
            110,
            117,
            125,
            147,
            155,
            160,
            162,
            163
           ]
          },
          {
           "abstract": "leading",
           "count": 3,
           "pubs": [
            14,
            22,
            173
           ]
          },
          {
           "abstract": "develop",
           "count": 3,
           "pubs": [
            22,
            90,
            170
           ]
          },
          {
           "abstract": "white",
           "count": 4,
           "pubs": [
            84,
            93,
            142,
            171
           ]
          },
          {
           "abstract": "neutron",
           "count": 8,
           "pubs": [
            98,
            172,
            173
           ]
          },
          {
           "abstract": "neural network",
           "count": 16,
           "pubs": [
            80,
            120,
            121,
            175
           ]
          },
          {
           "abstract": "animal",
           "count": 4,
           "pubs": [
            62,
            84,
            90,
            171
           ]
          },
          {
           "abstract": "average",
           "count": 3,
           "pubs": [
            15,
            39,
            172
           ]
          },
          {
           "abstract": "object",
           "count": 5,
           "pubs": [
            76,
            84,
            103,
            171,
            175
           ]
          },
          {
           "abstract": "bone",
           "count": 5,
           "pubs": [
            84,
            90,
            169,
            171
           ]
          },
          {
           "abstract": "machine",
           "count": 6,
           "pubs": [
            31,
            32,
            36,
            78,
            131
           ]
          },
          {
           "abstract": "behavior",
           "count": 7,
           "pubs": [
            22,
            117,
            146,
            148,
            170
           ]
          },
          {
           "abstract": "nuclear",
           "count": 11,
           "pubs": [
            27,
            62,
            98,
            172,
            173
           ]
          },
          {
           "abstract": "seizure",
           "count": 7,
           "pubs": [
            21,
            125,
            135,
            155,
            156,
            162,
            163
           ]
          },
          {
           "abstract": "essential",
           "count": 3,
           "pubs": [
            10,
            63,
            117
           ]
          },
          {
           "abstract": "stable",
           "count": 3,
           "pubs": [
            6,
            167,
            169
           ]
          },
          {
           "abstract": "variable",
           "count": 3,
           "pubs": [
            3,
            28,
            36
           ]
          },
          {
           "abstract": "calibration",
           "count": 12,
           "pubs": [
            27,
            39,
            84,
            98,
            171,
            172,
            173
           ]
          },
          {
           "abstract": "individual",
           "count": 3,
           "pubs": [
            36,
            76,
            91
           ]
          },
          {
           "abstract": "conider",
           "count": 4,
           "pubs": [
            10,
            14,
            17,
            148
           ]
          },
          {
           "abstract": "accuracy",
           "count": 7,
           "pubs": [
            76,
            84,
            171
           ]
          },
          {
           "abstract": "search",
           "count": 7,
           "pubs": [
            15,
            27,
            39,
            80,
            101,
            173,
            174
           ]
          },
          {
           "abstract": "monte carlo",
           "count": 16,
           "pubs": [
            14,
            30,
            58,
            170
           ]
          },
          {
           "abstract": "categorization",
           "count": 4,
           "pubs": [
            25,
            76,
            104,
            154
           ]
          },
          {
           "abstract": "dual phase",
           "count": 16,
           "pubs": [
            73,
            172,
            173,
            174
           ]
          },
          {
           "abstract": "contribution",
           "count": 3,
           "pubs": [
            36,
            123,
            152
           ]
          },
          {
           "abstract": "dynamic",
           "count": 25,
           "pubs": [
            11,
            14,
            22,
            28,
            76,
            96,
            107,
            117,
            130,
            134,
            143,
            147,
            152,
            155,
            156,
            175
           ]
          },
          {
           "abstract": "age",
           "count": 4,
           "pubs": [
            17,
            47,
            116
           ]
          },
          {
           "abstract": "systematic",
           "count": 3,
           "pubs": [
            24,
            36,
            173
           ]
          },
          {
           "abstract": "natural scene",
           "count": 20,
           "pubs": [
            76,
            104,
            154
           ]
          },
          {
           "abstract": "minimum",
           "count": 4,
           "pubs": [
            14,
            80,
            173,
            174
           ]
          },
          {
           "abstract": "properties",
           "count": 5,
           "pubs": [
            46,
            76,
            103,
            114,
            175
           ]
          },
          {
           "abstract": "volume",
           "count": 3,
           "pubs": [
            172,
            173,
            174
           ]
          },
          {
           "abstract": "specific",
           "count": 3,
           "pubs": [
            22,
            23,
            70
           ]
          },
          {
           "abstract": "level",
           "count": 11,
           "pubs": [
            22,
            36,
            48,
            50,
            62,
            76,
            91,
            146,
            148
           ]
          },
          {
           "abstract": "paper",
           "count": 3,
           "pubs": [
            10,
            84,
            171
           ]
          },
          {
           "abstract": "low",
           "count": 15,
           "pubs": [
            10,
            14,
            27,
            34,
            39,
            76,
            80,
            83,
            134,
            143,
            173,
            174
           ]
          },
          {
           "abstract": "hiv",
           "count": 9,
           "pubs": [
            10,
            47,
            69
           ]
          },
          {
           "abstract": "event",
           "count": 9,
           "pubs": [
            15,
            39,
            76,
            172
           ]
          },
          {
           "abstract": "tracking",
           "count": 10,
           "pubs": [
            84,
            159,
            169,
            171
           ]
          },
          {
           "abstract": "ablation",
           "count": 3,
           "pubs": [
            19,
            138,
            145
           ]
          },
          {
           "abstract": "spiking",
           "count": 4,
           "pubs": [
            130,
            133,
            150,
            152
           ]
          },
          {
           "abstract": "excellent",
           "count": 4,
           "pubs": [
            40,
            48,
            84,
            171
           ]
          },
          {
           "abstract": "shape",
           "count": 9,
           "pubs": [
            14,
            20,
            22,
            36,
            80,
            114
           ]
          },
          {
           "abstract": "time projection",
           "count": 12,
           "pubs": [
            172,
            173,
            174
           ]
          },
          {
           "abstract": "structural",
           "count": 9,
           "pubs": [
            14,
            22,
            41,
            45,
            48,
            80,
            90,
            96,
            116
           ]
          },
          {
           "abstract": "the",
           "count": 53,
           "pubs": [
            10,
            11,
            14,
            28,
            33,
            36,
            38,
            39,
            40,
            45,
            48,
            50,
            57,
            61,
            62,
            66,
            78,
            80,
            91,
            92,
            100,
            106,
            110,
            123,
            146,
            149,
            172,
            173,
            174,
            175
           ]
          },
          {
           "abstract": "these results",
           "count": 12,
           "pubs": [
            15,
            40,
            91
           ]
          },
          {
           "abstract": "matrix",
           "count": 3,
           "pubs": [
            50,
            151,
            170
           ]
          },
          {
           "abstract": "population",
           "count": 4,
           "pubs": [
            6,
            117,
            148
           ]
          },
          {
           "abstract": "hypothesis",
           "count": 3,
           "pubs": [
            92,
            150,
            174
           ]
          },
          {
           "abstract": "interaction",
           "count": 10,
           "pubs": [
            22,
            48,
            95,
            117,
            123,
            170,
            173
           ]
          },
          {
           "abstract": "resulting",
           "count": 3,
           "pubs": [
            22,
            36,
            76
           ]
          },
          {
           "abstract": "requires",
           "count": 5,
           "pubs": [
            84,
            148,
            171
           ]
          },
          {
           "abstract": "low energy",
           "count": 20,
           "pubs": [
            27,
            39,
            80,
            173
           ]
          },
          {
           "abstract": "metal carbide",
           "count": 12,
           "pubs": [
            60,
            68,
            81
           ]
          },
          {
           "abstract": "lead",
           "count": 4,
           "pubs": [
            119,
            126,
            172,
            174
           ]
          },
          {
           "abstract": "traditional",
           "count": 3,
           "pubs": [
            76,
            83,
            165
           ]
          },
          {
           "abstract": "ratio",
           "count": 4,
           "pubs": [
            10,
            39,
            91
           ]
          },
          {
           "abstract": "space",
           "count": 4,
           "pubs": [
            14,
            28,
            134,
            158
           ]
          },
          {
           "abstract": "expectation",
           "count": 4,
           "pubs": [
            15,
            117,
            136
           ]
          },
          {
           "abstract": "binding",
           "count": 3,
           "pubs": [
            39,
            48,
            175
           ]
          },
          {
           "abstract": "scaling",
           "count": 3,
           "pubs": [
            60,
            82,
            111
           ]
          },
          {
           "abstract": "combined",
           "count": 4,
           "pubs": [
            13,
            15,
            46,
            96
           ]
          },
          {
           "abstract": "denity",
           "count": 6,
           "pubs": [
            48,
            80,
            83,
            94,
            100,
            170
           ]
          },
          {
           "abstract": "due",
           "count": 7,
           "pubs": [
            14,
            28,
            40,
            50,
            83,
            127,
            175
           ]
          },
          {
           "abstract": "science",
           "count": 3,
           "pubs": [
            27,
            72,
            87
           ]
          },
          {
           "abstract": "movement",
           "count": 6,
           "pubs": [
            90,
            92,
            126,
            152
           ]
          },
          {
           "abstract": "dual",
           "count": 5,
           "pubs": [
            73,
            93,
            172,
            173,
            174
           ]
          },
          {
           "abstract": "previous",
           "count": 4,
           "pubs": [
            27,
            36,
            76,
            91
           ]
          },
          {
           "abstract": "large underground xenon",
           "count": 45,
           "pubs": [
            16,
            26,
            27,
            172,
            174
           ]
          },
          {
           "abstract": "we employ",
           "count": 16,
           "pubs": [
            22,
            169,
            170
           ]
          },
          {
           "abstract": "field",
           "count": 8,
           "pubs": [
            22,
            28,
            39,
            94,
            123,
            135,
            172
           ]
          },
          {
           "abstract": "sea",
           "count": 13,
           "pubs": [
            12,
            40,
            54,
            63,
            64,
            67
           ]
          },
          {
           "abstract": "dark matter",
           "count": 48,
           "pubs": [
            15,
            16,
            17,
            26,
            27,
            29,
            172,
            173
           ]
          },
          {
           "abstract": "projection chamber",
           "count": 12,
           "pubs": [
            172,
            173,
            174
           ]
          },
          {
           "abstract": "integration",
           "count": 3,
           "pubs": [
            14,
            84,
            171
           ]
          },
          {
           "abstract": "cortical",
           "count": 4,
           "pubs": [
            51,
            162,
            175
           ]
          },
          {
           "abstract": "provide",
           "count": 12,
           "pubs": [
            15,
            22,
            48,
            50,
            83,
            95,
            117,
            123,
            173
           ]
          },
          {
           "abstract": "time projection chamber",
           "count": 27,
           "pubs": [
            172,
            173,
            174
           ]
          },
          {
           "abstract": "produce",
           "count": 3,
           "pubs": [
            39,
            84,
            171
           ]
          },
          {
           "abstract": "signature",
           "count": 3,
           "pubs": [
            16,
            26,
            136
           ]
          },
          {
           "abstract": "analysis",
           "count": 14,
           "pubs": [
            1,
            9,
            10,
            27,
            28,
            39,
            76,
            101,
            117,
            128,
            148,
            169,
            174
           ]
          },
          {
           "abstract": "system",
           "count": 29,
           "pubs": [
            10,
            11,
            14,
            36,
            40,
            42,
            48,
            76,
            83,
            84,
            90,
            91,
            117,
            148,
            171
           ]
          },
          {
           "abstract": "suggest",
           "count": 5,
           "pubs": [
            83,
            91,
            148
           ]
          },
          {
           "abstract": "in",
           "count": 20,
           "pubs": [
            10,
            17,
            22,
            28,
            40,
            57,
            69,
            72,
            76,
            83,
            84,
            88,
            92,
            148,
            169,
            170,
            171
           ]
          },
          {
           "abstract": "derived",
           "count": 3,
           "pubs": [
            10,
            83,
            169
           ]
          },
          {
           "abstract": "liquid",
           "count": 13,
           "pubs": [
            15,
            27,
            37,
            39,
            98,
            172
           ]
          },
          {
           "abstract": "exhibit",
           "count": 3,
           "pubs": [
            14,
            27,
            36
           ]
          },
          {
           "abstract": "weakly interacting",
           "count": 16,
           "pubs": [
            15,
            16,
            26,
            39
           ]
          },
          {
           "abstract": "visual",
           "count": 8,
           "pubs": [
            24,
            25,
            36,
            61,
            76,
            123,
            124
           ]
          },
          {
           "abstract": "studying",
           "count": 3,
           "pubs": [
            40,
            80,
            170
           ]
          },
          {
           "abstract": "quantify",
           "count": 3,
           "pubs": [
            22,
            28,
            92
           ]
          },
          {
           "abstract": "rapid",
           "count": 4,
           "pubs": [
            25,
            48,
            76
           ]
          },
          {
           "abstract": "body",
           "count": 8,
           "pubs": [
            17,
            84,
            92,
            171
           ]
          },
          {
           "abstract": "error",
           "count": 13,
           "pubs": [
            4,
            28,
            84,
            91,
            148,
            171,
            172
           ]
          },
          {
           "abstract": "produced",
           "count": 4,
           "pubs": [
            69,
            91,
            172,
            173
           ]
          },
          {
           "abstract": "source",
           "count": 7,
           "pubs": [
            84,
            91,
            171,
            172,
            173
           ]
          },
          {
           "abstract": "offers",
           "count": 3,
           "pubs": [
            11,
            36,
            87
           ]
          },
          {
           "abstract": "early",
           "count": 3,
           "pubs": [
            119,
            144,
            162
           ]
          },
          {
           "abstract": "families",
           "count": 7,
           "pubs": [
            35,
            36,
            50,
            62
           ]
          },
          {
           "abstract": "pressure",
           "count": 4,
           "pubs": [
            11,
            83,
            102
           ]
          },
          {
           "abstract": "differential",
           "count": 4,
           "pubs": [
            50,
            137,
            170
           ]
          },
          {
           "abstract": "xenon lux",
           "count": 12,
           "pubs": [
            27,
            172,
            174
           ]
          },
          {
           "abstract": "environment",
           "count": 5,
           "pubs": [
            38,
            90,
            132,
            148
           ]
          },
          {
           "abstract": "real time",
           "count": 16,
           "pubs": [
            84,
            96,
            120,
            171
           ]
          },
          {
           "abstract": "signal",
           "count": 5,
           "pubs": [
            167,
            172,
            174
           ]
          },
          {
           "abstract": "performed",
           "count": 6,
           "pubs": [
            28,
            76,
            172
           ]
          },
          {
           "abstract": "genome",
           "count": 9,
           "pubs": [
            58,
            62,
            70,
            87
           ]
          },
          {
           "abstract": "however",
           "count": 4,
           "pubs": [
            22,
            62,
            148,
            175
           ]
          },
          {
           "abstract": "outcome",
           "count": 5,
           "pubs": [
            10,
            65,
            119,
            148
           ]
          },
          {
           "abstract": "mm",
           "count": 9,
           "pubs": [
            78,
            84,
            169,
            171
           ]
          },
          {
           "abstract": "abstract",
           "count": 7,
           "pubs": [
            38,
            56,
            84,
            85,
            91,
            92,
            105
           ]
          },
          {
           "abstract": "directly",
           "count": 3,
           "pubs": [
            28,
            83,
            90
           ]
          },
          {
           "abstract": "patient",
           "count": 3,
           "pubs": [
            10,
            22,
            23
           ]
          },
          {
           "abstract": "xenon",
           "count": 20,
           "pubs": [
            15,
            16,
            26,
            27,
            39,
            172,
            174
           ]
          },
          {
           "abstract": "massive",
           "count": 5,
           "pubs": [
            15,
            16,
            17,
            26,
            39
           ]
          },
          {
           "abstract": "v",
           "count": 5,
           "pubs": [
            15,
            39,
            123,
            153,
            172
           ]
          },
          {
           "abstract": "inight",
           "count": 5,
           "pubs": [
            22,
            50,
            80,
            87
           ]
          },
          {
           "abstract": "projection",
           "count": 3,
           "pubs": [
            172,
            173,
            174
           ]
          },
          {
           "abstract": "lux",
           "count": 13,
           "pubs": [
            15,
            27,
            39,
            172,
            174
           ]
          },
          {
           "abstract": "functional",
           "count": 13,
           "pubs": [
            48,
            50,
            62,
            80,
            83,
            90,
            94,
            95,
            100,
            128,
            175
           ]
          },
          {
           "abstract": "numerous",
           "count": 4,
           "pubs": [
            14,
            36,
            83,
            91
           ]
          },
          {
           "abstract": "fast",
           "count": 4,
           "pubs": [
            25,
            48,
            57,
            151
           ]
          },
          {
           "abstract": "diffusion",
           "count": 5,
           "pubs": [
            11,
            57,
            83,
            153,
            170
           ]
          },
          {
           "abstract": "loss",
           "count": 4,
           "pubs": [
            22,
            62,
            112
           ]
          },
          {
           "abstract": "freedom",
           "count": 5,
           "pubs": [
            84,
            91,
            92,
            171
           ]
          },
          {
           "abstract": "expression",
           "count": 4,
           "pubs": [
            50,
            62,
            105
           ]
          },
          {
           "abstract": "interpretation",
           "count": 3,
           "pubs": [
            27,
            36,
            174
           ]
          },
          {
           "abstract": "time",
           "count": 22,
           "pubs": [
            1,
            10,
            11,
            14,
            36,
            48,
            76,
            84,
            96,
            120,
            128,
            170,
            171,
            172,
            173,
            174
           ]
          },
          {
           "abstract": "calculation",
           "count": 11,
           "pubs": [
            13,
            30,
            39,
            48,
            78,
            83,
            96,
            107,
            114,
            129
           ]
          },
          {
           "abstract": "fluctuation",
           "count": 12,
           "pubs": [
            15,
            27,
            28,
            39
           ]
          },
          {
           "abstract": "decoding",
           "count": 6,
           "pubs": [
            76,
            120,
            134,
            158
           ]
          },
          {
           "abstract": "network",
           "count": 11,
           "pubs": [
            21,
            22,
            80,
            120,
            121,
            123,
            175
           ]
          },
          {
           "abstract": "text",
           "count": 5,
           "pubs": [
            15,
            39,
            48
           ]
          },
          {
           "abstract": "boundary",
           "count": 8,
           "pubs": [
            24,
            28,
            30,
            115,
            164
           ]
          },
          {
           "abstract": "increased",
           "count": 3,
           "pubs": [
            80,
            92,
            148
           ]
          },
          {
           "abstract": "independent",
           "count": 3,
           "pubs": [
            55,
            170,
            174
           ]
          },
          {
           "abstract": "enemble",
           "count": 4,
           "pubs": [
            80,
            109,
            150,
            163
           ]
          },
          {
           "abstract": "first",
           "count": 3,
           "pubs": [
            10,
            114,
            115
           ]
          },
          {
           "abstract": "data management",
           "count": 12,
           "pubs": [
            84,
            168,
            171
           ]
          },
          {
           "abstract": "degree freedom",
           "count": 20,
           "pubs": [
            84,
            91,
            92,
            171
           ]
          },
          {
           "abstract": "variety",
           "count": 7,
           "pubs": [
            40,
            123,
            170,
            175
           ]
          },
          {
           "abstract": "complexity",
           "count": 4,
           "pubs": [
            62,
            72,
            76,
            123
           ]
          },
          {
           "abstract": "functional theory",
           "count": 16,
           "pubs": [
            48,
            80,
            83,
            100
           ]
          },
          {
           "abstract": "feature",
           "count": 8,
           "pubs": [
            14,
            36,
            40,
            84,
            123,
            171
           ]
          },
          {
           "abstract": "ability",
           "count": 3,
           "pubs": [
            22,
            83,
            123
           ]
          },
          {
           "abstract": "increasing",
           "count": 3,
           "pubs": [
            11,
            62,
            148
           ]
          },
          {
           "abstract": "presence",
           "count": 8,
           "pubs": [
            22,
            28,
            76,
            83,
            100,
            169,
            170
           ]
          },
          {
           "abstract": "data",
           "count": 23,
           "pubs": [
            10,
            16,
            17,
            26,
            27,
            39,
            43,
            50,
            84,
            122,
            124,
            132,
            168,
            171,
            174
           ]
          },
          {
           "abstract": "target",
           "count": 3,
           "pubs": [
            28,
            39,
            173
           ]
          },
          {
           "abstract": "standard",
           "count": 5,
           "pubs": [
            27,
            83,
            84,
            169,
            171
           ]
          },
          {
           "abstract": "d",
           "count": 10,
           "pubs": [
            57,
            84,
            91,
            169,
            171,
            172
           ]
          },
          {
           "abstract": "theory",
           "count": 5,
           "pubs": [
            48,
            80,
            83,
            100
           ]
          },
          {
           "abstract": "tranient",
           "count": 3,
           "pubs": [
            22,
            126,
            133
           ]
          },
          {
           "abstract": "co",
           "count": 5,
           "pubs": [
            34,
            55,
            89,
            100,
            108
           ]
          },
          {
           "abstract": "tranition",
           "count": 9,
           "pubs": [
            13,
            62,
            80,
            81,
            108,
            156
           ]
          },
          {
           "abstract": "focal",
           "count": 5,
           "pubs": [
            21,
            125,
            155,
            162,
            163
           ]
          },
          {
           "abstract": "distortion",
           "count": 3,
           "pubs": [
            14,
            84,
            171
           ]
          },
          {
           "abstract": "detector",
           "count": 7,
           "pubs": [
            15,
            27,
            39,
            98,
            172,
            173
           ]
          },
          {
           "abstract": "scaling relation",
           "count": 12,
           "pubs": [
            60,
            82,
            111
           ]
          },
          {
           "abstract": "xromm",
           "count": 14,
           "pubs": [
            84,
            92,
            169,
            171
           ]
          },
          {
           "abstract": "deviation",
           "count": 3,
           "pubs": [
            27,
            92,
            169
           ]
          },
          {
           "abstract": "related",
           "count": 5,
           "pubs": [
            62,
            76,
            86,
            175
           ]
          },
          {
           "abstract": "atomistic",
           "count": 3,
           "pubs": [
            14,
            32,
            72
           ]
          },
          {
           "abstract": "strong",
           "count": 3,
           "pubs": [
            48,
            76,
            83
           ]
          },
          {
           "abstract": "run",
           "count": 3,
           "pubs": [
            15,
            27,
            39
           ]
          },
          {
           "abstract": "we report",
           "count": 20,
           "pubs": [
            15,
            39,
            169,
            173,
            174
           ]
          },
          {
           "abstract": "report",
           "count": 6,
           "pubs": [
            15,
            39,
            76,
            169,
            173,
            174
           ]
          },
          {
           "abstract": "denity functional theory",
           "count": 36,
           "pubs": [
            48,
            80,
            83,
            100
           ]
          },
          {
           "abstract": "pattern",
           "count": 4,
           "pubs": [
            36,
            76,
            92,
            126
           ]
          },
          {
           "abstract": "dark matter experiment",
           "count": 27,
           "pubs": [
            16,
            26,
            173
           ]
          },
          {
           "abstract": "motor",
           "count": 5,
           "pubs": [
            91,
            126,
            133,
            134,
            152
           ]
          },
          {
           "abstract": "relationhip",
           "count": 6,
           "pubs": [
            40,
            49,
            90,
            165
           ]
          },
          {
           "abstract": "illustrate",
           "count": 3,
           "pubs": [
            14,
            92,
            169
           ]
          },
          {
           "abstract": "evolution",
           "count": 11,
           "pubs": [
            33,
            59,
            62,
            68,
            70,
            74,
            81,
            89,
            91,
            108,
            113
           ]
          },
          {
           "abstract": "finding",
           "count": 5,
           "pubs": [
            10,
            22,
            28,
            72,
            80
           ]
          },
          {
           "abstract": "our",
           "count": 4,
           "pubs": [
            22,
            91,
            169,
            170
           ]
          },
          {
           "abstract": "framework",
           "count": 6,
           "pubs": [
            22,
            80,
            90,
            139,
            175
           ]
          },
          {
           "abstract": "bone motion",
           "count": 12,
           "pubs": [
            84,
            169,
            171
           ]
          },
          {
           "abstract": "technique",
           "count": 8,
           "pubs": [
            14,
            90,
            169,
            173,
            174
           ]
          },
          {
           "abstract": "we",
           "count": 42,
           "pubs": [
            10,
            11,
            14,
            15,
            17,
            22,
            27,
            28,
            39,
            62,
            76,
            80,
            83,
            84,
            91,
            148,
            169,
            170,
            171,
            172,
            173,
            174,
            175
           ]
          },
          {
           "abstract": "identification",
           "count": 4,
           "pubs": [
            36,
            44,
            50,
            80
           ]
          },
          {
           "abstract": "reduced",
           "count": 5,
           "pubs": [
            81,
            83,
            105,
            117,
            173
           ]
          },
          {
           "abstract": "angle",
           "count": 3,
           "pubs": [
            169,
            172,
            173
           ]
          },
          {
           "abstract": "electric field",
           "count": 12,
           "pubs": [
            39,
            94,
            172
           ]
          },
          {
           "abstract": "neuron",
           "count": 7,
           "pubs": [
            130,
            133,
            140,
            148,
            152
           ]
          },
          {
           "abstract": "describe",
           "count": 3,
           "pubs": [
            48,
            84,
            171
           ]
          },
          {
           "abstract": "phase",
           "count": 16,
           "pubs": [
            13,
            14,
            73,
            76,
            106,
            114,
            126,
            172,
            173,
            174,
            175
           ]
          },
          {
           "abstract": "human focal seizure",
           "count": 27,
           "pubs": [
            155,
            162,
            163
           ]
          },
          {
           "abstract": "natural",
           "count": 5,
           "pubs": [
            76,
            104,
            154
           ]
          },
          {
           "abstract": "differences",
           "count": 3,
           "pubs": [
            5,
            64,
            119
           ]
          },
          {
           "abstract": "dark",
           "count": 12,
           "pubs": [
            15,
            16,
            17,
            26,
            27,
            29,
            172,
            173
           ]
          },
          {
           "abstract": "development",
           "count": 7,
           "pubs": [
            40,
            54,
            64,
            90,
            119
           ]
          },
          {
           "abstract": "mediation",
           "count": 4,
           "pubs": [
            1,
            2,
            4,
            128
           ]
          },
          {
           "abstract": "respone",
           "count": 14,
           "pubs": [
            15,
            22,
            36,
            50,
            62,
            73,
            98,
            140,
            148,
            173
           ]
          },
          {
           "abstract": "liquid xenon",
           "count": 44,
           "pubs": [
            15,
            27,
            39,
            172
           ]
          },
          {
           "abstract": "research",
           "count": 7,
           "pubs": [
            50,
            84,
            86,
            87,
            171,
            172,
            174
           ]
          },
          {
           "abstract": "suitable",
           "count": 3,
           "pubs": [
            84,
            171,
            175
           ]
          },
          {
           "abstract": "spatial",
           "count": 3,
           "pubs": [
            28,
            65,
            126
           ]
          },
          {
           "abstract": "direct",
           "count": 5,
           "pubs": [
            29,
            36,
            90,
            91,
            174
           ]
          },
          {
           "abstract": "enable",
           "count": 6,
           "pubs": [
            14,
            25,
            57,
            80,
            90
           ]
          },
          {
           "abstract": "memory",
           "count": 5,
           "pubs": [
            14,
            47,
            114,
            117,
            124
           ]
          },
          {
           "abstract": "overall",
           "count": 3,
           "pubs": [
            62,
            92,
            123
           ]
          },
          {
           "abstract": "virus",
           "count": 3,
           "pubs": [
            7,
            18,
            44
           ]
          },
          {
           "abstract": "test",
           "count": 5,
           "pubs": [
            10,
            40,
            91,
            95,
            150
           ]
          },
          {
           "abstract": "free energy",
           "count": 12,
           "pubs": [
            14,
            106,
            129
           ]
          },
          {
           "abstract": "interacting",
           "count": 5,
           "pubs": [
            15,
            16,
            26,
            39,
            77
           ]
          },
          {
           "abstract": "include",
           "count": 4,
           "pubs": [
            14,
            39,
            84,
            171
           ]
          },
          {
           "abstract": "deposit",
           "count": 4,
           "pubs": [
            27,
            42,
            43,
            48
           ]
          },
          {
           "abstract": "reinforcement learning",
           "count": 20,
           "pubs": [
            117,
            136,
            147,
            148
           ]
          },
          {
           "abstract": "compare",
           "count": 3,
           "pubs": [
            15,
            28,
            62
           ]
          },
          {
           "abstract": "input",
           "count": 5,
           "pubs": [
            15,
            22,
            91
           ]
          },
          {
           "abstract": "clustering",
           "count": 4,
           "pubs": [
            3,
            35,
            118,
            136
           ]
          },
          {
           "abstract": "approach",
           "count": 6,
           "pubs": [
            14,
            32,
            161,
            175
           ]
          },
          {
           "abstract": "human focal",
           "count": 16,
           "pubs": [
            125,
            155,
            162,
            163
           ]
          },
          {
           "abstract": "respectively",
           "count": 4,
           "pubs": [
            48,
            84,
            171,
            172
           ]
          },
          {
           "abstract": "cell",
           "count": 6,
           "pubs": [
            22,
            23,
            62,
            77
           ]
          },
          {
           "abstract": "rotation",
           "count": 6,
           "pubs": [
            91,
            92,
            169
           ]
          },
          {
           "abstract": "video",
           "count": 4,
           "pubs": [
            84,
            139,
            168,
            171
           ]
          },
          {
           "abstract": "here",
           "count": 6,
           "pubs": [
            21,
            36,
            117,
            123,
            175
           ]
          },
          {
           "abstract": "interacting massive particle",
           "count": 36,
           "pubs": [
            15,
            16,
            26,
            39
           ]
          },
          {
           "abstract": "recoil",
           "count": 19,
           "pubs": [
            15,
            16,
            26,
            27,
            39,
            98,
            172,
            173
           ]
          },
          {
           "abstract": "studies",
           "count": 8,
           "pubs": [
            22,
            36,
            40,
            65,
            76,
            84,
            171
           ]
          },
          {
           "abstract": "selectivity",
           "count": 3,
           "pubs": [
            89,
            100,
            103
           ]
          },
          {
           "abstract": "cm",
           "count": 4,
           "pubs": [
            15,
            39,
            172,
            174
           ]
          },
          {
           "abstract": "local",
           "count": 8,
           "pubs": [
            14,
            57,
            135,
            173
           ]
          },
          {
           "abstract": "weakly interacting massive",
           "count": 36,
           "pubs": [
            15,
            16,
            26,
            39
           ]
          },
          {
           "abstract": "latent",
           "count": 4,
           "pubs": [
            134,
            158,
            159,
            160
           ]
          },
          {
           "abstract": "tranport",
           "count": 3,
           "pubs": [
            9,
            28,
            153
           ]
          },
          {
           "abstract": "phylogenetic",
           "count": 9,
           "pubs": [
            36,
            40,
            55,
            59,
            113
           ]
          },
          {
           "abstract": "motor cortex",
           "count": 16,
           "pubs": [
            126,
            133,
            134,
            152
           ]
          },
          {
           "abstract": "understanding",
           "count": 11,
           "pubs": [
            34,
            36,
            71,
            74,
            90,
            91,
            104,
            117,
            154
           ]
          },
          {
           "abstract": "metal",
           "count": 9,
           "pubs": [
            60,
            68,
            79,
            81,
            83,
            102,
            108
           ]
          },
          {
           "abstract": "control",
           "count": 4,
           "pubs": [
            91,
            112,
            148,
            169
           ]
          },
          {
           "abstract": "identify",
           "count": 3,
           "pubs": [
            70,
            91,
            175
           ]
          },
          {
           "abstract": "spatiotemporal",
           "count": 4,
           "pubs": [
            125,
            150,
            155,
            156
           ]
          },
          {
           "abstract": "experiment",
           "count": 9,
           "pubs": [
            11,
            16,
            26,
            29,
            172,
            173,
            174,
            175
           ]
          },
          {
           "abstract": "power",
           "count": 4,
           "pubs": [
            57,
            83,
            166,
            175
           ]
          },
          {
           "abstract": "hydrogen evolution",
           "count": 16,
           "pubs": [
            33,
            68,
            74,
            81
           ]
          },
          {
           "abstract": "joint",
           "count": 6,
           "pubs": [
            84,
            92,
            169,
            171
           ]
          },
          {
           "abstract": "recognition",
           "count": 5,
           "pubs": [
            36,
            50,
            103,
            139,
            175
           ]
          }
         ]
        }
       ],
       "height": 350,
       "marks": [
        {
         "encode": {
          "enter": {
           "align": {
            "value": "center"
           },
           "baseline": {
            "value": "alphabetic"
           },
           "fill": {
            "field": "count",
            "scale": "color"
           },
           "text": {
            "field": "abstract"
           }
          },
          "hover": {
           "fillOpacity": {
            "value": 1
           }
          },
          "update": {
           "fillOpacity": [
            {
             "test": "indexof(datum.pubs, hoverID) > 0",
             "value": 1
            },
            {
             "value": 0.3
            }
           ]
          }
         },
         "from": {
          "data": "table"
         },
         "transform": [
          {
           "font": "Helvetica Neue, Arial",
           "fontSize": {
            "field": "datum.count"
           },
           "fontSizeRange": [
            12,
            56
           ],
           "padding": 2,
           "size": [
            {
             "signal": "width"
            },
            {
             "signal": "height"
            }
           ],
           "text": {
            "field": "text"
           },
           "type": "wordcloud"
          }
         ],
         "type": "text"
        }
       ],
       "padding": 10,
       "scales": [
        {
         "domain": {
          "data": "table",
          "field": "count"
         },
         "name": "color",
         "range": {
          "scheme": "purpleblue"
         },
         "type": "log"
        }
       ],
       "signals": [
        {
         "name": "hoverID",
         "value": 0
        }
       ],
       "width": 900
      },
      "image/png": "[encoded data removed]",
      "image/svg+xml": [
       "<svg class=\"marks\" width=\"920\" height=\"372\" viewBox=\"0 0 920 372\" version=\"1.1\" xmlns=\"http://www.w3.org/2000/svg\" xmlns:xlink=\"http://www.w3.org/1999/xlink\"><g transform=\"translate(10,12)\"><g class=\"mark-group role-frame root\"><g transform=\"translate(0,0)\"><path class=\"background\" d=\"M0,0h900v350h-900Z\" style=\"fill: none;\"></path><g><g class=\"mark-text role-mark\"><text text-anchor=\"middle\" transform=\"translate(0,0)\" style=\"font-family: sans-serif; font-size: 0px; fill: rgb(200, 206, 228); fill-opacity: 0.3;\">action</text><text text-anchor=\"middle\" transform=\"translate(0,0)\" style=\"font-family: sans-serif; font-size: 0px; fill: rgb(182, 197, 223); fill-opacity: 0.3;\">step</text><text text-anchor=\"middle\" transform=\"translate(0,0)\" style=\"font-family: sans-serif; font-size: 0px; fill: rgb(139, 178, 213); fill-opacity: 0.3;\">measurement</text><text text-anchor=\"middle\" transform=\"translate(0,0)\" style=\"font-family: sans-serif; font-size: 0px; fill: rgb(182, 197, 223); fill-opacity: 0.3;\">scene</text><text text-anchor=\"middle\" transform=\"translate(36,93)\" style=\"font-family: Helvetica Neue, Arial; font-size: 17px; font-style: normal; font-weight: normal; fill: rgb(166, 190, 220); fill-opacity: 0.3;\">star</text><text text-anchor=\"middle\" transform=\"translate(0,0)\" style=\"font-family: sans-serif; font-size: 0px; fill: rgb(200, 206, 228); fill-opacity: 0.3;\">monte</text><text text-anchor=\"middle\" transform=\"translate(0,0)\" style=\"font-family: sans-serif; font-size: 0px; fill: rgb(200, 206, 228); fill-opacity: 0.3;\">support</text><text text-anchor=\"middle\" transform=\"translate(0,0)\" style=\"font-family: sans-serif; font-size: 0px; fill: rgb(166, 190, 220); fill-opacity: 0.3;\">protein</text><text text-anchor=\"middle\" transform=\"translate(0,0)\" style=\"font-family: sans-serif; font-size: 0px; fill: rgb(106, 165, 205); fill-opacity: 0.3;\">computational</text><text text-anchor=\"middle\" transform=\"translate(0,0)\" style=\"font-family: sans-serif; font-size: 0px; fill: rgb(182, 197, 223); fill-opacity: 0.3;\">demontrate</text><text text-anchor=\"middle\" transform=\"translate(0,0)\" style=\"font-family: sans-serif; font-size: 0px; fill: rgb(128, 174, 210); fill-opacity: 0.3;\">underground</text><text text-anchor=\"middle\" transform=\"translate(0,0)\" style=\"font-family: sans-serif; font-size: 0px; fill: rgb(200, 206, 228); fill-opacity: 0.3;\">these</text><text text-anchor=\"middle\" transform=\"translate(0,0)\" style=\"font-family: sans-serif; font-size: 0px; fill: rgb(219, 218, 235); fill-opacity: 0.3;\">methods</text><text text-anchor=\"middle\" transform=\"translate(34,211)\" style=\"font-family: Helvetica Neue, Arial; font-size: 12px; font-style: normal; font-weight: normal; fill: rgb(219, 218, 235); fill-opacity: 0.3;\">self</text><text text-anchor=\"middle\" transform=\"translate(0,0)\" style=\"font-family: sans-serif; font-size: 0px; fill: rgb(97, 161, 202); fill-opacity: 0.3;\">we conider</text><text text-anchor=\"middle\" transform=\"translate(0,0)\" style=\"font-family: sans-serif; font-size: 0px; fill: rgb(219, 218, 235); fill-opacity: 0.3;\">molecule</text><text text-anchor=\"middle\" transform=\"translate(0,0)\" style=\"font-family: sans-serif; font-size: 0px; fill: rgb(87, 157, 200); fill-opacity: 0.3;\">potential</text><text text-anchor=\"middle\" transform=\"translate(62,20)\" style=\"font-family: Helvetica Neue, Arial; font-size: 23px; font-style: normal; font-weight: normal; fill: rgb(117, 169, 207); fill-opacity: 0.3;\">single</text><text text-anchor=\"middle\" transform=\"translate(0,0)\" style=\"font-family: sans-serif; font-size: 0px; fill: rgb(106, 165, 205); fill-opacity: 0.3;\">simulation</text><text text-anchor=\"middle\" transform=\"translate(867,84)\" style=\"font-family: Helvetica Neue, Arial; font-size: 17px; font-style: normal; font-weight: normal; fill: rgb(166, 190, 220); fill-opacity: 0.3;\">large</text><text text-anchor=\"middle\" transform=\"translate(0,0)\" style=\"font-family: sans-serif; font-size: 0px; fill: rgb(128, 174, 210); fill-opacity: 0.3;\">precision</text><text text-anchor=\"middle\" transform=\"translate(0,0)\" style=\"font-family: sans-serif; font-size: 0px; fill: rgb(166, 190, 220); fill-opacity: 0.3;\">available</text><text text-anchor=\"middle\" transform=\"translate(0,0)\" style=\"font-family: sans-serif; font-size: 0px; fill: rgb(219, 218, 235); fill-opacity: 0.3;\">period</text><text text-anchor=\"middle\" transform=\"translate(0,0)\" style=\"font-family: sans-serif; font-size: 0px; fill: rgb(200, 206, 228); fill-opacity: 0.3;\">mass</text><text text-anchor=\"middle\" transform=\"translate(0,0)\" style=\"font-family: sans-serif; font-size: 0px; fill: rgb(166, 190, 220); fill-opacity: 0.3;\">particular</text><text text-anchor=\"middle\" transform=\"translate(0,0)\" style=\"font-family: sans-serif; font-size: 0px; fill: rgb(182, 197, 223); fill-opacity: 0.3;\">dimenional</text><text text-anchor=\"middle\" transform=\"translate(51,302)\" style=\"font-family: Helvetica Neue, Arial; font-size: 28px; font-style: normal; font-weight: normal; fill: rgb(71, 150, 196); fill-opacity: 0.3;\">results</text><text text-anchor=\"middle\" transform=\"translate(0,0)\" style=\"font-family: sans-serif; font-size: 0px; fill: rgb(200, 206, 228); fill-opacity: 0.3;\">variability</text><text text-anchor=\"middle\" transform=\"translate(0,0)\" style=\"font-family: sans-serif; font-size: 0px; fill: rgb(200, 206, 228); fill-opacity: 0.3;\">background</text><text text-anchor=\"middle\" transform=\"translate(93,185)\" style=\"font-family: Helvetica Neue, Arial; font-size: 22px; font-style: normal; font-weight: normal; fill: rgb(128, 174, 210); fill-opacity: 0.3;\">user</text><text text-anchor=\"middle\" transform=\"translate(154,208)\" style=\"font-family: Helvetica Neue, Arial; font-size: 33px; font-style: normal; font-weight: normal; fill: rgb(41, 134, 187); fill-opacity: 0.3;\">massive particle</text><text text-anchor=\"middle\" transform=\"translate(849,307)\" style=\"font-family: Helvetica Neue, Arial; font-size: 29px; font-style: normal; font-weight: normal; fill: rgb(64, 147, 194); fill-opacity: 0.3;\">x ray</text><text text-anchor=\"middle\" transform=\"translate(0,0)\" style=\"font-family: sans-serif; font-size: 0px; fill: rgb(97, 161, 202); fill-opacity: 0.3;\">mechanically untable</text><text text-anchor=\"middle\" transform=\"translate(0,0)\" style=\"font-family: sans-serif; font-size: 0px; fill: rgb(87, 157, 200); fill-opacity: 0.3;\">structure</text><text text-anchor=\"middle\" transform=\"translate(0,0)\" style=\"font-family: sans-serif; font-size: 0px; fill: rgb(200, 206, 228); fill-opacity: 0.3;\">interplay</text><text text-anchor=\"middle\" transform=\"translate(0,0)\" style=\"font-family: sans-serif; font-size: 0px; fill: rgb(117, 169, 207); fill-opacity: 0.3;\">catalyst</text><text text-anchor=\"middle\" transform=\"translate(634,238)\" style=\"font-family: Helvetica Neue, Arial; font-size: 19px; font-style: normal; font-weight: normal; fill: rgb(152, 184, 216); fill-opacity: 0.3;\">al</text><text text-anchor=\"middle\" transform=\"translate(0,0)\" style=\"font-family: sans-serif; font-size: 0px; fill: rgb(219, 218, 235); fill-opacity: 0.3;\">catalysis</text><text text-anchor=\"middle\" transform=\"translate(0,0)\" style=\"font-family: sans-serif; font-size: 0px; fill: rgb(64, 147, 194); fill-opacity: 0.3;\">interacting massive</text><text text-anchor=\"middle\" transform=\"translate(695,132)\" style=\"font-family: Helvetica Neue, Arial; font-size: 20px; font-style: normal; font-weight: normal; fill: rgb(139, 178, 213); fill-opacity: 0.3;\">free</text><text text-anchor=\"middle\" transform=\"translate(106,167)\" style=\"font-family: Helvetica Neue, Arial; font-size: 31px; font-style: normal; font-weight: normal; fill: rgb(51, 140, 190); fill-opacity: 0.3;\">motion</text><text text-anchor=\"middle\" transform=\"translate(0,0)\" style=\"font-family: sans-serif; font-size: 0px; fill: rgb(200, 206, 228); fill-opacity: 0.3;\">thermal</text><text text-anchor=\"middle\" transform=\"translate(0,0)\" style=\"font-family: sans-serif; font-size: 0px; fill: rgb(166, 190, 220); fill-opacity: 0.3;\">implication</text><text text-anchor=\"middle\" transform=\"translate(0,0)\" style=\"font-family: sans-serif; font-size: 0px; fill: rgb(64, 147, 194); fill-opacity: 0.3;\">lux detector</text><text text-anchor=\"middle\" transform=\"translate(0,0)\" style=\"font-family: sans-serif; font-size: 0px; fill: rgb(97, 161, 202); fill-opacity: 0.3;\">motion in</text><text text-anchor=\"middle\" transform=\"translate(687,312)\" style=\"font-family: Helvetica Neue, Arial; font-size: 37px; font-style: normal; font-weight: normal; fill: rgb(25, 123, 180); fill-opacity: 0.3;\">machine learning</text><text text-anchor=\"middle\" transform=\"translate(0,0)\" style=\"font-family: sans-serif; font-size: 0px; fill: rgb(166, 190, 220); fill-opacity: 0.3;\">task</text><text text-anchor=\"middle\" transform=\"translate(648,140)\" style=\"font-family: Helvetica Neue, Arial; font-size: 32px; font-style: normal; font-weight: normal; fill: rgb(46, 137, 188); fill-opacity: 0.3;\">n</text><text text-anchor=\"middle\" transform=\"translate(707,327)\" style=\"font-family: Helvetica Neue, Arial; font-size: 14px; font-style: normal; font-weight: normal; fill: rgb(200, 206, 228); fill-opacity: 0.3;\">lfp</text><text text-anchor=\"middle\" transform=\"translate(0,0)\" style=\"font-family: sans-serif; font-size: 0px; fill: rgb(219, 218, 235); fill-opacity: 0.3;\">carbide</text><text text-anchor=\"middle\" transform=\"translate(0,0)\" style=\"font-family: sans-serif; font-size: 0px; fill: rgb(200, 206, 228); fill-opacity: 0.3;\">employ</text><text text-anchor=\"middle\" transform=\"translate(201,334)\" style=\"font-family: Helvetica Neue, Arial; font-size: 17px; font-style: normal; font-weight: normal; fill: rgb(166, 190, 220); fill-opacity: 0.3;\">cognitive</text><text text-anchor=\"middle\" transform=\"translate(0,0)\" style=\"font-family: sans-serif; font-size: 0px; fill: rgb(182, 197, 223); fill-opacity: 0.3;\">urchin</text><text text-anchor=\"middle\" transform=\"translate(0,0)\" style=\"font-family: sans-serif; font-size: 0px; fill: rgb(57, 143, 192); fill-opacity: 0.3;\">marker</text><text text-anchor=\"middle\" transform=\"translate(563,18)\" style=\"font-family: Helvetica Neue, Arial; font-size: 19px; font-style: normal; font-weight: normal; fill: rgb(152, 184, 216); fill-opacity: 0.3;\">rate</text><text text-anchor=\"middle\" transform=\"translate(0,0)\" style=\"font-family: sans-serif; font-size: 0px; fill: rgb(219, 218, 235); fill-opacity: 0.3;\">untable</text><text text-anchor=\"middle\" transform=\"translate(0,0)\" style=\"font-family: sans-serif; font-size: 0px; fill: rgb(182, 197, 223); fill-opacity: 0.3;\">material</text><text text-anchor=\"middle\" transform=\"translate(0,0)\" style=\"font-family: sans-serif; font-size: 0px; fill: rgb(200, 206, 228); fill-opacity: 0.3;\">sequence</text><text text-anchor=\"middle\" transform=\"translate(0,0)\" style=\"font-family: sans-serif; font-size: 0px; fill: rgb(200, 206, 228); fill-opacity: 0.3;\">example</text><text text-anchor=\"middle\" transform=\"translate(0,0)\" style=\"font-family: sans-serif; font-size: 0px; fill: rgb(166, 190, 220); fill-opacity: 0.3;\">species</text><text text-anchor=\"middle\" transform=\"translate(319,262)\" style=\"font-family: Helvetica Neue, Arial; font-size: 20px; font-style: normal; font-weight: normal; fill: rgb(139, 178, 213); fill-opacity: 0.3;\">set</text><text text-anchor=\"middle\" transform=\"translate(0,0)\" style=\"font-family: sans-serif; font-size: 0px; fill: rgb(128, 174, 210); fill-opacity: 0.3;\">associated</text><text text-anchor=\"middle\" transform=\"translate(0,0)\" style=\"font-family: sans-serif; font-size: 0px; fill: rgb(200, 206, 228); fill-opacity: 0.3;\">internal</text><text text-anchor=\"middle\" transform=\"translate(0,0)\" style=\"font-family: sans-serif; font-size: 0px; fill: rgb(200, 206, 228); fill-opacity: 0.3;\">tools</text><text text-anchor=\"middle\" transform=\"translate(0,0)\" style=\"font-family: sans-serif; font-size: 0px; fill: rgb(182, 197, 223); fill-opacity: 0.3;\">highly</text><text text-anchor=\"middle\" transform=\"translate(0,0)\" style=\"font-family: sans-serif; font-size: 0px; fill: rgb(139, 178, 213); fill-opacity: 0.3;\">mathrm</text><text text-anchor=\"middle\" transform=\"translate(498,215)\" style=\"font-family: Helvetica Neue, Arial; font-size: 51px; font-style: normal; font-weight: normal; fill: rgb(5, 91, 143); fill-opacity: 0.3;\">model</text><text text-anchor=\"middle\" transform=\"translate(379,104)\" style=\"font-family: Helvetica Neue, Arial; font-size: 14px; font-style: normal; font-weight: normal; fill: rgb(200, 206, 228); fill-opacity: 0.3;\">x</text><text text-anchor=\"middle\" transform=\"translate(39,174)\" style=\"font-family: Helvetica Neue, Arial; font-size: 24px; font-style: normal; font-weight: normal; fill: rgb(106, 165, 205); fill-opacity: 0.3;\">kev</text><text text-anchor=\"middle\" transform=\"translate(0,0)\" style=\"font-family: sans-serif; font-size: 0px; fill: rgb(219, 218, 235); fill-opacity: 0.3;\">subject</text><text text-anchor=\"middle\" transform=\"translate(0,0)\" style=\"font-family: sans-serif; font-size: 0px; fill: rgb(200, 206, 228); fill-opacity: 0.3;\">most</text><text text-anchor=\"middle\" transform=\"translate(0,0)\" style=\"font-family: sans-serif; font-size: 0px; fill: rgb(166, 190, 220); fill-opacity: 0.3;\">reveal</text><text text-anchor=\"middle\" transform=\"translate(398,338)\" style=\"font-family: Helvetica Neue, Arial; font-size: 12px; font-style: normal; font-weight: normal; fill: rgb(219, 218, 235); fill-opacity: 0.3;\">six</text><text text-anchor=\"middle\" transform=\"translate(0,0)\" style=\"font-family: sans-serif; font-size: 0px; fill: rgb(219, 218, 235); fill-opacity: 0.3;\">version</text><text text-anchor=\"middle\" transform=\"translate(0,0)\" style=\"font-family: sans-serif; font-size: 0px; fill: rgb(219, 218, 235); fill-opacity: 0.3;\">management</text><text text-anchor=\"middle\" transform=\"translate(0,0)\" style=\"font-family: sans-serif; font-size: 0px; fill: rgb(182, 197, 223); fill-opacity: 0.3;\">energies</text><text text-anchor=\"middle\" transform=\"translate(0,0)\" style=\"font-family: sans-serif; font-size: 0px; fill: rgb(200, 206, 228); fill-opacity: 0.3;\">relation</text><text text-anchor=\"middle\" transform=\"translate(0,0)\" style=\"font-family: sans-serif; font-size: 0px; fill: rgb(166, 190, 220); fill-opacity: 0.3;\">evidence</text><text text-anchor=\"middle\" transform=\"translate(0,0)\" style=\"font-family: sans-serif; font-size: 0px; fill: rgb(166, 190, 220); fill-opacity: 0.3;\">challenge</text><text text-anchor=\"middle\" transform=\"translate(0,0)\" style=\"font-family: sans-serif; font-size: 0px; fill: rgb(219, 218, 235); fill-opacity: 0.3;\">perceptual</text><text text-anchor=\"middle\" transform=\"translate(52,326)\" style=\"font-family: Helvetica Neue, Arial; font-size: 22px; font-style: normal; font-weight: normal; fill: rgb(128, 174, 210); fill-opacity: 0.3;\">image</text><text text-anchor=\"middle\" transform=\"translate(0,0)\" style=\"font-family: sans-serif; font-size: 0px; fill: rgb(128, 174, 210); fill-opacity: 0.3;\">analyses</text><text text-anchor=\"middle\" transform=\"translate(0,0)\" style=\"font-family: sans-serif; font-size: 0px; fill: rgb(219, 218, 235); fill-opacity: 0.3;\">infected</text><text text-anchor=\"middle\" transform=\"translate(0,0)\" style=\"font-family: sans-serif; font-size: 0px; fill: rgb(166, 190, 220); fill-opacity: 0.3;\">domain</text><text text-anchor=\"middle\" transform=\"translate(0,0)\" style=\"font-family: sans-serif; font-size: 0px; fill: rgb(219, 218, 235); fill-opacity: 0.3;\">double</text><text text-anchor=\"middle\" transform=\"translate(0,0)\" style=\"font-family: sans-serif; font-size: 0px; fill: rgb(166, 190, 220); fill-opacity: 0.3;\">active</text><text text-anchor=\"middle\" transform=\"translate(0,0)\" style=\"font-family: sans-serif; font-size: 0px; fill: rgb(200, 206, 228); fill-opacity: 0.3;\">predict</text><text text-anchor=\"middle\" transform=\"translate(0,0)\" style=\"font-family: sans-serif; font-size: 0px; fill: rgb(97, 161, 202); fill-opacity: 0.3;\">charge tranfer</text><text text-anchor=\"middle\" transform=\"translate(0,0)\" style=\"font-family: sans-serif; font-size: 0px; fill: rgb(200, 206, 228); fill-opacity: 0.3;\">carlo</text><text text-anchor=\"middle\" transform=\"translate(0,0)\" style=\"font-family: sans-serif; font-size: 0px; fill: rgb(166, 190, 220); fill-opacity: 0.3;\">yields</text><text text-anchor=\"middle\" transform=\"translate(776,110)\" style=\"font-family: Helvetica Neue, Arial; font-size: 22px; font-style: normal; font-weight: normal; fill: rgb(128, 174, 210); fill-opacity: 0.3;\">mean</text><text text-anchor=\"middle\" transform=\"translate(0,0)\" style=\"font-family: sans-serif; font-size: 0px; fill: rgb(200, 206, 228); fill-opacity: 0.3;\">weakly</text><text text-anchor=\"middle\" transform=\"translate(0,0)\" style=\"font-family: sans-serif; font-size: 0px; fill: rgb(166, 190, 220); fill-opacity: 0.3;\">detection</text><text text-anchor=\"middle\" transform=\"translate(0,0)\" style=\"font-family: sans-serif; font-size: 0px; fill: rgb(139, 178, 213); fill-opacity: 0.3;\">including</text><text text-anchor=\"middle\" transform=\"translate(847,63)\" style=\"font-family: Helvetica Neue, Arial; font-size: 29px; font-style: normal; font-weight: normal; fill: rgb(64, 147, 194); fill-opacity: 0.3;\">study</text><text text-anchor=\"middle\" transform=\"translate(0,0)\" style=\"font-family: sans-serif; font-size: 0px; fill: rgb(200, 206, 228); fill-opacity: 0.3;\">predicted</text><text text-anchor=\"middle\" transform=\"translate(0,0)\" style=\"font-family: sans-serif; font-size: 0px; fill: rgb(200, 206, 228); fill-opacity: 0.3;\">imaging</text><text text-anchor=\"middle\" transform=\"translate(37,151)\" style=\"font-family: Helvetica Neue, Arial; font-size: 17px; font-style: normal; font-weight: normal; fill: rgb(166, 190, 220); fill-opacity: 0.3;\">strain</text><text text-anchor=\"middle\" transform=\"translate(0,0)\" style=\"font-family: sans-serif; font-size: 0px; fill: rgb(166, 190, 220); fill-opacity: 0.3;\">feeding</text><text text-anchor=\"middle\" transform=\"translate(0,0)\" style=\"font-family: sans-serif; font-size: 0px; fill: rgb(219, 218, 235); fill-opacity: 0.3;\">change</text><text text-anchor=\"middle\" transform=\"translate(0,0)\" style=\"font-family: sans-serif; font-size: 0px; fill: rgb(219, 218, 235); fill-opacity: 0.3;\">analyze</text><text text-anchor=\"middle\" transform=\"translate(0,0)\" style=\"font-family: sans-serif; font-size: 0px; fill: rgb(219, 218, 235); fill-opacity: 0.3;\">mechanically</text><text text-anchor=\"middle\" transform=\"translate(0,0)\" style=\"font-family: sans-serif; font-size: 0px; fill: rgb(166, 190, 220); fill-opacity: 0.3;\">information</text><text text-anchor=\"middle\" transform=\"translate(323,284)\" style=\"font-family: Helvetica Neue, Arial; font-size: 15px; font-style: normal; font-weight: normal; fill: rgb(182, 197, 223); fill-opacity: 0.3;\">via</text><text text-anchor=\"middle\" transform=\"translate(0,0)\" style=\"font-family: sans-serif; font-size: 0px; fill: rgb(182, 197, 223); fill-opacity: 0.3;\">principles</text><text text-anchor=\"middle\" transform=\"translate(757,201)\" style=\"font-family: Helvetica Neue, Arial; font-size: 40px; font-style: normal; font-weight: normal; fill: rgb(13, 113, 172); fill-opacity: 0.3;\">energy</text><text text-anchor=\"middle\" transform=\"translate(0,0)\" style=\"font-family: sans-serif; font-size: 0px; fill: rgb(219, 218, 235); fill-opacity: 0.3;\">biomechanics</text><text text-anchor=\"middle\" transform=\"translate(0,0)\" style=\"font-family: sans-serif; font-size: 0px; fill: rgb(219, 218, 235); fill-opacity: 0.3;\">cognition</text><text text-anchor=\"middle\" transform=\"translate(0,0)\" style=\"font-family: sans-serif; font-size: 0px; fill: rgb(139, 178, 213); fill-opacity: 0.3;\">reduction</text><text text-anchor=\"middle\" transform=\"translate(658,331)\" style=\"font-family: Helvetica Neue, Arial; font-size: 20px; font-style: normal; font-weight: normal; fill: rgb(139, 178, 213); fill-opacity: 0.3;\">process</text><text text-anchor=\"middle\" transform=\"translate(0,0)\" style=\"font-family: sans-serif; font-size: 0px; fill: rgb(152, 184, 216); fill-opacity: 0.3;\">complex</text><text text-anchor=\"middle\" transform=\"translate(611,188)\" style=\"font-family: Helvetica Neue, Arial; font-size: 20px; font-style: normal; font-weight: normal; fill: rgb(139, 178, 213); fill-opacity: 0.3;\">novel</text><text text-anchor=\"middle\" transform=\"translate(0,0)\" style=\"font-family: sans-serif; font-size: 0px; fill: rgb(182, 197, 223); fill-opacity: 0.3;\">force</text><text text-anchor=\"middle\" transform=\"translate(0,0)\" style=\"font-family: sans-serif; font-size: 0px; fill: rgb(152, 184, 216); fill-opacity: 0.3;\">neuronal</text><text text-anchor=\"middle\" transform=\"translate(0,0)\" style=\"font-family: sans-serif; font-size: 0px; fill: rgb(182, 197, 223); fill-opacity: 0.3;\">value</text><text text-anchor=\"middle\" transform=\"translate(863,128)\" style=\"font-family: Helvetica Neue, Arial; font-size: 12px; font-style: normal; font-weight: normal; fill: rgb(219, 218, 235); fill-opacity: 0.3;\">sparse</text><text text-anchor=\"middle\" transform=\"translate(814,247)\" style=\"font-family: Helvetica Neue, Arial; font-size: 14px; font-style: normal; font-weight: normal; fill: rgb(200, 206, 228); fill-opacity: 0.3;\">an</text><text text-anchor=\"middle\" transform=\"translate(0,0)\" style=\"font-family: sans-serif; font-size: 0px; fill: rgb(200, 206, 228); fill-opacity: 0.3;\">effective</text><text text-anchor=\"middle\" transform=\"translate(0,0)\" style=\"font-family: sans-serif; font-size: 0px; fill: rgb(64, 147, 194); fill-opacity: 0.3;\">focal seizure</text><text text-anchor=\"middle\" transform=\"translate(0,0)\" style=\"font-family: sans-serif; font-size: 0px; fill: rgb(200, 206, 228); fill-opacity: 0.3;\">relaxation</text><text text-anchor=\"middle\" transform=\"translate(0,0)\" style=\"font-family: sans-serif; font-size: 0px; fill: rgb(57, 143, 192); fill-opacity: 0.3;\">particle</text><text text-anchor=\"middle\" transform=\"translate(0,0)\" style=\"font-family: sans-serif; font-size: 0px; fill: rgb(182, 197, 223); fill-opacity: 0.3;\">evolutionary</text><text text-anchor=\"middle\" transform=\"translate(0,0)\" style=\"font-family: sans-serif; font-size: 0px; fill: rgb(219, 218, 235); fill-opacity: 0.3;\">senitive</text><text text-anchor=\"middle\" transform=\"translate(0,0)\" style=\"font-family: sans-serif; font-size: 0px; fill: rgb(200, 206, 228); fill-opacity: 0.3;\">decision</text><text text-anchor=\"middle\" transform=\"translate(0,0)\" style=\"font-family: sans-serif; font-size: 0px; fill: rgb(219, 218, 235); fill-opacity: 0.3;\">flexible</text><text text-anchor=\"middle\" transform=\"translate(0,0)\" style=\"font-family: sans-serif; font-size: 0px; fill: rgb(219, 218, 235); fill-opacity: 0.3;\">generate</text><text text-anchor=\"middle\" transform=\"translate(393,133)\" style=\"font-family: Helvetica Neue, Arial; font-size: 24px; font-style: normal; font-weight: normal; fill: rgb(106, 165, 205); fill-opacity: 0.3;\">c</text><text text-anchor=\"middle\" transform=\"translate(0,0)\" style=\"font-family: sans-serif; font-size: 0px; fill: rgb(200, 206, 228); fill-opacity: 0.3;\">interface</text><text text-anchor=\"middle\" transform=\"translate(0,0)\" style=\"font-family: sans-serif; font-size: 0px; fill: rgb(219, 218, 235); fill-opacity: 0.3;\">location</text><text text-anchor=\"middle\" transform=\"translate(0,0)\" style=\"font-family: sans-serif; font-size: 0px; fill: rgb(117, 169, 207); fill-opacity: 0.3;\">processing</text><text text-anchor=\"middle\" transform=\"translate(0,0)\" style=\"font-family: sans-serif; font-size: 0px; fill: rgb(219, 218, 235); fill-opacity: 0.3;\">resolution</text><text text-anchor=\"middle\" transform=\"translate(0,0)\" style=\"font-family: sans-serif; font-size: 0px; fill: rgb(64, 147, 194); fill-opacity: 0.3;\">function</text><text text-anchor=\"middle\" transform=\"translate(0,0)\" style=\"font-family: sans-serif; font-size: 0px; fill: rgb(182, 197, 223); fill-opacity: 0.3;\">stage</text><text text-anchor=\"middle\" transform=\"translate(197,104)\" style=\"font-family: Helvetica Neue, Arial; font-size: 12px; font-style: normal; font-weight: normal; fill: rgb(219, 218, 235); fill-opacity: 0.3;\">mars</text><text text-anchor=\"middle\" transform=\"translate(307,154)\" style=\"font-family: Helvetica Neue, Arial; font-size: 17px; font-style: normal; font-weight: normal; fill: rgb(166, 190, 220); fill-opacity: 0.3;\">ion</text><text text-anchor=\"middle\" transform=\"translate(0,0)\" style=\"font-family: sans-serif; font-size: 0px; fill: rgb(200, 206, 228); fill-opacity: 0.3;\">with</text><text text-anchor=\"middle\" transform=\"translate(0,0)\" style=\"font-family: sans-serif; font-size: 0px; fill: rgb(152, 184, 216); fill-opacity: 0.3;\">measured</text><text text-anchor=\"middle\" transform=\"translate(0,0)\" style=\"font-family: sans-serif; font-size: 0px; fill: rgb(79, 154, 198); fill-opacity: 0.3;\">matter</text><text text-anchor=\"middle\" transform=\"translate(0,0)\" style=\"font-family: sans-serif; font-size: 0px; fill: rgb(219, 218, 235); fill-opacity: 0.3;\">recently</text><text text-anchor=\"middle\" transform=\"translate(0,0)\" style=\"font-family: sans-serif; font-size: 0px; fill: rgb(152, 184, 216); fill-opacity: 0.3;\">driven</text><text text-anchor=\"middle\" transform=\"translate(0,0)\" style=\"font-family: sans-serif; font-size: 0px; fill: rgb(200, 206, 228); fill-opacity: 0.3;\">facilitate</text><text text-anchor=\"middle\" transform=\"translate(294,193)\" style=\"font-family: Helvetica Neue, Arial; font-size: 15px; font-style: normal; font-weight: normal; fill: rgb(182, 197, 223); fill-opacity: 0.3;\">it</text><text text-anchor=\"middle\" transform=\"translate(252,242)\" style=\"font-family: Helvetica Neue, Arial; font-size: 39px; font-style: normal; font-weight: normal; fill: rgb(18, 117, 175); fill-opacity: 0.3;\">underground xenon lux</text><text text-anchor=\"middle\" transform=\"translate(0,0)\" style=\"font-family: sans-serif; font-size: 0px; fill: rgb(200, 206, 228); fill-opacity: 0.3;\">remain</text><text text-anchor=\"middle\" transform=\"translate(0,0)\" style=\"font-family: sans-serif; font-size: 0px; fill: rgb(87, 157, 200); fill-opacity: 0.3;\">surface</text><text text-anchor=\"middle\" transform=\"translate(778,92)\" style=\"font-family: Helvetica Neue, Arial; font-size: 33px; font-style: normal; font-weight: normal; fill: rgb(41, 134, 187); fill-opacity: 0.3;\">sea urchin</text><text text-anchor=\"middle\" transform=\"translate(0,0)\" style=\"font-family: sans-serif; font-size: 0px; fill: rgb(166, 190, 220); fill-opacity: 0.3;\">scattering</text><text text-anchor=\"middle\" transform=\"translate(0,0)\" style=\"font-family: sans-serif; font-size: 0px; fill: rgb(64, 147, 194); fill-opacity: 0.3;\">sea star</text><text text-anchor=\"middle\" transform=\"translate(0,0)\" style=\"font-family: sans-serif; font-size: 0px; fill: rgb(97, 161, 202); fill-opacity: 0.3;\">matter experiment</text><text text-anchor=\"middle\" transform=\"translate(746,27)\" style=\"font-family: Helvetica Neue, Arial; font-size: 33px; font-style: normal; font-weight: normal; fill: rgb(41, 134, 187); fill-opacity: 0.3;\">large underground</text><text text-anchor=\"middle\" transform=\"translate(0,0)\" style=\"font-family: sans-serif; font-size: 0px; fill: rgb(200, 206, 228); fill-opacity: 0.3;\">comparison</text><text text-anchor=\"middle\" transform=\"translate(0,0)\" style=\"font-family: sans-serif; font-size: 0px; fill: rgb(219, 218, 235); fill-opacity: 0.3;\">capture</text><text text-anchor=\"middle\" transform=\"translate(64,130)\" style=\"font-family: Helvetica Neue, Arial; font-size: 31px; font-style: normal; font-weight: normal; fill: rgb(51, 140, 190); fill-opacity: 0.3;\">based</text><text text-anchor=\"middle\" transform=\"translate(0,0)\" style=\"font-family: sans-serif; font-size: 0px; fill: rgb(200, 206, 228); fill-opacity: 0.3;\">contant</text><text text-anchor=\"middle\" transform=\"translate(151,18)\" style=\"font-family: Helvetica Neue, Arial; font-size: 17px; font-style: normal; font-weight: normal; fill: rgb(166, 190, 220); fill-opacity: 0.3;\">cortex</text><text text-anchor=\"middle\" transform=\"translate(0,0)\" style=\"font-family: sans-serif; font-size: 0px; fill: rgb(219, 218, 235); fill-opacity: 0.3;\">appear</text><text text-anchor=\"middle\" transform=\"translate(0,0)\" style=\"font-family: sans-serif; font-size: 0px; fill: rgb(152, 184, 216); fill-opacity: 0.3;\">deep</text><text text-anchor=\"middle\" transform=\"translate(0,0)\" style=\"font-family: sans-serif; font-size: 0px; fill: rgb(219, 218, 235); fill-opacity: 0.3;\">preliminary</text><text text-anchor=\"middle\" transform=\"translate(88,339)\" style=\"font-family: Helvetica Neue, Arial; font-size: 12px; font-style: normal; font-weight: normal; fill: rgb(219, 218, 235); fill-opacity: 0.3;\">online</text><text text-anchor=\"middle\" transform=\"translate(884,275)\" style=\"font-family: Helvetica Neue, Arial; font-size: 12px; font-style: normal; font-weight: normal; fill: rgb(219, 218, 235); fill-opacity: 0.3;\">how</text><text text-anchor=\"middle\" transform=\"translate(0,0)\" style=\"font-family: sans-serif; font-size: 0px; fill: rgb(219, 218, 235); fill-opacity: 0.3;\">electrocatalyst</text><text text-anchor=\"middle\" transform=\"translate(292,252)\" style=\"font-family: Helvetica Neue, Arial; font-size: 12px; font-style: normal; font-weight: normal; fill: rgb(219, 218, 235); fill-opacity: 0.3;\">o</text><text text-anchor=\"middle\" transform=\"translate(400,17)\" style=\"font-family: Helvetica Neue, Arial; font-size: 17px; font-style: normal; font-weight: normal; fill: rgb(166, 190, 220); fill-opacity: 0.3;\">light</text><text text-anchor=\"middle\" transform=\"translate(0,0)\" style=\"font-family: sans-serif; font-size: 0px; fill: rgb(97, 161, 202); fill-opacity: 0.3;\">multiple</text><text text-anchor=\"middle\" transform=\"translate(0,0)\" style=\"font-family: sans-serif; font-size: 0px; fill: rgb(200, 206, 228); fill-opacity: 0.3;\">equation</text><text text-anchor=\"middle\" transform=\"translate(0,0)\" style=\"font-family: sans-serif; font-size: 0px; fill: rgb(200, 206, 228); fill-opacity: 0.3;\">observed</text><text text-anchor=\"middle\" transform=\"translate(637,100)\" style=\"font-family: Helvetica Neue, Arial; font-size: 38px; font-style: normal; font-weight: normal; fill: rgb(20, 119, 177); fill-opacity: 0.3;\">learning</text><text text-anchor=\"middle\" transform=\"translate(0,0)\" style=\"font-family: sans-serif; font-size: 0px; fill: rgb(166, 190, 220); fill-opacity: 0.3;\">reinforcement</text><text text-anchor=\"middle\" transform=\"translate(0,0)\" style=\"font-family: sans-serif; font-size: 0px; fill: rgb(200, 206, 228); fill-opacity: 0.3;\">decay</text><text text-anchor=\"middle\" transform=\"translate(852,170)\" style=\"font-family: Helvetica Neue, Arial; font-size: 19px; font-style: normal; font-weight: normal; fill: rgb(152, 184, 216); fill-opacity: 0.3;\">activity</text><text text-anchor=\"middle\" transform=\"translate(0,0)\" style=\"font-family: sans-serif; font-size: 0px; fill: rgb(166, 190, 220); fill-opacity: 0.3;\">degree</text><text text-anchor=\"middle\" transform=\"translate(0,0)\" style=\"font-family: sans-serif; font-size: 0px; fill: rgb(139, 178, 213); fill-opacity: 0.3;\">reaction</text><text text-anchor=\"middle\" transform=\"translate(0,0)\" style=\"font-family: sans-serif; font-size: 0px; fill: rgb(200, 206, 228); fill-opacity: 0.3;\">healthy</text><text text-anchor=\"middle\" transform=\"translate(452,153)\" style=\"font-family: Helvetica Neue, Arial; font-size: 15px; font-style: normal; font-weight: normal; fill: rgb(182, 197, 223); fill-opacity: 0.3;\">h</text><text text-anchor=\"middle\" transform=\"translate(0,0)\" style=\"font-family: sans-serif; font-size: 0px; fill: rgb(219, 218, 235); fill-opacity: 0.3;\">circuit</text><text text-anchor=\"middle\" transform=\"translate(0,0)\" style=\"font-family: sans-serif; font-size: 0px; fill: rgb(182, 197, 223); fill-opacity: 0.3;\">tranfer</text><text text-anchor=\"middle\" transform=\"translate(419,157)\" style=\"font-family: Helvetica Neue, Arial; font-size: 20px; font-style: normal; font-weight: normal; fill: rgb(139, 178, 213); fill-opacity: 0.3;\">this</text><text text-anchor=\"middle\" transform=\"translate(0,0)\" style=\"font-family: sans-serif; font-size: 0px; fill: rgb(51, 140, 190); fill-opacity: 0.3;\">neural</text><text text-anchor=\"middle\" transform=\"translate(0,0)\" style=\"font-family: sans-serif; font-size: 0px; fill: rgb(200, 206, 228); fill-opacity: 0.3;\">pathway</text><text text-anchor=\"middle\" transform=\"translate(0,0)\" style=\"font-family: sans-serif; font-size: 0px; fill: rgb(166, 190, 220); fill-opacity: 0.3;\">electron</text><text text-anchor=\"middle\" transform=\"translate(0,0)\" style=\"font-family: sans-serif; font-size: 0px; fill: rgb(200, 206, 228); fill-opacity: 0.3;\">organism</text><text text-anchor=\"middle\" transform=\"translate(0,0)\" style=\"font-family: sans-serif; font-size: 0px; fill: rgb(219, 218, 235); fill-opacity: 0.3;\">adaptation</text><text text-anchor=\"middle\" transform=\"translate(184,183)\" style=\"font-family: Helvetica Neue, Arial; font-size: 15px; font-style: normal; font-weight: normal; fill: rgb(182, 197, 223); fill-opacity: 0.3;\">eeg</text><text text-anchor=\"middle\" transform=\"translate(0,0)\" style=\"font-family: sans-serif; font-size: 0px; fill: rgb(182, 197, 223); fill-opacity: 0.3;\">suggesting</text><text text-anchor=\"middle\" transform=\"translate(0,0)\" style=\"font-family: sans-serif; font-size: 0px; fill: rgb(219, 218, 235); fill-opacity: 0.3;\">indicating</text><text text-anchor=\"middle\" transform=\"translate(0,0)\" style=\"font-family: sans-serif; font-size: 0px; fill: rgb(219, 218, 235); fill-opacity: 0.3;\">chamber</text><text text-anchor=\"middle\" transform=\"translate(525,103)\" style=\"font-family: Helvetica Neue, Arial; font-size: 12px; font-style: normal; font-weight: normal; fill: rgb(219, 218, 235); fill-opacity: 0.3;\">as</text><text text-anchor=\"middle\" transform=\"translate(249,155)\" style=\"font-family: Helvetica Neue, Arial; font-size: 17px; font-style: normal; font-weight: normal; fill: rgb(166, 190, 220); fill-opacity: 0.3;\">vivo</text><text text-anchor=\"middle\" transform=\"translate(49,49)\" style=\"font-family: Helvetica Neue, Arial; font-size: 30px; font-style: normal; font-weight: normal; fill: rgb(57, 143, 192); fill-opacity: 0.3;\">using</text><text text-anchor=\"middle\" transform=\"translate(725,108)\" style=\"font-family: Helvetica Neue, Arial; font-size: 17px; font-style: normal; font-weight: normal; fill: rgb(166, 190, 220); fill-opacity: 0.3;\">ray</text><text text-anchor=\"middle\" transform=\"translate(0,0)\" style=\"font-family: sans-serif; font-size: 0px; fill: rgb(41, 134, 187); fill-opacity: 0.3;\">denity functional</text><text text-anchor=\"middle\" transform=\"translate(0,0)\" style=\"font-family: sans-serif; font-size: 0px; fill: rgb(97, 161, 202); fill-opacity: 0.3;\">single neuron</text><text text-anchor=\"middle\" transform=\"translate(513,20)\" style=\"font-family: Helvetica Neue, Arial; font-size: 17px; font-style: normal; font-weight: normal; fill: rgb(166, 190, 220); fill-opacity: 0.3;\">form</text><text text-anchor=\"middle\" transform=\"translate(0,0)\" style=\"font-family: sans-serif; font-size: 0px; fill: rgb(200, 206, 228); fill-opacity: 0.3;\">peak</text><text text-anchor=\"middle\" transform=\"translate(0,0)\" style=\"font-family: sans-serif; font-size: 0px; fill: rgb(219, 218, 235); fill-opacity: 0.3;\">electric</text><text text-anchor=\"middle\" transform=\"translate(133,145)\" style=\"font-family: Helvetica Neue, Arial; font-size: 12px; font-style: normal; font-weight: normal; fill: rgb(219, 218, 235); fill-opacity: 0.3;\">wave</text><text text-anchor=\"middle\" transform=\"translate(0,0)\" style=\"font-family: sans-serif; font-size: 0px; fill: rgb(182, 197, 223); fill-opacity: 0.3;\">real</text><text text-anchor=\"middle\" transform=\"translate(0,0)\" style=\"font-family: sans-serif; font-size: 0px; fill: rgb(166, 190, 220); fill-opacity: 0.3;\">experimental</text><text text-anchor=\"middle\" transform=\"translate(0,0)\" style=\"font-family: sans-serif; font-size: 0px; fill: rgb(128, 174, 210); fill-opacity: 0.3;\">increase</text><text text-anchor=\"middle\" transform=\"translate(0,0)\" style=\"font-family: sans-serif; font-size: 0px; fill: rgb(219, 218, 235); fill-opacity: 0.3;\">ionization</text><text text-anchor=\"middle\" transform=\"translate(169,275)\" style=\"font-family: Helvetica Neue, Arial; font-size: 33px; font-style: normal; font-weight: normal; fill: rgb(41, 134, 187); fill-opacity: 0.3;\">underground xenon</text><text text-anchor=\"middle\" transform=\"translate(247,177)\" style=\"font-family: Helvetica Neue, Arial; font-size: 17px; font-style: normal; font-weight: normal; fill: rgb(166, 190, 220); fill-opacity: 0.3;\">limit</text><text text-anchor=\"middle\" transform=\"translate(0,0)\" style=\"font-family: sans-serif; font-size: 0px; fill: rgb(97, 161, 202); fill-opacity: 0.3;\">charge</text><text text-anchor=\"middle\" transform=\"translate(618,246)\" style=\"font-family: Helvetica Neue, Arial; font-size: 48px; font-style: normal; font-weight: normal; fill: rgb(5, 97, 153); fill-opacity: 0.3;\">nuclear recoil</text><text text-anchor=\"middle\" transform=\"translate(0,0)\" style=\"font-family: sans-serif; font-size: 0px; fill: rgb(182, 197, 223); fill-opacity: 0.3;\">algorithm</text><text text-anchor=\"middle\" transform=\"translate(0,0)\" style=\"font-family: sans-serif; font-size: 0px; fill: rgb(200, 206, 228); fill-opacity: 0.3;\">sampling</text><text text-anchor=\"middle\" transform=\"translate(0,0)\" style=\"font-family: sans-serif; font-size: 0px; fill: rgb(182, 197, 223); fill-opacity: 0.3;\">application</text><text text-anchor=\"middle\" transform=\"translate(0,0)\" style=\"font-family: sans-serif; font-size: 0px; fill: rgb(200, 206, 228); fill-opacity: 0.3;\">biology</text><text text-anchor=\"middle\" transform=\"translate(0,0)\" style=\"font-family: sans-serif; font-size: 0px; fill: rgb(97, 161, 202); fill-opacity: 0.3;\">co reduction</text><text text-anchor=\"middle\" transform=\"translate(0,0)\" style=\"font-family: sans-serif; font-size: 0px; fill: rgb(200, 206, 228); fill-opacity: 0.3;\">timing</text><text text-anchor=\"middle\" transform=\"translate(0,0)\" style=\"font-family: sans-serif; font-size: 0px; fill: rgb(219, 218, 235); fill-opacity: 0.3;\">component</text><text text-anchor=\"middle\" transform=\"translate(868,116)\" style=\"font-family: Helvetica Neue, Arial; font-size: 20px; font-style: normal; font-weight: normal; fill: rgb(139, 178, 213); fill-opacity: 0.3;\">effect</text><text text-anchor=\"middle\" transform=\"translate(0,0)\" style=\"font-family: sans-serif; font-size: 0px; fill: rgb(219, 218, 235); fill-opacity: 0.3;\">quality</text><text text-anchor=\"middle\" transform=\"translate(0,0)\" style=\"font-family: sans-serif; font-size: 0px; fill: rgb(182, 197, 223); fill-opacity: 0.3;\">software</text><text text-anchor=\"middle\" transform=\"translate(0,0)\" style=\"font-family: sans-serif; font-size: 0px; fill: rgb(219, 218, 235); fill-opacity: 0.3;\">beyond</text><text text-anchor=\"middle\" transform=\"translate(449,16)\" style=\"font-family: Helvetica Neue, Arial; font-size: 23px; font-style: normal; font-weight: normal; fill: rgb(117, 169, 207); fill-opacity: 0.3;\">gene</text><text text-anchor=\"middle\" transform=\"translate(0,0)\" style=\"font-family: sans-serif; font-size: 0px; fill: rgb(219, 218, 235); fill-opacity: 0.3;\">contrained</text><text text-anchor=\"middle\" transform=\"translate(0,0)\" style=\"font-family: sans-serif; font-size: 0px; fill: rgb(64, 147, 194); fill-opacity: 0.3;\">computational model</text><text text-anchor=\"middle\" transform=\"translate(0,0)\" style=\"font-family: sans-serif; font-size: 0px; fill: rgb(152, 184, 216); fill-opacity: 0.3;\">treatment</text><text text-anchor=\"middle\" transform=\"translate(0,0)\" style=\"font-family: sans-serif; font-size: 0px; fill: rgb(46, 137, 188); fill-opacity: 0.3;\">mechanism</text><text text-anchor=\"middle\" transform=\"translate(0,0)\" style=\"font-family: sans-serif; font-size: 0px; fill: rgb(200, 206, 228); fill-opacity: 0.3;\">investigate</text><text text-anchor=\"middle\" transform=\"translate(0,0)\" style=\"font-family: sans-serif; font-size: 0px; fill: rgb(200, 206, 228); fill-opacity: 0.3;\">hydrogen</text><text text-anchor=\"middle\" transform=\"translate(0,0)\" style=\"font-family: sans-serif; font-size: 0px; fill: rgb(64, 147, 194); fill-opacity: 0.3;\">human</text><text text-anchor=\"middle\" transform=\"translate(0,0)\" style=\"font-family: sans-serif; font-size: 0px; fill: rgb(219, 218, 235); fill-opacity: 0.3;\">leading</text><text text-anchor=\"middle\" transform=\"translate(0,0)\" style=\"font-family: sans-serif; font-size: 0px; fill: rgb(219, 218, 235); fill-opacity: 0.3;\">develop</text><text text-anchor=\"middle\" transform=\"translate(0,0)\" style=\"font-family: sans-serif; font-size: 0px; fill: rgb(200, 206, 228); fill-opacity: 0.3;\">white</text><text text-anchor=\"middle\" transform=\"translate(580,331)\" style=\"font-family: Helvetica Neue, Arial; font-size: 20px; font-style: normal; font-weight: normal; fill: rgb(139, 178, 213); fill-opacity: 0.3;\">neutron</text><text text-anchor=\"middle\" transform=\"translate(0,0)\" style=\"font-family: sans-serif; font-size: 0px; fill: rgb(64, 147, 194); fill-opacity: 0.3;\">neural network</text><text text-anchor=\"middle\" transform=\"translate(0,0)\" style=\"font-family: sans-serif; font-size: 0px; fill: rgb(200, 206, 228); fill-opacity: 0.3;\">animal</text><text text-anchor=\"middle\" transform=\"translate(0,0)\" style=\"font-family: sans-serif; font-size: 0px; fill: rgb(219, 218, 235); fill-opacity: 0.3;\">average</text><text text-anchor=\"middle\" transform=\"translate(0,0)\" style=\"font-family: sans-serif; font-size: 0px; fill: rgb(182, 197, 223); fill-opacity: 0.3;\">object</text><text text-anchor=\"middle\" transform=\"translate(0,0)\" style=\"font-family: sans-serif; font-size: 0px; fill: rgb(182, 197, 223); fill-opacity: 0.3;\">bone</text><text text-anchor=\"middle\" transform=\"translate(0,0)\" style=\"font-family: sans-serif; font-size: 0px; fill: rgb(166, 190, 220); fill-opacity: 0.3;\">machine</text><text text-anchor=\"middle\" transform=\"translate(0,0)\" style=\"font-family: sans-serif; font-size: 0px; fill: rgb(152, 184, 216); fill-opacity: 0.3;\">behavior</text><text text-anchor=\"middle\" transform=\"translate(0,0)\" style=\"font-family: sans-serif; font-size: 0px; fill: rgb(106, 165, 205); fill-opacity: 0.3;\">nuclear</text><text text-anchor=\"middle\" transform=\"translate(273,332)\" style=\"font-family: Helvetica Neue, Arial; font-size: 19px; font-style: normal; font-weight: normal; fill: rgb(152, 184, 216); fill-opacity: 0.3;\">seizure</text><text text-anchor=\"middle\" transform=\"translate(0,0)\" style=\"font-family: sans-serif; font-size: 0px; fill: rgb(219, 218, 235); fill-opacity: 0.3;\">essential</text><text text-anchor=\"middle\" transform=\"translate(0,0)\" style=\"font-family: sans-serif; font-size: 0px; fill: rgb(219, 218, 235); fill-opacity: 0.3;\">stable</text><text text-anchor=\"middle\" transform=\"translate(0,0)\" style=\"font-family: sans-serif; font-size: 0px; fill: rgb(219, 218, 235); fill-opacity: 0.3;\">variable</text><text text-anchor=\"middle\" transform=\"translate(0,0)\" style=\"font-family: sans-serif; font-size: 0px; fill: rgb(97, 161, 202); fill-opacity: 0.3;\">calibration</text><text text-anchor=\"middle\" transform=\"translate(0,0)\" style=\"font-family: sans-serif; font-size: 0px; fill: rgb(219, 218, 235); fill-opacity: 0.3;\">individual</text><text text-anchor=\"middle\" transform=\"translate(0,0)\" style=\"font-family: sans-serif; font-size: 0px; fill: rgb(200, 206, 228); fill-opacity: 0.3;\">conider</text><text text-anchor=\"middle\" transform=\"translate(0,0)\" style=\"font-family: sans-serif; font-size: 0px; fill: rgb(152, 184, 216); fill-opacity: 0.3;\">accuracy</text><text text-anchor=\"middle\" transform=\"translate(0,0)\" style=\"font-family: sans-serif; font-size: 0px; fill: rgb(152, 184, 216); fill-opacity: 0.3;\">search</text><text text-anchor=\"middle\" transform=\"translate(0,0)\" style=\"font-family: sans-serif; font-size: 0px; fill: rgb(64, 147, 194); fill-opacity: 0.3;\">monte carlo</text><text text-anchor=\"middle\" transform=\"translate(0,0)\" style=\"font-family: sans-serif; font-size: 0px; fill: rgb(200, 206, 228); fill-opacity: 0.3;\">categorization</text><text text-anchor=\"middle\" transform=\"translate(0,0)\" style=\"font-family: sans-serif; font-size: 0px; fill: rgb(64, 147, 194); fill-opacity: 0.3;\">dual phase</text><text text-anchor=\"middle\" transform=\"translate(0,0)\" style=\"font-family: sans-serif; font-size: 0px; fill: rgb(219, 218, 235); fill-opacity: 0.3;\">contribution</text><text text-anchor=\"middle\" transform=\"translate(813,234)\" style=\"font-family: Helvetica Neue, Arial; font-size: 37px; font-style: normal; font-weight: normal; fill: rgb(23, 121, 178); fill-opacity: 0.3;\">dynamic</text><text text-anchor=\"middle\" transform=\"translate(695,212)\" style=\"font-family: Helvetica Neue, Arial; font-size: 14px; font-style: normal; font-weight: normal; fill: rgb(200, 206, 228); fill-opacity: 0.3;\">age</text><text text-anchor=\"middle\" transform=\"translate(0,0)\" style=\"font-family: sans-serif; font-size: 0px; fill: rgb(219, 218, 235); fill-opacity: 0.3;\">systematic</text><text text-anchor=\"middle\" transform=\"translate(708,62)\" style=\"font-family: Helvetica Neue, Arial; font-size: 33px; font-style: normal; font-weight: normal; fill: rgb(41, 134, 187); fill-opacity: 0.3;\">natural scene</text><text text-anchor=\"middle\" transform=\"translate(0,0)\" style=\"font-family: sans-serif; font-size: 0px; fill: rgb(200, 206, 228); fill-opacity: 0.3;\">minimum</text><text text-anchor=\"middle\" transform=\"translate(0,0)\" style=\"font-family: sans-serif; font-size: 0px; fill: rgb(182, 197, 223); fill-opacity: 0.3;\">properties</text><text text-anchor=\"middle\" transform=\"translate(0,0)\" style=\"font-family: sans-serif; font-size: 0px; fill: rgb(219, 218, 235); fill-opacity: 0.3;\">volume</text><text text-anchor=\"middle\" transform=\"translate(0,0)\" style=\"font-family: sans-serif; font-size: 0px; fill: rgb(219, 218, 235); fill-opacity: 0.3;\">specific</text><text text-anchor=\"middle\" transform=\"translate(848,262)\" style=\"font-family: Helvetica Neue, Arial; font-size: 24px; font-style: normal; font-weight: normal; fill: rgb(106, 165, 205); fill-opacity: 0.3;\">level</text><text text-anchor=\"middle\" transform=\"translate(84,142)\" style=\"font-family: Helvetica Neue, Arial; font-size: 12px; font-style: normal; font-weight: normal; fill: rgb(219, 218, 235); fill-opacity: 0.3;\">paper</text><text text-anchor=\"middle\" transform=\"translate(478,160)\" style=\"font-family: Helvetica Neue, Arial; font-size: 28px; font-style: normal; font-weight: normal; fill: rgb(71, 150, 196); fill-opacity: 0.3;\">low</text><text text-anchor=\"middle\" transform=\"translate(843,286)\" style=\"font-family: Helvetica Neue, Arial; font-size: 22px; font-style: normal; font-weight: normal; fill: rgb(128, 174, 210); fill-opacity: 0.3;\">hiv</text><text text-anchor=\"middle\" transform=\"translate(851,149)\" style=\"font-family: Helvetica Neue, Arial; font-size: 22px; font-style: normal; font-weight: normal; fill: rgb(128, 174, 210); fill-opacity: 0.3;\">event</text><text text-anchor=\"middle\" transform=\"translate(0,0)\" style=\"font-family: sans-serif; font-size: 0px; fill: rgb(117, 169, 207); fill-opacity: 0.3;\">tracking</text><text text-anchor=\"middle\" transform=\"translate(0,0)\" style=\"font-family: sans-serif; font-size: 0px; fill: rgb(219, 218, 235); fill-opacity: 0.3;\">ablation</text><text text-anchor=\"middle\" transform=\"translate(0,0)\" style=\"font-family: sans-serif; font-size: 0px; fill: rgb(200, 206, 228); fill-opacity: 0.3;\">spiking</text><text text-anchor=\"middle\" transform=\"translate(0,0)\" style=\"font-family: sans-serif; font-size: 0px; fill: rgb(200, 206, 228); fill-opacity: 0.3;\">excellent</text><text text-anchor=\"middle\" transform=\"translate(0,0)\" style=\"font-family: sans-serif; font-size: 0px; fill: rgb(128, 174, 210); fill-opacity: 0.3;\">shape</text><text text-anchor=\"middle\" transform=\"translate(0,0)\" style=\"font-family: sans-serif; font-size: 0px; fill: rgb(97, 161, 202); fill-opacity: 0.3;\">time projection</text><text text-anchor=\"middle\" transform=\"translate(0,0)\" style=\"font-family: sans-serif; font-size: 0px; fill: rgb(128, 174, 210); fill-opacity: 0.3;\">structural</text><text text-anchor=\"middle\" transform=\"translate(299,191)\" style=\"font-family: Helvetica Neue, Arial; font-size: 56px; font-style: normal; font-weight: normal; fill: rgb(4, 82, 129); fill-opacity: 0.3;\">the</text><text text-anchor=\"middle\" transform=\"translate(0,0)\" style=\"font-family: sans-serif; font-size: 0px; fill: rgb(97, 161, 202); fill-opacity: 0.3;\">these results</text><text text-anchor=\"middle\" transform=\"translate(0,0)\" style=\"font-family: sans-serif; font-size: 0px; fill: rgb(219, 218, 235); fill-opacity: 0.3;\">matrix</text><text text-anchor=\"middle\" transform=\"translate(0,0)\" style=\"font-family: sans-serif; font-size: 0px; fill: rgb(200, 206, 228); fill-opacity: 0.3;\">population</text><text text-anchor=\"middle\" transform=\"translate(0,0)\" style=\"font-family: sans-serif; font-size: 0px; fill: rgb(219, 218, 235); fill-opacity: 0.3;\">hypothesis</text><text text-anchor=\"middle\" transform=\"translate(0,0)\" style=\"font-family: sans-serif; font-size: 0px; fill: rgb(117, 169, 207); fill-opacity: 0.3;\">interaction</text><text text-anchor=\"middle\" transform=\"translate(0,0)\" style=\"font-family: sans-serif; font-size: 0px; fill: rgb(219, 218, 235); fill-opacity: 0.3;\">resulting</text><text text-anchor=\"middle\" transform=\"translate(0,0)\" style=\"font-family: sans-serif; font-size: 0px; fill: rgb(182, 197, 223); fill-opacity: 0.3;\">requires</text><text text-anchor=\"middle\" transform=\"translate(0,0)\" style=\"font-family: sans-serif; font-size: 0px; fill: rgb(41, 134, 187); fill-opacity: 0.3;\">low energy</text><text text-anchor=\"middle\" transform=\"translate(0,0)\" style=\"font-family: sans-serif; font-size: 0px; fill: rgb(97, 161, 202); fill-opacity: 0.3;\">metal carbide</text><text text-anchor=\"middle\" transform=\"translate(0,0)\" style=\"font-family: sans-serif; font-size: 0px; fill: rgb(200, 206, 228); fill-opacity: 0.3;\">lead</text><text text-anchor=\"middle\" transform=\"translate(0,0)\" style=\"font-family: sans-serif; font-size: 0px; fill: rgb(219, 218, 235); fill-opacity: 0.3;\">traditional</text><text text-anchor=\"middle\" transform=\"translate(0,0)\" style=\"font-family: sans-serif; font-size: 0px; fill: rgb(200, 206, 228); fill-opacity: 0.3;\">ratio</text><text text-anchor=\"middle\" transform=\"translate(0,0)\" style=\"font-family: sans-serif; font-size: 0px; fill: rgb(200, 206, 228); fill-opacity: 0.3;\">space</text><text text-anchor=\"middle\" transform=\"translate(0,0)\" style=\"font-family: sans-serif; font-size: 0px; fill: rgb(200, 206, 228); fill-opacity: 0.3;\">expectation</text><text text-anchor=\"middle\" transform=\"translate(0,0)\" style=\"font-family: sans-serif; font-size: 0px; fill: rgb(219, 218, 235); fill-opacity: 0.3;\">binding</text><text text-anchor=\"middle\" transform=\"translate(0,0)\" style=\"font-family: sans-serif; font-size: 0px; fill: rgb(219, 218, 235); fill-opacity: 0.3;\">scaling</text><text text-anchor=\"middle\" transform=\"translate(0,0)\" style=\"font-family: sans-serif; font-size: 0px; fill: rgb(200, 206, 228); fill-opacity: 0.3;\">combined</text><text text-anchor=\"middle\" transform=\"translate(0,0)\" style=\"font-family: sans-serif; font-size: 0px; fill: rgb(166, 190, 220); fill-opacity: 0.3;\">denity</text><text text-anchor=\"middle\" transform=\"translate(664,214)\" style=\"font-family: Helvetica Neue, Arial; font-size: 19px; font-style: normal; font-weight: normal; fill: rgb(152, 184, 216); fill-opacity: 0.3;\">due</text><text text-anchor=\"middle\" transform=\"translate(0,0)\" style=\"font-family: sans-serif; font-size: 0px; fill: rgb(219, 218, 235); fill-opacity: 0.3;\">science</text><text text-anchor=\"middle\" transform=\"translate(0,0)\" style=\"font-family: sans-serif; font-size: 0px; fill: rgb(166, 190, 220); fill-opacity: 0.3;\">movement</text><text text-anchor=\"middle\" transform=\"translate(0,0)\" style=\"font-family: sans-serif; font-size: 0px; fill: rgb(182, 197, 223); fill-opacity: 0.3;\">dual</text><text text-anchor=\"middle\" transform=\"translate(0,0)\" style=\"font-family: sans-serif; font-size: 0px; fill: rgb(200, 206, 228); fill-opacity: 0.3;\">previous</text><text text-anchor=\"middle\" transform=\"translate(316,92)\" style=\"font-family: Helvetica Neue, Arial; font-size: 51px; font-style: normal; font-weight: normal; fill: rgb(5, 91, 143); fill-opacity: 0.3;\">large underground xenon</text><text text-anchor=\"middle\" transform=\"translate(0,0)\" style=\"font-family: sans-serif; font-size: 0px; fill: rgb(64, 147, 194); fill-opacity: 0.3;\">we employ</text><text text-anchor=\"middle\" transform=\"translate(110,17)\" style=\"font-family: Helvetica Neue, Arial; font-size: 20px; font-style: normal; font-weight: normal; fill: rgb(139, 178, 213); fill-opacity: 0.3;\">field</text><text text-anchor=\"middle\" transform=\"translate(481,182)\" style=\"font-family: Helvetica Neue, Arial; font-size: 26px; font-style: normal; font-weight: normal; fill: rgb(87, 157, 200); fill-opacity: 0.3;\">sea</text><text text-anchor=\"middle\" transform=\"translate(266,137)\" style=\"font-family: Helvetica Neue, Arial; font-size: 53px; font-style: normal; font-weight: normal; fill: rgb(4, 87, 137); fill-opacity: 0.3;\">dark matter</text><text text-anchor=\"middle\" transform=\"translate(0,0)\" style=\"font-family: sans-serif; font-size: 0px; fill: rgb(97, 161, 202); fill-opacity: 0.3;\">projection chamber</text><text text-anchor=\"middle\" transform=\"translate(0,0)\" style=\"font-family: sans-serif; font-size: 0px; fill: rgb(219, 218, 235); fill-opacity: 0.3;\">integration</text><text text-anchor=\"middle\" transform=\"translate(0,0)\" style=\"font-family: sans-serif; font-size: 0px; fill: rgb(200, 206, 228); fill-opacity: 0.3;\">cortical</text><text text-anchor=\"middle\" transform=\"translate(0,0)\" style=\"font-family: sans-serif; font-size: 0px; fill: rgb(97, 161, 202); fill-opacity: 0.3;\">provide</text><text text-anchor=\"middle\" transform=\"translate(287,312)\" style=\"font-family: Helvetica Neue, Arial; font-size: 39px; font-style: normal; font-weight: normal; fill: rgb(18, 117, 175); fill-opacity: 0.3;\">time projection chamber</text><text text-anchor=\"middle\" transform=\"translate(0,0)\" style=\"font-family: sans-serif; font-size: 0px; fill: rgb(219, 218, 235); fill-opacity: 0.3;\">produce</text><text text-anchor=\"middle\" transform=\"translate(0,0)\" style=\"font-family: sans-serif; font-size: 0px; fill: rgb(219, 218, 235); fill-opacity: 0.3;\">signature</text><text text-anchor=\"middle\" transform=\"translate(0,0)\" style=\"font-family: sans-serif; font-size: 0px; fill: rgb(79, 154, 198); fill-opacity: 0.3;\">analysis</text><text text-anchor=\"middle\" transform=\"translate(397,184)\" style=\"font-family: Helvetica Neue, Arial; font-size: 40px; font-style: normal; font-weight: normal; fill: rgb(13, 113, 172); fill-opacity: 0.3;\">system</text><text text-anchor=\"middle\" transform=\"translate(0,0)\" style=\"font-family: sans-serif; font-size: 0px; fill: rgb(182, 197, 223); fill-opacity: 0.3;\">suggest</text><text text-anchor=\"middle\" transform=\"translate(596,63)\" style=\"font-family: Helvetica Neue, Arial; font-size: 33px; font-style: normal; font-weight: normal; fill: rgb(41, 134, 187); fill-opacity: 0.3;\">in</text><text text-anchor=\"middle\" transform=\"translate(0,0)\" style=\"font-family: sans-serif; font-size: 0px; fill: rgb(219, 218, 235); fill-opacity: 0.3;\">derived</text><text text-anchor=\"middle\" transform=\"translate(849,202)\" style=\"font-family: Helvetica Neue, Arial; font-size: 26px; font-style: normal; font-weight: normal; fill: rgb(87, 157, 200); fill-opacity: 0.3;\">liquid</text><text text-anchor=\"middle\" transform=\"translate(0,0)\" style=\"font-family: sans-serif; font-size: 0px; fill: rgb(219, 218, 235); fill-opacity: 0.3;\">exhibit</text><text text-anchor=\"middle\" transform=\"translate(0,0)\" style=\"font-family: sans-serif; font-size: 0px; fill: rgb(64, 147, 194); fill-opacity: 0.3;\">weakly interacting</text><text text-anchor=\"middle\" transform=\"translate(357,157)\" style=\"font-family: Helvetica Neue, Arial; font-size: 20px; font-style: normal; font-weight: normal; fill: rgb(139, 178, 213); fill-opacity: 0.3;\">visual</text><text text-anchor=\"middle\" transform=\"translate(0,0)\" style=\"font-family: sans-serif; font-size: 0px; fill: rgb(219, 218, 235); fill-opacity: 0.3;\">studying</text><text text-anchor=\"middle\" transform=\"translate(0,0)\" style=\"font-family: sans-serif; font-size: 0px; fill: rgb(219, 218, 235); fill-opacity: 0.3;\">quantify</text><text text-anchor=\"middle\" transform=\"translate(0,0)\" style=\"font-family: sans-serif; font-size: 0px; fill: rgb(200, 206, 228); fill-opacity: 0.3;\">rapid</text><text text-anchor=\"middle\" transform=\"translate(34,239)\" style=\"font-family: Helvetica Neue, Arial; font-size: 20px; font-style: normal; font-weight: normal; fill: rgb(139, 178, 213); fill-opacity: 0.3;\">body</text><text text-anchor=\"middle\" transform=\"translate(462,240)\" style=\"font-family: Helvetica Neue, Arial; font-size: 26px; font-style: normal; font-weight: normal; fill: rgb(87, 157, 200); fill-opacity: 0.3;\">error</text><text text-anchor=\"middle\" transform=\"translate(0,0)\" style=\"font-family: sans-serif; font-size: 0px; fill: rgb(200, 206, 228); fill-opacity: 0.3;\">produced</text><text text-anchor=\"middle\" transform=\"translate(0,0)\" style=\"font-family: sans-serif; font-size: 0px; fill: rgb(152, 184, 216); fill-opacity: 0.3;\">source</text><text text-anchor=\"middle\" transform=\"translate(0,0)\" style=\"font-family: sans-serif; font-size: 0px; fill: rgb(219, 218, 235); fill-opacity: 0.3;\">offers</text><text text-anchor=\"middle\" transform=\"translate(0,0)\" style=\"font-family: sans-serif; font-size: 0px; fill: rgb(219, 218, 235); fill-opacity: 0.3;\">early</text><text text-anchor=\"middle\" transform=\"translate(0,0)\" style=\"font-family: sans-serif; font-size: 0px; fill: rgb(152, 184, 216); fill-opacity: 0.3;\">families</text><text text-anchor=\"middle\" transform=\"translate(0,0)\" style=\"font-family: sans-serif; font-size: 0px; fill: rgb(200, 206, 228); fill-opacity: 0.3;\">pressure</text><text text-anchor=\"middle\" transform=\"translate(0,0)\" style=\"font-family: sans-serif; font-size: 0px; fill: rgb(200, 206, 228); fill-opacity: 0.3;\">differential</text><text text-anchor=\"middle\" transform=\"translate(0,0)\" style=\"font-family: sans-serif; font-size: 0px; fill: rgb(97, 161, 202); fill-opacity: 0.3;\">xenon lux</text><text text-anchor=\"middle\" transform=\"translate(0,0)\" style=\"font-family: sans-serif; font-size: 0px; fill: rgb(182, 197, 223); fill-opacity: 0.3;\">environment</text><text text-anchor=\"middle\" transform=\"translate(0,0)\" style=\"font-family: sans-serif; font-size: 0px; fill: rgb(64, 147, 194); fill-opacity: 0.3;\">real time</text><text text-anchor=\"middle\" transform=\"translate(0,0)\" style=\"font-family: sans-serif; font-size: 0px; fill: rgb(182, 197, 223); fill-opacity: 0.3;\">signal</text><text text-anchor=\"middle\" transform=\"translate(0,0)\" style=\"font-family: sans-serif; font-size: 0px; fill: rgb(166, 190, 220); fill-opacity: 0.3;\">performed</text><text text-anchor=\"middle\" transform=\"translate(0,0)\" style=\"font-family: sans-serif; font-size: 0px; fill: rgb(128, 174, 210); fill-opacity: 0.3;\">genome</text><text text-anchor=\"middle\" transform=\"translate(0,0)\" style=\"font-family: sans-serif; font-size: 0px; fill: rgb(200, 206, 228); fill-opacity: 0.3;\">however</text><text text-anchor=\"middle\" transform=\"translate(0,0)\" style=\"font-family: sans-serif; font-size: 0px; fill: rgb(182, 197, 223); fill-opacity: 0.3;\">outcome</text><text text-anchor=\"middle\" transform=\"translate(146,185)\" style=\"font-family: Helvetica Neue, Arial; font-size: 22px; font-style: normal; font-weight: normal; fill: rgb(128, 174, 210); fill-opacity: 0.3;\">mm</text><text text-anchor=\"middle\" transform=\"translate(760,331)\" style=\"font-family: Helvetica Neue, Arial; font-size: 19px; font-style: normal; font-weight: normal; fill: rgb(152, 184, 216); fill-opacity: 0.3;\">abstract</text><text text-anchor=\"middle\" transform=\"translate(0,0)\" style=\"font-family: sans-serif; font-size: 0px; fill: rgb(219, 218, 235); fill-opacity: 0.3;\">directly</text><text text-anchor=\"middle\" transform=\"translate(0,0)\" style=\"font-family: sans-serif; font-size: 0px; fill: rgb(219, 218, 235); fill-opacity: 0.3;\">patient</text><text text-anchor=\"middle\" transform=\"translate(339,215)\" style=\"font-family: Helvetica Neue, Arial; font-size: 33px; font-style: normal; font-weight: normal; fill: rgb(41, 134, 187); fill-opacity: 0.3;\">xenon</text><text text-anchor=\"middle\" transform=\"translate(0,0)\" style=\"font-family: sans-serif; font-size: 0px; fill: rgb(182, 197, 223); fill-opacity: 0.3;\">massive</text><text text-anchor=\"middle\" transform=\"translate(393,151)\" style=\"font-family: Helvetica Neue, Arial; font-size: 15px; font-style: normal; font-weight: normal; fill: rgb(182, 197, 223); fill-opacity: 0.3;\">v</text><text text-anchor=\"middle\" transform=\"translate(0,0)\" style=\"font-family: sans-serif; font-size: 0px; fill: rgb(182, 197, 223); fill-opacity: 0.3;\">inight</text><text text-anchor=\"middle\" transform=\"translate(0,0)\" style=\"font-family: sans-serif; font-size: 0px; fill: rgb(219, 218, 235); fill-opacity: 0.3;\">projection</text><text text-anchor=\"middle\" transform=\"translate(602,25)\" style=\"font-family: Helvetica Neue, Arial; font-size: 26px; font-style: normal; font-weight: normal; fill: rgb(87, 157, 200); fill-opacity: 0.3;\">lux</text><text text-anchor=\"middle\" transform=\"translate(0,0)\" style=\"font-family: sans-serif; font-size: 0px; fill: rgb(87, 157, 200); fill-opacity: 0.3;\">functional</text><text text-anchor=\"middle\" transform=\"translate(226,11)\" style=\"font-family: Helvetica Neue, Arial; font-size: 14px; font-style: normal; font-weight: normal; fill: rgb(200, 206, 228); fill-opacity: 0.3;\">numerous</text><text text-anchor=\"middle\" transform=\"translate(29,196)\" style=\"font-family: Helvetica Neue, Arial; font-size: 14px; font-style: normal; font-weight: normal; fill: rgb(200, 206, 228); fill-opacity: 0.3;\">fast</text><text text-anchor=\"middle\" transform=\"translate(0,0)\" style=\"font-family: sans-serif; font-size: 0px; fill: rgb(182, 197, 223); fill-opacity: 0.3;\">diffusion</text><text text-anchor=\"middle\" transform=\"translate(0,0)\" style=\"font-family: sans-serif; font-size: 0px; fill: rgb(200, 206, 228); fill-opacity: 0.3;\">loss</text><text text-anchor=\"middle\" transform=\"translate(0,0)\" style=\"font-family: sans-serif; font-size: 0px; fill: rgb(182, 197, 223); fill-opacity: 0.3;\">freedom</text><text text-anchor=\"middle\" transform=\"translate(0,0)\" style=\"font-family: sans-serif; font-size: 0px; fill: rgb(200, 206, 228); fill-opacity: 0.3;\">expression</text><text text-anchor=\"middle\" transform=\"translate(0,0)\" style=\"font-family: sans-serif; font-size: 0px; fill: rgb(219, 218, 235); fill-opacity: 0.3;\">interpretation</text><text text-anchor=\"middle\" transform=\"translate(604,214)\" style=\"font-family: Helvetica Neue, Arial; font-size: 35px; font-style: normal; font-weight: normal; fill: rgb(32, 128, 184); fill-opacity: 0.3;\">time</text><text text-anchor=\"middle\" transform=\"translate(0,0)\" style=\"font-family: sans-serif; font-size: 0px; fill: rgb(106, 165, 205); fill-opacity: 0.3;\">calculation</text><text text-anchor=\"middle\" transform=\"translate(0,0)\" style=\"font-family: sans-serif; font-size: 0px; fill: rgb(97, 161, 202); fill-opacity: 0.3;\">fluctuation</text><text text-anchor=\"middle\" transform=\"translate(0,0)\" style=\"font-family: sans-serif; font-size: 0px; fill: rgb(166, 190, 220); fill-opacity: 0.3;\">decoding</text><text text-anchor=\"middle\" transform=\"translate(0,0)\" style=\"font-family: sans-serif; font-size: 0px; fill: rgb(106, 165, 205); fill-opacity: 0.3;\">network</text><text text-anchor=\"middle\" transform=\"translate(73,108)\" style=\"font-family: Helvetica Neue, Arial; font-size: 15px; font-style: normal; font-weight: normal; fill: rgb(182, 197, 223); fill-opacity: 0.3;\">text</text><text text-anchor=\"middle\" transform=\"translate(346,331)\" style=\"font-family: Helvetica Neue, Arial; font-size: 20px; font-style: normal; font-weight: normal; fill: rgb(139, 178, 213); fill-opacity: 0.3;\">boundary</text><text text-anchor=\"middle\" transform=\"translate(0,0)\" style=\"font-family: sans-serif; font-size: 0px; fill: rgb(219, 218, 235); fill-opacity: 0.3;\">increased</text><text text-anchor=\"middle\" transform=\"translate(0,0)\" style=\"font-family: sans-serif; font-size: 0px; fill: rgb(219, 218, 235); fill-opacity: 0.3;\">independent</text><text text-anchor=\"middle\" transform=\"translate(0,0)\" style=\"font-family: sans-serif; font-size: 0px; fill: rgb(200, 206, 228); fill-opacity: 0.3;\">enemble</text><text text-anchor=\"middle\" transform=\"translate(371,12)\" style=\"font-family: Helvetica Neue, Arial; font-size: 12px; font-style: normal; font-weight: normal; fill: rgb(219, 218, 235); fill-opacity: 0.3;\">first</text><text text-anchor=\"middle\" transform=\"translate(0,0)\" style=\"font-family: sans-serif; font-size: 0px; fill: rgb(97, 161, 202); fill-opacity: 0.3;\">data management</text><text text-anchor=\"middle\" transform=\"translate(0,0)\" style=\"font-family: sans-serif; font-size: 0px; fill: rgb(41, 134, 187); fill-opacity: 0.3;\">degree freedom</text><text text-anchor=\"middle\" transform=\"translate(0,0)\" style=\"font-family: sans-serif; font-size: 0px; fill: rgb(152, 184, 216); fill-opacity: 0.3;\">variety</text><text text-anchor=\"middle\" transform=\"translate(0,0)\" style=\"font-family: sans-serif; font-size: 0px; fill: rgb(200, 206, 228); fill-opacity: 0.3;\">complexity</text><text text-anchor=\"middle\" transform=\"translate(0,0)\" style=\"font-family: sans-serif; font-size: 0px; fill: rgb(64, 147, 194); fill-opacity: 0.3;\">functional theory</text><text text-anchor=\"middle\" transform=\"translate(314,18)\" style=\"font-family: Helvetica Neue, Arial; font-size: 20px; font-style: normal; font-weight: normal; fill: rgb(139, 178, 213); fill-opacity: 0.3;\">feature</text><text text-anchor=\"middle\" transform=\"translate(0,0)\" style=\"font-family: sans-serif; font-size: 0px; fill: rgb(219, 218, 235); fill-opacity: 0.3;\">ability</text><text text-anchor=\"middle\" transform=\"translate(0,0)\" style=\"font-family: sans-serif; font-size: 0px; fill: rgb(219, 218, 235); fill-opacity: 0.3;\">increasing</text><text text-anchor=\"middle\" transform=\"translate(450,331)\" style=\"font-family: Helvetica Neue, Arial; font-size: 20px; font-style: normal; font-weight: normal; fill: rgb(139, 178, 213); fill-opacity: 0.3;\">presence</text><text text-anchor=\"middle\" transform=\"translate(195,169)\" style=\"font-family: Helvetica Neue, Arial; font-size: 36px; font-style: normal; font-weight: normal; fill: rgb(28, 126, 182); fill-opacity: 0.3;\">data</text><text text-anchor=\"middle\" transform=\"translate(0,0)\" style=\"font-family: sans-serif; font-size: 0px; fill: rgb(219, 218, 235); fill-opacity: 0.3;\">target</text><text text-anchor=\"middle\" transform=\"translate(0,0)\" style=\"font-family: sans-serif; font-size: 0px; fill: rgb(182, 197, 223); fill-opacity: 0.3;\">standard</text><text text-anchor=\"middle\" transform=\"translate(667,129)\" style=\"font-family: Helvetica Neue, Arial; font-size: 23px; font-style: normal; font-weight: normal; fill: rgb(117, 169, 207); fill-opacity: 0.3;\">d</text><text text-anchor=\"middle\" transform=\"translate(0,0)\" style=\"font-family: sans-serif; font-size: 0px; fill: rgb(182, 197, 223); fill-opacity: 0.3;\">theory</text><text text-anchor=\"middle\" transform=\"translate(0,0)\" style=\"font-family: sans-serif; font-size: 0px; fill: rgb(219, 218, 235); fill-opacity: 0.3;\">tranient</text><text text-anchor=\"middle\" transform=\"translate(572,180)\" style=\"font-family: Helvetica Neue, Arial; font-size: 15px; font-style: normal; font-weight: normal; fill: rgb(182, 197, 223); fill-opacity: 0.3;\">co</text><text text-anchor=\"middle\" transform=\"translate(0,0)\" style=\"font-family: sans-serif; font-size: 0px; fill: rgb(128, 174, 210); fill-opacity: 0.3;\">tranition</text><text text-anchor=\"middle\" transform=\"translate(0,0)\" style=\"font-family: sans-serif; font-size: 0px; fill: rgb(182, 197, 223); fill-opacity: 0.3;\">focal</text><text text-anchor=\"middle\" transform=\"translate(0,0)\" style=\"font-family: sans-serif; font-size: 0px; fill: rgb(219, 218, 235); fill-opacity: 0.3;\">distortion</text><text text-anchor=\"middle\" transform=\"translate(0,0)\" style=\"font-family: sans-serif; font-size: 0px; fill: rgb(152, 184, 216); fill-opacity: 0.3;\">detector</text><text text-anchor=\"middle\" transform=\"translate(0,0)\" style=\"font-family: sans-serif; font-size: 0px; fill: rgb(97, 161, 202); fill-opacity: 0.3;\">scaling relation</text><text text-anchor=\"middle\" transform=\"translate(0,0)\" style=\"font-family: sans-serif; font-size: 0px; fill: rgb(79, 154, 198); fill-opacity: 0.3;\">xromm</text><text text-anchor=\"middle\" transform=\"translate(0,0)\" style=\"font-family: sans-serif; font-size: 0px; fill: rgb(219, 218, 235); fill-opacity: 0.3;\">deviation</text><text text-anchor=\"middle\" transform=\"translate(0,0)\" style=\"font-family: sans-serif; font-size: 0px; fill: rgb(182, 197, 223); fill-opacity: 0.3;\">related</text><text text-anchor=\"middle\" transform=\"translate(0,0)\" style=\"font-family: sans-serif; font-size: 0px; fill: rgb(219, 218, 235); fill-opacity: 0.3;\">atomistic</text><text text-anchor=\"middle\" transform=\"translate(0,0)\" style=\"font-family: sans-serif; font-size: 0px; fill: rgb(219, 218, 235); fill-opacity: 0.3;\">strong</text><text text-anchor=\"middle\" transform=\"translate(544,181)\" style=\"font-family: Helvetica Neue, Arial; font-size: 12px; font-style: normal; font-weight: normal; fill: rgb(219, 218, 235); fill-opacity: 0.3;\">run</text><text text-anchor=\"middle\" transform=\"translate(777,133)\" style=\"font-family: Helvetica Neue, Arial; font-size: 33px; font-style: normal; font-weight: normal; fill: rgb(41, 134, 187); fill-opacity: 0.3;\">we report</text><text text-anchor=\"middle\" transform=\"translate(516,334)\" style=\"font-family: Helvetica Neue, Arial; font-size: 17px; font-style: normal; font-weight: normal; fill: rgb(166, 190, 220); fill-opacity: 0.3;\">report</text><text text-anchor=\"middle\" transform=\"translate(0,0)\" style=\"font-family: sans-serif; font-size: 0px; fill: rgb(7, 102, 159); fill-opacity: 0.3;\">denity functional theory</text><text text-anchor=\"middle\" transform=\"translate(0,0)\" style=\"font-family: sans-serif; font-size: 0px; fill: rgb(200, 206, 228); fill-opacity: 0.3;\">pattern</text><text text-anchor=\"middle\" transform=\"translate(0,0)\" style=\"font-family: sans-serif; font-size: 0px; fill: rgb(18, 117, 175); fill-opacity: 0.3;\">dark matter experiment</text><text text-anchor=\"middle\" transform=\"translate(0,0)\" style=\"font-family: sans-serif; font-size: 0px; fill: rgb(182, 197, 223); fill-opacity: 0.3;\">motor</text><text text-anchor=\"middle\" transform=\"translate(0,0)\" style=\"font-family: sans-serif; font-size: 0px; fill: rgb(166, 190, 220); fill-opacity: 0.3;\">relationhip</text><text text-anchor=\"middle\" transform=\"translate(0,0)\" style=\"font-family: sans-serif; font-size: 0px; fill: rgb(219, 218, 235); fill-opacity: 0.3;\">illustrate</text><text text-anchor=\"middle\" transform=\"translate(0,0)\" style=\"font-family: sans-serif; font-size: 0px; fill: rgb(106, 165, 205); fill-opacity: 0.3;\">evolution</text><text text-anchor=\"middle\" transform=\"translate(0,0)\" style=\"font-family: sans-serif; font-size: 0px; fill: rgb(182, 197, 223); fill-opacity: 0.3;\">finding</text><text text-anchor=\"middle\" transform=\"translate(607,38)\" style=\"font-family: Helvetica Neue, Arial; font-size: 14px; font-style: normal; font-weight: normal; fill: rgb(200, 206, 228); fill-opacity: 0.3;\">our</text><text text-anchor=\"middle\" transform=\"translate(0,0)\" style=\"font-family: sans-serif; font-size: 0px; fill: rgb(166, 190, 220); fill-opacity: 0.3;\">framework</text><text text-anchor=\"middle\" transform=\"translate(0,0)\" style=\"font-family: sans-serif; font-size: 0px; fill: rgb(97, 161, 202); fill-opacity: 0.3;\">bone motion</text><text text-anchor=\"middle\" transform=\"translate(0,0)\" style=\"font-family: sans-serif; font-size: 0px; fill: rgb(139, 178, 213); fill-opacity: 0.3;\">technique</text><text text-anchor=\"middle\" transform=\"translate(669,199)\" style=\"font-family: Helvetica Neue, Arial; font-size: 49px; font-style: normal; font-weight: normal; fill: rgb(5, 94, 148); fill-opacity: 0.3;\">we</text><text text-anchor=\"middle\" transform=\"translate(0,0)\" style=\"font-family: sans-serif; font-size: 0px; fill: rgb(200, 206, 228); fill-opacity: 0.3;\">identification</text><text text-anchor=\"middle\" transform=\"translate(0,0)\" style=\"font-family: sans-serif; font-size: 0px; fill: rgb(182, 197, 223); fill-opacity: 0.3;\">reduced</text><text text-anchor=\"middle\" transform=\"translate(0,0)\" style=\"font-family: sans-serif; font-size: 0px; fill: rgb(219, 218, 235); fill-opacity: 0.3;\">angle</text><text text-anchor=\"middle\" transform=\"translate(0,0)\" style=\"font-family: sans-serif; font-size: 0px; fill: rgb(97, 161, 202); fill-opacity: 0.3;\">electric field</text><text text-anchor=\"middle\" transform=\"translate(0,0)\" style=\"font-family: sans-serif; font-size: 0px; fill: rgb(152, 184, 216); fill-opacity: 0.3;\">neuron</text><text text-anchor=\"middle\" transform=\"translate(0,0)\" style=\"font-family: sans-serif; font-size: 0px; fill: rgb(219, 218, 235); fill-opacity: 0.3;\">describe</text><text text-anchor=\"middle\" transform=\"translate(0,0)\" style=\"font-family: sans-serif; font-size: 0px; fill: rgb(64, 147, 194); fill-opacity: 0.3;\">phase</text><text text-anchor=\"middle\" transform=\"translate(663,167)\" style=\"font-family: Helvetica Neue, Arial; font-size: 39px; font-style: normal; font-weight: normal; fill: rgb(18, 117, 175); fill-opacity: 0.3;\">human focal seizure</text><text text-anchor=\"middle\" transform=\"translate(0,0)\" style=\"font-family: sans-serif; font-size: 0px; fill: rgb(182, 197, 223); fill-opacity: 0.3;\">natural</text><text text-anchor=\"middle\" transform=\"translate(0,0)\" style=\"font-family: sans-serif; font-size: 0px; fill: rgb(219, 218, 235); fill-opacity: 0.3;\">differences</text><text text-anchor=\"middle\" transform=\"translate(405,209)\" style=\"font-family: Helvetica Neue, Arial; font-size: 25px; font-style: normal; font-weight: normal; fill: rgb(97, 161, 202); fill-opacity: 0.3;\">dark</text><text text-anchor=\"middle\" transform=\"translate(0,0)\" style=\"font-family: sans-serif; font-size: 0px; fill: rgb(152, 184, 216); fill-opacity: 0.3;\">development</text><text text-anchor=\"middle\" transform=\"translate(0,0)\" style=\"font-family: sans-serif; font-size: 0px; fill: rgb(200, 206, 228); fill-opacity: 0.3;\">mediation</text><text text-anchor=\"middle\" transform=\"translate(0,0)\" style=\"font-family: sans-serif; font-size: 0px; fill: rgb(79, 154, 198); fill-opacity: 0.3;\">respone</text><text text-anchor=\"middle\" transform=\"translate(520,133)\" style=\"font-family: Helvetica Neue, Arial; font-size: 50px; font-style: normal; font-weight: normal; fill: rgb(5, 92, 145); fill-opacity: 0.3;\">liquid xenon</text><text text-anchor=\"middle\" transform=\"translate(0,0)\" style=\"font-family: sans-serif; font-size: 0px; fill: rgb(152, 184, 216); fill-opacity: 0.3;\">research</text><text text-anchor=\"middle\" transform=\"translate(0,0)\" style=\"font-family: sans-serif; font-size: 0px; fill: rgb(219, 218, 235); fill-opacity: 0.3;\">suitable</text><text text-anchor=\"middle\" transform=\"translate(0,0)\" style=\"font-family: sans-serif; font-size: 0px; fill: rgb(219, 218, 235); fill-opacity: 0.3;\">spatial</text><text text-anchor=\"middle\" transform=\"translate(0,0)\" style=\"font-family: sans-serif; font-size: 0px; fill: rgb(182, 197, 223); fill-opacity: 0.3;\">direct</text><text text-anchor=\"middle\" transform=\"translate(0,0)\" style=\"font-family: sans-serif; font-size: 0px; fill: rgb(166, 190, 220); fill-opacity: 0.3;\">enable</text><text text-anchor=\"middle\" transform=\"translate(0,0)\" style=\"font-family: sans-serif; font-size: 0px; fill: rgb(182, 197, 223); fill-opacity: 0.3;\">memory</text><text text-anchor=\"middle\" transform=\"translate(0,0)\" style=\"font-family: sans-serif; font-size: 0px; fill: rgb(219, 218, 235); fill-opacity: 0.3;\">overall</text><text text-anchor=\"middle\" transform=\"translate(818,110)\" style=\"font-family: Helvetica Neue, Arial; font-size: 12px; font-style: normal; font-weight: normal; fill: rgb(219, 218, 235); fill-opacity: 0.3;\">virus</text><text text-anchor=\"middle\" transform=\"translate(0,0)\" style=\"font-family: sans-serif; font-size: 0px; fill: rgb(182, 197, 223); fill-opacity: 0.3;\">test</text><text text-anchor=\"middle\" transform=\"translate(0,0)\" style=\"font-family: sans-serif; font-size: 0px; fill: rgb(97, 161, 202); fill-opacity: 0.3;\">free energy</text><text text-anchor=\"middle\" transform=\"translate(0,0)\" style=\"font-family: sans-serif; font-size: 0px; fill: rgb(182, 197, 223); fill-opacity: 0.3;\">interacting</text><text text-anchor=\"middle\" transform=\"translate(0,0)\" style=\"font-family: sans-serif; font-size: 0px; fill: rgb(200, 206, 228); fill-opacity: 0.3;\">include</text><text text-anchor=\"middle\" transform=\"translate(0,0)\" style=\"font-family: sans-serif; font-size: 0px; fill: rgb(200, 206, 228); fill-opacity: 0.3;\">deposit</text><text text-anchor=\"middle\" transform=\"translate(0,0)\" style=\"font-family: sans-serif; font-size: 0px; fill: rgb(41, 134, 187); fill-opacity: 0.3;\">reinforcement learning</text><text text-anchor=\"middle\" transform=\"translate(0,0)\" style=\"font-family: sans-serif; font-size: 0px; fill: rgb(219, 218, 235); fill-opacity: 0.3;\">compare</text><text text-anchor=\"middle\" transform=\"translate(0,0)\" style=\"font-family: sans-serif; font-size: 0px; fill: rgb(182, 197, 223); fill-opacity: 0.3;\">input</text><text text-anchor=\"middle\" transform=\"translate(0,0)\" style=\"font-family: sans-serif; font-size: 0px; fill: rgb(200, 206, 228); fill-opacity: 0.3;\">clustering</text><text text-anchor=\"middle\" transform=\"translate(0,0)\" style=\"font-family: sans-serif; font-size: 0px; fill: rgb(166, 190, 220); fill-opacity: 0.3;\">approach</text><text text-anchor=\"middle\" transform=\"translate(0,0)\" style=\"font-family: sans-serif; font-size: 0px; fill: rgb(64, 147, 194); fill-opacity: 0.3;\">human focal</text><text text-anchor=\"middle\" transform=\"translate(0,0)\" style=\"font-family: sans-serif; font-size: 0px; fill: rgb(200, 206, 228); fill-opacity: 0.3;\">respectively</text><text text-anchor=\"middle\" transform=\"translate(276,208)\" style=\"font-family: Helvetica Neue, Arial; font-size: 17px; font-style: normal; font-weight: normal; fill: rgb(166, 190, 220); fill-opacity: 0.3;\">cell</text><text text-anchor=\"middle\" transform=\"translate(0,0)\" style=\"font-family: sans-serif; font-size: 0px; fill: rgb(166, 190, 220); fill-opacity: 0.3;\">rotation</text><text text-anchor=\"middle\" transform=\"translate(0,0)\" style=\"font-family: sans-serif; font-size: 0px; fill: rgb(200, 206, 228); fill-opacity: 0.3;\">video</text><text text-anchor=\"middle\" transform=\"translate(34,74)\" style=\"font-family: Helvetica Neue, Arial; font-size: 17px; font-style: normal; font-weight: normal; fill: rgb(166, 190, 220); fill-opacity: 0.3;\">here</text><text text-anchor=\"middle\" transform=\"translate(578,279)\" style=\"font-family: Helvetica Neue, Arial; font-size: 45px; font-style: normal; font-weight: normal; fill: rgb(7, 102, 159); fill-opacity: 0.3;\">interacting massive particle</text><text text-anchor=\"middle\" transform=\"translate(512,315)\" style=\"font-family: Helvetica Neue, Arial; font-size: 32px; font-style: normal; font-weight: normal; fill: rgb(46, 137, 188); fill-opacity: 0.3;\">recoil</text><text text-anchor=\"middle\" transform=\"translate(852,331)\" style=\"font-family: Helvetica Neue, Arial; font-size: 20px; font-style: normal; font-weight: normal; fill: rgb(139, 178, 213); fill-opacity: 0.3;\">studies</text><text text-anchor=\"middle\" transform=\"translate(0,0)\" style=\"font-family: sans-serif; font-size: 0px; fill: rgb(219, 218, 235); fill-opacity: 0.3;\">selectivity</text><text text-anchor=\"middle\" transform=\"translate(724,39)\" style=\"font-family: Helvetica Neue, Arial; font-size: 14px; font-style: normal; font-weight: normal; fill: rgb(200, 206, 228); fill-opacity: 0.3;\">cm</text><text text-anchor=\"middle\" transform=\"translate(125,331)\" style=\"font-family: Helvetica Neue, Arial; font-size: 20px; font-style: normal; font-weight: normal; fill: rgb(139, 178, 213); fill-opacity: 0.3;\">local</text><text text-anchor=\"middle\" transform=\"translate(340,49)\" style=\"font-family: Helvetica Neue, Arial; font-size: 45px; font-style: normal; font-weight: normal; fill: rgb(7, 102, 159); fill-opacity: 0.3;\">weakly interacting massive</text><text text-anchor=\"middle\" transform=\"translate(0,0)\" style=\"font-family: sans-serif; font-size: 0px; fill: rgb(200, 206, 228); fill-opacity: 0.3;\">latent</text><text text-anchor=\"middle\" transform=\"translate(0,0)\" style=\"font-family: sans-serif; font-size: 0px; fill: rgb(219, 218, 235); fill-opacity: 0.3;\">tranport</text><text text-anchor=\"middle\" transform=\"translate(0,0)\" style=\"font-family: sans-serif; font-size: 0px; fill: rgb(128, 174, 210); fill-opacity: 0.3;\">phylogenetic</text><text text-anchor=\"middle\" transform=\"translate(0,0)\" style=\"font-family: sans-serif; font-size: 0px; fill: rgb(64, 147, 194); fill-opacity: 0.3;\">motor cortex</text><text text-anchor=\"middle\" transform=\"translate(0,0)\" style=\"font-family: sans-serif; font-size: 0px; fill: rgb(106, 165, 205); fill-opacity: 0.3;\">understanding</text><text text-anchor=\"middle\" transform=\"translate(0,0)\" style=\"font-family: sans-serif; font-size: 0px; fill: rgb(128, 174, 210); fill-opacity: 0.3;\">metal</text><text text-anchor=\"middle\" transform=\"translate(0,0)\" style=\"font-family: sans-serif; font-size: 0px; fill: rgb(200, 206, 228); fill-opacity: 0.3;\">control</text><text text-anchor=\"middle\" transform=\"translate(0,0)\" style=\"font-family: sans-serif; font-size: 0px; fill: rgb(219, 218, 235); fill-opacity: 0.3;\">identify</text><text text-anchor=\"middle\" transform=\"translate(0,0)\" style=\"font-family: sans-serif; font-size: 0px; fill: rgb(200, 206, 228); fill-opacity: 0.3;\">spatiotemporal</text><text text-anchor=\"middle\" transform=\"translate(0,0)\" style=\"font-family: sans-serif; font-size: 0px; fill: rgb(128, 174, 210); fill-opacity: 0.3;\">experiment</text><text text-anchor=\"middle\" transform=\"translate(0,0)\" style=\"font-family: sans-serif; font-size: 0px; fill: rgb(200, 206, 228); fill-opacity: 0.3;\">power</text><text text-anchor=\"middle\" transform=\"translate(0,0)\" style=\"font-family: sans-serif; font-size: 0px; fill: rgb(64, 147, 194); fill-opacity: 0.3;\">hydrogen evolution</text><text text-anchor=\"middle\" transform=\"translate(0,0)\" style=\"font-family: sans-serif; font-size: 0px; fill: rgb(166, 190, 220); fill-opacity: 0.3;\">joint</text><text text-anchor=\"middle\" transform=\"translate(0,0)\" style=\"font-family: sans-serif; font-size: 0px; fill: rgb(182, 197, 223); fill-opacity: 0.3;\">recognition</text></g></g></g></g></g></svg>"
      ],
      "text/plain": [
       "VegaLite.VGSpec"
      ]
     },
     "execution_count": 16,
     "metadata": {},
     "output_type": "execute_result"
    }
   ],
   "source": [
    "\n",
    "word_data_json = JSON.json(word_data);\n",
    "\n",
    "word_cloud_spec = \"\"\"{\n",
    "  \"width\": 900,\n",
    "  \"height\": 350,\n",
    "  \"padding\": 10,\n",
    "  \"signals\": [\n",
    "    {\"name\": \"hoverID\", \"value\": 0}\n",
    "  ],\n",
    "\n",
    "  \"data\": [\n",
    "    {\n",
    "      \"name\": \"table\",\n",
    "      \"values\": $(word_data_json)\n",
    "    }\n",
    "  ],\n",
    "\n",
    "  \"scales\": [\n",
    "    {\n",
    "      \"name\": \"color\",\n",
    "      \"type\": \"log\",\n",
    "      \"domain\": {\"data\": \"table\", \"field\": \"count\"},\n",
    "      \"range\": {\"scheme\": \"purpleblue\"}\n",
    "    }\n",
    "  ],\n",
    "\n",
    "  \"marks\": [\n",
    "    {\n",
    "      \"type\": \"text\",\n",
    "      \"from\": {\"data\": \"table\"},\n",
    "      \"encode\": {\n",
    "        \"enter\": {\n",
    "          \"text\": {\"field\": \"abstract\"},\n",
    "          \"align\": {\"value\": \"center\"},\n",
    "          \"baseline\": {\"value\": \"alphabetic\"},\n",
    "          \"fill\": {\"scale\": \"color\", \"field\": \"count\"}\n",
    "        },\n",
    "        \"update\": {\n",
    "          \"fillOpacity\": [\n",
    "            {\"test\": \"indexof(datum.pubs, hoverID) > 0\", \"value\": 1.0},\n",
    "            {\"value\": 0.3}\n",
    "          ]\n",
    "        },\n",
    "        \"hover\": {\n",
    "          \"fillOpacity\": {\"value\": 1.0}\n",
    "        }\n",
    "      },\n",
    "      \"transform\": [\n",
    "        {\n",
    "          \"type\": \"wordcloud\",\n",
    "          \"size\": [{\"signal\": \"width\"}, {\"signal\": \"height\"}],\n",
    "          \"text\": {\"field\": \"text\"},\n",
    "          \"font\": \"Helvetica Neue, Arial\",\n",
    "          \"fontSize\": {\"field\": \"datum.count\"},\n",
    "          \"fontSizeRange\": [12, 56],\n",
    "          \"padding\": 2\n",
    "        }\n",
    "      ]\n",
    "    }\n",
    "  ]\n",
    "}\"\"\"\n",
    "\n",
    "VegaLite.VGSpec(JSON.parse(word_cloud_spec))"
   ]
  },
  {
   "cell_type": "code",
   "execution_count": null,
   "metadata": {},
   "outputs": [],
   "source": []
  }
 ],
 "metadata": {
  "@webio": {
   "lastCommId": null,
   "lastKernelId": null
  },
  "kernelspec": {
   "display_name": "Julia 1.1.1",
   "language": "julia",
   "name": "julia-1.1"
  },
  "language_info": {
   "file_extension": ".jl",
   "mimetype": "application/julia",
   "name": "julia",
   "version": "1.1.1"
  }
 },
 "nbformat": 4,
 "nbformat_minor": 4
}
