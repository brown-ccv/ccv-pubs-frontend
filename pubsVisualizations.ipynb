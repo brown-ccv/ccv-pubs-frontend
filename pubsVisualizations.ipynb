{
 "cells": [
  {
   "cell_type": "code",
   "execution_count": 1,
   "metadata": {},
   "outputs": [
    {
     "data": {
      "text/html": [
       "<script>\n",
       "// Immediately-invoked-function-expression to avoid global variables.\n",
       "(function() {\n",
       "    var warning_div = document.getElementById(\"webio-warning-2937365082547727896\");\n",
       "    var hide = function () {\n",
       "        var script = document.getElementById(\"webio-setup-9007729547572463401\");\n",
       "        var parent = script && script.parentElement;\n",
       "        var grandparent = parent && parent.parentElement;\n",
       "        if (grandparent) {\n",
       "            grandparent.style.display = \"none\";\n",
       "        }\n",
       "        warning_div.style.display = \"none\";\n",
       "    };\n",
       "    if (typeof Jupyter !== \"undefined\") {\n",
       "        console.log(\"WebIO detected Jupyter notebook environment.\");\n",
       "        // Jupyter notebook.\n",
       "        var extensions = (\n",
       "            Jupyter\n",
       "            && Jupyter.notebook.config.data\n",
       "            && Jupyter.notebook.config.data.load_extensions\n",
       "        );\n",
       "        if (extensions && extensions[\"webio/main\"]) {\n",
       "            // Extension already loaded.\n",
       "            console.log(\"Jupyter WebIO nbextension detected; not loading ad-hoc.\");\n",
       "            hide();\n",
       "            return;\n",
       "        }\n",
       "        console.warn(\"Loading WebIO Jupyter extension on an ad-hoc basis. Consider enabling the WebIO nbextension for a stabler experience (this should happen automatically when building WebIO).\");\n",
       "        warning_div.innerHTML = \"<strong>Loading WebIO Jupyter extension on an ad-hoc basis. Consider enabling the WebIO nbextension for a stabler experience (this should happen automatically when building WebIO).</strong>\";\n",
       "    } else if (window.location.pathname.includes(\"/lab\")) {\n",
       "        // Guessing JupyterLa\n",
       "        console.log(\"Jupyter Lab detected; make sure the @webio/jupyter-lab-provider labextension is installed.\");\n",
       "        hide();\n",
       "        return;\n",
       "    }\n",
       "})();\n",
       "\n",
       "</script>\n",
       "<p\n",
       "    id=\"webio-warning-2937365082547727896\"\n",
       "    class=\"output_text output_stderr\"\n",
       "    style=\"padding: 1em; font-weight: bold;\"\n",
       ">\n",
       "    Unable to load WebIO. Please make sure WebIO works for your Jupyter client.\n",
       "    For troubleshooting, please see <a href=\"https://juliagizmos.github.io/WebIO.jl/latest/providers/ijulia/\">\n",
       "    the WebIO/IJulia documentation</a>.\n",
       "    <!-- TODO: link to installation docs. -->\n",
       "</p>\n"
      ],
      "text/plain": [
       "HTML{String}(\"<script>\\n// Immediately-invoked-function-expression to avoid global variables.\\n(function() {\\n    var warning_div = document.getElementById(\\\"webio-warning-2937365082547727896\\\");\\n    var hide = function () {\\n        var script = document.getElementById(\\\"webio-setup-9007729547572463401\\\");\\n        var parent = script && script.parentElement;\\n        var grandparent = parent && parent.parentElement;\\n        if (grandparent) {\\n            grandparent.style.display = \\\"none\\\";\\n        }\\n        warning_div.style.display = \\\"none\\\";\\n    };\\n    if (typeof Jupyter !== \\\"undefined\\\") {\\n        console.log(\\\"WebIO detected Jupyter notebook environment.\\\");\\n        // Jupyter notebook.\\n        var extensions = (\\n            Jupyter\\n            && Jupyter.notebook.config.data\\n            && Jupyter.notebook.config.data.load_extensions\\n        );\\n        if (extensions && extensions[\\\"webio/main\\\"]) {\\n            // Extension already loaded.\\n            console.log(\\\"Jupyter WebIO nbextension detected; not loading ad-hoc.\\\");\\n            hide();\\n            return;\\n        }\\n        console.warn(\\\"Loading WebIO Jupyter extension on an ad-hoc basis. Consider enabling the WebIO nbextension for a stabler experience (this should happen automatically when building WebIO).\\\");\\n        warning_div.innerHTML = \\\"<strong>Loading WebIO Jupyter extension on an ad-hoc basis. Consider enabling the WebIO nbextension for a stabler experience (this should happen automatically when building WebIO).</strong>\\\";\\n    } else if (window.location.pathname.includes(\\\"/lab\\\")) {\\n        // Guessing JupyterLa\\n        console.log(\\\"Jupyter Lab detected; make sure the @webio/jupyter-lab-provider labextension is installed.\\\");\\n        hide();\\n        return;\\n    }\\n})();\\n\\n</script>\\n<p\\n    id=\\\"webio-warning-2937365082547727896\\\"\\n    class=\\\"output_text output_stderr\\\"\\n    style=\\\"padding: 1em; font-weight: bold;\\\"\\n>\\n    Unable to load WebIO. Please make sure WebIO works for your Jupyter client.\\n    For troubleshooting, please see <a href=\\\"https://juliagizmos.github.io/WebIO.jl/latest/providers/ijulia/\\\">\\n    the WebIO/IJulia documentation</a>.\\n    <!-- TODO: link to installation docs. -->\\n</p>\\n\")"
      ]
     },
     "metadata": {},
     "output_type": "display_data"
    }
   ],
   "source": [
    "import Pkg\n",
    "Pkg.activate(pwd())\n",
    "\n",
    "using HTTP\n",
    "using Gumbo\n",
    "using AbstractTrees\n",
    "using Dates\n",
    "using DataFrames\n",
    "using MySQL\n",
    "\n",
    "using VegaLite\n",
    "using DataVoyager\n",
    "using Interact\n",
    "\n",
    "using TextAnalysis\n",
    "using JSON\n",
    "\n",
    "using DotEnv"
   ]
  },
  {
   "cell_type": "code",
   "execution_count": 15,
   "metadata": {},
   "outputs": [
    {
     "data": {
      "text/plain": [
       "MySQL Connection\n",
       "------------\n",
       "Host: pdspracticemydbcit.services.brown.edu\n",
       "Port: 3306\n",
       "User: ccvpubs_api\n",
       "DB:   ccvpubs\n"
      ]
     },
     "execution_count": 15,
     "metadata": {},
     "output_type": "execute_result"
    }
   ],
   "source": [
    "DotEnv.config()\n",
    "opts = Dict(MySQL.API.MYSQL_ENABLE_CLEARTEXT_PLUGIN => 1)\n",
    "user = ENV[\"mysql_user\"]\n",
    "pass = ENV[\"mysql_password\"]\n",
    "conn = MySQL.connect(\"pdspracticemydbcit.services.brown.edu\", user,pass, db = \"ccvpubs\", opts=opts)"
   ]
  },
  {
   "cell_type": "code",
   "execution_count": 16,
   "metadata": {},
   "outputs": [
    {
     "name": "stderr",
     "output_type": "stream",
     "text": [
      "┌ Warning: `MySQL.query(conn, sql, DataFrame)` is deprecated; use `MySQL.query(conn, sql) |> DataFrame(args...)` instead\n",
      "│   caller = ip:0x0\n",
      "└ @ Core :-1\n"
     ]
    },
    {
     "data": {
      "text/html": [
       "<table class=\"data-frame\"><thead><tr><th></th><th>year</th><th>month</th></tr><tr><th></th><th>Int64</th><th>String⍰</th></tr></thead><tbody><p>175 rows × 2 columns</p><tr><th>1</th><td>2017</td><td>September</td></tr><tr><th>2</th><td>2017</td><td>September</td></tr><tr><th>3</th><td>2017</td><td>September</td></tr><tr><th>4</th><td>2017</td><td>September</td></tr><tr><th>5</th><td>2018</td><td>May</td></tr><tr><th>6</th><td>2018</td><td>May</td></tr><tr><th>7</th><td>2017</td><td>Missing</td></tr><tr><th>8</th><td>2017</td><td>April</td></tr><tr><th>9</th><td>2017</td><td>April</td></tr><tr><th>10</th><td>2017</td><td>March</td></tr><tr><th>11</th><td>2017</td><td>January</td></tr><tr><th>12</th><td>2017</td><td>January</td></tr><tr><th>13</th><td>2017</td><td>February</td></tr><tr><th>14</th><td>2017</td><td>February</td></tr><tr><th>15</th><td>2016</td><td>April</td></tr><tr><th>16</th><td>2016</td><td>April</td></tr><tr><th>17</th><td>2016</td><td>January</td></tr><tr><th>18</th><td>2016</td><td>Missing</td></tr><tr><th>19</th><td>2016</td><td>January</td></tr><tr><th>20</th><td>2016</td><td>Missing</td></tr><tr><th>21</th><td>2016</td><td>August</td></tr><tr><th>22</th><td>2016</td><td>January</td></tr><tr><th>23</th><td>2016</td><td>February</td></tr><tr><th>24</th><td>2016</td><td>March</td></tr><tr><th>25</th><td>2016</td><td>January</td></tr><tr><th>26</th><td>2016</td><td>April</td></tr><tr><th>27</th><td>2017</td><td>January</td></tr><tr><th>28</th><td>2016</td><td>March</td></tr><tr><th>29</th><td>2017</td><td>January</td></tr><tr><th>30</th><td>2016</td><td>June</td></tr><tr><th>&vellip;</th><td>&vellip;</td><td>&vellip;</td></tr></tbody></table>"
      ],
      "text/latex": [
       "\\begin{tabular}{r|cc}\n",
       "\t& year & month\\\\\n",
       "\t\\hline\n",
       "\t& Int64 & String⍰\\\\\n",
       "\t\\hline\n",
       "\t1 & 2017 & September \\\\\n",
       "\t2 & 2017 & September \\\\\n",
       "\t3 & 2017 & September \\\\\n",
       "\t4 & 2017 & September \\\\\n",
       "\t5 & 2018 & May \\\\\n",
       "\t6 & 2018 & May \\\\\n",
       "\t7 & 2017 & Missing \\\\\n",
       "\t8 & 2017 & April \\\\\n",
       "\t9 & 2017 & April \\\\\n",
       "\t10 & 2017 & March \\\\\n",
       "\t11 & 2017 & January \\\\\n",
       "\t12 & 2017 & January \\\\\n",
       "\t13 & 2017 & February \\\\\n",
       "\t14 & 2017 & February \\\\\n",
       "\t15 & 2016 & April \\\\\n",
       "\t16 & 2016 & April \\\\\n",
       "\t17 & 2016 & January \\\\\n",
       "\t18 & 2016 & Missing \\\\\n",
       "\t19 & 2016 & January \\\\\n",
       "\t20 & 2016 & Missing \\\\\n",
       "\t21 & 2016 & August \\\\\n",
       "\t22 & 2016 & January \\\\\n",
       "\t23 & 2016 & February \\\\\n",
       "\t24 & 2016 & March \\\\\n",
       "\t25 & 2016 & January \\\\\n",
       "\t26 & 2016 & April \\\\\n",
       "\t27 & 2017 & January \\\\\n",
       "\t28 & 2016 & March \\\\\n",
       "\t29 & 2017 & January \\\\\n",
       "\t30 & 2016 & June \\\\\n",
       "\t$\\dots$ & $\\dots$ & $\\dots$ \\\\\n",
       "\\end{tabular}\n"
      ],
      "text/plain": [
       "175×2 DataFrame\n",
       "│ Row │ year  │ month     │\n",
       "│     │ \u001b[90mInt64\u001b[39m │ \u001b[90mString⍰\u001b[39m   │\n",
       "├─────┼───────┼───────────┤\n",
       "│ 1   │ 2017  │ September │\n",
       "│ 2   │ 2017  │ September │\n",
       "│ 3   │ 2017  │ September │\n",
       "│ 4   │ 2017  │ September │\n",
       "│ 5   │ 2018  │ May       │\n",
       "│ 6   │ 2018  │ May       │\n",
       "│ 7   │ 2017  │ Missing   │\n",
       "│ 8   │ 2017  │ April     │\n",
       "│ 9   │ 2017  │ April     │\n",
       "│ 10  │ 2017  │ March     │\n",
       "⋮\n",
       "│ 165 │ 2015  │ January   │\n",
       "│ 166 │ 2018  │ June      │\n",
       "│ 167 │ 2018  │ July      │\n",
       "│ 168 │ 2017  │ July      │\n",
       "│ 169 │ 2017  │ Missing   │\n",
       "│ 170 │ 2017  │ September │\n",
       "│ 171 │ 2017  │ August    │\n",
       "│ 172 │ 2016  │ August    │\n",
       "│ 173 │ 2017  │ August    │\n",
       "│ 174 │ 2014  │ February  │\n",
       "│ 175 │ 2013  │ January   │"
      ]
     },
     "execution_count": 16,
     "metadata": {},
     "output_type": "execute_result"
    }
   ],
   "source": [
    "data = MySQL.query(conn, \"\"\"SELECT * FROM pubsNew;\"\"\", DataFrame)\n",
    "small_data = DataFrame( year = parse.(Int, data[!, :year]), month = data[!, :month])\n",
    "\n",
    "rows = eachrow(small_data)\n",
    "\n",
    "for row in rows\n",
    "    if row.month[1] == '0'\n",
    "        row.month = string(row.month[2])\n",
    "    end\n",
    "    if row.month != \"Missing\"\n",
    "        row.month = string(Dates.monthname(parse(Int,row.month[1])))\n",
    "    else\n",
    "        row.month = \"Missing\"\n",
    "    end\n",
    "end\n",
    "\n",
    "small_data"
   ]
  },
  {
   "cell_type": "code",
   "execution_count": null,
   "metadata": {},
   "outputs": [],
   "source": [
    "    "
   ]
  },
  {
   "cell_type": "code",
   "execution_count": 17,
   "metadata": {},
   "outputs": [],
   "source": [
    "small_data |> Voyager();"
   ]
  },
  {
   "cell_type": "code",
   "execution_count": 4,
   "metadata": {},
   "outputs": [
    {
     "ename": "ErrorException",
     "evalue": "Expected ',' here\nLine: 42\nAround: ...nal\": \"{\"year\": ''+datum[\"year...\n                    ^\n",
     "output_type": "error",
     "traceback": [
      "Expected ',' here\nLine: 42\nAround: ...nal\": \"{\"year\": ''+datum[\"year...\n                    ^\n",
      "",
      "Stacktrace:",
      " [1] error(::String) at ./error.jl:33",
      " [2] _error(::String, ::JSON.Parser.MemoryParserState) at /Users/mauradriscoll/.julia/packages/JSON/d89fA/src/Parser.jl:142",
      " [3] _error_expected_char(::UInt8, ::JSON.Parser.MemoryParserState) at /Users/mauradriscoll/.julia/packages/JSON/d89fA/src/Parser.jl:85",
      " [4] skip! at /Users/mauradriscoll/.julia/packages/JSON/d89fA/src/Parser.jl:82 [inlined]",
      " [5] parse_object(::JSON.Parser.ParserContext{Dict{String,Any},Int64,true,nothing}, ::JSON.Parser.MemoryParserState) at /Users/mauradriscoll/.julia/packages/JSON/d89fA/src/Parser.jl:236",
      " [6] parse_value(::JSON.Parser.ParserContext{Dict{String,Any},Int64,true,nothing}, ::JSON.Parser.MemoryParserState) at /Users/mauradriscoll/.julia/packages/JSON/d89fA/src/Parser.jl:168",
      " [7] parse_object(::JSON.Parser.ParserContext{Dict{String,Any},Int64,true,nothing}, ::JSON.Parser.MemoryParserState) at /Users/mauradriscoll/.julia/packages/JSON/d89fA/src/Parser.jl:232",
      " [8] parse_value(::JSON.Parser.ParserContext{Dict{String,Any},Int64,true,nothing}, ::JSON.Parser.MemoryParserState) at /Users/mauradriscoll/.julia/packages/JSON/d89fA/src/Parser.jl:168",
      " [9] parse_object(::JSON.Parser.ParserContext{Dict{String,Any},Int64,true,nothing}, ::JSON.Parser.MemoryParserState) at /Users/mauradriscoll/.julia/packages/JSON/d89fA/src/Parser.jl:232",
      " [10] parse_value(::JSON.Parser.ParserContext{Dict{String,Any},Int64,true,nothing}, ::JSON.Parser.MemoryParserState) at /Users/mauradriscoll/.julia/packages/JSON/d89fA/src/Parser.jl:168",
      " [11] parse_object(::JSON.Parser.ParserContext{Dict{String,Any},Int64,true,nothing}, ::JSON.Parser.MemoryParserState) at /Users/mauradriscoll/.julia/packages/JSON/d89fA/src/Parser.jl:232",
      " [12] parse_value(::JSON.Parser.ParserContext{Dict{String,Any},Int64,true,nothing}, ::JSON.Parser.MemoryParserState) at /Users/mauradriscoll/.julia/packages/JSON/d89fA/src/Parser.jl:168",
      " [13] parse_array(::JSON.Parser.ParserContext{Dict{String,Any},Int64,true,nothing}, ::JSON.Parser.MemoryParserState) at /Users/mauradriscoll/.julia/packages/JSON/d89fA/src/Parser.jl:205",
      " [14] parse_value(::JSON.Parser.ParserContext{Dict{String,Any},Int64,true,nothing}, ::JSON.Parser.MemoryParserState) at /Users/mauradriscoll/.julia/packages/JSON/d89fA/src/Parser.jl:170",
      " [15] parse_object(::JSON.Parser.ParserContext{Dict{String,Any},Int64,true,nothing}, ::JSON.Parser.MemoryParserState) at /Users/mauradriscoll/.julia/packages/JSON/d89fA/src/Parser.jl:232",
      " [16] parse_value(::JSON.Parser.ParserContext{Dict{String,Any},Int64,true,nothing}, ::JSON.Parser.MemoryParserState) at /Users/mauradriscoll/.julia/packages/JSON/d89fA/src/Parser.jl:168",
      " [17] #parse#1(::Type, ::Type{Int64}, ::Bool, ::Nothing, ::Function, ::String) at /Users/mauradriscoll/.julia/packages/JSON/d89fA/src/Parser.jl:463",
      " [18] parse(::String) at /Users/mauradriscoll/.julia/packages/JSON/d89fA/src/Parser.jl:461",
      " [19] top-level scope at In[4]:106"
     ]
    }
   ],
   "source": [
    "small_data_json = JSON.json(small_data)\n",
    "spec = \"\"\"{\n",
    "  \"autosize\": \"pad\",\n",
    "  \"padding\": 5,\n",
    "  \"height\": 200,\n",
    "  \"title\": {\"text\": \"Number of Publications vs Year\", \"frame\": \"group\"},\n",
    "  \"style\": \"cell\",\n",
    "  \"data\": {\n",
    "    \"name\": \"source\",\n",
    "    \"values\": $(small_data_json)\n",
    "  },\n",
    "    \"selection\": {\n",
    "    \"highlight\": {\"type\": \"single\", \"empty\": \"none\", \"on\": \"mouseover\"},\n",
    "    \"select\": {\"type\": \"multi\"}\n",
    "  },\n",
    "\n",
    "    \"signals\": [\n",
    "        {\"name\": \"x_step\", \"value\": 20},\n",
    "        {\n",
    "          \"name\": \"width\",\n",
    "          \"update\": \"bandspace(domain('x').length, 0.1, 0.05) * x_step\"\n",
    "        },\n",
    "        {\n",
    "          \"name\": \"select\",\n",
    "          \"value\": false,\n",
    "          \"on\": [\n",
    "            {\"events\": \"click\", \"update\": \"datum\"},\n",
    "            {\"events\": \"dblclick\", \"update\": \"null\"}\n",
    "          ]\n",
    "        }\n",
    "      ],\n",
    "    \"marks\": [\n",
    "    {\n",
    "      \"name\": \"marks\",\n",
    "      \"type\": \"rect\",\n",
    "      \"style\": [\"bar\"],\n",
    "      \"from\": {\"data\": \"data_0\"},\n",
    "      \"encode\": {\n",
    "        \"update\": {\n",
    "          \"fill\": {\"value\": \"#00FFFF\"},\n",
    "          \"stroke\": {\"value\": \"black\"},\n",
    "          \"cursor\": {\"value\": \"pointer\"},\n",
    "          \"tooltip\": {\n",
    "            \"signal\": \"{\\\"year\\\": ''+datum[\\\"year\\\"], \\\"Count of Records\\\": format(datum[\\\"__count\\\"], \\\"\\\")}\"\n",
    "          },\n",
    "          \"x\": {\"scale\": \"x\", \"field\": \"year\"},\n",
    "          \"width\": {\"scale\": \"x\", \"band\": true},\n",
    "          \"y\": {\"scale\": \"y\", \"field\": \"__count\"},\n",
    "          \"y2\": {\"scale\": \"y\", \"value\": 0}\n",
    "        }\n",
    "      }\n",
    "    }\n",
    "  ],\n",
    "  \"scales\": [\n",
    "    {\n",
    "      \"name\": \"x\",\n",
    "      \"type\": \"band\",\n",
    "      \"domain\": {\"data\": \"data_0\", \"field\": \"year\", \"sort\": true},\n",
    "      \"range\": {\"step\": {\"signal\": \"x_step\"}},\n",
    "      \"paddingInner\": 0.1,\n",
    "      \"paddingOuter\": 0.05\n",
    "    },\n",
    "    {\n",
    "      \"name\": \"y\",\n",
    "      \"type\": \"linear\",\n",
    "      \"domain\": {\"data\": \"data_0\", \"field\": \"__count\"},\n",
    "      \"range\": [{\"signal\": \"height\"}, 0],\n",
    "      \"nice\": true,\n",
    "      \"zero\": true\n",
    "    }\n",
    "  ],\n",
    "  \"axes\": [\n",
    "    {\n",
    "      \"scale\": \"x\",\n",
    "      \"orient\": \"bottom\",\n",
    "      \"grid\": false,\n",
    "      \"title\": \"Year\",\n",
    "      \"labelAlign\": \"right\",\n",
    "      \"labelAngle\": 270,\n",
    "      \"labelBaseline\": \"middle\",\n",
    "      \"zindex\": 1\n",
    "    },\n",
    "    {\n",
    "      \"scale\": \"y\",\n",
    "      \"orient\": \"left\",\n",
    "      \"grid\": false,\n",
    "      \"title\": \"Count of Records\",\n",
    "      \"labelOverlap\": true,\n",
    "      \"tickCount\": {\"signal\": \"ceil(height/40)\"},\n",
    "      \"zindex\": 1\n",
    "    },\n",
    "    {\n",
    "      \"scale\": \"y\",\n",
    "      \"orient\": \"left\",\n",
    "      \"gridScale\": \"x\",\n",
    "      \"grid\": true,\n",
    "      \"tickCount\": {\"signal\": \"ceil(height/40)\"},\n",
    "      \"domain\": false,\n",
    "      \"labels\": false,\n",
    "      \"maxExtent\": 0,\n",
    "      \"minExtent\": 0,\n",
    "      \"ticks\": false,\n",
    "      \"zindex\": 0\n",
    "    }\n",
    "  ]\"\"\"\n",
    "VegaLite.VGSpec(JSON.parse(spec))"
   ]
  },
  {
   "cell_type": "code",
   "execution_count": 12,
   "metadata": {},
   "outputs": [
    {
     "data": {
      "application/vnd.vegalite.v3+json": {
       "config": {
        "overlay": {
         "line": true
        },
        "scale": {
         "useUnaggregatedDomain": true
        }
       },
       "data": {
        "values": [
         {
          "month": "9",
          "year": 2017
         },
         {
          "month": "9",
          "year": 2017
         },
         {
          "month": "9",
          "year": 2017
         },
         {
          "month": "9",
          "year": 2017
         },
         {
          "month": "5",
          "year": 2018
         },
         {
          "month": "5",
          "year": 2018
         },
         {
          "month": "Missing",
          "year": 2017
         },
         {
          "month": "4",
          "year": 2017
         },
         {
          "month": "4",
          "year": 2017
         },
         {
          "month": "3",
          "year": 2017
         },
         {
          "month": "1",
          "year": 2017
         },
         {
          "month": "1",
          "year": 2017
         },
         {
          "month": "2",
          "year": 2017
         },
         {
          "month": "2",
          "year": 2017
         },
         {
          "month": "4",
          "year": 2016
         },
         {
          "month": "4",
          "year": 2016
         },
         {
          "month": "1",
          "year": 2016
         },
         {
          "month": "Missing",
          "year": 2016
         },
         {
          "month": "11",
          "year": 2016
         },
         {
          "month": "Missing",
          "year": 2016
         },
         {
          "month": "8",
          "year": 2016
         },
         {
          "month": "10",
          "year": 2016
         },
         {
          "month": "2",
          "year": 2016
         },
         {
          "month": "3",
          "year": 2016
         },
         {
          "month": "1",
          "year": 2016
         },
         {
          "month": "4",
          "year": 2016
         },
         {
          "month": "1",
          "year": 2017
         },
         {
          "month": "3",
          "year": 2016
         },
         {
          "month": "1",
          "year": 2017
         },
         {
          "month": "6",
          "year": 2016
         },
         {
          "month": "8",
          "year": 2016
         },
         {
          "month": "10",
          "year": 2016
         },
         {
          "month": "4",
          "year": 2016
         },
         {
          "month": "2",
          "year": 2016
         },
         {
          "month": "6",
          "year": 2016
         },
         {
          "month": "3",
          "year": 2016
         },
         {
          "month": "3",
          "year": 2016
         },
         {
          "month": "12",
          "year": 2014
         },
         {
          "month": "12",
          "year": 2017
         },
         {
          "month": "3",
          "year": 2015
         },
         {
          "month": "3",
          "year": 2015
         },
         {
          "month": "4",
          "year": 2015
         },
         {
          "month": "4",
          "year": 2015
         },
         {
          "month": "Missing",
          "year": 2015
         },
         {
          "month": "5",
          "year": 2014
         },
         {
          "month": "2",
          "year": 2015
         },
         {
          "month": "3",
          "year": 2014
         },
         {
          "month": "Missing",
          "year": 2014
         },
         {
          "month": "11",
          "year": 2014
         },
         {
          "month": "8",
          "year": 2014
         },
         {
          "month": "8",
          "year": 2014
         },
         {
          "month": "Missing",
          "year": 2014
         },
         {
          "month": "Missing",
          "year": 2014
         },
         {
          "month": "7",
          "year": 2014
         },
         {
          "month": "3",
          "year": 2014
         },
         {
          "month": "4",
          "year": 2014
         },
         {
          "month": "6",
          "year": 2014
         },
         {
          "month": "6",
          "year": 2014
         },
         {
          "month": "6",
          "year": 2014
         },
         {
          "month": "6",
          "year": 2014
         },
         {
          "month": "6",
          "year": 2014
         },
         {
          "month": "5",
          "year": 2014
         },
         {
          "month": "4",
          "year": 2014
         },
         {
          "month": "12",
          "year": 2013
         },
         {
          "month": "4",
          "year": 2014
         },
         {
          "month": "3",
          "year": 2014
         },
         {
          "month": "12",
          "year": 2013
         },
         {
          "month": "3",
          "year": 2014
         },
         {
          "month": "3",
          "year": 2014
         },
         {
          "month": "3",
          "year": 2014
         },
         {
          "month": "3",
          "year": 2014
         },
         {
          "month": "10",
          "year": 2013
         },
         {
          "month": "2",
          "year": 2014
         },
         {
          "month": "2",
          "year": 2014
         },
         {
          "month": "1",
          "year": 2014
         },
         {
          "month": "1",
          "year": 2014
         },
         {
          "month": "12",
          "year": 2013
         },
         {
          "month": "6",
          "year": 2018
         },
         {
          "month": "6",
          "year": 2018
         },
         {
          "month": "5",
          "year": 2018
         },
         {
          "month": "11",
          "year": 2018
         },
         {
          "month": "4",
          "year": 2018
         },
         {
          "month": "Missing",
          "year": 2018
         },
         {
          "month": "9",
          "year": 2016
         },
         {
          "month": "2",
          "year": 2016
         },
         {
          "month": "8",
          "year": 2015
         },
         {
          "month": "2",
          "year": 2015
         },
         {
          "month": "5",
          "year": 2015
         },
         {
          "month": "5",
          "year": 2015
         },
         {
          "month": "3",
          "year": 2018
         },
         {
          "month": "12",
          "year": 2017
         },
         {
          "month": "8",
          "year": 2017
         },
         {
          "month": "7",
          "year": 2017
         },
         {
          "month": "5",
          "year": 2019
         },
         {
          "month": "3",
          "year": 2016
         },
         {
          "month": "Missing",
          "year": 2016
         },
         {
          "month": "Missing",
          "year": 2016
         },
         {
          "month": "10",
          "year": 2014
         },
         {
          "month": "11",
          "year": 2014
         },
         {
          "month": "Missing",
          "year": 2015
         },
         {
          "month": "11",
          "year": 2015
         },
         {
          "month": "Missing",
          "year": 2015
         },
         {
          "month": "10",
          "year": 2015
         },
         {
          "month": "9",
          "year": 2015
         },
         {
          "month": "10",
          "year": 2015
         },
         {
          "month": "7",
          "year": 2015
         },
         {
          "month": "7",
          "year": 2015
         },
         {
          "month": "9",
          "year": 2014
         },
         {
          "month": "Missing",
          "year": 2014
         },
         {
          "month": "6",
          "year": 2014
         },
         {
          "month": "4",
          "year": 2018
         },
         {
          "month": "2",
          "year": 2018
         },
         {
          "month": "10",
          "year": 2018
         },
         {
          "month": "4",
          "year": 2018
         },
         {
          "month": "6",
          "year": 2017
         },
         {
          "month": "3",
          "year": 2018
         },
         {
          "month": "2",
          "year": 2018
         },
         {
          "month": "4",
          "year": 2018
         },
         {
          "month": "9",
          "year": 2018
         },
         {
          "month": "7",
          "year": 2018
         },
         {
          "month": "6",
          "year": 2018
         },
         {
          "month": "3",
          "year": 2018
         },
         {
          "month": "8",
          "year": 2016
         },
         {
          "month": "Missing",
          "year": 2018
         },
         {
          "month": "3",
          "year": 2018
         },
         {
          "month": "6",
          "year": 2018
         },
         {
          "month": "3",
          "year": 2018
         },
         {
          "month": "4",
          "year": 2019
         },
         {
          "month": "2",
          "year": 2017
         },
         {
          "month": "2",
          "year": 2017
         },
         {
          "month": "3",
          "year": 2017
         },
         {
          "month": "8",
          "year": 2017
         },
         {
          "month": "4",
          "year": 2017
         },
         {
          "month": "2",
          "year": 2016
         },
         {
          "month": "8",
          "year": 2016
         },
         {
          "month": "7",
          "year": 2016
         },
         {
          "month": "5",
          "year": 2016
         },
         {
          "month": "3",
          "year": 2015
         },
         {
          "month": "3",
          "year": 2016
         },
         {
          "month": "9",
          "year": 2015
         },
         {
          "month": "10",
          "year": 2016
         },
         {
          "month": "1",
          "year": 2016
         },
         {
          "month": "11",
          "year": 2016
         },
         {
          "month": "2",
          "year": 2016
         },
         {
          "month": "3",
          "year": 2015
         },
         {
          "month": "9",
          "year": 2015
         },
         {
          "month": "1",
          "year": 2015
         },
         {
          "month": "12",
          "year": 2015
         },
         {
          "month": "2",
          "year": 2015
         },
         {
          "month": "1",
          "year": 2015
         },
         {
          "month": "3",
          "year": 2015
         },
         {
          "month": "6",
          "year": 2015
         },
         {
          "month": "8",
          "year": 2015
         },
         {
          "month": "9",
          "year": 2015
         },
         {
          "month": "11",
          "year": 2015
         },
         {
          "month": "4",
          "year": 2015
         },
         {
          "month": "3",
          "year": 2015
         },
         {
          "month": "8",
          "year": 2014
         },
         {
          "month": "Missing",
          "year": 2014
         },
         {
          "month": "3",
          "year": 2014
         },
         {
          "month": "Missing",
          "year": 2014
         },
         {
          "month": "8",
          "year": 2014
         },
         {
          "month": "7",
          "year": 2014
         },
         {
          "month": "12",
          "year": 2017
         },
         {
          "month": "10",
          "year": 2015
         },
         {
          "month": "6",
          "year": 2018
         },
         {
          "month": "7",
          "year": 2018
         },
         {
          "month": "7",
          "year": 2017
         },
         {
          "month": "Missing",
          "year": 2017
         },
         {
          "month": "9",
          "year": 2017
         },
         {
          "month": "8",
          "year": 2017
         },
         {
          "month": "8",
          "year": 2016
         },
         {
          "month": "8",
          "year": 2017
         },
         {
          "month": "2",
          "year": 2014
         },
         {
          "month": "12",
          "year": 2013
         }
        ]
       },
       "encoding": {
        "x": {
         "field": "year",
         "type": "nominal"
        },
        "y": {
         "aggregate": "count",
         "field": "*",
         "type": "quantitative"
        }
       },
       "mark": "bar"
      },
      "image/png": "[encoded data removed]",
      "image/svg+xml": [
       "<svg class=\"marks\" width=\"184\" height=\"255\" viewBox=\"0 0 184 255\" version=\"1.1\" xmlns=\"http://www.w3.org/2000/svg\" xmlns:xlink=\"http://www.w3.org/1999/xlink\"><g transform=\"translate(39,5)\"><g class=\"mark-group role-frame root\"><g transform=\"translate(0,0)\"><path class=\"background\" d=\"M0.5,0.5h140v200h-140Z\" style=\"fill: none; stroke: #ddd;\"></path><g><g class=\"mark-group role-axis\"><g transform=\"translate(0.5,0.5)\"><path class=\"background\" d=\"M0,0h0v0h0Z\" style=\"pointer-events: none; fill: none;\"></path><g><g class=\"mark-rule role-axis-grid\" style=\"pointer-events: none;\"><line transform=\"translate(0,200)\" x2=\"140\" y2=\"0\" style=\"fill: none; stroke: #ddd; stroke-width: 1; opacity: 1;\"></line><line transform=\"translate(0,156)\" x2=\"140\" y2=\"0\" style=\"fill: none; stroke: #ddd; stroke-width: 1; opacity: 1;\"></line><line transform=\"translate(0,111)\" x2=\"140\" y2=\"0\" style=\"fill: none; stroke: #ddd; stroke-width: 1; opacity: 1;\"></line><line transform=\"translate(0,67)\" x2=\"140\" y2=\"0\" style=\"fill: none; stroke: #ddd; stroke-width: 1; opacity: 1;\"></line><line transform=\"translate(0,22)\" x2=\"140\" y2=\"0\" style=\"fill: none; stroke: #ddd; stroke-width: 1; opacity: 1;\"></line></g></g></g></g><g class=\"mark-rect role-mark marks\"><path d=\"M81,66.66666666666669h18v133.33333333333331h-18Z\" style=\"fill: #4c78a8;\"></path><path d=\"M101,84.44444444444446h18v115.55555555555554h-18Z\" style=\"fill: #4c78a8;\"></path><path d=\"M61,35.55555555555557h18v164.44444444444443h-18Z\" style=\"fill: #4c78a8;\"></path><path d=\"M21,17.77777777777777h18v182.22222222222223h-18Z\" style=\"fill: #4c78a8;\"></path><path d=\"M41,48.888888888888886h18v151.11111111111111h-18Z\" style=\"fill: #4c78a8;\"></path><path d=\"M1,177.77777777777777h18v22.22222222222223h-18Z\" style=\"fill: #4c78a8;\"></path><path d=\"M121,191.11111111111111h18v8.888888888888886h-18Z\" style=\"fill: #4c78a8;\"></path></g><g class=\"mark-group role-axis\"><g transform=\"translate(0.5,200.5)\"><path class=\"background\" d=\"M0,0h0v0h0Z\" style=\"pointer-events: none; fill: none;\"></path><g><g class=\"mark-rule role-axis-tick\" style=\"pointer-events: none;\"><line transform=\"translate(9,0)\" x2=\"0\" y2=\"5\" style=\"fill: none; stroke: #888; stroke-width: 1; opacity: 1;\"></line><line transform=\"translate(29,0)\" x2=\"0\" y2=\"5\" style=\"fill: none; stroke: #888; stroke-width: 1; opacity: 1;\"></line><line transform=\"translate(49,0)\" x2=\"0\" y2=\"5\" style=\"fill: none; stroke: #888; stroke-width: 1; opacity: 1;\"></line><line transform=\"translate(69,0)\" x2=\"0\" y2=\"5\" style=\"fill: none; stroke: #888; stroke-width: 1; opacity: 1;\"></line><line transform=\"translate(89,0)\" x2=\"0\" y2=\"5\" style=\"fill: none; stroke: #888; stroke-width: 1; opacity: 1;\"></line><line transform=\"translate(109,0)\" x2=\"0\" y2=\"5\" style=\"fill: none; stroke: #888; stroke-width: 1; opacity: 1;\"></line><line transform=\"translate(129,0)\" x2=\"0\" y2=\"5\" style=\"fill: none; stroke: #888; stroke-width: 1; opacity: 1;\"></line></g><g class=\"mark-text role-axis-label\" style=\"pointer-events: none;\"><text text-anchor=\"end\" transform=\"translate(9,7) rotate(270) translate(0,3)\" style=\"font-family: sans-serif; font-size: 10px; fill: #000; opacity: 1;\">2013</text><text text-anchor=\"end\" transform=\"translate(29,7) rotate(270) translate(0,3)\" style=\"font-family: sans-serif; font-size: 10px; fill: #000; opacity: 1;\">2014</text><text text-anchor=\"end\" transform=\"translate(49,7) rotate(270) translate(0,3)\" style=\"font-family: sans-serif; font-size: 10px; fill: #000; opacity: 1;\">2015</text><text text-anchor=\"end\" transform=\"translate(69,7) rotate(270) translate(0,3)\" style=\"font-family: sans-serif; font-size: 10px; fill: #000; opacity: 1;\">2016</text><text text-anchor=\"end\" transform=\"translate(89,7) rotate(270) translate(0,3)\" style=\"font-family: sans-serif; font-size: 10px; fill: #000; opacity: 1;\">2017</text><text text-anchor=\"end\" transform=\"translate(109,7) rotate(270) translate(0,3)\" style=\"font-family: sans-serif; font-size: 10px; fill: #000; opacity: 1;\">2018</text><text text-anchor=\"end\" transform=\"translate(129,7) rotate(270) translate(0,3)\" style=\"font-family: sans-serif; font-size: 10px; fill: #000; opacity: 1;\">2019</text></g><g class=\"mark-rule role-axis-domain\" style=\"pointer-events: none;\"><line transform=\"translate(0,0)\" x2=\"140\" y2=\"0\" style=\"fill: none; stroke: #888; stroke-width: 1; opacity: 1;\"></line></g><g class=\"mark-text role-axis-title\" style=\"pointer-events: none;\"><text text-anchor=\"middle\" transform=\"translate(70,42.24609375)\" style=\"font-family: sans-serif; font-size: 11px; font-weight: bold; fill: #000; opacity: 1;\">year</text></g></g></g></g><g class=\"mark-group role-axis\"><g transform=\"translate(0.5,0.5)\"><path class=\"background\" d=\"M0,0h0v0h0Z\" style=\"pointer-events: none; fill: none;\"></path><g><g class=\"mark-rule role-axis-tick\" style=\"pointer-events: none;\"><line transform=\"translate(0,200)\" x2=\"-5\" y2=\"0\" style=\"fill: none; stroke: #888; stroke-width: 1; opacity: 1;\"></line><line transform=\"translate(0,156)\" x2=\"-5\" y2=\"0\" style=\"fill: none; stroke: #888; stroke-width: 1; opacity: 1;\"></line><line transform=\"translate(0,111)\" x2=\"-5\" y2=\"0\" style=\"fill: none; stroke: #888; stroke-width: 1; opacity: 1;\"></line><line transform=\"translate(0,67)\" x2=\"-5\" y2=\"0\" style=\"fill: none; stroke: #888; stroke-width: 1; opacity: 1;\"></line><line transform=\"translate(0,22)\" x2=\"-5\" y2=\"0\" style=\"fill: none; stroke: #888; stroke-width: 1; opacity: 1;\"></line></g><g class=\"mark-text role-axis-label\" style=\"pointer-events: none;\"><text text-anchor=\"end\" transform=\"translate(-7,203)\" style=\"font-family: sans-serif; font-size: 10px; fill: #000; opacity: 1;\">0</text><text text-anchor=\"end\" transform=\"translate(-7,158.55555555555554)\" style=\"font-family: sans-serif; font-size: 10px; fill: #000; opacity: 1;\">10</text><text text-anchor=\"end\" transform=\"translate(-7,114.11111111111111)\" style=\"font-family: sans-serif; font-size: 10px; fill: #000; opacity: 1;\">20</text><text text-anchor=\"end\" transform=\"translate(-7,69.66666666666669)\" style=\"font-family: sans-serif; font-size: 10px; fill: #000; opacity: 1;\">30</text><text text-anchor=\"end\" transform=\"translate(-7,25.22222222222223)\" style=\"font-family: sans-serif; font-size: 10px; fill: #000; opacity: 1;\">40</text></g><g class=\"mark-rule role-axis-domain\" style=\"pointer-events: none;\"><line transform=\"translate(0,200)\" x2=\"0\" y2=\"-200\" style=\"fill: none; stroke: #888; stroke-width: 1; opacity: 1;\"></line></g><g class=\"mark-text role-axis-title\" style=\"pointer-events: none;\"><text text-anchor=\"middle\" transform=\"translate(-22.123046875,100) rotate(-90) translate(0,-2)\" style=\"font-family: sans-serif; font-size: 11px; font-weight: bold; fill: #000; opacity: 1;\">Count of Records</text></g></g></g></g></g></g></g></g></svg>"
      ],
      "text/plain": [
       "VegaLite.VLSpec{:plot}"
      ]
     },
     "execution_count": 12,
     "metadata": {},
     "output_type": "execute_result"
    }
   ],
   "source": [
    "vl\"\"\"{\n",
    "  \"data\": {\n",
    "    \"name\": \"source\"\n",
    "  },\n",
    "  \"mark\": \"bar\",\n",
    "  \"encoding\": {\n",
    "    \"x\": {\n",
    "      \"field\": \"year\",\n",
    "      \"type\": \"nominal\"\n",
    "    },\n",
    "    \"y\": {\n",
    "      \"aggregate\": \"count\",\n",
    "      \"field\": \"*\",\n",
    "      \"type\": \"quantitative\"\n",
    "    }\n",
    "  },\n",
    "  \"config\": {\n",
    "    \"overlay\": {\n",
    "      \"line\": true\n",
    "    },\n",
    "    \"scale\": {\n",
    "      \"useUnaggregatedDomain\": true\n",
    "    }\n",
    "  }\n",
    "}\"\"\"(small_data)\n"
   ]
  },
  {
   "cell_type": "code",
   "execution_count": 25,
   "metadata": {},
   "outputs": [
    {
     "data": {
      "application/vnd.vegalite.v3+json": {
       "config": {
        "overlay": {
         "line": true
        },
        "scale": {
         "useUnaggregatedDomain": true
        }
       },
       "data": {
        "values": [
         {
          "month": "September",
          "year": 2017
         },
         {
          "month": "September",
          "year": 2017
         },
         {
          "month": "September",
          "year": 2017
         },
         {
          "month": "September",
          "year": 2017
         },
         {
          "month": "May",
          "year": 2018
         },
         {
          "month": "May",
          "year": 2018
         },
         {
          "month": "Missing",
          "year": 2017
         },
         {
          "month": "April",
          "year": 2017
         },
         {
          "month": "April",
          "year": 2017
         },
         {
          "month": "March",
          "year": 2017
         },
         {
          "month": "January",
          "year": 2017
         },
         {
          "month": "January",
          "year": 2017
         },
         {
          "month": "February",
          "year": 2017
         },
         {
          "month": "February",
          "year": 2017
         },
         {
          "month": "April",
          "year": 2016
         },
         {
          "month": "April",
          "year": 2016
         },
         {
          "month": "January",
          "year": 2016
         },
         {
          "month": "Missing",
          "year": 2016
         },
         {
          "month": "January",
          "year": 2016
         },
         {
          "month": "Missing",
          "year": 2016
         },
         {
          "month": "August",
          "year": 2016
         },
         {
          "month": "January",
          "year": 2016
         },
         {
          "month": "February",
          "year": 2016
         },
         {
          "month": "March",
          "year": 2016
         },
         {
          "month": "January",
          "year": 2016
         },
         {
          "month": "April",
          "year": 2016
         },
         {
          "month": "January",
          "year": 2017
         },
         {
          "month": "March",
          "year": 2016
         },
         {
          "month": "January",
          "year": 2017
         },
         {
          "month": "June",
          "year": 2016
         },
         {
          "month": "August",
          "year": 2016
         },
         {
          "month": "January",
          "year": 2016
         },
         {
          "month": "April",
          "year": 2016
         },
         {
          "month": "February",
          "year": 2016
         },
         {
          "month": "June",
          "year": 2016
         },
         {
          "month": "March",
          "year": 2016
         },
         {
          "month": "March",
          "year": 2016
         },
         {
          "month": "January",
          "year": 2014
         },
         {
          "month": "January",
          "year": 2017
         },
         {
          "month": "March",
          "year": 2015
         },
         {
          "month": "March",
          "year": 2015
         },
         {
          "month": "April",
          "year": 2015
         },
         {
          "month": "April",
          "year": 2015
         },
         {
          "month": "Missing",
          "year": 2015
         },
         {
          "month": "May",
          "year": 2014
         },
         {
          "month": "February",
          "year": 2015
         },
         {
          "month": "March",
          "year": 2014
         },
         {
          "month": "Missing",
          "year": 2014
         },
         {
          "month": "January",
          "year": 2014
         },
         {
          "month": "August",
          "year": 2014
         },
         {
          "month": "August",
          "year": 2014
         },
         {
          "month": "Missing",
          "year": 2014
         },
         {
          "month": "Missing",
          "year": 2014
         },
         {
          "month": "July",
          "year": 2014
         },
         {
          "month": "March",
          "year": 2014
         },
         {
          "month": "April",
          "year": 2014
         },
         {
          "month": "June",
          "year": 2014
         },
         {
          "month": "June",
          "year": 2014
         },
         {
          "month": "June",
          "year": 2014
         },
         {
          "month": "June",
          "year": 2014
         },
         {
          "month": "June",
          "year": 2014
         },
         {
          "month": "May",
          "year": 2014
         },
         {
          "month": "April",
          "year": 2014
         },
         {
          "month": "January",
          "year": 2013
         },
         {
          "month": "April",
          "year": 2014
         },
         {
          "month": "March",
          "year": 2014
         },
         {
          "month": "January",
          "year": 2013
         },
         {
          "month": "March",
          "year": 2014
         },
         {
          "month": "March",
          "year": 2014
         },
         {
          "month": "March",
          "year": 2014
         },
         {
          "month": "March",
          "year": 2014
         },
         {
          "month": "January",
          "year": 2013
         },
         {
          "month": "February",
          "year": 2014
         },
         {
          "month": "February",
          "year": 2014
         },
         {
          "month": "January",
          "year": 2014
         },
         {
          "month": "January",
          "year": 2014
         },
         {
          "month": "January",
          "year": 2013
         },
         {
          "month": "June",
          "year": 2018
         },
         {
          "month": "June",
          "year": 2018
         },
         {
          "month": "May",
          "year": 2018
         },
         {
          "month": "January",
          "year": 2018
         },
         {
          "month": "April",
          "year": 2018
         },
         {
          "month": "Missing",
          "year": 2018
         },
         {
          "month": "September",
          "year": 2016
         },
         {
          "month": "February",
          "year": 2016
         },
         {
          "month": "August",
          "year": 2015
         },
         {
          "month": "February",
          "year": 2015
         },
         {
          "month": "May",
          "year": 2015
         },
         {
          "month": "May",
          "year": 2015
         },
         {
          "month": "March",
          "year": 2018
         },
         {
          "month": "January",
          "year": 2017
         },
         {
          "month": "August",
          "year": 2017
         },
         {
          "month": "July",
          "year": 2017
         },
         {
          "month": "May",
          "year": 2019
         },
         {
          "month": "March",
          "year": 2016
         },
         {
          "month": "Missing",
          "year": 2016
         },
         {
          "month": "Missing",
          "year": 2016
         },
         {
          "month": "January",
          "year": 2014
         },
         {
          "month": "January",
          "year": 2014
         },
         {
          "month": "Missing",
          "year": 2015
         },
         {
          "month": "January",
          "year": 2015
         },
         {
          "month": "Missing",
          "year": 2015
         },
         {
          "month": "January",
          "year": 2015
         },
         {
          "month": "September",
          "year": 2015
         },
         {
          "month": "January",
          "year": 2015
         },
         {
          "month": "July",
          "year": 2015
         },
         {
          "month": "July",
          "year": 2015
         },
         {
          "month": "September",
          "year": 2014
         },
         {
          "month": "Missing",
          "year": 2014
         },
         {
          "month": "June",
          "year": 2014
         },
         {
          "month": "April",
          "year": 2018
         },
         {
          "month": "February",
          "year": 2018
         },
         {
          "month": "January",
          "year": 2018
         },
         {
          "month": "April",
          "year": 2018
         },
         {
          "month": "June",
          "year": 2017
         },
         {
          "month": "March",
          "year": 2018
         },
         {
          "month": "February",
          "year": 2018
         },
         {
          "month": "April",
          "year": 2018
         },
         {
          "month": "September",
          "year": 2018
         },
         {
          "month": "July",
          "year": 2018
         },
         {
          "month": "June",
          "year": 2018
         },
         {
          "month": "March",
          "year": 2018
         },
         {
          "month": "August",
          "year": 2016
         },
         {
          "month": "Missing",
          "year": 2018
         },
         {
          "month": "March",
          "year": 2018
         },
         {
          "month": "June",
          "year": 2018
         },
         {
          "month": "March",
          "year": 2018
         },
         {
          "month": "April",
          "year": 2019
         },
         {
          "month": "February",
          "year": 2017
         },
         {
          "month": "February",
          "year": 2017
         },
         {
          "month": "March",
          "year": 2017
         },
         {
          "month": "August",
          "year": 2017
         },
         {
          "month": "April",
          "year": 2017
         },
         {
          "month": "February",
          "year": 2016
         },
         {
          "month": "August",
          "year": 2016
         },
         {
          "month": "July",
          "year": 2016
         },
         {
          "month": "May",
          "year": 2016
         },
         {
          "month": "March",
          "year": 2015
         },
         {
          "month": "March",
          "year": 2016
         },
         {
          "month": "September",
          "year": 2015
         },
         {
          "month": "January",
          "year": 2016
         },
         {
          "month": "January",
          "year": 2016
         },
         {
          "month": "January",
          "year": 2016
         },
         {
          "month": "February",
          "year": 2016
         },
         {
          "month": "March",
          "year": 2015
         },
         {
          "month": "September",
          "year": 2015
         },
         {
          "month": "January",
          "year": 2015
         },
         {
          "month": "January",
          "year": 2015
         },
         {
          "month": "February",
          "year": 2015
         },
         {
          "month": "January",
          "year": 2015
         },
         {
          "month": "March",
          "year": 2015
         },
         {
          "month": "June",
          "year": 2015
         },
         {
          "month": "August",
          "year": 2015
         },
         {
          "month": "September",
          "year": 2015
         },
         {
          "month": "January",
          "year": 2015
         },
         {
          "month": "April",
          "year": 2015
         },
         {
          "month": "March",
          "year": 2015
         },
         {
          "month": "August",
          "year": 2014
         },
         {
          "month": "Missing",
          "year": 2014
         },
         {
          "month": "March",
          "year": 2014
         },
         {
          "month": "Missing",
          "year": 2014
         },
         {
          "month": "August",
          "year": 2014
         },
         {
          "month": "July",
          "year": 2014
         },
         {
          "month": "January",
          "year": 2017
         },
         {
          "month": "January",
          "year": 2015
         },
         {
          "month": "June",
          "year": 2018
         },
         {
          "month": "July",
          "year": 2018
         },
         {
          "month": "July",
          "year": 2017
         },
         {
          "month": "Missing",
          "year": 2017
         },
         {
          "month": "September",
          "year": 2017
         },
         {
          "month": "August",
          "year": 2017
         },
         {
          "month": "August",
          "year": 2016
         },
         {
          "month": "August",
          "year": 2017
         },
         {
          "month": "February",
          "year": 2014
         },
         {
          "month": "January",
          "year": 2013
         }
        ]
       },
       "encoding": {
        "x": {
         "field": "month",
         "type": "nominal"
        },
        "y": {
         "aggregate": "count",
         "field": "*",
         "type": "quantitative"
        }
       },
       "mark": "bar"
      },
      "image/png": "[encoded data removed]",
      "image/svg+xml": [
       "<svg class=\"marks\" width=\"244\" height=\"286\" viewBox=\"0 0 244 286\" version=\"1.1\" xmlns=\"http://www.w3.org/2000/svg\" xmlns:xlink=\"http://www.w3.org/1999/xlink\"><g transform=\"translate(39,10)\"><g class=\"mark-group role-frame root\"><g transform=\"translate(0,0)\"><path class=\"background\" d=\"M0.5,0.5h200v200h-200Z\" style=\"fill: none; stroke: #ddd;\"></path><g><g class=\"mark-group role-axis\"><g transform=\"translate(0.5,0.5)\"><path class=\"background\" d=\"M0,0h0v0h0Z\" style=\"pointer-events: none; fill: none;\"></path><g><g class=\"mark-rule role-axis-grid\" style=\"pointer-events: none;\"><line transform=\"translate(0,200)\" x2=\"200\" y2=\"0\" style=\"fill: none; stroke: #ddd; stroke-width: 1; opacity: 1;\"></line><line transform=\"translate(0,150)\" x2=\"200\" y2=\"0\" style=\"fill: none; stroke: #ddd; stroke-width: 1; opacity: 1;\"></line><line transform=\"translate(0,100)\" x2=\"200\" y2=\"0\" style=\"fill: none; stroke: #ddd; stroke-width: 1; opacity: 1;\"></line><line transform=\"translate(0,50)\" x2=\"200\" y2=\"0\" style=\"fill: none; stroke: #ddd; stroke-width: 1; opacity: 1;\"></line><line transform=\"translate(0,0)\" x2=\"200\" y2=\"0\" style=\"fill: none; stroke: #ddd; stroke-width: 1; opacity: 1;\"></line></g></g></g></g><g class=\"mark-rect role-mark marks\"><path d=\"M181,140h18v60h-18Z\" style=\"fill: #4c78a8;\"></path><path d=\"M141,155h18v45h-18Z\" style=\"fill: #4c78a8;\"></path><path d=\"M161,115h18v85h-18Z\" style=\"fill: #4c78a8;\"></path><path d=\"M1,110h18v90h-18Z\" style=\"fill: #4c78a8;\"></path><path d=\"M121,65h18v135h-18Z\" style=\"fill: #4c78a8;\"></path><path d=\"M61,20h18v180h-18Z\" style=\"fill: #4c78a8;\"></path><path d=\"M41,115h18v85h-18Z\" style=\"fill: #4c78a8;\"></path><path d=\"M21,125h18v75h-18Z\" style=\"fill: #4c78a8;\"></path><path d=\"M101,125h18v75h-18Z\" style=\"fill: #4c78a8;\"></path><path d=\"M81,155h18v45h-18Z\" style=\"fill: #4c78a8;\"></path></g><g class=\"mark-group role-axis\"><g transform=\"translate(0.5,200.5)\"><path class=\"background\" d=\"M0,0h0v0h0Z\" style=\"pointer-events: none; fill: none;\"></path><g><g class=\"mark-rule role-axis-tick\" style=\"pointer-events: none;\"><line transform=\"translate(9,0)\" x2=\"0\" y2=\"5\" style=\"fill: none; stroke: #888; stroke-width: 1; opacity: 1;\"></line><line transform=\"translate(29,0)\" x2=\"0\" y2=\"5\" style=\"fill: none; stroke: #888; stroke-width: 1; opacity: 1;\"></line><line transform=\"translate(49,0)\" x2=\"0\" y2=\"5\" style=\"fill: none; stroke: #888; stroke-width: 1; opacity: 1;\"></line><line transform=\"translate(69,0)\" x2=\"0\" y2=\"5\" style=\"fill: none; stroke: #888; stroke-width: 1; opacity: 1;\"></line><line transform=\"translate(89,0)\" x2=\"0\" y2=\"5\" style=\"fill: none; stroke: #888; stroke-width: 1; opacity: 1;\"></line><line transform=\"translate(109,0)\" x2=\"0\" y2=\"5\" style=\"fill: none; stroke: #888; stroke-width: 1; opacity: 1;\"></line><line transform=\"translate(129,0)\" x2=\"0\" y2=\"5\" style=\"fill: none; stroke: #888; stroke-width: 1; opacity: 1;\"></line><line transform=\"translate(149,0)\" x2=\"0\" y2=\"5\" style=\"fill: none; stroke: #888; stroke-width: 1; opacity: 1;\"></line><line transform=\"translate(169,0)\" x2=\"0\" y2=\"5\" style=\"fill: none; stroke: #888; stroke-width: 1; opacity: 1;\"></line><line transform=\"translate(189,0)\" x2=\"0\" y2=\"5\" style=\"fill: none; stroke: #888; stroke-width: 1; opacity: 1;\"></line></g><g class=\"mark-text role-axis-label\" style=\"pointer-events: none;\"><text text-anchor=\"end\" transform=\"translate(9,7) rotate(270) translate(0,3)\" style=\"font-family: sans-serif; font-size: 10px; fill: #000; opacity: 1;\">April</text><text text-anchor=\"end\" transform=\"translate(29,7) rotate(270) translate(0,3)\" style=\"font-family: sans-serif; font-size: 10px; fill: #000; opacity: 1;\">August</text><text text-anchor=\"end\" transform=\"translate(49,7) rotate(270) translate(0,3)\" style=\"font-family: sans-serif; font-size: 10px; fill: #000; opacity: 1;\">February</text><text text-anchor=\"end\" transform=\"translate(69,7) rotate(270) translate(0,3)\" style=\"font-family: sans-serif; font-size: 10px; fill: #000; opacity: 1;\">January</text><text text-anchor=\"end\" transform=\"translate(89,7) rotate(270) translate(0,3)\" style=\"font-family: sans-serif; font-size: 10px; fill: #000; opacity: 1;\">July</text><text text-anchor=\"end\" transform=\"translate(109,7) rotate(270) translate(0,3)\" style=\"font-family: sans-serif; font-size: 10px; fill: #000; opacity: 1;\">June</text><text text-anchor=\"end\" transform=\"translate(129,7) rotate(270) translate(0,3)\" style=\"font-family: sans-serif; font-size: 10px; fill: #000; opacity: 1;\">March</text><text text-anchor=\"end\" transform=\"translate(149,7) rotate(270) translate(0,3)\" style=\"font-family: sans-serif; font-size: 10px; fill: #000; opacity: 1;\">May</text><text text-anchor=\"end\" transform=\"translate(169,7) rotate(270) translate(0,3)\" style=\"font-family: sans-serif; font-size: 10px; fill: #000; opacity: 1;\">Missing</text><text text-anchor=\"end\" transform=\"translate(189,7) rotate(270) translate(0,3)\" style=\"font-family: sans-serif; font-size: 10px; fill: #000; opacity: 1;\">September</text></g><g class=\"mark-rule role-axis-domain\" style=\"pointer-events: none;\"><line transform=\"translate(0,0)\" x2=\"200\" y2=\"0\" style=\"fill: none; stroke: #888; stroke-width: 1; opacity: 1;\"></line></g><g class=\"mark-text role-axis-title\" style=\"pointer-events: none;\"><text text-anchor=\"middle\" transform=\"translate(100,68.916015625)\" style=\"font-family: sans-serif; font-size: 11px; font-weight: bold; fill: #000; opacity: 1;\">month</text></g></g></g></g><g class=\"mark-group role-axis\"><g transform=\"translate(0.5,0.5)\"><path class=\"background\" d=\"M0,0h0v0h0Z\" style=\"pointer-events: none; fill: none;\"></path><g><g class=\"mark-rule role-axis-tick\" style=\"pointer-events: none;\"><line transform=\"translate(0,200)\" x2=\"-5\" y2=\"0\" style=\"fill: none; stroke: #888; stroke-width: 1; opacity: 1;\"></line><line transform=\"translate(0,150)\" x2=\"-5\" y2=\"0\" style=\"fill: none; stroke: #888; stroke-width: 1; opacity: 1;\"></line><line transform=\"translate(0,100)\" x2=\"-5\" y2=\"0\" style=\"fill: none; stroke: #888; stroke-width: 1; opacity: 1;\"></line><line transform=\"translate(0,50)\" x2=\"-5\" y2=\"0\" style=\"fill: none; stroke: #888; stroke-width: 1; opacity: 1;\"></line><line transform=\"translate(0,0)\" x2=\"-5\" y2=\"0\" style=\"fill: none; stroke: #888; stroke-width: 1; opacity: 1;\"></line></g><g class=\"mark-text role-axis-label\" style=\"pointer-events: none;\"><text text-anchor=\"end\" transform=\"translate(-7,203)\" style=\"font-family: sans-serif; font-size: 10px; fill: #000; opacity: 1;\">0</text><text text-anchor=\"end\" transform=\"translate(-7,153)\" style=\"font-family: sans-serif; font-size: 10px; fill: #000; opacity: 1;\">10</text><text text-anchor=\"end\" transform=\"translate(-7,103)\" style=\"font-family: sans-serif; font-size: 10px; fill: #000; opacity: 1;\">20</text><text text-anchor=\"end\" transform=\"translate(-7,53)\" style=\"font-family: sans-serif; font-size: 10px; fill: #000; opacity: 1;\">30</text><text text-anchor=\"end\" transform=\"translate(-7,3)\" style=\"font-family: sans-serif; font-size: 10px; fill: #000; opacity: 1;\">40</text></g><g class=\"mark-rule role-axis-domain\" style=\"pointer-events: none;\"><line transform=\"translate(0,200)\" x2=\"0\" y2=\"-200\" style=\"fill: none; stroke: #888; stroke-width: 1; opacity: 1;\"></line></g><g class=\"mark-text role-axis-title\" style=\"pointer-events: none;\"><text text-anchor=\"middle\" transform=\"translate(-22.123046875,100) rotate(-90) translate(0,-2)\" style=\"font-family: sans-serif; font-size: 11px; font-weight: bold; fill: #000; opacity: 1;\">Count of Records</text></g></g></g></g></g></g></g></g></svg>"
      ],
      "text/plain": [
       "VegaLite.VLSpec{:plot}"
      ]
     },
     "execution_count": 25,
     "metadata": {},
     "output_type": "execute_result"
    }
   ],
   "source": [
    "vl\"\"\"{\n",
    "  \"data\": {\n",
    "    \"name\": \"source\"\n",
    "  },\n",
    "  \"mark\": \"bar\",\n",
    "  \"encoding\": {\n",
    "    \"x\": {\n",
    "      \"field\": \"month\",\n",
    "      \"type\": \"nominal\"\n",
    "    },\n",
    "    \"y\": {\n",
    "      \"aggregate\": \"count\",\n",
    "      \"field\": \"*\",\n",
    "      \"type\": \"quantitative\"\n",
    "    }\n",
    "  },\n",
    "  \"config\": {\n",
    "    \"overlay\": {\n",
    "      \"line\": true\n",
    "    },\n",
    "    \"scale\": {\n",
    "      \"useUnaggregatedDomain\": true\n",
    "    }\n",
    "  }\n",
    "}\"\"\"(small_data)"
   ]
  },
  {
   "cell_type": "code",
   "execution_count": 4,
   "metadata": {
    "slideshow": {
     "slide_type": "-"
    }
   },
   "outputs": [],
   "source": [
    "# create the corpus\n",
    "sds = []\n",
    "rows = eachrow(data)\n",
    "for x in rows\n",
    "    if x.abstract != \"Missing\"\n",
    "        push!(sds, StringDocument(x.abstract))\n",
    "    else\n",
    "        push!(sds, StringDocument(x.title))\n",
    "    end\n",
    "end\n",
    "\n",
    "# sds = map(x -> StringDocument(x.abstract), eachrow(data))\n",
    "corpus = Corpus(sds)\n",
    "\n",
    "# clean up the data\n",
    "sds = map(x->remove_corrupt_utf8!(x), sds)\n",
    "prepare!(corpus, strip_articles| strip_non_letters| strip_stopwords| strip_pronouns|strip_html_tags)\n",
    "remove_case!(corpus)\n",
    "remove_words!(corpus, [\"\\n\", \"a\"])\n",
    "\n",
    "# set up the lexicon\n",
    "lexicon(corpus)\n",
    "update_lexicon!(corpus)\n",
    "\n",
    "\n",
    "# light stemming - combine simple 's' plurals with their singular (e.g. models == model)\n",
    "pairs = Pair{String, String}[]\n",
    "for (k, v) in lexicon(corpus)\n",
    "    if k[end] == 's' && haskey(lexicon(corpus), k[1:end-1])\n",
    "        push!(pairs, k => k[1:end-1])\n",
    "    end\n",
    "end\n",
    "\n",
    "#remove words that were not stripped with one letter\n",
    "for (w, f) in lexicon(corpus)\n",
    "    if length(w) == 1\n",
    "        delete!(lexicon(corpus),w)\n",
    "    end\n",
    "end\n",
    "update_lexicon!(corpus)\n",
    "\n",
    "# replace plurals and update the lexicon\n",
    "for doc in corpus\n",
    "    for pair in pairs\n",
    "        doc.text = replace(doc.text, pair)\n",
    "    end\n",
    "end\n",
    "update_lexicon!(corpus)\n",
    "\n",
    "# set up inverse index\n",
    "inverse_index(corpus)\n",
    "update_inverse_index!(corpus)\n",
    "\n"
   ]
  },
  {
   "cell_type": "code",
   "execution_count": 18,
   "metadata": {},
   "outputs": [
    {
     "data": {
      "text/plain": [
       "175×2178 SparseArrays.SparseMatrixCSC{Float64,Int64} with 4153 stored entries:\n",
       "  [30  ,    1]  =  0.406513\n",
       "  [48  ,    1]  =  0.0271008\n",
       "  [169 ,    2]  =  0.0326885\n",
       "  [88  ,    3]  =  1.2912\n",
       "  [22  ,    4]  =  0.0202297\n",
       "  [83  ,    4]  =  0.0262334\n",
       "  [123 ,    4]  =  0.0347536\n",
       "  [19  ,    5]  =  0.508272\n",
       "  [138 ,    5]  =  0.451797\n",
       "  [145 ,    5]  =  0.451797\n",
       "  [169 ,    6]  =  0.065377\n",
       "  [39  ,    7]  =  0.040285\n",
       "  ⋮\n",
       "  [15  , 2172]  =  0.0487034\n",
       "  [27  , 2172]  =  0.0395039\n",
       "  [39  , 2172]  =  0.0320302\n",
       "  [103 , 2172]  =  0.296279\n",
       "  [172 , 2172]  =  0.0587661\n",
       "  [13  , 2173]  =  0.322799\n",
       "  [7   , 2174]  =  0.638806\n",
       "  [18  , 2174]  =  0.558955\n",
       "  [83  , 2175]  =  0.0999636\n",
       "  [83  , 2176]  =  0.0333212\n",
       "  [138 , 2177]  =  0.573865\n",
       "  [46  , 2178]  =  0.573865"
      ]
     },
     "execution_count": 18,
     "metadata": {},
     "output_type": "execute_result"
    }
   ],
   "source": [
    "m =  DocumentTermMatrix(corpus)\n",
    "tfidf = tf_idf(m)"
   ]
  },
  {
   "cell_type": "code",
   "execution_count": 5,
   "metadata": {},
   "outputs": [],
   "source": [
    "# bi-grams - find common two word phrases\n",
    "\n",
    "bg = NGramDocument[]\n",
    "\n",
    "for d in corpus\n",
    "    push!(bg, NGramDocument(ngrams(d, 2), 1, d.metadata))\n",
    "end\n",
    "\n",
    "bg_corpus = Corpus(bg)\n",
    "\n",
    "# set up inverse index\n",
    "inverse_index(bg_corpus)\n",
    "update_inverse_index!(bg_corpus)\n",
    "\n",
    "# set up the lexicon\n",
    "lexicon(bg_corpus)\n",
    "update_lexicon!(bg_corpus)"
   ]
  },
  {
   "cell_type": "code",
   "execution_count": 6,
   "metadata": {},
   "outputs": [],
   "source": [
    "# tri-grams - find common three word phrases\n",
    "\n",
    "tg = NGramDocument[]\n",
    "\n",
    "for d in corpus\n",
    "    push!(tg, NGramDocument(ngrams(d, 3), 1, d.metadata))\n",
    "end\n",
    "\n",
    "tg_corpus = Corpus(tg)\n",
    "\n",
    "# set up inverse index\n",
    "inverse_index(tg_corpus)\n",
    "update_inverse_index!(tg_corpus)\n",
    "\n",
    "# set up the lexicon\n",
    "lexicon(tg_corpus)\n",
    "update_lexicon!(tg_corpus)"
   ]
  },
  {
   "cell_type": "code",
   "execution_count": 7,
   "metadata": {},
   "outputs": [
    {
     "data": {
      "text/plain": [
       "subgram_count (generic function with 1 method)"
      ]
     },
     "execution_count": 7,
     "metadata": {},
     "output_type": "execute_result"
    }
   ],
   "source": [
    "# get overall count of a term in the n+1 gram's dictionary\n",
    "function subgram_count(term, np1grams)\n",
    "    count = 0\n",
    "    for (k, v) in np1grams\n",
    "        if occursin(term, k)\n",
    "            count += v\n",
    "        end\n",
    "    end\n",
    "    \n",
    "    return count\n",
    "end"
   ]
  },
  {
   "cell_type": "code",
   "execution_count": 8,
   "metadata": {},
   "outputs": [
    {
     "data": {
      "text/plain": [
       "remove_ngrams (generic function with 1 method)"
      ]
     },
     "execution_count": 8,
     "metadata": {},
     "output_type": "execute_result"
    }
   ],
   "source": [
    "\n",
    "# prune and combine an n gram with it's n+1 gram given a cut off count\n",
    "function remove_ngrams(ngrams, np1grams, cut_off)\n",
    "    new_ngrams = Dict{String, Int}()\n",
    "    for (k, v) in ngrams\n",
    "        new_count = v - subgram_count(k, np1grams)\n",
    "        if new_count > cut_off\n",
    "            new_ngrams[k] = new_count\n",
    "        end\n",
    "    end\n",
    "    \n",
    "    return merge(new_ngrams, np1grams)\n",
    "end"
   ]
  },
  {
   "cell_type": "code",
   "execution_count": 9,
   "metadata": {},
   "outputs": [
    {
     "data": {
      "text/plain": [
       "remove_ngrams (generic function with 2 methods)"
      ]
     },
     "execution_count": 9,
     "metadata": {},
     "output_type": "execute_result"
    }
   ],
   "source": [
    "function remove_ngrams(ngrams, cut_off)\n",
    "    new_ngrams = Dict{String, Int}()\n",
    "    for (k, v) in ngrams\n",
    "        if v > cut_off\n",
    "            new_ngrams[k] = v\n",
    "        end\n",
    "    end\n",
    "    \n",
    "    return new_ngrams\n",
    "end"
   ]
  },
  {
   "cell_type": "code",
   "execution_count": 10,
   "metadata": {},
   "outputs": [
    {
     "data": {
      "text/html": [
       "<table class=\"data-frame\"><thead><tr><th></th><th>variable</th><th>mean</th><th>min</th><th>median</th><th>max</th><th>nunique</th><th>nmissing</th><th>eltype</th></tr><tr><th></th><th>Symbol</th><th>Union…</th><th>Any</th><th>Union…</th><th>Any</th><th>Union…</th><th>Nothing</th><th>Type</th></tr></thead><tbody><p>3 rows × 8 columns</p><tr><th>1</th><td>abstract</td><td></td><td>ability</td><td></td><td>zinc</td><td>674</td><td></td><td>String</td></tr><tr><th>2</th><td>freq</td><td>23.8412</td><td>5</td><td>16.0</td><td>176</td><td></td><td></td><td>Int64</td></tr><tr><th>3</th><td>pubs</td><td></td><td>[1, 2, 4, 128]</td><td></td><td>[175]</td><td>527</td><td></td><td>Array</td></tr></tbody></table>"
      ],
      "text/latex": [
       "\\begin{tabular}{r|cccccccc}\n",
       "\t& variable & mean & min & median & max & nunique & nmissing & eltype\\\\\n",
       "\t\\hline\n",
       "\t& Symbol & Union… & Any & Union… & Any & Union… & Nothing & Type\\\\\n",
       "\t\\hline\n",
       "\t1 & abstract &  & ability &  & zinc & 674 &  & String \\\\\n",
       "\t2 & freq & 23.8412 & 5 & 16.0 & 176 &  &  & Int64 \\\\\n",
       "\t3 & pubs &  & [1, 2, 4, 128] &  & [175] & 527 &  & Array \\\\\n",
       "\\end{tabular}\n"
      ],
      "text/plain": [
       "3×8 DataFrame. Omitted printing of 2 columns\n",
       "│ Row │ variable │ mean    │ min            │ median │ max   │ nunique │\n",
       "│     │ \u001b[90mSymbol\u001b[39m   │ \u001b[90mUnion…\u001b[39m  │ \u001b[90mAny\u001b[39m            │ \u001b[90mUnion…\u001b[39m │ \u001b[90mAny\u001b[39m   │ \u001b[90mUnion…\u001b[39m  │\n",
       "├─────┼──────────┼─────────┼────────────────┼────────┼───────┼─────────┤\n",
       "│ 1   │ abstract │         │ ability        │        │ zinc  │ 674     │\n",
       "│ 2   │ freq     │ 23.8412 │ 5              │ 16.0   │ 176   │         │\n",
       "│ 3   │ pubs     │         │ [1, 2, 4, 128] │        │ [175] │ 527     │"
      ]
     },
     "execution_count": 10,
     "metadata": {},
     "output_type": "execute_result"
    }
   ],
   "source": [
    "# combine ngrams and find most common words and phrases\n",
    "tg_cut_off = 2\n",
    "bg_cut_off = 4\n",
    "ug_cut_off = 15\n",
    "\n",
    "pubs_cut_off = 3\n",
    "\n",
    "new_tg = remove_ngrams(lexicon(tg_corpus), tg_cut_off)\n",
    "new_bg = remove_ngrams(lexicon(bg_corpus), new_tg, bg_cut_off)\n",
    "new_ug = remove_ngrams(lexicon(corpus), new_bg, ug_cut_off)\n",
    "\n",
    "\n",
    "# turn the n-grams into tabular data for plotting\n",
    "word_data = NamedTuple{(:abstract, :freq, :pubs), Tuple{String, Int, Array}}[]\n",
    "for (word, count) in new_ug\n",
    "    inds = []\n",
    "    word_len = length(split(word))\n",
    "    if word_len == 3\n",
    "        inds = inverse_index(tg_corpus)[word]\n",
    "    elseif word_len == 2\n",
    "        inds = inverse_index(bg_corpus)[word]\n",
    "    else\n",
    "        inds = inverse_index(corpus)[word]\n",
    "    end\n",
    "\n",
    "    freq = 0\n",
    "    total = 0\n",
    "    for index in inds\n",
    "        allWords = tokens(corpus[index])\n",
    "        total = size(allWords)[1] + total\n",
    "    end\n",
    "    freq = (count/total)*1000\n",
    "    freq = floor(freq)\n",
    "        \n",
    "        \n",
    "    push!(word_data, NamedTuple{(:abstract, :freq, :pubs), Tuple{String, Int, Array}}((word, freq, inds)))\n",
    "\n",
    "#     push!(word_data, NamedTuple{(:abstract, :count, :pubs), Tuple{String, Int, Array}}((word, count * word_len^2, inds)))\n",
    " \n",
    "end\n",
    "\n",
    "word_data |> DataFrame |> describe"
   ]
  },
  {
   "cell_type": "code",
   "execution_count": 11,
   "metadata": {},
   "outputs": [
    {
     "data": {
      "application/vnd.vega.v5+json": {
       "data": [
        {
         "name": "table",
         "values": [
          {
           "abstract": "action",
           "freq": 32,
           "pubs": [
            110,
            122,
            148
           ]
          },
          {
           "abstract": "step",
           "freq": 7,
           "pubs": [
            22,
            83,
            84,
            171
           ]
          },
          {
           "abstract": "photosynthesis",
           "freq": 16,
           "pubs": [
            55,
            62
           ]
          },
          {
           "abstract": "measurement",
           "freq": 15,
           "pubs": [
            15,
            27,
            39,
            83,
            173
           ]
          },
          {
           "abstract": "walk",
           "freq": 25,
           "pubs": [
            169
           ]
          },
          {
           "abstract": "scene",
           "freq": 31,
           "pubs": [
            76,
            104,
            154
           ]
          },
          {
           "abstract": "star",
           "freq": 46,
           "pubs": [
            40,
            63,
            64
           ]
          },
          {
           "abstract": "monte",
           "freq": 17,
           "pubs": [
            14,
            30,
            58,
            170
           ]
          },
          {
           "abstract": "behavioral",
           "freq": 10,
           "pubs": [
            10,
            91
           ]
          },
          {
           "abstract": "support",
           "freq": 13,
           "pubs": [
            40,
            80,
            148,
            165
           ]
          },
          {
           "abstract": "protein",
           "freq": 23,
           "pubs": [
            8,
            22,
            35,
            38,
            54,
            77
           ]
          },
          {
           "abstract": "computational",
           "freq": 23,
           "pubs": [
            14,
            46,
            57,
            80,
            104,
            123,
            141,
            144,
            148,
            154,
            157
           ]
          },
          {
           "abstract": "demontrate",
           "freq": 7,
           "pubs": [
            22,
            28,
            170,
            172,
            175
           ]
          },
          {
           "abstract": "n kg",
           "freq": 18,
           "pubs": [
            169
           ]
          },
          {
           "abstract": "underground",
           "freq": 26,
           "pubs": [
            16,
            26,
            27,
            172,
            174
           ]
          },
          {
           "abstract": "entropic",
           "freq": 58,
           "pubs": [
            11
           ]
          },
          {
           "abstract": "electronic recoil",
           "freq": 24,
           "pubs": [
            27,
            39
           ]
          },
          {
           "abstract": "these",
           "freq": 8,
           "pubs": [
            15,
            40,
            90,
            91
           ]
          },
          {
           "abstract": "stress",
           "freq": 14,
           "pubs": [
            22,
            119
           ]
          },
          {
           "abstract": "zinc",
           "freq": 19,
           "pubs": [
            83
           ]
          },
          {
           "abstract": "methods",
           "freq": 8,
           "pubs": [
            28,
            40,
            117
           ]
          },
          {
           "abstract": "self",
           "freq": 10,
           "pubs": [
            48,
            95,
            148
           ]
          },
          {
           "abstract": "we conider",
           "freq": 10,
           "pubs": [
            14,
            17,
            148
           ]
          },
          {
           "abstract": "molecule",
           "freq": 8,
           "pubs": [
            38,
            48,
            83
           ]
          },
          {
           "abstract": "potential",
           "freq": 19,
           "pubs": [
            14,
            50,
            75,
            76,
            78,
            79,
            122,
            135,
            170,
            175
           ]
          },
          {
           "abstract": "single",
           "freq": 17,
           "pubs": [
            39,
            56,
            62,
            75,
            91,
            117,
            133,
            140,
            152
           ]
          },
          {
           "abstract": "muscular",
           "freq": 25,
           "pubs": [
            90
           ]
          },
          {
           "abstract": "simulation",
           "freq": 24,
           "pubs": [
            11,
            22,
            28,
            32,
            72,
            79
           ]
          },
          {
           "abstract": "large",
           "freq": 17,
           "pubs": [
            16,
            26,
            27,
            69,
            172,
            174
           ]
          },
          {
           "abstract": "precision",
           "freq": 18,
           "pubs": [
            84,
            150,
            151,
            169,
            171
           ]
          },
          {
           "abstract": "available",
           "freq": 7,
           "pubs": [
            76,
            84,
            90,
            169,
            171,
            175
           ]
          },
          {
           "abstract": "period",
           "freq": 9,
           "pubs": [
            76,
            117,
            174
           ]
          },
          {
           "abstract": "mass",
           "freq": 21,
           "pubs": [
            88,
            173,
            174
           ]
          },
          {
           "abstract": "investment",
           "freq": 14,
           "pubs": [
            10
           ]
          },
          {
           "abstract": "leaf",
           "freq": 36,
           "pubs": [
            36
           ]
          },
          {
           "abstract": "particular",
           "freq": 7,
           "pubs": [
            22,
            48,
            62,
            91,
            173
           ]
          },
          {
           "abstract": "dimenional",
           "freq": 14,
           "pubs": [
            2,
            91,
            134,
            143,
            169
           ]
          },
          {
           "abstract": "results",
           "freq": 10,
           "pubs": [
            10,
            15,
            40,
            48,
            84,
            91,
            92,
            117,
            171,
            173,
            174
           ]
          },
          {
           "abstract": "variability",
           "freq": 24,
           "pubs": [
            76,
            138,
            152
           ]
          },
          {
           "abstract": "background",
           "freq": 9,
           "pubs": [
            17,
            76,
            123,
            174
           ]
          },
          {
           "abstract": "user",
           "freq": 28,
           "pubs": [
            37,
            84,
            171
           ]
          },
          {
           "abstract": "massive particle",
           "freq": 16,
           "pubs": [
            15,
            16,
            17,
            26,
            39
           ]
          },
          {
           "abstract": "x ray",
           "freq": 6,
           "pubs": [
            84,
            92,
            169,
            171
           ]
          },
          {
           "abstract": "mechanically untable",
           "freq": 107,
           "pubs": [
            106,
            114,
            129
           ]
          },
          {
           "abstract": "structure",
           "freq": 34,
           "pubs": [
            6,
            14,
            48,
            71,
            80,
            118,
            160
           ]
          },
          {
           "abstract": "mortality",
           "freq": 7,
           "pubs": [
            10,
            50
           ]
          },
          {
           "abstract": "interplay",
           "freq": 10,
           "pubs": [
            48,
            90,
            117
           ]
          },
          {
           "abstract": "catalyst",
           "freq": 42,
           "pubs": [
            34,
            60,
            68,
            81,
            83,
            100,
            101,
            102
           ]
          },
          {
           "abstract": "al",
           "freq": 22,
           "pubs": [
            28,
            115,
            127,
            167,
            175
           ]
          },
          {
           "abstract": "catalysis",
           "freq": 96,
           "pubs": [
            72,
            82,
            111
           ]
          },
          {
           "abstract": "interacting massive",
           "freq": 18,
           "pubs": [
            15,
            16,
            26,
            39
           ]
          },
          {
           "abstract": "free",
           "freq": 14,
           "pubs": [
            14,
            62,
            83,
            106,
            129,
            170
           ]
          },
          {
           "abstract": "motion",
           "freq": 23,
           "pubs": [
            48,
            84,
            92,
            169,
            171
           ]
          },
          {
           "abstract": "thermal",
           "freq": 16,
           "pubs": [
            28,
            80,
            114,
            138
           ]
          },
          {
           "abstract": "implication",
           "freq": 13,
           "pubs": [
            10,
            17,
            59,
            92,
            113
           ]
          },
          {
           "abstract": "lux detector",
           "freq": 12,
           "pubs": [
            27,
            39,
            172
           ]
          },
          {
           "abstract": "classical",
           "freq": 42,
           "pubs": [
            123
           ]
          },
          {
           "abstract": "motion in",
           "freq": 6,
           "pubs": [
            84,
            169,
            171
           ]
          },
          {
           "abstract": "machine learning",
           "freq": 35,
           "pubs": [
            31,
            32,
            36,
            78,
            131
           ]
          },
          {
           "abstract": "task",
           "freq": 12,
           "pubs": [
            10,
            76,
            118,
            175
           ]
          },
          {
           "abstract": "local minima",
           "freq": 26,
           "pubs": [
            14
           ]
          },
          {
           "abstract": "computer vision",
           "freq": 22,
           "pubs": [
            36
           ]
          },
          {
           "abstract": "trot",
           "freq": 25,
           "pubs": [
            169
           ]
          },
          {
           "abstract": "n",
           "freq": 25,
           "pubs": [
            28,
            39,
            41,
            48,
            76,
            102,
            169
           ]
          },
          {
           "abstract": "bacterial",
           "freq": 18,
           "pubs": [
            50
           ]
          },
          {
           "abstract": "lfp",
           "freq": 86,
           "pubs": [
            126,
            133,
            152,
            167
           ]
          },
          {
           "abstract": "carbide",
           "freq": 115,
           "pubs": [
            60,
            68,
            81
           ]
          },
          {
           "abstract": "reducible metal",
           "freq": 17,
           "pubs": [
            83,
            102
           ]
          },
          {
           "abstract": "employ",
           "freq": 8,
           "pubs": [
            22,
            169,
            170
           ]
          },
          {
           "abstract": "cognitive",
           "freq": 18,
           "pubs": [
            10,
            117,
            144,
            157
           ]
          },
          {
           "abstract": "urchin",
           "freq": 36,
           "pubs": [
            40,
            54,
            64,
            67
           ]
          },
          {
           "abstract": "skeletal muscular",
           "freq": 25,
           "pubs": [
            90
           ]
          },
          {
           "abstract": "shifted",
           "freq": 14,
           "pubs": [
            10
           ]
          },
          {
           "abstract": "marker",
           "freq": 34,
           "pubs": [
            70,
            84,
            153,
            169,
            171
           ]
          },
          {
           "abstract": "conducted",
           "freq": 11,
           "pubs": [
            10,
            76
           ]
          },
          {
           "abstract": "rate",
           "freq": 9,
           "pubs": [
            10,
            36,
            83,
            148,
            175
           ]
          },
          {
           "abstract": "untable",
           "freq": 107,
           "pubs": [
            106,
            114,
            129
           ]
          },
          {
           "abstract": "material",
           "freq": 17,
           "pubs": [
            14,
            107,
            124,
            169
           ]
          },
          {
           "abstract": "tracking marker",
           "freq": 13,
           "pubs": [
            84,
            171
           ]
          },
          {
           "abstract": "sequence",
           "freq": 13,
           "pubs": [
            39,
            50,
            51,
            103
           ]
          },
          {
           "abstract": "n n",
           "freq": 34,
           "pubs": [
            41,
            48
           ]
          },
          {
           "abstract": "example",
           "freq": 9,
           "pubs": [
            14,
            62,
            83
           ]
          },
          {
           "abstract": "matlab",
           "freq": 13,
           "pubs": [
            84,
            171
           ]
          },
          {
           "abstract": "species",
           "freq": 21,
           "pubs": [
            35,
            36,
            40,
            100
           ]
          },
          {
           "abstract": "set",
           "freq": 32,
           "pubs": [
            12,
            16,
            18,
            26,
            136,
            170,
            174
           ]
          },
          {
           "abstract": "based xromm",
           "freq": 19,
           "pubs": [
            84,
            171
           ]
          },
          {
           "abstract": "associated",
           "freq": 13,
           "pubs": [
            10,
            39,
            62,
            64,
            76,
            131
           ]
          },
          {
           "abstract": "involved",
           "freq": 24,
           "pubs": [
            50
           ]
          },
          {
           "abstract": "atom",
           "freq": 17,
           "pubs": [
            48,
            75
           ]
          },
          {
           "abstract": "internal",
           "freq": 9,
           "pubs": [
            40,
            48,
            169
           ]
          },
          {
           "abstract": "tools",
           "freq": 9,
           "pubs": [
            84,
            90,
            171
           ]
          },
          {
           "abstract": "helicosporidium",
           "freq": 30,
           "pubs": [
            62
           ]
          },
          {
           "abstract": "recontruction",
           "freq": 10,
           "pubs": [
            92,
            169
           ]
          },
          {
           "abstract": "vacancies",
           "freq": 25,
           "pubs": [
            83
           ]
          },
          {
           "abstract": "term",
           "freq": 17,
           "pubs": [
            10,
            167
           ]
          },
          {
           "abstract": "highly",
           "freq": 6,
           "pubs": [
            10,
            15,
            48,
            76,
            169
           ]
          },
          {
           "abstract": "mathrm",
           "freq": 23,
           "pubs": [
            15,
            27,
            39,
            80
           ]
          },
          {
           "abstract": "model",
           "freq": 22,
           "pubs": [
            3,
            15,
            21,
            22,
            27,
            29,
            40,
            48,
            65,
            69,
            90,
            91,
            92,
            103,
            104,
            117,
            119,
            123,
            127,
            130,
            134,
            140,
            141,
            148,
            154,
            157,
            158,
            169,
            170,
            172,
            175
           ]
          },
          {
           "abstract": "x",
           "freq": 6,
           "pubs": [
            84,
            92,
            169,
            171
           ]
          },
          {
           "abstract": "kev",
           "freq": 26,
           "pubs": [
            27,
            39,
            172,
            173
           ]
          },
          {
           "abstract": "development sea",
           "freq": 125,
           "pubs": [
            54,
            64
           ]
          },
          {
           "abstract": "subject",
           "freq": 6,
           "pubs": [
            22,
            76,
            90
           ]
          },
          {
           "abstract": "shell",
           "freq": 27,
           "pubs": [
            39
           ]
          },
          {
           "abstract": "tan pauses",
           "freq": 28,
           "pubs": [
            148
           ]
          },
          {
           "abstract": "most",
           "freq": 8,
           "pubs": [
            56,
            76,
            84,
            171
           ]
          },
          {
           "abstract": "reveal",
           "freq": 10,
           "pubs": [
            22,
            35,
            36,
            96,
            117,
            123
           ]
          },
          {
           "abstract": "six",
           "freq": 5,
           "pubs": [
            10,
            84,
            171
           ]
          },
          {
           "abstract": "version",
           "freq": 7,
           "pubs": [
            84,
            170,
            171
           ]
          },
          {
           "abstract": "phys",
           "freq": 18,
           "pubs": [
            28
           ]
          },
          {
           "abstract": "marker based xromm",
           "freq": 19,
           "pubs": [
            84,
            171
           ]
          },
          {
           "abstract": "parasite",
           "freq": 22,
           "pubs": [
            62,
            85
           ]
          },
          {
           "abstract": "management",
           "freq": 9,
           "pubs": [
            84,
            168,
            171
           ]
          },
          {
           "abstract": "energies",
           "freq": 15,
           "pubs": [
            27,
            39,
            172
           ]
          },
          {
           "abstract": "classify",
           "freq": 22,
           "pubs": [
            36
           ]
          },
          {
           "abstract": "infection",
           "freq": 9,
           "pubs": [
            50,
            62
           ]
          },
          {
           "abstract": "relation",
           "freq": 137,
           "pubs": [
            60,
            82,
            111,
            121
           ]
          },
          {
           "abstract": "evidence",
           "freq": 8,
           "pubs": [
            48,
            62,
            83,
            123,
            145,
            148
           ]
          },
          {
           "abstract": "tan",
           "freq": 47,
           "pubs": [
            148
           ]
          },
          {
           "abstract": "challenge",
           "freq": 9,
           "pubs": [
            10,
            50,
            72,
            83,
            175
           ]
          },
          {
           "abstract": "perceptual",
           "freq": 22,
           "pubs": [
            104,
            123,
            154
           ]
          },
          {
           "abstract": "flow",
           "freq": 19,
           "pubs": [
            11,
            28
           ]
          },
          {
           "abstract": "image",
           "freq": 21,
           "pubs": [
            20,
            36,
            57,
            76,
            175
           ]
          },
          {
           "abstract": "analyses",
           "freq": 18,
           "pubs": [
            10,
            40,
            49,
            70,
            76,
            165
           ]
          },
          {
           "abstract": "infected",
           "freq": 7,
           "pubs": [
            10,
            22,
            47
           ]
          },
          {
           "abstract": "sites",
           "freq": 19,
           "pubs": [
            83
           ]
          },
          {
           "abstract": "domain",
           "freq": 21,
           "pubs": [
            14,
            28,
            44
           ]
          },
          {
           "abstract": "double",
           "freq": 8,
           "pubs": [
            14,
            92,
            172
           ]
          },
          {
           "abstract": "active",
           "freq": 11,
           "pubs": [
            9,
            83,
            91,
            148,
            172
           ]
          },
          {
           "abstract": "predict",
           "freq": 18,
           "pubs": [
            22,
            122,
            136
           ]
          },
          {
           "abstract": "charge tranfer",
           "freq": 15,
           "pubs": [
            41,
            48,
            96
           ]
          },
          {
           "abstract": "carlo",
           "freq": 17,
           "pubs": [
            14,
            30,
            58,
            170
           ]
          },
          {
           "abstract": "yields",
           "freq": 14,
           "pubs": [
            15,
            27,
            39,
            103,
            172
           ]
          },
          {
           "abstract": "mean",
           "freq": 12,
           "pubs": [
            14,
            15,
            28,
            57,
            84,
            112,
            171
           ]
          },
          {
           "abstract": "weakly",
           "freq": 18,
           "pubs": [
            15,
            16,
            26,
            39
           ]
          },
          {
           "abstract": "defective",
           "freq": 14,
           "pubs": [
            22
           ]
          },
          {
           "abstract": "calibration nuclear recoil",
           "freq": 13,
           "pubs": [
            172,
            173
           ]
          },
          {
           "abstract": "hybrid simulation",
           "freq": 25,
           "pubs": [
            28
           ]
          },
          {
           "abstract": "detection",
           "freq": 21,
           "pubs": [
            24,
            29,
            76,
            131,
            162,
            174
           ]
          },
          {
           "abstract": "close",
           "freq": 11,
           "pubs": [
            40,
            48
           ]
          },
          {
           "abstract": "including",
           "freq": 11,
           "pubs": [
            22,
            40,
            62,
            100,
            173,
            175
           ]
          },
          {
           "abstract": "study",
           "freq": 14,
           "pubs": [
            13,
            17,
            19,
            21,
            40,
            48,
            76,
            83,
            92,
            94,
            99,
            112,
            115,
            153,
            169,
            170
           ]
          },
          {
           "abstract": "predicted",
           "freq": 12,
           "pubs": [
            62,
            92,
            100
           ]
          },
          {
           "abstract": "imaging",
           "freq": 27,
           "pubs": [
            90,
            116,
            122,
            128
           ]
          },
          {
           "abstract": "et al",
           "freq": 14,
           "pubs": [
            28,
            175
           ]
          },
          {
           "abstract": "strain",
           "freq": 38,
           "pubs": [
            33,
            74,
            82,
            90,
            111,
            121
           ]
          },
          {
           "abstract": "feeding",
           "freq": 12,
           "pubs": [
            5,
            84,
            91,
            93,
            166,
            171
           ]
          },
          {
           "abstract": "change",
           "freq": 10,
           "pubs": [
            45,
            148,
            169
           ]
          },
          {
           "abstract": "alcohol",
           "freq": 28,
           "pubs": [
            10
           ]
          },
          {
           "abstract": "analyze",
           "freq": 9,
           "pubs": [
            28,
            36,
            138
           ]
          },
          {
           "abstract": "mechanically",
           "freq": 107,
           "pubs": [
            106,
            114,
            129
           ]
          },
          {
           "abstract": "information",
           "freq": 10,
           "pubs": [
            22,
            76,
            90,
            175
           ]
          },
          {
           "abstract": "via",
           "freq": 96,
           "pubs": [
            3,
            45,
            109,
            134,
            135
           ]
          },
          {
           "abstract": "principles",
           "freq": 19,
           "pubs": [
            13,
            22,
            102,
            114,
            115
           ]
          },
          {
           "abstract": "energy",
           "freq": 28,
           "pubs": [
            11,
            14,
            15,
            17,
            27,
            30,
            39,
            48,
            60,
            72,
            80,
            95,
            106,
            129,
            172,
            173
           ]
          },
          {
           "abstract": "algae",
           "freq": 24,
           "pubs": [
            62
           ]
          },
          {
           "abstract": "monoenergetic",
           "freq": 15,
           "pubs": [
            27,
            173
           ]
          },
          {
           "abstract": "phenomena",
           "freq": 18,
           "pubs": [
            123,
            170
           ]
          },
          {
           "abstract": "biomechanics",
           "freq": 5,
           "pubs": [
            22,
            84,
            171
           ]
          },
          {
           "abstract": "cognition",
           "freq": 103,
           "pubs": [
            99,
            141,
            142
           ]
          },
          {
           "abstract": "reduction",
           "freq": 18,
           "pubs": [
            10,
            62,
            89,
            100,
            102,
            108
           ]
          },
          {
           "abstract": "process",
           "freq": 16,
           "pubs": [
            84,
            92,
            130,
            140,
            143,
            171
           ]
          },
          {
           "abstract": "complex",
           "freq": 10,
           "pubs": [
            36,
            56,
            76,
            92,
            96,
            170,
            175
           ]
          },
          {
           "abstract": "et",
           "freq": 14,
           "pubs": [
            28,
            175
           ]
          },
          {
           "abstract": "novel",
           "freq": 27,
           "pubs": [
            35,
            36,
            87,
            101,
            123
           ]
          },
          {
           "abstract": "force",
           "freq": 6,
           "pubs": [
            10,
            62,
            90,
            91,
            169
           ]
          },
          {
           "abstract": "neuronal",
           "freq": 50,
           "pubs": [
            21,
            163,
            175
           ]
          },
          {
           "abstract": "value",
           "freq": 9,
           "pubs": [
            10,
            11,
            28,
            148
           ]
          },
          {
           "abstract": "sparse",
           "freq": 115,
           "pubs": [
            2,
            109,
            151
           ]
          },
          {
           "abstract": "an",
           "freq": 108,
           "pubs": [
            53,
            87,
            132,
            139
           ]
          },
          {
           "abstract": "effective",
           "freq": 10,
           "pubs": [
            10,
            11,
            148
           ]
          },
          {
           "abstract": "focal seizure",
           "freq": 97,
           "pubs": [
            21,
            155,
            162,
            163
           ]
          },
          {
           "abstract": "relaxation",
           "freq": 9,
           "pubs": [
            22,
            28,
            80
           ]
          },
          {
           "abstract": "reduce",
           "freq": 10,
           "pubs": [
            10,
            28
           ]
          },
          {
           "abstract": "particle",
           "freq": 20,
           "pubs": [
            15,
            16,
            17,
            22,
            26,
            28,
            29,
            39,
            80,
            170
           ]
          },
          {
           "abstract": "multiscale",
           "freq": 14,
           "pubs": [
            22
           ]
          },
          {
           "abstract": "shift",
           "freq": 12,
           "pubs": [
            92,
            123
           ]
          },
          {
           "abstract": "evolutionary",
           "freq": 16,
           "pubs": [
            36,
            40,
            80
           ]
          },
          {
           "abstract": "senitive",
           "freq": 37,
           "pubs": [
            6,
            11,
            29
           ]
          },
          {
           "abstract": "decision",
           "freq": 35,
           "pubs": [
            117,
            147,
            159
           ]
          },
          {
           "abstract": "contextual",
           "freq": 25,
           "pubs": [
            123
           ]
          },
          {
           "abstract": "echinoderm",
           "freq": 68,
           "pubs": [
            40,
            51
           ]
          },
          {
           "abstract": "oxide",
           "freq": 24,
           "pubs": [
            81,
            83
           ]
          },
          {
           "abstract": "flexible",
           "freq": 7,
           "pubs": [
            48,
            117,
            175
           ]
          },
          {
           "abstract": "linkage",
           "freq": 19,
           "pubs": [
            91
           ]
          },
          {
           "abstract": "generate",
           "freq": 7,
           "pubs": [
            10,
            48,
            166
           ]
          },
          {
           "abstract": "math",
           "freq": 33,
           "pubs": [
            172
           ]
          },
          {
           "abstract": "c",
           "freq": 14,
           "pubs": [
            13,
            28,
            34,
            45,
            55,
            83,
            84,
            100,
            171,
            174
           ]
          },
          {
           "abstract": "interface",
           "freq": 8,
           "pubs": [
            28,
            37,
            84,
            171
           ]
          },
          {
           "abstract": "location",
           "freq": 7,
           "pubs": [
            15,
            84,
            171
           ]
          },
          {
           "abstract": "processing",
           "freq": 20,
           "pubs": [
            76,
            123,
            172,
            175
           ]
          },
          {
           "abstract": "resolution",
           "freq": 28,
           "pubs": [
            27,
            66,
            113
           ]
          },
          {
           "abstract": "function",
           "freq": 21,
           "pubs": [
            14,
            28,
            51,
            62,
            77,
            90,
            91,
            93,
            127
           ]
          },
          {
           "abstract": "stage",
           "freq": 8,
           "pubs": [
            10,
            22,
            62,
            144,
            161
           ]
          },
          {
           "abstract": "mars",
           "freq": 16,
           "pubs": [
            42,
            43,
            83
           ]
          },
          {
           "abstract": "ion",
           "freq": 22,
           "pubs": [
            27,
            48,
            94
           ]
          },
          {
           "abstract": "with",
           "freq": 10,
           "pubs": [
            11,
            36,
            48,
            112
           ]
          },
          {
           "abstract": "measured",
           "freq": 15,
           "pubs": [
            27,
            92,
            172,
            173
           ]
          },
          {
           "abstract": "matter",
           "freq": 26,
           "pubs": [
            15,
            16,
            17,
            26,
            27,
            29,
            142,
            153,
            172,
            173
           ]
          },
          {
           "abstract": "recently",
           "freq": 9,
           "pubs": [
            90,
            170,
            175
           ]
          },
          {
           "abstract": "calibration nuclear",
           "freq": 13,
           "pubs": [
            172,
            173
           ]
          },
          {
           "abstract": "driven",
           "freq": 14,
           "pubs": [
            11,
            14,
            76,
            83,
            102
           ]
          },
          {
           "abstract": "facilitate",
           "freq": 12,
           "pubs": [
            80,
            83,
            117
           ]
          },
          {
           "abstract": "it",
           "freq": 8,
           "pubs": [
            10,
            36,
            85,
            117,
            123
           ]
          },
          {
           "abstract": "underground xenon lux",
           "freq": 10,
           "pubs": [
            27,
            172,
            174
           ]
          },
          {
           "abstract": "remain",
           "freq": 8,
           "pubs": [
            10,
            21,
            36,
            123
           ]
          },
          {
           "abstract": "surface",
           "freq": 36,
           "pubs": [
            14,
            72,
            74,
            79,
            83,
            94,
            100,
            164
           ]
          },
          {
           "abstract": "sea urchin",
           "freq": 36,
           "pubs": [
            40,
            54,
            64,
            67
           ]
          },
          {
           "abstract": "scattering",
           "freq": 16,
           "pubs": [
            16,
            26,
            98,
            172,
            173,
            174
           ]
          },
          {
           "abstract": "strike",
           "freq": 30,
           "pubs": [
            91,
            166
           ]
          },
          {
           "abstract": "sea star",
           "freq": 30,
           "pubs": [
            40,
            63,
            64
           ]
          },
          {
           "abstract": "matter experiment",
           "freq": 22,
           "pubs": [
            16,
            26,
            173
           ]
          },
          {
           "abstract": "large underground",
           "freq": 14,
           "pubs": [
            16,
            26,
            27,
            172,
            174
           ]
          },
          {
           "abstract": "comparison",
           "freq": 15,
           "pubs": [
            24,
            27,
            53,
            62
           ]
          },
          {
           "abstract": "capture",
           "freq": 7,
           "pubs": [
            39,
            169,
            175
           ]
          },
          {
           "abstract": "based",
           "freq": 16,
           "pubs": [
            15,
            20,
            22,
            28,
            84,
            92,
            99,
            145,
            157,
            162,
            171,
            173,
            175
           ]
          },
          {
           "abstract": "crassostreae",
           "freq": 37,
           "pubs": [
            50
           ]
          },
          {
           "abstract": "artificial",
           "freq": 25,
           "pubs": [
            28
           ]
          },
          {
           "abstract": "contant",
           "freq": 9,
           "pubs": [
            14,
            48,
            50
           ]
          },
          {
           "abstract": "cortex",
           "freq": 34,
           "pubs": [
            123,
            126,
            133,
            134,
            146,
            152
           ]
          },
          {
           "abstract": "appear",
           "freq": 7,
           "pubs": [
            62,
            76,
            170
           ]
          },
          {
           "abstract": "deep",
           "freq": 50,
           "pubs": [
            49,
            120,
            175
           ]
          },
          {
           "abstract": "oxygen",
           "freq": 32,
           "pubs": [
            83
           ]
          },
          {
           "abstract": "fold",
           "freq": 13,
           "pubs": [
            84,
            171
           ]
          },
          {
           "abstract": "preliminary",
           "freq": 12,
           "pubs": [
            10,
            116,
            153
           ]
          },
          {
           "abstract": "online",
           "freq": 6,
           "pubs": [
            84,
            169,
            171
           ]
          },
          {
           "abstract": "how",
           "freq": 100,
           "pubs": [
            21,
            82,
            111
           ]
          },
          {
           "abstract": "electrocatalyst",
           "freq": 75,
           "pubs": [
            89,
            100,
            108
           ]
          },
          {
           "abstract": "o",
           "freq": 9,
           "pubs": [
            28,
            46,
            83
           ]
          },
          {
           "abstract": "light",
           "freq": 7,
           "pubs": [
            15,
            27,
            62,
            84,
            171,
            172
           ]
          },
          {
           "abstract": "multiple",
           "freq": 16,
           "pubs": [
            1,
            40,
            90,
            91,
            117,
            128,
            173,
            175
           ]
          },
          {
           "abstract": "equation",
           "freq": 12,
           "pubs": [
            17,
            28,
            170
           ]
          },
          {
           "abstract": "observed",
           "freq": 9,
           "pubs": [
            29,
            39,
            91,
            169
           ]
          },
          {
           "abstract": "learning",
           "freq": 45,
           "pubs": [
            31,
            32,
            36,
            78,
            103,
            109,
            117,
            118,
            120,
            121,
            122,
            131,
            136,
            147,
            148,
            160,
            175
           ]
          },
          {
           "abstract": "stimuli",
           "freq": 11,
           "pubs": [
            76,
            123
           ]
          },
          {
           "abstract": "reinforcement",
           "freq": 26,
           "pubs": [
            117,
            136,
            147,
            148
           ]
          },
          {
           "abstract": "decay",
           "freq": 9,
           "pubs": [
            15,
            17,
            39,
            48
           ]
          },
          {
           "abstract": "activity",
           "freq": 20,
           "pubs": [
            25,
            33,
            61,
            68,
            76,
            83,
            162
           ]
          },
          {
           "abstract": "degree",
           "freq": 10,
           "pubs": [
            84,
            91,
            92,
            171
           ]
          },
          {
           "abstract": "illusion",
           "freq": 25,
           "pubs": [
            123
           ]
          },
          {
           "abstract": "reaction",
           "freq": 16,
           "pubs": [
            33,
            76,
            79,
            81,
            83,
            169
           ]
          },
          {
           "abstract": "healthy",
           "freq": 10,
           "pubs": [
            22,
            142,
            169
           ]
          },
          {
           "abstract": "h",
           "freq": 19,
           "pubs": [
            27,
            83,
            89,
            108
           ]
          },
          {
           "abstract": "circuit",
           "freq": 12,
           "pubs": [
            123,
            140,
            175
           ]
          },
          {
           "abstract": "tranfer",
           "freq": 24,
           "pubs": [
            41,
            48,
            96,
            136
           ]
          },
          {
           "abstract": "this",
           "freq": 8,
           "pubs": [
            10,
            11,
            17,
            27,
            62,
            83,
            172,
            173
           ]
          },
          {
           "abstract": "neural",
           "freq": 29,
           "pubs": [
            25,
            80,
            112,
            117,
            120,
            121,
            123,
            136,
            140,
            143,
            148,
            150,
            158,
            175
           ]
          },
          {
           "abstract": "pathway",
           "freq": 45,
           "pubs": [
            2,
            41,
            80
           ]
          },
          {
           "abstract": "electron",
           "freq": 13,
           "pubs": [
            15,
            27,
            39,
            48
           ]
          },
          {
           "abstract": "organism",
           "freq": 13,
           "pubs": [
            40,
            50,
            86,
            87
           ]
          },
          {
           "abstract": "adaptation",
           "freq": 21,
           "pubs": [
            56,
            70,
            90
           ]
          },
          {
           "abstract": "matter particle",
           "freq": 32,
           "pubs": [
            17,
            29
           ]
          },
          {
           "abstract": "eeg",
           "freq": 31,
           "pubs": [
            76,
            147,
            160
           ]
          },
          {
           "abstract": "vision",
           "freq": 22,
           "pubs": [
            36
           ]
          },
          {
           "abstract": "intermediate",
           "freq": 22,
           "pubs": [
            92
           ]
          },
          {
           "abstract": "suggesting",
           "freq": 9,
           "pubs": [
            50,
            76,
            83,
            170
           ]
          },
          {
           "abstract": "resistant",
           "freq": 18,
           "pubs": [
            50
           ]
          },
          {
           "abstract": "indicating",
           "freq": 6,
           "pubs": [
            10,
            169,
            175
           ]
          },
          {
           "abstract": "chamber",
           "freq": 9,
           "pubs": [
            172,
            173,
            174
           ]
          },
          {
           "abstract": "as",
           "freq": 9,
           "pubs": [
            72,
            83,
            92
           ]
          },
          {
           "abstract": "vivo",
           "freq": 10,
           "pubs": [
            90,
            91,
            92,
            169
           ]
          },
          {
           "abstract": "using",
           "freq": 12,
           "pubs": [
            13,
            14,
            15,
            22,
            39,
            40,
            55,
            57,
            76,
            91,
            98,
            101,
            167,
            169,
            172,
            173
           ]
          },
          {
           "abstract": "ray",
           "freq": 8,
           "pubs": [
            39,
            84,
            92,
            169,
            171
           ]
          },
          {
           "abstract": "denity functional",
           "freq": 11,
           "pubs": [
            48,
            80,
            83,
            94,
            100
           ]
          },
          {
           "abstract": "single neuron",
           "freq": 90,
           "pubs": [
            133,
            140,
            152
           ]
          },
          {
           "abstract": "fs",
           "freq": 24,
           "pubs": [
            48
           ]
          },
          {
           "abstract": "form",
           "freq": 16,
           "pubs": [
            90,
            91,
            170
           ]
          },
          {
           "abstract": "peak",
           "freq": 16,
           "pubs": [
            11,
            27,
            173
           ]
          },
          {
           "abstract": "reducible",
           "freq": 23,
           "pubs": [
            83,
            102
           ]
          },
          {
           "abstract": "math processing",
           "freq": 33,
           "pubs": [
            172
           ]
          },
          {
           "abstract": "electric",
           "freq": 12,
           "pubs": [
            39,
            94,
            172
           ]
          },
          {
           "abstract": "wave",
           "freq": 93,
           "pubs": [
            19,
            61,
            126
           ]
          },
          {
           "abstract": "real",
           "freq": 11,
           "pubs": [
            84,
            96,
            120,
            170,
            171
           ]
          },
          {
           "abstract": "experimental",
           "freq": 10,
           "pubs": [
            13,
            22,
            46,
            48,
            83
           ]
          },
          {
           "abstract": "increase",
           "freq": 11,
           "pubs": [
            22,
            72,
            76,
            84,
            105,
            117,
            171
           ]
          },
          {
           "abstract": "extra classical",
           "freq": 25,
           "pubs": [
            123
           ]
          },
          {
           "abstract": "ionization",
           "freq": 7,
           "pubs": [
            39,
            48,
            172
           ]
          },
          {
           "abstract": "reduce alcohol",
           "freq": 14,
           "pubs": [
            10
           ]
          },
          {
           "abstract": "underground xenon",
           "freq": 14,
           "pubs": [
            16,
            26,
            27,
            172,
            174
           ]
          },
          {
           "abstract": "limit",
           "freq": 19,
           "pubs": [
            16,
            26,
            80,
            90,
            174
           ]
          },
          {
           "abstract": "barriers",
           "freq": 13,
           "pubs": [
            11,
            62
           ]
          },
          {
           "abstract": "measure",
           "freq": 21,
           "pubs": [
            15,
            90
           ]
          },
          {
           "abstract": "health",
           "freq": 14,
           "pubs": [
            10
           ]
          },
          {
           "abstract": "charge",
           "freq": 24,
           "pubs": [
            15,
            27,
            41,
            48,
            95,
            96,
            172
           ]
          },
          {
           "abstract": "parasitic",
           "freq": 16,
           "pubs": [
            38,
            62
           ]
          },
          {
           "abstract": "included",
           "freq": 7,
           "pubs": [
            10,
            50
           ]
          },
          {
           "abstract": "nuclear recoil",
           "freq": 30,
           "pubs": [
            27,
            98,
            172,
            173
           ]
          },
          {
           "abstract": "algorithm",
           "freq": 16,
           "pubs": [
            36,
            80,
            131,
            170
           ]
          },
          {
           "abstract": "sampling",
           "freq": 17,
           "pubs": [
            14,
            40,
            58
           ]
          },
          {
           "abstract": "application",
           "freq": 28,
           "pubs": [
            1,
            128,
            169
           ]
          },
          {
           "abstract": "host",
           "freq": 24,
           "pubs": [
            62
           ]
          },
          {
           "abstract": "biology",
           "freq": 30,
           "pubs": [
            40,
            87,
            168
           ]
          },
          {
           "abstract": "p",
           "freq": 9,
           "pubs": [
            48,
            76
           ]
          },
          {
           "abstract": "extended",
           "freq": 17,
           "pubs": [
            48,
            75
           ]
          },
          {
           "abstract": "co reduction",
           "freq": 75,
           "pubs": [
            89,
            100,
            108
           ]
          },
          {
           "abstract": "timing",
           "freq": 30,
           "pubs": [
            104,
            154,
            175
           ]
          },
          {
           "abstract": "shear",
           "freq": 8,
           "pubs": [
            22,
            28
           ]
          },
          {
           "abstract": "deoxygenation",
           "freq": 19,
           "pubs": [
            83
           ]
          },
          {
           "abstract": "component",
           "freq": 8,
           "pubs": [
            22,
            76,
            85
           ]
          },
          {
           "abstract": "effect",
           "freq": 21,
           "pubs": [
            4,
            10,
            61,
            74,
            116,
            123,
            164
           ]
          },
          {
           "abstract": "return investment",
           "freq": 14,
           "pubs": [
            10
           ]
          },
          {
           "abstract": "handle",
           "freq": 12,
           "pubs": [
            14,
            92
           ]
          },
          {
           "abstract": "quality",
           "freq": 9,
           "pubs": [
            84,
            86,
            171
           ]
          },
          {
           "abstract": "bar",
           "freq": 45,
           "pubs": [
            91
           ]
          },
          {
           "abstract": "software",
           "freq": 10,
           "pubs": [
            84,
            91,
            171
           ]
          },
          {
           "abstract": "beyond",
           "freq": 7,
           "pubs": [
            28,
            91,
            117
           ]
          },
          {
           "abstract": "gene",
           "freq": 26,
           "pubs": [
            35,
            50,
            55,
            62,
            64
           ]
          },
          {
           "abstract": "contrained",
           "freq": 9,
           "pubs": [
            17,
            92,
            123
           ]
          },
          {
           "abstract": "delocalization",
           "freq": 11,
           "pubs": [
            48,
            170
           ]
          },
          {
           "abstract": "computational model",
           "freq": 30,
           "pubs": [
            104,
            141,
            148,
            154
           ]
          },
          {
           "abstract": "treatment",
           "freq": 19,
           "pubs": [
            10,
            14,
            69,
            138,
            145
           ]
          },
          {
           "abstract": "role",
           "freq": 11,
           "pubs": [
            83,
            175
           ]
          },
          {
           "abstract": "mechanism",
           "freq": 19,
           "pubs": [
            40,
            50,
            62,
            83,
            91,
            109,
            148,
            175
           ]
          },
          {
           "abstract": "kinematics",
           "freq": 12,
           "pubs": [
            91,
            169
           ]
          },
          {
           "abstract": "investigate",
           "freq": 8,
           "pubs": [
            11,
            15,
            22,
            28
           ]
          },
          {
           "abstract": "hydrogen",
           "freq": 114,
           "pubs": [
            33,
            68,
            74,
            81
           ]
          },
          {
           "abstract": "human",
           "freq": 36,
           "pubs": [
            7,
            21,
            76,
            90,
            110,
            117,
            125,
            147,
            155,
            160,
            162,
            163
           ]
          },
          {
           "abstract": "leading",
           "freq": 7,
           "pubs": [
            14,
            22,
            173
           ]
          },
          {
           "abstract": "develop",
           "freq": 7,
           "pubs": [
            22,
            90,
            170
           ]
          },
          {
           "abstract": "white",
           "freq": 12,
           "pubs": [
            84,
            93,
            142,
            171
           ]
          },
          {
           "abstract": "neutron",
           "freq": 34,
           "pubs": [
            98,
            172,
            173
           ]
          },
          {
           "abstract": "neural network",
           "freq": 19,
           "pubs": [
            80,
            120,
            121,
            175
           ]
          },
          {
           "abstract": "animal",
           "freq": 6,
           "pubs": [
            62,
            84,
            90,
            171
           ]
          },
          {
           "abstract": "bar linkage",
           "freq": 19,
           "pubs": [
            91
           ]
          },
          {
           "abstract": "average",
           "freq": 9,
           "pubs": [
            15,
            39,
            172
           ]
          },
          {
           "abstract": "object",
           "freq": 8,
           "pubs": [
            76,
            84,
            103,
            171,
            175
           ]
          },
          {
           "abstract": "bone",
           "freq": 8,
           "pubs": [
            84,
            90,
            169,
            171
           ]
          },
          {
           "abstract": "machine",
           "freq": 35,
           "pubs": [
            31,
            32,
            36,
            78,
            131
           ]
          },
          {
           "abstract": "cost",
           "freq": 42,
           "pubs": [
            10
           ]
          },
          {
           "abstract": "behavior",
           "freq": 13,
           "pubs": [
            22,
            117,
            146,
            148,
            170
           ]
          },
          {
           "abstract": "nuclear",
           "freq": 22,
           "pubs": [
            27,
            62,
            98,
            172,
            173
           ]
          },
          {
           "abstract": "seizure",
           "freq": 100,
           "pubs": [
            21,
            125,
            135,
            155,
            156,
            162,
            163
           ]
          },
          {
           "abstract": "essential",
           "freq": 9,
           "pubs": [
            10,
            63,
            117
           ]
          },
          {
           "abstract": "immune",
           "freq": 16,
           "pubs": [
            35,
            50
           ]
          },
          {
           "abstract": "cbt",
           "freq": 18,
           "pubs": [
            10
           ]
          },
          {
           "abstract": "r",
           "freq": 18,
           "pubs": [
            28,
            50
           ]
          },
          {
           "abstract": "stable",
           "freq": 16,
           "pubs": [
            6,
            167,
            169
           ]
          },
          {
           "abstract": "variable",
           "freq": 9,
           "pubs": [
            3,
            28,
            36
           ]
          },
          {
           "abstract": "calibration",
           "freq": 16,
           "pubs": [
            27,
            39,
            84,
            98,
            171,
            172,
            173
           ]
          },
          {
           "abstract": "individual",
           "freq": 6,
           "pubs": [
            36,
            76,
            91
           ]
          },
          {
           "abstract": "conider",
           "freq": 7,
           "pubs": [
            10,
            14,
            17,
            148
           ]
          },
          {
           "abstract": "accuracy",
           "freq": 15,
           "pubs": [
            76,
            84,
            171
           ]
          },
          {
           "abstract": "processes",
           "freq": 17,
           "pubs": [
            50,
            159
           ]
          },
          {
           "abstract": "math processing error",
           "freq": 33,
           "pubs": [
            172
           ]
          },
          {
           "abstract": "search",
           "freq": 13,
           "pubs": [
            15,
            27,
            39,
            80,
            101,
            173,
            174
           ]
          },
          {
           "abstract": "monte carlo",
           "freq": 17,
           "pubs": [
            14,
            30,
            58,
            170
           ]
          },
          {
           "abstract": "categorization",
           "freq": 23,
           "pubs": [
            25,
            76,
            104,
            154
           ]
          },
          {
           "abstract": "dual phase",
           "freq": 12,
           "pubs": [
            73,
            172,
            173,
            174
           ]
          },
          {
           "abstract": "contribution",
           "freq": 11,
           "pubs": [
            36,
            123,
            152
           ]
          },
          {
           "abstract": "core",
           "freq": 24,
           "pubs": [
            48
           ]
          },
          {
           "abstract": "dynamic",
           "freq": 25,
           "pubs": [
            11,
            14,
            22,
            28,
            76,
            96,
            107,
            117,
            130,
            134,
            143,
            147,
            152,
            155,
            156,
            175
           ]
          },
          {
           "abstract": "age",
           "freq": 41,
           "pubs": [
            17,
            47,
            116
           ]
          },
          {
           "abstract": "systematic",
           "freq": 12,
           "pubs": [
            24,
            36,
            173
           ]
          },
          {
           "abstract": "natural scene",
           "freq": 31,
           "pubs": [
            76,
            104,
            154
           ]
          },
          {
           "abstract": "obligate",
           "freq": 18,
           "pubs": [
            62
           ]
          },
          {
           "abstract": "minimum",
           "freq": 10,
           "pubs": [
            14,
            80,
            173,
            174
           ]
          },
          {
           "abstract": "properties",
           "freq": 17,
           "pubs": [
            46,
            76,
            103,
            114,
            175
           ]
          },
          {
           "abstract": "economic",
           "freq": 23,
           "pubs": [
            10
           ]
          },
          {
           "abstract": "volume",
           "freq": 9,
           "pubs": [
            172,
            173,
            174
           ]
          },
          {
           "abstract": "deep learning",
           "freq": 22,
           "pubs": [
            120,
            175
           ]
          },
          {
           "abstract": "specific",
           "freq": 13,
           "pubs": [
            22,
            23,
            70
           ]
          },
          {
           "abstract": "cognitive behavioral",
           "freq": 14,
           "pubs": [
            10
           ]
          },
          {
           "abstract": "biomechanical",
           "freq": 8,
           "pubs": [
            22,
            91
           ]
          },
          {
           "abstract": "level",
           "freq": 8,
           "pubs": [
            22,
            36,
            48,
            50,
            62,
            76,
            91,
            146,
            148
           ]
          },
          {
           "abstract": "paper",
           "freq": 5,
           "pubs": [
            10,
            84,
            171
           ]
          },
          {
           "abstract": "deep network",
           "freq": 26,
           "pubs": [
            175
           ]
          },
          {
           "abstract": "low",
           "freq": 13,
           "pubs": [
            10,
            14,
            27,
            34,
            39,
            76,
            80,
            83,
            134,
            143,
            173,
            174
           ]
          },
          {
           "abstract": "hiv",
           "freq": 37,
           "pubs": [
            10,
            47,
            69
           ]
          },
          {
           "abstract": "event",
           "freq": 20,
           "pubs": [
            15,
            39,
            76,
            172
           ]
          },
          {
           "abstract": "tracking",
           "freq": 21,
           "pubs": [
            84,
            159,
            169,
            171
           ]
          },
          {
           "abstract": "ablation",
           "freq": 115,
           "pubs": [
            19,
            138,
            145
           ]
          },
          {
           "abstract": "helicosporidium genome",
           "freq": 18,
           "pubs": [
            62
           ]
          },
          {
           "abstract": "spiking",
           "freq": 93,
           "pubs": [
            130,
            133,
            150,
            152
           ]
          },
          {
           "abstract": "excellent",
           "freq": 6,
           "pubs": [
            40,
            48,
            84,
            171
           ]
          },
          {
           "abstract": "opercular mechanism",
           "freq": 32,
           "pubs": [
            91
           ]
          },
          {
           "abstract": "stochastic",
           "freq": 33,
           "pubs": [
            130,
            148
           ]
          },
          {
           "abstract": "shape",
           "freq": 16,
           "pubs": [
            14,
            20,
            22,
            36,
            80,
            114
           ]
          },
          {
           "abstract": "time projection",
           "freq": 9,
           "pubs": [
            172,
            173,
            174
           ]
          },
          {
           "abstract": "structural",
           "freq": 12,
           "pubs": [
            14,
            22,
            41,
            45,
            48,
            80,
            90,
            96,
            116
           ]
          },
          {
           "abstract": "dependence",
           "freq": 11,
           "pubs": [
            27,
            62
           ]
          },
          {
           "abstract": "the",
           "freq": 21,
           "pubs": [
            10,
            11,
            14,
            28,
            33,
            36,
            38,
            39,
            40,
            45,
            48,
            50,
            57,
            61,
            62,
            66,
            78,
            80,
            91,
            92,
            100,
            106,
            110,
            123,
            146,
            149,
            172,
            173,
            174,
            175
           ]
          },
          {
           "abstract": "these results",
           "freq": 8,
           "pubs": [
            15,
            40,
            91
           ]
          },
          {
           "abstract": "matrix",
           "freq": 11,
           "pubs": [
            50,
            151,
            170
           ]
          },
          {
           "abstract": "leaves",
           "freq": 22,
           "pubs": [
            36
           ]
          },
          {
           "abstract": "population",
           "freq": 18,
           "pubs": [
            6,
            117,
            148
           ]
          },
          {
           "abstract": "hypothesis",
           "freq": 13,
           "pubs": [
            92,
            150,
            174
           ]
          },
          {
           "abstract": "interaction",
           "freq": 12,
           "pubs": [
            22,
            48,
            95,
            117,
            123,
            170,
            173
           ]
          },
          {
           "abstract": "resulting",
           "freq": 6,
           "pubs": [
            22,
            36,
            76
           ]
          },
          {
           "abstract": "requires",
           "freq": 12,
           "pubs": [
            84,
            148,
            171
           ]
          },
          {
           "abstract": "lifetime",
           "freq": 39,
           "pubs": [
            17
           ]
          },
          {
           "abstract": "low energy",
           "freq": 13,
           "pubs": [
            27,
            39,
            80,
            173
           ]
          },
          {
           "abstract": "metal carbide",
           "freq": 115,
           "pubs": [
            60,
            68,
            81
           ]
          },
          {
           "abstract": "lead",
           "freq": 17,
           "pubs": [
            119,
            126,
            172,
            174
           ]
          },
          {
           "abstract": "traditional",
           "freq": 9,
           "pubs": [
            76,
            83,
            165
           ]
          },
          {
           "abstract": "kg",
           "freq": 16,
           "pubs": [
            169,
            174
           ]
          },
          {
           "abstract": "ratio",
           "freq": 8,
           "pubs": [
            10,
            39,
            91
           ]
          },
          {
           "abstract": "space",
           "freq": 13,
           "pubs": [
            14,
            28,
            134,
            158
           ]
          },
          {
           "abstract": "expectation",
           "freq": 22,
           "pubs": [
            15,
            117,
            136
           ]
          },
          {
           "abstract": "binding",
           "freq": 7,
           "pubs": [
            39,
            48,
            175
           ]
          },
          {
           "abstract": "scaling",
           "freq": 150,
           "pubs": [
            60,
            82,
            111
           ]
          },
          {
           "abstract": "processing error",
           "freq": 33,
           "pubs": [
            172
           ]
          },
          {
           "abstract": "combined",
           "freq": 34,
           "pubs": [
            13,
            15,
            46,
            96
           ]
          },
          {
           "abstract": "m",
           "freq": 23,
           "pubs": [
            39,
            76
           ]
          },
          {
           "abstract": "denity",
           "freq": 11,
           "pubs": [
            48,
            80,
            83,
            94,
            100,
            170
           ]
          },
          {
           "abstract": "rl",
           "freq": 31,
           "pubs": [
            117
           ]
          },
          {
           "abstract": "trial",
           "freq": 16,
           "pubs": [
            10,
            117
           ]
          },
          {
           "abstract": "due",
           "freq": 8,
           "pubs": [
            14,
            28,
            40,
            50,
            83,
            127,
            175
           ]
          },
          {
           "abstract": "science",
           "freq": 24,
           "pubs": [
            27,
            72,
            87
           ]
          },
          {
           "abstract": "movement",
           "freq": 21,
           "pubs": [
            90,
            92,
            126,
            152
           ]
          },
          {
           "abstract": "hamiltonian",
           "freq": 31,
           "pubs": [
            170
           ]
          },
          {
           "abstract": "dual",
           "freq": 15,
           "pubs": [
            73,
            93,
            172,
            173,
            174
           ]
          },
          {
           "abstract": "defective rbc",
           "freq": 14,
           "pubs": [
            22
           ]
          },
          {
           "abstract": "symmetry",
           "freq": 26,
           "pubs": [
            14
           ]
          },
          {
           "abstract": "previous",
           "freq": 7,
           "pubs": [
            27,
            36,
            76,
            91
           ]
          },
          {
           "abstract": "nine user",
           "freq": 13,
           "pubs": [
            84,
            171
           ]
          },
          {
           "abstract": "r crassostreae",
           "freq": 30,
           "pubs": [
            50
           ]
          },
          {
           "abstract": "thus",
           "freq": 12,
           "pubs": [
            90,
            175
           ]
          },
          {
           "abstract": "large underground xenon",
           "freq": 14,
           "pubs": [
            16,
            26,
            27,
            172,
            174
           ]
          },
          {
           "abstract": "we employ",
           "freq": 8,
           "pubs": [
            22,
            169,
            170
           ]
          },
          {
           "abstract": "field",
           "freq": 10,
           "pubs": [
            22,
            28,
            39,
            94,
            123,
            135,
            172
           ]
          },
          {
           "abstract": "ct",
           "freq": 17,
           "pubs": [
            131,
            169
           ]
          },
          {
           "abstract": "sea",
           "freq": 86,
           "pubs": [
            12,
            40,
            54,
            63,
            64,
            67
           ]
          },
          {
           "abstract": "dark matter",
           "freq": 23,
           "pubs": [
            15,
            16,
            17,
            26,
            27,
            29,
            172,
            173
           ]
          },
          {
           "abstract": "kenya",
           "freq": 14,
           "pubs": [
            10
           ]
          },
          {
           "abstract": "projection chamber",
           "freq": 9,
           "pubs": [
            172,
            173,
            174
           ]
          },
          {
           "abstract": "integration",
           "freq": 7,
           "pubs": [
            14,
            84,
            171
           ]
          },
          {
           "abstract": "cortical",
           "freq": 30,
           "pubs": [
            51,
            162,
            175
           ]
          },
          {
           "abstract": "provide",
           "freq": 11,
           "pubs": [
            15,
            22,
            48,
            50,
            83,
            95,
            117,
            123,
            173
           ]
          },
          {
           "abstract": "time projection chamber",
           "freq": 9,
           "pubs": [
            172,
            173,
            174
           ]
          },
          {
           "abstract": "acid",
           "freq": 18,
           "pubs": [
            18,
            83
           ]
          },
          {
           "abstract": "produce",
           "freq": 7,
           "pubs": [
            39,
            84,
            171
           ]
          },
          {
           "abstract": "signature",
           "freq": 60,
           "pubs": [
            16,
            26,
            136
           ]
          },
          {
           "abstract": "analysis",
           "freq": 11,
           "pubs": [
            1,
            9,
            10,
            27,
            28,
            39,
            76,
            101,
            117,
            128,
            148,
            169,
            174
           ]
          },
          {
           "abstract": "system",
           "freq": 15,
           "pubs": [
            10,
            11,
            14,
            36,
            40,
            42,
            48,
            76,
            83,
            84,
            90,
            91,
            117,
            148,
            171
           ]
          },
          {
           "abstract": "suggest",
           "freq": 12,
           "pubs": [
            83,
            91,
            148
           ]
          },
          {
           "abstract": "skeletal",
           "freq": 29,
           "pubs": [
            90,
            169
           ]
          },
          {
           "abstract": "disease",
           "freq": 23,
           "pubs": [
            50,
            144
           ]
          },
          {
           "abstract": "in",
           "freq": 10,
           "pubs": [
            10,
            17,
            22,
            28,
            40,
            57,
            69,
            72,
            76,
            83,
            84,
            88,
            92,
            148,
            169,
            170,
            171
           ]
          },
          {
           "abstract": "derived",
           "freq": 5,
           "pubs": [
            10,
            83,
            169
           ]
          },
          {
           "abstract": "oyster",
           "freq": 84,
           "pubs": [
            35,
            50
           ]
          },
          {
           "abstract": "minima",
           "freq": 26,
           "pubs": [
            14
           ]
          },
          {
           "abstract": "liquid",
           "freq": 31,
           "pubs": [
            15,
            27,
            37,
            39,
            98,
            172
           ]
          },
          {
           "abstract": "exhibit",
           "freq": 8,
           "pubs": [
            14,
            27,
            36
           ]
          },
          {
           "abstract": "benefit",
           "freq": 18,
           "pubs": [
            10,
            169
           ]
          },
          {
           "abstract": "weakly interacting",
           "freq": 18,
           "pubs": [
            15,
            16,
            26,
            39
           ]
          },
          {
           "abstract": "visual",
           "freq": 18,
           "pubs": [
            24,
            25,
            36,
            61,
            76,
            123,
            124
           ]
          },
          {
           "abstract": "studying",
           "freq": 11,
           "pubs": [
            40,
            80,
            170
           ]
          },
          {
           "abstract": "quantify",
           "freq": 6,
           "pubs": [
            22,
            28,
            92
           ]
          },
          {
           "abstract": "grfv n kg",
           "freq": 18,
           "pubs": [
            169
           ]
          },
          {
           "abstract": "accurate",
           "freq": 10,
           "pubs": [
            14,
            169
           ]
          },
          {
           "abstract": "rapid",
           "freq": 12,
           "pubs": [
            25,
            48,
            76
           ]
          },
          {
           "abstract": "body",
           "freq": 15,
           "pubs": [
            17,
            84,
            92,
            171
           ]
          },
          {
           "abstract": "error",
           "freq": 15,
           "pubs": [
            4,
            28,
            84,
            91,
            148,
            171,
            172
           ]
          },
          {
           "abstract": "produced",
           "freq": 10,
           "pubs": [
            69,
            91,
            172,
            173
           ]
          },
          {
           "abstract": "spike",
           "freq": 23,
           "pubs": [
            140,
            175
           ]
          },
          {
           "abstract": "source",
           "freq": 10,
           "pubs": [
            84,
            91,
            171,
            172,
            173
           ]
          },
          {
           "abstract": "trait",
           "freq": 136,
           "pubs": [
            56,
            113
           ]
          },
          {
           "abstract": "intervention",
           "freq": 28,
           "pubs": [
            10
           ]
          },
          {
           "abstract": "hybrid",
           "freq": 36,
           "pubs": [
            28,
            78
           ]
          },
          {
           "abstract": "yielded",
           "freq": 9,
           "pubs": [
            48,
            169
           ]
          },
          {
           "abstract": "offers",
           "freq": 14,
           "pubs": [
            11,
            36,
            87
           ]
          },
          {
           "abstract": "aspects",
           "freq": 13,
           "pubs": [
            40,
            175
           ]
          },
          {
           "abstract": "early",
           "freq": 111,
           "pubs": [
            119,
            144,
            162
           ]
          },
          {
           "abstract": "families",
           "freq": 14,
           "pubs": [
            35,
            36,
            50,
            62
           ]
          },
          {
           "abstract": "rib",
           "freq": 75,
           "pubs": [
            92
           ]
          },
          {
           "abstract": "pressure",
           "freq": 18,
           "pubs": [
            11,
            83,
            102
           ]
          },
          {
           "abstract": "region",
           "freq": 10,
           "pubs": [
            28,
            123
           ]
          },
          {
           "abstract": "differential",
           "freq": 15,
           "pubs": [
            50,
            137,
            170
           ]
          },
          {
           "abstract": "xenon lux",
           "freq": 10,
           "pubs": [
            27,
            172,
            174
           ]
          },
          {
           "abstract": "environment",
           "freq": 20,
           "pubs": [
            38,
            90,
            132,
            148
           ]
          },
          {
           "abstract": "dynamically",
           "freq": 26,
           "pubs": [
            129,
            148
           ]
          },
          {
           "abstract": "dft",
           "freq": 9,
           "pubs": [
            48,
            83
           ]
          },
          {
           "abstract": "real time",
           "freq": 11,
           "pubs": [
            84,
            96,
            120,
            171
           ]
          },
          {
           "abstract": "signal",
           "freq": 22,
           "pubs": [
            167,
            172,
            174
           ]
          },
          {
           "abstract": "performed",
           "freq": 14,
           "pubs": [
            28,
            76,
            172
           ]
          },
          {
           "abstract": "genome",
           "freq": 45,
           "pubs": [
            58,
            62,
            70,
            87
           ]
          },
          {
           "abstract": "cascade",
           "freq": 27,
           "pubs": [
            39
           ]
          },
          {
           "abstract": "link",
           "freq": 25,
           "pubs": [
            91
           ]
          },
          {
           "abstract": "however",
           "freq": 6,
           "pubs": [
            22,
            62,
            148,
            175
           ]
          },
          {
           "abstract": "extra",
           "freq": 14,
           "pubs": [
            123,
            169
           ]
          },
          {
           "abstract": "outcome",
           "freq": 14,
           "pubs": [
            10,
            65,
            119,
            148
           ]
          },
          {
           "abstract": "grfv",
           "freq": 25,
           "pubs": [
            169
           ]
          },
          {
           "abstract": "mm",
           "freq": 19,
           "pubs": [
            78,
            84,
            169,
            171
           ]
          },
          {
           "abstract": "abstract",
           "freq": 14,
           "pubs": [
            38,
            56,
            84,
            85,
            91,
            92,
            105
           ]
          },
          {
           "abstract": "directly",
           "freq": 6,
           "pubs": [
            28,
            83,
            90
           ]
          },
          {
           "abstract": "venation",
           "freq": 22,
           "pubs": [
            36
           ]
          },
          {
           "abstract": "senitivity",
           "freq": 12,
           "pubs": [
            10,
            173
           ]
          },
          {
           "abstract": "patient",
           "freq": 7,
           "pubs": [
            10,
            22,
            23
           ]
          },
          {
           "abstract": "equilibrium",
           "freq": 18,
           "pubs": [
            11,
            48
           ]
          },
          {
           "abstract": "n n n",
           "freq": 22,
           "pubs": [
            41,
            48
           ]
          },
          {
           "abstract": "er",
           "freq": 41,
           "pubs": [
            15
           ]
          },
          {
           "abstract": "developmental",
           "freq": 28,
           "pubs": [
            40
           ]
          },
          {
           "abstract": "return",
           "freq": 14,
           "pubs": [
            10
           ]
          },
          {
           "abstract": "xenon",
           "freq": 38,
           "pubs": [
            15,
            16,
            26,
            27,
            39,
            172,
            174
           ]
          },
          {
           "abstract": "massive",
           "freq": 16,
           "pubs": [
            15,
            16,
            17,
            26,
            39
           ]
          },
          {
           "abstract": "v",
           "freq": 11,
           "pubs": [
            15,
            39,
            123,
            153,
            172
           ]
          },
          {
           "abstract": "inight",
           "freq": 11,
           "pubs": [
            22,
            50,
            80,
            87
           ]
          },
          {
           "abstract": "projection",
           "freq": 9,
           "pubs": [
            172,
            173,
            174
           ]
          },
          {
           "abstract": "electronic",
           "freq": 29,
           "pubs": [
            27,
            39
           ]
          },
          {
           "abstract": "lux",
           "freq": 26,
           "pubs": [
            15,
            27,
            39,
            172,
            174
           ]
          },
          {
           "abstract": "xmalab",
           "freq": 52,
           "pubs": [
            84,
            171
           ]
          },
          {
           "abstract": "artificial boundary",
           "freq": 25,
           "pubs": [
            28
           ]
          },
          {
           "abstract": "ev",
           "freq": 10,
           "pubs": [
            39,
            48
           ]
          },
          {
           "abstract": "functional",
           "freq": 12,
           "pubs": [
            48,
            50,
            62,
            80,
            83,
            90,
            94,
            95,
            100,
            128,
            175
           ]
          },
          {
           "abstract": "numerous",
           "freq": 7,
           "pubs": [
            14,
            36,
            83,
            91
           ]
          },
          {
           "abstract": "fractional",
           "freq": 84,
           "pubs": [
            170
           ]
          },
          {
           "abstract": "ribcage",
           "freq": 22,
           "pubs": [
            92
           ]
          },
          {
           "abstract": "dpd",
           "freq": 13,
           "pubs": [
            22,
            28
           ]
          },
          {
           "abstract": "fast",
           "freq": 19,
           "pubs": [
            25,
            48,
            57,
            151
           ]
          },
          {
           "abstract": "diffusion",
           "freq": 14,
           "pubs": [
            11,
            57,
            83,
            153,
            170
           ]
          },
          {
           "abstract": "loss",
           "freq": 10,
           "pubs": [
            22,
            62,
            112
           ]
          },
          {
           "abstract": "freedom",
           "freq": 8,
           "pubs": [
            84,
            91,
            92,
            171
           ]
          },
          {
           "abstract": "rydberg",
           "freq": 32,
           "pubs": [
            48,
            96
           ]
          },
          {
           "abstract": "expression",
           "freq": 11,
           "pubs": [
            50,
            62,
            105
           ]
          },
          {
           "abstract": "interpretation",
           "freq": 9,
           "pubs": [
            27,
            36,
            174
           ]
          },
          {
           "abstract": "marker based",
           "freq": 19,
           "pubs": [
            84,
            171
           ]
          },
          {
           "abstract": "grfv n",
           "freq": 18,
           "pubs": [
            169
           ]
          },
          {
           "abstract": "time",
           "freq": 13,
           "pubs": [
            1,
            10,
            11,
            14,
            36,
            48,
            76,
            84,
            96,
            120,
            128,
            170,
            171,
            172,
            173,
            174
           ]
          },
          {
           "abstract": "calculation",
           "freq": 21,
           "pubs": [
            13,
            30,
            39,
            48,
            78,
            83,
            96,
            107,
            114,
            129
           ]
          },
          {
           "abstract": "xrayproject",
           "freq": 26,
           "pubs": [
            84,
            171
           ]
          },
          {
           "abstract": "fluctuation",
           "freq": 27,
           "pubs": [
            15,
            27,
            28,
            39
           ]
          },
          {
           "abstract": "decoding",
           "freq": 33,
           "pubs": [
            76,
            120,
            134,
            158
           ]
          },
          {
           "abstract": "network",
           "freq": 20,
           "pubs": [
            21,
            22,
            80,
            120,
            121,
            123,
            175
           ]
          },
          {
           "abstract": "text",
           "freq": 14,
           "pubs": [
            15,
            39,
            48
           ]
          },
          {
           "abstract": "boundary",
           "freq": 40,
           "pubs": [
            24,
            28,
            30,
            115,
            164
           ]
          },
          {
           "abstract": "computer",
           "freq": 21,
           "pubs": [
            11,
            36
           ]
          },
          {
           "abstract": "increased",
           "freq": 9,
           "pubs": [
            80,
            92,
            148
           ]
          },
          {
           "abstract": "independent",
           "freq": 15,
           "pubs": [
            55,
            170,
            174
           ]
          },
          {
           "abstract": "enemble",
           "freq": 43,
           "pubs": [
            80,
            109,
            150,
            163
           ]
          },
          {
           "abstract": "first",
           "freq": 12,
           "pubs": [
            10,
            114,
            115
           ]
          },
          {
           "abstract": "contraint dynamic",
           "freq": 25,
           "pubs": [
            28
           ]
          },
          {
           "abstract": "data management",
           "freq": 9,
           "pubs": [
            84,
            168,
            171
           ]
          },
          {
           "abstract": "degree freedom",
           "freq": 8,
           "pubs": [
            84,
            91,
            92,
            171
           ]
          },
          {
           "abstract": "variety",
           "freq": 16,
           "pubs": [
            40,
            123,
            170,
            175
           ]
          },
          {
           "abstract": "complexity",
           "freq": 9,
           "pubs": [
            62,
            72,
            76,
            123
           ]
          },
          {
           "abstract": "functional theory",
           "freq": 9,
           "pubs": [
            48,
            80,
            83,
            100
           ]
          },
          {
           "abstract": "feature",
           "freq": 10,
           "pubs": [
            14,
            36,
            40,
            84,
            123,
            171
           ]
          },
          {
           "abstract": "ability",
           "freq": 6,
           "pubs": [
            22,
            83,
            123
           ]
          },
          {
           "abstract": "increasing",
           "freq": 9,
           "pubs": [
            11,
            62,
            148
           ]
          },
          {
           "abstract": "s",
           "freq": 16,
           "pubs": [
            48,
            85
           ]
          },
          {
           "abstract": "american",
           "freq": 17,
           "pubs": [
            50,
            92
           ]
          },
          {
           "abstract": "j",
           "freq": 18,
           "pubs": [
            28
           ]
          },
          {
           "abstract": "presence",
           "freq": 8,
           "pubs": [
            22,
            28,
            76,
            83,
            100,
            169,
            170
           ]
          },
          {
           "abstract": "data",
           "freq": 20,
           "pubs": [
            10,
            16,
            17,
            26,
            27,
            39,
            43,
            50,
            84,
            122,
            124,
            132,
            168,
            171,
            174
           ]
          },
          {
           "abstract": "target",
           "freq": 8,
           "pubs": [
            28,
            39,
            173
           ]
          },
          {
           "abstract": "standard",
           "freq": 7,
           "pubs": [
            27,
            83,
            84,
            169,
            171
           ]
          },
          {
           "abstract": "d",
           "freq": 13,
           "pubs": [
            57,
            84,
            91,
            169,
            171,
            172
           ]
          },
          {
           "abstract": "extenion",
           "freq": 25,
           "pubs": [
            169
           ]
          },
          {
           "abstract": "theory",
           "freq": 12,
           "pubs": [
            48,
            80,
            83,
            100
           ]
          },
          {
           "abstract": "tranient",
           "freq": 13,
           "pubs": [
            22,
            126,
            133
           ]
          },
          {
           "abstract": "walk trot",
           "freq": 18,
           "pubs": [
            169
           ]
          },
          {
           "abstract": "co",
           "freq": 80,
           "pubs": [
            34,
            55,
            89,
            100,
            108
           ]
          },
          {
           "abstract": "normal",
           "freq": 14,
           "pubs": [
            22
           ]
          },
          {
           "abstract": "tranition",
           "freq": 32,
           "pubs": [
            13,
            62,
            80,
            81,
            108,
            156
           ]
          },
          {
           "abstract": "focal",
           "freq": 100,
           "pubs": [
            21,
            125,
            155,
            162,
            163
           ]
          },
          {
           "abstract": "distortion",
           "freq": 7,
           "pubs": [
            14,
            84,
            171
           ]
          },
          {
           "abstract": "detector",
           "freq": 13,
           "pubs": [
            15,
            27,
            39,
            98,
            172,
            173
           ]
          },
          {
           "abstract": "scaling relation",
           "freq": 150,
           "pubs": [
            60,
            82,
            111
           ]
          },
          {
           "abstract": "xromm",
           "freq": 23,
           "pubs": [
            84,
            92,
            169,
            171
           ]
          },
          {
           "abstract": "deviation",
           "freq": 7,
           "pubs": [
            27,
            92,
            169
           ]
          },
          {
           "abstract": "related",
           "freq": 11,
           "pubs": [
            62,
            76,
            86,
            175
           ]
          },
          {
           "abstract": "atomistic",
           "freq": 21,
           "pubs": [
            14,
            32,
            72
           ]
          },
          {
           "abstract": "strong",
           "freq": 6,
           "pubs": [
            48,
            76,
            83
           ]
          },
          {
           "abstract": "run",
           "freq": 10,
           "pubs": [
            15,
            27,
            39
           ]
          },
          {
           "abstract": "we report",
           "freq": 9,
           "pubs": [
            15,
            39,
            169,
            173,
            174
           ]
          },
          {
           "abstract": "report",
           "freq": 8,
           "pubs": [
            15,
            39,
            76,
            169,
            173,
            174
           ]
          },
          {
           "abstract": "denity functional theory",
           "freq": 9,
           "pubs": [
            48,
            80,
            83,
            100
           ]
          },
          {
           "abstract": "mcpj",
           "freq": 31,
           "pubs": [
            169
           ]
          },
          {
           "abstract": "pattern",
           "freq": 9,
           "pubs": [
            36,
            76,
            92,
            126
           ]
          },
          {
           "abstract": "character",
           "freq": 27,
           "pubs": [
            36,
            59
           ]
          },
          {
           "abstract": "american oyster",
           "freq": 24,
           "pubs": [
            50
           ]
          },
          {
           "abstract": "dark matter experiment",
           "freq": 22,
           "pubs": [
            16,
            26,
            173
           ]
          },
          {
           "abstract": "motor",
           "freq": 24,
           "pubs": [
            91,
            126,
            133,
            134,
            152
           ]
          },
          {
           "abstract": "relationhip",
           "freq": 25,
           "pubs": [
            40,
            49,
            90,
            165
           ]
          },
          {
           "abstract": "illustrate",
           "freq": 7,
           "pubs": [
            14,
            92,
            169
           ]
          },
          {
           "abstract": "evolution",
           "freq": 27,
           "pubs": [
            33,
            59,
            62,
            68,
            70,
            74,
            81,
            89,
            91,
            108,
            113
           ]
          },
          {
           "abstract": "finding",
           "freq": 7,
           "pubs": [
            10,
            22,
            28,
            72,
            80
           ]
          },
          {
           "abstract": "nitrogen",
           "freq": 18,
           "pubs": [
            48
           ]
          },
          {
           "abstract": "our",
           "freq": 6,
           "pubs": [
            22,
            91,
            169,
            170
           ]
          },
          {
           "abstract": "accuracy precision",
           "freq": 13,
           "pubs": [
            84,
            171
           ]
          },
          {
           "abstract": "framework",
           "freq": 11,
           "pubs": [
            22,
            80,
            90,
            139,
            175
           ]
          },
          {
           "abstract": "bone motion",
           "freq": 6,
           "pubs": [
            84,
            169,
            171
           ]
          },
          {
           "abstract": "technique",
           "freq": 13,
           "pubs": [
            14,
            90,
            169,
            173,
            174
           ]
          },
          {
           "abstract": "nine",
           "freq": 13,
           "pubs": [
            84,
            171
           ]
          },
          {
           "abstract": "we",
           "freq": 14,
           "pubs": [
            10,
            11,
            14,
            15,
            17,
            22,
            27,
            28,
            39,
            62,
            76,
            80,
            83,
            84,
            91,
            148,
            169,
            170,
            171,
            172,
            173,
            174,
            175
           ]
          },
          {
           "abstract": "rbc",
           "freq": 79,
           "pubs": [
            22
           ]
          },
          {
           "abstract": "identification",
           "freq": 10,
           "pubs": [
            36,
            44,
            50,
            80
           ]
          },
          {
           "abstract": "reduced",
           "freq": 13,
           "pubs": [
            81,
            83,
            105,
            117,
            173
           ]
          },
          {
           "abstract": "angle",
           "freq": 7,
           "pubs": [
            169,
            172,
            173
           ]
          },
          {
           "abstract": "electric field",
           "freq": 12,
           "pubs": [
            39,
            94,
            172
           ]
          },
          {
           "abstract": "neuron",
           "freq": 46,
           "pubs": [
            130,
            133,
            140,
            148,
            152
           ]
          },
          {
           "abstract": "describe",
           "freq": 6,
           "pubs": [
            48,
            84,
            171
           ]
          },
          {
           "abstract": "rod",
           "freq": 24,
           "pubs": [
            50
           ]
          },
          {
           "abstract": "phase",
           "freq": 21,
           "pubs": [
            13,
            14,
            73,
            76,
            106,
            114,
            126,
            172,
            173,
            174,
            175
           ]
          },
          {
           "abstract": "trancripts",
           "freq": 18,
           "pubs": [
            50
           ]
          },
          {
           "abstract": "human focal seizure",
           "freq": 130,
           "pubs": [
            155,
            162,
            163
           ]
          },
          {
           "abstract": "natural",
           "freq": 31,
           "pubs": [
            76,
            104,
            154
           ]
          },
          {
           "abstract": "recombination",
           "freq": 30,
           "pubs": [
            15,
            27
           ]
          },
          {
           "abstract": "recoil energies",
           "freq": 14,
           "pubs": [
            27,
            172
           ]
          },
          {
           "abstract": "differences",
           "freq": 76,
           "pubs": [
            5,
            64,
            119
           ]
          },
          {
           "abstract": "dark",
           "freq": 23,
           "pubs": [
            15,
            16,
            17,
            26,
            27,
            29,
            172,
            173
           ]
          },
          {
           "abstract": "development",
           "freq": 27,
           "pubs": [
            40,
            54,
            64,
            90,
            119
           ]
          },
          {
           "abstract": "vacancy",
           "freq": 25,
           "pubs": [
            83
           ]
          },
          {
           "abstract": "mediation",
           "freq": 114,
           "pubs": [
            1,
            2,
            4,
            128
           ]
          },
          {
           "abstract": "respone",
           "freq": 14,
           "pubs": [
            15,
            22,
            36,
            50,
            62,
            73,
            98,
            140,
            148,
            173
           ]
          },
          {
           "abstract": "temperature",
           "freq": 14,
           "pubs": [
            14,
            170
           ]
          },
          {
           "abstract": "liquid xenon",
           "freq": 27,
           "pubs": [
            15,
            27,
            39,
            172
           ]
          },
          {
           "abstract": "research",
           "freq": 9,
           "pubs": [
            50,
            84,
            86,
            87,
            171,
            172,
            174
           ]
          },
          {
           "abstract": "suitable",
           "freq": 7,
           "pubs": [
            84,
            171,
            175
           ]
          },
          {
           "abstract": "spatial",
           "freq": 16,
           "pubs": [
            28,
            65,
            126
           ]
          },
          {
           "abstract": "direct",
           "freq": 9,
           "pubs": [
            29,
            36,
            90,
            91,
            174
           ]
          },
          {
           "abstract": "enable",
           "freq": 18,
           "pubs": [
            14,
            25,
            57,
            80,
            90
           ]
          },
          {
           "abstract": "memory",
           "freq": 20,
           "pubs": [
            14,
            47,
            114,
            117,
            124
           ]
          },
          {
           "abstract": "overall",
           "freq": 7,
           "pubs": [
            62,
            92,
            123
           ]
          },
          {
           "abstract": "virus",
           "freq": 130,
           "pubs": [
            7,
            18,
            44
           ]
          },
          {
           "abstract": "test",
           "freq": 10,
           "pubs": [
            10,
            40,
            91,
            95,
            150
           ]
          },
          {
           "abstract": "wimp",
           "freq": 32,
           "pubs": [
            173,
            174
           ]
          },
          {
           "abstract": "free energy",
           "freq": 23,
           "pubs": [
            14,
            106,
            129
           ]
          },
          {
           "abstract": "revealed",
           "freq": 12,
           "pubs": [
            76,
            117
           ]
          },
          {
           "abstract": "generalized",
           "freq": 13,
           "pubs": [
            10,
            156
           ]
          },
          {
           "abstract": "fit",
           "freq": 19,
           "pubs": [
            91
           ]
          },
          {
           "abstract": "dark matter particle",
           "freq": 32,
           "pubs": [
            17,
            29
           ]
          },
          {
           "abstract": "interacting",
           "freq": 21,
           "pubs": [
            15,
            16,
            26,
            39,
            77
           ]
          },
          {
           "abstract": "include",
           "freq": 7,
           "pubs": [
            14,
            39,
            84,
            171
           ]
          },
          {
           "abstract": "deposit",
           "freq": 14,
           "pubs": [
            27,
            42,
            43,
            48
           ]
          },
          {
           "abstract": "reinforcement learning",
           "freq": 22,
           "pubs": [
            117,
            136,
            147,
            148
           ]
          },
          {
           "abstract": "compare",
           "freq": 7,
           "pubs": [
            15,
            28,
            62
           ]
          },
          {
           "abstract": "input",
           "freq": 11,
           "pubs": [
            15,
            22,
            91
           ]
          },
          {
           "abstract": "clustering",
           "freq": 100,
           "pubs": [
            3,
            35,
            118,
            136
           ]
          },
          {
           "abstract": "approach",
           "freq": 24,
           "pubs": [
            14,
            32,
            161,
            175
           ]
          },
          {
           "abstract": "human focal",
           "freq": 125,
           "pubs": [
            125,
            155,
            162,
            163
           ]
          },
          {
           "abstract": "respectively",
           "freq": 6,
           "pubs": [
            48,
            84,
            171,
            172
           ]
          },
          {
           "abstract": "cell",
           "freq": 15,
           "pubs": [
            22,
            23,
            62,
            77
           ]
          },
          {
           "abstract": "dof",
           "freq": 32,
           "pubs": [
            91
           ]
          },
          {
           "abstract": "rotation",
           "freq": 13,
           "pubs": [
            91,
            92,
            169
           ]
          },
          {
           "abstract": "susceptible",
           "freq": 18,
           "pubs": [
            50
           ]
          },
          {
           "abstract": "video",
           "freq": 12,
           "pubs": [
            84,
            139,
            168,
            171
           ]
          },
          {
           "abstract": "lipid",
           "freq": 19,
           "pubs": [
            22
           ]
          },
          {
           "abstract": "here",
           "freq": 12,
           "pubs": [
            21,
            36,
            117,
            123,
            175
           ]
          },
          {
           "abstract": "interacting massive particle",
           "freq": 18,
           "pubs": [
            15,
            16,
            26,
            39
           ]
          },
          {
           "abstract": "senitivity analyses",
           "freq": 14,
           "pubs": [
            10
           ]
          },
          {
           "abstract": "planar",
           "freq": 24,
           "pubs": [
            75,
            91
           ]
          },
          {
           "abstract": "crocodylian",
           "freq": 22,
           "pubs": [
            92
           ]
          },
          {
           "abstract": "recoil",
           "freq": 34,
           "pubs": [
            15,
            16,
            26,
            27,
            39,
            98,
            172,
            173
           ]
          },
          {
           "abstract": "studies",
           "freq": 8,
           "pubs": [
            22,
            36,
            40,
            65,
            76,
            84,
            171
           ]
          },
          {
           "abstract": "selectivity",
           "freq": 68,
           "pubs": [
            89,
            100,
            103
           ]
          },
          {
           "abstract": "on",
           "freq": 115,
           "pubs": [
            98,
            130
           ]
          },
          {
           "abstract": "opercular",
           "freq": 32,
           "pubs": [
            91
           ]
          },
          {
           "abstract": "cm",
           "freq": 10,
           "pubs": [
            15,
            39,
            172,
            174
           ]
          },
          {
           "abstract": "local",
           "freq": 32,
           "pubs": [
            14,
            57,
            135,
            173
           ]
          },
          {
           "abstract": "lipid bilayer",
           "freq": 19,
           "pubs": [
            22
           ]
          },
          {
           "abstract": "contraint",
           "freq": 21,
           "pubs": [
            17,
            28
           ]
          },
          {
           "abstract": "task shifted",
           "freq": 14,
           "pubs": [
            10
           ]
          },
          {
           "abstract": "legwear",
           "freq": 18,
           "pubs": [
            169
           ]
          },
          {
           "abstract": "weakly interacting massive",
           "freq": 18,
           "pubs": [
            15,
            16,
            26,
            39
           ]
          },
          {
           "abstract": "recombination fluctuation",
           "freq": 33,
           "pubs": [
            27
           ]
          },
          {
           "abstract": "latent",
           "freq": 121,
           "pubs": [
            134,
            158,
            159,
            160
           ]
          },
          {
           "abstract": "tranport",
           "freq": 16,
           "pubs": [
            9,
            28,
            153
           ]
          },
          {
           "abstract": "pauses",
           "freq": 28,
           "pubs": [
            148
           ]
          },
          {
           "abstract": "phylogenetic",
           "freq": 32,
           "pubs": [
            36,
            40,
            55,
            59,
            113
           ]
          },
          {
           "abstract": "piwi",
           "freq": 176,
           "pubs": [
            67,
            77
           ]
          },
          {
           "abstract": "motor cortex",
           "freq": 85,
           "pubs": [
            126,
            133,
            134,
            152
           ]
          },
          {
           "abstract": "understanding",
           "freq": 20,
           "pubs": [
            34,
            36,
            71,
            74,
            90,
            91,
            104,
            117,
            154
           ]
          },
          {
           "abstract": "disorder",
           "freq": 18,
           "pubs": [
            22,
            116
           ]
          },
          {
           "abstract": "metal",
           "freq": 42,
           "pubs": [
            60,
            68,
            79,
            81,
            83,
            102,
            108
           ]
          },
          {
           "abstract": "control",
           "freq": 9,
           "pubs": [
            91,
            112,
            148,
            169
           ]
          },
          {
           "abstract": "synchrony",
           "freq": 24,
           "pubs": [
            163,
            175
           ]
          },
          {
           "abstract": "identify",
           "freq": 10,
           "pubs": [
            70,
            91,
            175
           ]
          },
          {
           "abstract": "bilayer",
           "freq": 24,
           "pubs": [
            22
           ]
          },
          {
           "abstract": "spatiotemporal",
           "freq": 111,
           "pubs": [
            125,
            150,
            155,
            156
           ]
          },
          {
           "abstract": "experiment",
           "freq": 17,
           "pubs": [
            11,
            16,
            26,
            29,
            172,
            173,
            174,
            175
           ]
          },
          {
           "abstract": "power",
           "freq": 13,
           "pubs": [
            57,
            83,
            166,
            175
           ]
          },
          {
           "abstract": "hydrogen evolution",
           "freq": 114,
           "pubs": [
            33,
            68,
            74,
            81
           ]
          },
          {
           "abstract": "joint",
           "freq": 10,
           "pubs": [
            84,
            92,
            169,
            171
           ]
          },
          {
           "abstract": "recognition",
           "freq": 11,
           "pubs": [
            36,
            50,
            103,
            139,
            175
           ]
          }
         ]
        }
       ],
       "height": 350,
       "marks": [
        {
         "encode": {
          "enter": {
           "align": {
            "value": "center"
           },
           "baseline": {
            "value": "alphabetic"
           },
           "fill": {
            "field": "freq",
            "scale": "color"
           },
           "text": {
            "field": "abstract"
           }
          },
          "hover": {
           "fillOpacity": {
            "value": 1
           }
          },
          "update": {
           "fillOpacity": [
            {
             "test": "indexof(datum.pubs, hoverID) > 0",
             "value": 1
            },
            {
             "value": 0.3
            }
           ]
          }
         },
         "from": {
          "data": "table"
         },
         "transform": [
          {
           "font": "Helvetica Neue, Arial",
           "fontSize": {
            "field": "datum.freq"
           },
           "fontSizeRange": [
            12,
            56
           ],
           "padding": 2,
           "size": [
            {
             "signal": "width"
            },
            {
             "signal": "height"
            }
           ],
           "text": {
            "field": "text"
           },
           "type": "wordcloud"
          }
         ],
         "type": "text"
        }
       ],
       "padding": 10,
       "scales": [
        {
         "domain": {
          "data": "table",
          "field": "freq"
         },
         "name": "color",
         "range": {
          "scheme": "purpleblue"
         },
         "type": "log"
        }
       ],
       "signals": [
        {
         "name": "hoverID",
         "value": 0
        }
       ],
       "width": 900
      },
      "image/png": "[encoded data removed]",
      "image/svg+xml": [
       "<svg class=\"marks\" width=\"920\" height=\"377\" viewBox=\"0 0 920 377\" version=\"1.1\" xmlns=\"http://www.w3.org/2000/svg\" xmlns:xlink=\"http://www.w3.org/1999/xlink\"><g transform=\"translate(10,17)\"><g class=\"mark-group role-frame root\"><g transform=\"translate(0,0)\"><path class=\"background\" d=\"M0,0h900v350h-900Z\" style=\"fill: none;\"></path><g><g class=\"mark-text role-mark\"><text text-anchor=\"middle\" transform=\"translate(0,0)\" style=\"font-family: sans-serif; font-size: 0px; fill: rgb(84, 156, 199); fill-opacity: 0.3;\">action</text><text text-anchor=\"middle\" transform=\"translate(0,0)\" style=\"font-family: sans-serif; font-size: 0px; fill: rgb(201, 207, 228); fill-opacity: 0.3;\">step</text><text text-anchor=\"middle\" transform=\"translate(0,0)\" style=\"font-family: sans-serif; font-size: 0px; fill: rgb(144, 180, 214); fill-opacity: 0.3;\">photosynthesis</text><text text-anchor=\"middle\" transform=\"translate(0,0)\" style=\"font-family: sans-serif; font-size: 0px; fill: rgb(149, 182, 215); fill-opacity: 0.3;\">measurement</text><text text-anchor=\"middle\" transform=\"translate(0,0)\" style=\"font-family: sans-serif; font-size: 0px; fill: rgb(106, 165, 205); fill-opacity: 0.3;\">walk</text><text text-anchor=\"middle\" transform=\"translate(566,123)\" style=\"font-family: Helvetica Neue, Arial; font-size: 25px; font-style: normal; font-weight: normal; fill: rgb(87, 157, 200); fill-opacity: 0.3;\">scene</text><text text-anchor=\"middle\" transform=\"translate(777,233)\" style=\"font-family: Helvetica Neue, Arial; font-size: 30px; font-style: normal; font-weight: normal; fill: rgb(52, 140, 190); fill-opacity: 0.3;\">star</text><text text-anchor=\"middle\" transform=\"translate(0,0)\" style=\"font-family: sans-serif; font-size: 0px; fill: rgb(139, 178, 213); fill-opacity: 0.3;\">monte</text><text text-anchor=\"middle\" transform=\"translate(268,336)\" style=\"font-family: Helvetica Neue, Arial; font-size: 15px; font-style: normal; font-weight: normal; fill: rgb(178, 196, 222); fill-opacity: 0.3;\">behavioral</text><text text-anchor=\"middle\" transform=\"translate(0,0)\" style=\"font-family: sans-serif; font-size: 0px; fill: rgb(159, 187, 218); fill-opacity: 0.3;\">support</text><text text-anchor=\"middle\" transform=\"translate(0,0)\" style=\"font-family: sans-serif; font-size: 0px; fill: rgb(114, 168, 207); fill-opacity: 0.3;\">protein</text><text text-anchor=\"middle\" transform=\"translate(0,0)\" style=\"font-family: sans-serif; font-size: 0px; fill: rgb(114, 168, 207); fill-opacity: 0.3;\">computational</text><text text-anchor=\"middle\" transform=\"translate(0,0)\" style=\"font-family: sans-serif; font-size: 0px; fill: rgb(201, 207, 228); fill-opacity: 0.3;\">demontrate</text><text text-anchor=\"middle\" transform=\"translate(0,0)\" style=\"font-family: sans-serif; font-size: 0px; fill: rgb(134, 176, 212); fill-opacity: 0.3;\">n kg</text><text text-anchor=\"middle\" transform=\"translate(0,0)\" style=\"font-family: sans-serif; font-size: 0px; fill: rgb(103, 164, 204); fill-opacity: 0.3;\">underground</text><text text-anchor=\"middle\" transform=\"translate(817,43)\" style=\"font-family: Helvetica Neue, Arial; font-size: 33px; font-style: normal; font-weight: normal; fill: rgb(33, 129, 184); fill-opacity: 0.3;\">entropic</text><text text-anchor=\"middle\" transform=\"translate(0,0)\" style=\"font-family: sans-serif; font-size: 0px; fill: rgb(110, 167, 206); fill-opacity: 0.3;\">electronic recoil</text><text text-anchor=\"middle\" transform=\"translate(0,0)\" style=\"font-family: sans-serif; font-size: 0px; fill: rgb(193, 202, 226); fill-opacity: 0.3;\">these</text><text text-anchor=\"middle\" transform=\"translate(0,0)\" style=\"font-family: sans-serif; font-size: 0px; fill: rgb(154, 184, 217); fill-opacity: 0.3;\">stress</text><text text-anchor=\"middle\" transform=\"translate(0,0)\" style=\"font-family: sans-serif; font-size: 0px; fill: rgb(130, 175, 211); fill-opacity: 0.3;\">zinc</text><text text-anchor=\"middle\" transform=\"translate(0,0)\" style=\"font-family: sans-serif; font-size: 0px; fill: rgb(193, 202, 226); fill-opacity: 0.3;\">methods</text><text text-anchor=\"middle\" transform=\"translate(0,0)\" style=\"font-family: sans-serif; font-size: 0px; fill: rgb(178, 196, 222); fill-opacity: 0.3;\">self</text><text text-anchor=\"middle\" transform=\"translate(0,0)\" style=\"font-family: sans-serif; font-size: 0px; fill: rgb(178, 196, 222); fill-opacity: 0.3;\">we conider</text><text text-anchor=\"middle\" transform=\"translate(0,0)\" style=\"font-family: sans-serif; font-size: 0px; fill: rgb(193, 202, 226); fill-opacity: 0.3;\">molecule</text><text text-anchor=\"middle\" transform=\"translate(0,0)\" style=\"font-family: sans-serif; font-size: 0px; fill: rgb(130, 175, 211); fill-opacity: 0.3;\">potential</text><text text-anchor=\"middle\" transform=\"translate(0,0)\" style=\"font-family: sans-serif; font-size: 0px; fill: rgb(139, 178, 213); fill-opacity: 0.3;\">single</text><text text-anchor=\"middle\" transform=\"translate(0,0)\" style=\"font-family: sans-serif; font-size: 0px; fill: rgb(106, 165, 205); fill-opacity: 0.3;\">muscular</text><text text-anchor=\"middle\" transform=\"translate(0,0)\" style=\"font-family: sans-serif; font-size: 0px; fill: rgb(110, 167, 206); fill-opacity: 0.3;\">simulation</text><text text-anchor=\"middle\" transform=\"translate(0,0)\" style=\"font-family: sans-serif; font-size: 0px; fill: rgb(139, 178, 213); fill-opacity: 0.3;\">large</text><text text-anchor=\"middle\" transform=\"translate(0,0)\" style=\"font-family: sans-serif; font-size: 0px; fill: rgb(134, 176, 212); fill-opacity: 0.3;\">precision</text><text text-anchor=\"middle\" transform=\"translate(0,0)\" style=\"font-family: sans-serif; font-size: 0px; fill: rgb(201, 207, 228); fill-opacity: 0.3;\">available</text><text text-anchor=\"middle\" transform=\"translate(0,0)\" style=\"font-family: sans-serif; font-size: 0px; fill: rgb(185, 199, 224); fill-opacity: 0.3;\">period</text><text text-anchor=\"middle\" transform=\"translate(554,328)\" style=\"font-family: Helvetica Neue, Arial; font-size: 21px; font-style: normal; font-weight: normal; fill: rgb(122, 172, 209); fill-opacity: 0.3;\">mass</text><text text-anchor=\"middle\" transform=\"translate(0,0)\" style=\"font-family: sans-serif; font-size: 0px; fill: rgb(154, 184, 217); fill-opacity: 0.3;\">investment</text><text text-anchor=\"middle\" transform=\"translate(659,81)\" style=\"font-family: Helvetica Neue, Arial; font-size: 27px; font-style: normal; font-weight: normal; fill: rgb(73, 151, 196); fill-opacity: 0.3;\">leaf</text><text text-anchor=\"middle\" transform=\"translate(0,0)\" style=\"font-family: sans-serif; font-size: 0px; fill: rgb(201, 207, 228); fill-opacity: 0.3;\">particular</text><text text-anchor=\"middle\" transform=\"translate(0,0)\" style=\"font-family: sans-serif; font-size: 0px; fill: rgb(154, 184, 217); fill-opacity: 0.3;\">dimenional</text><text text-anchor=\"middle\" transform=\"translate(0,0)\" style=\"font-family: sans-serif; font-size: 0px; fill: rgb(178, 196, 222); fill-opacity: 0.3;\">results</text><text text-anchor=\"middle\" transform=\"translate(0,0)\" style=\"font-family: sans-serif; font-size: 0px; fill: rgb(110, 167, 206); fill-opacity: 0.3;\">variability</text><text text-anchor=\"middle\" transform=\"translate(0,0)\" style=\"font-family: sans-serif; font-size: 0px; fill: rgb(185, 199, 224); fill-opacity: 0.3;\">background</text><text text-anchor=\"middle\" transform=\"translate(260,16)\" style=\"font-family: Helvetica Neue, Arial; font-size: 24px; font-style: normal; font-weight: normal; fill: rgb(96, 161, 202); fill-opacity: 0.3;\">user</text><text text-anchor=\"middle\" transform=\"translate(0,0)\" style=\"font-family: sans-serif; font-size: 0px; fill: rgb(144, 180, 214); fill-opacity: 0.3;\">massive particle</text><text text-anchor=\"middle\" transform=\"translate(0,0)\" style=\"font-family: sans-serif; font-size: 0px; fill: rgb(209, 212, 231); fill-opacity: 0.3;\">x ray</text><text text-anchor=\"middle\" transform=\"translate(0,0)\" style=\"font-family: sans-serif; font-size: 0px; fill: rgb(7, 103, 160); fill-opacity: 0.3;\">mechanically untable</text><text text-anchor=\"middle\" transform=\"translate(0,0)\" style=\"font-family: sans-serif; font-size: 0px; fill: rgb(78, 153, 198); fill-opacity: 0.3;\">structure</text><text text-anchor=\"middle\" transform=\"translate(0,0)\" style=\"font-family: sans-serif; font-size: 0px; fill: rgb(201, 207, 228); fill-opacity: 0.3;\">mortality</text><text text-anchor=\"middle\" transform=\"translate(0,0)\" style=\"font-family: sans-serif; font-size: 0px; fill: rgb(178, 196, 222); fill-opacity: 0.3;\">interplay</text><text text-anchor=\"middle\" transform=\"translate(0,0)\" style=\"font-family: sans-serif; font-size: 0px; fill: rgb(59, 144, 192); fill-opacity: 0.3;\">catalyst</text><text text-anchor=\"middle\" transform=\"translate(588,182)\" style=\"font-family: Helvetica Neue, Arial; font-size: 21px; font-style: normal; font-weight: normal; fill: rgb(118, 170, 208); fill-opacity: 0.3;\">al</text><text text-anchor=\"middle\" transform=\"translate(0,0)\" style=\"font-family: sans-serif; font-size: 0px; fill: rgb(9, 108, 166); fill-opacity: 0.3;\">catalysis</text><text text-anchor=\"middle\" transform=\"translate(0,0)\" style=\"font-family: sans-serif; font-size: 0px; fill: rgb(134, 176, 212); fill-opacity: 0.3;\">interacting massive</text><text text-anchor=\"middle\" transform=\"translate(0,0)\" style=\"font-family: sans-serif; font-size: 0px; fill: rgb(154, 184, 217); fill-opacity: 0.3;\">free</text><text text-anchor=\"middle\" transform=\"translate(0,0)\" style=\"font-family: sans-serif; font-size: 0px; fill: rgb(114, 168, 207); fill-opacity: 0.3;\">motion</text><text text-anchor=\"middle\" transform=\"translate(0,0)\" style=\"font-family: sans-serif; font-size: 0px; fill: rgb(144, 180, 214); fill-opacity: 0.3;\">thermal</text><text text-anchor=\"middle\" transform=\"translate(0,0)\" style=\"font-family: sans-serif; font-size: 0px; fill: rgb(159, 187, 218); fill-opacity: 0.3;\">implication</text><text text-anchor=\"middle\" transform=\"translate(0,0)\" style=\"font-family: sans-serif; font-size: 0px; fill: rgb(165, 189, 219); fill-opacity: 0.3;\">lux detector</text><text text-anchor=\"middle\" transform=\"translate(0,0)\" style=\"font-family: sans-serif; font-size: 0px; fill: rgb(59, 144, 192); fill-opacity: 0.3;\">classical</text><text text-anchor=\"middle\" transform=\"translate(0,0)\" style=\"font-family: sans-serif; font-size: 0px; fill: rgb(209, 212, 231); fill-opacity: 0.3;\">motion in</text><text text-anchor=\"middle\" transform=\"translate(0,0)\" style=\"font-family: sans-serif; font-size: 0px; fill: rgb(76, 152, 197); fill-opacity: 0.3;\">machine learning</text><text text-anchor=\"middle\" transform=\"translate(0,0)\" style=\"font-family: sans-serif; font-size: 0px; fill: rgb(165, 189, 219); fill-opacity: 0.3;\">task</text><text text-anchor=\"middle\" transform=\"translate(0,0)\" style=\"font-family: sans-serif; font-size: 0px; fill: rgb(103, 164, 204); fill-opacity: 0.3;\">local minima</text><text text-anchor=\"middle\" transform=\"translate(0,0)\" style=\"font-family: sans-serif; font-size: 0px; fill: rgb(118, 170, 208); fill-opacity: 0.3;\">computer vision</text><text text-anchor=\"middle\" transform=\"translate(675,326)\" style=\"font-family: Helvetica Neue, Arial; font-size: 23px; font-style: normal; font-weight: normal; fill: rgb(106, 165, 205); fill-opacity: 0.3;\">trot</text><text text-anchor=\"middle\" transform=\"translate(723,159)\" style=\"font-family: Helvetica Neue, Arial; font-size: 23px; font-style: normal; font-weight: normal; fill: rgb(106, 165, 205); fill-opacity: 0.3;\">n</text><text text-anchor=\"middle\" transform=\"translate(0,0)\" style=\"font-family: sans-serif; font-size: 0px; fill: rgb(134, 176, 212); fill-opacity: 0.3;\">bacterial</text><text text-anchor=\"middle\" transform=\"translate(401,174)\" style=\"font-family: Helvetica Neue, Arial; font-size: 40px; font-style: normal; font-weight: normal; fill: rgb(11, 112, 171); fill-opacity: 0.3;\">lfp</text><text text-anchor=\"middle\" transform=\"translate(502,194)\" style=\"font-family: Helvetica Neue, Arial; font-size: 45px; font-style: normal; font-weight: normal; fill: rgb(6, 100, 157); fill-opacity: 0.3;\">carbide</text><text text-anchor=\"middle\" transform=\"translate(0,0)\" style=\"font-family: sans-serif; font-size: 0px; fill: rgb(139, 178, 213); fill-opacity: 0.3;\">reducible metal</text><text text-anchor=\"middle\" transform=\"translate(0,0)\" style=\"font-family: sans-serif; font-size: 0px; fill: rgb(193, 202, 226); fill-opacity: 0.3;\">employ</text><text text-anchor=\"middle\" transform=\"translate(0,0)\" style=\"font-family: sans-serif; font-size: 0px; fill: rgb(134, 176, 212); fill-opacity: 0.3;\">cognitive</text><text text-anchor=\"middle\" transform=\"translate(0,0)\" style=\"font-family: sans-serif; font-size: 0px; fill: rgb(73, 151, 196); fill-opacity: 0.3;\">urchin</text><text text-anchor=\"middle\" transform=\"translate(0,0)\" style=\"font-family: sans-serif; font-size: 0px; fill: rgb(106, 165, 205); fill-opacity: 0.3;\">skeletal muscular</text><text text-anchor=\"middle\" transform=\"translate(0,0)\" style=\"font-family: sans-serif; font-size: 0px; fill: rgb(154, 184, 217); fill-opacity: 0.3;\">shifted</text><text text-anchor=\"middle\" transform=\"translate(533,22)\" style=\"font-family: Helvetica Neue, Arial; font-size: 26px; font-style: normal; font-weight: normal; fill: rgb(78, 153, 198); fill-opacity: 0.3;\">marker</text><text text-anchor=\"middle\" transform=\"translate(0,0)\" style=\"font-family: sans-serif; font-size: 0px; fill: rgb(171, 192, 221); fill-opacity: 0.3;\">conducted</text><text text-anchor=\"middle\" transform=\"translate(0,0)\" style=\"font-family: sans-serif; font-size: 0px; fill: rgb(185, 199, 224); fill-opacity: 0.3;\">rate</text><text text-anchor=\"middle\" transform=\"translate(172,252)\" style=\"font-family: Helvetica Neue, Arial; font-size: 44px; font-style: normal; font-weight: normal; fill: rgb(7, 103, 160); fill-opacity: 0.3;\">untable</text><text text-anchor=\"middle\" transform=\"translate(0,0)\" style=\"font-family: sans-serif; font-size: 0px; fill: rgb(139, 178, 213); fill-opacity: 0.3;\">material</text><text text-anchor=\"middle\" transform=\"translate(0,0)\" style=\"font-family: sans-serif; font-size: 0px; fill: rgb(159, 187, 218); fill-opacity: 0.3;\">tracking marker</text><text text-anchor=\"middle\" transform=\"translate(0,0)\" style=\"font-family: sans-serif; font-size: 0px; fill: rgb(159, 187, 218); fill-opacity: 0.3;\">sequence</text><text text-anchor=\"middle\" transform=\"translate(601,322)\" style=\"font-family: Helvetica Neue, Arial; font-size: 26px; font-style: normal; font-weight: normal; fill: rgb(78, 153, 198); fill-opacity: 0.3;\">n n</text><text text-anchor=\"middle\" transform=\"translate(0,0)\" style=\"font-family: sans-serif; font-size: 0px; fill: rgb(185, 199, 224); fill-opacity: 0.3;\">example</text><text text-anchor=\"middle\" transform=\"translate(0,0)\" style=\"font-family: sans-serif; font-size: 0px; fill: rgb(159, 187, 218); fill-opacity: 0.3;\">matlab</text><text text-anchor=\"middle\" transform=\"translate(0,0)\" style=\"font-family: sans-serif; font-size: 0px; fill: rgb(122, 172, 209); fill-opacity: 0.3;\">species</text><text text-anchor=\"middle\" transform=\"translate(614,71)\" style=\"font-family: Helvetica Neue, Arial; font-size: 25px; font-style: normal; font-weight: normal; fill: rgb(84, 156, 199); fill-opacity: 0.3;\">set</text><text text-anchor=\"middle\" transform=\"translate(0,0)\" style=\"font-family: sans-serif; font-size: 0px; fill: rgb(130, 175, 211); fill-opacity: 0.3;\">based xromm</text><text text-anchor=\"middle\" transform=\"translate(0,0)\" style=\"font-family: sans-serif; font-size: 0px; fill: rgb(159, 187, 218); fill-opacity: 0.3;\">associated</text><text text-anchor=\"middle\" transform=\"translate(0,0)\" style=\"font-family: sans-serif; font-size: 0px; fill: rgb(110, 167, 206); fill-opacity: 0.3;\">involved</text><text text-anchor=\"middle\" transform=\"translate(0,0)\" style=\"font-family: sans-serif; font-size: 0px; fill: rgb(139, 178, 213); fill-opacity: 0.3;\">atom</text><text text-anchor=\"middle\" transform=\"translate(0,0)\" style=\"font-family: sans-serif; font-size: 0px; fill: rgb(185, 199, 224); fill-opacity: 0.3;\">internal</text><text text-anchor=\"middle\" transform=\"translate(0,0)\" style=\"font-family: sans-serif; font-size: 0px; fill: rgb(185, 199, 224); fill-opacity: 0.3;\">tools</text><text text-anchor=\"middle\" transform=\"translate(0,0)\" style=\"font-family: sans-serif; font-size: 0px; fill: rgb(90, 159, 201); fill-opacity: 0.3;\">helicosporidium</text><text text-anchor=\"middle\" transform=\"translate(0,0)\" style=\"font-family: sans-serif; font-size: 0px; fill: rgb(178, 196, 222); fill-opacity: 0.3;\">recontruction</text><text text-anchor=\"middle\" transform=\"translate(0,0)\" style=\"font-family: sans-serif; font-size: 0px; fill: rgb(106, 165, 205); fill-opacity: 0.3;\">vacancies</text><text text-anchor=\"middle\" transform=\"translate(0,0)\" style=\"font-family: sans-serif; font-size: 0px; fill: rgb(139, 178, 213); fill-opacity: 0.3;\">term</text><text text-anchor=\"middle\" transform=\"translate(0,0)\" style=\"font-family: sans-serif; font-size: 0px; fill: rgb(209, 212, 231); fill-opacity: 0.3;\">highly</text><text text-anchor=\"middle\" transform=\"translate(813,328)\" style=\"font-family: Helvetica Neue, Arial; font-size: 22px; font-style: normal; font-weight: normal; fill: rgb(114, 168, 207); fill-opacity: 0.3;\">mathrm</text><text text-anchor=\"middle\" transform=\"translate(0,0)\" style=\"font-family: sans-serif; font-size: 0px; fill: rgb(118, 170, 208); fill-opacity: 0.3;\">model</text><text text-anchor=\"middle\" transform=\"translate(547,227)\" style=\"font-family: Helvetica Neue, Arial; font-size: 12px; font-style: normal; font-weight: normal; fill: rgb(209, 212, 231); fill-opacity: 0.3;\">x</text><text text-anchor=\"middle\" transform=\"translate(380,69)\" style=\"font-family: Helvetica Neue, Arial; font-size: 23px; font-style: normal; font-weight: normal; fill: rgb(103, 164, 204); fill-opacity: 0.3;\">kev</text><text text-anchor=\"middle\" transform=\"translate(692,271)\" style=\"font-family: Helvetica Neue, Arial; font-size: 47px; font-style: normal; font-weight: normal; fill: rgb(5, 96, 152); fill-opacity: 0.3;\">development sea</text><text text-anchor=\"middle\" transform=\"translate(0,0)\" style=\"font-family: sans-serif; font-size: 0px; fill: rgb(209, 212, 231); fill-opacity: 0.3;\">subject</text><text text-anchor=\"middle\" transform=\"translate(0,0)\" style=\"font-family: sans-serif; font-size: 0px; fill: rgb(99, 162, 203); fill-opacity: 0.3;\">shell</text><text text-anchor=\"middle\" transform=\"translate(0,0)\" style=\"font-family: sans-serif; font-size: 0px; fill: rgb(96, 161, 202); fill-opacity: 0.3;\">tan pauses</text><text text-anchor=\"middle\" transform=\"translate(0,0)\" style=\"font-family: sans-serif; font-size: 0px; fill: rgb(193, 202, 226); fill-opacity: 0.3;\">most</text><text text-anchor=\"middle\" transform=\"translate(0,0)\" style=\"font-family: sans-serif; font-size: 0px; fill: rgb(178, 196, 222); fill-opacity: 0.3;\">reveal</text><text text-anchor=\"middle\" transform=\"translate(26,166)\" style=\"font-family: Helvetica Neue, Arial; font-size: 12px; font-style: normal; font-weight: normal; fill: rgb(219, 218, 235); fill-opacity: 0.3;\">six</text><text text-anchor=\"middle\" transform=\"translate(39,81)\" style=\"font-family: Helvetica Neue, Arial; font-size: 13px; font-style: normal; font-weight: normal; fill: rgb(201, 207, 228); fill-opacity: 0.3;\">version</text><text text-anchor=\"middle\" transform=\"translate(0,0)\" style=\"font-family: sans-serif; font-size: 0px; fill: rgb(134, 176, 212); fill-opacity: 0.3;\">phys</text><text text-anchor=\"middle\" transform=\"translate(0,0)\" style=\"font-family: sans-serif; font-size: 0px; fill: rgb(130, 175, 211); fill-opacity: 0.3;\">marker based xromm</text><text text-anchor=\"middle\" transform=\"translate(0,0)\" style=\"font-family: sans-serif; font-size: 0px; fill: rgb(118, 170, 208); fill-opacity: 0.3;\">parasite</text><text text-anchor=\"middle\" transform=\"translate(0,0)\" style=\"font-family: sans-serif; font-size: 0px; fill: rgb(185, 199, 224); fill-opacity: 0.3;\">management</text><text text-anchor=\"middle\" transform=\"translate(0,0)\" style=\"font-family: sans-serif; font-size: 0px; fill: rgb(149, 182, 215); fill-opacity: 0.3;\">energies</text><text text-anchor=\"middle\" transform=\"translate(0,0)\" style=\"font-family: sans-serif; font-size: 0px; fill: rgb(118, 170, 208); fill-opacity: 0.3;\">classify</text><text text-anchor=\"middle\" transform=\"translate(0,0)\" style=\"font-family: sans-serif; font-size: 0px; fill: rgb(185, 199, 224); fill-opacity: 0.3;\">infection</text><text text-anchor=\"middle\" transform=\"translate(572,103)\" style=\"font-family: Helvetica Neue, Arial; font-size: 49px; font-style: normal; font-weight: normal; fill: rgb(5, 93, 146); fill-opacity: 0.3;\">relation</text><text text-anchor=\"middle\" transform=\"translate(0,0)\" style=\"font-family: sans-serif; font-size: 0px; fill: rgb(193, 202, 226); fill-opacity: 0.3;\">evidence</text><text text-anchor=\"middle\" transform=\"translate(451,231)\" style=\"font-family: Helvetica Neue, Arial; font-size: 30px; font-style: normal; font-weight: normal; fill: rgb(50, 139, 189); fill-opacity: 0.3;\">tan</text><text text-anchor=\"middle\" transform=\"translate(0,0)\" style=\"font-family: sans-serif; font-size: 0px; fill: rgb(185, 199, 224); fill-opacity: 0.3;\">challenge</text><text text-anchor=\"middle\" transform=\"translate(0,0)\" style=\"font-family: sans-serif; font-size: 0px; fill: rgb(118, 170, 208); fill-opacity: 0.3;\">perceptual</text><text text-anchor=\"middle\" transform=\"translate(0,0)\" style=\"font-family: sans-serif; font-size: 0px; fill: rgb(130, 175, 211); fill-opacity: 0.3;\">flow</text><text text-anchor=\"middle\" transform=\"translate(0,0)\" style=\"font-family: sans-serif; font-size: 0px; fill: rgb(122, 172, 209); fill-opacity: 0.3;\">image</text><text text-anchor=\"middle\" transform=\"translate(0,0)\" style=\"font-family: sans-serif; font-size: 0px; fill: rgb(134, 176, 212); fill-opacity: 0.3;\">analyses</text><text text-anchor=\"middle\" transform=\"translate(0,0)\" style=\"font-family: sans-serif; font-size: 0px; fill: rgb(201, 207, 228); fill-opacity: 0.3;\">infected</text><text text-anchor=\"middle\" transform=\"translate(0,0)\" style=\"font-family: sans-serif; font-size: 0px; fill: rgb(130, 175, 211); fill-opacity: 0.3;\">sites</text><text text-anchor=\"middle\" transform=\"translate(0,0)\" style=\"font-family: sans-serif; font-size: 0px; fill: rgb(122, 172, 209); fill-opacity: 0.3;\">domain</text><text text-anchor=\"middle\" transform=\"translate(0,0)\" style=\"font-family: sans-serif; font-size: 0px; fill: rgb(193, 202, 226); fill-opacity: 0.3;\">double</text><text text-anchor=\"middle\" transform=\"translate(0,0)\" style=\"font-family: sans-serif; font-size: 0px; fill: rgb(171, 192, 221); fill-opacity: 0.3;\">active</text><text text-anchor=\"middle\" transform=\"translate(0,0)\" style=\"font-family: sans-serif; font-size: 0px; fill: rgb(134, 176, 212); fill-opacity: 0.3;\">predict</text><text text-anchor=\"middle\" transform=\"translate(0,0)\" style=\"font-family: sans-serif; font-size: 0px; fill: rgb(149, 182, 215); fill-opacity: 0.3;\">charge tranfer</text><text text-anchor=\"middle\" transform=\"translate(0,0)\" style=\"font-family: sans-serif; font-size: 0px; fill: rgb(139, 178, 213); fill-opacity: 0.3;\">carlo</text><text text-anchor=\"middle\" transform=\"translate(0,0)\" style=\"font-family: sans-serif; font-size: 0px; fill: rgb(154, 184, 217); fill-opacity: 0.3;\">yields</text><text text-anchor=\"middle\" transform=\"translate(344,335)\" style=\"font-family: Helvetica Neue, Arial; font-size: 16px; font-style: normal; font-weight: normal; fill: rgb(165, 189, 219); fill-opacity: 0.3;\">mean</text><text text-anchor=\"middle\" transform=\"translate(0,0)\" style=\"font-family: sans-serif; font-size: 0px; fill: rgb(134, 176, 212); fill-opacity: 0.3;\">weakly</text><text text-anchor=\"middle\" transform=\"translate(0,0)\" style=\"font-family: sans-serif; font-size: 0px; fill: rgb(154, 184, 217); fill-opacity: 0.3;\">defective</text><text text-anchor=\"middle\" transform=\"translate(0,0)\" style=\"font-family: sans-serif; font-size: 0px; fill: rgb(159, 187, 218); fill-opacity: 0.3;\">calibration nuclear recoil</text><text text-anchor=\"middle\" transform=\"translate(0,0)\" style=\"font-family: sans-serif; font-size: 0px; fill: rgb(106, 165, 205); fill-opacity: 0.3;\">hybrid simulation</text><text text-anchor=\"middle\" transform=\"translate(0,0)\" style=\"font-family: sans-serif; font-size: 0px; fill: rgb(122, 172, 209); fill-opacity: 0.3;\">detection</text><text text-anchor=\"middle\" transform=\"translate(0,0)\" style=\"font-family: sans-serif; font-size: 0px; fill: rgb(171, 192, 221); fill-opacity: 0.3;\">close</text><text text-anchor=\"middle\" transform=\"translate(0,0)\" style=\"font-family: sans-serif; font-size: 0px; fill: rgb(171, 192, 221); fill-opacity: 0.3;\">including</text><text text-anchor=\"middle\" transform=\"translate(0,0)\" style=\"font-family: sans-serif; font-size: 0px; fill: rgb(154, 184, 217); fill-opacity: 0.3;\">study</text><text text-anchor=\"middle\" transform=\"translate(0,0)\" style=\"font-family: sans-serif; font-size: 0px; fill: rgb(165, 189, 219); fill-opacity: 0.3;\">predicted</text><text text-anchor=\"middle\" transform=\"translate(0,0)\" style=\"font-family: sans-serif; font-size: 0px; fill: rgb(99, 162, 203); fill-opacity: 0.3;\">imaging</text><text text-anchor=\"middle\" transform=\"translate(0,0)\" style=\"font-family: sans-serif; font-size: 0px; fill: rgb(154, 184, 217); fill-opacity: 0.3;\">et al</text><text text-anchor=\"middle\" transform=\"translate(0,0)\" style=\"font-family: sans-serif; font-size: 0px; fill: rgb(68, 149, 195); fill-opacity: 0.3;\">strain</text><text text-anchor=\"middle\" transform=\"translate(0,0)\" style=\"font-family: sans-serif; font-size: 0px; fill: rgb(165, 189, 219); fill-opacity: 0.3;\">feeding</text><text text-anchor=\"middle\" transform=\"translate(0,0)\" style=\"font-family: sans-serif; font-size: 0px; fill: rgb(178, 196, 222); fill-opacity: 0.3;\">change</text><text text-anchor=\"middle\" transform=\"translate(0,0)\" style=\"font-family: sans-serif; font-size: 0px; fill: rgb(96, 161, 202); fill-opacity: 0.3;\">alcohol</text><text text-anchor=\"middle\" transform=\"translate(0,0)\" style=\"font-family: sans-serif; font-size: 0px; fill: rgb(185, 199, 224); fill-opacity: 0.3;\">analyze</text><text text-anchor=\"middle\" transform=\"translate(245,50)\" style=\"font-family: Helvetica Neue, Arial; font-size: 44px; font-style: normal; font-weight: normal; fill: rgb(7, 103, 160); fill-opacity: 0.3;\">mechanically</text><text text-anchor=\"middle\" transform=\"translate(0,0)\" style=\"font-family: sans-serif; font-size: 0px; fill: rgb(178, 196, 222); fill-opacity: 0.3;\">information</text><text text-anchor=\"middle\" transform=\"translate(182,138)\" style=\"font-family: Helvetica Neue, Arial; font-size: 42px; font-style: normal; font-weight: normal; fill: rgb(9, 108, 166); fill-opacity: 0.3;\">via</text><text text-anchor=\"middle\" transform=\"translate(0,0)\" style=\"font-family: sans-serif; font-size: 0px; fill: rgb(130, 175, 211); fill-opacity: 0.3;\">principles</text><text text-anchor=\"middle\" transform=\"translate(0,0)\" style=\"font-family: sans-serif; font-size: 0px; fill: rgb(96, 161, 202); fill-opacity: 0.3;\">energy</text><text text-anchor=\"middle\" transform=\"translate(0,0)\" style=\"font-family: sans-serif; font-size: 0px; fill: rgb(110, 167, 206); fill-opacity: 0.3;\">algae</text><text text-anchor=\"middle\" transform=\"translate(0,0)\" style=\"font-family: sans-serif; font-size: 0px; fill: rgb(149, 182, 215); fill-opacity: 0.3;\">monoenergetic</text><text text-anchor=\"middle\" transform=\"translate(0,0)\" style=\"font-family: sans-serif; font-size: 0px; fill: rgb(134, 176, 212); fill-opacity: 0.3;\">phenomena</text><text text-anchor=\"middle\" transform=\"translate(0,0)\" style=\"font-family: sans-serif; font-size: 0px; fill: rgb(219, 218, 235); fill-opacity: 0.3;\">biomechanics</text><text text-anchor=\"middle\" transform=\"translate(742,307)\" style=\"font-family: Helvetica Neue, Arial; font-size: 43px; font-style: normal; font-weight: normal; fill: rgb(8, 105, 162); fill-opacity: 0.3;\">cognition</text><text text-anchor=\"middle\" transform=\"translate(0,0)\" style=\"font-family: sans-serif; font-size: 0px; fill: rgb(134, 176, 212); fill-opacity: 0.3;\">reduction</text><text text-anchor=\"middle\" transform=\"translate(0,0)\" style=\"font-family: sans-serif; font-size: 0px; fill: rgb(144, 180, 214); fill-opacity: 0.3;\">process</text><text text-anchor=\"middle\" transform=\"translate(0,0)\" style=\"font-family: sans-serif; font-size: 0px; fill: rgb(178, 196, 222); fill-opacity: 0.3;\">complex</text><text text-anchor=\"middle\" transform=\"translate(149,139)\" style=\"font-family: Helvetica Neue, Arial; font-size: 18px; font-style: normal; font-weight: normal; fill: rgb(154, 184, 217); fill-opacity: 0.3;\">et</text><text text-anchor=\"middle\" transform=\"translate(0,0)\" style=\"font-family: sans-serif; font-size: 0px; fill: rgb(99, 162, 203); fill-opacity: 0.3;\">novel</text><text text-anchor=\"middle\" transform=\"translate(656,338)\" style=\"font-family: Helvetica Neue, Arial; font-size: 12px; font-style: normal; font-weight: normal; fill: rgb(209, 212, 231); fill-opacity: 0.3;\">force</text><text text-anchor=\"middle\" transform=\"translate(296,320)\" style=\"font-family: Helvetica Neue, Arial; font-size: 31px; font-style: normal; font-weight: normal; fill: rgb(45, 136, 188); fill-opacity: 0.3;\">neuronal</text><text text-anchor=\"middle\" transform=\"translate(0,0)\" style=\"font-family: sans-serif; font-size: 0px; fill: rgb(185, 199, 224); fill-opacity: 0.3;\">value</text><text text-anchor=\"middle\" transform=\"translate(582,302)\" style=\"font-family: Helvetica Neue, Arial; font-size: 45px; font-style: normal; font-weight: normal; fill: rgb(6, 100, 157); fill-opacity: 0.3;\">sparse</text><text text-anchor=\"middle\" transform=\"translate(593,212)\" style=\"font-family: Helvetica Neue, Arial; font-size: 44px; font-style: normal; font-weight: normal; fill: rgb(7, 103, 160); fill-opacity: 0.3;\">an</text><text text-anchor=\"middle\" transform=\"translate(0,0)\" style=\"font-family: sans-serif; font-size: 0px; fill: rgb(178, 196, 222); fill-opacity: 0.3;\">effective</text><text text-anchor=\"middle\" transform=\"translate(0,0)\" style=\"font-family: sans-serif; font-size: 0px; fill: rgb(9, 107, 165); fill-opacity: 0.3;\">focal seizure</text><text text-anchor=\"middle\" transform=\"translate(0,0)\" style=\"font-family: sans-serif; font-size: 0px; fill: rgb(185, 199, 224); fill-opacity: 0.3;\">relaxation</text><text text-anchor=\"middle\" transform=\"translate(0,0)\" style=\"font-family: sans-serif; font-size: 0px; fill: rgb(178, 196, 222); fill-opacity: 0.3;\">reduce</text><text text-anchor=\"middle\" transform=\"translate(0,0)\" style=\"font-family: sans-serif; font-size: 0px; fill: rgb(126, 173, 210); fill-opacity: 0.3;\">particle</text><text text-anchor=\"middle\" transform=\"translate(0,0)\" style=\"font-family: sans-serif; font-size: 0px; fill: rgb(154, 184, 217); fill-opacity: 0.3;\">multiscale</text><text text-anchor=\"middle\" transform=\"translate(785,15)\" style=\"font-family: Helvetica Neue, Arial; font-size: 16px; font-style: normal; font-weight: normal; fill: rgb(165, 189, 219); fill-opacity: 0.3;\">shift</text><text text-anchor=\"middle\" transform=\"translate(0,0)\" style=\"font-family: sans-serif; font-size: 0px; fill: rgb(144, 180, 214); fill-opacity: 0.3;\">evolutionary</text><text text-anchor=\"middle\" transform=\"translate(0,0)\" style=\"font-family: sans-serif; font-size: 0px; fill: rgb(71, 150, 195); fill-opacity: 0.3;\">senitive</text><text text-anchor=\"middle\" transform=\"translate(0,0)\" style=\"font-family: sans-serif; font-size: 0px; fill: rgb(76, 152, 197); fill-opacity: 0.3;\">decision</text><text text-anchor=\"middle\" transform=\"translate(0,0)\" style=\"font-family: sans-serif; font-size: 0px; fill: rgb(106, 165, 205); fill-opacity: 0.3;\">contextual</text><text text-anchor=\"middle\" transform=\"translate(0,0)\" style=\"font-family: sans-serif; font-size: 0px; fill: rgb(24, 122, 179); fill-opacity: 0.3;\">echinoderm</text><text text-anchor=\"middle\" transform=\"translate(0,0)\" style=\"font-family: sans-serif; font-size: 0px; fill: rgb(110, 167, 206); fill-opacity: 0.3;\">oxide</text><text text-anchor=\"middle\" transform=\"translate(0,0)\" style=\"font-family: sans-serif; font-size: 0px; fill: rgb(201, 207, 228); fill-opacity: 0.3;\">flexible</text><text text-anchor=\"middle\" transform=\"translate(0,0)\" style=\"font-family: sans-serif; font-size: 0px; fill: rgb(130, 175, 211); fill-opacity: 0.3;\">linkage</text><text text-anchor=\"middle\" transform=\"translate(0,0)\" style=\"font-family: sans-serif; font-size: 0px; fill: rgb(201, 207, 228); fill-opacity: 0.3;\">generate</text><text text-anchor=\"middle\" transform=\"translate(851,311)\" style=\"font-family: Helvetica Neue, Arial; font-size: 25px; font-style: normal; font-weight: normal; fill: rgb(81, 155, 198); fill-opacity: 0.3;\">math</text><text text-anchor=\"middle\" transform=\"translate(558,213)\" style=\"font-family: Helvetica Neue, Arial; font-size: 18px; font-style: normal; font-weight: normal; fill: rgb(154, 184, 217); fill-opacity: 0.3;\">c</text><text text-anchor=\"middle\" transform=\"translate(0,0)\" style=\"font-family: sans-serif; font-size: 0px; fill: rgb(193, 202, 226); fill-opacity: 0.3;\">interface</text><text text-anchor=\"middle\" transform=\"translate(0,0)\" style=\"font-family: sans-serif; font-size: 0px; fill: rgb(201, 207, 228); fill-opacity: 0.3;\">location</text><text text-anchor=\"middle\" transform=\"translate(0,0)\" style=\"font-family: sans-serif; font-size: 0px; fill: rgb(126, 173, 210); fill-opacity: 0.3;\">processing</text><text text-anchor=\"middle\" transform=\"translate(0,0)\" style=\"font-family: sans-serif; font-size: 0px; fill: rgb(96, 161, 202); fill-opacity: 0.3;\">resolution</text><text text-anchor=\"middle\" transform=\"translate(0,0)\" style=\"font-family: sans-serif; font-size: 0px; fill: rgb(122, 172, 209); fill-opacity: 0.3;\">function</text><text text-anchor=\"middle\" transform=\"translate(700,14)\" style=\"font-family: Helvetica Neue, Arial; font-size: 14px; font-style: normal; font-weight: normal; fill: rgb(193, 202, 226); fill-opacity: 0.3;\">stage</text><text text-anchor=\"middle\" transform=\"translate(0,0)\" style=\"font-family: sans-serif; font-size: 0px; fill: rgb(144, 180, 214); fill-opacity: 0.3;\">mars</text><text text-anchor=\"middle\" transform=\"translate(386,42)\" style=\"font-family: Helvetica Neue, Arial; font-size: 21px; font-style: normal; font-weight: normal; fill: rgb(118, 170, 208); fill-opacity: 0.3;\">ion</text><text text-anchor=\"middle\" transform=\"translate(0,0)\" style=\"font-family: sans-serif; font-size: 0px; fill: rgb(178, 196, 222); fill-opacity: 0.3;\">with</text><text text-anchor=\"middle\" transform=\"translate(0,0)\" style=\"font-family: sans-serif; font-size: 0px; fill: rgb(149, 182, 215); fill-opacity: 0.3;\">measured</text><text text-anchor=\"middle\" transform=\"translate(0,0)\" style=\"font-family: sans-serif; font-size: 0px; fill: rgb(103, 164, 204); fill-opacity: 0.3;\">matter</text><text text-anchor=\"middle\" transform=\"translate(0,0)\" style=\"font-family: sans-serif; font-size: 0px; fill: rgb(185, 199, 224); fill-opacity: 0.3;\">recently</text><text text-anchor=\"middle\" transform=\"translate(0,0)\" style=\"font-family: sans-serif; font-size: 0px; fill: rgb(159, 187, 218); fill-opacity: 0.3;\">calibration nuclear</text><text text-anchor=\"middle\" transform=\"translate(0,0)\" style=\"font-family: sans-serif; font-size: 0px; fill: rgb(154, 184, 217); fill-opacity: 0.3;\">driven</text><text text-anchor=\"middle\" transform=\"translate(0,0)\" style=\"font-family: sans-serif; font-size: 0px; fill: rgb(165, 189, 219); fill-opacity: 0.3;\">facilitate</text><text text-anchor=\"middle\" transform=\"translate(286,196)\" style=\"font-family: Helvetica Neue, Arial; font-size: 14px; font-style: normal; font-weight: normal; fill: rgb(193, 202, 226); fill-opacity: 0.3;\">it</text><text text-anchor=\"middle\" transform=\"translate(0,0)\" style=\"font-family: sans-serif; font-size: 0px; fill: rgb(178, 196, 222); fill-opacity: 0.3;\">underground xenon lux</text><text text-anchor=\"middle\" transform=\"translate(0,0)\" style=\"font-family: sans-serif; font-size: 0px; fill: rgb(193, 202, 226); fill-opacity: 0.3;\">remain</text><text text-anchor=\"middle\" transform=\"translate(487,323)\" style=\"font-family: Helvetica Neue, Arial; font-size: 27px; font-style: normal; font-weight: normal; fill: rgb(73, 151, 196); fill-opacity: 0.3;\">surface</text><text text-anchor=\"middle\" transform=\"translate(0,0)\" style=\"font-family: sans-serif; font-size: 0px; fill: rgb(73, 151, 196); fill-opacity: 0.3;\">sea urchin</text><text text-anchor=\"middle\" transform=\"translate(0,0)\" style=\"font-family: sans-serif; font-size: 0px; fill: rgb(144, 180, 214); fill-opacity: 0.3;\">scattering</text><text text-anchor=\"middle\" transform=\"translate(0,0)\" style=\"font-family: sans-serif; font-size: 0px; fill: rgb(90, 159, 201); fill-opacity: 0.3;\">strike</text><text text-anchor=\"middle\" transform=\"translate(250,69)\" style=\"font-family: Helvetica Neue, Arial; font-size: 24px; font-style: normal; font-weight: normal; fill: rgb(90, 159, 201); fill-opacity: 0.3;\">sea star</text><text text-anchor=\"middle\" transform=\"translate(0,0)\" style=\"font-family: sans-serif; font-size: 0px; fill: rgb(118, 170, 208); fill-opacity: 0.3;\">matter experiment</text><text text-anchor=\"middle\" transform=\"translate(0,0)\" style=\"font-family: sans-serif; font-size: 0px; fill: rgb(154, 184, 217); fill-opacity: 0.3;\">large underground</text><text text-anchor=\"middle\" transform=\"translate(0,0)\" style=\"font-family: sans-serif; font-size: 0px; fill: rgb(149, 182, 215); fill-opacity: 0.3;\">comparison</text><text text-anchor=\"middle\" transform=\"translate(0,0)\" style=\"font-family: sans-serif; font-size: 0px; fill: rgb(201, 207, 228); fill-opacity: 0.3;\">capture</text><text text-anchor=\"middle\" transform=\"translate(0,0)\" style=\"font-family: sans-serif; font-size: 0px; fill: rgb(144, 180, 214); fill-opacity: 0.3;\">based</text><text text-anchor=\"middle\" transform=\"translate(0,0)\" style=\"font-family: sans-serif; font-size: 0px; fill: rgb(71, 150, 195); fill-opacity: 0.3;\">crassostreae</text><text text-anchor=\"middle\" transform=\"translate(0,0)\" style=\"font-family: sans-serif; font-size: 0px; fill: rgb(106, 165, 205); fill-opacity: 0.3;\">artificial</text><text text-anchor=\"middle\" transform=\"translate(0,0)\" style=\"font-family: sans-serif; font-size: 0px; fill: rgb(185, 199, 224); fill-opacity: 0.3;\">contant</text><text text-anchor=\"middle\" transform=\"translate(0,0)\" style=\"font-family: sans-serif; font-size: 0px; fill: rgb(78, 153, 198); fill-opacity: 0.3;\">cortex</text><text text-anchor=\"middle\" transform=\"translate(0,0)\" style=\"font-family: sans-serif; font-size: 0px; fill: rgb(201, 207, 228); fill-opacity: 0.3;\">appear</text><text text-anchor=\"middle\" transform=\"translate(710,229)\" style=\"font-family: Helvetica Neue, Arial; font-size: 31px; font-style: normal; font-weight: normal; fill: rgb(45, 136, 188); fill-opacity: 0.3;\">deep</text><text text-anchor=\"middle\" transform=\"translate(103,326)\" style=\"font-family: Helvetica Neue, Arial; font-size: 25px; font-style: normal; font-weight: normal; fill: rgb(84, 156, 199); fill-opacity: 0.3;\">oxygen</text><text text-anchor=\"middle\" transform=\"translate(0,0)\" style=\"font-family: sans-serif; font-size: 0px; fill: rgb(159, 187, 218); fill-opacity: 0.3;\">fold</text><text text-anchor=\"middle\" transform=\"translate(0,0)\" style=\"font-family: sans-serif; font-size: 0px; fill: rgb(165, 189, 219); fill-opacity: 0.3;\">preliminary</text><text text-anchor=\"middle\" transform=\"translate(0,0)\" style=\"font-family: sans-serif; font-size: 0px; fill: rgb(209, 212, 231); fill-opacity: 0.3;\">online</text><text text-anchor=\"middle\" transform=\"translate(284,138)\" style=\"font-family: Helvetica Neue, Arial; font-size: 42px; font-style: normal; font-weight: normal; fill: rgb(9, 106, 164); fill-opacity: 0.3;\">how</text><text text-anchor=\"middle\" transform=\"translate(0,0)\" style=\"font-family: sans-serif; font-size: 0px; fill: rgb(19, 118, 176); fill-opacity: 0.3;\">electrocatalyst</text><text text-anchor=\"middle\" transform=\"translate(544,147)\" style=\"font-family: Helvetica Neue, Arial; font-size: 15px; font-style: normal; font-weight: normal; fill: rgb(185, 199, 224); fill-opacity: 0.3;\">o</text><text text-anchor=\"middle\" transform=\"translate(872,95)\" style=\"font-family: Helvetica Neue, Arial; font-size: 13px; font-style: normal; font-weight: normal; fill: rgb(201, 207, 228); fill-opacity: 0.3;\">light</text><text text-anchor=\"middle\" transform=\"translate(0,0)\" style=\"font-family: sans-serif; font-size: 0px; fill: rgb(144, 180, 214); fill-opacity: 0.3;\">multiple</text><text text-anchor=\"middle\" transform=\"translate(0,0)\" style=\"font-family: sans-serif; font-size: 0px; fill: rgb(165, 189, 219); fill-opacity: 0.3;\">equation</text><text text-anchor=\"middle\" transform=\"translate(0,0)\" style=\"font-family: sans-serif; font-size: 0px; fill: rgb(185, 199, 224); fill-opacity: 0.3;\">observed</text><text text-anchor=\"middle\" transform=\"translate(398,320)\" style=\"font-family: Helvetica Neue, Arial; font-size: 29px; font-style: normal; font-weight: normal; fill: rgb(53, 141, 190); fill-opacity: 0.3;\">learning</text><text text-anchor=\"middle\" transform=\"translate(0,0)\" style=\"font-family: sans-serif; font-size: 0px; fill: rgb(171, 192, 221); fill-opacity: 0.3;\">stimuli</text><text text-anchor=\"middle\" transform=\"translate(0,0)\" style=\"font-family: sans-serif; font-size: 0px; fill: rgb(103, 164, 204); fill-opacity: 0.3;\">reinforcement</text><text text-anchor=\"middle\" transform=\"translate(0,0)\" style=\"font-family: sans-serif; font-size: 0px; fill: rgb(185, 199, 224); fill-opacity: 0.3;\">decay</text><text text-anchor=\"middle\" transform=\"translate(0,0)\" style=\"font-family: sans-serif; font-size: 0px; fill: rgb(126, 173, 210); fill-opacity: 0.3;\">activity</text><text text-anchor=\"middle\" transform=\"translate(0,0)\" style=\"font-family: sans-serif; font-size: 0px; fill: rgb(178, 196, 222); fill-opacity: 0.3;\">degree</text><text text-anchor=\"middle\" transform=\"translate(0,0)\" style=\"font-family: sans-serif; font-size: 0px; fill: rgb(106, 165, 205); fill-opacity: 0.3;\">illusion</text><text text-anchor=\"middle\" transform=\"translate(0,0)\" style=\"font-family: sans-serif; font-size: 0px; fill: rgb(144, 180, 214); fill-opacity: 0.3;\">reaction</text><text text-anchor=\"middle\" transform=\"translate(0,0)\" style=\"font-family: sans-serif; font-size: 0px; fill: rgb(178, 196, 222); fill-opacity: 0.3;\">healthy</text><text text-anchor=\"middle\" transform=\"translate(605,184)\" style=\"font-family: Helvetica Neue, Arial; font-size: 20px; font-style: normal; font-weight: normal; fill: rgb(130, 175, 211); fill-opacity: 0.3;\">h</text><text text-anchor=\"middle\" transform=\"translate(0,0)\" style=\"font-family: sans-serif; font-size: 0px; fill: rgb(165, 189, 219); fill-opacity: 0.3;\">circuit</text><text text-anchor=\"middle\" transform=\"translate(0,0)\" style=\"font-family: sans-serif; font-size: 0px; fill: rgb(110, 167, 206); fill-opacity: 0.3;\">tranfer</text><text text-anchor=\"middle\" transform=\"translate(19,109)\" style=\"font-family: Helvetica Neue, Arial; font-size: 14px; font-style: normal; font-weight: normal; fill: rgb(193, 202, 226); fill-opacity: 0.3;\">this</text><text text-anchor=\"middle\" transform=\"translate(0,0)\" style=\"font-family: sans-serif; font-size: 0px; fill: rgb(93, 160, 202); fill-opacity: 0.3;\">neural</text><text text-anchor=\"middle\" transform=\"translate(0,0)\" style=\"font-family: sans-serif; font-size: 0px; fill: rgb(53, 141, 190); fill-opacity: 0.3;\">pathway</text><text text-anchor=\"middle\" transform=\"translate(0,0)\" style=\"font-family: sans-serif; font-size: 0px; fill: rgb(159, 187, 218); fill-opacity: 0.3;\">electron</text><text text-anchor=\"middle\" transform=\"translate(0,0)\" style=\"font-family: sans-serif; font-size: 0px; fill: rgb(159, 187, 218); fill-opacity: 0.3;\">organism</text><text text-anchor=\"middle\" transform=\"translate(0,0)\" style=\"font-family: sans-serif; font-size: 0px; fill: rgb(122, 172, 209); fill-opacity: 0.3;\">adaptation</text><text text-anchor=\"middle\" transform=\"translate(0,0)\" style=\"font-family: sans-serif; font-size: 0px; fill: rgb(84, 156, 199); fill-opacity: 0.3;\">matter particle</text><text text-anchor=\"middle\" transform=\"translate(380,16)\" style=\"font-family: Helvetica Neue, Arial; font-size: 25px; font-style: normal; font-weight: normal; fill: rgb(87, 157, 200); fill-opacity: 0.3;\">eeg</text><text text-anchor=\"middle\" transform=\"translate(0,0)\" style=\"font-family: sans-serif; font-size: 0px; fill: rgb(118, 170, 208); fill-opacity: 0.3;\">vision</text><text text-anchor=\"middle\" transform=\"translate(0,0)\" style=\"font-family: sans-serif; font-size: 0px; fill: rgb(118, 170, 208); fill-opacity: 0.3;\">intermediate</text><text text-anchor=\"middle\" transform=\"translate(0,0)\" style=\"font-family: sans-serif; font-size: 0px; fill: rgb(185, 199, 224); fill-opacity: 0.3;\">suggesting</text><text text-anchor=\"middle\" transform=\"translate(0,0)\" style=\"font-family: sans-serif; font-size: 0px; fill: rgb(134, 176, 212); fill-opacity: 0.3;\">resistant</text><text text-anchor=\"middle\" transform=\"translate(0,0)\" style=\"font-family: sans-serif; font-size: 0px; fill: rgb(209, 212, 231); fill-opacity: 0.3;\">indicating</text><text text-anchor=\"middle\" transform=\"translate(0,0)\" style=\"font-family: sans-serif; font-size: 0px; fill: rgb(185, 199, 224); fill-opacity: 0.3;\">chamber</text><text text-anchor=\"middle\" transform=\"translate(31,189)\" style=\"font-family: Helvetica Neue, Arial; font-size: 15px; font-style: normal; font-weight: normal; fill: rgb(185, 199, 224); fill-opacity: 0.3;\">as</text><text text-anchor=\"middle\" transform=\"translate(407,336)\" style=\"font-family: Helvetica Neue, Arial; font-size: 15px; font-style: normal; font-weight: normal; fill: rgb(178, 196, 222); fill-opacity: 0.3;\">vivo</text><text text-anchor=\"middle\" transform=\"translate(0,0)\" style=\"font-family: sans-serif; font-size: 0px; fill: rgb(165, 189, 219); fill-opacity: 0.3;\">using</text><text text-anchor=\"middle\" transform=\"translate(829,172)\" style=\"font-family: Helvetica Neue, Arial; font-size: 14px; font-style: normal; font-weight: normal; fill: rgb(193, 202, 226); fill-opacity: 0.3;\">ray</text><text text-anchor=\"middle\" transform=\"translate(0,0)\" style=\"font-family: sans-serif; font-size: 0px; fill: rgb(171, 192, 221); fill-opacity: 0.3;\">denity functional</text><text text-anchor=\"middle\" transform=\"translate(0,0)\" style=\"font-family: sans-serif; font-size: 0px; fill: rgb(10, 110, 169); fill-opacity: 0.3;\">single neuron</text><text text-anchor=\"middle\" transform=\"translate(640,21)\" style=\"font-family: Helvetica Neue, Arial; font-size: 22px; font-style: normal; font-weight: normal; fill: rgb(110, 167, 206); fill-opacity: 0.3;\">fs</text><text text-anchor=\"middle\" transform=\"translate(0,0)\" style=\"font-family: sans-serif; font-size: 0px; fill: rgb(144, 180, 214); fill-opacity: 0.3;\">form</text><text text-anchor=\"middle\" transform=\"translate(853,288)\" style=\"font-family: Helvetica Neue, Arial; font-size: 19px; font-style: normal; font-weight: normal; fill: rgb(144, 180, 214); fill-opacity: 0.3;\">peak</text><text text-anchor=\"middle\" transform=\"translate(0,0)\" style=\"font-family: sans-serif; font-size: 0px; fill: rgb(114, 168, 207); fill-opacity: 0.3;\">reducible</text><text text-anchor=\"middle\" transform=\"translate(0,0)\" style=\"font-family: sans-serif; font-size: 0px; fill: rgb(81, 155, 198); fill-opacity: 0.3;\">math processing</text><text text-anchor=\"middle\" transform=\"translate(0,0)\" style=\"font-family: sans-serif; font-size: 0px; fill: rgb(165, 189, 219); fill-opacity: 0.3;\">electric</text><text text-anchor=\"middle\" transform=\"translate(465,300)\" style=\"font-family: Helvetica Neue, Arial; font-size: 41px; font-style: normal; font-weight: normal; fill: rgb(10, 109, 167); fill-opacity: 0.3;\">wave</text><text text-anchor=\"middle\" transform=\"translate(714,333)\" style=\"font-family: Helvetica Neue, Arial; font-size: 16px; font-style: normal; font-weight: normal; fill: rgb(171, 192, 221); fill-opacity: 0.3;\">real</text><text text-anchor=\"middle\" transform=\"translate(0,0)\" style=\"font-family: sans-serif; font-size: 0px; fill: rgb(178, 196, 222); fill-opacity: 0.3;\">experimental</text><text text-anchor=\"middle\" transform=\"translate(0,0)\" style=\"font-family: sans-serif; font-size: 0px; fill: rgb(171, 192, 221); fill-opacity: 0.3;\">increase</text><text text-anchor=\"middle\" transform=\"translate(0,0)\" style=\"font-family: sans-serif; font-size: 0px; fill: rgb(106, 165, 205); fill-opacity: 0.3;\">extra classical</text><text text-anchor=\"middle\" transform=\"translate(0,0)\" style=\"font-family: sans-serif; font-size: 0px; fill: rgb(201, 207, 228); fill-opacity: 0.3;\">ionization</text><text text-anchor=\"middle\" transform=\"translate(0,0)\" style=\"font-family: sans-serif; font-size: 0px; fill: rgb(154, 184, 217); fill-opacity: 0.3;\">reduce alcohol</text><text text-anchor=\"middle\" transform=\"translate(0,0)\" style=\"font-family: sans-serif; font-size: 0px; fill: rgb(154, 184, 217); fill-opacity: 0.3;\">underground xenon</text><text text-anchor=\"middle\" transform=\"translate(304,21)\" style=\"font-family: Helvetica Neue, Arial; font-size: 20px; font-style: normal; font-weight: normal; fill: rgb(130, 175, 211); fill-opacity: 0.3;\">limit</text><text text-anchor=\"middle\" transform=\"translate(0,0)\" style=\"font-family: sans-serif; font-size: 0px; fill: rgb(159, 187, 218); fill-opacity: 0.3;\">barriers</text><text text-anchor=\"middle\" transform=\"translate(0,0)\" style=\"font-family: sans-serif; font-size: 0px; fill: rgb(122, 172, 209); fill-opacity: 0.3;\">measure</text><text text-anchor=\"middle\" transform=\"translate(0,0)\" style=\"font-family: sans-serif; font-size: 0px; fill: rgb(154, 184, 217); fill-opacity: 0.3;\">health</text><text text-anchor=\"middle\" transform=\"translate(0,0)\" style=\"font-family: sans-serif; font-size: 0px; fill: rgb(110, 167, 206); fill-opacity: 0.3;\">charge</text><text text-anchor=\"middle\" transform=\"translate(0,0)\" style=\"font-family: sans-serif; font-size: 0px; fill: rgb(144, 180, 214); fill-opacity: 0.3;\">parasitic</text><text text-anchor=\"middle\" transform=\"translate(0,0)\" style=\"font-family: sans-serif; font-size: 0px; fill: rgb(201, 207, 228); fill-opacity: 0.3;\">included</text><text text-anchor=\"middle\" transform=\"translate(0,0)\" style=\"font-family: sans-serif; font-size: 0px; fill: rgb(90, 159, 201); fill-opacity: 0.3;\">nuclear recoil</text><text text-anchor=\"middle\" transform=\"translate(0,0)\" style=\"font-family: sans-serif; font-size: 0px; fill: rgb(144, 180, 214); fill-opacity: 0.3;\">algorithm</text><text text-anchor=\"middle\" transform=\"translate(0,0)\" style=\"font-family: sans-serif; font-size: 0px; fill: rgb(139, 178, 213); fill-opacity: 0.3;\">sampling</text><text text-anchor=\"middle\" transform=\"translate(0,0)\" style=\"font-family: sans-serif; font-size: 0px; fill: rgb(96, 161, 202); fill-opacity: 0.3;\">application</text><text text-anchor=\"middle\" transform=\"translate(0,0)\" style=\"font-family: sans-serif; font-size: 0px; fill: rgb(110, 167, 206); fill-opacity: 0.3;\">host</text><text text-anchor=\"middle\" transform=\"translate(0,0)\" style=\"font-family: sans-serif; font-size: 0px; fill: rgb(90, 159, 201); fill-opacity: 0.3;\">biology</text><text text-anchor=\"middle\" transform=\"translate(287,209)\" style=\"font-family: Helvetica Neue, Arial; font-size: 15px; font-style: normal; font-weight: normal; fill: rgb(185, 199, 224); fill-opacity: 0.3;\">p</text><text text-anchor=\"middle\" transform=\"translate(0,0)\" style=\"font-family: sans-serif; font-size: 0px; fill: rgb(139, 178, 213); fill-opacity: 0.3;\">extended</text><text text-anchor=\"middle\" transform=\"translate(0,0)\" style=\"font-family: sans-serif; font-size: 0px; fill: rgb(19, 118, 176); fill-opacity: 0.3;\">co reduction</text><text text-anchor=\"middle\" transform=\"translate(0,0)\" style=\"font-family: sans-serif; font-size: 0px; fill: rgb(90, 159, 201); fill-opacity: 0.3;\">timing</text><text text-anchor=\"middle\" transform=\"translate(0,0)\" style=\"font-family: sans-serif; font-size: 0px; fill: rgb(193, 202, 226); fill-opacity: 0.3;\">shear</text><text text-anchor=\"middle\" transform=\"translate(0,0)\" style=\"font-family: sans-serif; font-size: 0px; fill: rgb(130, 175, 211); fill-opacity: 0.3;\">deoxygenation</text><text text-anchor=\"middle\" transform=\"translate(0,0)\" style=\"font-family: sans-serif; font-size: 0px; fill: rgb(193, 202, 226); fill-opacity: 0.3;\">component</text><text text-anchor=\"middle\" transform=\"translate(0,0)\" style=\"font-family: sans-serif; font-size: 0px; fill: rgb(122, 172, 209); fill-opacity: 0.3;\">effect</text><text text-anchor=\"middle\" transform=\"translate(0,0)\" style=\"font-family: sans-serif; font-size: 0px; fill: rgb(154, 184, 217); fill-opacity: 0.3;\">return investment</text><text text-anchor=\"middle\" transform=\"translate(0,0)\" style=\"font-family: sans-serif; font-size: 0px; fill: rgb(165, 189, 219); fill-opacity: 0.3;\">handle</text><text text-anchor=\"middle\" transform=\"translate(0,0)\" style=\"font-family: sans-serif; font-size: 0px; fill: rgb(185, 199, 224); fill-opacity: 0.3;\">quality</text><text text-anchor=\"middle\" transform=\"translate(850,153)\" style=\"font-family: Helvetica Neue, Arial; font-size: 29px; font-style: normal; font-weight: normal; fill: rgb(53, 141, 190); fill-opacity: 0.3;\">bar</text><text text-anchor=\"middle\" transform=\"translate(0,0)\" style=\"font-family: sans-serif; font-size: 0px; fill: rgb(178, 196, 222); fill-opacity: 0.3;\">software</text><text text-anchor=\"middle\" transform=\"translate(0,0)\" style=\"font-family: sans-serif; font-size: 0px; fill: rgb(201, 207, 228); fill-opacity: 0.3;\">beyond</text><text text-anchor=\"middle\" transform=\"translate(454,15)\" style=\"font-family: Helvetica Neue, Arial; font-size: 23px; font-style: normal; font-weight: normal; fill: rgb(103, 164, 204); fill-opacity: 0.3;\">gene</text><text text-anchor=\"middle\" transform=\"translate(0,0)\" style=\"font-family: sans-serif; font-size: 0px; fill: rgb(185, 199, 224); fill-opacity: 0.3;\">contrained</text><text text-anchor=\"middle\" transform=\"translate(0,0)\" style=\"font-family: sans-serif; font-size: 0px; fill: rgb(171, 192, 221); fill-opacity: 0.3;\">delocalization</text><text text-anchor=\"middle\" transform=\"translate(0,0)\" style=\"font-family: sans-serif; font-size: 0px; fill: rgb(90, 159, 201); fill-opacity: 0.3;\">computational model</text><text text-anchor=\"middle\" transform=\"translate(0,0)\" style=\"font-family: sans-serif; font-size: 0px; fill: rgb(130, 175, 211); fill-opacity: 0.3;\">treatment</text><text text-anchor=\"middle\" transform=\"translate(0,0)\" style=\"font-family: sans-serif; font-size: 0px; fill: rgb(171, 192, 221); fill-opacity: 0.3;\">role</text><text text-anchor=\"middle\" transform=\"translate(0,0)\" style=\"font-family: sans-serif; font-size: 0px; fill: rgb(130, 175, 211); fill-opacity: 0.3;\">mechanism</text><text text-anchor=\"middle\" transform=\"translate(0,0)\" style=\"font-family: sans-serif; font-size: 0px; fill: rgb(165, 189, 219); fill-opacity: 0.3;\">kinematics</text><text text-anchor=\"middle\" transform=\"translate(0,0)\" style=\"font-family: sans-serif; font-size: 0px; fill: rgb(193, 202, 226); fill-opacity: 0.3;\">investigate</text><text text-anchor=\"middle\" transform=\"translate(337,249)\" style=\"font-family: Helvetica Neue, Arial; font-size: 45px; font-style: normal; font-weight: normal; fill: rgb(6, 100, 157); fill-opacity: 0.3;\">hydrogen</text><text text-anchor=\"middle\" transform=\"translate(0,0)\" style=\"font-family: sans-serif; font-size: 0px; fill: rgb(73, 151, 196); fill-opacity: 0.3;\">human</text><text text-anchor=\"middle\" transform=\"translate(490,338)\" style=\"font-family: Helvetica Neue, Arial; font-size: 13px; font-style: normal; font-weight: normal; fill: rgb(201, 207, 228); fill-opacity: 0.3;\">leading</text><text text-anchor=\"middle\" transform=\"translate(0,0)\" style=\"font-family: sans-serif; font-size: 0px; fill: rgb(201, 207, 228); fill-opacity: 0.3;\">develop</text><text text-anchor=\"middle\" transform=\"translate(0,0)\" style=\"font-family: sans-serif; font-size: 0px; fill: rgb(165, 189, 219); fill-opacity: 0.3;\">white</text><text text-anchor=\"middle\" transform=\"translate(0,0)\" style=\"font-family: sans-serif; font-size: 0px; fill: rgb(78, 153, 198); fill-opacity: 0.3;\">neutron</text><text text-anchor=\"middle\" transform=\"translate(0,0)\" style=\"font-family: sans-serif; font-size: 0px; fill: rgb(130, 175, 211); fill-opacity: 0.3;\">neural network</text><text text-anchor=\"middle\" transform=\"translate(0,0)\" style=\"font-family: sans-serif; font-size: 0px; fill: rgb(209, 212, 231); fill-opacity: 0.3;\">animal</text><text text-anchor=\"middle\" transform=\"translate(0,0)\" style=\"font-family: sans-serif; font-size: 0px; fill: rgb(130, 175, 211); fill-opacity: 0.3;\">bar linkage</text><text text-anchor=\"middle\" transform=\"translate(183,336)\" style=\"font-family: Helvetica Neue, Arial; font-size: 15px; font-style: normal; font-weight: normal; fill: rgb(185, 199, 224); fill-opacity: 0.3;\">average</text><text text-anchor=\"middle\" transform=\"translate(0,0)\" style=\"font-family: sans-serif; font-size: 0px; fill: rgb(193, 202, 226); fill-opacity: 0.3;\">object</text><text text-anchor=\"middle\" transform=\"translate(0,0)\" style=\"font-family: sans-serif; font-size: 0px; fill: rgb(193, 202, 226); fill-opacity: 0.3;\">bone</text><text text-anchor=\"middle\" transform=\"translate(0,0)\" style=\"font-family: sans-serif; font-size: 0px; fill: rgb(76, 152, 197); fill-opacity: 0.3;\">machine</text><text text-anchor=\"middle\" transform=\"translate(63,102)\" style=\"font-family: Helvetica Neue, Arial; font-size: 28px; font-style: normal; font-weight: normal; fill: rgb(59, 144, 192); fill-opacity: 0.3;\">cost</text><text text-anchor=\"middle\" transform=\"translate(0,0)\" style=\"font-family: sans-serif; font-size: 0px; fill: rgb(159, 187, 218); fill-opacity: 0.3;\">behavior</text><text text-anchor=\"middle\" transform=\"translate(0,0)\" style=\"font-family: sans-serif; font-size: 0px; fill: rgb(118, 170, 208); fill-opacity: 0.3;\">nuclear</text><text text-anchor=\"middle\" transform=\"translate(807,123)\" style=\"font-family: Helvetica Neue, Arial; font-size: 42px; font-style: normal; font-weight: normal; fill: rgb(9, 106, 164); fill-opacity: 0.3;\">seizure</text><text text-anchor=\"middle\" transform=\"translate(0,0)\" style=\"font-family: sans-serif; font-size: 0px; fill: rgb(185, 199, 224); fill-opacity: 0.3;\">essential</text><text text-anchor=\"middle\" transform=\"translate(0,0)\" style=\"font-family: sans-serif; font-size: 0px; fill: rgb(144, 180, 214); fill-opacity: 0.3;\">immune</text><text text-anchor=\"middle\" transform=\"translate(823,17)\" style=\"font-family: Helvetica Neue, Arial; font-size: 20px; font-style: normal; font-weight: normal; fill: rgb(134, 176, 212); fill-opacity: 0.3;\">cbt</text><text text-anchor=\"middle\" transform=\"translate(216,135)\" style=\"font-family: Helvetica Neue, Arial; font-size: 20px; font-style: normal; font-weight: normal; fill: rgb(134, 176, 212); fill-opacity: 0.3;\">r</text><text text-anchor=\"middle\" transform=\"translate(0,0)\" style=\"font-family: sans-serif; font-size: 0px; fill: rgb(144, 180, 214); fill-opacity: 0.3;\">stable</text><text text-anchor=\"middle\" transform=\"translate(0,0)\" style=\"font-family: sans-serif; font-size: 0px; fill: rgb(185, 199, 224); fill-opacity: 0.3;\">variable</text><text text-anchor=\"middle\" transform=\"translate(0,0)\" style=\"font-family: sans-serif; font-size: 0px; fill: rgb(144, 180, 214); fill-opacity: 0.3;\">calibration</text><text text-anchor=\"middle\" transform=\"translate(0,0)\" style=\"font-family: sans-serif; font-size: 0px; fill: rgb(209, 212, 231); fill-opacity: 0.3;\">individual</text><text text-anchor=\"middle\" transform=\"translate(0,0)\" style=\"font-family: sans-serif; font-size: 0px; fill: rgb(201, 207, 228); fill-opacity: 0.3;\">conider</text><text text-anchor=\"middle\" transform=\"translate(0,0)\" style=\"font-family: sans-serif; font-size: 0px; fill: rgb(149, 182, 215); fill-opacity: 0.3;\">accuracy</text><text text-anchor=\"middle\" transform=\"translate(0,0)\" style=\"font-family: sans-serif; font-size: 0px; fill: rgb(139, 178, 213); fill-opacity: 0.3;\">processes</text><text text-anchor=\"middle\" transform=\"translate(0,0)\" style=\"font-family: sans-serif; font-size: 0px; fill: rgb(81, 155, 198); fill-opacity: 0.3;\">math processing error</text><text text-anchor=\"middle\" transform=\"translate(0,0)\" style=\"font-family: sans-serif; font-size: 0px; fill: rgb(159, 187, 218); fill-opacity: 0.3;\">search</text><text text-anchor=\"middle\" transform=\"translate(0,0)\" style=\"font-family: sans-serif; font-size: 0px; fill: rgb(139, 178, 213); fill-opacity: 0.3;\">monte carlo</text><text text-anchor=\"middle\" transform=\"translate(0,0)\" style=\"font-family: sans-serif; font-size: 0px; fill: rgb(114, 168, 207); fill-opacity: 0.3;\">categorization</text><text text-anchor=\"middle\" transform=\"translate(0,0)\" style=\"font-family: sans-serif; font-size: 0px; fill: rgb(165, 189, 219); fill-opacity: 0.3;\">dual phase</text><text text-anchor=\"middle\" transform=\"translate(0,0)\" style=\"font-family: sans-serif; font-size: 0px; fill: rgb(171, 192, 221); fill-opacity: 0.3;\">contribution</text><text text-anchor=\"middle\" transform=\"translate(99,40)\" style=\"font-family: Helvetica Neue, Arial; font-size: 22px; font-style: normal; font-weight: normal; fill: rgb(110, 167, 206); fill-opacity: 0.3;\">core</text><text text-anchor=\"middle\" transform=\"translate(0,0)\" style=\"font-family: sans-serif; font-size: 0px; fill: rgb(106, 165, 205); fill-opacity: 0.3;\">dynamic</text><text text-anchor=\"middle\" transform=\"translate(351,122)\" style=\"font-family: Helvetica Neue, Arial; font-size: 28px; font-style: normal; font-weight: normal; fill: rgb(61, 145, 193); fill-opacity: 0.3;\">age</text><text text-anchor=\"middle\" transform=\"translate(0,0)\" style=\"font-family: sans-serif; font-size: 0px; fill: rgb(165, 189, 219); fill-opacity: 0.3;\">systematic</text><text text-anchor=\"middle\" transform=\"translate(0,0)\" style=\"font-family: sans-serif; font-size: 0px; fill: rgb(87, 157, 200); fill-opacity: 0.3;\">natural scene</text><text text-anchor=\"middle\" transform=\"translate(0,0)\" style=\"font-family: sans-serif; font-size: 0px; fill: rgb(134, 176, 212); fill-opacity: 0.3;\">obligate</text><text text-anchor=\"middle\" transform=\"translate(0,0)\" style=\"font-family: sans-serif; font-size: 0px; fill: rgb(178, 196, 222); fill-opacity: 0.3;\">minimum</text><text text-anchor=\"middle\" transform=\"translate(0,0)\" style=\"font-family: sans-serif; font-size: 0px; fill: rgb(139, 178, 213); fill-opacity: 0.3;\">properties</text><text text-anchor=\"middle\" transform=\"translate(0,0)\" style=\"font-family: sans-serif; font-size: 0px; fill: rgb(114, 168, 207); fill-opacity: 0.3;\">economic</text><text text-anchor=\"middle\" transform=\"translate(0,0)\" style=\"font-family: sans-serif; font-size: 0px; fill: rgb(185, 199, 224); fill-opacity: 0.3;\">volume</text><text text-anchor=\"middle\" transform=\"translate(0,0)\" style=\"font-family: sans-serif; font-size: 0px; fill: rgb(118, 170, 208); fill-opacity: 0.3;\">deep learning</text><text text-anchor=\"middle\" transform=\"translate(0,0)\" style=\"font-family: sans-serif; font-size: 0px; fill: rgb(159, 187, 218); fill-opacity: 0.3;\">specific</text><text text-anchor=\"middle\" transform=\"translate(0,0)\" style=\"font-family: sans-serif; font-size: 0px; fill: rgb(154, 184, 217); fill-opacity: 0.3;\">cognitive behavioral</text><text text-anchor=\"middle\" transform=\"translate(0,0)\" style=\"font-family: sans-serif; font-size: 0px; fill: rgb(193, 202, 226); fill-opacity: 0.3;\">biomechanical</text><text text-anchor=\"middle\" transform=\"translate(0,0)\" style=\"font-family: sans-serif; font-size: 0px; fill: rgb(193, 202, 226); fill-opacity: 0.3;\">level</text><text text-anchor=\"middle\" transform=\"translate(0,0)\" style=\"font-family: sans-serif; font-size: 0px; fill: rgb(219, 218, 235); fill-opacity: 0.3;\">paper</text><text text-anchor=\"middle\" transform=\"translate(0,0)\" style=\"font-family: sans-serif; font-size: 0px; fill: rgb(103, 164, 204); fill-opacity: 0.3;\">deep network</text><text text-anchor=\"middle\" transform=\"translate(147,67)\" style=\"font-family: Helvetica Neue, Arial; font-size: 17px; font-style: normal; font-weight: normal; fill: rgb(159, 187, 218); fill-opacity: 0.3;\">low</text><text text-anchor=\"middle\" transform=\"translate(499,124)\" style=\"font-family: Helvetica Neue, Arial; font-size: 27px; font-style: normal; font-weight: normal; fill: rgb(71, 150, 195); fill-opacity: 0.3;\">hiv</text><text text-anchor=\"middle\" transform=\"translate(0,0)\" style=\"font-family: sans-serif; font-size: 0px; fill: rgb(126, 173, 210); fill-opacity: 0.3;\">event</text><text text-anchor=\"middle\" transform=\"translate(0,0)\" style=\"font-family: sans-serif; font-size: 0px; fill: rgb(122, 172, 209); fill-opacity: 0.3;\">tracking</text><text text-anchor=\"middle\" transform=\"translate(789,206)\" style=\"font-family: Helvetica Neue, Arial; font-size: 45px; font-style: normal; font-weight: normal; fill: rgb(6, 100, 157); fill-opacity: 0.3;\">ablation</text><text text-anchor=\"middle\" transform=\"translate(0,0)\" style=\"font-family: sans-serif; font-size: 0px; fill: rgb(134, 176, 212); fill-opacity: 0.3;\">helicosporidium genome</text><text text-anchor=\"middle\" transform=\"translate(0,0)\" style=\"font-family: sans-serif; font-size: 0px; fill: rgb(10, 109, 167); fill-opacity: 0.3;\">spiking</text><text text-anchor=\"middle\" transform=\"translate(0,0)\" style=\"font-family: sans-serif; font-size: 0px; fill: rgb(209, 212, 231); fill-opacity: 0.3;\">excellent</text><text text-anchor=\"middle\" transform=\"translate(0,0)\" style=\"font-family: sans-serif; font-size: 0px; fill: rgb(84, 156, 199); fill-opacity: 0.3;\">opercular mechanism</text><text text-anchor=\"middle\" transform=\"translate(0,0)\" style=\"font-family: sans-serif; font-size: 0px; fill: rgb(81, 155, 198); fill-opacity: 0.3;\">stochastic</text><text text-anchor=\"middle\" transform=\"translate(0,0)\" style=\"font-family: sans-serif; font-size: 0px; fill: rgb(144, 180, 214); fill-opacity: 0.3;\">shape</text><text text-anchor=\"middle\" transform=\"translate(0,0)\" style=\"font-family: sans-serif; font-size: 0px; fill: rgb(185, 199, 224); fill-opacity: 0.3;\">time projection</text><text text-anchor=\"middle\" transform=\"translate(0,0)\" style=\"font-family: sans-serif; font-size: 0px; fill: rgb(165, 189, 219); fill-opacity: 0.3;\">structural</text><text text-anchor=\"middle\" transform=\"translate(0,0)\" style=\"font-family: sans-serif; font-size: 0px; fill: rgb(171, 192, 221); fill-opacity: 0.3;\">dependence</text><text text-anchor=\"middle\" transform=\"translate(37,326)\" style=\"font-family: Helvetica Neue, Arial; font-size: 21px; font-style: normal; font-weight: normal; fill: rgb(122, 172, 209); fill-opacity: 0.3;\">the</text><text text-anchor=\"middle\" transform=\"translate(0,0)\" style=\"font-family: sans-serif; font-size: 0px; fill: rgb(193, 202, 226); fill-opacity: 0.3;\">these results</text><text text-anchor=\"middle\" transform=\"translate(0,0)\" style=\"font-family: sans-serif; font-size: 0px; fill: rgb(171, 192, 221); fill-opacity: 0.3;\">matrix</text><text text-anchor=\"middle\" transform=\"translate(0,0)\" style=\"font-family: sans-serif; font-size: 0px; fill: rgb(118, 170, 208); fill-opacity: 0.3;\">leaves</text><text text-anchor=\"middle\" transform=\"translate(0,0)\" style=\"font-family: sans-serif; font-size: 0px; fill: rgb(134, 176, 212); fill-opacity: 0.3;\">population</text><text text-anchor=\"middle\" transform=\"translate(0,0)\" style=\"font-family: sans-serif; font-size: 0px; fill: rgb(159, 187, 218); fill-opacity: 0.3;\">hypothesis</text><text text-anchor=\"middle\" transform=\"translate(0,0)\" style=\"font-family: sans-serif; font-size: 0px; fill: rgb(165, 189, 219); fill-opacity: 0.3;\">interaction</text><text text-anchor=\"middle\" transform=\"translate(0,0)\" style=\"font-family: sans-serif; font-size: 0px; fill: rgb(209, 212, 231); fill-opacity: 0.3;\">resulting</text><text text-anchor=\"middle\" transform=\"translate(0,0)\" style=\"font-family: sans-serif; font-size: 0px; fill: rgb(165, 189, 219); fill-opacity: 0.3;\">requires</text><text text-anchor=\"middle\" transform=\"translate(852,238)\" style=\"font-family: Helvetica Neue, Arial; font-size: 27px; font-style: normal; font-weight: normal; fill: rgb(66, 147, 194); fill-opacity: 0.3;\">lifetime</text><text text-anchor=\"middle\" transform=\"translate(0,0)\" style=\"font-family: sans-serif; font-size: 0px; fill: rgb(159, 187, 218); fill-opacity: 0.3;\">low energy</text><text text-anchor=\"middle\" transform=\"translate(161,170)\" style=\"font-family: Helvetica Neue, Arial; font-size: 45px; font-style: normal; font-weight: normal; fill: rgb(6, 100, 157); fill-opacity: 0.3;\">metal carbide</text><text text-anchor=\"middle\" transform=\"translate(0,0)\" style=\"font-family: sans-serif; font-size: 0px; fill: rgb(139, 178, 213); fill-opacity: 0.3;\">lead</text><text text-anchor=\"middle\" transform=\"translate(0,0)\" style=\"font-family: sans-serif; font-size: 0px; fill: rgb(185, 199, 224); fill-opacity: 0.3;\">traditional</text><text text-anchor=\"middle\" transform=\"translate(868,265)\" style=\"font-family: Helvetica Neue, Arial; font-size: 19px; font-style: normal; font-weight: normal; fill: rgb(144, 180, 214); fill-opacity: 0.3;\">kg</text><text text-anchor=\"middle\" transform=\"translate(0,0)\" style=\"font-family: sans-serif; font-size: 0px; fill: rgb(193, 202, 226); fill-opacity: 0.3;\">ratio</text><text text-anchor=\"middle\" transform=\"translate(0,0)\" style=\"font-family: sans-serif; font-size: 0px; fill: rgb(159, 187, 218); fill-opacity: 0.3;\">space</text><text text-anchor=\"middle\" transform=\"translate(0,0)\" style=\"font-family: sans-serif; font-size: 0px; fill: rgb(118, 170, 208); fill-opacity: 0.3;\">expectation</text><text text-anchor=\"middle\" transform=\"translate(0,0)\" style=\"font-family: sans-serif; font-size: 0px; fill: rgb(201, 207, 228); fill-opacity: 0.3;\">binding</text><text text-anchor=\"middle\" transform=\"translate(514,157)\" style=\"font-family: Helvetica Neue, Arial; font-size: 51px; font-style: normal; font-weight: normal; fill: rgb(4, 89, 140); fill-opacity: 0.3;\">scaling</text><text text-anchor=\"middle\" transform=\"translate(0,0)\" style=\"font-family: sans-serif; font-size: 0px; fill: rgb(81, 155, 198); fill-opacity: 0.3;\">processing error</text><text text-anchor=\"middle\" transform=\"translate(0,0)\" style=\"font-family: sans-serif; font-size: 0px; fill: rgb(78, 153, 198); fill-opacity: 0.3;\">combined</text><text text-anchor=\"middle\" transform=\"translate(235,129)\" style=\"font-family: Helvetica Neue, Arial; font-size: 22px; font-style: normal; font-weight: normal; fill: rgb(114, 168, 207); fill-opacity: 0.3;\">m</text><text text-anchor=\"middle\" transform=\"translate(0,0)\" style=\"font-family: sans-serif; font-size: 0px; fill: rgb(171, 192, 221); fill-opacity: 0.3;\">denity</text><text text-anchor=\"middle\" transform=\"translate(647,323)\" style=\"font-family: Helvetica Neue, Arial; font-size: 25px; font-style: normal; font-weight: normal; fill: rgb(87, 157, 200); fill-opacity: 0.3;\">rl</text><text text-anchor=\"middle\" transform=\"translate(0,0)\" style=\"font-family: sans-serif; font-size: 0px; fill: rgb(144, 180, 214); fill-opacity: 0.3;\">trial</text><text text-anchor=\"middle\" transform=\"translate(0,0)\" style=\"font-family: sans-serif; font-size: 0px; fill: rgb(193, 202, 226); fill-opacity: 0.3;\">due</text><text text-anchor=\"middle\" transform=\"translate(0,0)\" style=\"font-family: sans-serif; font-size: 0px; fill: rgb(110, 167, 206); fill-opacity: 0.3;\">science</text><text text-anchor=\"middle\" transform=\"translate(0,0)\" style=\"font-family: sans-serif; font-size: 0px; fill: rgb(122, 172, 209); fill-opacity: 0.3;\">movement</text><text text-anchor=\"middle\" transform=\"translate(0,0)\" style=\"font-family: sans-serif; font-size: 0px; fill: rgb(87, 157, 200); fill-opacity: 0.3;\">hamiltonian</text><text text-anchor=\"middle\" transform=\"translate(0,0)\" style=\"font-family: sans-serif; font-size: 0px; fill: rgb(149, 182, 215); fill-opacity: 0.3;\">dual</text><text text-anchor=\"middle\" transform=\"translate(0,0)\" style=\"font-family: sans-serif; font-size: 0px; fill: rgb(154, 184, 217); fill-opacity: 0.3;\">defective rbc</text><text text-anchor=\"middle\" transform=\"translate(0,0)\" style=\"font-family: sans-serif; font-size: 0px; fill: rgb(103, 164, 204); fill-opacity: 0.3;\">symmetry</text><text text-anchor=\"middle\" transform=\"translate(0,0)\" style=\"font-family: sans-serif; font-size: 0px; fill: rgb(201, 207, 228); fill-opacity: 0.3;\">previous</text><text text-anchor=\"middle\" transform=\"translate(0,0)\" style=\"font-family: sans-serif; font-size: 0px; fill: rgb(159, 187, 218); fill-opacity: 0.3;\">nine user</text><text text-anchor=\"middle\" transform=\"translate(0,0)\" style=\"font-family: sans-serif; font-size: 0px; fill: rgb(90, 159, 201); fill-opacity: 0.3;\">r crassostreae</text><text text-anchor=\"middle\" transform=\"translate(0,0)\" style=\"font-family: sans-serif; font-size: 0px; fill: rgb(165, 189, 219); fill-opacity: 0.3;\">thus</text><text text-anchor=\"middle\" transform=\"translate(0,0)\" style=\"font-family: sans-serif; font-size: 0px; fill: rgb(154, 184, 217); fill-opacity: 0.3;\">large underground xenon</text><text text-anchor=\"middle\" transform=\"translate(0,0)\" style=\"font-family: sans-serif; font-size: 0px; fill: rgb(193, 202, 226); fill-opacity: 0.3;\">we employ</text><text text-anchor=\"middle\" transform=\"translate(0,0)\" style=\"font-family: sans-serif; font-size: 0px; fill: rgb(178, 196, 222); fill-opacity: 0.3;\">field</text><text text-anchor=\"middle\" transform=\"translate(145,121)\" style=\"font-family: Helvetica Neue, Arial; font-size: 19px; font-style: normal; font-weight: normal; fill: rgb(139, 178, 213); fill-opacity: 0.3;\">ct</text><text text-anchor=\"middle\" transform=\"translate(408,137)\" style=\"font-family: Helvetica Neue, Arial; font-size: 40px; font-style: normal; font-weight: normal; fill: rgb(11, 112, 171); fill-opacity: 0.3;\">sea</text><text text-anchor=\"middle\" transform=\"translate(0,0)\" style=\"font-family: sans-serif; font-size: 0px; fill: rgb(114, 168, 207); fill-opacity: 0.3;\">dark matter</text><text text-anchor=\"middle\" transform=\"translate(0,0)\" style=\"font-family: sans-serif; font-size: 0px; fill: rgb(154, 184, 217); fill-opacity: 0.3;\">kenya</text><text text-anchor=\"middle\" transform=\"translate(0,0)\" style=\"font-family: sans-serif; font-size: 0px; fill: rgb(185, 199, 224); fill-opacity: 0.3;\">projection chamber</text><text text-anchor=\"middle\" transform=\"translate(0,0)\" style=\"font-family: sans-serif; font-size: 0px; fill: rgb(201, 207, 228); fill-opacity: 0.3;\">integration</text><text text-anchor=\"middle\" transform=\"translate(0,0)\" style=\"font-family: sans-serif; font-size: 0px; fill: rgb(90, 159, 201); fill-opacity: 0.3;\">cortical</text><text text-anchor=\"middle\" transform=\"translate(0,0)\" style=\"font-family: sans-serif; font-size: 0px; fill: rgb(171, 192, 221); fill-opacity: 0.3;\">provide</text><text text-anchor=\"middle\" transform=\"translate(0,0)\" style=\"font-family: sans-serif; font-size: 0px; fill: rgb(185, 199, 224); fill-opacity: 0.3;\">time projection chamber</text><text text-anchor=\"middle\" transform=\"translate(746,327)\" style=\"font-family: Helvetica Neue, Arial; font-size: 20px; font-style: normal; font-weight: normal; fill: rgb(134, 176, 212); fill-opacity: 0.3;\">acid</text><text text-anchor=\"middle\" transform=\"translate(0,0)\" style=\"font-family: sans-serif; font-size: 0px; fill: rgb(201, 207, 228); fill-opacity: 0.3;\">produce</text><text text-anchor=\"middle\" transform=\"translate(83,303)\" style=\"font-family: Helvetica Neue, Arial; font-size: 33px; font-style: normal; font-weight: normal; fill: rgb(31, 127, 183); fill-opacity: 0.3;\">signature</text><text text-anchor=\"middle\" transform=\"translate(0,0)\" style=\"font-family: sans-serif; font-size: 0px; fill: rgb(171, 192, 221); fill-opacity: 0.3;\">analysis</text><text text-anchor=\"middle\" transform=\"translate(0,0)\" style=\"font-family: sans-serif; font-size: 0px; fill: rgb(149, 182, 215); fill-opacity: 0.3;\">system</text><text text-anchor=\"middle\" transform=\"translate(0,0)\" style=\"font-family: sans-serif; font-size: 0px; fill: rgb(165, 189, 219); fill-opacity: 0.3;\">suggest</text><text text-anchor=\"middle\" transform=\"translate(0,0)\" style=\"font-family: sans-serif; font-size: 0px; fill: rgb(93, 160, 202); fill-opacity: 0.3;\">skeletal</text><text text-anchor=\"middle\" transform=\"translate(0,0)\" style=\"font-family: sans-serif; font-size: 0px; fill: rgb(114, 168, 207); fill-opacity: 0.3;\">disease</text><text text-anchor=\"middle\" transform=\"translate(556,70)\" style=\"font-family: Helvetica Neue, Arial; font-size: 15px; font-style: normal; font-weight: normal; fill: rgb(178, 196, 222); fill-opacity: 0.3;\">in</text><text text-anchor=\"middle\" transform=\"translate(0,0)\" style=\"font-family: sans-serif; font-size: 0px; fill: rgb(219, 218, 235); fill-opacity: 0.3;\">derived</text><text text-anchor=\"middle\" transform=\"translate(83,132)\" style=\"font-family: Helvetica Neue, Arial; font-size: 39px; font-style: normal; font-weight: normal; fill: rgb(12, 113, 172); fill-opacity: 0.3;\">oyster</text><text text-anchor=\"middle\" transform=\"translate(0,0)\" style=\"font-family: sans-serif; font-size: 0px; fill: rgb(103, 164, 204); fill-opacity: 0.3;\">minima</text><text text-anchor=\"middle\" transform=\"translate(0,0)\" style=\"font-family: sans-serif; font-size: 0px; fill: rgb(87, 157, 200); fill-opacity: 0.3;\">liquid</text><text text-anchor=\"middle\" transform=\"translate(0,0)\" style=\"font-family: sans-serif; font-size: 0px; fill: rgb(193, 202, 226); fill-opacity: 0.3;\">exhibit</text><text text-anchor=\"middle\" transform=\"translate(0,0)\" style=\"font-family: sans-serif; font-size: 0px; fill: rgb(134, 176, 212); fill-opacity: 0.3;\">benefit</text><text text-anchor=\"middle\" transform=\"translate(0,0)\" style=\"font-family: sans-serif; font-size: 0px; fill: rgb(134, 176, 212); fill-opacity: 0.3;\">weakly interacting</text><text text-anchor=\"middle\" transform=\"translate(0,0)\" style=\"font-family: sans-serif; font-size: 0px; fill: rgb(134, 176, 212); fill-opacity: 0.3;\">visual</text><text text-anchor=\"middle\" transform=\"translate(0,0)\" style=\"font-family: sans-serif; font-size: 0px; fill: rgb(171, 192, 221); fill-opacity: 0.3;\">studying</text><text text-anchor=\"middle\" transform=\"translate(0,0)\" style=\"font-family: sans-serif; font-size: 0px; fill: rgb(209, 212, 231); fill-opacity: 0.3;\">quantify</text><text text-anchor=\"middle\" transform=\"translate(0,0)\" style=\"font-family: sans-serif; font-size: 0px; fill: rgb(134, 176, 212); fill-opacity: 0.3;\">grfv n kg</text><text text-anchor=\"middle\" transform=\"translate(0,0)\" style=\"font-family: sans-serif; font-size: 0px; fill: rgb(178, 196, 222); fill-opacity: 0.3;\">accurate</text><text text-anchor=\"middle\" transform=\"translate(0,0)\" style=\"font-family: sans-serif; font-size: 0px; fill: rgb(165, 189, 219); fill-opacity: 0.3;\">rapid</text><text text-anchor=\"middle\" transform=\"translate(0,0)\" style=\"font-family: sans-serif; font-size: 0px; fill: rgb(149, 182, 215); fill-opacity: 0.3;\">body</text><text text-anchor=\"middle\" transform=\"translate(0,0)\" style=\"font-family: sans-serif; font-size: 0px; fill: rgb(149, 182, 215); fill-opacity: 0.3;\">error</text><text text-anchor=\"middle\" transform=\"translate(0,0)\" style=\"font-family: sans-serif; font-size: 0px; fill: rgb(178, 196, 222); fill-opacity: 0.3;\">produced</text><text text-anchor=\"middle\" transform=\"translate(0,0)\" style=\"font-family: sans-serif; font-size: 0px; fill: rgb(114, 168, 207); fill-opacity: 0.3;\">spike</text><text text-anchor=\"middle\" transform=\"translate(617,335)\" style=\"font-family: Helvetica Neue, Arial; font-size: 15px; font-style: normal; font-weight: normal; fill: rgb(178, 196, 222); fill-opacity: 0.3;\">source</text><text text-anchor=\"middle\" transform=\"translate(507,240)\" style=\"font-family: Helvetica Neue, Arial; font-size: 49px; font-style: normal; font-weight: normal; fill: rgb(5, 93, 146); fill-opacity: 0.3;\">trait</text><text text-anchor=\"middle\" transform=\"translate(0,0)\" style=\"font-family: sans-serif; font-size: 0px; fill: rgb(96, 161, 202); fill-opacity: 0.3;\">intervention</text><text text-anchor=\"middle\" transform=\"translate(0,0)\" style=\"font-family: sans-serif; font-size: 0px; fill: rgb(73, 151, 196); fill-opacity: 0.3;\">hybrid</text><text text-anchor=\"middle\" transform=\"translate(0,0)\" style=\"font-family: sans-serif; font-size: 0px; fill: rgb(185, 199, 224); fill-opacity: 0.3;\">yielded</text><text text-anchor=\"middle\" transform=\"translate(0,0)\" style=\"font-family: sans-serif; font-size: 0px; fill: rgb(154, 184, 217); fill-opacity: 0.3;\">offers</text><text text-anchor=\"middle\" transform=\"translate(0,0)\" style=\"font-family: sans-serif; font-size: 0px; fill: rgb(159, 187, 218); fill-opacity: 0.3;\">aspects</text><text text-anchor=\"middle\" transform=\"translate(696,122)\" style=\"font-family: Helvetica Neue, Arial; font-size: 45px; font-style: normal; font-weight: normal; fill: rgb(7, 101, 158); fill-opacity: 0.3;\">early</text><text text-anchor=\"middle\" transform=\"translate(0,0)\" style=\"font-family: sans-serif; font-size: 0px; fill: rgb(154, 184, 217); fill-opacity: 0.3;\">families</text><text text-anchor=\"middle\" transform=\"translate(658,238)\" style=\"font-family: Helvetica Neue, Arial; font-size: 37px; font-style: normal; font-weight: normal; fill: rgb(19, 118, 176); fill-opacity: 0.3;\">rib</text><text text-anchor=\"middle\" transform=\"translate(0,0)\" style=\"font-family: sans-serif; font-size: 0px; fill: rgb(134, 176, 212); fill-opacity: 0.3;\">pressure</text><text text-anchor=\"middle\" transform=\"translate(0,0)\" style=\"font-family: sans-serif; font-size: 0px; fill: rgb(178, 196, 222); fill-opacity: 0.3;\">region</text><text text-anchor=\"middle\" transform=\"translate(0,0)\" style=\"font-family: sans-serif; font-size: 0px; fill: rgb(149, 182, 215); fill-opacity: 0.3;\">differential</text><text text-anchor=\"middle\" transform=\"translate(0,0)\" style=\"font-family: sans-serif; font-size: 0px; fill: rgb(178, 196, 222); fill-opacity: 0.3;\">xenon lux</text><text text-anchor=\"middle\" transform=\"translate(0,0)\" style=\"font-family: sans-serif; font-size: 0px; fill: rgb(126, 173, 210); fill-opacity: 0.3;\">environment</text><text text-anchor=\"middle\" transform=\"translate(0,0)\" style=\"font-family: sans-serif; font-size: 0px; fill: rgb(103, 164, 204); fill-opacity: 0.3;\">dynamically</text><text text-anchor=\"middle\" transform=\"translate(871,204)\" style=\"font-family: Helvetica Neue, Arial; font-size: 15px; font-style: normal; font-weight: normal; fill: rgb(185, 199, 224); fill-opacity: 0.3;\">dft</text><text text-anchor=\"middle\" transform=\"translate(0,0)\" style=\"font-family: sans-serif; font-size: 0px; fill: rgb(171, 192, 221); fill-opacity: 0.3;\">real time</text><text text-anchor=\"middle\" transform=\"translate(0,0)\" style=\"font-family: sans-serif; font-size: 0px; fill: rgb(118, 170, 208); fill-opacity: 0.3;\">signal</text><text text-anchor=\"middle\" transform=\"translate(0,0)\" style=\"font-family: sans-serif; font-size: 0px; fill: rgb(154, 184, 217); fill-opacity: 0.3;\">performed</text><text text-anchor=\"middle\" transform=\"translate(104,21)\" style=\"font-family: Helvetica Neue, Arial; font-size: 29px; font-style: normal; font-weight: normal; fill: rgb(53, 141, 190); fill-opacity: 0.3;\">genome</text><text text-anchor=\"middle\" transform=\"translate(0,0)\" style=\"font-family: sans-serif; font-size: 0px; fill: rgb(99, 162, 203); fill-opacity: 0.3;\">cascade</text><text text-anchor=\"middle\" transform=\"translate(0,0)\" style=\"font-family: sans-serif; font-size: 0px; fill: rgb(106, 165, 205); fill-opacity: 0.3;\">link</text><text text-anchor=\"middle\" transform=\"translate(0,0)\" style=\"font-family: sans-serif; font-size: 0px; fill: rgb(209, 212, 231); fill-opacity: 0.3;\">however</text><text text-anchor=\"middle\" transform=\"translate(0,0)\" style=\"font-family: sans-serif; font-size: 0px; fill: rgb(154, 184, 217); fill-opacity: 0.3;\">extra</text><text text-anchor=\"middle\" transform=\"translate(0,0)\" style=\"font-family: sans-serif; font-size: 0px; fill: rgb(154, 184, 217); fill-opacity: 0.3;\">outcome</text><text text-anchor=\"middle\" transform=\"translate(37,46)\" style=\"font-family: Helvetica Neue, Arial; font-size: 23px; font-style: normal; font-weight: normal; fill: rgb(106, 165, 205); fill-opacity: 0.3;\">grfv</text><text text-anchor=\"middle\" transform=\"translate(867,327)\" style=\"font-family: Helvetica Neue, Arial; font-size: 20px; font-style: normal; font-weight: normal; fill: rgb(130, 175, 211); fill-opacity: 0.3;\">mm</text><text text-anchor=\"middle\" transform=\"translate(0,0)\" style=\"font-family: sans-serif; font-size: 0px; fill: rgb(154, 184, 217); fill-opacity: 0.3;\">abstract</text><text text-anchor=\"middle\" transform=\"translate(0,0)\" style=\"font-family: sans-serif; font-size: 0px; fill: rgb(209, 212, 231); fill-opacity: 0.3;\">directly</text><text text-anchor=\"middle\" transform=\"translate(0,0)\" style=\"font-family: sans-serif; font-size: 0px; fill: rgb(118, 170, 208); fill-opacity: 0.3;\">venation</text><text text-anchor=\"middle\" transform=\"translate(0,0)\" style=\"font-family: sans-serif; font-size: 0px; fill: rgb(165, 189, 219); fill-opacity: 0.3;\">senitivity</text><text text-anchor=\"middle\" transform=\"translate(0,0)\" style=\"font-family: sans-serif; font-size: 0px; fill: rgb(201, 207, 228); fill-opacity: 0.3;\">patient</text><text text-anchor=\"middle\" transform=\"translate(0,0)\" style=\"font-family: sans-serif; font-size: 0px; fill: rgb(134, 176, 212); fill-opacity: 0.3;\">equilibrium</text><text text-anchor=\"middle\" transform=\"translate(459,72)\" style=\"font-family: Helvetica Neue, Arial; font-size: 21px; font-style: normal; font-weight: normal; fill: rgb(118, 170, 208); fill-opacity: 0.3;\">n n n</text><text text-anchor=\"middle\" transform=\"translate(628,227)\" style=\"font-family: Helvetica Neue, Arial; font-size: 28px; font-style: normal; font-weight: normal; fill: rgb(61, 145, 193); fill-opacity: 0.3;\">er</text><text text-anchor=\"middle\" transform=\"translate(0,0)\" style=\"font-family: sans-serif; font-size: 0px; fill: rgb(96, 161, 202); fill-opacity: 0.3;\">developmental</text><text text-anchor=\"middle\" transform=\"translate(0,0)\" style=\"font-family: sans-serif; font-size: 0px; fill: rgb(154, 184, 217); fill-opacity: 0.3;\">return</text><text text-anchor=\"middle\" transform=\"translate(199,321)\" style=\"font-family: Helvetica Neue, Arial; font-size: 27px; font-style: normal; font-weight: normal; fill: rgb(68, 149, 195); fill-opacity: 0.3;\">xenon</text><text text-anchor=\"middle\" transform=\"translate(0,0)\" style=\"font-family: sans-serif; font-size: 0px; fill: rgb(144, 180, 214); fill-opacity: 0.3;\">massive</text><text text-anchor=\"middle\" transform=\"translate(428,176)\" style=\"font-family: Helvetica Neue, Arial; font-size: 16px; font-style: normal; font-weight: normal; fill: rgb(171, 192, 221); fill-opacity: 0.3;\">v</text><text text-anchor=\"middle\" transform=\"translate(0,0)\" style=\"font-family: sans-serif; font-size: 0px; fill: rgb(171, 192, 221); fill-opacity: 0.3;\">inight</text><text text-anchor=\"middle\" transform=\"translate(0,0)\" style=\"font-family: sans-serif; font-size: 0px; fill: rgb(185, 199, 224); fill-opacity: 0.3;\">projection</text><text text-anchor=\"middle\" transform=\"translate(0,0)\" style=\"font-family: sans-serif; font-size: 0px; fill: rgb(93, 160, 202); fill-opacity: 0.3;\">electronic</text><text text-anchor=\"middle\" transform=\"translate(452,123)\" style=\"font-family: Helvetica Neue, Arial; font-size: 23px; font-style: normal; font-weight: normal; fill: rgb(103, 164, 204); fill-opacity: 0.3;\">lux</text><text text-anchor=\"middle\" transform=\"translate(83,69)\" style=\"font-family: Helvetica Neue, Arial; font-size: 31px; font-style: normal; font-weight: normal; fill: rgb(42, 134, 187); fill-opacity: 0.3;\">xmalab</text><text text-anchor=\"middle\" transform=\"translate(0,0)\" style=\"font-family: sans-serif; font-size: 0px; fill: rgb(106, 165, 205); fill-opacity: 0.3;\">artificial boundary</text><text text-anchor=\"middle\" transform=\"translate(31,222)\" style=\"font-family: Helvetica Neue, Arial; font-size: 15px; font-style: normal; font-weight: normal; fill: rgb(178, 196, 222); fill-opacity: 0.3;\">ev</text><text text-anchor=\"middle\" transform=\"translate(0,0)\" style=\"font-family: sans-serif; font-size: 0px; fill: rgb(165, 189, 219); fill-opacity: 0.3;\">functional</text><text text-anchor=\"middle\" transform=\"translate(0,0)\" style=\"font-family: sans-serif; font-size: 0px; fill: rgb(201, 207, 228); fill-opacity: 0.3;\">numerous</text><text text-anchor=\"middle\" transform=\"translate(0,0)\" style=\"font-family: sans-serif; font-size: 0px; fill: rgb(12, 113, 172); fill-opacity: 0.3;\">fractional</text><text text-anchor=\"middle\" transform=\"translate(0,0)\" style=\"font-family: sans-serif; font-size: 0px; fill: rgb(118, 170, 208); fill-opacity: 0.3;\">ribcage</text><text text-anchor=\"middle\" transform=\"translate(0,0)\" style=\"font-family: sans-serif; font-size: 0px; fill: rgb(159, 187, 218); fill-opacity: 0.3;\">dpd</text><text text-anchor=\"middle\" transform=\"translate(33,20)\" style=\"font-family: Helvetica Neue, Arial; font-size: 20px; font-style: normal; font-weight: normal; fill: rgb(130, 175, 211); fill-opacity: 0.3;\">fast</text><text text-anchor=\"middle\" transform=\"translate(0,0)\" style=\"font-family: sans-serif; font-size: 0px; fill: rgb(154, 184, 217); fill-opacity: 0.3;\">diffusion</text><text text-anchor=\"middle\" transform=\"translate(0,0)\" style=\"font-family: sans-serif; font-size: 0px; fill: rgb(178, 196, 222); fill-opacity: 0.3;\">loss</text><text text-anchor=\"middle\" transform=\"translate(0,0)\" style=\"font-family: sans-serif; font-size: 0px; fill: rgb(193, 202, 226); fill-opacity: 0.3;\">freedom</text><text text-anchor=\"middle\" transform=\"translate(0,0)\" style=\"font-family: sans-serif; font-size: 0px; fill: rgb(84, 156, 199); fill-opacity: 0.3;\">rydberg</text><text text-anchor=\"middle\" transform=\"translate(0,0)\" style=\"font-family: sans-serif; font-size: 0px; fill: rgb(171, 192, 221); fill-opacity: 0.3;\">expression</text><text text-anchor=\"middle\" transform=\"translate(0,0)\" style=\"font-family: sans-serif; font-size: 0px; fill: rgb(185, 199, 224); fill-opacity: 0.3;\">interpretation</text><text text-anchor=\"middle\" transform=\"translate(0,0)\" style=\"font-family: sans-serif; font-size: 0px; fill: rgb(130, 175, 211); fill-opacity: 0.3;\">marker based</text><text text-anchor=\"middle\" transform=\"translate(0,0)\" style=\"font-family: sans-serif; font-size: 0px; fill: rgb(134, 176, 212); fill-opacity: 0.3;\">grfv n</text><text text-anchor=\"middle\" transform=\"translate(0,0)\" style=\"font-family: sans-serif; font-size: 0px; fill: rgb(159, 187, 218); fill-opacity: 0.3;\">time</text><text text-anchor=\"middle\" transform=\"translate(0,0)\" style=\"font-family: sans-serif; font-size: 0px; fill: rgb(122, 172, 209); fill-opacity: 0.3;\">calculation</text><text text-anchor=\"middle\" transform=\"translate(0,0)\" style=\"font-family: sans-serif; font-size: 0px; fill: rgb(103, 164, 204); fill-opacity: 0.3;\">xrayproject</text><text text-anchor=\"middle\" transform=\"translate(0,0)\" style=\"font-family: sans-serif; font-size: 0px; fill: rgb(99, 162, 203); fill-opacity: 0.3;\">fluctuation</text><text text-anchor=\"middle\" transform=\"translate(0,0)\" style=\"font-family: sans-serif; font-size: 0px; fill: rgb(81, 155, 198); fill-opacity: 0.3;\">decoding</text><text text-anchor=\"middle\" transform=\"translate(0,0)\" style=\"font-family: sans-serif; font-size: 0px; fill: rgb(126, 173, 210); fill-opacity: 0.3;\">network</text><text text-anchor=\"middle\" transform=\"translate(0,0)\" style=\"font-family: sans-serif; font-size: 0px; fill: rgb(154, 184, 217); fill-opacity: 0.3;\">text</text><text text-anchor=\"middle\" transform=\"translate(0,0)\" style=\"font-family: sans-serif; font-size: 0px; fill: rgb(63, 146, 193); fill-opacity: 0.3;\">boundary</text><text text-anchor=\"middle\" transform=\"translate(0,0)\" style=\"font-family: sans-serif; font-size: 0px; fill: rgb(122, 172, 209); fill-opacity: 0.3;\">computer</text><text text-anchor=\"middle\" transform=\"translate(0,0)\" style=\"font-family: sans-serif; font-size: 0px; fill: rgb(185, 199, 224); fill-opacity: 0.3;\">increased</text><text text-anchor=\"middle\" transform=\"translate(0,0)\" style=\"font-family: sans-serif; font-size: 0px; fill: rgb(149, 182, 215); fill-opacity: 0.3;\">independent</text><text text-anchor=\"middle\" transform=\"translate(0,0)\" style=\"font-family: sans-serif; font-size: 0px; fill: rgb(57, 143, 192); fill-opacity: 0.3;\">enemble</text><text text-anchor=\"middle\" transform=\"translate(0,0)\" style=\"font-family: sans-serif; font-size: 0px; fill: rgb(165, 189, 219); fill-opacity: 0.3;\">first</text><text text-anchor=\"middle\" transform=\"translate(0,0)\" style=\"font-family: sans-serif; font-size: 0px; fill: rgb(106, 165, 205); fill-opacity: 0.3;\">contraint dynamic</text><text text-anchor=\"middle\" transform=\"translate(0,0)\" style=\"font-family: sans-serif; font-size: 0px; fill: rgb(185, 199, 224); fill-opacity: 0.3;\">data management</text><text text-anchor=\"middle\" transform=\"translate(0,0)\" style=\"font-family: sans-serif; font-size: 0px; fill: rgb(193, 202, 226); fill-opacity: 0.3;\">degree freedom</text><text text-anchor=\"middle\" transform=\"translate(0,0)\" style=\"font-family: sans-serif; font-size: 0px; fill: rgb(144, 180, 214); fill-opacity: 0.3;\">variety</text><text text-anchor=\"middle\" transform=\"translate(0,0)\" style=\"font-family: sans-serif; font-size: 0px; fill: rgb(185, 199, 224); fill-opacity: 0.3;\">complexity</text><text text-anchor=\"middle\" transform=\"translate(0,0)\" style=\"font-family: sans-serif; font-size: 0px; fill: rgb(185, 199, 224); fill-opacity: 0.3;\">functional theory</text><text text-anchor=\"middle\" transform=\"translate(0,0)\" style=\"font-family: sans-serif; font-size: 0px; fill: rgb(178, 196, 222); fill-opacity: 0.3;\">feature</text><text text-anchor=\"middle\" transform=\"translate(0,0)\" style=\"font-family: sans-serif; font-size: 0px; fill: rgb(209, 212, 231); fill-opacity: 0.3;\">ability</text><text text-anchor=\"middle\" transform=\"translate(0,0)\" style=\"font-family: sans-serif; font-size: 0px; fill: rgb(185, 199, 224); fill-opacity: 0.3;\">increasing</text><text text-anchor=\"middle\" transform=\"translate(339,138)\" style=\"font-family: Helvetica Neue, Arial; font-size: 19px; font-style: normal; font-weight: normal; fill: rgb(144, 180, 214); fill-opacity: 0.3;\">s</text><text text-anchor=\"middle\" transform=\"translate(0,0)\" style=\"font-family: sans-serif; font-size: 0px; fill: rgb(139, 178, 213); fill-opacity: 0.3;\">american</text><text text-anchor=\"middle\" transform=\"translate(411,247)\" style=\"font-family: Helvetica Neue, Arial; font-size: 20px; font-style: normal; font-weight: normal; fill: rgb(134, 176, 212); fill-opacity: 0.3;\">j</text><text text-anchor=\"middle\" transform=\"translate(0,0)\" style=\"font-family: sans-serif; font-size: 0px; fill: rgb(193, 202, 226); fill-opacity: 0.3;\">presence</text><text text-anchor=\"middle\" transform=\"translate(0,0)\" style=\"font-family: sans-serif; font-size: 0px; fill: rgb(126, 173, 210); fill-opacity: 0.3;\">data</text><text text-anchor=\"middle\" transform=\"translate(0,0)\" style=\"font-family: sans-serif; font-size: 0px; fill: rgb(193, 202, 226); fill-opacity: 0.3;\">target</text><text text-anchor=\"middle\" transform=\"translate(0,0)\" style=\"font-family: sans-serif; font-size: 0px; fill: rgb(201, 207, 228); fill-opacity: 0.3;\">standard</text><text text-anchor=\"middle\" transform=\"translate(246,99)\" style=\"font-family: Helvetica Neue, Arial; font-size: 17px; font-style: normal; font-weight: normal; fill: rgb(159, 187, 218); fill-opacity: 0.3;\">d</text><text text-anchor=\"middle\" transform=\"translate(0,0)\" style=\"font-family: sans-serif; font-size: 0px; fill: rgb(106, 165, 205); fill-opacity: 0.3;\">extenion</text><text text-anchor=\"middle\" transform=\"translate(0,0)\" style=\"font-family: sans-serif; font-size: 0px; fill: rgb(165, 189, 219); fill-opacity: 0.3;\">theory</text><text text-anchor=\"middle\" transform=\"translate(0,0)\" style=\"font-family: sans-serif; font-size: 0px; fill: rgb(159, 187, 218); fill-opacity: 0.3;\">tranient</text><text text-anchor=\"middle\" transform=\"translate(0,0)\" style=\"font-family: sans-serif; font-size: 0px; fill: rgb(134, 176, 212); fill-opacity: 0.3;\">walk trot</text><text text-anchor=\"middle\" transform=\"translate(597,23)\" style=\"font-family: Helvetica Neue, Arial; font-size: 38px; font-style: normal; font-weight: normal; fill: rgb(15, 115, 174); fill-opacity: 0.3;\">co</text><text text-anchor=\"middle\" transform=\"translate(0,0)\" style=\"font-family: sans-serif; font-size: 0px; fill: rgb(154, 184, 217); fill-opacity: 0.3;\">normal</text><text text-anchor=\"middle\" transform=\"translate(0,0)\" style=\"font-family: sans-serif; font-size: 0px; fill: rgb(84, 156, 199); fill-opacity: 0.3;\">tranition</text><text text-anchor=\"middle\" transform=\"translate(450,100)\" style=\"font-family: Helvetica Neue, Arial; font-size: 42px; font-style: normal; font-weight: normal; fill: rgb(9, 106, 164); fill-opacity: 0.3;\">focal</text><text text-anchor=\"middle\" transform=\"translate(0,0)\" style=\"font-family: sans-serif; font-size: 0px; fill: rgb(201, 207, 228); fill-opacity: 0.3;\">distortion</text><text text-anchor=\"middle\" transform=\"translate(0,0)\" style=\"font-family: sans-serif; font-size: 0px; fill: rgb(159, 187, 218); fill-opacity: 0.3;\">detector</text><text text-anchor=\"middle\" transform=\"translate(248,102)\" style=\"font-family: Helvetica Neue, Arial; font-size: 51px; font-style: normal; font-weight: normal; fill: rgb(4, 89, 140); fill-opacity: 0.3;\">scaling relation</text><text text-anchor=\"middle\" transform=\"translate(0,0)\" style=\"font-family: sans-serif; font-size: 0px; fill: rgb(114, 168, 207); fill-opacity: 0.3;\">xromm</text><text text-anchor=\"middle\" transform=\"translate(0,0)\" style=\"font-family: sans-serif; font-size: 0px; fill: rgb(201, 207, 228); fill-opacity: 0.3;\">deviation</text><text text-anchor=\"middle\" transform=\"translate(0,0)\" style=\"font-family: sans-serif; font-size: 0px; fill: rgb(171, 192, 221); fill-opacity: 0.3;\">related</text><text text-anchor=\"middle\" transform=\"translate(0,0)\" style=\"font-family: sans-serif; font-size: 0px; fill: rgb(122, 172, 209); fill-opacity: 0.3;\">atomistic</text><text text-anchor=\"middle\" transform=\"translate(447,339)\" style=\"font-family: Helvetica Neue, Arial; font-size: 12px; font-style: normal; font-weight: normal; fill: rgb(209, 212, 231); fill-opacity: 0.3;\">strong</text><text text-anchor=\"middle\" transform=\"translate(335,11)\" style=\"font-family: Helvetica Neue, Arial; font-size: 15px; font-style: normal; font-weight: normal; fill: rgb(178, 196, 222); fill-opacity: 0.3;\">run</text><text text-anchor=\"middle\" transform=\"translate(0,0)\" style=\"font-family: sans-serif; font-size: 0px; fill: rgb(185, 199, 224); fill-opacity: 0.3;\">we report</text><text text-anchor=\"middle\" transform=\"translate(0,0)\" style=\"font-family: sans-serif; font-size: 0px; fill: rgb(193, 202, 226); fill-opacity: 0.3;\">report</text><text text-anchor=\"middle\" transform=\"translate(0,0)\" style=\"font-family: sans-serif; font-size: 0px; fill: rgb(185, 199, 224); fill-opacity: 0.3;\">denity functional theory</text><text text-anchor=\"middle\" transform=\"translate(0,0)\" style=\"font-family: sans-serif; font-size: 0px; fill: rgb(87, 157, 200); fill-opacity: 0.3;\">mcpj</text><text text-anchor=\"middle\" transform=\"translate(0,0)\" style=\"font-family: sans-serif; font-size: 0px; fill: rgb(185, 199, 224); fill-opacity: 0.3;\">pattern</text><text text-anchor=\"middle\" transform=\"translate(0,0)\" style=\"font-family: sans-serif; font-size: 0px; fill: rgb(99, 162, 203); fill-opacity: 0.3;\">character</text><text text-anchor=\"middle\" transform=\"translate(0,0)\" style=\"font-family: sans-serif; font-size: 0px; fill: rgb(110, 167, 206); fill-opacity: 0.3;\">american oyster</text><text text-anchor=\"middle\" transform=\"translate(0,0)\" style=\"font-family: sans-serif; font-size: 0px; fill: rgb(118, 170, 208); fill-opacity: 0.3;\">dark matter experiment</text><text text-anchor=\"middle\" transform=\"translate(0,0)\" style=\"font-family: sans-serif; font-size: 0px; fill: rgb(110, 167, 206); fill-opacity: 0.3;\">motor</text><text text-anchor=\"middle\" transform=\"translate(0,0)\" style=\"font-family: sans-serif; font-size: 0px; fill: rgb(106, 165, 205); fill-opacity: 0.3;\">relationhip</text><text text-anchor=\"middle\" transform=\"translate(0,0)\" style=\"font-family: sans-serif; font-size: 0px; fill: rgb(201, 207, 228); fill-opacity: 0.3;\">illustrate</text><text text-anchor=\"middle\" transform=\"translate(0,0)\" style=\"font-family: sans-serif; font-size: 0px; fill: rgb(99, 162, 203); fill-opacity: 0.3;\">evolution</text><text text-anchor=\"middle\" transform=\"translate(0,0)\" style=\"font-family: sans-serif; font-size: 0px; fill: rgb(201, 207, 228); fill-opacity: 0.3;\">finding</text><text text-anchor=\"middle\" transform=\"translate(0,0)\" style=\"font-family: sans-serif; font-size: 0px; fill: rgb(134, 176, 212); fill-opacity: 0.3;\">nitrogen</text><text text-anchor=\"middle\" transform=\"translate(878,111)\" style=\"font-family: Helvetica Neue, Arial; font-size: 12px; font-style: normal; font-weight: normal; fill: rgb(209, 212, 231); fill-opacity: 0.3;\">our</text><text text-anchor=\"middle\" transform=\"translate(0,0)\" style=\"font-family: sans-serif; font-size: 0px; fill: rgb(159, 187, 218); fill-opacity: 0.3;\">accuracy precision</text><text text-anchor=\"middle\" transform=\"translate(0,0)\" style=\"font-family: sans-serif; font-size: 0px; fill: rgb(171, 192, 221); fill-opacity: 0.3;\">framework</text><text text-anchor=\"middle\" transform=\"translate(0,0)\" style=\"font-family: sans-serif; font-size: 0px; fill: rgb(209, 212, 231); fill-opacity: 0.3;\">bone motion</text><text text-anchor=\"middle\" transform=\"translate(0,0)\" style=\"font-family: sans-serif; font-size: 0px; fill: rgb(159, 187, 218); fill-opacity: 0.3;\">technique</text><text text-anchor=\"middle\" transform=\"translate(0,0)\" style=\"font-family: sans-serif; font-size: 0px; fill: rgb(159, 187, 218); fill-opacity: 0.3;\">nine</text><text text-anchor=\"middle\" transform=\"translate(496,209)\" style=\"font-family: Helvetica Neue, Arial; font-size: 18px; font-style: normal; font-weight: normal; fill: rgb(154, 184, 217); fill-opacity: 0.3;\">we</text><text text-anchor=\"middle\" transform=\"translate(579,241)\" style=\"font-family: Helvetica Neue, Arial; font-size: 38px; font-style: normal; font-weight: normal; fill: rgb(16, 116, 174); fill-opacity: 0.3;\">rbc</text><text text-anchor=\"middle\" transform=\"translate(0,0)\" style=\"font-family: sans-serif; font-size: 0px; fill: rgb(178, 196, 222); fill-opacity: 0.3;\">identification</text><text text-anchor=\"middle\" transform=\"translate(0,0)\" style=\"font-family: sans-serif; font-size: 0px; fill: rgb(159, 187, 218); fill-opacity: 0.3;\">reduced</text><text text-anchor=\"middle\" transform=\"translate(0,0)\" style=\"font-family: sans-serif; font-size: 0px; fill: rgb(201, 207, 228); fill-opacity: 0.3;\">angle</text><text text-anchor=\"middle\" transform=\"translate(0,0)\" style=\"font-family: sans-serif; font-size: 0px; fill: rgb(165, 189, 219); fill-opacity: 0.3;\">electric field</text><text text-anchor=\"middle\" transform=\"translate(88,274)\" style=\"font-family: Helvetica Neue, Arial; font-size: 30px; font-style: normal; font-weight: normal; fill: rgb(52, 140, 190); fill-opacity: 0.3;\">neuron</text><text text-anchor=\"middle\" transform=\"translate(0,0)\" style=\"font-family: sans-serif; font-size: 0px; fill: rgb(209, 212, 231); fill-opacity: 0.3;\">describe</text><text text-anchor=\"middle\" transform=\"translate(184,19)\" style=\"font-family: Helvetica Neue, Arial; font-size: 22px; font-style: normal; font-weight: normal; fill: rgb(110, 167, 206); fill-opacity: 0.3;\">rod</text><text text-anchor=\"middle\" transform=\"translate(0,0)\" style=\"font-family: sans-serif; font-size: 0px; fill: rgb(122, 172, 209); fill-opacity: 0.3;\">phase</text><text text-anchor=\"middle\" transform=\"translate(0,0)\" style=\"font-family: sans-serif; font-size: 0px; fill: rgb(134, 176, 212); fill-opacity: 0.3;\">trancripts</text><text text-anchor=\"middle\" transform=\"translate(237,212)\" style=\"font-family: Helvetica Neue, Arial; font-size: 48px; font-style: normal; font-weight: normal; fill: rgb(5, 95, 149); fill-opacity: 0.3;\">human focal seizure</text><text text-anchor=\"middle\" transform=\"translate(0,0)\" style=\"font-family: sans-serif; font-size: 0px; fill: rgb(87, 157, 200); fill-opacity: 0.3;\">natural</text><text text-anchor=\"middle\" transform=\"translate(0,0)\" style=\"font-family: sans-serif; font-size: 0px; fill: rgb(90, 159, 201); fill-opacity: 0.3;\">recombination</text><text text-anchor=\"middle\" transform=\"translate(0,0)\" style=\"font-family: sans-serif; font-size: 0px; fill: rgb(154, 184, 217); fill-opacity: 0.3;\">recoil energies</text><text text-anchor=\"middle\" transform=\"translate(0,0)\" style=\"font-family: sans-serif; font-size: 0px; fill: rgb(18, 117, 175); fill-opacity: 0.3;\">differences</text><text text-anchor=\"middle\" transform=\"translate(0,0)\" style=\"font-family: sans-serif; font-size: 0px; fill: rgb(114, 168, 207); fill-opacity: 0.3;\">dark</text><text text-anchor=\"middle\" transform=\"translate(0,0)\" style=\"font-family: sans-serif; font-size: 0px; fill: rgb(99, 162, 203); fill-opacity: 0.3;\">development</text><text text-anchor=\"middle\" transform=\"translate(0,0)\" style=\"font-family: sans-serif; font-size: 0px; fill: rgb(106, 165, 205); fill-opacity: 0.3;\">vacancy</text><text text-anchor=\"middle\" transform=\"translate(771,84)\" style=\"font-family: Helvetica Neue, Arial; font-size: 45px; font-style: normal; font-weight: normal; fill: rgb(6, 100, 157); fill-opacity: 0.3;\">mediation</text><text text-anchor=\"middle\" transform=\"translate(0,0)\" style=\"font-family: sans-serif; font-size: 0px; fill: rgb(154, 184, 217); fill-opacity: 0.3;\">respone</text><text text-anchor=\"middle\" transform=\"translate(0,0)\" style=\"font-family: sans-serif; font-size: 0px; fill: rgb(154, 184, 217); fill-opacity: 0.3;\">temperature</text><text text-anchor=\"middle\" transform=\"translate(0,0)\" style=\"font-family: sans-serif; font-size: 0px; fill: rgb(99, 162, 203); fill-opacity: 0.3;\">liquid xenon</text><text text-anchor=\"middle\" transform=\"translate(0,0)\" style=\"font-family: sans-serif; font-size: 0px; fill: rgb(185, 199, 224); fill-opacity: 0.3;\">research</text><text text-anchor=\"middle\" transform=\"translate(0,0)\" style=\"font-family: sans-serif; font-size: 0px; fill: rgb(201, 207, 228); fill-opacity: 0.3;\">suitable</text><text text-anchor=\"middle\" transform=\"translate(0,0)\" style=\"font-family: sans-serif; font-size: 0px; fill: rgb(144, 180, 214); fill-opacity: 0.3;\">spatial</text><text text-anchor=\"middle\" transform=\"translate(0,0)\" style=\"font-family: sans-serif; font-size: 0px; fill: rgb(185, 199, 224); fill-opacity: 0.3;\">direct</text><text text-anchor=\"middle\" transform=\"translate(0,0)\" style=\"font-family: sans-serif; font-size: 0px; fill: rgb(134, 176, 212); fill-opacity: 0.3;\">enable</text><text text-anchor=\"middle\" transform=\"translate(0,0)\" style=\"font-family: sans-serif; font-size: 0px; fill: rgb(126, 173, 210); fill-opacity: 0.3;\">memory</text><text text-anchor=\"middle\" transform=\"translate(0,0)\" style=\"font-family: sans-serif; font-size: 0px; fill: rgb(201, 207, 228); fill-opacity: 0.3;\">overall</text><text text-anchor=\"middle\" transform=\"translate(471,271)\" style=\"font-family: Helvetica Neue, Arial; font-size: 48px; font-style: normal; font-weight: normal; fill: rgb(5, 95, 149); fill-opacity: 0.3;\">virus</text><text text-anchor=\"middle\" transform=\"translate(856,13)\" style=\"font-family: Helvetica Neue, Arial; font-size: 15px; font-style: normal; font-weight: normal; fill: rgb(178, 196, 222); fill-opacity: 0.3;\">test</text><text text-anchor=\"middle\" transform=\"translate(0,0)\" style=\"font-family: sans-serif; font-size: 0px; fill: rgb(84, 156, 199); fill-opacity: 0.3;\">wimp</text><text text-anchor=\"middle\" transform=\"translate(0,0)\" style=\"font-family: sans-serif; font-size: 0px; fill: rgb(114, 168, 207); fill-opacity: 0.3;\">free energy</text><text text-anchor=\"middle\" transform=\"translate(0,0)\" style=\"font-family: sans-serif; font-size: 0px; fill: rgb(165, 189, 219); fill-opacity: 0.3;\">revealed</text><text text-anchor=\"middle\" transform=\"translate(0,0)\" style=\"font-family: sans-serif; font-size: 0px; fill: rgb(159, 187, 218); fill-opacity: 0.3;\">generalized</text><text text-anchor=\"middle\" transform=\"translate(430,158)\" style=\"font-family: Helvetica Neue, Arial; font-size: 20px; font-style: normal; font-weight: normal; fill: rgb(130, 175, 211); fill-opacity: 0.3;\">fit</text><text text-anchor=\"middle\" transform=\"translate(0,0)\" style=\"font-family: sans-serif; font-size: 0px; fill: rgb(84, 156, 199); fill-opacity: 0.3;\">dark matter particle</text><text text-anchor=\"middle\" transform=\"translate(0,0)\" style=\"font-family: sans-serif; font-size: 0px; fill: rgb(122, 172, 209); fill-opacity: 0.3;\">interacting</text><text text-anchor=\"middle\" transform=\"translate(0,0)\" style=\"font-family: sans-serif; font-size: 0px; fill: rgb(201, 207, 228); fill-opacity: 0.3;\">include</text><text text-anchor=\"middle\" transform=\"translate(0,0)\" style=\"font-family: sans-serif; font-size: 0px; fill: rgb(154, 184, 217); fill-opacity: 0.3;\">deposit</text><text text-anchor=\"middle\" transform=\"translate(0,0)\" style=\"font-family: sans-serif; font-size: 0px; fill: rgb(118, 170, 208); fill-opacity: 0.3;\">reinforcement learning</text><text text-anchor=\"middle\" transform=\"translate(0,0)\" style=\"font-family: sans-serif; font-size: 0px; fill: rgb(201, 207, 228); fill-opacity: 0.3;\">compare</text><text text-anchor=\"middle\" transform=\"translate(0,0)\" style=\"font-family: sans-serif; font-size: 0px; fill: rgb(171, 192, 221); fill-opacity: 0.3;\">input</text><text text-anchor=\"middle\" transform=\"translate(0,0)\" style=\"font-family: sans-serif; font-size: 0px; fill: rgb(9, 106, 164); fill-opacity: 0.3;\">clustering</text><text text-anchor=\"middle\" transform=\"translate(0,0)\" style=\"font-family: sans-serif; font-size: 0px; fill: rgb(110, 167, 206); fill-opacity: 0.3;\">approach</text><text text-anchor=\"middle\" transform=\"translate(701,165)\" style=\"font-family: Helvetica Neue, Arial; font-size: 47px; font-style: normal; font-weight: normal; fill: rgb(5, 96, 152); fill-opacity: 0.3;\">human focal</text><text text-anchor=\"middle\" transform=\"translate(0,0)\" style=\"font-family: sans-serif; font-size: 0px; fill: rgb(209, 212, 231); fill-opacity: 0.3;\">respectively</text><text text-anchor=\"middle\" transform=\"translate(0,0)\" style=\"font-family: sans-serif; font-size: 0px; fill: rgb(149, 182, 215); fill-opacity: 0.3;\">cell</text><text text-anchor=\"middle\" transform=\"translate(863,176)\" style=\"font-family: Helvetica Neue, Arial; font-size: 25px; font-style: normal; font-weight: normal; fill: rgb(84, 156, 199); fill-opacity: 0.3;\">dof</text><text text-anchor=\"middle\" transform=\"translate(0,0)\" style=\"font-family: sans-serif; font-size: 0px; fill: rgb(159, 187, 218); fill-opacity: 0.3;\">rotation</text><text text-anchor=\"middle\" transform=\"translate(0,0)\" style=\"font-family: sans-serif; font-size: 0px; fill: rgb(134, 176, 212); fill-opacity: 0.3;\">susceptible</text><text text-anchor=\"middle\" transform=\"translate(0,0)\" style=\"font-family: sans-serif; font-size: 0px; fill: rgb(165, 189, 219); fill-opacity: 0.3;\">video</text><text text-anchor=\"middle\" transform=\"translate(0,0)\" style=\"font-family: sans-serif; font-size: 0px; fill: rgb(130, 175, 211); fill-opacity: 0.3;\">lipid</text><text text-anchor=\"middle\" transform=\"translate(0,0)\" style=\"font-family: sans-serif; font-size: 0px; fill: rgb(165, 189, 219); fill-opacity: 0.3;\">here</text><text text-anchor=\"middle\" transform=\"translate(0,0)\" style=\"font-family: sans-serif; font-size: 0px; fill: rgb(134, 176, 212); fill-opacity: 0.3;\">interacting massive particle</text><text text-anchor=\"middle\" transform=\"translate(0,0)\" style=\"font-family: sans-serif; font-size: 0px; fill: rgb(154, 184, 217); fill-opacity: 0.3;\">senitivity analyses</text><text text-anchor=\"middle\" transform=\"translate(0,0)\" style=\"font-family: sans-serif; font-size: 0px; fill: rgb(110, 167, 206); fill-opacity: 0.3;\">planar</text><text text-anchor=\"middle\" transform=\"translate(0,0)\" style=\"font-family: sans-serif; font-size: 0px; fill: rgb(118, 170, 208); fill-opacity: 0.3;\">crocodylian</text><text text-anchor=\"middle\" transform=\"translate(0,0)\" style=\"font-family: sans-serif; font-size: 0px; fill: rgb(78, 153, 198); fill-opacity: 0.3;\">recoil</text><text text-anchor=\"middle\" transform=\"translate(0,0)\" style=\"font-family: sans-serif; font-size: 0px; fill: rgb(193, 202, 226); fill-opacity: 0.3;\">studies</text><text text-anchor=\"middle\" transform=\"translate(0,0)\" style=\"font-family: sans-serif; font-size: 0px; fill: rgb(24, 122, 179); fill-opacity: 0.3;\">selectivity</text><text text-anchor=\"middle\" transform=\"translate(627,133)\" style=\"font-family: Helvetica Neue, Arial; font-size: 45px; font-style: normal; font-weight: normal; fill: rgb(6, 100, 157); fill-opacity: 0.3;\">on</text><text text-anchor=\"middle\" transform=\"translate(0,0)\" style=\"font-family: sans-serif; font-size: 0px; fill: rgb(84, 156, 199); fill-opacity: 0.3;\">opercular</text><text text-anchor=\"middle\" transform=\"translate(463,210)\" style=\"font-family: Helvetica Neue, Arial; font-size: 15px; font-style: normal; font-weight: normal; fill: rgb(178, 196, 222); fill-opacity: 0.3;\">cm</text><text text-anchor=\"middle\" transform=\"translate(746,21)\" style=\"font-family: Helvetica Neue, Arial; font-size: 25px; font-style: normal; font-weight: normal; fill: rgb(84, 156, 199); fill-opacity: 0.3;\">local</text><text text-anchor=\"middle\" transform=\"translate(0,0)\" style=\"font-family: sans-serif; font-size: 0px; fill: rgb(130, 175, 211); fill-opacity: 0.3;\">lipid bilayer</text><text text-anchor=\"middle\" transform=\"translate(0,0)\" style=\"font-family: sans-serif; font-size: 0px; fill: rgb(122, 172, 209); fill-opacity: 0.3;\">contraint</text><text text-anchor=\"middle\" transform=\"translate(0,0)\" style=\"font-family: sans-serif; font-size: 0px; fill: rgb(154, 184, 217); fill-opacity: 0.3;\">task shifted</text><text text-anchor=\"middle\" transform=\"translate(0,0)\" style=\"font-family: sans-serif; font-size: 0px; fill: rgb(134, 176, 212); fill-opacity: 0.3;\">legwear</text><text text-anchor=\"middle\" transform=\"translate(0,0)\" style=\"font-family: sans-serif; font-size: 0px; fill: rgb(134, 176, 212); fill-opacity: 0.3;\">weakly interacting massive</text><text text-anchor=\"middle\" transform=\"translate(0,0)\" style=\"font-family: sans-serif; font-size: 0px; fill: rgb(81, 155, 198); fill-opacity: 0.3;\">recombination fluctuation</text><text text-anchor=\"middle\" transform=\"translate(666,204)\" style=\"font-family: Helvetica Neue, Arial; font-size: 46px; font-style: normal; font-weight: normal; fill: rgb(5, 98, 154); fill-opacity: 0.3;\">latent</text><text text-anchor=\"middle\" transform=\"translate(0,0)\" style=\"font-family: sans-serif; font-size: 0px; fill: rgb(144, 180, 214); fill-opacity: 0.3;\">tranport</text><text text-anchor=\"middle\" transform=\"translate(0,0)\" style=\"font-family: sans-serif; font-size: 0px; fill: rgb(96, 161, 202); fill-opacity: 0.3;\">pauses</text><text text-anchor=\"middle\" transform=\"translate(0,0)\" style=\"font-family: sans-serif; font-size: 0px; fill: rgb(84, 156, 199); fill-opacity: 0.3;\">phylogenetic</text><text text-anchor=\"middle\" transform=\"translate(334,173)\" style=\"font-family: Helvetica Neue, Arial; font-size: 56px; font-style: normal; font-weight: normal; fill: rgb(4, 82, 129); fill-opacity: 0.3;\">piwi</text><text text-anchor=\"middle\" transform=\"translate(0,0)\" style=\"font-family: sans-serif; font-size: 0px; fill: rgb(12, 113, 172); fill-opacity: 0.3;\">motor cortex</text><text text-anchor=\"middle\" transform=\"translate(0,0)\" style=\"font-family: sans-serif; font-size: 0px; fill: rgb(126, 173, 210); fill-opacity: 0.3;\">understanding</text><text text-anchor=\"middle\" transform=\"translate(0,0)\" style=\"font-family: sans-serif; font-size: 0px; fill: rgb(134, 176, 212); fill-opacity: 0.3;\">disorder</text><text text-anchor=\"middle\" transform=\"translate(72,245)\" style=\"font-family: Helvetica Neue, Arial; font-size: 28px; font-style: normal; font-weight: normal; fill: rgb(59, 144, 192); fill-opacity: 0.3;\">metal</text><text text-anchor=\"middle\" transform=\"translate(0,0)\" style=\"font-family: sans-serif; font-size: 0px; fill: rgb(185, 199, 224); fill-opacity: 0.3;\">control</text><text text-anchor=\"middle\" transform=\"translate(0,0)\" style=\"font-family: sans-serif; font-size: 0px; fill: rgb(110, 167, 206); fill-opacity: 0.3;\">synchrony</text><text text-anchor=\"middle\" transform=\"translate(0,0)\" style=\"font-family: sans-serif; font-size: 0px; fill: rgb(178, 196, 222); fill-opacity: 0.3;\">identify</text><text text-anchor=\"middle\" transform=\"translate(0,0)\" style=\"font-family: sans-serif; font-size: 0px; fill: rgb(110, 167, 206); fill-opacity: 0.3;\">bilayer</text><text text-anchor=\"middle\" transform=\"translate(281,290)\" style=\"font-family: Helvetica Neue, Arial; font-size: 45px; font-style: normal; font-weight: normal; fill: rgb(7, 101, 158); fill-opacity: 0.3;\">spatiotemporal</text><text text-anchor=\"middle\" transform=\"translate(0,0)\" style=\"font-family: sans-serif; font-size: 0px; fill: rgb(139, 178, 213); fill-opacity: 0.3;\">experiment</text><text text-anchor=\"middle\" transform=\"translate(0,0)\" style=\"font-family: sans-serif; font-size: 0px; fill: rgb(159, 187, 218); fill-opacity: 0.3;\">power</text><text text-anchor=\"middle\" transform=\"translate(573,52)\" style=\"font-family: Helvetica Neue, Arial; font-size: 45px; font-style: normal; font-weight: normal; fill: rgb(6, 100, 157); fill-opacity: 0.3;\">hydrogen evolution</text><text text-anchor=\"middle\" transform=\"translate(0,0)\" style=\"font-family: sans-serif; font-size: 0px; fill: rgb(178, 196, 222); fill-opacity: 0.3;\">joint</text><text text-anchor=\"middle\" transform=\"translate(0,0)\" style=\"font-family: sans-serif; font-size: 0px; fill: rgb(171, 192, 221); fill-opacity: 0.3;\">recognition</text></g></g></g></g></g></svg>"
      ],
      "text/plain": [
       "VegaLite.VGSpec"
      ]
     },
     "execution_count": 11,
     "metadata": {},
     "output_type": "execute_result"
    }
   ],
   "source": [
    "\n",
    "word_data_json = JSON.json(word_data);\n",
    "\n",
    "word_cloud_spec = \"\"\"{\n",
    "  \"width\": 900,\n",
    "  \"height\": 350,\n",
    "  \"padding\": 10,\n",
    "  \"signals\": [\n",
    "    {\"name\": \"hoverID\", \"value\": 0}\n",
    "  ],\n",
    "\n",
    "  \"data\": [\n",
    "    {\n",
    "      \"name\": \"table\",\n",
    "      \"values\": $(word_data_json)\n",
    "    }\n",
    "  ],\n",
    "\n",
    "  \"scales\": [\n",
    "    {\n",
    "      \"name\": \"color\",\n",
    "      \"type\": \"log\",\n",
    "      \"domain\": {\"data\": \"table\", \"field\": \"freq\"},\n",
    "      \"range\": {\"scheme\": \"purpleblue\"}\n",
    "    }\n",
    "  ],\n",
    "\n",
    "  \"marks\": [\n",
    "    {\n",
    "      \"type\": \"text\",\n",
    "      \"from\": {\"data\": \"table\"},\n",
    "      \"encode\": {\n",
    "        \"enter\": {\n",
    "          \"text\": {\"field\": \"abstract\"},\n",
    "          \"align\": {\"value\": \"center\"},\n",
    "          \"baseline\": {\"value\": \"alphabetic\"},\n",
    "          \"fill\": {\"scale\": \"color\", \"field\": \"freq\"}\n",
    "        },\n",
    "        \"update\": {\n",
    "          \"fillOpacity\": [\n",
    "            {\"test\": \"indexof(datum.pubs, hoverID) > 0\", \"value\": 1.0},\n",
    "            {\"value\": 0.3}\n",
    "          ]\n",
    "        },\n",
    "        \"hover\": {\n",
    "          \"fillOpacity\": {\"value\": 1.0}\n",
    "        }\n",
    "      },\n",
    "      \"transform\": [\n",
    "        {\n",
    "          \"type\": \"wordcloud\",\n",
    "          \"size\": [{\"signal\": \"width\"}, {\"signal\": \"height\"}],\n",
    "          \"text\": {\"field\": \"text\"},\n",
    "          \"font\": \"Helvetica Neue, Arial\",\n",
    "          \"fontSize\": {\"field\": \"datum.freq\"},\n",
    "          \"fontSizeRange\": [12, 56],\n",
    "          \"padding\": 2\n",
    "        }\n",
    "      ]\n",
    "    }\n",
    "  ]\n",
    "}\"\"\"\n",
    "\n",
    "VegaLite.VGSpec(JSON.parse(word_cloud_spec))"
   ]
  },
  {
   "cell_type": "code",
   "execution_count": null,
   "metadata": {},
   "outputs": [],
   "source": []
  }
 ],
 "metadata": {
  "@webio": {
   "lastCommId": null,
   "lastKernelId": null
  },
  "kernelspec": {
   "display_name": "Julia 1.1.1",
   "language": "julia",
   "name": "julia-1.1"
  },
  "language_info": {
   "file_extension": ".jl",
   "mimetype": "application/julia",
   "name": "julia",
   "version": "1.1.1"
  }
 },
 "nbformat": 4,
 "nbformat_minor": 4
}
