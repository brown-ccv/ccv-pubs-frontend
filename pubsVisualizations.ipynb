{
 "cells": [
  {
   "cell_type": "code",
   "execution_count": 1,
   "metadata": {},
   "outputs": [
    {
     "name": "stderr",
     "output_type": "stream",
     "text": [
      "┌ Info: Recompiling stale cache file /Users/mauradriscoll/.julia/compiled/v1.1/HTTP/zXWya.ji for HTTP [cd3eb016-35fb-5094-929b-558a96fad6f3]\n",
      "└ @ Base loading.jl:1184\n",
      "┌ Info: Precompiling DataFrames [a93c6f00-e57d-5684-b7b6-d8193f3e46c0]\n",
      "└ @ Base loading.jl:1186\n",
      "┌ Warning: Module JSON with build ID 1795320325539638 is missing from the cache.\n",
      "│ This may mean JSON [682c06a0-de6a-54ab-a142-c8b1cf79cde6] does not support precompilation but is imported by a module that does.\n",
      "└ @ Base loading.jl:947\n",
      "┌ Warning: Module JSON with build ID 1795320325539638 is missing from the cache.\n",
      "│ This may mean JSON [682c06a0-de6a-54ab-a142-c8b1cf79cde6] does not support precompilation but is imported by a module that does.\n",
      "└ @ Base loading.jl:947\n",
      "┌ Info: Precompiling CategoricalArrays [324d7699-5711-5eae-9e2f-1d82baa6b597]\n",
      "└ @ Base loading.jl:1186\n",
      "┌ Warning: Module JSON with build ID 1795320325539638 is missing from the cache.\n",
      "│ This may mean JSON [682c06a0-de6a-54ab-a142-c8b1cf79cde6] does not support precompilation but is imported by a module that does.\n",
      "└ @ Base loading.jl:947\n",
      "┌ Info: Recompiling stale cache file /Users/mauradriscoll/.julia/compiled/v1.1/Tables/Z804B.ji for Tables [bd369af6-aec1-5ad0-b16a-f7cc5008161c]\n",
      "└ @ Base loading.jl:1184\n",
      "┌ Info: Recompiling stale cache file /Users/mauradriscoll/.julia/compiled/v1.1/MySQL/xeTdU.ji for MySQL [39abe10b-433b-5dbd-92d4-e302a9df00cd]\n",
      "└ @ Base loading.jl:1184\n",
      "┌ Info: Recompiling stale cache file /Users/mauradriscoll/.julia/compiled/v1.1/VegaLite/lrJqi.ji for VegaLite [112f6efa-9a02-5b7d-90c0-432ed331239a]\n",
      "└ @ Base loading.jl:1184\n",
      "┌ Warning: Module JSON with build ID 1795320325539638 is missing from the cache.\n",
      "│ This may mean JSON [682c06a0-de6a-54ab-a142-c8b1cf79cde6] does not support precompilation but is imported by a module that does.\n",
      "└ @ Base loading.jl:947\n",
      "┌ Info: Recompiling stale cache file /Users/mauradriscoll/.julia/compiled/v1.1/JSONSchema/7Y9QQ.ji for JSONSchema [7d188eb4-7ad8-530c-ae41-71a32a6d4692]\n",
      "└ @ Base loading.jl:1184\n",
      "┌ Warning: Module JSON with build ID 1795320325539638 is missing from the cache.\n",
      "│ This may mean JSON [682c06a0-de6a-54ab-a142-c8b1cf79cde6] does not support precompilation but is imported by a module that does.\n",
      "└ @ Base loading.jl:947\n",
      "┌ Info: Recompiling stale cache file /Users/mauradriscoll/.julia/compiled/v1.1/DataVoyager/5nnU1.ji for DataVoyager [5721bf48-af8e-5845-8445-c9e18126e773]\n",
      "└ @ Base loading.jl:1184\n",
      "┌ Warning: Module JSON with build ID 1795320325539638 is missing from the cache.\n",
      "│ This may mean JSON [682c06a0-de6a-54ab-a142-c8b1cf79cde6] does not support precompilation but is imported by a module that does.\n",
      "└ @ Base loading.jl:947\n",
      "┌ Warning: Module JSON with build ID 1795320325539638 is missing from the cache.\n",
      "│ This may mean JSON [682c06a0-de6a-54ab-a142-c8b1cf79cde6] does not support precompilation but is imported by a module that does.\n",
      "└ @ Base loading.jl:947\n",
      "┌ Info: Precompiling Electron [a1bb12fb-d4d1-54b4-b10a-ee7951ef7ad3]\n",
      "└ @ Base loading.jl:1186\n",
      "┌ Warning: Module JSON with build ID 1795320325539638 is missing from the cache.\n",
      "│ This may mean JSON [682c06a0-de6a-54ab-a142-c8b1cf79cde6] does not support precompilation but is imported by a module that does.\n",
      "└ @ Base loading.jl:947\n"
     ]
    },
    {
     "data": {
      "text/html": [
       "<script>\n",
       "// Immediately-invoked-function-expression to avoid global variables.\n",
       "(function() {\n",
       "    var warning_div = document.getElementById(\"webio-warning-4988377991028246394\");\n",
       "    var hide = function () {\n",
       "        var script = document.getElementById(\"webio-setup-3659767039993241071\");\n",
       "        var parent = script && script.parentElement;\n",
       "        var grandparent = parent && parent.parentElement;\n",
       "        if (grandparent) {\n",
       "            grandparent.style.display = \"none\";\n",
       "        }\n",
       "        warning_div.style.display = \"none\";\n",
       "    };\n",
       "    if (typeof Jupyter !== \"undefined\") {\n",
       "        console.log(\"WebIO detected Jupyter notebook environment.\");\n",
       "        // Jupyter notebook.\n",
       "        var extensions = (\n",
       "            Jupyter\n",
       "            && Jupyter.notebook.config.data\n",
       "            && Jupyter.notebook.config.data.load_extensions\n",
       "        );\n",
       "        if (extensions && extensions[\"webio/main\"]) {\n",
       "            // Extension already loaded.\n",
       "            console.log(\"Jupyter WebIO nbextension detected; not loading ad-hoc.\");\n",
       "            hide();\n",
       "            return;\n",
       "        }\n",
       "        console.warn(\"Loading WebIO Jupyter extension on an ad-hoc basis. Consider enabling the WebIO nbextension for a stabler experience (this should happen automatically when building WebIO).\");\n",
       "        warning_div.innerHTML = \"<strong>Loading WebIO Jupyter extension on an ad-hoc basis. Consider enabling the WebIO nbextension for a stabler experience (this should happen automatically when building WebIO).</strong>\";\n",
       "    } else if (window.location.pathname.includes(\"/lab\")) {\n",
       "        // Guessing JupyterLa\n",
       "        console.log(\"Jupyter Lab detected; make sure the @webio/jupyter-lab-provider labextension is installed.\");\n",
       "        hide();\n",
       "        return;\n",
       "    }\n",
       "})();\n",
       "\n",
       "</script>\n",
       "<p\n",
       "    id=\"webio-warning-4988377991028246394\"\n",
       "    class=\"output_text output_stderr\"\n",
       "    style=\"padding: 1em; font-weight: bold;\"\n",
       ">\n",
       "    Unable to load WebIO. Please make sure WebIO works for your Jupyter client.\n",
       "    For troubleshooting, please see <a href=\"https://juliagizmos.github.io/WebIO.jl/latest/providers/ijulia/\">\n",
       "    the WebIO/IJulia documentation</a>.\n",
       "    <!-- TODO: link to installation docs. -->\n",
       "</p>\n"
      ],
      "text/plain": [
       "HTML{String}(\"<script>\\n// Immediately-invoked-function-expression to avoid global variables.\\n(function() {\\n    var warning_div = document.getElementById(\\\"webio-warning-4988377991028246394\\\");\\n    var hide = function () {\\n        var script = document.getElementById(\\\"webio-setup-3659767039993241071\\\");\\n        var parent = script && script.parentElement;\\n        var grandparent = parent && parent.parentElement;\\n        if (grandparent) {\\n            grandparent.style.display = \\\"none\\\";\\n        }\\n        warning_div.style.display = \\\"none\\\";\\n    };\\n    if (typeof Jupyter !== \\\"undefined\\\") {\\n        console.log(\\\"WebIO detected Jupyter notebook environment.\\\");\\n        // Jupyter notebook.\\n        var extensions = (\\n            Jupyter\\n            && Jupyter.notebook.config.data\\n            && Jupyter.notebook.config.data.load_extensions\\n        );\\n        if (extensions && extensions[\\\"webio/main\\\"]) {\\n            // Extension already loaded.\\n            console.log(\\\"Jupyter WebIO nbextension detected; not loading ad-hoc.\\\");\\n            hide();\\n            return;\\n        }\\n        console.warn(\\\"Loading WebIO Jupyter extension on an ad-hoc basis. Consider enabling the WebIO nbextension for a stabler experience (this should happen automatically when building WebIO).\\\");\\n        warning_div.innerHTML = \\\"<strong>Loading WebIO Jupyter extension on an ad-hoc basis. Consider enabling the WebIO nbextension for a stabler experience (this should happen automatically when building WebIO).</strong>\\\";\\n    } else if (window.location.pathname.includes(\\\"/lab\\\")) {\\n        // Guessing JupyterLa\\n        console.log(\\\"Jupyter Lab detected; make sure the @webio/jupyter-lab-provider labextension is installed.\\\");\\n        hide();\\n        return;\\n    }\\n})();\\n\\n</script>\\n<p\\n    id=\\\"webio-warning-4988377991028246394\\\"\\n    class=\\\"output_text output_stderr\\\"\\n    style=\\\"padding: 1em; font-weight: bold;\\\"\\n>\\n    Unable to load WebIO. Please make sure WebIO works for your Jupyter client.\\n    For troubleshooting, please see <a href=\\\"https://juliagizmos.github.io/WebIO.jl/latest/providers/ijulia/\\\">\\n    the WebIO/IJulia documentation</a>.\\n    <!-- TODO: link to installation docs. -->\\n</p>\\n\")"
      ]
     },
     "metadata": {},
     "output_type": "display_data"
    },
    {
     "name": "stderr",
     "output_type": "stream",
     "text": [
      "┌ Info: Recompiling stale cache file /Users/mauradriscoll/.julia/compiled/v1.1/TextAnalysis/5Mwet.ji for TextAnalysis [a2db99b7-8b79-58f8-94bf-bbc811eef33d]\n",
      "└ @ Base loading.jl:1184\n",
      "┌ Warning: Module JSON with build ID 1795320325539638 is missing from the cache.\n",
      "│ This may mean JSON [682c06a0-de6a-54ab-a142-c8b1cf79cde6] does not support precompilation but is imported by a module that does.\n",
      "└ @ Base loading.jl:947\n",
      "┌ Warning: Module JSON with build ID 1795320325539638 is missing from the cache.\n",
      "│ This may mean JSON [682c06a0-de6a-54ab-a142-c8b1cf79cde6] does not support precompilation but is imported by a module that does.\n",
      "└ @ Base loading.jl:947\n",
      "┌ Info: Precompiling Languages [8ef0a80b-9436-5d2c-a485-80b904378c43]\n",
      "└ @ Base loading.jl:1186\n",
      "┌ Warning: Module JSON with build ID 1795320325539638 is missing from the cache.\n",
      "│ This may mean JSON [682c06a0-de6a-54ab-a142-c8b1cf79cde6] does not support precompilation but is imported by a module that does.\n",
      "└ @ Base loading.jl:947\n"
     ]
    }
   ],
   "source": [
    "import Pkg\n",
    "Pkg.activate(pwd())\n",
    "\n",
    "using HTTP\n",
    "using Gumbo\n",
    "using AbstractTrees\n",
    "using Dates\n",
    "using DataFrames\n",
    "using MySQL\n",
    "\n",
    "using VegaLite\n",
    "using DataVoyager\n",
    "using Interact\n",
    "\n",
    "using TextAnalysis\n",
    "using JSON\n",
    "\n",
    "using DotEnv"
   ]
  },
  {
   "cell_type": "code",
   "execution_count": 2,
   "metadata": {},
   "outputs": [
    {
     "data": {
      "text/plain": [
       "MySQL Connection\n",
       "------------\n",
       "Host: pdspracticemydbcit.services.brown.edu\n",
       "Port: 3306\n",
       "User: ccvpubs_api\n",
       "DB:   ccvpubs\n"
      ]
     },
     "execution_count": 2,
     "metadata": {},
     "output_type": "execute_result"
    }
   ],
   "source": [
    "DotEnv.config()\n",
    "opts = Dict(MySQL.API.MYSQL_ENABLE_CLEARTEXT_PLUGIN => 1)\n",
    "user = ENV[\"mysql_user\"]\n",
    "pass = ENV[\"mysql_password\"]\n",
    "conn = MySQL.connect(\"pdspracticemydbcit.services.brown.edu\", user,pass, db = \"ccvpubs\", opts=opts)"
   ]
  },
  {
   "cell_type": "code",
   "execution_count": 4,
   "metadata": {},
   "outputs": [
    {
     "name": "stdout",
     "output_type": "stream",
     "text": [
      "177×2 DataFrame\n",
      "│ Row │ year  │ month   │\n",
      "│     │ \u001b[90mInt64\u001b[39m │ \u001b[90mString⍰\u001b[39m │\n",
      "├─────┼───────┼─────────┤\n",
      "│ 1   │ 2017  │ 9       │\n",
      "│ 2   │ 2017  │ 9       │\n",
      "│ 3   │ 2017  │ 9       │\n",
      "│ 4   │ 2017  │ 9       │\n",
      "│ 5   │ 2017  │ 9       │\n",
      "│ 6   │ 2017  │ 8       │\n",
      "│ 7  "
     ]
    },
    {
     "name": "stderr",
     "output_type": "stream",
     "text": [
      "┌ Warning: `MySQL.query(conn, sql, DataFrame)` is deprecated; use `MySQL.query(conn, sql) |> DataFrame(args...)` instead\n",
      "│   caller = ip:0x0\n",
      "└ @ Core :-1\n"
     ]
    },
    {
     "name": "stdout",
     "output_type": "stream",
     "text": [
      " │ 2016  │ 6       │\n",
      "│ 8   │ 2016  │ 8       │\n",
      "│ 9   │ 2016  │ 8       │\n",
      "│ 10  │ 2013  │ 12      │\n",
      "│ 11  │ 2013  │ 10      │\n",
      "│ 12  │ 2018  │ 5       │\n",
      "│ 13  │ 2018  │ 5       │\n",
      "│ 14  │ 2018  │ 5       │\n",
      "│ 15  │ 2017  │ Missing │\n",
      "│ 16  │ 2017  │ 4       │\n",
      "│ 17  │ 2017  │ 4       │\n",
      "│ 18  │ 2017  │ 3       │\n",
      "│ 19  │ 2017  │ 1       │\n",
      "│ 20  │ 2017  │ 1       │\n",
      "│ 21  │ 2017  │ 2       │\n",
      "│ 22  │ 2017  │ 2       │\n",
      "│ 23  │ 2016  │ 4       │\n",
      "│ 24  │ 2016  │ 4       │\n",
      "│ 25  │ 2016  │ 1       │\n",
      "│ 26  │ 2016  │ Missing │\n",
      "│ 27  │ 2016  │ 11      │\n",
      "│ 28  │ 2016  │ Missing │\n",
      "│ 29  │ 2016  │ 8       │\n",
      "│ 30  │ 2016  │ 10      │\n",
      "│ 31  │ 2016  │ 2       │\n",
      "│ 32  │ 2016  │ 3       │\n",
      "│ 33  │ 2016  │ 1       │\n",
      "│ 34  │ 2016  │ 4       │\n",
      "│ 35  │ 2017  │ 1       │\n",
      "│ 36  │ 2016  │ 3       │\n",
      "│ 37  │ 2017  │ 1       │\n",
      "│ 38  │ 2016  │ 6       │\n",
      "│ 39  │ 2016  │ 8       │\n",
      "│ 40  │ 2016  │ 10      │\n",
      "│ 41  │ 2016  │ 4       │\n",
      "│ 42  │ 2016  │ 2       │\n",
      "│ 43  │ 2016  │ 6       │\n",
      "│ 44  │ 2016  │ 3       │\n",
      "│ 45  │ 2016  │ 3       │\n",
      "│ 46  │ 2014  │ 12      │\n",
      "│ 47  │ 2017  │ 12      │\n",
      "│ 48  │ 2015  │ 3       │\n",
      "│ 49  │ 2015  │ 3       │\n",
      "│ 50  │ 2015  │ 4       │\n",
      "│ 51  │ 2015  │ 4       │\n",
      "│ 52  │ 2015  │ Missing │\n",
      "│ 53  │ 2014  │ 5       │\n",
      "│ 54  │ 2015  │ 2       │\n",
      "│ 55  │ 2014  │ 3       │\n",
      "│ 56  │ 2014  │ Missing │\n",
      "│ 57  │ 2014  │ 11      │\n",
      "│ 58  │ 2014  │ 8       │\n",
      "│ 59  │ 2014  │ 8       │\n",
      "│ 60  │ 2014  │ Missing │\n",
      "│ 61  │ 2014  │ Missing │\n",
      "│ 62  │ 2014  │ 7       │\n",
      "│ 63  │ 2014  │ 3       │\n",
      "│ 64  │ 2014  │ 4       │\n",
      "│ 65  │ 2014  │ 6       │\n",
      "│ 66  │ 2014  │ 6       │\n",
      "│ 67  │ 2014  │ 6       │\n",
      "│ 68  │ 2014  │ 6       │\n",
      "│ 69  │ 2014  │ 6       │\n",
      "│ 70  │ 2014  │ 5       │\n",
      "│ 71  │ 2014  │ 4       │\n",
      "│ 72  │ 2013  │ 12      │\n",
      "│ 73  │ 2014  │ 4       │\n",
      "│ 74  │ 2014  │ 3       │\n",
      "│ 75  │ 2013  │ 12      │\n",
      "│ 76  │ 2014  │ 3       │\n",
      "│ 77  │ 2014  │ 3       │\n",
      "│ 78  │ 2014  │ 3       │\n",
      "│ 79  │ 2014  │ 3       │\n",
      "│ 80  │ 2013  │ 10      │\n",
      "│ 81  │ 2014  │ 2       │\n",
      "│ 82  │ 2014  │ 2       │\n",
      "│ 83  │ 2014  │ 1       │\n",
      "│ 84  │ 2014  │ 1       │\n",
      "│ 85  │ 2013  │ 12      │\n",
      "│ 86  │ 2018  │ 6       │\n",
      "│ 87  │ 2018  │ 6       │\n",
      "│ 88  │ 2018  │ 5       │\n",
      "│ 89  │ 2018  │ 11      │\n",
      "│ 90  │ 2018  │ 4       │\n",
      "│ 91  │ 2018  │ Missing │\n",
      "│ 92  │ 2016  │ 9       │\n",
      "│ 93  │ 2016  │ 2       │\n",
      "│ 94  │ 2015  │ 8       │\n",
      "│ 95  │ 2015  │ 2       │\n",
      "│ 96  │ 2015  │ 5       │\n",
      "│ 97  │ 2015  │ 5       │\n",
      "│ 98  │ 2018  │ 3       │\n",
      "│ 99  │ 2017  │ 12      │\n",
      "│ 100 │ 2017  │ 8       │\n",
      "│ 101 │ 2017  │ 7       │\n",
      "│ 102 │ 2019  │ 5       │\n",
      "│ 103 │ 2016  │ 3       │\n",
      "│ 104 │ 2016  │ Missing │\n",
      "│ 105 │ 2014  │ 10      │\n",
      "│ 106 │ 2014  │ 11      │\n",
      "│ 107 │ 2015  │ Missing │\n",
      "│ 108 │ 2015  │ 11      │\n",
      "│ 109 │ 2015  │ Missing │\n",
      "│ 110 │ 2015  │ 10      │\n",
      "│ 111 │ 2015  │ 9       │\n",
      "│ 112 │ 2015  │ 10      │\n",
      "│ 113 │ 2015  │ 7       │\n",
      "│ 114 │ 2015  │ 7       │\n",
      "│ 115 │ 2014  │ 9       │\n",
      "│ 116 │ 2014  │ Missing │\n",
      "│ 117 │ 2014  │ 6       │\n",
      "│ 118 │ 2018  │ 4       │\n",
      "│ 119 │ 2018  │ 2       │\n",
      "│ 120 │ 2018  │ 10      │\n",
      "│ 121 │ 2018  │ 4       │\n",
      "│ 122 │ 2017  │ 6       │\n",
      "│ 123 │ 2018  │ 3       │\n",
      "│ 124 │ 2018  │ 2       │\n",
      "│ 125 │ 2018  │ 4       │\n",
      "│ 126 │ 2018  │ 9       │\n",
      "│ 127 │ 2018  │ 7       │\n",
      "│ 128 │ 2018  │ 6       │\n",
      "│ 129 │ 2018  │ 3       │\n",
      "│ 130 │ 2016  │ 8       │\n",
      "│ 131 │ 2018  │ Missing │\n",
      "│ 132 │ 2018  │ 3       │\n",
      "│ 133 │ 2018  │ 6       │\n",
      "│ 134 │ 2018  │ 3       │\n",
      "│ 135 │ 2017  │ 2       │\n",
      "│ 136 │ 2017  │ 2       │\n",
      "│ 137 │ 2017  │ 3       │\n",
      "│ 138 │ 2017  │ 8       │\n",
      "│ 139 │ 2017  │ 4       │\n",
      "│ 140 │ 2016  │ 2       │\n",
      "│ 141 │ 2016  │ 8       │\n",
      "│ 142 │ 2016  │ 7       │\n",
      "│ 143 │ 2016  │ 5       │\n",
      "│ 144 │ 2015  │ 3       │\n",
      "│ 145 │ 2016  │ 3       │\n",
      "│ 146 │ 2015  │ 9       │\n",
      "│ 147 │ 2016  │ 10      │\n",
      "│ 148 │ 2016  │ 1       │\n",
      "│ 149 │ 2016  │ 11      │\n",
      "│ 150 │ 2016  │ 2       │\n",
      "│ 151 │ 2015  │ 3       │\n",
      "│ 152 │ 2015  │ 9       │\n",
      "│ 153 │ 2015  │ 1       │\n",
      "│ 154 │ 2015  │ 12      │\n",
      "│ 155 │ 2015  │ 2       │\n",
      "│ 156 │ 2015  │ 1       │\n",
      "│ 157 │ 2015  │ 3       │\n",
      "│ 158 │ 2015  │ 6       │\n",
      "│ 159 │ 2015  │ 8       │\n",
      "│ 160 │ 2015  │ 9       │\n",
      "│ 161 │ 2015  │ 11      │\n",
      "│ 162 │ 2015  │ 4       │\n",
      "│ 163 │ 2015  │ 3       │\n",
      "│ 164 │ 2014  │ 8       │\n",
      "│ 165 │ 2014  │ Missing │\n",
      "│ 166 │ 2014  │ 3       │\n",
      "│ 167 │ 2014  │ Missing │\n",
      "│ 168 │ 2014  │ 8       │\n",
      "│ 169 │ 2014  │ 7       │\n",
      "│ 170 │ 2017  │ 12      │\n",
      "│ 171 │ 2015  │ 10      │\n",
      "│ 172 │ 2018  │ 6       │\n",
      "│ 173 │ 2018  │ 7       │\n",
      "│ 174 │ 2017  │ 7       │\n",
      "│ 175 │ 2017  │ Missing │\n",
      "│ 176 │ 2016  │ Missing │\n",
      "│ 177 │ 2014  │ Missing │"
     ]
    },
    {
     "data": {
      "text/html": [
       "<table class=\"data-frame\"><thead><tr><th></th><th>year</th><th>month</th></tr><tr><th></th><th>Int64</th><th>String⍰</th></tr></thead><tbody><p>177 rows × 2 columns</p><tr><th>1</th><td>2017</td><td>9</td></tr><tr><th>2</th><td>2017</td><td>9</td></tr><tr><th>3</th><td>2017</td><td>9</td></tr><tr><th>4</th><td>2017</td><td>9</td></tr><tr><th>5</th><td>2017</td><td>9</td></tr><tr><th>6</th><td>2017</td><td>8</td></tr><tr><th>7</th><td>2016</td><td>6</td></tr><tr><th>8</th><td>2016</td><td>8</td></tr><tr><th>9</th><td>2016</td><td>8</td></tr><tr><th>10</th><td>2013</td><td>12</td></tr><tr><th>11</th><td>2013</td><td>10</td></tr><tr><th>12</th><td>2018</td><td>5</td></tr><tr><th>13</th><td>2018</td><td>5</td></tr><tr><th>14</th><td>2018</td><td>5</td></tr><tr><th>15</th><td>2017</td><td>Missing</td></tr><tr><th>16</th><td>2017</td><td>4</td></tr><tr><th>17</th><td>2017</td><td>4</td></tr><tr><th>18</th><td>2017</td><td>3</td></tr><tr><th>19</th><td>2017</td><td>1</td></tr><tr><th>20</th><td>2017</td><td>1</td></tr><tr><th>21</th><td>2017</td><td>2</td></tr><tr><th>22</th><td>2017</td><td>2</td></tr><tr><th>23</th><td>2016</td><td>4</td></tr><tr><th>24</th><td>2016</td><td>4</td></tr><tr><th>25</th><td>2016</td><td>1</td></tr><tr><th>26</th><td>2016</td><td>Missing</td></tr><tr><th>27</th><td>2016</td><td>11</td></tr><tr><th>28</th><td>2016</td><td>Missing</td></tr><tr><th>29</th><td>2016</td><td>8</td></tr><tr><th>30</th><td>2016</td><td>10</td></tr><tr><th>&vellip;</th><td>&vellip;</td><td>&vellip;</td></tr></tbody></table>"
      ],
      "text/latex": [
       "\\begin{tabular}{r|cc}\n",
       "\t& year & month\\\\\n",
       "\t\\hline\n",
       "\t& Int64 & String⍰\\\\\n",
       "\t\\hline\n",
       "\t1 & 2017 & 9 \\\\\n",
       "\t2 & 2017 & 9 \\\\\n",
       "\t3 & 2017 & 9 \\\\\n",
       "\t4 & 2017 & 9 \\\\\n",
       "\t5 & 2017 & 9 \\\\\n",
       "\t6 & 2017 & 8 \\\\\n",
       "\t7 & 2016 & 6 \\\\\n",
       "\t8 & 2016 & 8 \\\\\n",
       "\t9 & 2016 & 8 \\\\\n",
       "\t10 & 2013 & 12 \\\\\n",
       "\t11 & 2013 & 10 \\\\\n",
       "\t12 & 2018 & 5 \\\\\n",
       "\t13 & 2018 & 5 \\\\\n",
       "\t14 & 2018 & 5 \\\\\n",
       "\t15 & 2017 & Missing \\\\\n",
       "\t16 & 2017 & 4 \\\\\n",
       "\t17 & 2017 & 4 \\\\\n",
       "\t18 & 2017 & 3 \\\\\n",
       "\t19 & 2017 & 1 \\\\\n",
       "\t20 & 2017 & 1 \\\\\n",
       "\t21 & 2017 & 2 \\\\\n",
       "\t22 & 2017 & 2 \\\\\n",
       "\t23 & 2016 & 4 \\\\\n",
       "\t24 & 2016 & 4 \\\\\n",
       "\t25 & 2016 & 1 \\\\\n",
       "\t26 & 2016 & Missing \\\\\n",
       "\t27 & 2016 & 11 \\\\\n",
       "\t28 & 2016 & Missing \\\\\n",
       "\t29 & 2016 & 8 \\\\\n",
       "\t30 & 2016 & 10 \\\\\n",
       "\t$\\dots$ & $\\dots$ & $\\dots$ \\\\\n",
       "\\end{tabular}\n"
      ],
      "text/plain": [
       "177×2 DataFrame\n",
       "│ Row │ year  │ month   │\n",
       "│     │ \u001b[90mInt64\u001b[39m │ \u001b[90mString⍰\u001b[39m │\n",
       "├─────┼───────┼─────────┤\n",
       "│ 1   │ 2017  │ 9       │\n",
       "│ 2   │ 2017  │ 9       │\n",
       "│ 3   │ 2017  │ 9       │\n",
       "│ 4   │ 2017  │ 9       │\n",
       "│ 5   │ 2017  │ 9       │\n",
       "│ 6   │ 2017  │ 8       │\n",
       "│ 7   │ 2016  │ 6       │\n",
       "│ 8   │ 2016  │ 8       │\n",
       "│ 9   │ 2016  │ 8       │\n",
       "│ 10  │ 2013  │ 12      │\n",
       "⋮\n",
       "│ 167 │ 2014  │ Missing │\n",
       "│ 168 │ 2014  │ 8       │\n",
       "│ 169 │ 2014  │ 7       │\n",
       "│ 170 │ 2017  │ 12      │\n",
       "│ 171 │ 2015  │ 10      │\n",
       "│ 172 │ 2018  │ 6       │\n",
       "│ 173 │ 2018  │ 7       │\n",
       "│ 174 │ 2017  │ 7       │\n",
       "│ 175 │ 2017  │ Missing │\n",
       "│ 176 │ 2016  │ Missing │\n",
       "│ 177 │ 2014  │ Missing │"
      ]
     },
     "execution_count": 4,
     "metadata": {},
     "output_type": "execute_result"
    }
   ],
   "source": [
    "data = MySQL.query(conn, \"\"\"SELECT * FROM pubsNew;\"\"\", DataFrame)\n",
    "small_data = DataFrame( year = parse.(Int, data[!, :year]), month = data[!, :month])\n",
    "\n",
    "print(small_data)\n",
    "\n",
    "rows = eachrow(small_data)\n",
    "\n",
    "\n",
    "#if some months are in format \"0#\"\n",
    "for row in rows\n",
    "    if row.month[1] == '0'\n",
    "        row.month = string(row.month[2])\n",
    "    end\n",
    "end\n",
    "\n",
    "small_data"
   ]
  },
  {
   "cell_type": "code",
   "execution_count": null,
   "metadata": {},
   "outputs": [],
   "source": [
    "    "
   ]
  },
  {
   "cell_type": "code",
   "execution_count": 5,
   "metadata": {},
   "outputs": [],
   "source": [
    "small_data |> Voyager();"
   ]
  },
  {
   "cell_type": "code",
   "execution_count": 4,
   "metadata": {},
   "outputs": [
    {
     "ename": "ErrorException",
     "evalue": "Expected ',' here\nLine: 42\nAround: ...nal\": \"{\"year\": ''+datum[\"year...\n                    ^\n",
     "output_type": "error",
     "traceback": [
      "Expected ',' here\nLine: 42\nAround: ...nal\": \"{\"year\": ''+datum[\"year...\n                    ^\n",
      "",
      "Stacktrace:",
      " [1] error(::String) at ./error.jl:33",
      " [2] _error(::String, ::JSON.Parser.MemoryParserState) at /Users/mauradriscoll/.julia/packages/JSON/d89fA/src/Parser.jl:142",
      " [3] _error_expected_char(::UInt8, ::JSON.Parser.MemoryParserState) at /Users/mauradriscoll/.julia/packages/JSON/d89fA/src/Parser.jl:85",
      " [4] skip! at /Users/mauradriscoll/.julia/packages/JSON/d89fA/src/Parser.jl:82 [inlined]",
      " [5] parse_object(::JSON.Parser.ParserContext{Dict{String,Any},Int64,true,nothing}, ::JSON.Parser.MemoryParserState) at /Users/mauradriscoll/.julia/packages/JSON/d89fA/src/Parser.jl:236",
      " [6] parse_value(::JSON.Parser.ParserContext{Dict{String,Any},Int64,true,nothing}, ::JSON.Parser.MemoryParserState) at /Users/mauradriscoll/.julia/packages/JSON/d89fA/src/Parser.jl:168",
      " [7] parse_object(::JSON.Parser.ParserContext{Dict{String,Any},Int64,true,nothing}, ::JSON.Parser.MemoryParserState) at /Users/mauradriscoll/.julia/packages/JSON/d89fA/src/Parser.jl:232",
      " [8] parse_value(::JSON.Parser.ParserContext{Dict{String,Any},Int64,true,nothing}, ::JSON.Parser.MemoryParserState) at /Users/mauradriscoll/.julia/packages/JSON/d89fA/src/Parser.jl:168",
      " [9] parse_object(::JSON.Parser.ParserContext{Dict{String,Any},Int64,true,nothing}, ::JSON.Parser.MemoryParserState) at /Users/mauradriscoll/.julia/packages/JSON/d89fA/src/Parser.jl:232",
      " [10] parse_value(::JSON.Parser.ParserContext{Dict{String,Any},Int64,true,nothing}, ::JSON.Parser.MemoryParserState) at /Users/mauradriscoll/.julia/packages/JSON/d89fA/src/Parser.jl:168",
      " [11] parse_object(::JSON.Parser.ParserContext{Dict{String,Any},Int64,true,nothing}, ::JSON.Parser.MemoryParserState) at /Users/mauradriscoll/.julia/packages/JSON/d89fA/src/Parser.jl:232",
      " [12] parse_value(::JSON.Parser.ParserContext{Dict{String,Any},Int64,true,nothing}, ::JSON.Parser.MemoryParserState) at /Users/mauradriscoll/.julia/packages/JSON/d89fA/src/Parser.jl:168",
      " [13] parse_array(::JSON.Parser.ParserContext{Dict{String,Any},Int64,true,nothing}, ::JSON.Parser.MemoryParserState) at /Users/mauradriscoll/.julia/packages/JSON/d89fA/src/Parser.jl:205",
      " [14] parse_value(::JSON.Parser.ParserContext{Dict{String,Any},Int64,true,nothing}, ::JSON.Parser.MemoryParserState) at /Users/mauradriscoll/.julia/packages/JSON/d89fA/src/Parser.jl:170",
      " [15] parse_object(::JSON.Parser.ParserContext{Dict{String,Any},Int64,true,nothing}, ::JSON.Parser.MemoryParserState) at /Users/mauradriscoll/.julia/packages/JSON/d89fA/src/Parser.jl:232",
      " [16] parse_value(::JSON.Parser.ParserContext{Dict{String,Any},Int64,true,nothing}, ::JSON.Parser.MemoryParserState) at /Users/mauradriscoll/.julia/packages/JSON/d89fA/src/Parser.jl:168",
      " [17] #parse#1(::Type, ::Type{Int64}, ::Bool, ::Nothing, ::Function, ::String) at /Users/mauradriscoll/.julia/packages/JSON/d89fA/src/Parser.jl:463",
      " [18] parse(::String) at /Users/mauradriscoll/.julia/packages/JSON/d89fA/src/Parser.jl:461",
      " [19] top-level scope at In[4]:106"
     ]
    }
   ],
   "source": [
    "small_data_json = JSON.json(small_data)\n",
    "spec = \"\"\"{\n",
    "  \"autosize\": \"pad\",\n",
    "  \"padding\": 5,\n",
    "  \"height\": 200,\n",
    "  \"title\": {\"text\": \"Number of Publications vs Year\", \"frame\": \"group\"},\n",
    "  \"style\": \"cell\",\n",
    "  \"data\": {\n",
    "    \"name\": \"source\",\n",
    "    \"values\": $(small_data_json)\n",
    "  },\n",
    "    \"selection\": {\n",
    "    \"highlight\": {\"type\": \"single\", \"empty\": \"none\", \"on\": \"mouseover\"},\n",
    "    \"select\": {\"type\": \"multi\"}\n",
    "  },\n",
    "\n",
    "    \"signals\": [\n",
    "        {\"name\": \"x_step\", \"value\": 20},\n",
    "        {\n",
    "          \"name\": \"width\",\n",
    "          \"update\": \"bandspace(domain('x').length, 0.1, 0.05) * x_step\"\n",
    "        },\n",
    "        {\n",
    "          \"name\": \"select\",\n",
    "          \"value\": false,\n",
    "          \"on\": [\n",
    "            {\"events\": \"click\", \"update\": \"datum\"},\n",
    "            {\"events\": \"dblclick\", \"update\": \"null\"}\n",
    "          ]\n",
    "        }\n",
    "      ],\n",
    "    \"marks\": [\n",
    "    {\n",
    "      \"name\": \"marks\",\n",
    "      \"type\": \"rect\",\n",
    "      \"style\": [\"bar\"],\n",
    "      \"from\": {\"data\": \"data_0\"},\n",
    "      \"encode\": {\n",
    "        \"update\": {\n",
    "          \"fill\": {\"value\": \"#00FFFF\"},\n",
    "          \"stroke\": {\"value\": \"black\"},\n",
    "          \"cursor\": {\"value\": \"pointer\"},\n",
    "          \"tooltip\": {\n",
    "            \"signal\": \"{\\\"year\\\": ''+datum[\\\"year\\\"], \\\"Count of Records\\\": format(datum[\\\"__count\\\"], \\\"\\\")}\"\n",
    "          },\n",
    "          \"x\": {\"scale\": \"x\", \"field\": \"year\"},\n",
    "          \"width\": {\"scale\": \"x\", \"band\": true},\n",
    "          \"y\": {\"scale\": \"y\", \"field\": \"__count\"},\n",
    "          \"y2\": {\"scale\": \"y\", \"value\": 0}\n",
    "        }\n",
    "      }\n",
    "    }\n",
    "  ],\n",
    "  \"scales\": [\n",
    "    {\n",
    "      \"name\": \"x\",\n",
    "      \"type\": \"band\",\n",
    "      \"domain\": {\"data\": \"data_0\", \"field\": \"year\", \"sort\": true},\n",
    "      \"range\": {\"step\": {\"signal\": \"x_step\"}},\n",
    "      \"paddingInner\": 0.1,\n",
    "      \"paddingOuter\": 0.05\n",
    "    },\n",
    "    {\n",
    "      \"name\": \"y\",\n",
    "      \"type\": \"linear\",\n",
    "      \"domain\": {\"data\": \"data_0\", \"field\": \"__count\"},\n",
    "      \"range\": [{\"signal\": \"height\"}, 0],\n",
    "      \"nice\": true,\n",
    "      \"zero\": true\n",
    "    }\n",
    "  ],\n",
    "  \"axes\": [\n",
    "    {\n",
    "      \"scale\": \"x\",\n",
    "      \"orient\": \"bottom\",\n",
    "      \"grid\": false,\n",
    "      \"title\": \"Year\",\n",
    "      \"labelAlign\": \"right\",\n",
    "      \"labelAngle\": 270,\n",
    "      \"labelBaseline\": \"middle\",\n",
    "      \"zindex\": 1\n",
    "    },\n",
    "    {\n",
    "      \"scale\": \"y\",\n",
    "      \"orient\": \"left\",\n",
    "      \"grid\": false,\n",
    "      \"title\": \"Count of Records\",\n",
    "      \"labelOverlap\": true,\n",
    "      \"tickCount\": {\"signal\": \"ceil(height/40)\"},\n",
    "      \"zindex\": 1\n",
    "    },\n",
    "    {\n",
    "      \"scale\": \"y\",\n",
    "      \"orient\": \"left\",\n",
    "      \"gridScale\": \"x\",\n",
    "      \"grid\": true,\n",
    "      \"tickCount\": {\"signal\": \"ceil(height/40)\"},\n",
    "      \"domain\": false,\n",
    "      \"labels\": false,\n",
    "      \"maxExtent\": 0,\n",
    "      \"minExtent\": 0,\n",
    "      \"ticks\": false,\n",
    "      \"zindex\": 0\n",
    "    }\n",
    "  ]\"\"\"\n",
    "VegaLite.VGSpec(JSON.parse(spec))"
   ]
  },
  {
   "cell_type": "code",
   "execution_count": 6,
   "metadata": {},
   "outputs": [
    {
     "data": {
      "application/vnd.vegalite.v3+json": {
       "config": {
        "overlay": {
         "line": true
        },
        "scale": {
         "useUnaggregatedDomain": true
        }
       },
       "data": {
        "values": [
         {
          "month": "9",
          "year": 2017
         },
         {
          "month": "9",
          "year": 2017
         },
         {
          "month": "9",
          "year": 2017
         },
         {
          "month": "9",
          "year": 2017
         },
         {
          "month": "9",
          "year": 2017
         },
         {
          "month": "8",
          "year": 2017
         },
         {
          "month": "6",
          "year": 2016
         },
         {
          "month": "8",
          "year": 2016
         },
         {
          "month": "8",
          "year": 2016
         },
         {
          "month": "12",
          "year": 2013
         },
         {
          "month": "10",
          "year": 2013
         },
         {
          "month": "5",
          "year": 2018
         },
         {
          "month": "5",
          "year": 2018
         },
         {
          "month": "5",
          "year": 2018
         },
         {
          "month": "Missing",
          "year": 2017
         },
         {
          "month": "4",
          "year": 2017
         },
         {
          "month": "4",
          "year": 2017
         },
         {
          "month": "3",
          "year": 2017
         },
         {
          "month": "1",
          "year": 2017
         },
         {
          "month": "1",
          "year": 2017
         },
         {
          "month": "2",
          "year": 2017
         },
         {
          "month": "2",
          "year": 2017
         },
         {
          "month": "4",
          "year": 2016
         },
         {
          "month": "4",
          "year": 2016
         },
         {
          "month": "1",
          "year": 2016
         },
         {
          "month": "Missing",
          "year": 2016
         },
         {
          "month": "11",
          "year": 2016
         },
         {
          "month": "Missing",
          "year": 2016
         },
         {
          "month": "8",
          "year": 2016
         },
         {
          "month": "10",
          "year": 2016
         },
         {
          "month": "2",
          "year": 2016
         },
         {
          "month": "3",
          "year": 2016
         },
         {
          "month": "1",
          "year": 2016
         },
         {
          "month": "4",
          "year": 2016
         },
         {
          "month": "1",
          "year": 2017
         },
         {
          "month": "3",
          "year": 2016
         },
         {
          "month": "1",
          "year": 2017
         },
         {
          "month": "6",
          "year": 2016
         },
         {
          "month": "8",
          "year": 2016
         },
         {
          "month": "10",
          "year": 2016
         },
         {
          "month": "4",
          "year": 2016
         },
         {
          "month": "2",
          "year": 2016
         },
         {
          "month": "6",
          "year": 2016
         },
         {
          "month": "3",
          "year": 2016
         },
         {
          "month": "3",
          "year": 2016
         },
         {
          "month": "12",
          "year": 2014
         },
         {
          "month": "12",
          "year": 2017
         },
         {
          "month": "3",
          "year": 2015
         },
         {
          "month": "3",
          "year": 2015
         },
         {
          "month": "4",
          "year": 2015
         },
         {
          "month": "4",
          "year": 2015
         },
         {
          "month": "Missing",
          "year": 2015
         },
         {
          "month": "5",
          "year": 2014
         },
         {
          "month": "2",
          "year": 2015
         },
         {
          "month": "3",
          "year": 2014
         },
         {
          "month": "Missing",
          "year": 2014
         },
         {
          "month": "11",
          "year": 2014
         },
         {
          "month": "8",
          "year": 2014
         },
         {
          "month": "8",
          "year": 2014
         },
         {
          "month": "Missing",
          "year": 2014
         },
         {
          "month": "Missing",
          "year": 2014
         },
         {
          "month": "7",
          "year": 2014
         },
         {
          "month": "3",
          "year": 2014
         },
         {
          "month": "4",
          "year": 2014
         },
         {
          "month": "6",
          "year": 2014
         },
         {
          "month": "6",
          "year": 2014
         },
         {
          "month": "6",
          "year": 2014
         },
         {
          "month": "6",
          "year": 2014
         },
         {
          "month": "6",
          "year": 2014
         },
         {
          "month": "5",
          "year": 2014
         },
         {
          "month": "4",
          "year": 2014
         },
         {
          "month": "12",
          "year": 2013
         },
         {
          "month": "4",
          "year": 2014
         },
         {
          "month": "3",
          "year": 2014
         },
         {
          "month": "12",
          "year": 2013
         },
         {
          "month": "3",
          "year": 2014
         },
         {
          "month": "3",
          "year": 2014
         },
         {
          "month": "3",
          "year": 2014
         },
         {
          "month": "3",
          "year": 2014
         },
         {
          "month": "10",
          "year": 2013
         },
         {
          "month": "2",
          "year": 2014
         },
         {
          "month": "2",
          "year": 2014
         },
         {
          "month": "1",
          "year": 2014
         },
         {
          "month": "1",
          "year": 2014
         },
         {
          "month": "12",
          "year": 2013
         },
         {
          "month": "6",
          "year": 2018
         },
         {
          "month": "6",
          "year": 2018
         },
         {
          "month": "5",
          "year": 2018
         },
         {
          "month": "11",
          "year": 2018
         },
         {
          "month": "4",
          "year": 2018
         },
         {
          "month": "Missing",
          "year": 2018
         },
         {
          "month": "9",
          "year": 2016
         },
         {
          "month": "2",
          "year": 2016
         },
         {
          "month": "8",
          "year": 2015
         },
         {
          "month": "2",
          "year": 2015
         },
         {
          "month": "5",
          "year": 2015
         },
         {
          "month": "5",
          "year": 2015
         },
         {
          "month": "3",
          "year": 2018
         },
         {
          "month": "12",
          "year": 2017
         },
         {
          "month": "8",
          "year": 2017
         },
         {
          "month": "7",
          "year": 2017
         },
         {
          "month": "5",
          "year": 2019
         },
         {
          "month": "3",
          "year": 2016
         },
         {
          "month": "Missing",
          "year": 2016
         },
         {
          "month": "10",
          "year": 2014
         },
         {
          "month": "11",
          "year": 2014
         },
         {
          "month": "Missing",
          "year": 2015
         },
         {
          "month": "11",
          "year": 2015
         },
         {
          "month": "Missing",
          "year": 2015
         },
         {
          "month": "10",
          "year": 2015
         },
         {
          "month": "9",
          "year": 2015
         },
         {
          "month": "10",
          "year": 2015
         },
         {
          "month": "7",
          "year": 2015
         },
         {
          "month": "7",
          "year": 2015
         },
         {
          "month": "9",
          "year": 2014
         },
         {
          "month": "Missing",
          "year": 2014
         },
         {
          "month": "6",
          "year": 2014
         },
         {
          "month": "4",
          "year": 2018
         },
         {
          "month": "2",
          "year": 2018
         },
         {
          "month": "10",
          "year": 2018
         },
         {
          "month": "4",
          "year": 2018
         },
         {
          "month": "6",
          "year": 2017
         },
         {
          "month": "3",
          "year": 2018
         },
         {
          "month": "2",
          "year": 2018
         },
         {
          "month": "4",
          "year": 2018
         },
         {
          "month": "9",
          "year": 2018
         },
         {
          "month": "7",
          "year": 2018
         },
         {
          "month": "6",
          "year": 2018
         },
         {
          "month": "3",
          "year": 2018
         },
         {
          "month": "8",
          "year": 2016
         },
         {
          "month": "Missing",
          "year": 2018
         },
         {
          "month": "3",
          "year": 2018
         },
         {
          "month": "6",
          "year": 2018
         },
         {
          "month": "3",
          "year": 2018
         },
         {
          "month": "2",
          "year": 2017
         },
         {
          "month": "2",
          "year": 2017
         },
         {
          "month": "3",
          "year": 2017
         },
         {
          "month": "8",
          "year": 2017
         },
         {
          "month": "4",
          "year": 2017
         },
         {
          "month": "2",
          "year": 2016
         },
         {
          "month": "8",
          "year": 2016
         },
         {
          "month": "7",
          "year": 2016
         },
         {
          "month": "5",
          "year": 2016
         },
         {
          "month": "3",
          "year": 2015
         },
         {
          "month": "3",
          "year": 2016
         },
         {
          "month": "9",
          "year": 2015
         },
         {
          "month": "10",
          "year": 2016
         },
         {
          "month": "1",
          "year": 2016
         },
         {
          "month": "11",
          "year": 2016
         },
         {
          "month": "2",
          "year": 2016
         },
         {
          "month": "3",
          "year": 2015
         },
         {
          "month": "9",
          "year": 2015
         },
         {
          "month": "1",
          "year": 2015
         },
         {
          "month": "12",
          "year": 2015
         },
         {
          "month": "2",
          "year": 2015
         },
         {
          "month": "1",
          "year": 2015
         },
         {
          "month": "3",
          "year": 2015
         },
         {
          "month": "6",
          "year": 2015
         },
         {
          "month": "8",
          "year": 2015
         },
         {
          "month": "9",
          "year": 2015
         },
         {
          "month": "11",
          "year": 2015
         },
         {
          "month": "4",
          "year": 2015
         },
         {
          "month": "3",
          "year": 2015
         },
         {
          "month": "8",
          "year": 2014
         },
         {
          "month": "Missing",
          "year": 2014
         },
         {
          "month": "3",
          "year": 2014
         },
         {
          "month": "Missing",
          "year": 2014
         },
         {
          "month": "8",
          "year": 2014
         },
         {
          "month": "7",
          "year": 2014
         },
         {
          "month": "12",
          "year": 2017
         },
         {
          "month": "10",
          "year": 2015
         },
         {
          "month": "6",
          "year": 2018
         },
         {
          "month": "7",
          "year": 2018
         },
         {
          "month": "7",
          "year": 2017
         },
         {
          "month": "Missing",
          "year": 2017
         },
         {
          "month": "Missing",
          "year": 2016
         },
         {
          "month": "Missing",
          "year": 2014
         }
        ]
       },
       "encoding": {
        "x": {
         "field": "year",
         "type": "nominal"
        },
        "y": {
         "aggregate": "count",
         "field": "*",
         "type": "quantitative"
        }
       },
       "mark": "bar"
      },
      "image/png": "[encoded data removed]",
      "image/svg+xml": [
       "<svg class=\"marks\" width=\"184\" height=\"255\" viewBox=\"0 0 184 255\" version=\"1.1\" xmlns=\"http://www.w3.org/2000/svg\" xmlns:xlink=\"http://www.w3.org/1999/xlink\"><g transform=\"translate(39,5)\"><g class=\"mark-group role-frame root\"><g transform=\"translate(0,0)\"><path class=\"background\" d=\"M0.5,0.5h140v200h-140Z\" style=\"fill: none; stroke: #ddd;\"></path><g><g class=\"mark-group role-axis\"><g transform=\"translate(0.5,0.5)\"><path class=\"background\" d=\"M0,0h0v0h0Z\" style=\"pointer-events: none; fill: none;\"></path><g><g class=\"mark-rule role-axis-grid\" style=\"pointer-events: none;\"><line transform=\"translate(0,200)\" x2=\"140\" y2=\"0\" style=\"fill: none; stroke: #ddd; stroke-width: 1; opacity: 1;\"></line><line transform=\"translate(0,156)\" x2=\"140\" y2=\"0\" style=\"fill: none; stroke: #ddd; stroke-width: 1; opacity: 1;\"></line><line transform=\"translate(0,111)\" x2=\"140\" y2=\"0\" style=\"fill: none; stroke: #ddd; stroke-width: 1; opacity: 1;\"></line><line transform=\"translate(0,67)\" x2=\"140\" y2=\"0\" style=\"fill: none; stroke: #ddd; stroke-width: 1; opacity: 1;\"></line><line transform=\"translate(0,22)\" x2=\"140\" y2=\"0\" style=\"fill: none; stroke: #ddd; stroke-width: 1; opacity: 1;\"></line></g></g></g></g><g class=\"mark-rect role-mark marks\"><path d=\"M81,71.11111111111111h18v128.88888888888889h-18Z\" style=\"fill: #4c78a8;\"></path><path d=\"M61,26.666666666666657h18v173.33333333333334h-18Z\" style=\"fill: #4c78a8;\"></path><path d=\"M1,173.33333333333334h18v26.666666666666657h-18Z\" style=\"fill: #4c78a8;\"></path><path d=\"M101,80h18v120h-18Z\" style=\"fill: #4c78a8;\"></path><path d=\"M21,17.77777777777777h18v182.22222222222223h-18Z\" style=\"fill: #4c78a8;\"></path><path d=\"M41,48.888888888888886h18v151.11111111111111h-18Z\" style=\"fill: #4c78a8;\"></path><path d=\"M121,195.55555555555554h18v4.444444444444457h-18Z\" style=\"fill: #4c78a8;\"></path></g><g class=\"mark-group role-axis\"><g transform=\"translate(0.5,200.5)\"><path class=\"background\" d=\"M0,0h0v0h0Z\" style=\"pointer-events: none; fill: none;\"></path><g><g class=\"mark-rule role-axis-tick\" style=\"pointer-events: none;\"><line transform=\"translate(9,0)\" x2=\"0\" y2=\"5\" style=\"fill: none; stroke: #888; stroke-width: 1; opacity: 1;\"></line><line transform=\"translate(29,0)\" x2=\"0\" y2=\"5\" style=\"fill: none; stroke: #888; stroke-width: 1; opacity: 1;\"></line><line transform=\"translate(49,0)\" x2=\"0\" y2=\"5\" style=\"fill: none; stroke: #888; stroke-width: 1; opacity: 1;\"></line><line transform=\"translate(69,0)\" x2=\"0\" y2=\"5\" style=\"fill: none; stroke: #888; stroke-width: 1; opacity: 1;\"></line><line transform=\"translate(89,0)\" x2=\"0\" y2=\"5\" style=\"fill: none; stroke: #888; stroke-width: 1; opacity: 1;\"></line><line transform=\"translate(109,0)\" x2=\"0\" y2=\"5\" style=\"fill: none; stroke: #888; stroke-width: 1; opacity: 1;\"></line><line transform=\"translate(129,0)\" x2=\"0\" y2=\"5\" style=\"fill: none; stroke: #888; stroke-width: 1; opacity: 1;\"></line></g><g class=\"mark-text role-axis-label\" style=\"pointer-events: none;\"><text text-anchor=\"end\" transform=\"translate(9,7) rotate(270) translate(0,3)\" style=\"font-family: sans-serif; font-size: 10px; fill: #000; opacity: 1;\">2013</text><text text-anchor=\"end\" transform=\"translate(29,7) rotate(270) translate(0,3)\" style=\"font-family: sans-serif; font-size: 10px; fill: #000; opacity: 1;\">2014</text><text text-anchor=\"end\" transform=\"translate(49,7) rotate(270) translate(0,3)\" style=\"font-family: sans-serif; font-size: 10px; fill: #000; opacity: 1;\">2015</text><text text-anchor=\"end\" transform=\"translate(69,7) rotate(270) translate(0,3)\" style=\"font-family: sans-serif; font-size: 10px; fill: #000; opacity: 1;\">2016</text><text text-anchor=\"end\" transform=\"translate(89,7) rotate(270) translate(0,3)\" style=\"font-family: sans-serif; font-size: 10px; fill: #000; opacity: 1;\">2017</text><text text-anchor=\"end\" transform=\"translate(109,7) rotate(270) translate(0,3)\" style=\"font-family: sans-serif; font-size: 10px; fill: #000; opacity: 1;\">2018</text><text text-anchor=\"end\" transform=\"translate(129,7) rotate(270) translate(0,3)\" style=\"font-family: sans-serif; font-size: 10px; fill: #000; opacity: 1;\">2019</text></g><g class=\"mark-rule role-axis-domain\" style=\"pointer-events: none;\"><line transform=\"translate(0,0)\" x2=\"140\" y2=\"0\" style=\"fill: none; stroke: #888; stroke-width: 1; opacity: 1;\"></line></g><g class=\"mark-text role-axis-title\" style=\"pointer-events: none;\"><text text-anchor=\"middle\" transform=\"translate(70,42.24609375)\" style=\"font-family: sans-serif; font-size: 11px; font-weight: bold; fill: #000; opacity: 1;\">year</text></g></g></g></g><g class=\"mark-group role-axis\"><g transform=\"translate(0.5,0.5)\"><path class=\"background\" d=\"M0,0h0v0h0Z\" style=\"pointer-events: none; fill: none;\"></path><g><g class=\"mark-rule role-axis-tick\" style=\"pointer-events: none;\"><line transform=\"translate(0,200)\" x2=\"-5\" y2=\"0\" style=\"fill: none; stroke: #888; stroke-width: 1; opacity: 1;\"></line><line transform=\"translate(0,156)\" x2=\"-5\" y2=\"0\" style=\"fill: none; stroke: #888; stroke-width: 1; opacity: 1;\"></line><line transform=\"translate(0,111)\" x2=\"-5\" y2=\"0\" style=\"fill: none; stroke: #888; stroke-width: 1; opacity: 1;\"></line><line transform=\"translate(0,67)\" x2=\"-5\" y2=\"0\" style=\"fill: none; stroke: #888; stroke-width: 1; opacity: 1;\"></line><line transform=\"translate(0,22)\" x2=\"-5\" y2=\"0\" style=\"fill: none; stroke: #888; stroke-width: 1; opacity: 1;\"></line></g><g class=\"mark-text role-axis-label\" style=\"pointer-events: none;\"><text text-anchor=\"end\" transform=\"translate(-7,203)\" style=\"font-family: sans-serif; font-size: 10px; fill: #000; opacity: 1;\">0</text><text text-anchor=\"end\" transform=\"translate(-7,158.55555555555554)\" style=\"font-family: sans-serif; font-size: 10px; fill: #000; opacity: 1;\">10</text><text text-anchor=\"end\" transform=\"translate(-7,114.11111111111111)\" style=\"font-family: sans-serif; font-size: 10px; fill: #000; opacity: 1;\">20</text><text text-anchor=\"end\" transform=\"translate(-7,69.66666666666669)\" style=\"font-family: sans-serif; font-size: 10px; fill: #000; opacity: 1;\">30</text><text text-anchor=\"end\" transform=\"translate(-7,25.22222222222223)\" style=\"font-family: sans-serif; font-size: 10px; fill: #000; opacity: 1;\">40</text></g><g class=\"mark-rule role-axis-domain\" style=\"pointer-events: none;\"><line transform=\"translate(0,200)\" x2=\"0\" y2=\"-200\" style=\"fill: none; stroke: #888; stroke-width: 1; opacity: 1;\"></line></g><g class=\"mark-text role-axis-title\" style=\"pointer-events: none;\"><text text-anchor=\"middle\" transform=\"translate(-22.123046875,100) rotate(-90) translate(0,-2)\" style=\"font-family: sans-serif; font-size: 11px; font-weight: bold; fill: #000; opacity: 1;\">Count of Records</text></g></g></g></g></g></g></g></g></svg>"
      ],
      "text/plain": [
       "VegaLite.VLSpec{:plot}"
      ]
     },
     "execution_count": 6,
     "metadata": {},
     "output_type": "execute_result"
    }
   ],
   "source": [
    "vl\"\"\"{\n",
    "  \"data\": {\n",
    "    \"name\": \"source\"\n",
    "  },\n",
    "  \"mark\": \"bar\",\n",
    "  \"encoding\": {\n",
    "    \"x\": {\n",
    "      \"field\": \"year\",\n",
    "      \"type\": \"nominal\"\n",
    "    },\n",
    "    \"y\": {\n",
    "      \"aggregate\": \"count\",\n",
    "      \"field\": \"*\",\n",
    "      \"type\": \"quantitative\"\n",
    "    }\n",
    "  },\n",
    "  \"config\": {\n",
    "    \"overlay\": {\n",
    "      \"line\": true\n",
    "    },\n",
    "    \"scale\": {\n",
    "      \"useUnaggregatedDomain\": true\n",
    "    }\n",
    "  }\n",
    "}\"\"\"(small_data)\n"
   ]
  },
  {
   "cell_type": "code",
   "execution_count": 47,
   "metadata": {
    "slideshow": {
     "slide_type": "-"
    }
   },
   "outputs": [],
   "source": [
    "# create the corpus\n",
    "sds = []\n",
    "rows = eachrow(data)\n",
    "for x in rows\n",
    "    if x.abstract != \"Missing\"\n",
    "        push!(sds, StringDocument(strip(x.abstract)))\n",
    "    else\n",
    "        push!(sds, StringDocument(strip(x.title)))\n",
    "    end\n",
    "end\n",
    "\n",
    "corpus = Corpus(sds)\n",
    "\n",
    "# clean up the data\n",
    "sds = map(x->remove_corrupt_utf8!(x), sds)\n",
    "remove_case!(corpus)\n",
    "prepare!(corpus, strip_articles| strip_non_letters| strip_stopwords| strip_pronouns|strip_html_tags)\n",
    "remove_words!(corpus, [\"\\n\", \"a\", \"we\",\"d\",\"c\",\"h\",\"s\",\"kg\",\"al\",\"fs\"])\n",
    "\n",
    "# print(corpus)\n",
    "\n",
    "# set up the lexicon\n",
    "lexicon(corpus)\n",
    "update_lexicon!(corpus)\n",
    "\n",
    "\n",
    "# light stemming - combine simple 's' plurals with their singular (e.g. models == model)\n",
    "pairs = Pair{String, String}[]\n",
    "for (k, v) in lexicon(corpus)\n",
    "    if k[end] == 's' && haskey(lexicon(corpus), k[1:end-1])\n",
    "        push!(pairs, k => k[1:end-1])\n",
    "    end\n",
    "end\n",
    "\n",
    "\n",
    "# replace plurals and update the lexicon\n",
    "for doc in corpus\n",
    "    for pair in pairs\n",
    "        doc.text = replace(doc.text, pair)\n",
    "    end\n",
    "end\n",
    "update_lexicon!(corpus)\n",
    "\n",
    "#remove words that were not stripped with one letter\n",
    "for (w, f) in lexicon(corpus)\n",
    "    if length(w) == 1\n",
    "        delete!(lexicon(corpus),w)\n",
    "    end\n",
    "end\n",
    "\n",
    "\n",
    "# set up inverse index\n",
    "inverse_index(corpus)\n",
    "update_inverse_index!(corpus)\n",
    "\n"
   ]
  },
  {
   "cell_type": "code",
   "execution_count": 48,
   "metadata": {},
   "outputs": [
    {
     "data": {
      "text/plain": [
       "175×2107 SparseArrays.SparseMatrixCSC{Float64,Int64} with 3919 stored entries:\n",
       "  [30  ,    1]  =  0.406513\n",
       "  [48  ,    1]  =  0.0304193\n",
       "  [169 ,    2]  =  0.0358666\n",
       "  [88  ,    3]  =  1.7216\n",
       "  [22  ,    4]  =  0.0210683\n",
       "  [83  ,    4]  =  0.027661\n",
       "  [123 ,    4]  =  0.0363051\n",
       "  [19  ,    5]  =  0.508272\n",
       "  [138 ,    5]  =  0.451797\n",
       "  [145 ,    5]  =  0.451797\n",
       "  [169 ,    6]  =  0.0717331\n",
       "  [39  ,    7]  =  0.045629\n",
       "  ⋮\n",
       "  [15  , 2101]  =  0.0530649\n",
       "  [27  , 2101]  =  0.0413413\n",
       "  [39  , 2101]  =  0.0362791\n",
       "  [103 , 2101]  =  0.296279\n",
       "  [172 , 2101]  =  0.0629265\n",
       "  [13  , 2102]  =  0.344319\n",
       "  [7   , 2103]  =  0.638806\n",
       "  [18  , 2103]  =  0.558955\n",
       "  [83  , 2104]  =  0.105404\n",
       "  [83  , 2105]  =  0.0351346\n",
       "  [138 , 2106]  =  0.573865\n",
       "  [46  , 2107]  =  0.645598"
      ]
     },
     "execution_count": 48,
     "metadata": {},
     "output_type": "execute_result"
    }
   ],
   "source": [
    "m =  DocumentTermMatrix(corpus)\n",
    "tfidf = tf_idf(m)"
   ]
  },
  {
   "cell_type": "code",
   "execution_count": 49,
   "metadata": {},
   "outputs": [],
   "source": [
    "# bi-grams - find common two word phrases\n",
    "\n",
    "bg = NGramDocument[]\n",
    "\n",
    "for d in corpus\n",
    "    push!(bg, NGramDocument(ngrams(d, 2), 1, d.metadata))\n",
    "end\n",
    "\n",
    "bg_corpus = Corpus(bg)\n",
    "\n",
    "# set up inverse index\n",
    "inverse_index(bg_corpus)\n",
    "update_inverse_index!(bg_corpus)\n",
    "\n",
    "# set up the lexicon\n",
    "lexicon(bg_corpus)\n",
    "update_lexicon!(bg_corpus)"
   ]
  },
  {
   "cell_type": "code",
   "execution_count": 50,
   "metadata": {},
   "outputs": [],
   "source": [
    "# tri-grams - find common three word phrases\n",
    "\n",
    "tg = NGramDocument[]\n",
    "\n",
    "for d in corpus\n",
    "    push!(tg, NGramDocument(ngrams(d, 3), 1, d.metadata))\n",
    "end\n",
    "\n",
    "tg_corpus = Corpus(tg)\n",
    "\n",
    "# set up inverse index\n",
    "inverse_index(tg_corpus)\n",
    "update_inverse_index!(tg_corpus)\n",
    "\n",
    "# set up the lexicon\n",
    "lexicon(tg_corpus)\n",
    "update_lexicon!(tg_corpus)"
   ]
  },
  {
   "cell_type": "code",
   "execution_count": 51,
   "metadata": {},
   "outputs": [
    {
     "data": {
      "text/plain": [
       "subgram_count (generic function with 1 method)"
      ]
     },
     "execution_count": 51,
     "metadata": {},
     "output_type": "execute_result"
    }
   ],
   "source": [
    "# get overall count of a term in the n+1 gram's dictionary\n",
    "function subgram_count(term, np1grams)\n",
    "    count = 0\n",
    "    for (k, v) in np1grams\n",
    "        if occursin(term, k)\n",
    "            count += v\n",
    "        end\n",
    "    end\n",
    "    \n",
    "    return count\n",
    "end"
   ]
  },
  {
   "cell_type": "code",
   "execution_count": 52,
   "metadata": {},
   "outputs": [
    {
     "data": {
      "text/plain": [
       "remove_ngrams (generic function with 2 methods)"
      ]
     },
     "execution_count": 52,
     "metadata": {},
     "output_type": "execute_result"
    }
   ],
   "source": [
    "\n",
    "# prune and combine an n gram with it's n+1 gram given a cut off count\n",
    "function remove_ngrams(ngrams, np1grams, cut_off)\n",
    "    new_ngrams = Dict{String, Int}()\n",
    "    for (k, v) in ngrams\n",
    "        new_count = v - subgram_count(k, np1grams)\n",
    "        if new_count > cut_off\n",
    "            new_ngrams[k] = new_count\n",
    "        end\n",
    "    end\n",
    "    \n",
    "    return merge(new_ngrams, np1grams)\n",
    "end"
   ]
  },
  {
   "cell_type": "code",
   "execution_count": 53,
   "metadata": {},
   "outputs": [
    {
     "data": {
      "text/plain": [
       "remove_ngrams (generic function with 2 methods)"
      ]
     },
     "execution_count": 53,
     "metadata": {},
     "output_type": "execute_result"
    }
   ],
   "source": [
    "function remove_ngrams(ngrams, cut_off)\n",
    "    new_ngrams = Dict{String, Int}()\n",
    "    for (k, v) in ngrams\n",
    "        if v > cut_off\n",
    "            new_ngrams[k] = v\n",
    "        end\n",
    "    end\n",
    "    \n",
    "    return new_ngrams\n",
    "end"
   ]
  },
  {
   "cell_type": "code",
   "execution_count": 59,
   "metadata": {},
   "outputs": [
    {
     "data": {
      "text/html": [
       "<table class=\"data-frame\"><thead><tr><th></th><th>variable</th><th>mean</th><th>min</th><th>median</th><th>max</th><th>nunique</th><th>nmissing</th><th>eltype</th></tr><tr><th></th><th>Symbol</th><th>Union…</th><th>Any</th><th>Union…</th><th>Any</th><th>Union…</th><th>Nothing</th><th>Type</th></tr></thead><tbody><p>3 rows × 8 columns</p><tr><th>1</th><td>abstract</td><td></td><td>ability</td><td></td><td>zinc</td><td>630</td><td></td><td>String</td></tr><tr><th>2</th><td>freq</td><td>25.373</td><td>6</td><td>18.0</td><td>176</td><td></td><td></td><td>Int64</td></tr><tr><th>3</th><td>pubs</td><td></td><td>[1, 2, 4, 128]</td><td></td><td>[175]</td><td>497</td><td></td><td>Array</td></tr></tbody></table>"
      ],
      "text/latex": [
       "\\begin{tabular}{r|cccccccc}\n",
       "\t& variable & mean & min & median & max & nunique & nmissing & eltype\\\\\n",
       "\t\\hline\n",
       "\t& Symbol & Union… & Any & Union… & Any & Union… & Nothing & Type\\\\\n",
       "\t\\hline\n",
       "\t1 & abstract &  & ability &  & zinc & 630 &  & String \\\\\n",
       "\t2 & freq & 25.373 & 6 & 18.0 & 176 &  &  & Int64 \\\\\n",
       "\t3 & pubs &  & [1, 2, 4, 128] &  & [175] & 497 &  & Array \\\\\n",
       "\\end{tabular}\n"
      ],
      "text/plain": [
       "3×8 DataFrame. Omitted printing of 2 columns\n",
       "│ Row │ variable │ mean   │ min            │ median │ max   │ nunique │\n",
       "│     │ \u001b[90mSymbol\u001b[39m   │ \u001b[90mUnion…\u001b[39m │ \u001b[90mAny\u001b[39m            │ \u001b[90mUnion…\u001b[39m │ \u001b[90mAny\u001b[39m   │ \u001b[90mUnion…\u001b[39m  │\n",
       "├─────┼──────────┼────────┼────────────────┼────────┼───────┼─────────┤\n",
       "│ 1   │ abstract │        │ ability        │        │ zinc  │ 630     │\n",
       "│ 2   │ freq     │ 25.373 │ 6              │ 18.0   │ 176   │         │\n",
       "│ 3   │ pubs     │        │ [1, 2, 4, 128] │        │ [175] │ 497     │"
      ]
     },
     "execution_count": 59,
     "metadata": {},
     "output_type": "execute_result"
    }
   ],
   "source": [
    "# combine ngrams and find most common words and phrases\n",
    "tg_cut_off = 2\n",
    "bg_cut_off = 4\n",
    "ug_cut_off = 15\n",
    "\n",
    "pubs_cut_off = 3\n",
    "\n",
    "new_tg = remove_ngrams(lexicon(tg_corpus), tg_cut_off)\n",
    "new_bg = remove_ngrams(lexicon(bg_corpus), new_tg, bg_cut_off)\n",
    "new_ug = remove_ngrams(lexicon(corpus), new_bg, ug_cut_off)\n",
    "\n",
    "\n",
    "# turn the n-grams into tabular data for plotting\n",
    "word_data = NamedTuple{(:abstract, :freq, :pubs), Tuple{String, Int, Array}}[]\n",
    "# word_data = NamedTuple{(:abstract, :count, :pubs), Tuple{String, Int, Array}}[]\n",
    "for (word, count) in new_ug\n",
    "    inds = []\n",
    "    word_len = length(split(word))\n",
    "    if word_len == 3\n",
    "        inds = inverse_index(tg_corpus)[word]\n",
    "    elseif word_len == 2\n",
    "        inds = inverse_index(bg_corpus)[word]\n",
    "    else\n",
    "        inds = inverse_index(corpus)[word]\n",
    "    end\n",
    "\n",
    "#find frequency of words in corpus with relation to how large the document is\n",
    "    freq = 0\n",
    "    total = 0\n",
    "    for index in inds\n",
    "        allWords = tokens(corpus[index])\n",
    "        total = size(allWords)[1] + total\n",
    "    end\n",
    "    freq = (count/total)*1000\n",
    "    freq = floor(freq)\n",
    "    \n",
    "    \n",
    "        \n",
    "     push!(word_data, NamedTuple{(:abstract, :freq, :pubs), Tuple{String, Int, Array}}((word, freq, inds)))\n",
    "\n",
    "#      push!(word_data, NamedTuple{(:abstract, :count, :pubs), Tuple{String, Int, Array}}((word, count * word_len^2, inds)))\n",
    " \n",
    "end\n",
    "\n",
    "word_data |> DataFrame |> describe"
   ]
  },
  {
   "cell_type": "code",
   "execution_count": 60,
   "metadata": {},
   "outputs": [
    {
     "data": {
      "application/vnd.vega.v5+json": {
       "data": [
        {
         "name": "table",
         "values": [
          {
           "abstract": "action",
           "freq": 33,
           "pubs": [
            110,
            122,
            148
           ]
          },
          {
           "abstract": "step",
           "freq": 7,
           "pubs": [
            22,
            83,
            84,
            171
           ]
          },
          {
           "abstract": "photosynthesis",
           "freq": 17,
           "pubs": [
            55,
            62
           ]
          },
          {
           "abstract": "measurement",
           "freq": 16,
           "pubs": [
            15,
            27,
            39,
            83,
            173
           ]
          },
          {
           "abstract": "walk",
           "freq": 27,
           "pubs": [
            169
           ]
          },
          {
           "abstract": "scene",
           "freq": 32,
           "pubs": [
            76,
            104,
            154
           ]
          },
          {
           "abstract": "star",
           "freq": 47,
           "pubs": [
            40,
            63,
            64
           ]
          },
          {
           "abstract": "monte",
           "freq": 18,
           "pubs": [
            14,
            30,
            58,
            170
           ]
          },
          {
           "abstract": "behavioral",
           "freq": 11,
           "pubs": [
            10,
            91
           ]
          },
          {
           "abstract": "support",
           "freq": 14,
           "pubs": [
            40,
            80,
            148,
            165
           ]
          },
          {
           "abstract": "protein",
           "freq": 24,
           "pubs": [
            8,
            22,
            35,
            38,
            54,
            77
           ]
          },
          {
           "abstract": "computational",
           "freq": 24,
           "pubs": [
            14,
            46,
            57,
            80,
            104,
            123,
            141,
            144,
            148,
            154,
            157
           ]
          },
          {
           "abstract": "demontrate",
           "freq": 7,
           "pubs": [
            22,
            28,
            170,
            172,
            175
           ]
          },
          {
           "abstract": "underground",
           "freq": 28,
           "pubs": [
            16,
            26,
            27,
            172,
            174
           ]
          },
          {
           "abstract": "entropic",
           "freq": 63,
           "pubs": [
            11
           ]
          },
          {
           "abstract": "electronic recoil",
           "freq": 27,
           "pubs": [
            27,
            39
           ]
          },
          {
           "abstract": "stress",
           "freq": 14,
           "pubs": [
            22,
            119
           ]
          },
          {
           "abstract": "zinc",
           "freq": 20,
           "pubs": [
            83
           ]
          },
          {
           "abstract": "methods",
           "freq": 8,
           "pubs": [
            28,
            40,
            117
           ]
          },
          {
           "abstract": "self",
           "freq": 11,
           "pubs": [
            48,
            95,
            148
           ]
          },
          {
           "abstract": "molecule",
           "freq": 9,
           "pubs": [
            38,
            48,
            83
           ]
          },
          {
           "abstract": "potential",
           "freq": 20,
           "pubs": [
            14,
            50,
            75,
            76,
            78,
            79,
            122,
            135,
            170,
            175
           ]
          },
          {
           "abstract": "single",
           "freq": 18,
           "pubs": [
            39,
            56,
            62,
            75,
            91,
            117,
            133,
            140,
            152
           ]
          },
          {
           "abstract": "muscular",
           "freq": 26,
           "pubs": [
            90
           ]
          },
          {
           "abstract": "simulation",
           "freq": 26,
           "pubs": [
            11,
            22,
            28,
            32,
            72,
            79
           ]
          },
          {
           "abstract": "precision",
           "freq": 19,
           "pubs": [
            84,
            150,
            151,
            169,
            171
           ]
          },
          {
           "abstract": "available",
           "freq": 7,
           "pubs": [
            76,
            84,
            90,
            169,
            171,
            175
           ]
          },
          {
           "abstract": "period",
           "freq": 9,
           "pubs": [
            76,
            117,
            174
           ]
          },
          {
           "abstract": "mass",
           "freq": 22,
           "pubs": [
            88,
            173,
            174
           ]
          },
          {
           "abstract": "investment",
           "freq": 15,
           "pubs": [
            10
           ]
          },
          {
           "abstract": "leaf",
           "freq": 38,
           "pubs": [
            36
           ]
          },
          {
           "abstract": "particular",
           "freq": 8,
           "pubs": [
            22,
            48,
            62,
            91,
            173
           ]
          },
          {
           "abstract": "dimenional",
           "freq": 15,
           "pubs": [
            2,
            91,
            134,
            143,
            169
           ]
          },
          {
           "abstract": "results",
           "freq": 11,
           "pubs": [
            10,
            15,
            40,
            48,
            84,
            91,
            92,
            117,
            171,
            173,
            174
           ]
          },
          {
           "abstract": "variability",
           "freq": 25,
           "pubs": [
            76,
            138,
            152
           ]
          },
          {
           "abstract": "background",
           "freq": 10,
           "pubs": [
            17,
            76,
            123,
            174
           ]
          },
          {
           "abstract": "user",
           "freq": 29,
           "pubs": [
            37,
            84,
            171
           ]
          },
          {
           "abstract": "massive particle",
           "freq": 18,
           "pubs": [
            15,
            16,
            17,
            26,
            39
           ]
          },
          {
           "abstract": "mechanically untable",
           "freq": 115,
           "pubs": [
            106,
            114,
            129
           ]
          },
          {
           "abstract": "structure",
           "freq": 36,
           "pubs": [
            6,
            14,
            48,
            71,
            80,
            118,
            160
           ]
          },
          {
           "abstract": "mortality",
           "freq": 8,
           "pubs": [
            10,
            50
           ]
          },
          {
           "abstract": "interplay",
           "freq": 11,
           "pubs": [
            48,
            90,
            117
           ]
          },
          {
           "abstract": "catalyst",
           "freq": 44,
           "pubs": [
            34,
            60,
            68,
            81,
            83,
            100,
            101,
            102
           ]
          },
          {
           "abstract": "catalysis",
           "freq": 111,
           "pubs": [
            72,
            82,
            111
           ]
          },
          {
           "abstract": "interacting massive",
           "freq": 19,
           "pubs": [
            15,
            16,
            26,
            39
           ]
          },
          {
           "abstract": "free",
           "freq": 15,
           "pubs": [
            14,
            62,
            83,
            106,
            129,
            170
           ]
          },
          {
           "abstract": "motion",
           "freq": 25,
           "pubs": [
            48,
            84,
            92,
            169,
            171
           ]
          },
          {
           "abstract": "thermal",
           "freq": 17,
           "pubs": [
            28,
            80,
            114,
            138
           ]
          },
          {
           "abstract": "implication",
           "freq": 14,
           "pubs": [
            10,
            17,
            59,
            92,
            113
           ]
          },
          {
           "abstract": "lux detector",
           "freq": 13,
           "pubs": [
            27,
            39,
            172
           ]
          },
          {
           "abstract": "classical",
           "freq": 44,
           "pubs": [
            123
           ]
          },
          {
           "abstract": "machine learning",
           "freq": 37,
           "pubs": [
            31,
            32,
            36,
            78,
            131
           ]
          },
          {
           "abstract": "task",
           "freq": 13,
           "pubs": [
            10,
            76,
            118,
            175
           ]
          },
          {
           "abstract": "local minima",
           "freq": 27,
           "pubs": [
            14
           ]
          },
          {
           "abstract": "computer vision",
           "freq": 23,
           "pubs": [
            36
           ]
          },
          {
           "abstract": "trot",
           "freq": 27,
           "pubs": [
            169
           ]
          },
          {
           "abstract": "n",
           "freq": 17,
           "pubs": [
            28,
            76,
            102
           ]
          },
          {
           "abstract": "bacterial",
           "freq": 19,
           "pubs": [
            50
           ]
          },
          {
           "abstract": "lfp",
           "freq": 86,
           "pubs": [
            126,
            133,
            152,
            167
           ]
          },
          {
           "abstract": "carbide",
           "freq": 115,
           "pubs": [
            60,
            68,
            81
           ]
          },
          {
           "abstract": "reducible metal",
           "freq": 18,
           "pubs": [
            83,
            102
           ]
          },
          {
           "abstract": "employ",
           "freq": 9,
           "pubs": [
            22,
            169,
            170
           ]
          },
          {
           "abstract": "cognitive",
           "freq": 19,
           "pubs": [
            10,
            117,
            144,
            157
           ]
          },
          {
           "abstract": "urchin",
           "freq": 37,
           "pubs": [
            40,
            54,
            64,
            67
           ]
          },
          {
           "abstract": "skeletal muscular",
           "freq": 26,
           "pubs": [
            90
           ]
          },
          {
           "abstract": "shifted",
           "freq": 15,
           "pubs": [
            10
           ]
          },
          {
           "abstract": "marker",
           "freq": 36,
           "pubs": [
            70,
            84,
            153,
            169,
            171
           ]
          },
          {
           "abstract": "conducted",
           "freq": 11,
           "pubs": [
            10,
            76
           ]
          },
          {
           "abstract": "rate",
           "freq": 10,
           "pubs": [
            10,
            36,
            83,
            148,
            175
           ]
          },
          {
           "abstract": "untable",
           "freq": 115,
           "pubs": [
            106,
            114,
            129
           ]
          },
          {
           "abstract": "material",
           "freq": 18,
           "pubs": [
            14,
            107,
            124,
            169
           ]
          },
          {
           "abstract": "tracking marker",
           "freq": 13,
           "pubs": [
            84,
            171
           ]
          },
          {
           "abstract": "sequence",
           "freq": 14,
           "pubs": [
            39,
            50,
            51,
            103
           ]
          },
          {
           "abstract": "example",
           "freq": 9,
           "pubs": [
            14,
            62,
            83
           ]
          },
          {
           "abstract": "matlab",
           "freq": 13,
           "pubs": [
            84,
            171
           ]
          },
          {
           "abstract": "species",
           "freq": 22,
           "pubs": [
            35,
            36,
            40,
            100
           ]
          },
          {
           "abstract": "set",
           "freq": 34,
           "pubs": [
            12,
            16,
            18,
            26,
            136,
            170,
            174
           ]
          },
          {
           "abstract": "based xromm",
           "freq": 20,
           "pubs": [
            84,
            171
           ]
          },
          {
           "abstract": "associated",
           "freq": 14,
           "pubs": [
            10,
            39,
            62,
            64,
            76,
            131
           ]
          },
          {
           "abstract": "involved",
           "freq": 26,
           "pubs": [
            50
           ]
          },
          {
           "abstract": "atom",
           "freq": 18,
           "pubs": [
            48,
            75
           ]
          },
          {
           "abstract": "internal",
           "freq": 10,
           "pubs": [
            40,
            48,
            169
           ]
          },
          {
           "abstract": "tools",
           "freq": 9,
           "pubs": [
            84,
            90,
            171
           ]
          },
          {
           "abstract": "helicosporidium",
           "freq": 32,
           "pubs": [
            62
           ]
          },
          {
           "abstract": "recontruction",
           "freq": 11,
           "pubs": [
            92,
            169
           ]
          },
          {
           "abstract": "highly",
           "freq": 7,
           "pubs": [
            10,
            15,
            48,
            76,
            169
           ]
          },
          {
           "abstract": "term",
           "freq": 18,
           "pubs": [
            10,
            167
           ]
          },
          {
           "abstract": "vacancies",
           "freq": 27,
           "pubs": [
            83
           ]
          },
          {
           "abstract": "model",
           "freq": 23,
           "pubs": [
            3,
            15,
            21,
            22,
            27,
            29,
            40,
            48,
            65,
            69,
            90,
            91,
            92,
            103,
            104,
            117,
            119,
            123,
            127,
            130,
            134,
            140,
            141,
            148,
            154,
            157,
            158,
            169,
            170,
            172,
            175
           ]
          },
          {
           "abstract": "mathrm",
           "freq": 25,
           "pubs": [
            15,
            27,
            39,
            80
           ]
          },
          {
           "abstract": "kev",
           "freq": 28,
           "pubs": [
            27,
            39,
            172,
            173
           ]
          },
          {
           "abstract": "development sea",
           "freq": 125,
           "pubs": [
            54,
            64
           ]
          },
          {
           "abstract": "subject",
           "freq": 6,
           "pubs": [
            22,
            76,
            90
           ]
          },
          {
           "abstract": "shell",
           "freq": 30,
           "pubs": [
            39
           ]
          },
          {
           "abstract": "tan pauses",
           "freq": 29,
           "pubs": [
            148
           ]
          },
          {
           "abstract": "reveal",
           "freq": 10,
           "pubs": [
            22,
            35,
            36,
            96,
            117,
            123
           ]
          },
          {
           "abstract": "six",
           "freq": 6,
           "pubs": [
            10,
            84,
            171
           ]
          },
          {
           "abstract": "version",
           "freq": 7,
           "pubs": [
            84,
            170,
            171
           ]
          },
          {
           "abstract": "phys",
           "freq": 21,
           "pubs": [
            28
           ]
          },
          {
           "abstract": "marker based xromm",
           "freq": 20,
           "pubs": [
            84,
            171
           ]
          },
          {
           "abstract": "parasite",
           "freq": 23,
           "pubs": [
            62,
            85
           ]
          },
          {
           "abstract": "management",
           "freq": 10,
           "pubs": [
            84,
            168,
            171
           ]
          },
          {
           "abstract": "energies",
           "freq": 16,
           "pubs": [
            27,
            39,
            172
           ]
          },
          {
           "abstract": "classify",
           "freq": 23,
           "pubs": [
            36
           ]
          },
          {
           "abstract": "infection",
           "freq": 9,
           "pubs": [
            50,
            62
           ]
          },
          {
           "abstract": "relation",
           "freq": 160,
           "pubs": [
            60,
            82,
            111,
            121
           ]
          },
          {
           "abstract": "evidence",
           "freq": 8,
           "pubs": [
            48,
            62,
            83,
            123,
            145,
            148
           ]
          },
          {
           "abstract": "tan",
           "freq": 49,
           "pubs": [
            148
           ]
          },
          {
           "abstract": "challenge",
           "freq": 9,
           "pubs": [
            10,
            50,
            72,
            83,
            175
           ]
          },
          {
           "abstract": "flow",
           "freq": 21,
           "pubs": [
            11,
            28
           ]
          },
          {
           "abstract": "perceptual",
           "freq": 22,
           "pubs": [
            104,
            123,
            154
           ]
          },
          {
           "abstract": "image",
           "freq": 22,
           "pubs": [
            20,
            36,
            57,
            76,
            175
           ]
          },
          {
           "abstract": "analyses",
           "freq": 19,
           "pubs": [
            10,
            40,
            49,
            70,
            76,
            165
           ]
          },
          {
           "abstract": "infected",
           "freq": 7,
           "pubs": [
            10,
            22,
            47
           ]
          },
          {
           "abstract": "sites",
           "freq": 20,
           "pubs": [
            83
           ]
          },
          {
           "abstract": "domain",
           "freq": 23,
           "pubs": [
            14,
            28,
            44
           ]
          },
          {
           "abstract": "double",
           "freq": 8,
           "pubs": [
            14,
            92,
            172
           ]
          },
          {
           "abstract": "active",
           "freq": 11,
           "pubs": [
            9,
            83,
            91,
            148,
            172
           ]
          },
          {
           "abstract": "predict",
           "freq": 18,
           "pubs": [
            22,
            122,
            136
           ]
          },
          {
           "abstract": "charge tranfer",
           "freq": 17,
           "pubs": [
            41,
            48,
            96
           ]
          },
          {
           "abstract": "carlo",
           "freq": 18,
           "pubs": [
            14,
            30,
            58,
            170
           ]
          },
          {
           "abstract": "yields",
           "freq": 15,
           "pubs": [
            15,
            27,
            39,
            103,
            172
           ]
          },
          {
           "abstract": "mean",
           "freq": 13,
           "pubs": [
            14,
            15,
            28,
            57,
            84,
            112,
            171
           ]
          },
          {
           "abstract": "weakly",
           "freq": 19,
           "pubs": [
            15,
            16,
            26,
            39
           ]
          },
          {
           "abstract": "defective",
           "freq": 15,
           "pubs": [
            22
           ]
          },
          {
           "abstract": "calibration nuclear recoil",
           "freq": 14,
           "pubs": [
            172,
            173
           ]
          },
          {
           "abstract": "hybrid simulation",
           "freq": 28,
           "pubs": [
            28
           ]
          },
          {
           "abstract": "detection",
           "freq": 23,
           "pubs": [
            24,
            29,
            76,
            131,
            162,
            174
           ]
          },
          {
           "abstract": "close",
           "freq": 11,
           "pubs": [
            40,
            48
           ]
          },
          {
           "abstract": "including",
           "freq": 11,
           "pubs": [
            22,
            40,
            62,
            100,
            173,
            175
           ]
          },
          {
           "abstract": "study",
           "freq": 14,
           "pubs": [
            13,
            17,
            19,
            21,
            40,
            48,
            76,
            83,
            92,
            94,
            99,
            112,
            115,
            153,
            169,
            170
           ]
          },
          {
           "abstract": "predicted",
           "freq": 13,
           "pubs": [
            62,
            92,
            100
           ]
          },
          {
           "abstract": "imaging",
           "freq": 28,
           "pubs": [
            90,
            116,
            122,
            128
           ]
          },
          {
           "abstract": "strain",
           "freq": 41,
           "pubs": [
            33,
            74,
            82,
            90,
            111,
            121
           ]
          },
          {
           "abstract": "feeding",
           "freq": 12,
           "pubs": [
            5,
            84,
            91,
            93,
            166,
            171
           ]
          },
          {
           "abstract": "change",
           "freq": 11,
           "pubs": [
            45,
            148,
            169
           ]
          },
          {
           "abstract": "alcohol",
           "freq": 30,
           "pubs": [
            10
           ]
          },
          {
           "abstract": "analyze",
           "freq": 10,
           "pubs": [
            28,
            36,
            138
           ]
          },
          {
           "abstract": "mechanically",
           "freq": 115,
           "pubs": [
            106,
            114,
            129
           ]
          },
          {
           "abstract": "information",
           "freq": 10,
           "pubs": [
            22,
            76,
            90,
            175
           ]
          },
          {
           "abstract": "via",
           "freq": 104,
           "pubs": [
            3,
            45,
            109,
            134,
            135
           ]
          },
          {
           "abstract": "energy",
           "freq": 30,
           "pubs": [
            11,
            14,
            15,
            17,
            27,
            30,
            39,
            48,
            60,
            72,
            80,
            95,
            106,
            129,
            172,
            173
           ]
          },
          {
           "abstract": "principles",
           "freq": 20,
           "pubs": [
            13,
            22,
            102,
            114,
            115
           ]
          },
          {
           "abstract": "algae",
           "freq": 25,
           "pubs": [
            62
           ]
          },
          {
           "abstract": "monoenergetic",
           "freq": 16,
           "pubs": [
            27,
            173
           ]
          },
          {
           "abstract": "phenomena",
           "freq": 19,
           "pubs": [
            123,
            170
           ]
          },
          {
           "abstract": "biomechanics",
           "freq": 6,
           "pubs": [
            22,
            84,
            171
           ]
          },
          {
           "abstract": "cognition",
           "freq": 103,
           "pubs": [
            99,
            141,
            142
           ]
          },
          {
           "abstract": "process",
           "freq": 17,
           "pubs": [
            84,
            92,
            130,
            140,
            143,
            171
           ]
          },
          {
           "abstract": "reduction",
           "freq": 19,
           "pubs": [
            10,
            62,
            89,
            100,
            102,
            108
           ]
          },
          {
           "abstract": "complex",
           "freq": 11,
           "pubs": [
            36,
            56,
            76,
            92,
            96,
            170,
            175
           ]
          },
          {
           "abstract": "et",
           "freq": 16,
           "pubs": [
            28,
            175
           ]
          },
          {
           "abstract": "novel",
           "freq": 28,
           "pubs": [
            35,
            36,
            87,
            101,
            123
           ]
          },
          {
           "abstract": "force",
           "freq": 6,
           "pubs": [
            10,
            62,
            90,
            91,
            169
           ]
          },
          {
           "abstract": "value",
           "freq": 10,
           "pubs": [
            10,
            11,
            28,
            148
           ]
          },
          {
           "abstract": "neuronal",
           "freq": 54,
           "pubs": [
            21,
            163,
            175
           ]
          },
          {
           "abstract": "sparse",
           "freq": 120,
           "pubs": [
            2,
            109,
            151
           ]
          },
          {
           "abstract": "effective",
           "freq": 11,
           "pubs": [
            10,
            11,
            148
           ]
          },
          {
           "abstract": "focal seizure",
           "freq": 105,
           "pubs": [
            21,
            155,
            162,
            163
           ]
          },
          {
           "abstract": "relaxation",
           "freq": 10,
           "pubs": [
            22,
            28,
            80
           ]
          },
          {
           "abstract": "reduce",
           "freq": 11,
           "pubs": [
            10,
            28
           ]
          },
          {
           "abstract": "kev kev",
           "freq": 14,
           "pubs": [
            39,
            172
           ]
          },
          {
           "abstract": "particle",
           "freq": 22,
           "pubs": [
            15,
            16,
            17,
            22,
            26,
            28,
            29,
            39,
            80,
            170
           ]
          },
          {
           "abstract": "multiscale",
           "freq": 15,
           "pubs": [
            22
           ]
          },
          {
           "abstract": "shift",
           "freq": 12,
           "pubs": [
            92,
            123
           ]
          },
          {
           "abstract": "evolutionary",
           "freq": 16,
           "pubs": [
            36,
            40,
            80
           ]
          },
          {
           "abstract": "senitive",
           "freq": 40,
           "pubs": [
            6,
            11,
            29
           ]
          },
          {
           "abstract": "decision",
           "freq": 36,
           "pubs": [
            117,
            147,
            159
           ]
          },
          {
           "abstract": "contextual",
           "freq": 26,
           "pubs": [
            123
           ]
          },
          {
           "abstract": "echinoderm",
           "freq": 71,
           "pubs": [
            40,
            51
           ]
          },
          {
           "abstract": "oxide",
           "freq": 25,
           "pubs": [
            81,
            83
           ]
          },
          {
           "abstract": "flexible",
           "freq": 8,
           "pubs": [
            48,
            117,
            175
           ]
          },
          {
           "abstract": "linkage",
           "freq": 20,
           "pubs": [
            91
           ]
          },
          {
           "abstract": "generate",
           "freq": 8,
           "pubs": [
            10,
            48,
            166
           ]
          },
          {
           "abstract": "math",
           "freq": 35,
           "pubs": [
            172
           ]
          },
          {
           "abstract": "location",
           "freq": 8,
           "pubs": [
            15,
            84,
            171
           ]
          },
          {
           "abstract": "interface",
           "freq": 9,
           "pubs": [
            28,
            37,
            84,
            171
           ]
          },
          {
           "abstract": "processing",
           "freq": 21,
           "pubs": [
            76,
            123,
            172,
            175
           ]
          },
          {
           "abstract": "resolution",
           "freq": 30,
           "pubs": [
            27,
            66,
            113
           ]
          },
          {
           "abstract": "function",
           "freq": 22,
           "pubs": [
            14,
            28,
            51,
            62,
            77,
            90,
            91,
            93,
            127
           ]
          },
          {
           "abstract": "stage",
           "freq": 8,
           "pubs": [
            10,
            22,
            62,
            144,
            161
           ]
          },
          {
           "abstract": "mars",
           "freq": 17,
           "pubs": [
            42,
            43,
            83
           ]
          },
          {
           "abstract": "ion",
           "freq": 23,
           "pubs": [
            27,
            48,
            94
           ]
          },
          {
           "abstract": "measured",
           "freq": 16,
           "pubs": [
            27,
            92,
            172,
            173
           ]
          },
          {
           "abstract": "matter",
           "freq": 27,
           "pubs": [
            15,
            16,
            17,
            26,
            27,
            29,
            142,
            153,
            172,
            173
           ]
          },
          {
           "abstract": "recently",
           "freq": 9,
           "pubs": [
            90,
            170,
            175
           ]
          },
          {
           "abstract": "calibration nuclear",
           "freq": 14,
           "pubs": [
            172,
            173
           ]
          },
          {
           "abstract": "driven",
           "freq": 15,
           "pubs": [
            11,
            14,
            76,
            83,
            102
           ]
          },
          {
           "abstract": "facilitate",
           "freq": 13,
           "pubs": [
            80,
            83,
            117
           ]
          },
          {
           "abstract": "underground xenon lux",
           "freq": 10,
           "pubs": [
            27,
            172,
            174
           ]
          },
          {
           "abstract": "remain",
           "freq": 8,
           "pubs": [
            10,
            21,
            36,
            123
           ]
          },
          {
           "abstract": "surface",
           "freq": 38,
           "pubs": [
            14,
            72,
            74,
            79,
            83,
            94,
            100,
            164
           ]
          },
          {
           "abstract": "sea urchin",
           "freq": 37,
           "pubs": [
            40,
            54,
            64,
            67
           ]
          },
          {
           "abstract": "scattering",
           "freq": 17,
           "pubs": [
            16,
            26,
            98,
            172,
            173,
            174
           ]
          },
          {
           "abstract": "strike",
           "freq": 32,
           "pubs": [
            91,
            166
           ]
          },
          {
           "abstract": "sea star",
           "freq": 31,
           "pubs": [
            40,
            63,
            64
           ]
          },
          {
           "abstract": "matter experiment",
           "freq": 23,
           "pubs": [
            16,
            26,
            173
           ]
          },
          {
           "abstract": "comparison",
           "freq": 15,
           "pubs": [
            24,
            27,
            53,
            62
           ]
          },
          {
           "abstract": "capture",
           "freq": 8,
           "pubs": [
            39,
            169,
            175
           ]
          },
          {
           "abstract": "based",
           "freq": 17,
           "pubs": [
            15,
            20,
            22,
            28,
            84,
            92,
            99,
            145,
            157,
            162,
            171,
            173,
            175
           ]
          },
          {
           "abstract": "crassostreae",
           "freq": 39,
           "pubs": [
            50
           ]
          },
          {
           "abstract": "artificial",
           "freq": 28,
           "pubs": [
            28
           ]
          },
          {
           "abstract": "contant",
           "freq": 9,
           "pubs": [
            14,
            48,
            50
           ]
          },
          {
           "abstract": "cortex",
           "freq": 36,
           "pubs": [
            123,
            126,
            133,
            134,
            146,
            152
           ]
          },
          {
           "abstract": "appear",
           "freq": 7,
           "pubs": [
            62,
            76,
            170
           ]
          },
          {
           "abstract": "deep",
           "freq": 53,
           "pubs": [
            49,
            120,
            175
           ]
          },
          {
           "abstract": "oxygen",
           "freq": 34,
           "pubs": [
            83
           ]
          },
          {
           "abstract": "fold",
           "freq": 13,
           "pubs": [
            84,
            171
           ]
          },
          {
           "abstract": "preliminary",
           "freq": 13,
           "pubs": [
            10,
            116,
            153
           ]
          },
          {
           "abstract": "online",
           "freq": 6,
           "pubs": [
            84,
            169,
            171
           ]
          },
          {
           "abstract": "electrocatalyst",
           "freq": 85,
           "pubs": [
            89,
            100,
            108
           ]
          },
          {
           "abstract": "multiple",
           "freq": 17,
           "pubs": [
            1,
            40,
            90,
            91,
            117,
            128,
            173,
            175
           ]
          },
          {
           "abstract": "equation",
           "freq": 13,
           "pubs": [
            17,
            28,
            170
           ]
          },
          {
           "abstract": "light",
           "freq": 8,
           "pubs": [
            15,
            27,
            62,
            84,
            171,
            172
           ]
          },
          {
           "abstract": "observed",
           "freq": 9,
           "pubs": [
            29,
            39,
            91,
            169
           ]
          },
          {
           "abstract": "learning",
           "freq": 47,
           "pubs": [
            31,
            32,
            36,
            78,
            103,
            109,
            117,
            118,
            120,
            121,
            122,
            131,
            136,
            147,
            148,
            160,
            175
           ]
          },
          {
           "abstract": "stimuli",
           "freq": 12,
           "pubs": [
            76,
            123
           ]
          },
          {
           "abstract": "reinforcement",
           "freq": 27,
           "pubs": [
            117,
            136,
            147,
            148
           ]
          },
          {
           "abstract": "decay",
           "freq": 10,
           "pubs": [
            15,
            17,
            39,
            48
           ]
          },
          {
           "abstract": "activity",
           "freq": 21,
           "pubs": [
            25,
            33,
            61,
            68,
            76,
            83,
            162
           ]
          },
          {
           "abstract": "degree",
           "freq": 10,
           "pubs": [
            84,
            91,
            92,
            171
           ]
          },
          {
           "abstract": "illusion",
           "freq": 26,
           "pubs": [
            123
           ]
          },
          {
           "abstract": "reaction",
           "freq": 17,
           "pubs": [
            33,
            76,
            79,
            81,
            83,
            169
           ]
          },
          {
           "abstract": "healthy",
           "freq": 11,
           "pubs": [
            22,
            142,
            169
           ]
          },
          {
           "abstract": "circuit",
           "freq": 12,
           "pubs": [
            123,
            140,
            175
           ]
          },
          {
           "abstract": "tranfer",
           "freq": 27,
           "pubs": [
            41,
            48,
            96,
            136
           ]
          },
          {
           "abstract": "neural",
           "freq": 30,
           "pubs": [
            25,
            80,
            112,
            117,
            120,
            121,
            123,
            136,
            140,
            143,
            148,
            150,
            158,
            175
           ]
          },
          {
           "abstract": "pathway",
           "freq": 50,
           "pubs": [
            2,
            41,
            80
           ]
          },
          {
           "abstract": "electron",
           "freq": 15,
           "pubs": [
            15,
            27,
            39,
            48
           ]
          },
          {
           "abstract": "organism",
           "freq": 14,
           "pubs": [
            40,
            50,
            86,
            87
           ]
          },
          {
           "abstract": "adaptation",
           "freq": 21,
           "pubs": [
            56,
            70,
            90
           ]
          },
          {
           "abstract": "matter particle",
           "freq": 35,
           "pubs": [
            17,
            29
           ]
          },
          {
           "abstract": "eeg",
           "freq": 32,
           "pubs": [
            76,
            147,
            160
           ]
          },
          {
           "abstract": "vision",
           "freq": 23,
           "pubs": [
            36
           ]
          },
          {
           "abstract": "intermediate",
           "freq": 23,
           "pubs": [
            92
           ]
          },
          {
           "abstract": "suggesting",
           "freq": 9,
           "pubs": [
            50,
            76,
            83,
            170
           ]
          },
          {
           "abstract": "resistant",
           "freq": 19,
           "pubs": [
            50
           ]
          },
          {
           "abstract": "indicating",
           "freq": 6,
           "pubs": [
            10,
            169,
            175
           ]
          },
          {
           "abstract": "chamber",
           "freq": 10,
           "pubs": [
            172,
            173,
            174
           ]
          },
          {
           "abstract": "vivo",
           "freq": 11,
           "pubs": [
            90,
            91,
            92,
            169
           ]
          },
          {
           "abstract": "using",
           "freq": 13,
           "pubs": [
            13,
            14,
            15,
            22,
            39,
            40,
            55,
            57,
            76,
            91,
            98,
            101,
            167,
            169,
            172,
            173
           ]
          },
          {
           "abstract": "ray",
           "freq": 9,
           "pubs": [
            39,
            84,
            92,
            169,
            171
           ]
          },
          {
           "abstract": "denity functional",
           "freq": 12,
           "pubs": [
            48,
            80,
            83,
            94,
            100
           ]
          },
          {
           "abstract": "ms",
           "freq": 29,
           "pubs": [
            76
           ]
          },
          {
           "abstract": "single neuron",
           "freq": 90,
           "pubs": [
            133,
            140,
            152
           ]
          },
          {
           "abstract": "form",
           "freq": 17,
           "pubs": [
            90,
            91,
            170
           ]
          },
          {
           "abstract": "peak",
           "freq": 17,
           "pubs": [
            11,
            27,
            173
           ]
          },
          {
           "abstract": "reducible",
           "freq": 24,
           "pubs": [
            83,
            102
           ]
          },
          {
           "abstract": "math processing",
           "freq": 35,
           "pubs": [
            172
           ]
          },
          {
           "abstract": "electric",
           "freq": 13,
           "pubs": [
            39,
            94,
            172
           ]
          },
          {
           "abstract": "wave",
           "freq": 96,
           "pubs": [
            19,
            61,
            126
           ]
          },
          {
           "abstract": "real",
           "freq": 11,
           "pubs": [
            84,
            96,
            120,
            170,
            171
           ]
          },
          {
           "abstract": "experimental",
           "freq": 11,
           "pubs": [
            13,
            22,
            46,
            48,
            83
           ]
          },
          {
           "abstract": "increase",
           "freq": 12,
           "pubs": [
            22,
            72,
            76,
            84,
            105,
            117,
            171
           ]
          },
          {
           "abstract": "extra classical",
           "freq": 26,
           "pubs": [
            123
           ]
          },
          {
           "abstract": "ionization",
           "freq": 8,
           "pubs": [
            39,
            48,
            172
           ]
          },
          {
           "abstract": "reduce alcohol",
           "freq": 15,
           "pubs": [
            10
           ]
          },
          {
           "abstract": "underground xenon",
           "freq": 15,
           "pubs": [
            16,
            26,
            27,
            172,
            174
           ]
          },
          {
           "abstract": "limit",
           "freq": 20,
           "pubs": [
            16,
            26,
            80,
            90,
            174
           ]
          },
          {
           "abstract": "barriers",
           "freq": 14,
           "pubs": [
            11,
            62
           ]
          },
          {
           "abstract": "measure",
           "freq": 22,
           "pubs": [
            15,
            90
           ]
          },
          {
           "abstract": "health",
           "freq": 15,
           "pubs": [
            10
           ]
          },
          {
           "abstract": "charge",
           "freq": 26,
           "pubs": [
            15,
            27,
            41,
            48,
            95,
            96,
            172
           ]
          },
          {
           "abstract": "parasitic",
           "freq": 17,
           "pubs": [
            38,
            62
           ]
          },
          {
           "abstract": "included",
           "freq": 8,
           "pubs": [
            10,
            50
           ]
          },
          {
           "abstract": "nuclear recoil",
           "freq": 32,
           "pubs": [
            27,
            98,
            172,
            173
           ]
          },
          {
           "abstract": "algorithm",
           "freq": 16,
           "pubs": [
            36,
            80,
            131,
            170
           ]
          },
          {
           "abstract": "sampling",
           "freq": 18,
           "pubs": [
            14,
            40,
            58
           ]
          },
          {
           "abstract": "application",
           "freq": 30,
           "pubs": [
            1,
            128,
            169
           ]
          },
          {
           "abstract": "host",
           "freq": 25,
           "pubs": [
            62
           ]
          },
          {
           "abstract": "biology",
           "freq": 32,
           "pubs": [
            40,
            87,
            168
           ]
          },
          {
           "abstract": "p",
           "freq": 10,
           "pubs": [
            48,
            76
           ]
          },
          {
           "abstract": "extended",
           "freq": 18,
           "pubs": [
            48,
            75
           ]
          },
          {
           "abstract": "co reduction",
           "freq": 85,
           "pubs": [
            89,
            100,
            108
           ]
          },
          {
           "abstract": "timing",
           "freq": 32,
           "pubs": [
            104,
            154,
            175
           ]
          },
          {
           "abstract": "shear",
           "freq": 9,
           "pubs": [
            22,
            28
           ]
          },
          {
           "abstract": "deoxygenation",
           "freq": 20,
           "pubs": [
            83
           ]
          },
          {
           "abstract": "component",
           "freq": 8,
           "pubs": [
            22,
            76,
            85
           ]
          },
          {
           "abstract": "effect",
           "freq": 22,
           "pubs": [
            4,
            10,
            61,
            74,
            116,
            123,
            164
           ]
          },
          {
           "abstract": "return investment",
           "freq": 15,
           "pubs": [
            10
           ]
          },
          {
           "abstract": "handle",
           "freq": 12,
           "pubs": [
            14,
            92
           ]
          },
          {
           "abstract": "quality",
           "freq": 9,
           "pubs": [
            84,
            86,
            171
           ]
          },
          {
           "abstract": "bar",
           "freq": 48,
           "pubs": [
            91
           ]
          },
          {
           "abstract": "beyond",
           "freq": 7,
           "pubs": [
            28,
            91,
            117
           ]
          },
          {
           "abstract": "gene",
           "freq": 28,
           "pubs": [
            35,
            50,
            55,
            62,
            64
           ]
          },
          {
           "abstract": "software",
           "freq": 11,
           "pubs": [
            84,
            91,
            171
           ]
          },
          {
           "abstract": "contrained",
           "freq": 9,
           "pubs": [
            17,
            92,
            123
           ]
          },
          {
           "abstract": "delocalization",
           "freq": 12,
           "pubs": [
            48,
            170
           ]
          },
          {
           "abstract": "computational model",
           "freq": 31,
           "pubs": [
            104,
            141,
            148,
            154
           ]
          },
          {
           "abstract": "treatment",
           "freq": 20,
           "pubs": [
            10,
            14,
            69,
            138,
            145
           ]
          },
          {
           "abstract": "role",
           "freq": 11,
           "pubs": [
            83,
            175
           ]
          },
          {
           "abstract": "mechanism",
           "freq": 20,
           "pubs": [
            40,
            50,
            62,
            83,
            91,
            109,
            148,
            175
           ]
          },
          {
           "abstract": "kinematics",
           "freq": 13,
           "pubs": [
            91,
            169
           ]
          },
          {
           "abstract": "investigate",
           "freq": 8,
           "pubs": [
            11,
            15,
            22,
            28
           ]
          },
          {
           "abstract": "hydrogen",
           "freq": 117,
           "pubs": [
            33,
            68,
            74,
            81
           ]
          },
          {
           "abstract": "human",
           "freq": 37,
           "pubs": [
            7,
            21,
            76,
            90,
            110,
            117,
            125,
            147,
            155,
            160,
            162,
            163
           ]
          },
          {
           "abstract": "leading",
           "freq": 7,
           "pubs": [
            14,
            22,
            173
           ]
          },
          {
           "abstract": "white",
           "freq": 12,
           "pubs": [
            84,
            93,
            142,
            171
           ]
          },
          {
           "abstract": "develop",
           "freq": 7,
           "pubs": [
            22,
            90,
            170
           ]
          },
          {
           "abstract": "neutron",
           "freq": 36,
           "pubs": [
            98,
            172,
            173
           ]
          },
          {
           "abstract": "neural network",
           "freq": 20,
           "pubs": [
            80,
            120,
            121,
            175
           ]
          },
          {
           "abstract": "animal",
           "freq": 7,
           "pubs": [
            62,
            84,
            90,
            171
           ]
          },
          {
           "abstract": "bar linkage",
           "freq": 20,
           "pubs": [
            91
           ]
          },
          {
           "abstract": "average",
           "freq": 10,
           "pubs": [
            15,
            39,
            172
           ]
          },
          {
           "abstract": "object",
           "freq": 9,
           "pubs": [
            76,
            84,
            103,
            171,
            175
           ]
          },
          {
           "abstract": "bone",
           "freq": 9,
           "pubs": [
            84,
            90,
            169,
            171
           ]
          },
          {
           "abstract": "machine",
           "freq": 37,
           "pubs": [
            31,
            32,
            36,
            78,
            131
           ]
          },
          {
           "abstract": "cost",
           "freq": 45,
           "pubs": [
            10
           ]
          },
          {
           "abstract": "behavior",
           "freq": 14,
           "pubs": [
            22,
            117,
            146,
            148,
            170
           ]
          },
          {
           "abstract": "nuclear",
           "freq": 23,
           "pubs": [
            27,
            62,
            98,
            172,
            173
           ]
          },
          {
           "abstract": "seizure",
           "freq": 104,
           "pubs": [
            21,
            125,
            135,
            155,
            156,
            162,
            163
           ]
          },
          {
           "abstract": "essential",
           "freq": 10,
           "pubs": [
            10,
            63,
            117
           ]
          },
          {
           "abstract": "immune",
           "freq": 18,
           "pubs": [
            35,
            50
           ]
          },
          {
           "abstract": "cbt",
           "freq": 20,
           "pubs": [
            10
           ]
          },
          {
           "abstract": "stable",
           "freq": 17,
           "pubs": [
            6,
            167,
            169
           ]
          },
          {
           "abstract": "variable",
           "freq": 10,
           "pubs": [
            3,
            28,
            36
           ]
          },
          {
           "abstract": "calibration",
           "freq": 17,
           "pubs": [
            27,
            39,
            84,
            98,
            171,
            172,
            173
           ]
          },
          {
           "abstract": "individual",
           "freq": 7,
           "pubs": [
            36,
            76,
            91
           ]
          },
          {
           "abstract": "conider",
           "freq": 8,
           "pubs": [
            10,
            14,
            17,
            148
           ]
          },
          {
           "abstract": "accuracy",
           "freq": 16,
           "pubs": [
            76,
            84,
            171
           ]
          },
          {
           "abstract": "processes",
           "freq": 18,
           "pubs": [
            50,
            159
           ]
          },
          {
           "abstract": "math processing error",
           "freq": 35,
           "pubs": [
            172
           ]
          },
          {
           "abstract": "search",
           "freq": 14,
           "pubs": [
            15,
            27,
            39,
            80,
            101,
            173,
            174
           ]
          },
          {
           "abstract": "monte carlo",
           "freq": 18,
           "pubs": [
            14,
            30,
            58,
            170
           ]
          },
          {
           "abstract": "categorization",
           "freq": 24,
           "pubs": [
            25,
            76,
            104,
            154
           ]
          },
          {
           "abstract": "dual phase",
           "freq": 13,
           "pubs": [
            73,
            172,
            173,
            174
           ]
          },
          {
           "abstract": "contribution",
           "freq": 11,
           "pubs": [
            36,
            123,
            152
           ]
          },
          {
           "abstract": "core",
           "freq": 26,
           "pubs": [
            48
           ]
          },
          {
           "abstract": "dynamic",
           "freq": 27,
           "pubs": [
            11,
            14,
            22,
            28,
            76,
            96,
            107,
            117,
            130,
            134,
            143,
            147,
            152,
            155,
            156,
            175
           ]
          },
          {
           "abstract": "age",
           "freq": 44,
           "pubs": [
            17,
            47,
            116
           ]
          },
          {
           "abstract": "systematic",
           "freq": 13,
           "pubs": [
            24,
            36,
            173
           ]
          },
          {
           "abstract": "natural scene",
           "freq": 32,
           "pubs": [
            76,
            104,
            154
           ]
          },
          {
           "abstract": "obligate",
           "freq": 19,
           "pubs": [
            62
           ]
          },
          {
           "abstract": "minimum",
           "freq": 11,
           "pubs": [
            14,
            80,
            173,
            174
           ]
          },
          {
           "abstract": "properties",
           "freq": 18,
           "pubs": [
            46,
            76,
            103,
            114,
            175
           ]
          },
          {
           "abstract": "economic",
           "freq": 25,
           "pubs": [
            10
           ]
          },
          {
           "abstract": "volume",
           "freq": 10,
           "pubs": [
            172,
            173,
            174
           ]
          },
          {
           "abstract": "deep learning",
           "freq": 24,
           "pubs": [
            120,
            175
           ]
          },
          {
           "abstract": "specific",
           "freq": 14,
           "pubs": [
            22,
            23,
            70
           ]
          },
          {
           "abstract": "cognitive behavioral",
           "freq": 15,
           "pubs": [
            10
           ]
          },
          {
           "abstract": "biomechanical",
           "freq": 8,
           "pubs": [
            22,
            91
           ]
          },
          {
           "abstract": "level",
           "freq": 9,
           "pubs": [
            22,
            36,
            48,
            50,
            62,
            76,
            91,
            146,
            148
           ]
          },
          {
           "abstract": "paper",
           "freq": 6,
           "pubs": [
            10,
            84,
            171
           ]
          },
          {
           "abstract": "deep network",
           "freq": 28,
           "pubs": [
            175
           ]
          },
          {
           "abstract": "low",
           "freq": 14,
           "pubs": [
            10,
            14,
            27,
            34,
            39,
            76,
            80,
            83,
            134,
            143,
            173,
            174
           ]
          },
          {
           "abstract": "hiv",
           "freq": 40,
           "pubs": [
            10,
            47,
            69
           ]
          },
          {
           "abstract": "event",
           "freq": 21,
           "pubs": [
            15,
            39,
            76,
            172
           ]
          },
          {
           "abstract": "tracking",
           "freq": 22,
           "pubs": [
            84,
            159,
            169,
            171
           ]
          },
          {
           "abstract": "ablation",
           "freq": 115,
           "pubs": [
            19,
            138,
            145
           ]
          },
          {
           "abstract": "helicosporidium genome",
           "freq": 19,
           "pubs": [
            62
           ]
          },
          {
           "abstract": "spiking",
           "freq": 95,
           "pubs": [
            130,
            133,
            150,
            152
           ]
          },
          {
           "abstract": "excellent",
           "freq": 7,
           "pubs": [
            40,
            48,
            84,
            171
           ]
          },
          {
           "abstract": "opercular mechanism",
           "freq": 34,
           "pubs": [
            91
           ]
          },
          {
           "abstract": "stochastic",
           "freq": 35,
           "pubs": [
            130,
            148
           ]
          },
          {
           "abstract": "shape",
           "freq": 17,
           "pubs": [
            14,
            20,
            22,
            36,
            80,
            114
           ]
          },
          {
           "abstract": "time projection",
           "freq": 10,
           "pubs": [
            172,
            173,
            174
           ]
          },
          {
           "abstract": "structural",
           "freq": 13,
           "pubs": [
            14,
            22,
            41,
            45,
            48,
            80,
            90,
            96,
            116
           ]
          },
          {
           "abstract": "dependence",
           "freq": 12,
           "pubs": [
            27,
            62
           ]
          },
          {
           "abstract": "matrix",
           "freq": 12,
           "pubs": [
            50,
            151,
            170
           ]
          },
          {
           "abstract": "leaves",
           "freq": 23,
           "pubs": [
            36
           ]
          },
          {
           "abstract": "population",
           "freq": 19,
           "pubs": [
            6,
            117,
            148
           ]
          },
          {
           "abstract": "hypothesis",
           "freq": 13,
           "pubs": [
            92,
            150,
            174
           ]
          },
          {
           "abstract": "interaction",
           "freq": 13,
           "pubs": [
            22,
            48,
            95,
            117,
            123,
            170,
            173
           ]
          },
          {
           "abstract": "resulting",
           "freq": 6,
           "pubs": [
            22,
            36,
            76
           ]
          },
          {
           "abstract": "requires",
           "freq": 12,
           "pubs": [
            84,
            148,
            171
           ]
          },
          {
           "abstract": "lifetime",
           "freq": 43,
           "pubs": [
            17
           ]
          },
          {
           "abstract": "low energy",
           "freq": 14,
           "pubs": [
            27,
            39,
            80,
            173
           ]
          },
          {
           "abstract": "metal carbide",
           "freq": 115,
           "pubs": [
            60,
            68,
            81
           ]
          },
          {
           "abstract": "lead",
           "freq": 18,
           "pubs": [
            119,
            126,
            172,
            174
           ]
          },
          {
           "abstract": "traditional",
           "freq": 10,
           "pubs": [
            76,
            83,
            165
           ]
          },
          {
           "abstract": "ratio",
           "freq": 9,
           "pubs": [
            10,
            39,
            91
           ]
          },
          {
           "abstract": "space",
           "freq": 15,
           "pubs": [
            14,
            28,
            134,
            158
           ]
          },
          {
           "abstract": "expectation",
           "freq": 23,
           "pubs": [
            15,
            117,
            136
           ]
          },
          {
           "abstract": "binding",
           "freq": 8,
           "pubs": [
            39,
            48,
            175
           ]
          },
          {
           "abstract": "scaling",
           "freq": 166,
           "pubs": [
            60,
            82,
            111
           ]
          },
          {
           "abstract": "processing error",
           "freq": 35,
           "pubs": [
            172
           ]
          },
          {
           "abstract": "combined",
           "freq": 37,
           "pubs": [
            13,
            15,
            46,
            96
           ]
          },
          {
           "abstract": "denity",
           "freq": 12,
           "pubs": [
            48,
            80,
            83,
            94,
            100,
            170
           ]
          },
          {
           "abstract": "rl",
           "freq": 32,
           "pubs": [
            117
           ]
          },
          {
           "abstract": "trial",
           "freq": 17,
           "pubs": [
            10,
            117
           ]
          },
          {
           "abstract": "due",
           "freq": 9,
           "pubs": [
            14,
            28,
            40,
            50,
            83,
            127,
            175
           ]
          },
          {
           "abstract": "science",
           "freq": 25,
           "pubs": [
            27,
            72,
            87
           ]
          },
          {
           "abstract": "movement",
           "freq": 22,
           "pubs": [
            90,
            92,
            126,
            152
           ]
          },
          {
           "abstract": "hamiltonian",
           "freq": 33,
           "pubs": [
            170
           ]
          },
          {
           "abstract": "dual",
           "freq": 16,
           "pubs": [
            73,
            93,
            172,
            173,
            174
           ]
          },
          {
           "abstract": "defective rbc",
           "freq": 15,
           "pubs": [
            22
           ]
          },
          {
           "abstract": "symmetry",
           "freq": 27,
           "pubs": [
            14
           ]
          },
          {
           "abstract": "previous",
           "freq": 8,
           "pubs": [
            27,
            36,
            76,
            91
           ]
          },
          {
           "abstract": "nine user",
           "freq": 13,
           "pubs": [
            84,
            171
           ]
          },
          {
           "abstract": "field",
           "freq": 11,
           "pubs": [
            22,
            28,
            39,
            94,
            123,
            135,
            172
           ]
          },
          {
           "abstract": "ct",
           "freq": 19,
           "pubs": [
            131,
            169
           ]
          },
          {
           "abstract": "sea",
           "freq": 88,
           "pubs": [
            12,
            40,
            54,
            63,
            64,
            67
           ]
          },
          {
           "abstract": "dark matter",
           "freq": 25,
           "pubs": [
            15,
            16,
            17,
            26,
            27,
            29,
            172,
            173
           ]
          },
          {
           "abstract": "kenya",
           "freq": 15,
           "pubs": [
            10
           ]
          },
          {
           "abstract": "projection chamber",
           "freq": 10,
           "pubs": [
            172,
            173,
            174
           ]
          },
          {
           "abstract": "integration",
           "freq": 7,
           "pubs": [
            14,
            84,
            171
           ]
          },
          {
           "abstract": "cortical",
           "freq": 32,
           "pubs": [
            51,
            162,
            175
           ]
          },
          {
           "abstract": "provide",
           "freq": 11,
           "pubs": [
            15,
            22,
            48,
            50,
            83,
            95,
            117,
            123,
            173
           ]
          },
          {
           "abstract": "time projection chamber",
           "freq": 10,
           "pubs": [
            172,
            173,
            174
           ]
          },
          {
           "abstract": "acid",
           "freq": 19,
           "pubs": [
            18,
            83
           ]
          },
          {
           "abstract": "produce",
           "freq": 7,
           "pubs": [
            39,
            84,
            171
           ]
          },
          {
           "abstract": "signature",
           "freq": 62,
           "pubs": [
            16,
            26,
            136
           ]
          },
          {
           "abstract": "analysis",
           "freq": 12,
           "pubs": [
            1,
            9,
            10,
            27,
            28,
            39,
            76,
            101,
            117,
            128,
            148,
            169,
            174
           ]
          },
          {
           "abstract": "system",
           "freq": 16,
           "pubs": [
            10,
            11,
            14,
            36,
            40,
            42,
            48,
            76,
            83,
            84,
            90,
            91,
            117,
            148,
            171
           ]
          },
          {
           "abstract": "suggest",
           "freq": 12,
           "pubs": [
            83,
            91,
            148
           ]
          },
          {
           "abstract": "skeletal",
           "freq": 31,
           "pubs": [
            90,
            169
           ]
          },
          {
           "abstract": "disease",
           "freq": 25,
           "pubs": [
            50,
            144
           ]
          },
          {
           "abstract": "derived",
           "freq": 6,
           "pubs": [
            10,
            83,
            169
           ]
          },
          {
           "abstract": "oyster",
           "freq": 90,
           "pubs": [
            35,
            50
           ]
          },
          {
           "abstract": "minima",
           "freq": 27,
           "pubs": [
            14
           ]
          },
          {
           "abstract": "liquid",
           "freq": 33,
           "pubs": [
            15,
            27,
            37,
            39,
            98,
            172
           ]
          },
          {
           "abstract": "exhibit",
           "freq": 9,
           "pubs": [
            14,
            27,
            36
           ]
          },
          {
           "abstract": "benefit",
           "freq": 20,
           "pubs": [
            10,
            169
           ]
          },
          {
           "abstract": "weakly interacting",
           "freq": 19,
           "pubs": [
            15,
            16,
            26,
            39
           ]
          },
          {
           "abstract": "visual",
           "freq": 19,
           "pubs": [
            24,
            25,
            36,
            61,
            76,
            123,
            124
           ]
          },
          {
           "abstract": "studying",
           "freq": 11,
           "pubs": [
            40,
            80,
            170
           ]
          },
          {
           "abstract": "quantify",
           "freq": 6,
           "pubs": [
            22,
            28,
            92
           ]
          },
          {
           "abstract": "accurate",
           "freq": 11,
           "pubs": [
            14,
            169
           ]
          },
          {
           "abstract": "rapid",
           "freq": 13,
           "pubs": [
            25,
            48,
            76
           ]
          },
          {
           "abstract": "body",
           "freq": 16,
           "pubs": [
            17,
            84,
            92,
            171
           ]
          },
          {
           "abstract": "error",
           "freq": 16,
           "pubs": [
            4,
            28,
            84,
            91,
            148,
            171,
            172
           ]
          },
          {
           "abstract": "produced",
           "freq": 11,
           "pubs": [
            69,
            91,
            172,
            173
           ]
          },
          {
           "abstract": "spike",
           "freq": 25,
           "pubs": [
            140,
            175
           ]
          },
          {
           "abstract": "source",
           "freq": 10,
           "pubs": [
            84,
            91,
            171,
            172,
            173
           ]
          },
          {
           "abstract": "trait",
           "freq": 142,
           "pubs": [
            56,
            113
           ]
          },
          {
           "abstract": "intervention",
           "freq": 30,
           "pubs": [
            10
           ]
          },
          {
           "abstract": "hybrid",
           "freq": 40,
           "pubs": [
            28,
            78
           ]
          },
          {
           "abstract": "yielded",
           "freq": 10,
           "pubs": [
            48,
            169
           ]
          },
          {
           "abstract": "offers",
           "freq": 15,
           "pubs": [
            11,
            36,
            87
           ]
          },
          {
           "abstract": "aspects",
           "freq": 14,
           "pubs": [
            40,
            175
           ]
          },
          {
           "abstract": "rib",
           "freq": 78,
           "pubs": [
            92
           ]
          },
          {
           "abstract": "families",
           "freq": 15,
           "pubs": [
            35,
            36,
            50,
            62
           ]
          },
          {
           "abstract": "pressure",
           "freq": 19,
           "pubs": [
            11,
            83,
            102
           ]
          },
          {
           "abstract": "region",
           "freq": 11,
           "pubs": [
            28,
            123
           ]
          },
          {
           "abstract": "differential",
           "freq": 16,
           "pubs": [
            50,
            137,
            170
           ]
          },
          {
           "abstract": "xenon lux",
           "freq": 10,
           "pubs": [
            27,
            172,
            174
           ]
          },
          {
           "abstract": "environment",
           "freq": 21,
           "pubs": [
            38,
            90,
            132,
            148
           ]
          },
          {
           "abstract": "dynamically",
           "freq": 27,
           "pubs": [
            129,
            148
           ]
          },
          {
           "abstract": "dft",
           "freq": 10,
           "pubs": [
            48,
            83
           ]
          },
          {
           "abstract": "real time",
           "freq": 12,
           "pubs": [
            84,
            96,
            120,
            171
           ]
          },
          {
           "abstract": "signal",
           "freq": 24,
           "pubs": [
            167,
            172,
            174
           ]
          },
          {
           "abstract": "performed",
           "freq": 15,
           "pubs": [
            28,
            76,
            172
           ]
          },
          {
           "abstract": "genome",
           "freq": 47,
           "pubs": [
            58,
            62,
            70,
            87
           ]
          },
          {
           "abstract": "cascade",
           "freq": 30,
           "pubs": [
            39
           ]
          },
          {
           "abstract": "link",
           "freq": 27,
           "pubs": [
            91
           ]
          },
          {
           "abstract": "extra",
           "freq": 15,
           "pubs": [
            123,
            169
           ]
          },
          {
           "abstract": "outcome",
           "freq": 15,
           "pubs": [
            10,
            65,
            119,
            148
           ]
          },
          {
           "abstract": "grfv",
           "freq": 27,
           "pubs": [
            169
           ]
          },
          {
           "abstract": "mm",
           "freq": 20,
           "pubs": [
            78,
            84,
            169,
            171
           ]
          },
          {
           "abstract": "abstract",
           "freq": 15,
           "pubs": [
            38,
            56,
            84,
            85,
            91,
            92,
            105
           ]
          },
          {
           "abstract": "directly",
           "freq": 7,
           "pubs": [
            28,
            83,
            90
           ]
          },
          {
           "abstract": "venation",
           "freq": 23,
           "pubs": [
            36
           ]
          },
          {
           "abstract": "senitivity",
           "freq": 13,
           "pubs": [
            10,
            173
           ]
          },
          {
           "abstract": "patient",
           "freq": 7,
           "pubs": [
            10,
            22,
            23
           ]
          },
          {
           "abstract": "equilibrium",
           "freq": 20,
           "pubs": [
            11,
            48
           ]
          },
          {
           "abstract": "er",
           "freq": 44,
           "pubs": [
            15
           ]
          },
          {
           "abstract": "developmental",
           "freq": 29,
           "pubs": [
            40
           ]
          },
          {
           "abstract": "return",
           "freq": 15,
           "pubs": [
            10
           ]
          },
          {
           "abstract": "xenon",
           "freq": 41,
           "pubs": [
            15,
            16,
            26,
            27,
            39,
            172,
            174
           ]
          },
          {
           "abstract": "massive",
           "freq": 18,
           "pubs": [
            15,
            16,
            17,
            26,
            39
           ]
          },
          {
           "abstract": "inight",
           "freq": 11,
           "pubs": [
            22,
            50,
            80,
            87
           ]
          },
          {
           "abstract": "projection",
           "freq": 10,
           "pubs": [
            172,
            173,
            174
           ]
          },
          {
           "abstract": "lux",
           "freq": 29,
           "pubs": [
            15,
            27,
            39,
            172,
            174
           ]
          },
          {
           "abstract": "electronic",
           "freq": 32,
           "pubs": [
            27,
            39
           ]
          },
          {
           "abstract": "xmalab",
           "freq": 54,
           "pubs": [
            84,
            171
           ]
          },
          {
           "abstract": "artificial boundary",
           "freq": 28,
           "pubs": [
            28
           ]
          },
          {
           "abstract": "ev",
           "freq": 12,
           "pubs": [
            39,
            48
           ]
          },
          {
           "abstract": "functional",
           "freq": 13,
           "pubs": [
            48,
            50,
            62,
            80,
            83,
            90,
            94,
            95,
            100,
            128,
            175
           ]
          },
          {
           "abstract": "numerous",
           "freq": 7,
           "pubs": [
            14,
            36,
            83,
            91
           ]
          },
          {
           "abstract": "fractional",
           "freq": 88,
           "pubs": [
            170
           ]
          },
          {
           "abstract": "ribcage",
           "freq": 23,
           "pubs": [
            92
           ]
          },
          {
           "abstract": "dpd",
           "freq": 15,
           "pubs": [
            22,
            28
           ]
          },
          {
           "abstract": "fast",
           "freq": 21,
           "pubs": [
            25,
            48,
            57,
            151
           ]
          },
          {
           "abstract": "diffusion",
           "freq": 15,
           "pubs": [
            11,
            57,
            83,
            153,
            170
           ]
          },
          {
           "abstract": "loss",
           "freq": 10,
           "pubs": [
            22,
            62,
            112
           ]
          },
          {
           "abstract": "freedom",
           "freq": 8,
           "pubs": [
            84,
            91,
            92,
            171
           ]
          },
          {
           "abstract": "rydberg",
           "freq": 36,
           "pubs": [
            48,
            96
           ]
          },
          {
           "abstract": "expression",
           "freq": 12,
           "pubs": [
            50,
            62,
            105
           ]
          },
          {
           "abstract": "interpretation",
           "freq": 10,
           "pubs": [
            27,
            36,
            174
           ]
          },
          {
           "abstract": "marker based",
           "freq": 20,
           "pubs": [
            84,
            171
           ]
          },
          {
           "abstract": "time",
           "freq": 14,
           "pubs": [
            1,
            10,
            11,
            14,
            36,
            48,
            76,
            84,
            96,
            120,
            128,
            170,
            171,
            172,
            173,
            174
           ]
          },
          {
           "abstract": "calculation",
           "freq": 23,
           "pubs": [
            13,
            30,
            39,
            48,
            78,
            83,
            96,
            107,
            114,
            129
           ]
          },
          {
           "abstract": "xrayproject",
           "freq": 27,
           "pubs": [
            84,
            171
           ]
          },
          {
           "abstract": "fluctuation",
           "freq": 30,
           "pubs": [
            15,
            27,
            28,
            39
           ]
          },
          {
           "abstract": "decoding",
           "freq": 35,
           "pubs": [
            76,
            120,
            134,
            158
           ]
          },
          {
           "abstract": "network",
           "freq": 21,
           "pubs": [
            21,
            22,
            80,
            120,
            121,
            123,
            175
           ]
          },
          {
           "abstract": "text",
           "freq": 15,
           "pubs": [
            15,
            39,
            48
           ]
          },
          {
           "abstract": "boundary",
           "freq": 45,
           "pubs": [
            24,
            28,
            30,
            115,
            164
           ]
          },
          {
           "abstract": "computer",
           "freq": 22,
           "pubs": [
            11,
            36
           ]
          },
          {
           "abstract": "increased",
           "freq": 10,
           "pubs": [
            80,
            92,
            148
           ]
          },
          {
           "abstract": "independent",
           "freq": 16,
           "pubs": [
            55,
            170,
            174
           ]
          },
          {
           "abstract": "enemble",
           "freq": 45,
           "pubs": [
            80,
            109,
            150,
            163
           ]
          },
          {
           "abstract": "contraint dynamic",
           "freq": 28,
           "pubs": [
            28
           ]
          },
          {
           "abstract": "data management",
           "freq": 10,
           "pubs": [
            84,
            168,
            171
           ]
          },
          {
           "abstract": "degree freedom",
           "freq": 8,
           "pubs": [
            84,
            91,
            92,
            171
           ]
          },
          {
           "abstract": "variety",
           "freq": 16,
           "pubs": [
            40,
            123,
            170,
            175
           ]
          },
          {
           "abstract": "complexity",
           "freq": 9,
           "pubs": [
            62,
            72,
            76,
            123
           ]
          },
          {
           "abstract": "functional theory",
           "freq": 10,
           "pubs": [
            48,
            80,
            83,
            100
           ]
          },
          {
           "abstract": "feature",
           "freq": 10,
           "pubs": [
            14,
            36,
            40,
            84,
            123,
            171
           ]
          },
          {
           "abstract": "ability",
           "freq": 6,
           "pubs": [
            22,
            83,
            123
           ]
          },
          {
           "abstract": "increasing",
           "freq": 9,
           "pubs": [
            11,
            62,
            148
           ]
          },
          {
           "abstract": "american",
           "freq": 17,
           "pubs": [
            50,
            92
           ]
          },
          {
           "abstract": "presence",
           "freq": 9,
           "pubs": [
            22,
            28,
            76,
            83,
            100,
            169,
            170
           ]
          },
          {
           "abstract": "data",
           "freq": 21,
           "pubs": [
            10,
            16,
            17,
            26,
            27,
            39,
            43,
            50,
            84,
            122,
            124,
            132,
            168,
            171,
            174
           ]
          },
          {
           "abstract": "target",
           "freq": 9,
           "pubs": [
            28,
            39,
            173
           ]
          },
          {
           "abstract": "standard",
           "freq": 7,
           "pubs": [
            27,
            83,
            84,
            169,
            171
           ]
          },
          {
           "abstract": "extenion",
           "freq": 27,
           "pubs": [
            169
           ]
          },
          {
           "abstract": "theory",
           "freq": 13,
           "pubs": [
            48,
            80,
            83,
            100
           ]
          },
          {
           "abstract": "tranient",
           "freq": 13,
           "pubs": [
            22,
            126,
            133
           ]
          },
          {
           "abstract": "walk trot",
           "freq": 20,
           "pubs": [
            169
           ]
          },
          {
           "abstract": "co",
           "freq": 90,
           "pubs": [
            34,
            55,
            89,
            100,
            108
           ]
          },
          {
           "abstract": "normal",
           "freq": 15,
           "pubs": [
            22
           ]
          },
          {
           "abstract": "tranition",
           "freq": 34,
           "pubs": [
            13,
            62,
            80,
            81,
            108,
            156
           ]
          },
          {
           "abstract": "focal",
           "freq": 106,
           "pubs": [
            21,
            125,
            155,
            162,
            163
           ]
          },
          {
           "abstract": "distortion",
           "freq": 7,
           "pubs": [
            14,
            84,
            171
           ]
          },
          {
           "abstract": "detector",
           "freq": 14,
           "pubs": [
            15,
            27,
            39,
            98,
            172,
            173
           ]
          },
          {
           "abstract": "scaling relation",
           "freq": 166,
           "pubs": [
            60,
            82,
            111
           ]
          },
          {
           "abstract": "xromm",
           "freq": 24,
           "pubs": [
            84,
            92,
            169,
            171
           ]
          },
          {
           "abstract": "deviation",
           "freq": 8,
           "pubs": [
            27,
            92,
            169
           ]
          },
          {
           "abstract": "related",
           "freq": 12,
           "pubs": [
            62,
            76,
            86,
            175
           ]
          },
          {
           "abstract": "atomistic",
           "freq": 22,
           "pubs": [
            14,
            32,
            72
           ]
          },
          {
           "abstract": "strong",
           "freq": 6,
           "pubs": [
            48,
            76,
            83
           ]
          },
          {
           "abstract": "run",
           "freq": 11,
           "pubs": [
            15,
            27,
            39
           ]
          },
          {
           "abstract": "report",
           "freq": 9,
           "pubs": [
            15,
            39,
            76,
            169,
            173,
            174
           ]
          },
          {
           "abstract": "denity functional theory",
           "freq": 10,
           "pubs": [
            48,
            80,
            83,
            100
           ]
          },
          {
           "abstract": "mcpj",
           "freq": 34,
           "pubs": [
            169
           ]
          },
          {
           "abstract": "pattern",
           "freq": 9,
           "pubs": [
            36,
            76,
            92,
            126
           ]
          },
          {
           "abstract": "character",
           "freq": 28,
           "pubs": [
            36,
            59
           ]
          },
          {
           "abstract": "american oyster",
           "freq": 26,
           "pubs": [
            50
           ]
          },
          {
           "abstract": "dark matter experiment",
           "freq": 23,
           "pubs": [
            16,
            26,
            173
           ]
          },
          {
           "abstract": "motor",
           "freq": 26,
           "pubs": [
            91,
            126,
            133,
            134,
            152
           ]
          },
          {
           "abstract": "relationhip",
           "freq": 26,
           "pubs": [
            40,
            49,
            90,
            165
           ]
          },
          {
           "abstract": "illustrate",
           "freq": 7,
           "pubs": [
            14,
            92,
            169
           ]
          },
          {
           "abstract": "finding",
           "freq": 8,
           "pubs": [
            10,
            22,
            28,
            72,
            80
           ]
          },
          {
           "abstract": "evolution",
           "freq": 29,
           "pubs": [
            33,
            59,
            62,
            68,
            70,
            74,
            81,
            89,
            91,
            108,
            113
           ]
          },
          {
           "abstract": "nitrogen",
           "freq": 20,
           "pubs": [
            48
           ]
          },
          {
           "abstract": "accuracy precision",
           "freq": 13,
           "pubs": [
            84,
            171
           ]
          },
          {
           "abstract": "framework",
           "freq": 12,
           "pubs": [
            22,
            80,
            90,
            139,
            175
           ]
          },
          {
           "abstract": "bone motion",
           "freq": 6,
           "pubs": [
            84,
            169,
            171
           ]
          },
          {
           "abstract": "technique",
           "freq": 14,
           "pubs": [
            14,
            90,
            169,
            173,
            174
           ]
          },
          {
           "abstract": "nine",
           "freq": 13,
           "pubs": [
            84,
            171
           ]
          },
          {
           "abstract": "data underground",
           "freq": 24,
           "pubs": [
            16,
            26,
            27
           ]
          },
          {
           "abstract": "rbc",
           "freq": 82,
           "pubs": [
            22
           ]
          },
          {
           "abstract": "identification",
           "freq": 11,
           "pubs": [
            36,
            44,
            50,
            80
           ]
          },
          {
           "abstract": "electric field",
           "freq": 13,
           "pubs": [
            39,
            94,
            172
           ]
          },
          {
           "abstract": "angle",
           "freq": 8,
           "pubs": [
            169,
            172,
            173
           ]
          },
          {
           "abstract": "reduced",
           "freq": 14,
           "pubs": [
            81,
            83,
            105,
            117,
            173
           ]
          },
          {
           "abstract": "neuron",
           "freq": 47,
           "pubs": [
            130,
            133,
            140,
            148,
            152
           ]
          },
          {
           "abstract": "describe",
           "freq": 6,
           "pubs": [
            48,
            84,
            171
           ]
          },
          {
           "abstract": "rod",
           "freq": 26,
           "pubs": [
            50
           ]
          },
          {
           "abstract": "phase",
           "freq": 23,
           "pubs": [
            13,
            14,
            73,
            76,
            106,
            114,
            126,
            172,
            173,
            174,
            175
           ]
          },
          {
           "abstract": "trancripts",
           "freq": 19,
           "pubs": [
            50
           ]
          },
          {
           "abstract": "human focal seizure",
           "freq": 136,
           "pubs": [
            155,
            162,
            163
           ]
          },
          {
           "abstract": "natural",
           "freq": 32,
           "pubs": [
            76,
            104,
            154
           ]
          },
          {
           "abstract": "recombination",
           "freq": 32,
           "pubs": [
            15,
            27
           ]
          },
          {
           "abstract": "recoil energies",
           "freq": 15,
           "pubs": [
            27,
            172
           ]
          },
          {
           "abstract": "differences",
           "freq": 78,
           "pubs": [
            5,
            64,
            119
           ]
          },
          {
           "abstract": "dark",
           "freq": 25,
           "pubs": [
            15,
            16,
            17,
            26,
            27,
            29,
            172,
            173
           ]
          },
          {
           "abstract": "development",
           "freq": 28,
           "pubs": [
            40,
            54,
            64,
            90,
            119
           ]
          },
          {
           "abstract": "vacancy",
           "freq": 27,
           "pubs": [
            83
           ]
          },
          {
           "abstract": "mediation",
           "freq": 117,
           "pubs": [
            1,
            2,
            4,
            128
           ]
          },
          {
           "abstract": "respone",
           "freq": 15,
           "pubs": [
            15,
            22,
            36,
            50,
            62,
            73,
            98,
            140,
            148,
            173
           ]
          },
          {
           "abstract": "temperature",
           "freq": 15,
           "pubs": [
            14,
            170
           ]
          },
          {
           "abstract": "liquid xenon",
           "freq": 30,
           "pubs": [
            15,
            27,
            39,
            172
           ]
          },
          {
           "abstract": "research",
           "freq": 10,
           "pubs": [
            50,
            84,
            86,
            87,
            171,
            172,
            174
           ]
          },
          {
           "abstract": "suitable",
           "freq": 7,
           "pubs": [
            84,
            171,
            175
           ]
          },
          {
           "abstract": "spatial",
           "freq": 18,
           "pubs": [
            28,
            65,
            126
           ]
          },
          {
           "abstract": "direct",
           "freq": 10,
           "pubs": [
            29,
            36,
            90,
            91,
            174
           ]
          },
          {
           "abstract": "enable",
           "freq": 19,
           "pubs": [
            14,
            25,
            57,
            80,
            90
           ]
          },
          {
           "abstract": "memory",
           "freq": 21,
           "pubs": [
            14,
            47,
            114,
            117,
            124
           ]
          },
          {
           "abstract": "overall",
           "freq": 7,
           "pubs": [
            62,
            92,
            123
           ]
          },
          {
           "abstract": "virus",
           "freq": 130,
           "pubs": [
            7,
            18,
            44
           ]
          },
          {
           "abstract": "test",
           "freq": 10,
           "pubs": [
            10,
            40,
            91,
            95,
            150
           ]
          },
          {
           "abstract": "free energy",
           "freq": 24,
           "pubs": [
            14,
            106,
            129
           ]
          },
          {
           "abstract": "wimp",
           "freq": 34,
           "pubs": [
            173,
            174
           ]
          },
          {
           "abstract": "revealed",
           "freq": 13,
           "pubs": [
            76,
            117
           ]
          },
          {
           "abstract": "generalized",
           "freq": 14,
           "pubs": [
            10,
            156
           ]
          },
          {
           "abstract": "interacting",
           "freq": 23,
           "pubs": [
            15,
            16,
            26,
            39,
            77
           ]
          },
          {
           "abstract": "dark matter particle",
           "freq": 35,
           "pubs": [
            17,
            29
           ]
          },
          {
           "abstract": "fit",
           "freq": 20,
           "pubs": [
            91
           ]
          },
          {
           "abstract": "include",
           "freq": 8,
           "pubs": [
            14,
            39,
            84,
            171
           ]
          },
          {
           "abstract": "deposit",
           "freq": 15,
           "pubs": [
            27,
            42,
            43,
            48
           ]
          },
          {
           "abstract": "reinforcement learning",
           "freq": 23,
           "pubs": [
            117,
            136,
            147,
            148
           ]
          },
          {
           "abstract": "compare",
           "freq": 8,
           "pubs": [
            15,
            28,
            62
           ]
          },
          {
           "abstract": "input",
           "freq": 12,
           "pubs": [
            15,
            22,
            91
           ]
          },
          {
           "abstract": "clustering",
           "freq": 102,
           "pubs": [
            3,
            35,
            118,
            136
           ]
          },
          {
           "abstract": "approach",
           "freq": 26,
           "pubs": [
            14,
            32,
            161,
            175
           ]
          },
          {
           "abstract": "human focal",
           "freq": 129,
           "pubs": [
            125,
            155,
            162,
            163
           ]
          },
          {
           "abstract": "respectively",
           "freq": 7,
           "pubs": [
            48,
            84,
            171,
            172
           ]
          },
          {
           "abstract": "cell",
           "freq": 16,
           "pubs": [
            22,
            23,
            62,
            77
           ]
          },
          {
           "abstract": "dof",
           "freq": 34,
           "pubs": [
            91
           ]
          },
          {
           "abstract": "rotation",
           "freq": 14,
           "pubs": [
            91,
            92,
            169
           ]
          },
          {
           "abstract": "susceptible",
           "freq": 19,
           "pubs": [
            50
           ]
          },
          {
           "abstract": "video",
           "freq": 13,
           "pubs": [
            84,
            139,
            168,
            171
           ]
          },
          {
           "abstract": "lipid",
           "freq": 20,
           "pubs": [
            22
           ]
          },
          {
           "abstract": "interacting massive particle",
           "freq": 19,
           "pubs": [
            15,
            16,
            26,
            39
           ]
          },
          {
           "abstract": "senitivity analyses",
           "freq": 15,
           "pubs": [
            10
           ]
          },
          {
           "abstract": "planar",
           "freq": 25,
           "pubs": [
            75,
            91
           ]
          },
          {
           "abstract": "recoil",
           "freq": 37,
           "pubs": [
            15,
            16,
            26,
            27,
            39,
            98,
            172,
            173
           ]
          },
          {
           "abstract": "crocodylian",
           "freq": 23,
           "pubs": [
            92
           ]
          },
          {
           "abstract": "studies",
           "freq": 9,
           "pubs": [
            22,
            36,
            40,
            65,
            76,
            84,
            171
           ]
          },
          {
           "abstract": "selectivity",
           "freq": 75,
           "pubs": [
            89,
            100,
            103
           ]
          },
          {
           "abstract": "opercular",
           "freq": 34,
           "pubs": [
            91
           ]
          },
          {
           "abstract": "cm",
           "freq": 11,
           "pubs": [
            15,
            39,
            172,
            174
           ]
          },
          {
           "abstract": "local",
           "freq": 34,
           "pubs": [
            14,
            57,
            135,
            173
           ]
          },
          {
           "abstract": "contraint",
           "freq": 23,
           "pubs": [
            17,
            28
           ]
          },
          {
           "abstract": "lipid bilayer",
           "freq": 20,
           "pubs": [
            22
           ]
          },
          {
           "abstract": "task shifted",
           "freq": 15,
           "pubs": [
            10
           ]
          },
          {
           "abstract": "legwear",
           "freq": 20,
           "pubs": [
            169
           ]
          },
          {
           "abstract": "weakly interacting massive",
           "freq": 19,
           "pubs": [
            15,
            16,
            26,
            39
           ]
          },
          {
           "abstract": "recombination fluctuation",
           "freq": 34,
           "pubs": [
            27
           ]
          },
          {
           "abstract": "latent",
           "freq": 125,
           "pubs": [
            134,
            158,
            159,
            160
           ]
          },
          {
           "abstract": "tranport",
           "freq": 18,
           "pubs": [
            9,
            28,
            153
           ]
          },
          {
           "abstract": "pauses",
           "freq": 29,
           "pubs": [
            148
           ]
          },
          {
           "abstract": "phylogenetic",
           "freq": 34,
           "pubs": [
            36,
            40,
            55,
            59,
            113
           ]
          },
          {
           "abstract": "piwi",
           "freq": 176,
           "pubs": [
            67,
            77
           ]
          },
          {
           "abstract": "motor cortex",
           "freq": 86,
           "pubs": [
            126,
            133,
            134,
            152
           ]
          },
          {
           "abstract": "understanding",
           "freq": 21,
           "pubs": [
            34,
            36,
            71,
            74,
            90,
            91,
            104,
            117,
            154
           ]
          },
          {
           "abstract": "disorder",
           "freq": 19,
           "pubs": [
            22,
            116
           ]
          },
          {
           "abstract": "metal",
           "freq": 44,
           "pubs": [
            60,
            68,
            79,
            81,
            83,
            102,
            108
           ]
          },
          {
           "abstract": "control",
           "freq": 9,
           "pubs": [
            91,
            112,
            148,
            169
           ]
          },
          {
           "abstract": "synchrony",
           "freq": 26,
           "pubs": [
            163,
            175
           ]
          },
          {
           "abstract": "identify",
           "freq": 11,
           "pubs": [
            70,
            91,
            175
           ]
          },
          {
           "abstract": "bilayer",
           "freq": 25,
           "pubs": [
            22
           ]
          },
          {
           "abstract": "spatiotemporal",
           "freq": 111,
           "pubs": [
            125,
            150,
            155,
            156
           ]
          },
          {
           "abstract": "experiment",
           "freq": 18,
           "pubs": [
            11,
            16,
            26,
            29,
            172,
            173,
            174,
            175
           ]
          },
          {
           "abstract": "power",
           "freq": 14,
           "pubs": [
            57,
            83,
            166,
            175
           ]
          },
          {
           "abstract": "hydrogen evolution",
           "freq": 117,
           "pubs": [
            33,
            68,
            74,
            81
           ]
          },
          {
           "abstract": "joint",
           "freq": 10,
           "pubs": [
            84,
            92,
            169,
            171
           ]
          },
          {
           "abstract": "recognition",
           "freq": 12,
           "pubs": [
            36,
            50,
            103,
            139,
            175
           ]
          }
         ]
        }
       ],
       "height": 350,
       "marks": [
        {
         "encode": {
          "enter": {
           "align": {
            "value": "center"
           },
           "baseline": {
            "value": "alphabetic"
           },
           "fill": {
            "field": "freq",
            "scale": "color"
           },
           "text": {
            "field": "abstract"
           }
          },
          "hover": {
           "fillOpacity": {
            "value": 1
           }
          },
          "update": {
           "fillOpacity": [
            {
             "test": "indexof(datum.pubs, hoverID) > 0",
             "value": 1
            },
            {
             "value": 0.3
            }
           ]
          }
         },
         "from": {
          "data": "table"
         },
         "transform": [
          {
           "font": "Helvetica Neue, Arial",
           "fontSize": {
            "field": "datum.freq"
           },
           "fontSizeRange": [
            12,
            56
           ],
           "padding": 2,
           "size": [
            {
             "signal": "width"
            },
            {
             "signal": "height"
            }
           ],
           "text": {
            "field": "text"
           },
           "type": "wordcloud"
          }
         ],
         "type": "text"
        }
       ],
       "padding": 10,
       "scales": [
        {
         "domain": {
          "data": "table",
          "field": "freq"
         },
         "name": "color",
         "range": {
          "scheme": "purpleblue"
         },
         "type": "log"
        }
       ],
       "signals": [
        {
         "name": "hoverID",
         "value": 0
        }
       ],
       "width": 900
      },
      "image/png": "[encoded data removed]",
      "image/svg+xml": [
       "<svg class=\"marks\" width=\"920\" height=\"371\" viewBox=\"0 0 920 371\" version=\"1.1\" xmlns=\"http://www.w3.org/2000/svg\" xmlns:xlink=\"http://www.w3.org/1999/xlink\"><g transform=\"translate(10,11)\"><g class=\"mark-group role-frame root\"><g transform=\"translate(0,0)\"><path class=\"background\" d=\"M0,0h900v350h-900Z\" style=\"fill: none;\"></path><g><g class=\"mark-text role-mark\"><text text-anchor=\"middle\" transform=\"translate(0,0)\" style=\"font-family: sans-serif; font-size: 0px; fill: rgb(89, 158, 201); fill-opacity: 0.3;\">action</text><text text-anchor=\"middle\" transform=\"translate(24,136)\" style=\"font-family: Helvetica Neue, Arial; font-size: 12px; font-style: normal; font-weight: normal; fill: rgb(210, 213, 232); fill-opacity: 0.3;\">step</text><text text-anchor=\"middle\" transform=\"translate(0,0)\" style=\"font-family: sans-serif; font-size: 0px; fill: rgb(149, 182, 215); fill-opacity: 0.3;\">photosynthesis</text><text text-anchor=\"middle\" transform=\"translate(0,0)\" style=\"font-family: sans-serif; font-size: 0px; fill: rgb(154, 184, 217); fill-opacity: 0.3;\">measurement</text><text text-anchor=\"middle\" transform=\"translate(864,73)\" style=\"font-family: Helvetica Neue, Arial; font-size: 23px; font-style: normal; font-weight: normal; fill: rgb(109, 166, 205); fill-opacity: 0.3;\">walk</text><text text-anchor=\"middle\" transform=\"translate(0,0)\" style=\"font-family: sans-serif; font-size: 0px; fill: rgb(92, 160, 201); fill-opacity: 0.3;\">scene</text><text text-anchor=\"middle\" transform=\"translate(514,128)\" style=\"font-family: Helvetica Neue, Arial; font-size: 29px; font-style: normal; font-weight: normal; fill: rgb(55, 142, 191); fill-opacity: 0.3;\">star</text><text text-anchor=\"middle\" transform=\"translate(0,0)\" style=\"font-family: sans-serif; font-size: 0px; fill: rgb(144, 180, 214); fill-opacity: 0.3;\">monte</text><text text-anchor=\"middle\" transform=\"translate(0,0)\" style=\"font-family: sans-serif; font-size: 0px; fill: rgb(182, 197, 223); fill-opacity: 0.3;\">behavioral</text><text text-anchor=\"middle\" transform=\"translate(0,0)\" style=\"font-family: sans-serif; font-size: 0px; fill: rgb(164, 189, 219); fill-opacity: 0.3;\">support</text><text text-anchor=\"middle\" transform=\"translate(0,0)\" style=\"font-family: sans-serif; font-size: 0px; fill: rgb(120, 171, 208); fill-opacity: 0.3;\">protein</text><text text-anchor=\"middle\" transform=\"translate(0,0)\" style=\"font-family: sans-serif; font-size: 0px; fill: rgb(120, 171, 208); fill-opacity: 0.3;\">computational</text><text text-anchor=\"middle\" transform=\"translate(0,0)\" style=\"font-family: sans-serif; font-size: 0px; fill: rgb(210, 213, 232); fill-opacity: 0.3;\">demontrate</text><text text-anchor=\"middle\" transform=\"translate(0,0)\" style=\"font-family: sans-serif; font-size: 0px; fill: rgb(105, 165, 205); fill-opacity: 0.3;\">underground</text><text text-anchor=\"middle\" transform=\"translate(0,0)\" style=\"font-family: sans-serif; font-size: 0px; fill: rgb(31, 128, 183); fill-opacity: 0.3;\">entropic</text><text text-anchor=\"middle\" transform=\"translate(0,0)\" style=\"font-family: sans-serif; font-size: 0px; fill: rgb(109, 166, 205); fill-opacity: 0.3;\">electronic recoil</text><text text-anchor=\"middle\" transform=\"translate(0,0)\" style=\"font-family: sans-serif; font-size: 0px; fill: rgb(164, 189, 219); fill-opacity: 0.3;\">stress</text><text text-anchor=\"middle\" transform=\"translate(432,17)\" style=\"font-family: Helvetica Neue, Arial; font-size: 20px; font-style: normal; font-weight: normal; fill: rgb(135, 177, 212); fill-opacity: 0.3;\">zinc</text><text text-anchor=\"middle\" transform=\"translate(0,0)\" style=\"font-family: sans-serif; font-size: 0px; fill: rgb(203, 208, 229); fill-opacity: 0.3;\">methods</text><text text-anchor=\"middle\" transform=\"translate(0,0)\" style=\"font-family: sans-serif; font-size: 0px; fill: rgb(182, 197, 223); fill-opacity: 0.3;\">self</text><text text-anchor=\"middle\" transform=\"translate(0,0)\" style=\"font-family: sans-serif; font-size: 0px; fill: rgb(195, 204, 227); fill-opacity: 0.3;\">molecule</text><text text-anchor=\"middle\" transform=\"translate(0,0)\" style=\"font-family: sans-serif; font-size: 0px; fill: rgb(135, 177, 212); fill-opacity: 0.3;\">potential</text><text text-anchor=\"middle\" transform=\"translate(0,0)\" style=\"font-family: sans-serif; font-size: 0px; fill: rgb(144, 180, 214); fill-opacity: 0.3;\">single</text><text text-anchor=\"middle\" transform=\"translate(0,0)\" style=\"font-family: sans-serif; font-size: 0px; fill: rgb(112, 168, 206); fill-opacity: 0.3;\">muscular</text><text text-anchor=\"middle\" transform=\"translate(0,0)\" style=\"font-family: sans-serif; font-size: 0px; fill: rgb(112, 168, 206); fill-opacity: 0.3;\">simulation</text><text text-anchor=\"middle\" transform=\"translate(0,0)\" style=\"font-family: sans-serif; font-size: 0px; fill: rgb(139, 178, 213); fill-opacity: 0.3;\">precision</text><text text-anchor=\"middle\" transform=\"translate(0,0)\" style=\"font-family: sans-serif; font-size: 0px; fill: rgb(210, 213, 232); fill-opacity: 0.3;\">available</text><text text-anchor=\"middle\" transform=\"translate(0,0)\" style=\"font-family: sans-serif; font-size: 0px; fill: rgb(195, 204, 227); fill-opacity: 0.3;\">period</text><text text-anchor=\"middle\" transform=\"translate(470,328)\" style=\"font-family: Helvetica Neue, Arial; font-size: 21px; font-style: normal; font-weight: normal; fill: rgb(127, 174, 210); fill-opacity: 0.3;\">mass</text><text text-anchor=\"middle\" transform=\"translate(0,0)\" style=\"font-family: sans-serif; font-size: 0px; fill: rgb(158, 186, 218); fill-opacity: 0.3;\">investment</text><text text-anchor=\"middle\" transform=\"translate(209,95)\" style=\"font-family: Helvetica Neue, Arial; font-size: 27px; font-style: normal; font-weight: normal; fill: rgb(76, 152, 197); fill-opacity: 0.3;\">leaf</text><text text-anchor=\"middle\" transform=\"translate(0,0)\" style=\"font-family: sans-serif; font-size: 0px; fill: rgb(203, 208, 229); fill-opacity: 0.3;\">particular</text><text text-anchor=\"middle\" transform=\"translate(0,0)\" style=\"font-family: sans-serif; font-size: 0px; fill: rgb(158, 186, 218); fill-opacity: 0.3;\">dimenional</text><text text-anchor=\"middle\" transform=\"translate(0,0)\" style=\"font-family: sans-serif; font-size: 0px; fill: rgb(182, 197, 223); fill-opacity: 0.3;\">results</text><text text-anchor=\"middle\" transform=\"translate(0,0)\" style=\"font-family: sans-serif; font-size: 0px; fill: rgb(116, 169, 207); fill-opacity: 0.3;\">variability</text><text text-anchor=\"middle\" transform=\"translate(0,0)\" style=\"font-family: sans-serif; font-size: 0px; fill: rgb(188, 200, 225); fill-opacity: 0.3;\">background</text><text text-anchor=\"middle\" transform=\"translate(38,253)\" style=\"font-family: Helvetica Neue, Arial; font-size: 23px; font-style: normal; font-weight: normal; fill: rgb(102, 163, 204); fill-opacity: 0.3;\">user</text><text text-anchor=\"middle\" transform=\"translate(0,0)\" style=\"font-family: sans-serif; font-size: 0px; fill: rgb(144, 180, 214); fill-opacity: 0.3;\">massive particle</text><text text-anchor=\"middle\" transform=\"translate(0,0)\" style=\"font-family: sans-serif; font-size: 0px; fill: rgb(7, 101, 158); fill-opacity: 0.3;\">mechanically untable</text><text text-anchor=\"middle\" transform=\"translate(0,0)\" style=\"font-family: sans-serif; font-size: 0px; fill: rgb(81, 154, 198); fill-opacity: 0.3;\">structure</text><text text-anchor=\"middle\" transform=\"translate(0,0)\" style=\"font-family: sans-serif; font-size: 0px; fill: rgb(203, 208, 229); fill-opacity: 0.3;\">mortality</text><text text-anchor=\"middle\" transform=\"translate(0,0)\" style=\"font-family: sans-serif; font-size: 0px; fill: rgb(182, 197, 223); fill-opacity: 0.3;\">interplay</text><text text-anchor=\"middle\" transform=\"translate(0,0)\" style=\"font-family: sans-serif; font-size: 0px; fill: rgb(61, 146, 193); fill-opacity: 0.3;\">catalyst</text><text text-anchor=\"middle\" transform=\"translate(767,259)\" style=\"font-family: Helvetica Neue, Arial; font-size: 44px; font-style: normal; font-weight: normal; fill: rgb(7, 102, 160); fill-opacity: 0.3;\">catalysis</text><text text-anchor=\"middle\" transform=\"translate(0,0)\" style=\"font-family: sans-serif; font-size: 0px; fill: rgb(139, 178, 213); fill-opacity: 0.3;\">interacting massive</text><text text-anchor=\"middle\" transform=\"translate(0,0)\" style=\"font-family: sans-serif; font-size: 0px; fill: rgb(158, 186, 218); fill-opacity: 0.3;\">free</text><text text-anchor=\"middle\" transform=\"translate(0,0)\" style=\"font-family: sans-serif; font-size: 0px; fill: rgb(116, 169, 207); fill-opacity: 0.3;\">motion</text><text text-anchor=\"middle\" transform=\"translate(0,0)\" style=\"font-family: sans-serif; font-size: 0px; fill: rgb(149, 182, 215); fill-opacity: 0.3;\">thermal</text><text text-anchor=\"middle\" transform=\"translate(0,0)\" style=\"font-family: sans-serif; font-size: 0px; fill: rgb(164, 189, 219); fill-opacity: 0.3;\">implication</text><text text-anchor=\"middle\" transform=\"translate(0,0)\" style=\"font-family: sans-serif; font-size: 0px; fill: rgb(170, 192, 220); fill-opacity: 0.3;\">lux detector</text><text text-anchor=\"middle\" transform=\"translate(823,151)\" style=\"font-family: Helvetica Neue, Arial; font-size: 29px; font-style: normal; font-weight: normal; fill: rgb(61, 146, 193); fill-opacity: 0.3;\">classical</text><text text-anchor=\"middle\" transform=\"translate(0,0)\" style=\"font-family: sans-serif; font-size: 0px; fill: rgb(78, 153, 198); fill-opacity: 0.3;\">machine learning</text><text text-anchor=\"middle\" transform=\"translate(0,0)\" style=\"font-family: sans-serif; font-size: 0px; fill: rgb(170, 192, 220); fill-opacity: 0.3;\">task</text><text text-anchor=\"middle\" transform=\"translate(0,0)\" style=\"font-family: sans-serif; font-size: 0px; fill: rgb(109, 166, 205); fill-opacity: 0.3;\">local minima</text><text text-anchor=\"middle\" transform=\"translate(0,0)\" style=\"font-family: sans-serif; font-size: 0px; fill: rgb(124, 172, 209); fill-opacity: 0.3;\">computer vision</text><text text-anchor=\"middle\" transform=\"translate(465,287)\" style=\"font-family: Helvetica Neue, Arial; font-size: 23px; font-style: normal; font-weight: normal; fill: rgb(109, 166, 205); fill-opacity: 0.3;\">trot</text><text text-anchor=\"middle\" transform=\"translate(545,221)\" style=\"font-family: Helvetica Neue, Arial; font-size: 18px; font-style: normal; font-weight: normal; fill: rgb(149, 182, 215); fill-opacity: 0.3;\">n</text><text text-anchor=\"middle\" transform=\"translate(0,0)\" style=\"font-family: sans-serif; font-size: 0px; fill: rgb(139, 178, 213); fill-opacity: 0.3;\">bacterial</text><text text-anchor=\"middle\" transform=\"translate(324,35)\" style=\"font-family: Helvetica Neue, Arial; font-size: 39px; font-style: normal; font-weight: normal; fill: rgb(13, 114, 172); fill-opacity: 0.3;\">lfp</text><text text-anchor=\"middle\" transform=\"translate(752,117)\" style=\"font-family: Helvetica Neue, Arial; font-size: 45px; font-style: normal; font-weight: normal; fill: rgb(7, 101, 158); fill-opacity: 0.3;\">carbide</text><text text-anchor=\"middle\" transform=\"translate(0,0)\" style=\"font-family: sans-serif; font-size: 0px; fill: rgb(144, 180, 214); fill-opacity: 0.3;\">reducible metal</text><text text-anchor=\"middle\" transform=\"translate(0,0)\" style=\"font-family: sans-serif; font-size: 0px; fill: rgb(195, 204, 227); fill-opacity: 0.3;\">employ</text><text text-anchor=\"middle\" transform=\"translate(0,0)\" style=\"font-family: sans-serif; font-size: 0px; fill: rgb(139, 178, 213); fill-opacity: 0.3;\">cognitive</text><text text-anchor=\"middle\" transform=\"translate(0,0)\" style=\"font-family: sans-serif; font-size: 0px; fill: rgb(78, 153, 198); fill-opacity: 0.3;\">urchin</text><text text-anchor=\"middle\" transform=\"translate(0,0)\" style=\"font-family: sans-serif; font-size: 0px; fill: rgb(112, 168, 206); fill-opacity: 0.3;\">skeletal muscular</text><text text-anchor=\"middle\" transform=\"translate(0,0)\" style=\"font-family: sans-serif; font-size: 0px; fill: rgb(158, 186, 218); fill-opacity: 0.3;\">shifted</text><text text-anchor=\"middle\" transform=\"translate(0,0)\" style=\"font-family: sans-serif; font-size: 0px; fill: rgb(81, 154, 198); fill-opacity: 0.3;\">marker</text><text text-anchor=\"middle\" transform=\"translate(0,0)\" style=\"font-family: sans-serif; font-size: 0px; fill: rgb(182, 197, 223); fill-opacity: 0.3;\">conducted</text><text text-anchor=\"middle\" transform=\"translate(0,0)\" style=\"font-family: sans-serif; font-size: 0px; fill: rgb(188, 200, 225); fill-opacity: 0.3;\">rate</text><text text-anchor=\"middle\" transform=\"translate(127,233)\" style=\"font-family: Helvetica Neue, Arial; font-size: 45px; font-style: normal; font-weight: normal; fill: rgb(7, 101, 158); fill-opacity: 0.3;\">untable</text><text text-anchor=\"middle\" transform=\"translate(0,0)\" style=\"font-family: sans-serif; font-size: 0px; fill: rgb(144, 180, 214); fill-opacity: 0.3;\">material</text><text text-anchor=\"middle\" transform=\"translate(0,0)\" style=\"font-family: sans-serif; font-size: 0px; fill: rgb(170, 192, 220); fill-opacity: 0.3;\">tracking marker</text><text text-anchor=\"middle\" transform=\"translate(0,0)\" style=\"font-family: sans-serif; font-size: 0px; fill: rgb(164, 189, 219); fill-opacity: 0.3;\">sequence</text><text text-anchor=\"middle\" transform=\"translate(0,0)\" style=\"font-family: sans-serif; font-size: 0px; fill: rgb(195, 204, 227); fill-opacity: 0.3;\">example</text><text text-anchor=\"middle\" transform=\"translate(0,0)\" style=\"font-family: sans-serif; font-size: 0px; fill: rgb(170, 192, 220); fill-opacity: 0.3;\">matlab</text><text text-anchor=\"middle\" transform=\"translate(0,0)\" style=\"font-family: sans-serif; font-size: 0px; fill: rgb(127, 174, 210); fill-opacity: 0.3;\">species</text><text text-anchor=\"middle\" transform=\"translate(159,196)\" style=\"font-family: Helvetica Neue, Arial; font-size: 25px; font-style: normal; font-weight: normal; fill: rgb(87, 157, 200); fill-opacity: 0.3;\">set</text><text text-anchor=\"middle\" transform=\"translate(0,0)\" style=\"font-family: sans-serif; font-size: 0px; fill: rgb(135, 177, 212); fill-opacity: 0.3;\">based xromm</text><text text-anchor=\"middle\" transform=\"translate(0,0)\" style=\"font-family: sans-serif; font-size: 0px; fill: rgb(164, 189, 219); fill-opacity: 0.3;\">associated</text><text text-anchor=\"middle\" transform=\"translate(0,0)\" style=\"font-family: sans-serif; font-size: 0px; fill: rgb(112, 168, 206); fill-opacity: 0.3;\">involved</text><text text-anchor=\"middle\" transform=\"translate(0,0)\" style=\"font-family: sans-serif; font-size: 0px; fill: rgb(144, 180, 214); fill-opacity: 0.3;\">atom</text><text text-anchor=\"middle\" transform=\"translate(0,0)\" style=\"font-family: sans-serif; font-size: 0px; fill: rgb(188, 200, 225); fill-opacity: 0.3;\">internal</text><text text-anchor=\"middle\" transform=\"translate(0,0)\" style=\"font-family: sans-serif; font-size: 0px; fill: rgb(195, 204, 227); fill-opacity: 0.3;\">tools</text><text text-anchor=\"middle\" transform=\"translate(0,0)\" style=\"font-family: sans-serif; font-size: 0px; fill: rgb(92, 160, 201); fill-opacity: 0.3;\">helicosporidium</text><text text-anchor=\"middle\" transform=\"translate(0,0)\" style=\"font-family: sans-serif; font-size: 0px; fill: rgb(182, 197, 223); fill-opacity: 0.3;\">recontruction</text><text text-anchor=\"middle\" transform=\"translate(0,0)\" style=\"font-family: sans-serif; font-size: 0px; fill: rgb(210, 213, 232); fill-opacity: 0.3;\">highly</text><text text-anchor=\"middle\" transform=\"translate(0,0)\" style=\"font-family: sans-serif; font-size: 0px; fill: rgb(144, 180, 214); fill-opacity: 0.3;\">term</text><text text-anchor=\"middle\" transform=\"translate(0,0)\" style=\"font-family: sans-serif; font-size: 0px; fill: rgb(109, 166, 205); fill-opacity: 0.3;\">vacancies</text><text text-anchor=\"middle\" transform=\"translate(0,0)\" style=\"font-family: sans-serif; font-size: 0px; fill: rgb(124, 172, 209); fill-opacity: 0.3;\">model</text><text text-anchor=\"middle\" transform=\"translate(0,0)\" style=\"font-family: sans-serif; font-size: 0px; fill: rgb(116, 169, 207); fill-opacity: 0.3;\">mathrm</text><text text-anchor=\"middle\" transform=\"translate(867,246)\" style=\"font-family: Helvetica Neue, Arial; font-size: 23px; font-style: normal; font-weight: normal; fill: rgb(105, 165, 205); fill-opacity: 0.3;\">kev</text><text text-anchor=\"middle\" transform=\"translate(205,70)\" style=\"font-family: Helvetica Neue, Arial; font-size: 47px; font-style: normal; font-weight: normal; fill: rgb(5, 97, 153); fill-opacity: 0.3;\">development sea</text><text text-anchor=\"middle\" transform=\"translate(0,0)\" style=\"font-family: sans-serif; font-size: 0px; fill: rgb(219, 218, 235); fill-opacity: 0.3;\">subject</text><text text-anchor=\"middle\" transform=\"translate(511,25)\" style=\"font-family: Helvetica Neue, Arial; font-size: 24px; font-style: normal; font-weight: normal; fill: rgb(99, 162, 203); fill-opacity: 0.3;\">shell</text><text text-anchor=\"middle\" transform=\"translate(0,0)\" style=\"font-family: sans-serif; font-size: 0px; fill: rgb(102, 163, 204); fill-opacity: 0.3;\">tan pauses</text><text text-anchor=\"middle\" transform=\"translate(429,247)\" style=\"font-family: Helvetica Neue, Arial; font-size: 14px; font-style: normal; font-weight: normal; fill: rgb(188, 200, 225); fill-opacity: 0.3;\">reveal</text><text text-anchor=\"middle\" transform=\"translate(391,14)\" style=\"font-family: Helvetica Neue, Arial; font-size: 12px; font-style: normal; font-weight: normal; fill: rgb(219, 218, 235); fill-opacity: 0.3;\">six</text><text text-anchor=\"middle\" transform=\"translate(831,338)\" style=\"font-family: Helvetica Neue, Arial; font-size: 12px; font-style: normal; font-weight: normal; fill: rgb(210, 213, 232); fill-opacity: 0.3;\">version</text><text text-anchor=\"middle\" transform=\"translate(0,0)\" style=\"font-family: sans-serif; font-size: 0px; fill: rgb(131, 175, 211); fill-opacity: 0.3;\">phys</text><text text-anchor=\"middle\" transform=\"translate(0,0)\" style=\"font-family: sans-serif; font-size: 0px; fill: rgb(135, 177, 212); fill-opacity: 0.3;\">marker based xromm</text><text text-anchor=\"middle\" transform=\"translate(0,0)\" style=\"font-family: sans-serif; font-size: 0px; fill: rgb(124, 172, 209); fill-opacity: 0.3;\">parasite</text><text text-anchor=\"middle\" transform=\"translate(0,0)\" style=\"font-family: sans-serif; font-size: 0px; fill: rgb(188, 200, 225); fill-opacity: 0.3;\">management</text><text text-anchor=\"middle\" transform=\"translate(0,0)\" style=\"font-family: sans-serif; font-size: 0px; fill: rgb(154, 184, 217); fill-opacity: 0.3;\">energies</text><text text-anchor=\"middle\" transform=\"translate(0,0)\" style=\"font-family: sans-serif; font-size: 0px; fill: rgb(124, 172, 209); fill-opacity: 0.3;\">classify</text><text text-anchor=\"middle\" transform=\"translate(0,0)\" style=\"font-family: sans-serif; font-size: 0px; fill: rgb(195, 204, 227); fill-opacity: 0.3;\">infection</text><text text-anchor=\"middle\" transform=\"translate(458,97)\" style=\"font-family: Helvetica Neue, Arial; font-size: 53px; font-style: normal; font-weight: normal; fill: rgb(4, 86, 136); fill-opacity: 0.3;\">relation</text><text text-anchor=\"middle\" transform=\"translate(0,0)\" style=\"font-family: sans-serif; font-size: 0px; fill: rgb(203, 208, 229); fill-opacity: 0.3;\">evidence</text><text text-anchor=\"middle\" transform=\"translate(462,309)\" style=\"font-family: Helvetica Neue, Arial; font-size: 30px; font-style: normal; font-weight: normal; fill: rgb(52, 140, 190); fill-opacity: 0.3;\">tan</text><text text-anchor=\"middle\" transform=\"translate(0,0)\" style=\"font-family: sans-serif; font-size: 0px; fill: rgb(195, 204, 227); fill-opacity: 0.3;\">challenge</text><text text-anchor=\"middle\" transform=\"translate(0,0)\" style=\"font-family: sans-serif; font-size: 0px; fill: rgb(131, 175, 211); fill-opacity: 0.3;\">flow</text><text text-anchor=\"middle\" transform=\"translate(0,0)\" style=\"font-family: sans-serif; font-size: 0px; fill: rgb(127, 174, 210); fill-opacity: 0.3;\">perceptual</text><text text-anchor=\"middle\" transform=\"translate(0,0)\" style=\"font-family: sans-serif; font-size: 0px; fill: rgb(127, 174, 210); fill-opacity: 0.3;\">image</text><text text-anchor=\"middle\" transform=\"translate(0,0)\" style=\"font-family: sans-serif; font-size: 0px; fill: rgb(139, 178, 213); fill-opacity: 0.3;\">analyses</text><text text-anchor=\"middle\" transform=\"translate(0,0)\" style=\"font-family: sans-serif; font-size: 0px; fill: rgb(210, 213, 232); fill-opacity: 0.3;\">infected</text><text text-anchor=\"middle\" transform=\"translate(0,0)\" style=\"font-family: sans-serif; font-size: 0px; fill: rgb(135, 177, 212); fill-opacity: 0.3;\">sites</text><text text-anchor=\"middle\" transform=\"translate(0,0)\" style=\"font-family: sans-serif; font-size: 0px; fill: rgb(124, 172, 209); fill-opacity: 0.3;\">domain</text><text text-anchor=\"middle\" transform=\"translate(0,0)\" style=\"font-family: sans-serif; font-size: 0px; fill: rgb(203, 208, 229); fill-opacity: 0.3;\">double</text><text text-anchor=\"middle\" transform=\"translate(588,336)\" style=\"font-family: Helvetica Neue, Arial; font-size: 15px; font-style: normal; font-weight: normal; fill: rgb(182, 197, 223); fill-opacity: 0.3;\">active</text><text text-anchor=\"middle\" transform=\"translate(0,0)\" style=\"font-family: sans-serif; font-size: 0px; fill: rgb(144, 180, 214); fill-opacity: 0.3;\">predict</text><text text-anchor=\"middle\" transform=\"translate(0,0)\" style=\"font-family: sans-serif; font-size: 0px; fill: rgb(149, 182, 215); fill-opacity: 0.3;\">charge tranfer</text><text text-anchor=\"middle\" transform=\"translate(0,0)\" style=\"font-family: sans-serif; font-size: 0px; fill: rgb(144, 180, 214); fill-opacity: 0.3;\">carlo</text><text text-anchor=\"middle\" transform=\"translate(762,15)\" style=\"font-family: Helvetica Neue, Arial; font-size: 17px; font-style: normal; font-weight: normal; fill: rgb(158, 186, 218); fill-opacity: 0.3;\">yields</text><text text-anchor=\"middle\" transform=\"translate(253,12)\" style=\"font-family: Helvetica Neue, Arial; font-size: 16px; font-style: normal; font-weight: normal; fill: rgb(170, 192, 220); fill-opacity: 0.3;\">mean</text><text text-anchor=\"middle\" transform=\"translate(0,0)\" style=\"font-family: sans-serif; font-size: 0px; fill: rgb(139, 178, 213); fill-opacity: 0.3;\">weakly</text><text text-anchor=\"middle\" transform=\"translate(0,0)\" style=\"font-family: sans-serif; font-size: 0px; fill: rgb(158, 186, 218); fill-opacity: 0.3;\">defective</text><text text-anchor=\"middle\" transform=\"translate(0,0)\" style=\"font-family: sans-serif; font-size: 0px; fill: rgb(164, 189, 219); fill-opacity: 0.3;\">calibration nuclear recoil</text><text text-anchor=\"middle\" transform=\"translate(0,0)\" style=\"font-family: sans-serif; font-size: 0px; fill: rgb(105, 165, 205); fill-opacity: 0.3;\">hybrid simulation</text><text text-anchor=\"middle\" transform=\"translate(0,0)\" style=\"font-family: sans-serif; font-size: 0px; fill: rgb(124, 172, 209); fill-opacity: 0.3;\">detection</text><text text-anchor=\"middle\" transform=\"translate(0,0)\" style=\"font-family: sans-serif; font-size: 0px; fill: rgb(182, 197, 223); fill-opacity: 0.3;\">close</text><text text-anchor=\"middle\" transform=\"translate(0,0)\" style=\"font-family: sans-serif; font-size: 0px; fill: rgb(182, 197, 223); fill-opacity: 0.3;\">including</text><text text-anchor=\"middle\" transform=\"translate(0,0)\" style=\"font-family: sans-serif; font-size: 0px; fill: rgb(164, 189, 219); fill-opacity: 0.3;\">study</text><text text-anchor=\"middle\" transform=\"translate(0,0)\" style=\"font-family: sans-serif; font-size: 0px; fill: rgb(170, 192, 220); fill-opacity: 0.3;\">predicted</text><text text-anchor=\"middle\" transform=\"translate(0,0)\" style=\"font-family: sans-serif; font-size: 0px; fill: rgb(105, 165, 205); fill-opacity: 0.3;\">imaging</text><text text-anchor=\"middle\" transform=\"translate(51,180)\" style=\"font-family: Helvetica Neue, Arial; font-size: 28px; font-style: normal; font-weight: normal; fill: rgb(68, 149, 195); fill-opacity: 0.3;\">strain</text><text text-anchor=\"middle\" transform=\"translate(0,0)\" style=\"font-family: sans-serif; font-size: 0px; fill: rgb(176, 194, 222); fill-opacity: 0.3;\">feeding</text><text text-anchor=\"middle\" transform=\"translate(0,0)\" style=\"font-family: sans-serif; font-size: 0px; fill: rgb(182, 197, 223); fill-opacity: 0.3;\">change</text><text text-anchor=\"middle\" transform=\"translate(0,0)\" style=\"font-family: sans-serif; font-size: 0px; fill: rgb(99, 162, 203); fill-opacity: 0.3;\">alcohol</text><text text-anchor=\"middle\" transform=\"translate(0,0)\" style=\"font-family: sans-serif; font-size: 0px; fill: rgb(188, 200, 225); fill-opacity: 0.3;\">analyze</text><text text-anchor=\"middle\" transform=\"translate(602,304)\" style=\"font-family: Helvetica Neue, Arial; font-size: 45px; font-style: normal; font-weight: normal; fill: rgb(7, 101, 158); fill-opacity: 0.3;\">mechanically</text><text text-anchor=\"middle\" transform=\"translate(0,0)\" style=\"font-family: sans-serif; font-size: 0px; fill: rgb(188, 200, 225); fill-opacity: 0.3;\">information</text><text text-anchor=\"middle\" transform=\"translate(694,85)\" style=\"font-family: Helvetica Neue, Arial; font-size: 43px; font-style: normal; font-weight: normal; fill: rgb(8, 105, 163); fill-opacity: 0.3;\">via</text><text text-anchor=\"middle\" transform=\"translate(850,324)\" style=\"font-family: Helvetica Neue, Arial; font-size: 24px; font-style: normal; font-weight: normal; fill: rgb(99, 162, 203); fill-opacity: 0.3;\">energy</text><text text-anchor=\"middle\" transform=\"translate(0,0)\" style=\"font-family: sans-serif; font-size: 0px; fill: rgb(135, 177, 212); fill-opacity: 0.3;\">principles</text><text text-anchor=\"middle\" transform=\"translate(0,0)\" style=\"font-family: sans-serif; font-size: 0px; fill: rgb(116, 169, 207); fill-opacity: 0.3;\">algae</text><text text-anchor=\"middle\" transform=\"translate(0,0)\" style=\"font-family: sans-serif; font-size: 0px; fill: rgb(154, 184, 217); fill-opacity: 0.3;\">monoenergetic</text><text text-anchor=\"middle\" transform=\"translate(0,0)\" style=\"font-family: sans-serif; font-size: 0px; fill: rgb(139, 178, 213); fill-opacity: 0.3;\">phenomena</text><text text-anchor=\"middle\" transform=\"translate(0,0)\" style=\"font-family: sans-serif; font-size: 0px; fill: rgb(219, 218, 235); fill-opacity: 0.3;\">biomechanics</text><text text-anchor=\"middle\" transform=\"translate(0,0)\" style=\"font-family: sans-serif; font-size: 0px; fill: rgb(9, 106, 164); fill-opacity: 0.3;\">cognition</text><text text-anchor=\"middle\" transform=\"translate(0,0)\" style=\"font-family: sans-serif; font-size: 0px; fill: rgb(149, 182, 215); fill-opacity: 0.3;\">process</text><text text-anchor=\"middle\" transform=\"translate(0,0)\" style=\"font-family: sans-serif; font-size: 0px; fill: rgb(139, 178, 213); fill-opacity: 0.3;\">reduction</text><text text-anchor=\"middle\" transform=\"translate(0,0)\" style=\"font-family: sans-serif; font-size: 0px; fill: rgb(182, 197, 223); fill-opacity: 0.3;\">complex</text><text text-anchor=\"middle\" transform=\"translate(609,145)\" style=\"font-family: Helvetica Neue, Arial; font-size: 18px; font-style: normal; font-weight: normal; fill: rgb(154, 184, 217); fill-opacity: 0.3;\">et</text><text text-anchor=\"middle\" transform=\"translate(59,328)\" style=\"font-family: Helvetica Neue, Arial; font-size: 23px; font-style: normal; font-weight: normal; fill: rgb(105, 165, 205); fill-opacity: 0.3;\">novel</text><text text-anchor=\"middle\" transform=\"translate(273,245)\" style=\"font-family: Helvetica Neue, Arial; font-size: 12px; font-style: normal; font-weight: normal; fill: rgb(219, 218, 235); fill-opacity: 0.3;\">force</text><text text-anchor=\"middle\" transform=\"translate(0,0)\" style=\"font-family: sans-serif; font-size: 0px; fill: rgb(188, 200, 225); fill-opacity: 0.3;\">value</text><text text-anchor=\"middle\" transform=\"translate(85,28)\" style=\"font-family: Helvetica Neue, Arial; font-size: 31px; font-style: normal; font-weight: normal; fill: rgb(44, 135, 187); fill-opacity: 0.3;\">neuronal</text><text text-anchor=\"middle\" transform=\"translate(610,113)\" style=\"font-family: Helvetica Neue, Arial; font-size: 46px; font-style: normal; font-weight: normal; fill: rgb(6, 99, 155); fill-opacity: 0.3;\">sparse</text><text text-anchor=\"middle\" transform=\"translate(0,0)\" style=\"font-family: sans-serif; font-size: 0px; fill: rgb(182, 197, 223); fill-opacity: 0.3;\">effective</text><text text-anchor=\"middle\" transform=\"translate(0,0)\" style=\"font-family: sans-serif; font-size: 0px; fill: rgb(8, 105, 163); fill-opacity: 0.3;\">focal seizure</text><text text-anchor=\"middle\" transform=\"translate(0,0)\" style=\"font-family: sans-serif; font-size: 0px; fill: rgb(188, 200, 225); fill-opacity: 0.3;\">relaxation</text><text text-anchor=\"middle\" transform=\"translate(0,0)\" style=\"font-family: sans-serif; font-size: 0px; fill: rgb(182, 197, 223); fill-opacity: 0.3;\">reduce</text><text text-anchor=\"middle\" transform=\"translate(0,0)\" style=\"font-family: sans-serif; font-size: 0px; fill: rgb(164, 189, 219); fill-opacity: 0.3;\">kev kev</text><text text-anchor=\"middle\" transform=\"translate(0,0)\" style=\"font-family: sans-serif; font-size: 0px; fill: rgb(127, 174, 210); fill-opacity: 0.3;\">particle</text><text text-anchor=\"middle\" transform=\"translate(0,0)\" style=\"font-family: sans-serif; font-size: 0px; fill: rgb(158, 186, 218); fill-opacity: 0.3;\">multiscale</text><text text-anchor=\"middle\" transform=\"translate(0,0)\" style=\"font-family: sans-serif; font-size: 0px; fill: rgb(176, 194, 222); fill-opacity: 0.3;\">shift</text><text text-anchor=\"middle\" transform=\"translate(0,0)\" style=\"font-family: sans-serif; font-size: 0px; fill: rgb(154, 184, 217); fill-opacity: 0.3;\">evolutionary</text><text text-anchor=\"middle\" transform=\"translate(0,0)\" style=\"font-family: sans-serif; font-size: 0px; fill: rgb(71, 150, 195); fill-opacity: 0.3;\">senitive</text><text text-anchor=\"middle\" transform=\"translate(0,0)\" style=\"font-family: sans-serif; font-size: 0px; fill: rgb(81, 154, 198); fill-opacity: 0.3;\">decision</text><text text-anchor=\"middle\" transform=\"translate(0,0)\" style=\"font-family: sans-serif; font-size: 0px; fill: rgb(112, 168, 206); fill-opacity: 0.3;\">contextual</text><text text-anchor=\"middle\" transform=\"translate(0,0)\" style=\"font-family: sans-serif; font-size: 0px; fill: rgb(24, 122, 179); fill-opacity: 0.3;\">echinoderm</text><text text-anchor=\"middle\" transform=\"translate(0,0)\" style=\"font-family: sans-serif; font-size: 0px; fill: rgb(116, 169, 207); fill-opacity: 0.3;\">oxide</text><text text-anchor=\"middle\" transform=\"translate(0,0)\" style=\"font-family: sans-serif; font-size: 0px; fill: rgb(203, 208, 229); fill-opacity: 0.3;\">flexible</text><text text-anchor=\"middle\" transform=\"translate(0,0)\" style=\"font-family: sans-serif; font-size: 0px; fill: rgb(135, 177, 212); fill-opacity: 0.3;\">linkage</text><text text-anchor=\"middle\" transform=\"translate(0,0)\" style=\"font-family: sans-serif; font-size: 0px; fill: rgb(203, 208, 229); fill-opacity: 0.3;\">generate</text><text text-anchor=\"middle\" transform=\"translate(275,31)\" style=\"font-family: Helvetica Neue, Arial; font-size: 26px; font-style: normal; font-weight: normal; fill: rgb(84, 156, 199); fill-opacity: 0.3;\">math</text><text text-anchor=\"middle\" transform=\"translate(727,274)\" style=\"font-family: Helvetica Neue, Arial; font-size: 13px; font-style: normal; font-weight: normal; fill: rgb(203, 208, 229); fill-opacity: 0.3;\">location</text><text text-anchor=\"middle\" transform=\"translate(0,0)\" style=\"font-family: sans-serif; font-size: 0px; fill: rgb(195, 204, 227); fill-opacity: 0.3;\">interface</text><text text-anchor=\"middle\" transform=\"translate(0,0)\" style=\"font-family: sans-serif; font-size: 0px; fill: rgb(131, 175, 211); fill-opacity: 0.3;\">processing</text><text text-anchor=\"middle\" transform=\"translate(0,0)\" style=\"font-family: sans-serif; font-size: 0px; fill: rgb(99, 162, 203); fill-opacity: 0.3;\">resolution</text><text text-anchor=\"middle\" transform=\"translate(0,0)\" style=\"font-family: sans-serif; font-size: 0px; fill: rgb(127, 174, 210); fill-opacity: 0.3;\">function</text><text text-anchor=\"middle\" transform=\"translate(0,0)\" style=\"font-family: sans-serif; font-size: 0px; fill: rgb(203, 208, 229); fill-opacity: 0.3;\">stage</text><text text-anchor=\"middle\" transform=\"translate(232,333)\" style=\"font-family: Helvetica Neue, Arial; font-size: 18px; font-style: normal; font-weight: normal; fill: rgb(149, 182, 215); fill-opacity: 0.3;\">mars</text><text text-anchor=\"middle\" transform=\"translate(124,146)\" style=\"font-family: Helvetica Neue, Arial; font-size: 21px; font-style: normal; font-weight: normal; fill: rgb(124, 172, 209); fill-opacity: 0.3;\">ion</text><text text-anchor=\"middle\" transform=\"translate(0,0)\" style=\"font-family: sans-serif; font-size: 0px; fill: rgb(154, 184, 217); fill-opacity: 0.3;\">measured</text><text text-anchor=\"middle\" transform=\"translate(0,0)\" style=\"font-family: sans-serif; font-size: 0px; fill: rgb(109, 166, 205); fill-opacity: 0.3;\">matter</text><text text-anchor=\"middle\" transform=\"translate(0,0)\" style=\"font-family: sans-serif; font-size: 0px; fill: rgb(195, 204, 227); fill-opacity: 0.3;\">recently</text><text text-anchor=\"middle\" transform=\"translate(0,0)\" style=\"font-family: sans-serif; font-size: 0px; fill: rgb(164, 189, 219); fill-opacity: 0.3;\">calibration nuclear</text><text text-anchor=\"middle\" transform=\"translate(0,0)\" style=\"font-family: sans-serif; font-size: 0px; fill: rgb(158, 186, 218); fill-opacity: 0.3;\">driven</text><text text-anchor=\"middle\" transform=\"translate(0,0)\" style=\"font-family: sans-serif; font-size: 0px; fill: rgb(170, 192, 220); fill-opacity: 0.3;\">facilitate</text><text text-anchor=\"middle\" transform=\"translate(0,0)\" style=\"font-family: sans-serif; font-size: 0px; fill: rgb(188, 200, 225); fill-opacity: 0.3;\">underground xenon lux</text><text text-anchor=\"middle\" transform=\"translate(0,0)\" style=\"font-family: sans-serif; font-size: 0px; fill: rgb(203, 208, 229); fill-opacity: 0.3;\">remain</text><text text-anchor=\"middle\" transform=\"translate(827,25)\" style=\"font-family: Helvetica Neue, Arial; font-size: 27px; font-style: normal; font-weight: normal; fill: rgb(76, 152, 197); fill-opacity: 0.3;\">surface</text><text text-anchor=\"middle\" transform=\"translate(605,83)\" style=\"font-family: Helvetica Neue, Arial; font-size: 26px; font-style: normal; font-weight: normal; fill: rgb(78, 153, 198); fill-opacity: 0.3;\">sea urchin</text><text text-anchor=\"middle\" transform=\"translate(0,0)\" style=\"font-family: sans-serif; font-size: 0px; fill: rgb(149, 182, 215); fill-opacity: 0.3;\">scattering</text><text text-anchor=\"middle\" transform=\"translate(0,0)\" style=\"font-family: sans-serif; font-size: 0px; fill: rgb(92, 160, 201); fill-opacity: 0.3;\">strike</text><text text-anchor=\"middle\" transform=\"translate(0,0)\" style=\"font-family: sans-serif; font-size: 0px; fill: rgb(95, 161, 202); fill-opacity: 0.3;\">sea star</text><text text-anchor=\"middle\" transform=\"translate(0,0)\" style=\"font-family: sans-serif; font-size: 0px; fill: rgb(124, 172, 209); fill-opacity: 0.3;\">matter experiment</text><text text-anchor=\"middle\" transform=\"translate(0,0)\" style=\"font-family: sans-serif; font-size: 0px; fill: rgb(158, 186, 218); fill-opacity: 0.3;\">comparison</text><text text-anchor=\"middle\" transform=\"translate(179,12)\" style=\"font-family: Helvetica Neue, Arial; font-size: 13px; font-style: normal; font-weight: normal; fill: rgb(203, 208, 229); fill-opacity: 0.3;\">capture</text><text text-anchor=\"middle\" transform=\"translate(0,0)\" style=\"font-family: sans-serif; font-size: 0px; fill: rgb(149, 182, 215); fill-opacity: 0.3;\">based</text><text text-anchor=\"middle\" transform=\"translate(0,0)\" style=\"font-family: sans-serif; font-size: 0px; fill: rgb(73, 151, 196); fill-opacity: 0.3;\">crassostreae</text><text text-anchor=\"middle\" transform=\"translate(0,0)\" style=\"font-family: sans-serif; font-size: 0px; fill: rgb(105, 165, 205); fill-opacity: 0.3;\">artificial</text><text text-anchor=\"middle\" transform=\"translate(0,0)\" style=\"font-family: sans-serif; font-size: 0px; fill: rgb(195, 204, 227); fill-opacity: 0.3;\">contant</text><text text-anchor=\"middle\" transform=\"translate(0,0)\" style=\"font-family: sans-serif; font-size: 0px; fill: rgb(81, 154, 198); fill-opacity: 0.3;\">cortex</text><text text-anchor=\"middle\" transform=\"translate(0,0)\" style=\"font-family: sans-serif; font-size: 0px; fill: rgb(210, 213, 232); fill-opacity: 0.3;\">appear</text><text text-anchor=\"middle\" transform=\"translate(407,310)\" style=\"font-family: Helvetica Neue, Arial; font-size: 31px; font-style: normal; font-weight: normal; fill: rgb(45, 136, 188); fill-opacity: 0.3;\">deep</text><text text-anchor=\"middle\" transform=\"translate(541,323)\" style=\"font-family: Helvetica Neue, Arial; font-size: 25px; font-style: normal; font-weight: normal; fill: rgb(87, 157, 200); fill-opacity: 0.3;\">oxygen</text><text text-anchor=\"middle\" transform=\"translate(290,87)\" style=\"font-family: Helvetica Neue, Arial; font-size: 16px; font-style: normal; font-weight: normal; fill: rgb(170, 192, 220); fill-opacity: 0.3;\">fold</text><text text-anchor=\"middle\" transform=\"translate(0,0)\" style=\"font-family: sans-serif; font-size: 0px; fill: rgb(170, 192, 220); fill-opacity: 0.3;\">preliminary</text><text text-anchor=\"middle\" transform=\"translate(506,339)\" style=\"font-family: Helvetica Neue, Arial; font-size: 12px; font-style: normal; font-weight: normal; fill: rgb(219, 218, 235); fill-opacity: 0.3;\">online</text><text text-anchor=\"middle\" transform=\"translate(0,0)\" style=\"font-family: sans-serif; font-size: 0px; fill: rgb(14, 114, 173); fill-opacity: 0.3;\">electrocatalyst</text><text text-anchor=\"middle\" transform=\"translate(0,0)\" style=\"font-family: sans-serif; font-size: 0px; fill: rgb(149, 182, 215); fill-opacity: 0.3;\">multiple</text><text text-anchor=\"middle\" transform=\"translate(0,0)\" style=\"font-family: sans-serif; font-size: 0px; fill: rgb(170, 192, 220); fill-opacity: 0.3;\">equation</text><text text-anchor=\"middle\" transform=\"translate(0,0)\" style=\"font-family: sans-serif; font-size: 0px; fill: rgb(203, 208, 229); fill-opacity: 0.3;\">light</text><text text-anchor=\"middle\" transform=\"translate(0,0)\" style=\"font-family: sans-serif; font-size: 0px; fill: rgb(195, 204, 227); fill-opacity: 0.3;\">observed</text><text text-anchor=\"middle\" transform=\"translate(0,0)\" style=\"font-family: sans-serif; font-size: 0px; fill: rgb(55, 142, 191); fill-opacity: 0.3;\">learning</text><text text-anchor=\"middle\" transform=\"translate(0,0)\" style=\"font-family: sans-serif; font-size: 0px; fill: rgb(176, 194, 222); fill-opacity: 0.3;\">stimuli</text><text text-anchor=\"middle\" transform=\"translate(0,0)\" style=\"font-family: sans-serif; font-size: 0px; fill: rgb(109, 166, 205); fill-opacity: 0.3;\">reinforcement</text><text text-anchor=\"middle\" transform=\"translate(0,0)\" style=\"font-family: sans-serif; font-size: 0px; fill: rgb(188, 200, 225); fill-opacity: 0.3;\">decay</text><text text-anchor=\"middle\" transform=\"translate(0,0)\" style=\"font-family: sans-serif; font-size: 0px; fill: rgb(131, 175, 211); fill-opacity: 0.3;\">activity</text><text text-anchor=\"middle\" transform=\"translate(0,0)\" style=\"font-family: sans-serif; font-size: 0px; fill: rgb(188, 200, 225); fill-opacity: 0.3;\">degree</text><text text-anchor=\"middle\" transform=\"translate(0,0)\" style=\"font-family: sans-serif; font-size: 0px; fill: rgb(112, 168, 206); fill-opacity: 0.3;\">illusion</text><text text-anchor=\"middle\" transform=\"translate(0,0)\" style=\"font-family: sans-serif; font-size: 0px; fill: rgb(149, 182, 215); fill-opacity: 0.3;\">reaction</text><text text-anchor=\"middle\" transform=\"translate(0,0)\" style=\"font-family: sans-serif; font-size: 0px; fill: rgb(182, 197, 223); fill-opacity: 0.3;\">healthy</text><text text-anchor=\"middle\" transform=\"translate(0,0)\" style=\"font-family: sans-serif; font-size: 0px; fill: rgb(176, 194, 222); fill-opacity: 0.3;\">circuit</text><text text-anchor=\"middle\" transform=\"translate(0,0)\" style=\"font-family: sans-serif; font-size: 0px; fill: rgb(109, 166, 205); fill-opacity: 0.3;\">tranfer</text><text text-anchor=\"middle\" transform=\"translate(197,144)\" style=\"font-family: Helvetica Neue, Arial; font-size: 24px; font-style: normal; font-weight: normal; fill: rgb(99, 162, 203); fill-opacity: 0.3;\">neural</text><text text-anchor=\"middle\" transform=\"translate(73,306)\" style=\"font-family: Helvetica Neue, Arial; font-size: 30px; font-style: normal; font-weight: normal; fill: rgb(50, 139, 190); fill-opacity: 0.3;\">pathway</text><text text-anchor=\"middle\" transform=\"translate(0,0)\" style=\"font-family: sans-serif; font-size: 0px; fill: rgb(158, 186, 218); fill-opacity: 0.3;\">electron</text><text text-anchor=\"middle\" transform=\"translate(0,0)\" style=\"font-family: sans-serif; font-size: 0px; fill: rgb(164, 189, 219); fill-opacity: 0.3;\">organism</text><text text-anchor=\"middle\" transform=\"translate(0,0)\" style=\"font-family: sans-serif; font-size: 0px; fill: rgb(131, 175, 211); fill-opacity: 0.3;\">adaptation</text><text text-anchor=\"middle\" transform=\"translate(0,0)\" style=\"font-family: sans-serif; font-size: 0px; fill: rgb(84, 156, 199); fill-opacity: 0.3;\">matter particle</text><text text-anchor=\"middle\" transform=\"translate(34,120)\" style=\"font-family: Helvetica Neue, Arial; font-size: 25px; font-style: normal; font-weight: normal; fill: rgb(92, 160, 201); fill-opacity: 0.3;\">eeg</text><text text-anchor=\"middle\" transform=\"translate(0,0)\" style=\"font-family: sans-serif; font-size: 0px; fill: rgb(124, 172, 209); fill-opacity: 0.3;\">vision</text><text text-anchor=\"middle\" transform=\"translate(0,0)\" style=\"font-family: sans-serif; font-size: 0px; fill: rgb(124, 172, 209); fill-opacity: 0.3;\">intermediate</text><text text-anchor=\"middle\" transform=\"translate(0,0)\" style=\"font-family: sans-serif; font-size: 0px; fill: rgb(195, 204, 227); fill-opacity: 0.3;\">suggesting</text><text text-anchor=\"middle\" transform=\"translate(0,0)\" style=\"font-family: sans-serif; font-size: 0px; fill: rgb(139, 178, 213); fill-opacity: 0.3;\">resistant</text><text text-anchor=\"middle\" transform=\"translate(0,0)\" style=\"font-family: sans-serif; font-size: 0px; fill: rgb(219, 218, 235); fill-opacity: 0.3;\">indicating</text><text text-anchor=\"middle\" transform=\"translate(0,0)\" style=\"font-family: sans-serif; font-size: 0px; fill: rgb(188, 200, 225); fill-opacity: 0.3;\">chamber</text><text text-anchor=\"middle\" transform=\"translate(0,0)\" style=\"font-family: sans-serif; font-size: 0px; fill: rgb(182, 197, 223); fill-opacity: 0.3;\">vivo</text><text text-anchor=\"middle\" transform=\"translate(0,0)\" style=\"font-family: sans-serif; font-size: 0px; fill: rgb(170, 192, 220); fill-opacity: 0.3;\">using</text><text text-anchor=\"middle\" transform=\"translate(345,273)\" style=\"font-family: Helvetica Neue, Arial; font-size: 14px; font-style: normal; font-weight: normal; fill: rgb(195, 204, 227); fill-opacity: 0.3;\">ray</text><text text-anchor=\"middle\" transform=\"translate(0,0)\" style=\"font-family: sans-serif; font-size: 0px; fill: rgb(176, 194, 222); fill-opacity: 0.3;\">denity functional</text><text text-anchor=\"middle\" transform=\"translate(182,326)\" style=\"font-family: Helvetica Neue, Arial; font-size: 23px; font-style: normal; font-weight: normal; fill: rgb(102, 163, 204); fill-opacity: 0.3;\">ms</text><text text-anchor=\"middle\" transform=\"translate(0,0)\" style=\"font-family: sans-serif; font-size: 0px; fill: rgb(11, 112, 171); fill-opacity: 0.3;\">single neuron</text><text text-anchor=\"middle\" transform=\"translate(358,157)\" style=\"font-family: Helvetica Neue, Arial; font-size: 18px; font-style: normal; font-weight: normal; fill: rgb(149, 182, 215); fill-opacity: 0.3;\">form</text><text text-anchor=\"middle\" transform=\"translate(0,0)\" style=\"font-family: sans-serif; font-size: 0px; fill: rgb(149, 182, 215); fill-opacity: 0.3;\">peak</text><text text-anchor=\"middle\" transform=\"translate(0,0)\" style=\"font-family: sans-serif; font-size: 0px; fill: rgb(120, 171, 208); fill-opacity: 0.3;\">reducible</text><text text-anchor=\"middle\" transform=\"translate(0,0)\" style=\"font-family: sans-serif; font-size: 0px; fill: rgb(84, 156, 199); fill-opacity: 0.3;\">math processing</text><text text-anchor=\"middle\" transform=\"translate(0,0)\" style=\"font-family: sans-serif; font-size: 0px; fill: rgb(170, 192, 220); fill-opacity: 0.3;\">electric</text><text text-anchor=\"middle\" transform=\"translate(196,39)\" style=\"font-family: Helvetica Neue, Arial; font-size: 41px; font-style: normal; font-weight: normal; fill: rgb(10, 109, 167); fill-opacity: 0.3;\">wave</text><text text-anchor=\"middle\" transform=\"translate(246,88)\" style=\"font-family: Helvetica Neue, Arial; font-size: 15px; font-style: normal; font-weight: normal; fill: rgb(182, 197, 223); fill-opacity: 0.3;\">real</text><text text-anchor=\"middle\" transform=\"translate(0,0)\" style=\"font-family: sans-serif; font-size: 0px; fill: rgb(182, 197, 223); fill-opacity: 0.3;\">experimental</text><text text-anchor=\"middle\" transform=\"translate(0,0)\" style=\"font-family: sans-serif; font-size: 0px; fill: rgb(176, 194, 222); fill-opacity: 0.3;\">increase</text><text text-anchor=\"middle\" transform=\"translate(0,0)\" style=\"font-family: sans-serif; font-size: 0px; fill: rgb(112, 168, 206); fill-opacity: 0.3;\">extra classical</text><text text-anchor=\"middle\" transform=\"translate(0,0)\" style=\"font-family: sans-serif; font-size: 0px; fill: rgb(203, 208, 229); fill-opacity: 0.3;\">ionization</text><text text-anchor=\"middle\" transform=\"translate(0,0)\" style=\"font-family: sans-serif; font-size: 0px; fill: rgb(158, 186, 218); fill-opacity: 0.3;\">reduce alcohol</text><text text-anchor=\"middle\" transform=\"translate(0,0)\" style=\"font-family: sans-serif; font-size: 0px; fill: rgb(158, 186, 218); fill-opacity: 0.3;\">underground xenon</text><text text-anchor=\"middle\" transform=\"translate(0,0)\" style=\"font-family: sans-serif; font-size: 0px; fill: rgb(135, 177, 212); fill-opacity: 0.3;\">limit</text><text text-anchor=\"middle\" transform=\"translate(0,0)\" style=\"font-family: sans-serif; font-size: 0px; fill: rgb(164, 189, 219); fill-opacity: 0.3;\">barriers</text><text text-anchor=\"middle\" transform=\"translate(0,0)\" style=\"font-family: sans-serif; font-size: 0px; fill: rgb(127, 174, 210); fill-opacity: 0.3;\">measure</text><text text-anchor=\"middle\" transform=\"translate(0,0)\" style=\"font-family: sans-serif; font-size: 0px; fill: rgb(158, 186, 218); fill-opacity: 0.3;\">health</text><text text-anchor=\"middle\" transform=\"translate(0,0)\" style=\"font-family: sans-serif; font-size: 0px; fill: rgb(112, 168, 206); fill-opacity: 0.3;\">charge</text><text text-anchor=\"middle\" transform=\"translate(0,0)\" style=\"font-family: sans-serif; font-size: 0px; fill: rgb(149, 182, 215); fill-opacity: 0.3;\">parasitic</text><text text-anchor=\"middle\" transform=\"translate(0,0)\" style=\"font-family: sans-serif; font-size: 0px; fill: rgb(203, 208, 229); fill-opacity: 0.3;\">included</text><text text-anchor=\"middle\" transform=\"translate(0,0)\" style=\"font-family: sans-serif; font-size: 0px; fill: rgb(92, 160, 201); fill-opacity: 0.3;\">nuclear recoil</text><text text-anchor=\"middle\" transform=\"translate(0,0)\" style=\"font-family: sans-serif; font-size: 0px; fill: rgb(154, 184, 217); fill-opacity: 0.3;\">algorithm</text><text text-anchor=\"middle\" transform=\"translate(0,0)\" style=\"font-family: sans-serif; font-size: 0px; fill: rgb(144, 180, 214); fill-opacity: 0.3;\">sampling</text><text text-anchor=\"middle\" transform=\"translate(0,0)\" style=\"font-family: sans-serif; font-size: 0px; fill: rgb(99, 162, 203); fill-opacity: 0.3;\">application</text><text text-anchor=\"middle\" transform=\"translate(0,0)\" style=\"font-family: sans-serif; font-size: 0px; fill: rgb(116, 169, 207); fill-opacity: 0.3;\">host</text><text text-anchor=\"middle\" transform=\"translate(774,326)\" style=\"font-family: Helvetica Neue, Arial; font-size: 25px; font-style: normal; font-weight: normal; fill: rgb(92, 160, 201); fill-opacity: 0.3;\">biology</text><text text-anchor=\"middle\" transform=\"translate(389,178)\" style=\"font-family: Helvetica Neue, Arial; font-size: 14px; font-style: normal; font-weight: normal; fill: rgb(188, 200, 225); fill-opacity: 0.3;\">p</text><text text-anchor=\"middle\" transform=\"translate(0,0)\" style=\"font-family: sans-serif; font-size: 0px; fill: rgb(144, 180, 214); fill-opacity: 0.3;\">extended</text><text text-anchor=\"middle\" transform=\"translate(0,0)\" style=\"font-family: sans-serif; font-size: 0px; fill: rgb(14, 114, 173); fill-opacity: 0.3;\">co reduction</text><text text-anchor=\"middle\" transform=\"translate(0,0)\" style=\"font-family: sans-serif; font-size: 0px; fill: rgb(92, 160, 201); fill-opacity: 0.3;\">timing</text><text text-anchor=\"middle\" transform=\"translate(0,0)\" style=\"font-family: sans-serif; font-size: 0px; fill: rgb(195, 204, 227); fill-opacity: 0.3;\">shear</text><text text-anchor=\"middle\" transform=\"translate(0,0)\" style=\"font-family: sans-serif; font-size: 0px; fill: rgb(135, 177, 212); fill-opacity: 0.3;\">deoxygenation</text><text text-anchor=\"middle\" transform=\"translate(0,0)\" style=\"font-family: sans-serif; font-size: 0px; fill: rgb(203, 208, 229); fill-opacity: 0.3;\">component</text><text text-anchor=\"middle\" transform=\"translate(0,0)\" style=\"font-family: sans-serif; font-size: 0px; fill: rgb(127, 174, 210); fill-opacity: 0.3;\">effect</text><text text-anchor=\"middle\" transform=\"translate(0,0)\" style=\"font-family: sans-serif; font-size: 0px; fill: rgb(158, 186, 218); fill-opacity: 0.3;\">return investment</text><text text-anchor=\"middle\" transform=\"translate(0,0)\" style=\"font-family: sans-serif; font-size: 0px; fill: rgb(176, 194, 222); fill-opacity: 0.3;\">handle</text><text text-anchor=\"middle\" transform=\"translate(0,0)\" style=\"font-family: sans-serif; font-size: 0px; fill: rgb(195, 204, 227); fill-opacity: 0.3;\">quality</text><text text-anchor=\"middle\" transform=\"translate(580,147)\" style=\"font-family: Helvetica Neue, Arial; font-size: 30px; font-style: normal; font-weight: normal; fill: rgb(54, 141, 191); fill-opacity: 0.3;\">bar</text><text text-anchor=\"middle\" transform=\"translate(0,0)\" style=\"font-family: sans-serif; font-size: 0px; fill: rgb(210, 213, 232); fill-opacity: 0.3;\">beyond</text><text text-anchor=\"middle\" transform=\"translate(366,328)\" style=\"font-family: Helvetica Neue, Arial; font-size: 23px; font-style: normal; font-weight: normal; fill: rgb(105, 165, 205); fill-opacity: 0.3;\">gene</text><text text-anchor=\"middle\" transform=\"translate(0,0)\" style=\"font-family: sans-serif; font-size: 0px; fill: rgb(182, 197, 223); fill-opacity: 0.3;\">software</text><text text-anchor=\"middle\" transform=\"translate(0,0)\" style=\"font-family: sans-serif; font-size: 0px; fill: rgb(195, 204, 227); fill-opacity: 0.3;\">contrained</text><text text-anchor=\"middle\" transform=\"translate(0,0)\" style=\"font-family: sans-serif; font-size: 0px; fill: rgb(176, 194, 222); fill-opacity: 0.3;\">delocalization</text><text text-anchor=\"middle\" transform=\"translate(0,0)\" style=\"font-family: sans-serif; font-size: 0px; fill: rgb(95, 161, 202); fill-opacity: 0.3;\">computational model</text><text text-anchor=\"middle\" transform=\"translate(0,0)\" style=\"font-family: sans-serif; font-size: 0px; fill: rgb(135, 177, 212); fill-opacity: 0.3;\">treatment</text><text text-anchor=\"middle\" transform=\"translate(0,0)\" style=\"font-family: sans-serif; font-size: 0px; fill: rgb(182, 197, 223); fill-opacity: 0.3;\">role</text><text text-anchor=\"middle\" transform=\"translate(0,0)\" style=\"font-family: sans-serif; font-size: 0px; fill: rgb(135, 177, 212); fill-opacity: 0.3;\">mechanism</text><text text-anchor=\"middle\" transform=\"translate(0,0)\" style=\"font-family: sans-serif; font-size: 0px; fill: rgb(170, 192, 220); fill-opacity: 0.3;\">kinematics</text><text text-anchor=\"middle\" transform=\"translate(0,0)\" style=\"font-family: sans-serif; font-size: 0px; fill: rgb(203, 208, 229); fill-opacity: 0.3;\">investigate</text><text text-anchor=\"middle\" transform=\"translate(182,177)\" style=\"font-family: Helvetica Neue, Arial; font-size: 46px; font-style: normal; font-weight: normal; fill: rgb(6, 100, 157); fill-opacity: 0.3;\">hydrogen</text><text text-anchor=\"middle\" transform=\"translate(0,0)\" style=\"font-family: sans-serif; font-size: 0px; fill: rgb(78, 153, 198); fill-opacity: 0.3;\">human</text><text text-anchor=\"middle\" transform=\"translate(0,0)\" style=\"font-family: sans-serif; font-size: 0px; fill: rgb(210, 213, 232); fill-opacity: 0.3;\">leading</text><text text-anchor=\"middle\" transform=\"translate(0,0)\" style=\"font-family: sans-serif; font-size: 0px; fill: rgb(176, 194, 222); fill-opacity: 0.3;\">white</text><text text-anchor=\"middle\" transform=\"translate(0,0)\" style=\"font-family: sans-serif; font-size: 0px; fill: rgb(210, 213, 232); fill-opacity: 0.3;\">develop</text><text text-anchor=\"middle\" transform=\"translate(0,0)\" style=\"font-family: sans-serif; font-size: 0px; fill: rgb(81, 154, 198); fill-opacity: 0.3;\">neutron</text><text text-anchor=\"middle\" transform=\"translate(0,0)\" style=\"font-family: sans-serif; font-size: 0px; fill: rgb(135, 177, 212); fill-opacity: 0.3;\">neural network</text><text text-anchor=\"middle\" transform=\"translate(0,0)\" style=\"font-family: sans-serif; font-size: 0px; fill: rgb(210, 213, 232); fill-opacity: 0.3;\">animal</text><text text-anchor=\"middle\" transform=\"translate(0,0)\" style=\"font-family: sans-serif; font-size: 0px; fill: rgb(135, 177, 212); fill-opacity: 0.3;\">bar linkage</text><text text-anchor=\"middle\" transform=\"translate(0,0)\" style=\"font-family: sans-serif; font-size: 0px; fill: rgb(188, 200, 225); fill-opacity: 0.3;\">average</text><text text-anchor=\"middle\" transform=\"translate(0,0)\" style=\"font-family: sans-serif; font-size: 0px; fill: rgb(195, 204, 227); fill-opacity: 0.3;\">object</text><text text-anchor=\"middle\" transform=\"translate(0,0)\" style=\"font-family: sans-serif; font-size: 0px; fill: rgb(195, 204, 227); fill-opacity: 0.3;\">bone</text><text text-anchor=\"middle\" transform=\"translate(0,0)\" style=\"font-family: sans-serif; font-size: 0px; fill: rgb(78, 153, 198); fill-opacity: 0.3;\">machine</text><text text-anchor=\"middle\" transform=\"translate(61,155)\" style=\"font-family: Helvetica Neue, Arial; font-size: 29px; font-style: normal; font-weight: normal; fill: rgb(59, 145, 192); fill-opacity: 0.3;\">cost</text><text text-anchor=\"middle\" transform=\"translate(0,0)\" style=\"font-family: sans-serif; font-size: 0px; fill: rgb(164, 189, 219); fill-opacity: 0.3;\">behavior</text><text text-anchor=\"middle\" transform=\"translate(0,0)\" style=\"font-family: sans-serif; font-size: 0px; fill: rgb(124, 172, 209); fill-opacity: 0.3;\">nuclear</text><text text-anchor=\"middle\" transform=\"translate(784,302)\" style=\"font-family: Helvetica Neue, Arial; font-size: 43px; font-style: normal; font-weight: normal; fill: rgb(8, 105, 163); fill-opacity: 0.3;\">seizure</text><text text-anchor=\"middle\" transform=\"translate(0,0)\" style=\"font-family: sans-serif; font-size: 0px; fill: rgb(188, 200, 225); fill-opacity: 0.3;\">essential</text><text text-anchor=\"middle\" transform=\"translate(0,0)\" style=\"font-family: sans-serif; font-size: 0px; fill: rgb(144, 180, 214); fill-opacity: 0.3;\">immune</text><text text-anchor=\"middle\" transform=\"translate(854,51)\" style=\"font-family: Helvetica Neue, Arial; font-size: 20px; font-style: normal; font-weight: normal; fill: rgb(135, 177, 212); fill-opacity: 0.3;\">cbt</text><text text-anchor=\"middle\" transform=\"translate(0,0)\" style=\"font-family: sans-serif; font-size: 0px; fill: rgb(149, 182, 215); fill-opacity: 0.3;\">stable</text><text text-anchor=\"middle\" transform=\"translate(0,0)\" style=\"font-family: sans-serif; font-size: 0px; fill: rgb(188, 200, 225); fill-opacity: 0.3;\">variable</text><text text-anchor=\"middle\" transform=\"translate(0,0)\" style=\"font-family: sans-serif; font-size: 0px; fill: rgb(149, 182, 215); fill-opacity: 0.3;\">calibration</text><text text-anchor=\"middle\" transform=\"translate(0,0)\" style=\"font-family: sans-serif; font-size: 0px; fill: rgb(210, 213, 232); fill-opacity: 0.3;\">individual</text><text text-anchor=\"middle\" transform=\"translate(395,63)\" style=\"font-family: Helvetica Neue, Arial; font-size: 13px; font-style: normal; font-weight: normal; fill: rgb(203, 208, 229); fill-opacity: 0.3;\">conider</text><text text-anchor=\"middle\" transform=\"translate(0,0)\" style=\"font-family: sans-serif; font-size: 0px; fill: rgb(154, 184, 217); fill-opacity: 0.3;\">accuracy</text><text text-anchor=\"middle\" transform=\"translate(0,0)\" style=\"font-family: sans-serif; font-size: 0px; fill: rgb(144, 180, 214); fill-opacity: 0.3;\">processes</text><text text-anchor=\"middle\" transform=\"translate(0,0)\" style=\"font-family: sans-serif; font-size: 0px; fill: rgb(84, 156, 199); fill-opacity: 0.3;\">math processing error</text><text text-anchor=\"middle\" transform=\"translate(0,0)\" style=\"font-family: sans-serif; font-size: 0px; fill: rgb(164, 189, 219); fill-opacity: 0.3;\">search</text><text text-anchor=\"middle\" transform=\"translate(0,0)\" style=\"font-family: sans-serif; font-size: 0px; fill: rgb(144, 180, 214); fill-opacity: 0.3;\">monte carlo</text><text text-anchor=\"middle\" transform=\"translate(0,0)\" style=\"font-family: sans-serif; font-size: 0px; fill: rgb(120, 171, 208); fill-opacity: 0.3;\">categorization</text><text text-anchor=\"middle\" transform=\"translate(0,0)\" style=\"font-family: sans-serif; font-size: 0px; fill: rgb(170, 192, 220); fill-opacity: 0.3;\">dual phase</text><text text-anchor=\"middle\" transform=\"translate(0,0)\" style=\"font-family: sans-serif; font-size: 0px; fill: rgb(182, 197, 223); fill-opacity: 0.3;\">contribution</text><text text-anchor=\"middle\" transform=\"translate(863,268)\" style=\"font-family: Helvetica Neue, Arial; font-size: 22px; font-style: normal; font-weight: normal; fill: rgb(112, 168, 206); fill-opacity: 0.3;\">core</text><text text-anchor=\"middle\" transform=\"translate(0,0)\" style=\"font-family: sans-serif; font-size: 0px; fill: rgb(109, 166, 205); fill-opacity: 0.3;\">dynamic</text><text text-anchor=\"middle\" transform=\"translate(849,103)\" style=\"font-family: Helvetica Neue, Arial; font-size: 29px; font-style: normal; font-weight: normal; fill: rgb(61, 146, 193); fill-opacity: 0.3;\">age</text><text text-anchor=\"middle\" transform=\"translate(0,0)\" style=\"font-family: sans-serif; font-size: 0px; fill: rgb(170, 192, 220); fill-opacity: 0.3;\">systematic</text><text text-anchor=\"middle\" transform=\"translate(0,0)\" style=\"font-family: sans-serif; font-size: 0px; fill: rgb(92, 160, 201); fill-opacity: 0.3;\">natural scene</text><text text-anchor=\"middle\" transform=\"translate(0,0)\" style=\"font-family: sans-serif; font-size: 0px; fill: rgb(139, 178, 213); fill-opacity: 0.3;\">obligate</text><text text-anchor=\"middle\" transform=\"translate(0,0)\" style=\"font-family: sans-serif; font-size: 0px; fill: rgb(182, 197, 223); fill-opacity: 0.3;\">minimum</text><text text-anchor=\"middle\" transform=\"translate(0,0)\" style=\"font-family: sans-serif; font-size: 0px; fill: rgb(144, 180, 214); fill-opacity: 0.3;\">properties</text><text text-anchor=\"middle\" transform=\"translate(0,0)\" style=\"font-family: sans-serif; font-size: 0px; fill: rgb(116, 169, 207); fill-opacity: 0.3;\">economic</text><text text-anchor=\"middle\" transform=\"translate(0,0)\" style=\"font-family: sans-serif; font-size: 0px; fill: rgb(188, 200, 225); fill-opacity: 0.3;\">volume</text><text text-anchor=\"middle\" transform=\"translate(0,0)\" style=\"font-family: sans-serif; font-size: 0px; fill: rgb(120, 171, 208); fill-opacity: 0.3;\">deep learning</text><text text-anchor=\"middle\" transform=\"translate(0,0)\" style=\"font-family: sans-serif; font-size: 0px; fill: rgb(164, 189, 219); fill-opacity: 0.3;\">specific</text><text text-anchor=\"middle\" transform=\"translate(0,0)\" style=\"font-family: sans-serif; font-size: 0px; fill: rgb(158, 186, 218); fill-opacity: 0.3;\">cognitive behavioral</text><text text-anchor=\"middle\" transform=\"translate(0,0)\" style=\"font-family: sans-serif; font-size: 0px; fill: rgb(203, 208, 229); fill-opacity: 0.3;\">biomechanical</text><text text-anchor=\"middle\" transform=\"translate(0,0)\" style=\"font-family: sans-serif; font-size: 0px; fill: rgb(195, 204, 227); fill-opacity: 0.3;\">level</text><text text-anchor=\"middle\" transform=\"translate(0,0)\" style=\"font-family: sans-serif; font-size: 0px; fill: rgb(219, 218, 235); fill-opacity: 0.3;\">paper</text><text text-anchor=\"middle\" transform=\"translate(0,0)\" style=\"font-family: sans-serif; font-size: 0px; fill: rgb(105, 165, 205); fill-opacity: 0.3;\">deep network</text><text text-anchor=\"middle\" transform=\"translate(357,38)\" style=\"font-family: Helvetica Neue, Arial; font-size: 17px; font-style: normal; font-weight: normal; fill: rgb(164, 189, 219); fill-opacity: 0.3;\">low</text><text text-anchor=\"middle\" transform=\"translate(260,203)\" style=\"font-family: Helvetica Neue, Arial; font-size: 27px; font-style: normal; font-weight: normal; fill: rgb(71, 150, 195); fill-opacity: 0.3;\">hiv</text><text text-anchor=\"middle\" transform=\"translate(0,0)\" style=\"font-family: sans-serif; font-size: 0px; fill: rgb(131, 175, 211); fill-opacity: 0.3;\">event</text><text text-anchor=\"middle\" transform=\"translate(0,0)\" style=\"font-family: sans-serif; font-size: 0px; fill: rgb(127, 174, 210); fill-opacity: 0.3;\">tracking</text><text text-anchor=\"middle\" transform=\"translate(700,156)\" style=\"font-family: Helvetica Neue, Arial; font-size: 45px; font-style: normal; font-weight: normal; fill: rgb(7, 101, 158); fill-opacity: 0.3;\">ablation</text><text text-anchor=\"middle\" transform=\"translate(0,0)\" style=\"font-family: sans-serif; font-size: 0px; fill: rgb(139, 178, 213); fill-opacity: 0.3;\">helicosporidium genome</text><text text-anchor=\"middle\" transform=\"translate(195,308)\" style=\"font-family: Helvetica Neue, Arial; font-size: 41px; font-style: normal; font-weight: normal; fill: rgb(10, 109, 168); fill-opacity: 0.3;\">spiking</text><text text-anchor=\"middle\" transform=\"translate(0,0)\" style=\"font-family: sans-serif; font-size: 0px; fill: rgb(210, 213, 232); fill-opacity: 0.3;\">excellent</text><text text-anchor=\"middle\" transform=\"translate(0,0)\" style=\"font-family: sans-serif; font-size: 0px; fill: rgb(87, 157, 200); fill-opacity: 0.3;\">opercular mechanism</text><text text-anchor=\"middle\" transform=\"translate(0,0)\" style=\"font-family: sans-serif; font-size: 0px; fill: rgb(84, 156, 199); fill-opacity: 0.3;\">stochastic</text><text text-anchor=\"middle\" transform=\"translate(0,0)\" style=\"font-family: sans-serif; font-size: 0px; fill: rgb(149, 182, 215); fill-opacity: 0.3;\">shape</text><text text-anchor=\"middle\" transform=\"translate(0,0)\" style=\"font-family: sans-serif; font-size: 0px; fill: rgb(188, 200, 225); fill-opacity: 0.3;\">time projection</text><text text-anchor=\"middle\" transform=\"translate(0,0)\" style=\"font-family: sans-serif; font-size: 0px; fill: rgb(170, 192, 220); fill-opacity: 0.3;\">structural</text><text text-anchor=\"middle\" transform=\"translate(0,0)\" style=\"font-family: sans-serif; font-size: 0px; fill: rgb(176, 194, 222); fill-opacity: 0.3;\">dependence</text><text text-anchor=\"middle\" transform=\"translate(0,0)\" style=\"font-family: sans-serif; font-size: 0px; fill: rgb(176, 194, 222); fill-opacity: 0.3;\">matrix</text><text text-anchor=\"middle\" transform=\"translate(0,0)\" style=\"font-family: sans-serif; font-size: 0px; fill: rgb(124, 172, 209); fill-opacity: 0.3;\">leaves</text><text text-anchor=\"middle\" transform=\"translate(0,0)\" style=\"font-family: sans-serif; font-size: 0px; fill: rgb(139, 178, 213); fill-opacity: 0.3;\">population</text><text text-anchor=\"middle\" transform=\"translate(0,0)\" style=\"font-family: sans-serif; font-size: 0px; fill: rgb(170, 192, 220); fill-opacity: 0.3;\">hypothesis</text><text text-anchor=\"middle\" transform=\"translate(0,0)\" style=\"font-family: sans-serif; font-size: 0px; fill: rgb(170, 192, 220); fill-opacity: 0.3;\">interaction</text><text text-anchor=\"middle\" transform=\"translate(0,0)\" style=\"font-family: sans-serif; font-size: 0px; fill: rgb(219, 218, 235); fill-opacity: 0.3;\">resulting</text><text text-anchor=\"middle\" transform=\"translate(0,0)\" style=\"font-family: sans-serif; font-size: 0px; fill: rgb(176, 194, 222); fill-opacity: 0.3;\">requires</text><text text-anchor=\"middle\" transform=\"translate(0,0)\" style=\"font-family: sans-serif; font-size: 0px; fill: rgb(64, 147, 194); fill-opacity: 0.3;\">lifetime</text><text text-anchor=\"middle\" transform=\"translate(0,0)\" style=\"font-family: sans-serif; font-size: 0px; fill: rgb(164, 189, 219); fill-opacity: 0.3;\">low energy</text><text text-anchor=\"middle\" transform=\"translate(754,220)\" style=\"font-family: Helvetica Neue, Arial; font-size: 45px; font-style: normal; font-weight: normal; fill: rgb(7, 101, 158); fill-opacity: 0.3;\">metal carbide</text><text text-anchor=\"middle\" transform=\"translate(0,0)\" style=\"font-family: sans-serif; font-size: 0px; fill: rgb(144, 180, 214); fill-opacity: 0.3;\">lead</text><text text-anchor=\"middle\" transform=\"translate(0,0)\" style=\"font-family: sans-serif; font-size: 0px; fill: rgb(188, 200, 225); fill-opacity: 0.3;\">traditional</text><text text-anchor=\"middle\" transform=\"translate(820,130)\" style=\"font-family: Helvetica Neue, Arial; font-size: 14px; font-style: normal; font-weight: normal; fill: rgb(195, 204, 227); fill-opacity: 0.3;\">ratio</text><text text-anchor=\"middle\" transform=\"translate(0,0)\" style=\"font-family: sans-serif; font-size: 0px; fill: rgb(158, 186, 218); fill-opacity: 0.3;\">space</text><text text-anchor=\"middle\" transform=\"translate(0,0)\" style=\"font-family: sans-serif; font-size: 0px; fill: rgb(124, 172, 209); fill-opacity: 0.3;\">expectation</text><text text-anchor=\"middle\" transform=\"translate(0,0)\" style=\"font-family: sans-serif; font-size: 0px; fill: rgb(203, 208, 229); fill-opacity: 0.3;\">binding</text><text text-anchor=\"middle\" transform=\"translate(394,142)\" style=\"font-family: Helvetica Neue, Arial; font-size: 54px; font-style: normal; font-weight: normal; fill: rgb(4, 85, 133); fill-opacity: 0.3;\">scaling</text><text text-anchor=\"middle\" transform=\"translate(0,0)\" style=\"font-family: sans-serif; font-size: 0px; fill: rgb(84, 156, 199); fill-opacity: 0.3;\">processing error</text><text text-anchor=\"middle\" transform=\"translate(0,0)\" style=\"font-family: sans-serif; font-size: 0px; fill: rgb(78, 153, 198); fill-opacity: 0.3;\">combined</text><text text-anchor=\"middle\" transform=\"translate(0,0)\" style=\"font-family: sans-serif; font-size: 0px; fill: rgb(176, 194, 222); fill-opacity: 0.3;\">denity</text><text text-anchor=\"middle\" transform=\"translate(651,188)\" style=\"font-family: Helvetica Neue, Arial; font-size: 25px; font-style: normal; font-weight: normal; fill: rgb(92, 160, 201); fill-opacity: 0.3;\">rl</text><text text-anchor=\"middle\" transform=\"translate(0,0)\" style=\"font-family: sans-serif; font-size: 0px; fill: rgb(149, 182, 215); fill-opacity: 0.3;\">trial</text><text text-anchor=\"middle\" transform=\"translate(0,0)\" style=\"font-family: sans-serif; font-size: 0px; fill: rgb(195, 204, 227); fill-opacity: 0.3;\">due</text><text text-anchor=\"middle\" transform=\"translate(0,0)\" style=\"font-family: sans-serif; font-size: 0px; fill: rgb(116, 169, 207); fill-opacity: 0.3;\">science</text><text text-anchor=\"middle\" transform=\"translate(0,0)\" style=\"font-family: sans-serif; font-size: 0px; fill: rgb(127, 174, 210); fill-opacity: 0.3;\">movement</text><text text-anchor=\"middle\" transform=\"translate(0,0)\" style=\"font-family: sans-serif; font-size: 0px; fill: rgb(89, 158, 201); fill-opacity: 0.3;\">hamiltonian</text><text text-anchor=\"middle\" transform=\"translate(0,0)\" style=\"font-family: sans-serif; font-size: 0px; fill: rgb(154, 184, 217); fill-opacity: 0.3;\">dual</text><text text-anchor=\"middle\" transform=\"translate(0,0)\" style=\"font-family: sans-serif; font-size: 0px; fill: rgb(158, 186, 218); fill-opacity: 0.3;\">defective rbc</text><text text-anchor=\"middle\" transform=\"translate(0,0)\" style=\"font-family: sans-serif; font-size: 0px; fill: rgb(109, 166, 205); fill-opacity: 0.3;\">symmetry</text><text text-anchor=\"middle\" transform=\"translate(0,0)\" style=\"font-family: sans-serif; font-size: 0px; fill: rgb(203, 208, 229); fill-opacity: 0.3;\">previous</text><text text-anchor=\"middle\" transform=\"translate(0,0)\" style=\"font-family: sans-serif; font-size: 0px; fill: rgb(170, 192, 220); fill-opacity: 0.3;\">nine user</text><text text-anchor=\"middle\" transform=\"translate(358,18)\" style=\"font-family: Helvetica Neue, Arial; font-size: 15px; font-style: normal; font-weight: normal; fill: rgb(182, 197, 223); fill-opacity: 0.3;\">field</text><text text-anchor=\"middle\" transform=\"translate(343,259)\" style=\"font-family: Helvetica Neue, Arial; font-size: 19px; font-style: normal; font-weight: normal; fill: rgb(139, 178, 213); fill-opacity: 0.3;\">ct</text><text text-anchor=\"middle\" transform=\"translate(818,178)\" style=\"font-family: Helvetica Neue, Arial; font-size: 40px; font-style: normal; font-weight: normal; fill: rgb(12, 113, 172); fill-opacity: 0.3;\">sea</text><text text-anchor=\"middle\" transform=\"translate(0,0)\" style=\"font-family: sans-serif; font-size: 0px; fill: rgb(116, 169, 207); fill-opacity: 0.3;\">dark matter</text><text text-anchor=\"middle\" transform=\"translate(0,0)\" style=\"font-family: sans-serif; font-size: 0px; fill: rgb(158, 186, 218); fill-opacity: 0.3;\">kenya</text><text text-anchor=\"middle\" transform=\"translate(0,0)\" style=\"font-family: sans-serif; font-size: 0px; fill: rgb(188, 200, 225); fill-opacity: 0.3;\">projection chamber</text><text text-anchor=\"middle\" transform=\"translate(0,0)\" style=\"font-family: sans-serif; font-size: 0px; fill: rgb(210, 213, 232); fill-opacity: 0.3;\">integration</text><text text-anchor=\"middle\" transform=\"translate(0,0)\" style=\"font-family: sans-serif; font-size: 0px; fill: rgb(92, 160, 201); fill-opacity: 0.3;\">cortical</text><text text-anchor=\"middle\" transform=\"translate(0,0)\" style=\"font-family: sans-serif; font-size: 0px; fill: rgb(182, 197, 223); fill-opacity: 0.3;\">provide</text><text text-anchor=\"middle\" transform=\"translate(0,0)\" style=\"font-family: sans-serif; font-size: 0px; fill: rgb(188, 200, 225); fill-opacity: 0.3;\">time projection chamber</text><text text-anchor=\"middle\" transform=\"translate(0,0)\" style=\"font-family: sans-serif; font-size: 0px; fill: rgb(139, 178, 213); fill-opacity: 0.3;\">acid</text><text text-anchor=\"middle\" transform=\"translate(0,0)\" style=\"font-family: sans-serif; font-size: 0px; fill: rgb(210, 213, 232); fill-opacity: 0.3;\">produce</text><text text-anchor=\"middle\" transform=\"translate(0,0)\" style=\"font-family: sans-serif; font-size: 0px; fill: rgb(32, 128, 184); fill-opacity: 0.3;\">signature</text><text text-anchor=\"middle\" transform=\"translate(0,0)\" style=\"font-family: sans-serif; font-size: 0px; fill: rgb(176, 194, 222); fill-opacity: 0.3;\">analysis</text><text text-anchor=\"middle\" transform=\"translate(0,0)\" style=\"font-family: sans-serif; font-size: 0px; fill: rgb(154, 184, 217); fill-opacity: 0.3;\">system</text><text text-anchor=\"middle\" transform=\"translate(0,0)\" style=\"font-family: sans-serif; font-size: 0px; fill: rgb(176, 194, 222); fill-opacity: 0.3;\">suggest</text><text text-anchor=\"middle\" transform=\"translate(0,0)\" style=\"font-family: sans-serif; font-size: 0px; fill: rgb(95, 161, 202); fill-opacity: 0.3;\">skeletal</text><text text-anchor=\"middle\" transform=\"translate(0,0)\" style=\"font-family: sans-serif; font-size: 0px; fill: rgb(116, 169, 207); fill-opacity: 0.3;\">disease</text><text text-anchor=\"middle\" transform=\"translate(0,0)\" style=\"font-family: sans-serif; font-size: 0px; fill: rgb(219, 218, 235); fill-opacity: 0.3;\">derived</text><text text-anchor=\"middle\" transform=\"translate(325,306)\" style=\"font-family: Helvetica Neue, Arial; font-size: 40px; font-style: normal; font-weight: normal; fill: rgb(11, 112, 171); fill-opacity: 0.3;\">oyster</text><text text-anchor=\"middle\" transform=\"translate(0,0)\" style=\"font-family: sans-serif; font-size: 0px; fill: rgb(109, 166, 205); fill-opacity: 0.3;\">minima</text><text text-anchor=\"middle\" transform=\"translate(0,0)\" style=\"font-family: sans-serif; font-size: 0px; fill: rgb(89, 158, 201); fill-opacity: 0.3;\">liquid</text><text text-anchor=\"middle\" transform=\"translate(0,0)\" style=\"font-family: sans-serif; font-size: 0px; fill: rgb(195, 204, 227); fill-opacity: 0.3;\">exhibit</text><text text-anchor=\"middle\" transform=\"translate(0,0)\" style=\"font-family: sans-serif; font-size: 0px; fill: rgb(135, 177, 212); fill-opacity: 0.3;\">benefit</text><text text-anchor=\"middle\" transform=\"translate(0,0)\" style=\"font-family: sans-serif; font-size: 0px; fill: rgb(139, 178, 213); fill-opacity: 0.3;\">weakly interacting</text><text text-anchor=\"middle\" transform=\"translate(0,0)\" style=\"font-family: sans-serif; font-size: 0px; fill: rgb(139, 178, 213); fill-opacity: 0.3;\">visual</text><text text-anchor=\"middle\" transform=\"translate(0,0)\" style=\"font-family: sans-serif; font-size: 0px; fill: rgb(182, 197, 223); fill-opacity: 0.3;\">studying</text><text text-anchor=\"middle\" transform=\"translate(0,0)\" style=\"font-family: sans-serif; font-size: 0px; fill: rgb(219, 218, 235); fill-opacity: 0.3;\">quantify</text><text text-anchor=\"middle\" transform=\"translate(0,0)\" style=\"font-family: sans-serif; font-size: 0px; fill: rgb(182, 197, 223); fill-opacity: 0.3;\">accurate</text><text text-anchor=\"middle\" transform=\"translate(0,0)\" style=\"font-family: sans-serif; font-size: 0px; fill: rgb(170, 192, 220); fill-opacity: 0.3;\">rapid</text><text text-anchor=\"middle\" transform=\"translate(0,0)\" style=\"font-family: sans-serif; font-size: 0px; fill: rgb(154, 184, 217); fill-opacity: 0.3;\">body</text><text text-anchor=\"middle\" transform=\"translate(0,0)\" style=\"font-family: sans-serif; font-size: 0px; fill: rgb(154, 184, 217); fill-opacity: 0.3;\">error</text><text text-anchor=\"middle\" transform=\"translate(0,0)\" style=\"font-family: sans-serif; font-size: 0px; fill: rgb(182, 197, 223); fill-opacity: 0.3;\">produced</text><text text-anchor=\"middle\" transform=\"translate(0,0)\" style=\"font-family: sans-serif; font-size: 0px; fill: rgb(116, 169, 207); fill-opacity: 0.3;\">spike</text><text text-anchor=\"middle\" transform=\"translate(0,0)\" style=\"font-family: sans-serif; font-size: 0px; fill: rgb(188, 200, 225); fill-opacity: 0.3;\">source</text><text text-anchor=\"middle\" transform=\"translate(312,196)\" style=\"font-family: Helvetica Neue, Arial; font-size: 50px; font-style: normal; font-weight: normal; fill: rgb(5, 92, 144); fill-opacity: 0.3;\">trait</text><text text-anchor=\"middle\" transform=\"translate(0,0)\" style=\"font-family: sans-serif; font-size: 0px; fill: rgb(99, 162, 203); fill-opacity: 0.3;\">intervention</text><text text-anchor=\"middle\" transform=\"translate(0,0)\" style=\"font-family: sans-serif; font-size: 0px; fill: rgb(71, 150, 195); fill-opacity: 0.3;\">hybrid</text><text text-anchor=\"middle\" transform=\"translate(0,0)\" style=\"font-family: sans-serif; font-size: 0px; fill: rgb(188, 200, 225); fill-opacity: 0.3;\">yielded</text><text text-anchor=\"middle\" transform=\"translate(0,0)\" style=\"font-family: sans-serif; font-size: 0px; fill: rgb(158, 186, 218); fill-opacity: 0.3;\">offers</text><text text-anchor=\"middle\" transform=\"translate(0,0)\" style=\"font-family: sans-serif; font-size: 0px; fill: rgb(164, 189, 219); fill-opacity: 0.3;\">aspects</text><text text-anchor=\"middle\" transform=\"translate(301,157)\" style=\"font-family: Helvetica Neue, Arial; font-size: 37px; font-style: normal; font-weight: normal; fill: rgb(19, 118, 176); fill-opacity: 0.3;\">rib</text><text text-anchor=\"middle\" transform=\"translate(0,0)\" style=\"font-family: sans-serif; font-size: 0px; fill: rgb(158, 186, 218); fill-opacity: 0.3;\">families</text><text text-anchor=\"middle\" transform=\"translate(0,0)\" style=\"font-family: sans-serif; font-size: 0px; fill: rgb(139, 178, 213); fill-opacity: 0.3;\">pressure</text><text text-anchor=\"middle\" transform=\"translate(0,0)\" style=\"font-family: sans-serif; font-size: 0px; fill: rgb(182, 197, 223); fill-opacity: 0.3;\">region</text><text text-anchor=\"middle\" transform=\"translate(0,0)\" style=\"font-family: sans-serif; font-size: 0px; fill: rgb(154, 184, 217); fill-opacity: 0.3;\">differential</text><text text-anchor=\"middle\" transform=\"translate(0,0)\" style=\"font-family: sans-serif; font-size: 0px; fill: rgb(188, 200, 225); fill-opacity: 0.3;\">xenon lux</text><text text-anchor=\"middle\" transform=\"translate(0,0)\" style=\"font-family: sans-serif; font-size: 0px; fill: rgb(131, 175, 211); fill-opacity: 0.3;\">environment</text><text text-anchor=\"middle\" transform=\"translate(0,0)\" style=\"font-family: sans-serif; font-size: 0px; fill: rgb(109, 166, 205); fill-opacity: 0.3;\">dynamically</text><text text-anchor=\"middle\" transform=\"translate(542,16)\" style=\"font-family: Helvetica Neue, Arial; font-size: 14px; font-style: normal; font-weight: normal; fill: rgb(188, 200, 225); fill-opacity: 0.3;\">dft</text><text text-anchor=\"middle\" transform=\"translate(0,0)\" style=\"font-family: sans-serif; font-size: 0px; fill: rgb(176, 194, 222); fill-opacity: 0.3;\">real time</text><text text-anchor=\"middle\" transform=\"translate(0,0)\" style=\"font-family: sans-serif; font-size: 0px; fill: rgb(120, 171, 208); fill-opacity: 0.3;\">signal</text><text text-anchor=\"middle\" transform=\"translate(0,0)\" style=\"font-family: sans-serif; font-size: 0px; fill: rgb(158, 186, 218); fill-opacity: 0.3;\">performed</text><text text-anchor=\"middle\" transform=\"translate(0,0)\" style=\"font-family: sans-serif; font-size: 0px; fill: rgb(55, 142, 191); fill-opacity: 0.3;\">genome</text><text text-anchor=\"middle\" transform=\"translate(0,0)\" style=\"font-family: sans-serif; font-size: 0px; fill: rgb(99, 162, 203); fill-opacity: 0.3;\">cascade</text><text text-anchor=\"middle\" transform=\"translate(0,0)\" style=\"font-family: sans-serif; font-size: 0px; fill: rgb(109, 166, 205); fill-opacity: 0.3;\">link</text><text text-anchor=\"middle\" transform=\"translate(423,333)\" style=\"font-family: Helvetica Neue, Arial; font-size: 17px; font-style: normal; font-weight: normal; fill: rgb(158, 186, 218); fill-opacity: 0.3;\">extra</text><text text-anchor=\"middle\" transform=\"translate(0,0)\" style=\"font-family: sans-serif; font-size: 0px; fill: rgb(158, 186, 218); fill-opacity: 0.3;\">outcome</text><text text-anchor=\"middle\" transform=\"translate(41,279)\" style=\"font-family: Helvetica Neue, Arial; font-size: 23px; font-style: normal; font-weight: normal; fill: rgb(109, 166, 205); fill-opacity: 0.3;\">grfv</text><text text-anchor=\"middle\" transform=\"translate(263,146)\" style=\"font-family: Helvetica Neue, Arial; font-size: 20px; font-style: normal; font-weight: normal; fill: rgb(135, 177, 212); fill-opacity: 0.3;\">mm</text><text text-anchor=\"middle\" transform=\"translate(0,0)\" style=\"font-family: sans-serif; font-size: 0px; fill: rgb(158, 186, 218); fill-opacity: 0.3;\">abstract</text><text text-anchor=\"middle\" transform=\"translate(0,0)\" style=\"font-family: sans-serif; font-size: 0px; fill: rgb(210, 213, 232); fill-opacity: 0.3;\">directly</text><text text-anchor=\"middle\" transform=\"translate(0,0)\" style=\"font-family: sans-serif; font-size: 0px; fill: rgb(124, 172, 209); fill-opacity: 0.3;\">venation</text><text text-anchor=\"middle\" transform=\"translate(0,0)\" style=\"font-family: sans-serif; font-size: 0px; fill: rgb(170, 192, 220); fill-opacity: 0.3;\">senitivity</text><text text-anchor=\"middle\" transform=\"translate(0,0)\" style=\"font-family: sans-serif; font-size: 0px; fill: rgb(210, 213, 232); fill-opacity: 0.3;\">patient</text><text text-anchor=\"middle\" transform=\"translate(0,0)\" style=\"font-family: sans-serif; font-size: 0px; fill: rgb(135, 177, 212); fill-opacity: 0.3;\">equilibrium</text><text text-anchor=\"middle\" transform=\"translate(615,212)\" style=\"font-family: Helvetica Neue, Arial; font-size: 29px; font-style: normal; font-weight: normal; fill: rgb(61, 146, 193); fill-opacity: 0.3;\">er</text><text text-anchor=\"middle\" transform=\"translate(0,0)\" style=\"font-family: sans-serif; font-size: 0px; fill: rgb(102, 163, 204); fill-opacity: 0.3;\">developmental</text><text text-anchor=\"middle\" transform=\"translate(0,0)\" style=\"font-family: sans-serif; font-size: 0px; fill: rgb(158, 186, 218); fill-opacity: 0.3;\">return</text><text text-anchor=\"middle\" transform=\"translate(698,23)\" style=\"font-family: Helvetica Neue, Arial; font-size: 28px; font-style: normal; font-weight: normal; fill: rgb(68, 149, 195); fill-opacity: 0.3;\">xenon</text><text text-anchor=\"middle\" transform=\"translate(0,0)\" style=\"font-family: sans-serif; font-size: 0px; fill: rgb(144, 180, 214); fill-opacity: 0.3;\">massive</text><text text-anchor=\"middle\" transform=\"translate(0,0)\" style=\"font-family: sans-serif; font-size: 0px; fill: rgb(182, 197, 223); fill-opacity: 0.3;\">inight</text><text text-anchor=\"middle\" transform=\"translate(0,0)\" style=\"font-family: sans-serif; font-size: 0px; fill: rgb(188, 200, 225); fill-opacity: 0.3;\">projection</text><text text-anchor=\"middle\" transform=\"translate(866,177)\" style=\"font-family: Helvetica Neue, Arial; font-size: 23px; font-style: normal; font-weight: normal; fill: rgb(102, 163, 204); fill-opacity: 0.3;\">lux</text><text text-anchor=\"middle\" transform=\"translate(0,0)\" style=\"font-family: sans-serif; font-size: 0px; fill: rgb(92, 160, 201); fill-opacity: 0.3;\">electronic</text><text text-anchor=\"middle\" transform=\"translate(612,25)\" style=\"font-family: Helvetica Neue, Arial; font-size: 31px; font-style: normal; font-weight: normal; fill: rgb(44, 135, 187); fill-opacity: 0.3;\">xmalab</text><text text-anchor=\"middle\" transform=\"translate(0,0)\" style=\"font-family: sans-serif; font-size: 0px; fill: rgb(105, 165, 205); fill-opacity: 0.3;\">artificial boundary</text><text text-anchor=\"middle\" transform=\"translate(627,131)\" style=\"font-family: Helvetica Neue, Arial; font-size: 16px; font-style: normal; font-weight: normal; fill: rgb(176, 194, 222); fill-opacity: 0.3;\">ev</text><text text-anchor=\"middle\" transform=\"translate(0,0)\" style=\"font-family: sans-serif; font-size: 0px; fill: rgb(170, 192, 220); fill-opacity: 0.3;\">functional</text><text text-anchor=\"middle\" transform=\"translate(0,0)\" style=\"font-family: sans-serif; font-size: 0px; fill: rgb(210, 213, 232); fill-opacity: 0.3;\">numerous</text><text text-anchor=\"middle\" transform=\"translate(0,0)\" style=\"font-family: sans-serif; font-size: 0px; fill: rgb(12, 113, 172); fill-opacity: 0.3;\">fractional</text><text text-anchor=\"middle\" transform=\"translate(0,0)\" style=\"font-family: sans-serif; font-size: 0px; fill: rgb(124, 172, 209); fill-opacity: 0.3;\">ribcage</text><text text-anchor=\"middle\" transform=\"translate(228,199)\" style=\"font-family: Helvetica Neue, Arial; font-size: 17px; font-style: normal; font-weight: normal; fill: rgb(158, 186, 218); fill-opacity: 0.3;\">dpd</text><text text-anchor=\"middle\" transform=\"translate(0,0)\" style=\"font-family: sans-serif; font-size: 0px; fill: rgb(131, 175, 211); fill-opacity: 0.3;\">fast</text><text text-anchor=\"middle\" transform=\"translate(0,0)\" style=\"font-family: sans-serif; font-size: 0px; fill: rgb(158, 186, 218); fill-opacity: 0.3;\">diffusion</text><text text-anchor=\"middle\" transform=\"translate(0,0)\" style=\"font-family: sans-serif; font-size: 0px; fill: rgb(188, 200, 225); fill-opacity: 0.3;\">loss</text><text text-anchor=\"middle\" transform=\"translate(0,0)\" style=\"font-family: sans-serif; font-size: 0px; fill: rgb(203, 208, 229); fill-opacity: 0.3;\">freedom</text><text text-anchor=\"middle\" transform=\"translate(0,0)\" style=\"font-family: sans-serif; font-size: 0px; fill: rgb(81, 154, 198); fill-opacity: 0.3;\">rydberg</text><text text-anchor=\"middle\" transform=\"translate(0,0)\" style=\"font-family: sans-serif; font-size: 0px; fill: rgb(176, 194, 222); fill-opacity: 0.3;\">expression</text><text text-anchor=\"middle\" transform=\"translate(0,0)\" style=\"font-family: sans-serif; font-size: 0px; fill: rgb(188, 200, 225); fill-opacity: 0.3;\">interpretation</text><text text-anchor=\"middle\" transform=\"translate(0,0)\" style=\"font-family: sans-serif; font-size: 0px; fill: rgb(135, 177, 212); fill-opacity: 0.3;\">marker based</text><text text-anchor=\"middle\" transform=\"translate(0,0)\" style=\"font-family: sans-serif; font-size: 0px; fill: rgb(164, 189, 219); fill-opacity: 0.3;\">time</text><text text-anchor=\"middle\" transform=\"translate(0,0)\" style=\"font-family: sans-serif; font-size: 0px; fill: rgb(124, 172, 209); fill-opacity: 0.3;\">calculation</text><text text-anchor=\"middle\" transform=\"translate(0,0)\" style=\"font-family: sans-serif; font-size: 0px; fill: rgb(109, 166, 205); fill-opacity: 0.3;\">xrayproject</text><text text-anchor=\"middle\" transform=\"translate(0,0)\" style=\"font-family: sans-serif; font-size: 0px; fill: rgb(99, 162, 203); fill-opacity: 0.3;\">fluctuation</text><text text-anchor=\"middle\" transform=\"translate(0,0)\" style=\"font-family: sans-serif; font-size: 0px; fill: rgb(84, 156, 199); fill-opacity: 0.3;\">decoding</text><text text-anchor=\"middle\" transform=\"translate(0,0)\" style=\"font-family: sans-serif; font-size: 0px; fill: rgb(131, 175, 211); fill-opacity: 0.3;\">network</text><text text-anchor=\"middle\" transform=\"translate(851,125)\" style=\"font-family: Helvetica Neue, Arial; font-size: 17px; font-style: normal; font-weight: normal; fill: rgb(158, 186, 218); fill-opacity: 0.3;\">text</text><text text-anchor=\"middle\" transform=\"translate(0,0)\" style=\"font-family: sans-serif; font-size: 0px; fill: rgb(59, 145, 192); fill-opacity: 0.3;\">boundary</text><text text-anchor=\"middle\" transform=\"translate(0,0)\" style=\"font-family: sans-serif; font-size: 0px; fill: rgb(127, 174, 210); fill-opacity: 0.3;\">computer</text><text text-anchor=\"middle\" transform=\"translate(0,0)\" style=\"font-family: sans-serif; font-size: 0px; fill: rgb(188, 200, 225); fill-opacity: 0.3;\">increased</text><text text-anchor=\"middle\" transform=\"translate(0,0)\" style=\"font-family: sans-serif; font-size: 0px; fill: rgb(154, 184, 217); fill-opacity: 0.3;\">independent</text><text text-anchor=\"middle\" transform=\"translate(75,93)\" style=\"font-family: Helvetica Neue, Arial; font-size: 29px; font-style: normal; font-weight: normal; fill: rgb(59, 145, 192); fill-opacity: 0.3;\">enemble</text><text text-anchor=\"middle\" transform=\"translate(0,0)\" style=\"font-family: sans-serif; font-size: 0px; fill: rgb(105, 165, 205); fill-opacity: 0.3;\">contraint dynamic</text><text text-anchor=\"middle\" transform=\"translate(0,0)\" style=\"font-family: sans-serif; font-size: 0px; fill: rgb(188, 200, 225); fill-opacity: 0.3;\">data management</text><text text-anchor=\"middle\" transform=\"translate(0,0)\" style=\"font-family: sans-serif; font-size: 0px; fill: rgb(203, 208, 229); fill-opacity: 0.3;\">degree freedom</text><text text-anchor=\"middle\" transform=\"translate(0,0)\" style=\"font-family: sans-serif; font-size: 0px; fill: rgb(154, 184, 217); fill-opacity: 0.3;\">variety</text><text text-anchor=\"middle\" transform=\"translate(0,0)\" style=\"font-family: sans-serif; font-size: 0px; fill: rgb(195, 204, 227); fill-opacity: 0.3;\">complexity</text><text text-anchor=\"middle\" transform=\"translate(0,0)\" style=\"font-family: sans-serif; font-size: 0px; fill: rgb(188, 200, 225); fill-opacity: 0.3;\">functional theory</text><text text-anchor=\"middle\" transform=\"translate(0,0)\" style=\"font-family: sans-serif; font-size: 0px; fill: rgb(188, 200, 225); fill-opacity: 0.3;\">feature</text><text text-anchor=\"middle\" transform=\"translate(0,0)\" style=\"font-family: sans-serif; font-size: 0px; fill: rgb(219, 218, 235); fill-opacity: 0.3;\">ability</text><text text-anchor=\"middle\" transform=\"translate(0,0)\" style=\"font-family: sans-serif; font-size: 0px; fill: rgb(195, 204, 227); fill-opacity: 0.3;\">increasing</text><text text-anchor=\"middle\" transform=\"translate(0,0)\" style=\"font-family: sans-serif; font-size: 0px; fill: rgb(149, 182, 215); fill-opacity: 0.3;\">american</text><text text-anchor=\"middle\" transform=\"translate(0,0)\" style=\"font-family: sans-serif; font-size: 0px; fill: rgb(195, 204, 227); fill-opacity: 0.3;\">presence</text><text text-anchor=\"middle\" transform=\"translate(0,0)\" style=\"font-family: sans-serif; font-size: 0px; fill: rgb(131, 175, 211); fill-opacity: 0.3;\">data</text><text text-anchor=\"middle\" transform=\"translate(0,0)\" style=\"font-family: sans-serif; font-size: 0px; fill: rgb(195, 204, 227); fill-opacity: 0.3;\">target</text><text text-anchor=\"middle\" transform=\"translate(0,0)\" style=\"font-family: sans-serif; font-size: 0px; fill: rgb(210, 213, 232); fill-opacity: 0.3;\">standard</text><text text-anchor=\"middle\" transform=\"translate(0,0)\" style=\"font-family: sans-serif; font-size: 0px; fill: rgb(109, 166, 205); fill-opacity: 0.3;\">extenion</text><text text-anchor=\"middle\" transform=\"translate(0,0)\" style=\"font-family: sans-serif; font-size: 0px; fill: rgb(170, 192, 220); fill-opacity: 0.3;\">theory</text><text text-anchor=\"middle\" transform=\"translate(0,0)\" style=\"font-family: sans-serif; font-size: 0px; fill: rgb(170, 192, 220); fill-opacity: 0.3;\">tranient</text><text text-anchor=\"middle\" transform=\"translate(0,0)\" style=\"font-family: sans-serif; font-size: 0px; fill: rgb(135, 177, 212); fill-opacity: 0.3;\">walk trot</text><text text-anchor=\"middle\" transform=\"translate(753,190)\" style=\"font-family: Helvetica Neue, Arial; font-size: 40px; font-style: normal; font-weight: normal; fill: rgb(11, 112, 171); fill-opacity: 0.3;\">co</text><text text-anchor=\"middle\" transform=\"translate(0,0)\" style=\"font-family: sans-serif; font-size: 0px; fill: rgb(158, 186, 218); fill-opacity: 0.3;\">normal</text><text text-anchor=\"middle\" transform=\"translate(0,0)\" style=\"font-family: sans-serif; font-size: 0px; fill: rgb(87, 157, 200); fill-opacity: 0.3;\">tranition</text><text text-anchor=\"middle\" transform=\"translate(510,156)\" style=\"font-family: Helvetica Neue, Arial; font-size: 43px; font-style: normal; font-weight: normal; fill: rgb(8, 105, 162); fill-opacity: 0.3;\">focal</text><text text-anchor=\"middle\" transform=\"translate(0,0)\" style=\"font-family: sans-serif; font-size: 0px; fill: rgb(210, 213, 232); fill-opacity: 0.3;\">distortion</text><text text-anchor=\"middle\" transform=\"translate(0,0)\" style=\"font-family: sans-serif; font-size: 0px; fill: rgb(164, 189, 219); fill-opacity: 0.3;\">detector</text><text text-anchor=\"middle\" transform=\"translate(507,191)\" style=\"font-family: Helvetica Neue, Arial; font-size: 54px; font-style: normal; font-weight: normal; fill: rgb(4, 85, 133); fill-opacity: 0.3;\">scaling relation</text><text text-anchor=\"middle\" transform=\"translate(644,236)\" style=\"font-family: Helvetica Neue, Arial; font-size: 21px; font-style: normal; font-weight: normal; fill: rgb(120, 171, 208); fill-opacity: 0.3;\">xromm</text><text text-anchor=\"middle\" transform=\"translate(0,0)\" style=\"font-family: sans-serif; font-size: 0px; fill: rgb(203, 208, 229); fill-opacity: 0.3;\">deviation</text><text text-anchor=\"middle\" transform=\"translate(0,0)\" style=\"font-family: sans-serif; font-size: 0px; fill: rgb(176, 194, 222); fill-opacity: 0.3;\">related</text><text text-anchor=\"middle\" transform=\"translate(0,0)\" style=\"font-family: sans-serif; font-size: 0px; fill: rgb(127, 174, 210); fill-opacity: 0.3;\">atomistic</text><text text-anchor=\"middle\" transform=\"translate(188,339)\" style=\"font-family: Helvetica Neue, Arial; font-size: 12px; font-style: normal; font-weight: normal; fill: rgb(219, 218, 235); fill-opacity: 0.3;\">strong</text><text text-anchor=\"middle\" transform=\"translate(416,155)\" style=\"font-family: Helvetica Neue, Arial; font-size: 15px; font-style: normal; font-weight: normal; fill: rgb(182, 197, 223); fill-opacity: 0.3;\">run</text><text text-anchor=\"middle\" transform=\"translate(0,0)\" style=\"font-family: sans-serif; font-size: 0px; fill: rgb(195, 204, 227); fill-opacity: 0.3;\">report</text><text text-anchor=\"middle\" transform=\"translate(0,0)\" style=\"font-family: sans-serif; font-size: 0px; fill: rgb(188, 200, 225); fill-opacity: 0.3;\">denity functional theory</text><text text-anchor=\"middle\" transform=\"translate(0,0)\" style=\"font-family: sans-serif; font-size: 0px; fill: rgb(87, 157, 200); fill-opacity: 0.3;\">mcpj</text><text text-anchor=\"middle\" transform=\"translate(0,0)\" style=\"font-family: sans-serif; font-size: 0px; fill: rgb(195, 204, 227); fill-opacity: 0.3;\">pattern</text><text text-anchor=\"middle\" transform=\"translate(0,0)\" style=\"font-family: sans-serif; font-size: 0px; fill: rgb(105, 165, 205); fill-opacity: 0.3;\">character</text><text text-anchor=\"middle\" transform=\"translate(0,0)\" style=\"font-family: sans-serif; font-size: 0px; fill: rgb(112, 168, 206); fill-opacity: 0.3;\">american oyster</text><text text-anchor=\"middle\" transform=\"translate(0,0)\" style=\"font-family: sans-serif; font-size: 0px; fill: rgb(124, 172, 209); fill-opacity: 0.3;\">dark matter experiment</text><text text-anchor=\"middle\" transform=\"translate(127,329)\" style=\"font-family: Helvetica Neue, Arial; font-size: 22px; font-style: normal; font-weight: normal; fill: rgb(112, 168, 206); fill-opacity: 0.3;\">motor</text><text text-anchor=\"middle\" transform=\"translate(0,0)\" style=\"font-family: sans-serif; font-size: 0px; fill: rgb(112, 168, 206); fill-opacity: 0.3;\">relationhip</text><text text-anchor=\"middle\" transform=\"translate(0,0)\" style=\"font-family: sans-serif; font-size: 0px; fill: rgb(210, 213, 232); fill-opacity: 0.3;\">illustrate</text><text text-anchor=\"middle\" transform=\"translate(0,0)\" style=\"font-family: sans-serif; font-size: 0px; fill: rgb(203, 208, 229); fill-opacity: 0.3;\">finding</text><text text-anchor=\"middle\" transform=\"translate(0,0)\" style=\"font-family: sans-serif; font-size: 0px; fill: rgb(102, 163, 204); fill-opacity: 0.3;\">evolution</text><text text-anchor=\"middle\" transform=\"translate(0,0)\" style=\"font-family: sans-serif; font-size: 0px; fill: rgb(135, 177, 212); fill-opacity: 0.3;\">nitrogen</text><text text-anchor=\"middle\" transform=\"translate(0,0)\" style=\"font-family: sans-serif; font-size: 0px; fill: rgb(170, 192, 220); fill-opacity: 0.3;\">accuracy precision</text><text text-anchor=\"middle\" transform=\"translate(0,0)\" style=\"font-family: sans-serif; font-size: 0px; fill: rgb(176, 194, 222); fill-opacity: 0.3;\">framework</text><text text-anchor=\"middle\" transform=\"translate(645,339)\" style=\"font-family: Helvetica Neue, Arial; font-size: 12px; font-style: normal; font-weight: normal; fill: rgb(219, 218, 235); fill-opacity: 0.3;\">bone motion</text><text text-anchor=\"middle\" transform=\"translate(0,0)\" style=\"font-family: sans-serif; font-size: 0px; fill: rgb(164, 189, 219); fill-opacity: 0.3;\">technique</text><text text-anchor=\"middle\" transform=\"translate(103,246)\" style=\"font-family: Helvetica Neue, Arial; font-size: 16px; font-style: normal; font-weight: normal; fill: rgb(170, 192, 220); fill-opacity: 0.3;\">nine</text><text text-anchor=\"middle\" transform=\"translate(0,0)\" style=\"font-family: sans-serif; font-size: 0px; fill: rgb(120, 171, 208); fill-opacity: 0.3;\">data underground</text><text text-anchor=\"middle\" transform=\"translate(353,105)\" style=\"font-family: Helvetica Neue, Arial; font-size: 38px; font-style: normal; font-weight: normal; fill: rgb(16, 116, 174); fill-opacity: 0.3;\">rbc</text><text text-anchor=\"middle\" transform=\"translate(0,0)\" style=\"font-family: sans-serif; font-size: 0px; fill: rgb(182, 197, 223); fill-opacity: 0.3;\">identification</text><text text-anchor=\"middle\" transform=\"translate(0,0)\" style=\"font-family: sans-serif; font-size: 0px; fill: rgb(170, 192, 220); fill-opacity: 0.3;\">electric field</text><text text-anchor=\"middle\" transform=\"translate(0,0)\" style=\"font-family: sans-serif; font-size: 0px; fill: rgb(203, 208, 229); fill-opacity: 0.3;\">angle</text><text text-anchor=\"middle\" transform=\"translate(0,0)\" style=\"font-family: sans-serif; font-size: 0px; fill: rgb(164, 189, 219); fill-opacity: 0.3;\">reduced</text><text text-anchor=\"middle\" transform=\"translate(797,77)\" style=\"font-family: Helvetica Neue, Arial; font-size: 29px; font-style: normal; font-weight: normal; fill: rgb(55, 142, 191); fill-opacity: 0.3;\">neuron</text><text text-anchor=\"middle\" transform=\"translate(0,0)\" style=\"font-family: sans-serif; font-size: 0px; fill: rgb(219, 218, 235); fill-opacity: 0.3;\">describe</text><text text-anchor=\"middle\" transform=\"translate(0,0)\" style=\"font-family: sans-serif; font-size: 0px; fill: rgb(112, 168, 206); fill-opacity: 0.3;\">rod</text><text text-anchor=\"middle\" transform=\"translate(707,329)\" style=\"font-family: Helvetica Neue, Arial; font-size: 21px; font-style: normal; font-weight: normal; fill: rgb(124, 172, 209); fill-opacity: 0.3;\">phase</text><text text-anchor=\"middle\" transform=\"translate(0,0)\" style=\"font-family: sans-serif; font-size: 0px; fill: rgb(139, 178, 213); fill-opacity: 0.3;\">trancripts</text><text text-anchor=\"middle\" transform=\"translate(398,234)\" style=\"font-family: Helvetica Neue, Arial; font-size: 49px; font-style: normal; font-weight: normal; fill: rgb(5, 93, 147); fill-opacity: 0.3;\">human focal seizure</text><text text-anchor=\"middle\" transform=\"translate(62,203)\" style=\"font-family: Helvetica Neue, Arial; font-size: 25px; font-style: normal; font-weight: normal; fill: rgb(92, 160, 201); fill-opacity: 0.3;\">natural</text><text text-anchor=\"middle\" transform=\"translate(0,0)\" style=\"font-family: sans-serif; font-size: 0px; fill: rgb(92, 160, 201); fill-opacity: 0.3;\">recombination</text><text text-anchor=\"middle\" transform=\"translate(0,0)\" style=\"font-family: sans-serif; font-size: 0px; fill: rgb(158, 186, 218); fill-opacity: 0.3;\">recoil energies</text><text text-anchor=\"middle\" transform=\"translate(0,0)\" style=\"font-family: sans-serif; font-size: 0px; fill: rgb(19, 118, 176); fill-opacity: 0.3;\">differences</text><text text-anchor=\"middle\" transform=\"translate(0,0)\" style=\"font-family: sans-serif; font-size: 0px; fill: rgb(116, 169, 207); fill-opacity: 0.3;\">dark</text><text text-anchor=\"middle\" transform=\"translate(0,0)\" style=\"font-family: sans-serif; font-size: 0px; fill: rgb(105, 165, 205); fill-opacity: 0.3;\">development</text><text text-anchor=\"middle\" transform=\"translate(0,0)\" style=\"font-family: sans-serif; font-size: 0px; fill: rgb(109, 166, 205); fill-opacity: 0.3;\">vacancy</text><text text-anchor=\"middle\" transform=\"translate(145,125)\" style=\"font-family: Helvetica Neue, Arial; font-size: 46px; font-style: normal; font-weight: normal; fill: rgb(6, 100, 157); fill-opacity: 0.3;\">mediation</text><text text-anchor=\"middle\" transform=\"translate(0,0)\" style=\"font-family: sans-serif; font-size: 0px; fill: rgb(158, 186, 218); fill-opacity: 0.3;\">respone</text><text text-anchor=\"middle\" transform=\"translate(0,0)\" style=\"font-family: sans-serif; font-size: 0px; fill: rgb(158, 186, 218); fill-opacity: 0.3;\">temperature</text><text text-anchor=\"middle\" transform=\"translate(0,0)\" style=\"font-family: sans-serif; font-size: 0px; fill: rgb(99, 162, 203); fill-opacity: 0.3;\">liquid xenon</text><text text-anchor=\"middle\" transform=\"translate(0,0)\" style=\"font-family: sans-serif; font-size: 0px; fill: rgb(188, 200, 225); fill-opacity: 0.3;\">research</text><text text-anchor=\"middle\" transform=\"translate(0,0)\" style=\"font-family: sans-serif; font-size: 0px; fill: rgb(210, 213, 232); fill-opacity: 0.3;\">suitable</text><text text-anchor=\"middle\" transform=\"translate(0,0)\" style=\"font-family: sans-serif; font-size: 0px; fill: rgb(144, 180, 214); fill-opacity: 0.3;\">spatial</text><text text-anchor=\"middle\" transform=\"translate(0,0)\" style=\"font-family: sans-serif; font-size: 0px; fill: rgb(188, 200, 225); fill-opacity: 0.3;\">direct</text><text text-anchor=\"middle\" transform=\"translate(0,0)\" style=\"font-family: sans-serif; font-size: 0px; fill: rgb(139, 178, 213); fill-opacity: 0.3;\">enable</text><text text-anchor=\"middle\" transform=\"translate(0,0)\" style=\"font-family: sans-serif; font-size: 0px; fill: rgb(131, 175, 211); fill-opacity: 0.3;\">memory</text><text text-anchor=\"middle\" transform=\"translate(0,0)\" style=\"font-family: sans-serif; font-size: 0px; fill: rgb(210, 213, 232); fill-opacity: 0.3;\">overall</text><text text-anchor=\"middle\" transform=\"translate(400,278)\" style=\"font-family: Helvetica Neue, Arial; font-size: 48px; font-style: normal; font-weight: normal; fill: rgb(5, 95, 151); fill-opacity: 0.3;\">virus</text><text text-anchor=\"middle\" transform=\"translate(150,85)\" style=\"font-family: Helvetica Neue, Arial; font-size: 14px; font-style: normal; font-weight: normal; fill: rgb(188, 200, 225); fill-opacity: 0.3;\">test</text><text text-anchor=\"middle\" transform=\"translate(0,0)\" style=\"font-family: sans-serif; font-size: 0px; fill: rgb(120, 171, 208); fill-opacity: 0.3;\">free energy</text><text text-anchor=\"middle\" transform=\"translate(636,323)\" style=\"font-family: Helvetica Neue, Arial; font-size: 25px; font-style: normal; font-weight: normal; fill: rgb(87, 157, 200); fill-opacity: 0.3;\">wimp</text><text text-anchor=\"middle\" transform=\"translate(0,0)\" style=\"font-family: sans-serif; font-size: 0px; fill: rgb(170, 192, 220); fill-opacity: 0.3;\">revealed</text><text text-anchor=\"middle\" transform=\"translate(0,0)\" style=\"font-family: sans-serif; font-size: 0px; fill: rgb(164, 189, 219); fill-opacity: 0.3;\">generalized</text><text text-anchor=\"middle\" transform=\"translate(0,0)\" style=\"font-family: sans-serif; font-size: 0px; fill: rgb(124, 172, 209); fill-opacity: 0.3;\">interacting</text><text text-anchor=\"middle\" transform=\"translate(0,0)\" style=\"font-family: sans-serif; font-size: 0px; fill: rgb(84, 156, 199); fill-opacity: 0.3;\">dark matter particle</text><text text-anchor=\"middle\" transform=\"translate(481,116)\" style=\"font-family: Helvetica Neue, Arial; font-size: 20px; font-style: normal; font-weight: normal; fill: rgb(135, 177, 212); fill-opacity: 0.3;\">fit</text><text text-anchor=\"middle\" transform=\"translate(0,0)\" style=\"font-family: sans-serif; font-size: 0px; fill: rgb(203, 208, 229); fill-opacity: 0.3;\">include</text><text text-anchor=\"middle\" transform=\"translate(0,0)\" style=\"font-family: sans-serif; font-size: 0px; fill: rgb(158, 186, 218); fill-opacity: 0.3;\">deposit</text><text text-anchor=\"middle\" transform=\"translate(0,0)\" style=\"font-family: sans-serif; font-size: 0px; fill: rgb(124, 172, 209); fill-opacity: 0.3;\">reinforcement learning</text><text text-anchor=\"middle\" transform=\"translate(0,0)\" style=\"font-family: sans-serif; font-size: 0px; fill: rgb(203, 208, 229); fill-opacity: 0.3;\">compare</text><text text-anchor=\"middle\" transform=\"translate(0,0)\" style=\"font-family: sans-serif; font-size: 0px; fill: rgb(176, 194, 222); fill-opacity: 0.3;\">input</text><text text-anchor=\"middle\" transform=\"translate(0,0)\" style=\"font-family: sans-serif; font-size: 0px; fill: rgb(9, 106, 164); fill-opacity: 0.3;\">clustering</text><text text-anchor=\"middle\" transform=\"translate(0,0)\" style=\"font-family: sans-serif; font-size: 0px; fill: rgb(112, 168, 206); fill-opacity: 0.3;\">approach</text><text text-anchor=\"middle\" transform=\"translate(567,266)\" style=\"font-family: Helvetica Neue, Arial; font-size: 48px; font-style: normal; font-weight: normal; fill: rgb(5, 96, 151); fill-opacity: 0.3;\">human focal</text><text text-anchor=\"middle\" transform=\"translate(0,0)\" style=\"font-family: sans-serif; font-size: 0px; fill: rgb(210, 213, 232); fill-opacity: 0.3;\">respectively</text><text text-anchor=\"middle\" transform=\"translate(0,0)\" style=\"font-family: sans-serif; font-size: 0px; fill: rgb(154, 184, 217); fill-opacity: 0.3;\">cell</text><text text-anchor=\"middle\" transform=\"translate(38,234)\" style=\"font-family: Helvetica Neue, Arial; font-size: 25px; font-style: normal; font-weight: normal; fill: rgb(87, 157, 200); fill-opacity: 0.3;\">dof</text><text text-anchor=\"middle\" transform=\"translate(0,0)\" style=\"font-family: sans-serif; font-size: 0px; fill: rgb(164, 189, 219); fill-opacity: 0.3;\">rotation</text><text text-anchor=\"middle\" transform=\"translate(0,0)\" style=\"font-family: sans-serif; font-size: 0px; fill: rgb(139, 178, 213); fill-opacity: 0.3;\">susceptible</text><text text-anchor=\"middle\" transform=\"translate(0,0)\" style=\"font-family: sans-serif; font-size: 0px; fill: rgb(170, 192, 220); fill-opacity: 0.3;\">video</text><text text-anchor=\"middle\" transform=\"translate(0,0)\" style=\"font-family: sans-serif; font-size: 0px; fill: rgb(135, 177, 212); fill-opacity: 0.3;\">lipid</text><text text-anchor=\"middle\" transform=\"translate(0,0)\" style=\"font-family: sans-serif; font-size: 0px; fill: rgb(139, 178, 213); fill-opacity: 0.3;\">interacting massive particle</text><text text-anchor=\"middle\" transform=\"translate(0,0)\" style=\"font-family: sans-serif; font-size: 0px; fill: rgb(158, 186, 218); fill-opacity: 0.3;\">senitivity analyses</text><text text-anchor=\"middle\" transform=\"translate(0,0)\" style=\"font-family: sans-serif; font-size: 0px; fill: rgb(116, 169, 207); fill-opacity: 0.3;\">planar</text><text text-anchor=\"middle\" transform=\"translate(697,180)\" style=\"font-family: Helvetica Neue, Arial; font-size: 26px; font-style: normal; font-weight: normal; fill: rgb(78, 153, 198); fill-opacity: 0.3;\">recoil</text><text text-anchor=\"middle\" transform=\"translate(0,0)\" style=\"font-family: sans-serif; font-size: 0px; fill: rgb(124, 172, 209); fill-opacity: 0.3;\">crocodylian</text><text text-anchor=\"middle\" transform=\"translate(0,0)\" style=\"font-family: sans-serif; font-size: 0px; fill: rgb(195, 204, 227); fill-opacity: 0.3;\">studies</text><text text-anchor=\"middle\" transform=\"translate(0,0)\" style=\"font-family: sans-serif; font-size: 0px; fill: rgb(21, 120, 177); fill-opacity: 0.3;\">selectivity</text><text text-anchor=\"middle\" transform=\"translate(0,0)\" style=\"font-family: sans-serif; font-size: 0px; fill: rgb(87, 157, 200); fill-opacity: 0.3;\">opercular</text><text text-anchor=\"middle\" transform=\"translate(729,78)\" style=\"font-family: Helvetica Neue, Arial; font-size: 15px; font-style: normal; font-weight: normal; fill: rgb(182, 197, 223); fill-opacity: 0.3;\">cm</text><text text-anchor=\"middle\" transform=\"translate(0,0)\" style=\"font-family: sans-serif; font-size: 0px; fill: rgb(87, 157, 200); fill-opacity: 0.3;\">local</text><text text-anchor=\"middle\" transform=\"translate(292,330)\" style=\"font-family: Helvetica Neue, Arial; font-size: 21px; font-style: normal; font-weight: normal; fill: rgb(124, 172, 209); fill-opacity: 0.3;\">contraint</text><text text-anchor=\"middle\" transform=\"translate(0,0)\" style=\"font-family: sans-serif; font-size: 0px; fill: rgb(135, 177, 212); fill-opacity: 0.3;\">lipid bilayer</text><text text-anchor=\"middle\" transform=\"translate(0,0)\" style=\"font-family: sans-serif; font-size: 0px; fill: rgb(158, 186, 218); fill-opacity: 0.3;\">task shifted</text><text text-anchor=\"middle\" transform=\"translate(0,0)\" style=\"font-family: sans-serif; font-size: 0px; fill: rgb(135, 177, 212); fill-opacity: 0.3;\">legwear</text><text text-anchor=\"middle\" transform=\"translate(0,0)\" style=\"font-family: sans-serif; font-size: 0px; fill: rgb(139, 178, 213); fill-opacity: 0.3;\">weakly interacting massive</text><text text-anchor=\"middle\" transform=\"translate(0,0)\" style=\"font-family: sans-serif; font-size: 0px; fill: rgb(87, 157, 200); fill-opacity: 0.3;\">recombination fluctuation</text><text text-anchor=\"middle\" transform=\"translate(424,49)\" style=\"font-family: Helvetica Neue, Arial; font-size: 47px; font-style: normal; font-weight: normal; fill: rgb(5, 97, 153); fill-opacity: 0.3;\">latent</text><text text-anchor=\"middle\" transform=\"translate(0,0)\" style=\"font-family: sans-serif; font-size: 0px; fill: rgb(144, 180, 214); fill-opacity: 0.3;\">tranport</text><text text-anchor=\"middle\" transform=\"translate(0,0)\" style=\"font-family: sans-serif; font-size: 0px; fill: rgb(102, 163, 204); fill-opacity: 0.3;\">pauses</text><text text-anchor=\"middle\" transform=\"translate(0,0)\" style=\"font-family: sans-serif; font-size: 0px; fill: rgb(87, 157, 200); fill-opacity: 0.3;\">phylogenetic</text><text text-anchor=\"middle\" transform=\"translate(277,125)\" style=\"font-family: Helvetica Neue, Arial; font-size: 56px; font-style: normal; font-weight: normal; fill: rgb(4, 82, 129); fill-opacity: 0.3;\">piwi</text><text text-anchor=\"middle\" transform=\"translate(0,0)\" style=\"font-family: sans-serif; font-size: 0px; fill: rgb(13, 114, 172); fill-opacity: 0.3;\">motor cortex</text><text text-anchor=\"middle\" transform=\"translate(0,0)\" style=\"font-family: sans-serif; font-size: 0px; fill: rgb(131, 175, 211); fill-opacity: 0.3;\">understanding</text><text text-anchor=\"middle\" transform=\"translate(0,0)\" style=\"font-family: sans-serif; font-size: 0px; fill: rgb(139, 178, 213); fill-opacity: 0.3;\">disorder</text><text text-anchor=\"middle\" transform=\"translate(0,0)\" style=\"font-family: sans-serif; font-size: 0px; fill: rgb(61, 146, 193); fill-opacity: 0.3;\">metal</text><text text-anchor=\"middle\" transform=\"translate(0,0)\" style=\"font-family: sans-serif; font-size: 0px; fill: rgb(195, 204, 227); fill-opacity: 0.3;\">control</text><text text-anchor=\"middle\" transform=\"translate(0,0)\" style=\"font-family: sans-serif; font-size: 0px; fill: rgb(112, 168, 206); fill-opacity: 0.3;\">synchrony</text><text text-anchor=\"middle\" transform=\"translate(0,0)\" style=\"font-family: sans-serif; font-size: 0px; fill: rgb(182, 197, 223); fill-opacity: 0.3;\">identify</text><text text-anchor=\"middle\" transform=\"translate(0,0)\" style=\"font-family: sans-serif; font-size: 0px; fill: rgb(116, 169, 207); fill-opacity: 0.3;\">bilayer</text><text text-anchor=\"middle\" transform=\"translate(198,274)\" style=\"font-family: Helvetica Neue, Arial; font-size: 44px; font-style: normal; font-weight: normal; fill: rgb(7, 102, 160); fill-opacity: 0.3;\">spatiotemporal</text><text text-anchor=\"middle\" transform=\"translate(0,0)\" style=\"font-family: sans-serif; font-size: 0px; fill: rgb(144, 180, 214); fill-opacity: 0.3;\">experiment</text><text text-anchor=\"middle\" transform=\"translate(0,0)\" style=\"font-family: sans-serif; font-size: 0px; fill: rgb(164, 189, 219); fill-opacity: 0.3;\">power</text><text text-anchor=\"middle\" transform=\"translate(653,55)\" style=\"font-family: Helvetica Neue, Arial; font-size: 46px; font-style: normal; font-weight: normal; fill: rgb(6, 100, 157); fill-opacity: 0.3;\">hydrogen evolution</text><text text-anchor=\"middle\" transform=\"translate(0,0)\" style=\"font-family: sans-serif; font-size: 0px; fill: rgb(188, 200, 225); fill-opacity: 0.3;\">joint</text><text text-anchor=\"middle\" transform=\"translate(0,0)\" style=\"font-family: sans-serif; font-size: 0px; fill: rgb(176, 194, 222); fill-opacity: 0.3;\">recognition</text></g></g></g></g></g></svg>"
      ],
      "text/plain": [
       "VegaLite.VGSpec"
      ]
     },
     "execution_count": 60,
     "metadata": {},
     "output_type": "execute_result"
    }
   ],
   "source": [
    "\n",
    "word_data_json = JSON.json(word_data);\n",
    "\n",
    "word_cloud_spec = \"\"\"{\n",
    "  \"width\": 900,\n",
    "  \"height\": 350,\n",
    "  \"padding\": 10,\n",
    "  \"signals\": [\n",
    "    {\"name\": \"hoverID\", \"value\": 0}\n",
    "  ],\n",
    "\n",
    "  \"data\": [\n",
    "    {\n",
    "      \"name\": \"table\",\n",
    "      \"values\": $(word_data_json)\n",
    "    }\n",
    "  ],\n",
    "\n",
    "  \"scales\": [\n",
    "    {\n",
    "      \"name\": \"color\",\n",
    "      \"type\": \"log\",\n",
    "      \"domain\": {\"data\": \"table\", \"field\": \"freq\"},\n",
    "      \"range\": {\"scheme\": \"purpleblue\"}\n",
    "    }\n",
    "  ],\n",
    "\n",
    "  \"marks\": [\n",
    "    {\n",
    "      \"type\": \"text\",\n",
    "      \"from\": {\"data\": \"table\"},\n",
    "      \"encode\": {\n",
    "        \"enter\": {\n",
    "          \"text\": {\"field\": \"abstract\"},\n",
    "          \"align\": {\"value\": \"center\"},\n",
    "          \"baseline\": {\"value\": \"alphabetic\"},\n",
    "          \"fill\": {\"scale\": \"color\", \"field\": \"freq\"}\n",
    "        },\n",
    "        \"update\": {\n",
    "          \"fillOpacity\": [\n",
    "            {\"test\": \"indexof(datum.pubs, hoverID) > 0\", \"value\": 1.0},\n",
    "            {\"value\": 0.3}\n",
    "          ]\n",
    "        },\n",
    "        \"hover\": {\n",
    "          \"fillOpacity\": {\"value\": 1.0}\n",
    "        }\n",
    "      },\n",
    "      \"transform\": [\n",
    "        {\n",
    "          \"type\": \"wordcloud\",\n",
    "          \"size\": [{\"signal\": \"width\"}, {\"signal\": \"height\"}],\n",
    "          \"text\": {\"field\": \"text\"},\n",
    "          \"font\": \"Helvetica Neue, Arial\",\n",
    "          \"fontSize\": {\"field\": \"datum.freq\"},\n",
    "          \"fontSizeRange\": [12, 56],\n",
    "          \"padding\": 2\n",
    "        }\n",
    "      ]\n",
    "    }\n",
    "  ]\n",
    "}\"\"\"\n",
    "\n",
    "VegaLite.VGSpec(JSON.parse(word_cloud_spec))"
   ]
  },
  {
   "cell_type": "code",
   "execution_count": null,
   "metadata": {},
   "outputs": [],
   "source": []
  }
 ],
 "metadata": {
  "@webio": {
   "lastCommId": null,
   "lastKernelId": null
  },
  "kernelspec": {
   "display_name": "Julia 1.1.1",
   "language": "julia",
   "name": "julia-1.1"
  },
  "language_info": {
   "file_extension": ".jl",
   "mimetype": "application/julia",
   "name": "julia",
   "version": "1.1.1"
  }
 },
 "nbformat": 4,
 "nbformat_minor": 4
}
